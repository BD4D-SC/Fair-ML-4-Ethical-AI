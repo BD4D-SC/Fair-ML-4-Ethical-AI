{
 "cells": [
  {
   "cell_type": "markdown",
   "metadata": {},
   "source": [
    "<center>\n",
    "<a href=\"http://www.insa-toulouse.fr/\" ><img src=\"http://www.math.univ-toulouse.fr/~besse/Wikistat/Images/logo-insa.jpg\" style=\"float:left; max-width: 120px; display: inline\" alt=\"INSA\"/></a> \n",
    "\n",
    "<a href=\"http://www.univ-tlse3.fr/\" ><img src=\"http://www.univ-tlse3.fr/medias/photo/ut3pres_logoq_1372757033342.jpg?ID_FICHE=49702\" style=\"float:right; max-width: 250px; display: inline\" alt=\"INSA\"/></a> \n",
    "</center>"
   ]
  },
  {
   "cell_type": "markdown",
   "metadata": {},
   "source": [
    "# Biais et Discrimination en Apprentissage Statistique\n",
    "## Controverse sur le score de récidive aux USA:  equivant *vs.* Propublica \n",
    "\n",
    "### Résumé"
   ]
  },
  {
   "cell_type": "markdown",
   "metadata": {},
   "source": [
    "## 1 Introduction\n",
    "\n",
    "### 1.1 Données COMPAS\n",
    "La méthodologie de Propublica pour le recueil des données est décrite dans un article de [Larson et al. (2016)](https://www.propublica.org/article/how-we-analyzed-the-compas-recidivism-algorithm/). Le jeu de données étudié est  disponible sur leur [site officiel](https://www.propublica.org/article/how-we-analyzed-the-compas-recidivism-algorithm/).\n",
    "### 1.2 Objectifs\n",
    " Une version simpifiée de l'analyse de Propublica est décrite ci-dessous afin de se focaliser sur les questions de biais et donc de discrimination potentielle. Le processus de sélection des données est celui de Propublica avant de procéder à une decription élémentaire pour ensuite étudier et caractériser différents types de biais: \n",
    "- estimation par intervalle de confiance de l'effet disproportionné sur les données réelles, \n",
    "- même estimation de l'effet pour le score de récidive (COMPAS) *High vs. low* calculé par *equivant*,\n",
    "- puis sur le score prédit par une simple régression logistique,\n",
    "- comparaison des erreurs de prévision, COMPAS et régression logistique, selon l'origine ethnique, \n",
    "- caractérisation de l'asymétrie des matrices de confusion à l'aide d'un intervalle de confiance.\n",
    "\n",
    "C'est ce dernier point qui est à l'origine de la controverse entre *equivant* (Northpoint) et Propublica.\n",
    "\n",
    "## 2 Prise en charge des données\n",
    "### 2.1 Lecture\n",
    "\n"
   ]
  },
  {
   "cell_type": "code",
   "execution_count": 2,
   "metadata": {
    "scrolled": false
   },
   "outputs": [
    {
     "data": {
      "text/html": [
       "<ol class=list-inline>\n",
       "\t<li>7214</li>\n",
       "\t<li>53</li>\n",
       "</ol>\n"
      ],
      "text/latex": [
       "\\begin{enumerate*}\n",
       "\\item 7214\n",
       "\\item 53\n",
       "\\end{enumerate*}\n"
      ],
      "text/markdown": [
       "1. 7214\n",
       "2. 53\n",
       "\n",
       "\n"
      ],
      "text/plain": [
       "[1] 7214   53"
      ]
     },
     "metadata": {},
     "output_type": "display_data"
    }
   ],
   "source": [
    "# Quelques librairies utiles\n",
    "library(dplyr)\n",
    "library(ggplot2)\n",
    "library(grid)\n",
    "library(gridExtra)\n",
    "library(FactoMineR)\n",
    "# Lecture des données\n",
    "raw_data <- read.csv(\"./compas-scores-two-years.csv\")\n",
    "dim(raw_data)"
   ]
  },
  {
   "cell_type": "code",
   "execution_count": 3,
   "metadata": {},
   "outputs": [
    {
     "data": {
      "text/plain": [
       "       id                       name              first            last     \n",
       " Min.   :    1   anthony smith    :   3   michael    : 149   williams:  83  \n",
       " 1st Qu.: 2735   angel santiago   :   2   christopher: 109   johnson :  76  \n",
       " Median : 5510   anthony gonzalez :   2   james      :  84   brown   :  68  \n",
       " Mean   : 5501   anthony louis    :   2   anthony    :  83   smith   :  65  \n",
       " 3rd Qu.: 8246   brandon whitfield:   2   robert     :  76   jones   :  57  \n",
       " Max.   :11001   carlos vasquez   :   2   john       :  74   davis   :  46  \n",
       "                 (Other)          :7201   (Other)    :6639   (Other) :6819  \n",
       " compas_screening_date     sex               dob            age       \n",
       " 2013-02-20:  32       Female:1395   1987-02-04:   5   Min.   :18.00  \n",
       " 2013-03-20:  32       Male  :5819   1987-12-21:   5   1st Qu.:25.00  \n",
       " 2013-02-07:  31                     1989-04-27:   5   Median :31.00  \n",
       " 2013-04-20:  30                     1989-08-31:   5   Mean   :34.82  \n",
       " 2013-01-03:  29                     1990-02-22:   5   3rd Qu.:42.00  \n",
       " 2013-04-25:  28                     1990-05-02:   5   Max.   :96.00  \n",
       " (Other)   :7032                     (Other)   :7184                  \n",
       "            age_cat                   race      juv_fel_count     \n",
       " 25 - 45        :4109   African-American:3696   Min.   : 0.00000  \n",
       " Greater than 45:1576   Asian           :  32   1st Qu.: 0.00000  \n",
       " Less than 25   :1529   Caucasian       :2454   Median : 0.00000  \n",
       "                        Hispanic        : 637   Mean   : 0.06723  \n",
       "                        Native American :  18   3rd Qu.: 0.00000  \n",
       "                        Other           : 377   Max.   :20.00000  \n",
       "                                                                  \n",
       "  decile_score   juv_misd_count     juv_other_count    priors_count   \n",
       " Min.   : 1.00   Min.   : 0.00000   Min.   : 0.0000   Min.   : 0.000  \n",
       " 1st Qu.: 2.00   1st Qu.: 0.00000   1st Qu.: 0.0000   1st Qu.: 0.000  \n",
       " Median : 4.00   Median : 0.00000   Median : 0.0000   Median : 2.000  \n",
       " Mean   : 4.51   Mean   : 0.09093   Mean   : 0.1094   Mean   : 3.472  \n",
       " 3rd Qu.: 7.00   3rd Qu.: 0.00000   3rd Qu.: 0.0000   3rd Qu.: 5.000  \n",
       " Max.   :10.00   Max.   :13.00000   Max.   :17.0000   Max.   :38.000  \n",
       "                                                                      \n",
       " days_b_screening_arrest               c_jail_in                  c_jail_out  \n",
       " Min.   :-414.000                           : 307                      : 307  \n",
       " 1st Qu.:  -1.000        2013-01-01 01:31:55:   1   2013-09-12 10:31:00:   3  \n",
       " Median :  -1.000        2013-01-01 03:16:15:   1   2013-09-14 05:58:00:   3  \n",
       " Mean   :   3.305        2013-01-01 03:28:03:   1   2013-09-28 02:10:00:   3  \n",
       " 3rd Qu.:   0.000        2013-01-01 04:17:22:   1   2013-02-06 10:01:51:   2  \n",
       " Max.   :1057.000        2013-01-01 04:29:04:   1   2013-06-13 10:32:00:   2  \n",
       " NA's   :307             (Other)            :6902   (Other)            :6894  \n",
       "       c_case_number     c_offense_date    c_arrest_date  c_days_from_compas\n",
       "              :  22             :1159             :6077   Min.   :   0.00   \n",
       " 00004068CF10A:   1   2013-01-14:  26   2013-02-06:   9   1st Qu.:   1.00   \n",
       " 00022077MM10A:   1   2013-02-22:  26   2013-03-22:   8   Median :   1.00   \n",
       " 01004839CF10A:   1   2013-03-01:  24   2013-05-15:   8   Mean   :  57.73   \n",
       " 01006487CF10D:   1   2013-01-11:  23   2013-01-10:   7   3rd Qu.:   2.00   \n",
       " 01007205MM10A:   1   2013-02-16:  23   2013-01-11:   7   Max.   :9485.00   \n",
       " (Other)      :7187   (Other)   :5933   (Other)   :1098   NA's   :22        \n",
       " c_charge_degree                       c_charge_desc     is_recid     \n",
       " F:4666          Battery                      :1156   Min.   :0.0000  \n",
       " M:2548          arrest case no charge        :1137   1st Qu.:0.0000  \n",
       "                 Possession of Cocaine        : 474   Median :0.0000  \n",
       "                 Grand Theft in the 3rd Degree: 425   Mean   :0.4811  \n",
       "                 Driving While License Revoked: 200   3rd Qu.:1.0000  \n",
       "                 Driving Under The Influence  : 135   Max.   :1.0000  \n",
       "                 (Other)                      :3687                   \n",
       "       r_case_number  r_charge_degree r_days_from_arrest    r_offense_date\n",
       "              :3743          :3743    Min.   : -1.00               :3743  \n",
       " 13000349MM10A:   1   (M1)   :1201    1st Qu.:  0.00     2014-12-08:  12  \n",
       " 13000445MM20A:   1   (M2)   :1107    Median :  0.00     2015-01-28:  11  \n",
       " 13000677MM20A:   1   (F3)   : 892    Mean   : 20.27     2014-09-15:  10  \n",
       " 13000758MM30A:   1   (F2)   : 168    3rd Qu.:  1.00     2014-10-17:  10  \n",
       " 13000785MM30A:   1   (F1)   :  51    Max.   :993.00     2015-02-10:  10  \n",
       " (Other)      :3466   (Other):  52    NA's   :4898       (Other)   :3418  \n",
       "                           r_charge_desc       r_jail_in         r_jail_out  \n",
       "                                  :3801             :4898             :4898  \n",
       " Driving License Suspended        : 258   2014-05-27:   9   2014-02-18:   9  \n",
       " Possess Cannabis/20 Grams Or Less: 253   2013-11-22:   8   2014-12-09:   9  \n",
       " Resist/Obstruct W/O Violence     : 201   2014-06-05:   8   2015-05-15:   9  \n",
       " Battery                          : 192   2014-07-10:   8   2013-11-13:   8  \n",
       " Operating W/O Valid License      : 172   2014-10-17:   8   2014-07-11:   8  \n",
       " (Other)                          :2337   (Other)   :2275   (Other)   :2273  \n",
       " violent_recid  is_violent_recid       vr_case_number vr_charge_degree\n",
       " Mode:logical   Min.   :0.0000                :6395          :6395    \n",
       " NA's:7214      1st Qu.:0.0000   13001383CF10A:   1   (M1)   : 344    \n",
       "                Median :0.0000   13001876CF10A:   1   (F3)   : 228    \n",
       "                Mean   :0.1135   13002119CF10A:   1   (F2)   : 162    \n",
       "                3rd Qu.:0.0000   13002546CF10A:   1   (F1)   :  38    \n",
       "                Max.   :1.0000   13003421CF10A:   1   (M2)   :  19    \n",
       "                                 (Other)      : 814   (Other):  28    \n",
       "   vr_offense_date                        vr_charge_desc\n",
       "           :6395                                 :6395  \n",
       " 2015-08-15:   6   Battery                       : 329  \n",
       " 2013-11-14:   4   Battery on Law Enforc Officer :  38  \n",
       " 2014-02-18:   4   Felony Battery (Dom Strang)   :  38  \n",
       " 2014-10-29:   4   Aggravated Assault W/Dead Weap:  37  \n",
       " 2014-12-26:   4   Aggrav Battery w/Deadly Weapon:  34  \n",
       " (Other)   : 797   (Other)                       : 343  \n",
       "          type_of_assessment decile_score.1   score_text      screening_date\n",
       " Risk of Recidivism:7214     Min.   : 1.00   High  :1403   2013-02-20:  32  \n",
       "                             1st Qu.: 2.00   Low   :3897   2013-03-20:  32  \n",
       "                             Median : 4.00   Medium:1914   2013-02-07:  31  \n",
       "                             Mean   : 4.51                 2013-04-20:  30  \n",
       "                             3rd Qu.: 7.00                 2013-01-03:  29  \n",
       "                             Max.   :10.00                 2013-04-25:  28  \n",
       "                                                           (Other)   :7032  \n",
       "       v_type_of_assessment v_decile_score   v_score_text    v_screening_date\n",
       " Risk of Violence:7214      Min.   : 1.000   High  : 714   2013-02-20:  32   \n",
       "                            1st Qu.: 1.000   Low   :4761   2013-03-20:  32   \n",
       "                            Median : 3.000   Medium:1739   2013-02-07:  31   \n",
       "                            Mean   : 3.692                 2013-04-20:  30   \n",
       "                            3rd Qu.: 5.000                 2013-01-03:  29   \n",
       "                            Max.   :10.000                 2013-04-25:  28   \n",
       "                                                           (Other)   :7032   \n",
       "      in_custody       out_custody   priors_count.1       start       \n",
       "           : 236             : 236   Min.   : 0.000   Min.   :  0.00  \n",
       " 2013-02-22:  20   2020-01-01:  61   1st Qu.: 0.000   1st Qu.:  0.00  \n",
       " 2013-12-12:  20   2013-05-14:  25   Median : 2.000   Median :  0.00  \n",
       " 2014-01-04:  20   2014-02-04:  24   Mean   : 3.472   Mean   : 11.47  \n",
       " 2014-01-22:  20   2013-11-26:  23   3rd Qu.: 5.000   3rd Qu.:  1.00  \n",
       " 2013-01-27:  19   2013-02-15:  21   Max.   :38.000   Max.   :937.00  \n",
       " (Other)   :6879   (Other)   :6824                                    \n",
       "      end             event        two_year_recid  \n",
       " Min.   :   0.0   Min.   :0.0000   Min.   :0.0000  \n",
       " 1st Qu.: 148.2   1st Qu.:0.0000   1st Qu.:0.0000  \n",
       " Median : 530.5   Median :0.0000   Median :0.0000  \n",
       " Mean   : 553.4   Mean   :0.3829   Mean   :0.4507  \n",
       " 3rd Qu.: 914.0   3rd Qu.:1.0000   3rd Qu.:1.0000  \n",
       " Max.   :1186.0   Max.   :1.0000   Max.   :1.0000  \n",
       "                                                   "
      ]
     },
     "metadata": {},
     "output_type": "display_data"
    }
   ],
   "source": [
    "summary(raw_data)"
   ]
  },
  {
   "cell_type": "markdown",
   "metadata": {},
   "source": [
    "### 2.2 Préparation des données\n",
    "\n",
    "Elimination de certaines lignes en suivant le processus de Propublica. \n",
    "* If the charge date of a defendants Compas scored crime was not within 30 days from when the person was arrested, we assume that because of data quality reasons, that we do not have the right offense.\n",
    "* We coded the recidivist flag -- `is_recid` -- to be -1 if we could not find a compas case at all.\n",
    "* In a similar vein, ordinary traffic offenses -- those with a `c_charge_degree` of 'O' -- will not result in Jail time are removed (only two of them).\n",
    "* We filtered the underlying data from Broward county to include only those rows representing people who had either recidivated in two years, or had at least two years outside of a correctional facility."
   ]
  },
  {
   "cell_type": "code",
   "execution_count": 4,
   "metadata": {},
   "outputs": [
    {
     "data": {
      "text/html": [
       "<ol class=list-inline>\n",
       "\t<li>6172</li>\n",
       "\t<li>14</li>\n",
       "</ol>\n"
      ],
      "text/latex": [
       "\\begin{enumerate*}\n",
       "\\item 6172\n",
       "\\item 14\n",
       "\\end{enumerate*}\n"
      ],
      "text/markdown": [
       "1. 6172\n",
       "2. 14\n",
       "\n",
       "\n"
      ],
      "text/plain": [
       "[1] 6172   14"
      ]
     },
     "metadata": {},
     "output_type": "display_data"
    }
   ],
   "source": [
    "df <- dplyr::select(raw_data, age, c_charge_degree, race, age_cat, score_text, sex, priors_count, \n",
    "        days_b_screening_arrest, decile_score, is_recid, two_year_recid, c_jail_in, c_jail_out,v_decile_score) %>% \n",
    "        filter(days_b_screening_arrest <= 30) %>%\n",
    "        filter(days_b_screening_arrest >= -30) %>%\n",
    "        filter(is_recid != -1) %>%\n",
    "        filter(c_charge_degree != \"O\") %>%\n",
    "        filter(score_text != 'N/A')\n",
    "dim(df)"
   ]
  },
  {
   "cell_type": "code",
   "execution_count": 5,
   "metadata": {},
   "outputs": [
    {
     "data": {
      "text/plain": [
       "      age        c_charge_degree             origEthn               age_cat    \n",
       " Min.   :18.00   F:3970          African-American:3175   25 - 45        :3532  \n",
       " 1st Qu.:25.00   M:2202          Asian           :  31   Greater than 45:1293  \n",
       " Median :31.00                   Caucasian       :2103   Less than 25   :1347  \n",
       " Mean   :34.53                   Hispanic        : 509                         \n",
       " 3rd Qu.:42.00                   Native American :  11                         \n",
       " Max.   :96.00                   Other           : 343                         \n",
       "                                                                               \n",
       "  score_text       sex        priors_count    days_b_screening_arrest\n",
       " High  :1144   Female:1175   Min.   : 0.000   Min.   :-30.00         \n",
       " Low   :3421   Male  :4997   1st Qu.: 0.000   1st Qu.: -1.00         \n",
       " Medium:1607                 Median : 1.000   Median : -1.00         \n",
       "                             Mean   : 3.246   Mean   : -1.74         \n",
       "                             3rd Qu.: 4.000   3rd Qu.: -1.00         \n",
       "                             Max.   :38.000   Max.   : 30.00         \n",
       "                                                                     \n",
       "  decile_score       is_recid      two_year_recid                 c_jail_in   \n",
       " Min.   : 1.000   Min.   :0.0000   Min.   :0.0000   2013-01-01 01:31:55:   1  \n",
       " 1st Qu.: 2.000   1st Qu.:0.0000   1st Qu.:0.0000   2013-01-01 03:16:15:   1  \n",
       " Median : 4.000   Median :0.0000   Median :0.0000   2013-01-01 03:28:03:   1  \n",
       " Mean   : 4.419   Mean   :0.4844   Mean   :0.4551   2013-01-01 04:17:22:   1  \n",
       " 3rd Qu.: 7.000   3rd Qu.:1.0000   3rd Qu.:1.0000   2013-01-01 04:29:04:   1  \n",
       " Max.   :10.000   Max.   :1.0000   Max.   :1.0000   2013-01-01 05:08:53:   1  \n",
       "                                                    (Other)            :6166  \n",
       "               c_jail_out   v_decile_score  \n",
       " 2013-09-14 05:58:00:   3   Min.   : 1.000  \n",
       " 2013-02-06 10:01:51:   2   1st Qu.: 1.000  \n",
       " 2013-08-13 10:05:00:   2   Median : 3.000  \n",
       " 2013-09-14 05:54:00:   2   Mean   : 3.642  \n",
       " 2013-09-23 08:25:00:   2   3rd Qu.: 5.000  \n",
       " 2013-11-09 02:08:17:   2   Max.   :10.000  \n",
       " (Other)            :6159                   "
      ]
     },
     "metadata": {},
     "output_type": "display_data"
    }
   ],
   "source": [
    "# renommer la variable \"race\"\n",
    "colnames(df)[3]='origEthn'\n",
    "summary(df)"
   ]
  },
  {
   "cell_type": "code",
   "execution_count": 6,
   "metadata": {
    "scrolled": true
   },
   "outputs": [
    {
     "name": "stdout",
     "output_type": "stream",
     "text": [
      "'data.frame':\t6172 obs. of  14 variables:\n",
      " $ age                    : int  69 34 24 44 41 43 39 27 23 37 ...\n",
      " $ c_charge_degree        : Factor w/ 2 levels \"F\",\"M\": 1 1 1 2 1 1 2 1 2 2 ...\n",
      " $ origEthn               : Factor w/ 6 levels \"African-American\",..: 6 1 1 6 3 6 3 3 1 3 ...\n",
      " $ age_cat                : Factor w/ 3 levels \"25 - 45\",\"Greater than 45\",..: 2 1 3 1 1 1 1 1 3 1 ...\n",
      " $ score_text             : Factor w/ 3 levels \"High\",\"Low\",\"Medium\": 2 2 2 2 3 2 2 2 3 2 ...\n",
      " $ sex                    : Factor w/ 2 levels \"Female\",\"Male\": 2 2 2 2 2 2 1 2 2 1 ...\n",
      " $ priors_count           : int  0 0 4 0 14 3 0 0 3 0 ...\n",
      " $ days_b_screening_arrest: int  -1 -1 -1 0 -1 -1 -1 -1 0 0 ...\n",
      " $ decile_score           : int  1 3 4 1 6 4 1 4 6 1 ...\n",
      " $ is_recid               : int  0 1 1 0 1 0 0 0 1 0 ...\n",
      " $ two_year_recid         : int  0 1 1 0 1 0 0 0 1 0 ...\n",
      " $ c_jail_in              : Factor w/ 6908 levels \"\",\"2013-01-01 01:31:55\",..: 3032 454 1838 4434 5450 3273 5707 4391 3735 4 ...\n",
      " $ c_jail_out             : Factor w/ 6881 levels \"\",\"2013-01-02 01:12:01\",..: 2784 454 1568 4230 5320 3015 5579 4171 3522 4 ...\n",
      " $ v_decile_score         : int  1 1 3 1 2 3 1 4 4 1 ...\n"
     ]
    }
   ],
   "source": [
    "str(df)"
   ]
  },
  {
   "cell_type": "markdown",
   "metadata": {},
   "source": [
    "## 3 Exploration statistique\n",
    "\n",
    "### 3.1 Description Univariée\n",
    "\n",
    "Représentation des distributions des différentes variables.\n",
    "\n",
    "#### Variables quantitatives"
   ]
  },
  {
   "cell_type": "code",
   "execution_count": 7,
   "metadata": {
    "scrolled": true
   },
   "outputs": [
    {
     "data": {
      "image/png": "[encoded data removed]",
      "text/plain": [
       "Plot with title “Histogram of df[, \"decile_score\"]”"
      ]
     },
     "metadata": {},
     "output_type": "display_data"
    }
   ],
   "source": [
    "par(mfrow=c(2,3))\n",
    "options(repr.plot.width=12, repr.plot.height=6)\n",
    "hist(df[,'age']); hist(df[,'priors_count']); hist(df[,'decile_score'])\n",
    "boxplot(df[,'age']); boxplot(df[,'priors_count']); boxplot(df[,'decile_score'])"
   ]
  },
  {
   "cell_type": "markdown",
   "metadata": {},
   "source": [
    "Des distributions ne sont pas symmétriques mais, pour rester cohérent avec l'analyse de Propublica aucune transformation n'est appliquée sur ces variables.\n",
    "#### Variables qualitatives"
   ]
  },
  {
   "cell_type": "code",
   "execution_count": 8,
   "metadata": {},
   "outputs": [],
   "source": [
    "df$two_year_recid=as.factor(df$two_year_recid)\n",
    "df$is_recid=as.factor(df$is_recid)\n",
    "two_year_recid=ggplot(data=df, aes(x=two_year_recid))+geom_bar(width=0.2)\n",
    "is_recid=ggplot(data=df, aes(x=is_recid))+geom_bar(width=0.2)\n",
    "origEthn=ggplot(data=df, aes(x=origEthn))+geom_bar(width=0.2)\n",
    "age_cat=ggplot(data=df, aes(x=age_cat))+geom_bar(width=0.2)\n",
    "sex=ggplot(data=df, aes(x=sex))+geom_bar(width=0.2)\n",
    "c_charge_degree=ggplot(data=df, aes(x=c_charge_degree))+geom_bar(width=0.2)\n",
    "score_text=ggplot(data=df, aes(x=score_text))+geom_bar(width=0.2)"
   ]
  },
  {
   "cell_type": "code",
   "execution_count": 9,
   "metadata": {
    "scrolled": true
   },
   "outputs": [
    {
     "data": {
      "image/png": "[encoded data removed]",
      "text/plain": [
       "plot without title"
      ]
     },
     "metadata": {},
     "output_type": "display_data"
    }
   ],
   "source": [
    "options(repr.plot.width=8,repr.plot.height=2)\n",
    "grid.arrange(two_year_recid,is_recid,sex,nrow=1)"
   ]
  },
  {
   "cell_type": "code",
   "execution_count": 10,
   "metadata": {
    "scrolled": true
   },
   "outputs": [
    {
     "data": {
      "image/png": "[encoded data removed]",
      "text/plain": [
       "plot without title"
      ]
     },
     "metadata": {},
     "output_type": "display_data"
    }
   ],
   "source": [
    "options(repr.plot.width=13,repr.plot.height=2)\n",
    "grid.arrange(origEthn,age_cat,c_charge_degree,score_text,nrow=1)"
   ]
  },
  {
   "cell_type": "markdown",
   "metadata": {},
   "source": [
    "La répartition des origines ethniques sont déséquilibrées; seules deux classes sont ensuite considées\n",
    "- `African-American`\n",
    "- `Caucasian`\n",
    "\n",
    "en laissant de côté les origines hispaniques, asiatiques, amérindiennes et autres.\n"
   ]
  },
  {
   "cell_type": "code",
   "execution_count": 11,
   "metadata": {},
   "outputs": [
    {
     "data": {
      "text/plain": [
       "      age        c_charge_degree             origEthn               age_cat    \n",
       " Min.   :18.00   F:3440          African-American:3175   25 - 45        :3026  \n",
       " 1st Qu.:25.00   M:1838          Caucasian       :2103   Greater than 45:1096  \n",
       " Median :31.00                                           Less than 25   :1156  \n",
       " Mean   :34.45                                                                 \n",
       " 3rd Qu.:42.00                                                                 \n",
       " Max.   :80.00                                                                 \n",
       "                                                                               \n",
       "  score_text       sex        priors_count    days_b_screening_arrest\n",
       " High  :1068   Female:1031   Min.   : 0.000   Min.   :-30.00         \n",
       " Low   :2753   Male  :4247   1st Qu.: 0.000   1st Qu.: -1.00         \n",
       " Medium:1457                 Median : 2.000   Median : -1.00         \n",
       "                             Mean   : 3.462   Mean   : -1.73         \n",
       "                             3rd Qu.: 5.000   3rd Qu.: -1.00         \n",
       "                             Max.   :38.000   Max.   : 30.00         \n",
       "                                                                     \n",
       "  decile_score    is_recid two_year_recid               c_jail_in   \n",
       " Min.   : 1.000   0:2631   0:2795         2013-01-01 01:31:55:   1  \n",
       " 1st Qu.: 2.000   1:2647   1:2483         2013-01-01 03:16:15:   1  \n",
       " Median : 4.000                           2013-01-01 03:28:03:   1  \n",
       " Mean   : 4.623                           2013-01-01 04:17:22:   1  \n",
       " 3rd Qu.: 7.000                           2013-01-01 04:29:04:   1  \n",
       " Max.   :10.000                           2013-01-01 05:21:55:   1  \n",
       "                                          (Other)            :5272  \n",
       "               c_jail_out   v_decile_score  \n",
       " 2013-09-14 05:58:00:   3   Min.   : 1.000  \n",
       " 2013-02-06 10:01:51:   2   1st Qu.: 2.000  \n",
       " 2013-08-13 10:05:00:   2   Median : 3.000  \n",
       " 2013-09-14 05:54:00:   2   Mean   : 3.763  \n",
       " 2013-11-09 02:08:17:   2   3rd Qu.: 6.000  \n",
       " 2013-11-20 04:58:00:   2   Max.   :10.000  \n",
       " (Other)            :5265                   "
      ]
     },
     "metadata": {},
     "output_type": "display_data"
    }
   ],
   "source": [
    "df_f=droplevels(df[df$origEthn ==\"Caucasian\" | df$origEthn ==\"African-American\",])\n",
    "summary(df_f)"
   ]
  },
  {
   "cell_type": "markdown",
   "metadata": {},
   "source": [
    "### 3.2 Description bivariée\n",
    "#### Mosaicplots\n",
    "Les variables `two_year_recid`  et `is_recid` sont redondantes; la première n'est plus considérée."
   ]
  },
  {
   "cell_type": "code",
   "execution_count": 12,
   "metadata": {
    "scrolled": true
   },
   "outputs": [
    {
     "data": {
      "text/plain": [
       "   \n",
       "       0    1\n",
       "  0 2631    0\n",
       "  1  164 2483"
      ]
     },
     "metadata": {},
     "output_type": "display_data"
    }
   ],
   "source": [
    "table(df_f$is_recid,df_f$two_year_recid)"
   ]
  },
  {
   "cell_type": "code",
   "execution_count": 13,
   "metadata": {},
   "outputs": [
    {
     "data": {
      "image/png": "[encoded data removed]",
      "text/plain": [
       "Plot with title “”"
      ]
     },
     "metadata": {},
     "output_type": "display_data"
    }
   ],
   "source": [
    "options(repr.plot.width=4,repr.plot.height=4)\n",
    "mosaicplot(table(df_f$origEthn,df_f$sex),main=\"\")"
   ]
  },
  {
   "cell_type": "markdown",
   "metadata": {},
   "source": [
    "Les femmes sont bien moins nombreuses et aussi proportionnellement moins présentes parmis les afro-américaines."
   ]
  },
  {
   "cell_type": "code",
   "execution_count": 14,
   "metadata": {},
   "outputs": [
    {
     "data": {
      "image/png": "[encoded data removed]",
      "text/plain": [
       "Plot with title “”"
      ]
     },
     "metadata": {},
     "output_type": "display_data"
    }
   ],
   "source": [
    "mosaicplot(table(df_f$origEthn,df_f$age_cat),main=\"\")"
   ]
  },
  {
   "cell_type": "markdown",
   "metadata": {},
   "source": [
    "Il y'a  proportionnellement plus de jeunes parmi les afro-américains."
   ]
  },
  {
   "cell_type": "code",
   "execution_count": 15,
   "metadata": {},
   "outputs": [
    {
     "data": {
      "image/png": "[encoded data removed]",
      "text/plain": [
       "Plot with title “”"
      ]
     },
     "metadata": {},
     "output_type": "display_data"
    }
   ],
   "source": [
    "mosaicplot(table(df_f$origEthn,df_f$is_recid),main=\"\")"
   ]
  },
  {
   "cell_type": "markdown",
   "metadata": {},
   "source": [
    "Et aussi proportionnellement plus de récidivistes. C'est un biais social connu et une information importante à retenir pour la suite."
   ]
  },
  {
   "cell_type": "code",
   "execution_count": 16,
   "metadata": {},
   "outputs": [
    {
     "data": {
      "image/png": "[encoded data removed]",
      "text/plain": [
       "Plot with title “”"
      ]
     },
     "metadata": {},
     "output_type": "display_data"
    }
   ],
   "source": [
    "mosaicplot(table(df_f$origEthn,df_f$c_charge_degree),main=\"\")"
   ]
  },
  {
   "cell_type": "markdown",
   "metadata": {},
   "source": [
    "Même interprétation que précédemment cette fois sur le degré de l'infraction commise qui peut être élevé (F) ou faible(M)."
   ]
  },
  {
   "cell_type": "code",
   "execution_count": 17,
   "metadata": {},
   "outputs": [
    {
     "data": {
      "image/png": "[encoded data removed]",
      "text/plain": [
       "Plot with title “”"
      ]
     },
     "metadata": {},
     "output_type": "display_data"
    }
   ],
   "source": [
    "options(repr.plot.width=4,repr.plot.height=4)\n",
    "mosaicplot(table(df_f$origEthn,df_f$score_text),main='')"
   ]
  },
  {
   "cell_type": "markdown",
   "metadata": {},
   "source": [
    "De façon analogue, les afro-américains sont proportionnellement plus associés à un score élevé (High) de récidive."
   ]
  },
  {
   "cell_type": "markdown",
   "metadata": {},
   "source": [
    "\n",
    "### 3.3 Description Multivariée\n",
    "\n",
    "Une [Analyse Factorielle des Corresponsances Multiples](http://wikistat.fr/pdf/st-m-explo-afcm.pdf) est adaptée à la représentation des modalités de variables qualitatives."
   ]
  },
  {
   "cell_type": "code",
   "execution_count": 18,
   "metadata": {},
   "outputs": [],
   "source": [
    "df_quali=subset(df_f,select=c('is_recid','sex','origEthn','age_cat','c_charge_degree','score_text'))\n",
    "afcm=MCA(df_quali,graph=FALSE)"
   ]
  },
  {
   "cell_type": "code",
   "execution_count": 19,
   "metadata": {},
   "outputs": [
    {
     "data": {
      "image/png": "[encoded data removed]",
      "text/plain": [
       "Plot with title “”"
      ]
     },
     "metadata": {},
     "output_type": "display_data"
    }
   ],
   "source": [
    "options(repr.plot.width=5, repr.plot.height=5)\n",
    "plot.MCA(afcm,invisible='ind',habillage=\"quali\", title=\"\")"
   ]
  },
  {
   "cell_type": "markdown",
   "metadata": {},
   "source": [
    "Ce graphique représente assez simplement les correspondances entre les modalités et donc globalement les liens entre les variables. La non récidive (à droite) concerne particulièrement les personnes plus agées, de sexe plutôt féminin, d'origine caucasienne avec un faible score COMPAS. Attention, cette analyse élémentaire ne prend pas en compte d'éventuelles interaction de niveau plus important que 2 entre les variables."
   ]
  },
  {
   "cell_type": "markdown",
   "metadata": {},
   "source": [
    "### 3.4 Simplification des données\n",
    "Dans tous ce qui suit, la variable `score_text` est recodée en deux modalités:\n",
    "- 1 = `low` (la classe favorable),\n",
    "- 0 = `high` et `medium`;\n",
    "\n",
    "de même que la variable `two_year_recid`.\n",
    "\n",
    "*NB* Les codes des classes 0 et 1 sont échangées par rapport aux notations de Propublica dans un souci d'uniformisation par rapport aux méthodes implémentées par la suite: `1` code la situation la plus \"favorable\" c'est-à-dire un faible score de récidive d'une part, une absence de récidive d'autre part."
   ]
  },
  {
   "cell_type": "code",
   "execution_count": 20,
   "metadata": {},
   "outputs": [
    {
     "data": {
      "text/plain": [
       "      age        c_charge_degree             origEthn               age_cat    \n",
       " Min.   :18.00   F:3440          African-American:3175   25 - 45        :3026  \n",
       " 1st Qu.:25.00   M:1838          Caucasian       :2103   Greater than 45:1096  \n",
       " Median :31.00                                           Less than 25   :1156  \n",
       " Mean   :34.45                                                                 \n",
       " 3rd Qu.:42.00                                                                 \n",
       " Max.   :80.00                                                                 \n",
       "                                                                               \n",
       "  score_text       sex        priors_count    days_b_screening_arrest\n",
       " High  :1068   Female:1031   Min.   : 0.000   Min.   :-30.00         \n",
       " Low   :2753   Male  :4247   1st Qu.: 0.000   1st Qu.: -1.00         \n",
       " Medium:1457                 Median : 2.000   Median : -1.00         \n",
       "                             Mean   : 3.462   Mean   : -1.73         \n",
       "                             3rd Qu.: 5.000   3rd Qu.: -1.00         \n",
       "                             Max.   :38.000   Max.   : 30.00         \n",
       "                                                                     \n",
       "  decile_score    is_recid two_year_recid               c_jail_in   \n",
       " Min.   : 1.000   0:2631   0:2795         2013-01-01 01:31:55:   1  \n",
       " 1st Qu.: 2.000   1:2647   1:2483         2013-01-01 03:16:15:   1  \n",
       " Median : 4.000                           2013-01-01 03:28:03:   1  \n",
       " Mean   : 4.623                           2013-01-01 04:17:22:   1  \n",
       " 3rd Qu.: 7.000                           2013-01-01 04:29:04:   1  \n",
       " Max.   :10.000                           2013-01-01 05:21:55:   1  \n",
       "                                          (Other)            :5272  \n",
       "               c_jail_out   v_decile_score   score_bin two_year_recid_bin\n",
       " 2013-09-14 05:58:00:   3   Min.   : 1.000   0:2525    0:2483            \n",
       " 2013-02-06 10:01:51:   2   1st Qu.: 2.000   1:2753    1:2795            \n",
       " 2013-08-13 10:05:00:   2   Median : 3.000                               \n",
       " 2013-09-14 05:54:00:   2   Mean   : 3.763                               \n",
       " 2013-11-09 02:08:17:   2   3rd Qu.: 6.000                               \n",
       " 2013-11-20 04:58:00:   2   Max.   :10.000                               \n",
       " (Other)            :5265                                                "
      ]
     },
     "metadata": {},
     "output_type": "display_data"
    }
   ],
   "source": [
    "score_bin=as.factor(ifelse(df_f$score_text=='Low',1,0))\n",
    "two_year_recid_bin=as.factor(ifelse(df_f$two_year_recid=='1',0,1))\n",
    "df_t=data.frame(df_f,score_bin,two_year_recid_bin)\n",
    "summary(df_t)"
   ]
  },
  {
   "cell_type": "code",
   "execution_count": 93,
   "metadata": {},
   "outputs": [
    {
     "data": {
      "text/plain": [
       "   \n",
       "       0    1\n",
       "  0 2631  164\n",
       "  1    0 2483"
      ]
     },
     "metadata": {},
     "output_type": "display_data"
    }
   ],
   "source": [
    "table(df_f$two_year_recid,df_f$is_recid)"
   ]
  },
  {
   "cell_type": "markdown",
   "metadata": {},
   "source": [
    "## 4 Biais et discriminations\n",
    "Différents critères de biais ou discrimination sont évalués; trois niveaux sont successivement considérés.\n",
    "\n",
    "1. L'effet disproportionné (*disparate impact*) est couramment utilisés pour détecter aux USA une discrimination indirecte ou implicite ou envers un groupe pour l'accès à l'emploi ou un logement. Il est estimé par intervalle de confiance (Besse et al. 2008) en fonction des répartitions par origine des\n",
    "    - récidives afin de mettre en évidence des biais déjà présents dans les données, \n",
    "    - prévisions de récidive issues du score Compas afin dévaluer si la prévision répercute ou renforce ce biais.\n",
    "2. La comparaison des erreurs de prévision conditionnellement à l'origine etnique. \n",
    "3. Enfin, selon la démarche de Propublica, c'est l'assymétrie des matrices de confusion selon l'origine ethnique qui est étudiée."
   ]
  },
  {
   "cell_type": "markdown",
   "metadata": {},
   "source": [
    "### 4.1 *Disparate Impact* ou effet disproportionné\n",
    "\n",
    "Deux niveaux de mesures de discrimination sont considérées. Le premier: *discrimination assessment* ou DA est calculé sur les données d'apprentissage afin d'évaluer le biais discriminatoire déjà présent dans les données. Le deuxième mesure l'impact d'un modèle ou algorithme sur la discrimination: *discrimination impact assessment* ou DIA. \n",
    "\n",
    "Les mesures de discrimination indirecte ou de groupe sont basées sur un critère d'effet disproportionné ou *disparate impact* (*DI*). Ce critère est défini par le rapport de deux probabilités. \n",
    "\n",
    "*Notations*: \n",
    "\n",
    "- $Y$ est la variable cible ou à expliquer, ici la récidive, $Y=1$ pas de récidive *vs* $Y=0$; \n",
    "- $\\hat{Y}$ le score de récidive élevé ou faible ou prévision de la récidive, $\\hat{Y}=0$: prévision d'une récidive;\n",
    "- $S$ est la variable sensible qui désigne le groupe en principe protégé par la loi contre une possible discrimination. Il s'agit ici de l'origine ethnique réduite à 2 modalités: caucasien ($S=1$) ou afro-américain ($S=0$). \n",
    "\n",
    "$$DI=\\frac{P(Y=1|S=0)}{P(Y=1|S=1)}.$$\n",
    "\n",
    "Cette quantité est estimée à partir des valeurs de la table de contingence croisant les variables $Y$ et $S$.\n",
    "\n",
    "*Fonction* `disparate`\n",
    "\n",
    "Une fonction R estime cette quantité et fournit de plus une estimation par intervalle de confiance (Besse et al. 2018) du *DI*. Cette  fonction a trois arguments:   \n",
    "- une matrice $X$ de valeurs binaires $(0,1)$ dont la dernière colonne contient la décision $Y$ ou cible à analyser;\n",
    "- l'indice $S$ de la variable de $X$ considérée comme sensible; \n",
    "- le risque de l'intervalle de confiance, par défaut 5%.\n",
    "\n",
    "Elle renvoie les trois estimations $DI$ et $IC_g$, $IC_d$ bornes de l'intervalle de confiance."
   ]
  },
  {
   "cell_type": "code",
   "execution_count": 21,
   "metadata": {},
   "outputs": [
    {
     "data": {
      "text/html": [
       "<table>\n",
       "<thead><tr><th></th><th scope=col>OrigEthn</th><th scope=col>Ycompas</th><th scope=col>Y</th><th scope=col>origEthn</th><th scope=col>decile_score</th><th scope=col>two_year_recid</th></tr></thead>\n",
       "<tbody>\n",
       "\t<tr><th scope=row>8</th><td>1               </td><td>1               </td><td>1               </td><td>Caucasian       </td><td> 4              </td><td>0               </td></tr>\n",
       "\t<tr><th scope=row>9</th><td>0               </td><td>0               </td><td>0               </td><td>African-American</td><td> 6              </td><td>1               </td></tr>\n",
       "\t<tr><th scope=row>10</th><td>1               </td><td>1               </td><td>1               </td><td>Caucasian       </td><td> 1              </td><td>0               </td></tr>\n",
       "\t<tr><th scope=row>11</th><td>0               </td><td>1               </td><td>1               </td><td>African-American</td><td> 4              </td><td>0               </td></tr>\n",
       "\t<tr><th scope=row>12</th><td>1               </td><td>1               </td><td>0               </td><td>Caucasian       </td><td> 1              </td><td>1               </td></tr>\n",
       "\t<tr><th scope=row>13</th><td>0               </td><td>1               </td><td>0               </td><td>African-American</td><td> 3              </td><td>1               </td></tr>\n",
       "\t<tr><th scope=row>15</th><td>0               </td><td>0               </td><td>1               </td><td>African-American</td><td>10              </td><td>0               </td></tr>\n",
       "\t<tr><th scope=row>16</th><td>1               </td><td>0               </td><td>0               </td><td>Caucasian       </td><td> 5              </td><td>1               </td></tr>\n",
       "\t<tr><th scope=row>17</th><td>1               </td><td>1               </td><td>0               </td><td>Caucasian       </td><td> 3              </td><td>1               </td></tr>\n",
       "\t<tr><th scope=row>18</th><td>0               </td><td>0               </td><td>0               </td><td>African-American</td><td> 6              </td><td>1               </td></tr>\n",
       "\t<tr><th scope=row>19</th><td>0               </td><td>0               </td><td>0               </td><td>African-American</td><td> 9              </td><td>1               </td></tr>\n",
       "</tbody>\n",
       "</table>\n"
      ],
      "text/latex": [
       "\\begin{tabular}{r|llllll}\n",
       "  & OrigEthn & Ycompas & Y & origEthn & decile\\_score & two\\_year\\_recid\\\\\n",
       "\\hline\n",
       "\t8 & 1                & 1                & 1                & Caucasian        &  4               & 0               \\\\\n",
       "\t9 & 0                & 0                & 0                & African-American &  6               & 1               \\\\\n",
       "\t10 & 1                & 1                & 1                & Caucasian        &  1               & 0               \\\\\n",
       "\t11 & 0                & 1                & 1                & African-American &  4               & 0               \\\\\n",
       "\t12 & 1                & 1                & 0                & Caucasian        &  1               & 1               \\\\\n",
       "\t13 & 0                & 1                & 0                & African-American &  3               & 1               \\\\\n",
       "\t15 & 0                & 0                & 1                & African-American & 10               & 0               \\\\\n",
       "\t16 & 1                & 0                & 0                & Caucasian        &  5               & 1               \\\\\n",
       "\t17 & 1                & 1                & 0                & Caucasian        &  3               & 1               \\\\\n",
       "\t18 & 0                & 0                & 0                & African-American &  6               & 1               \\\\\n",
       "\t19 & 0                & 0                & 0                & African-American &  9               & 1               \\\\\n",
       "\\end{tabular}\n"
      ],
      "text/markdown": [
       "\n",
       "| <!--/--> | OrigEthn | Ycompas | Y | origEthn | decile_score | two_year_recid |\n",
       "|---|---|---|---|---|---|---|\n",
       "| 8 | 1                | 1                | 1                | Caucasian        |  4               | 0                |\n",
       "| 9 | 0                | 0                | 0                | African-American |  6               | 1                |\n",
       "| 10 | 1                | 1                | 1                | Caucasian        |  1               | 0                |\n",
       "| 11 | 0                | 1                | 1                | African-American |  4               | 0                |\n",
       "| 12 | 1                | 1                | 0                | Caucasian        |  1               | 1                |\n",
       "| 13 | 0                | 1                | 0                | African-American |  3               | 1                |\n",
       "| 15 | 0                | 0                | 1                | African-American | 10               | 0                |\n",
       "| 16 | 1                | 0                | 0                | Caucasian        |  5               | 1                |\n",
       "| 17 | 1                | 1                | 0                | Caucasian        |  3               | 1                |\n",
       "| 18 | 0                | 0                | 0                | African-American |  6               | 1                |\n",
       "| 19 | 0                | 0                | 0                | African-American |  9               | 1                |\n",
       "\n"
      ],
      "text/plain": [
       "   OrigEthn Ycompas Y origEthn         decile_score two_year_recid\n",
       "8  1        1       1 Caucasian         4           0             \n",
       "9  0        0       0 African-American  6           1             \n",
       "10 1        1       1 Caucasian         1           0             \n",
       "11 0        1       1 African-American  4           0             \n",
       "12 1        1       0 Caucasian         1           1             \n",
       "13 0        1       0 African-American  3           1             \n",
       "15 0        0       1 African-American 10           0             \n",
       "16 1        0       0 Caucasian         5           1             \n",
       "17 1        1       0 Caucasian         3           1             \n",
       "18 0        0       0 African-American  6           1             \n",
       "19 0        0       0 African-American  9           1             "
      ]
     },
     "metadata": {},
     "output_type": "display_data"
    }
   ],
   "source": [
    "# Construction du data frame\n",
    "s= as.integer(df_t$origEthn)-1\n",
    "Y=2-as.integer(df_t$two_year_recid)\n",
    "Ycompas=1-as.integer(df_t$decile_score>4)\n",
    "coded_data=data.frame(\"OrigEthn\"=s,Ycompas,Y)\n",
    "cbind(coded_data,df_t[,c(\"origEthn\",\"decile_score\",\"two_year_recid\")])[5:15,]"
   ]
  },
  {
   "cell_type": "code",
   "execution_count": 59,
   "metadata": {},
   "outputs": [
    {
     "data": {
      "text/plain": [
       "   \n",
       "       0    1\n",
       "  0 1661  822\n",
       "  1 1514 1281"
      ]
     },
     "metadata": {},
     "output_type": "display_data"
    }
   ],
   "source": [
    "table(coded_data$Y,coded_data$OrigEthn)"
   ]
  },
  {
   "cell_type": "markdown",
   "metadata": {},
   "source": [
    "#### $DI$ estimé sur la base d'apprentissage \n",
    "Estimation ponctuelle du $DI$ pour déterminer le biais sociale de la variable observée $Y$ de récidive."
   ]
  },
  {
   "cell_type": "code",
   "execution_count": 61,
   "metadata": {},
   "outputs": [
    {
     "data": {
      "text/html": [
       "0.78"
      ],
      "text/latex": [
       "0.78"
      ],
      "text/markdown": [
       "0.78"
      ],
      "text/plain": [
       "[1] 0.78"
      ]
     },
     "metadata": {},
     "output_type": "display_data"
    }
   ],
   "source": [
    "DI=function(table){round((table[2,1]/(table[1,1]+table[2,1]))/(table[2,2]/(table[1,2]+table[2,2])),2)}\n",
    "DI(table(coded_data$Y,coded_data$OrigEthn))"
   ]
  },
  {
   "cell_type": "markdown",
   "metadata": {},
   "source": [
    "Estimation par intervalle de confiance."
   ]
  },
  {
   "cell_type": "code",
   "execution_count": 29,
   "metadata": {},
   "outputs": [
    {
     "data": {
      "text/html": [
       "<ol class=list-inline>\n",
       "\t<li>0.74</li>\n",
       "\t<li>0.78</li>\n",
       "\t<li>0.82</li>\n",
       "</ol>\n"
      ],
      "text/latex": [
       "\\begin{enumerate*}\n",
       "\\item 0.74\n",
       "\\item 0.78\n",
       "\\item 0.82\n",
       "\\end{enumerate*}\n"
      ],
      "text/markdown": [
       "1. 0.74\n",
       "2. 0.78\n",
       "3. 0.82\n",
       "\n",
       "\n"
      ],
      "text/plain": [
       "[1] 0.74 0.78 0.82"
      ]
     },
     "metadata": {},
     "output_type": "display_data"
    }
   ],
   "source": [
    "source('disparate.R')\n",
    "round(disparate(coded_data,1),2)"
   ]
  },
  {
   "cell_type": "markdown",
   "metadata": {},
   "source": [
    "Il y a proportionnellement plus de récidive pour une origine afro-américaine mais sans que celle-ci soit disproportionnée car $0.8 \\in DI$\n",
    "\n",
    "#### $DI$ sur la base du score COMPAS\n",
    "Estimation ponctuelle."
   ]
  },
  {
   "cell_type": "code",
   "execution_count": 62,
   "metadata": {},
   "outputs": [
    {
     "data": {
      "text/html": [
       "0.63"
      ],
      "text/latex": [
       "0.63"
      ],
      "text/markdown": [
       "0.63"
      ],
      "text/plain": [
       "[1] 0.63"
      ]
     },
     "metadata": {},
     "output_type": "display_data"
    }
   ],
   "source": [
    "DI(table(coded_data$Ycompas,coded_data$OrigEthn))"
   ]
  },
  {
   "cell_type": "markdown",
   "metadata": {},
   "source": [
    "Estimation par intervalle de confiance."
   ]
  },
  {
   "cell_type": "code",
   "execution_count": 30,
   "metadata": {},
   "outputs": [
    {
     "data": {
      "text/html": [
       "<ol class=list-inline>\n",
       "\t<li>0.6</li>\n",
       "\t<li>0.63</li>\n",
       "\t<li>0.67</li>\n",
       "</ol>\n"
      ],
      "text/latex": [
       "\\begin{enumerate*}\n",
       "\\item 0.6\n",
       "\\item 0.63\n",
       "\\item 0.67\n",
       "\\end{enumerate*}\n"
      ],
      "text/markdown": [
       "1. 0.6\n",
       "2. 0.63\n",
       "3. 0.67\n",
       "\n",
       "\n"
      ],
      "text/plain": [
       "[1] 0.60 0.63 0.67"
      ]
     },
     "metadata": {},
     "output_type": "display_data"
    }
   ],
   "source": [
    "round(disparate(coded_data[,-3],1),2)"
   ]
  },
  {
   "cell_type": "markdown",
   "metadata": {},
   "source": [
    "Le score Compas renforce significativement le caractère discriminatoire car les intervalles sont disjoints. C'est contradictoire sur cet exemple avec les affirmation d'*equivant* qui affirme que les score se distribuent de façon identique selon l'origine ethnique."
   ]
  },
  {
   "cell_type": "markdown",
   "metadata": {},
   "source": [
    "### 4.2 Taux d'erreur selon l'origine\n",
    "L'estimation du taux d'erreur induit par le score Compas peut être calculée avec l'ensemble des données car le modèle sous-jacent a été estimé sur d'autres données."
   ]
  },
  {
   "cell_type": "code",
   "execution_count": 64,
   "metadata": {},
   "outputs": [],
   "source": [
    "tauxErr=function(table){round((table[1,2]+table[2,1])/sum(table)*100,1)}"
   ]
  },
  {
   "cell_type": "code",
   "execution_count": 65,
   "metadata": {},
   "outputs": [
    {
     "data": {
      "text/html": [
       "34.2"
      ],
      "text/latex": [
       "34.2"
      ],
      "text/markdown": [
       "34.2"
      ],
      "text/plain": [
       "[1] 34.2"
      ]
     },
     "metadata": {},
     "output_type": "display_data"
    }
   ],
   "source": [
    "tauxErr(table(df_t$decile_score>4,df_t$two_year_recid==1))"
   ]
  },
  {
   "cell_type": "markdown",
   "metadata": {},
   "source": [
    "On trouve comme attendu un taux d'erreur important de 34% qui est ventilé selon l'origine:"
   ]
  },
  {
   "cell_type": "code",
   "execution_count": 28,
   "metadata": {
    "scrolled": true
   },
   "outputs": [
    {
     "data": {
      "text/html": [
       "<dl class=dl-horizontal>\n",
       "\t<dt>African-American</dt>\n",
       "\t\t<dd>35.1</dd>\n",
       "\t<dt>Caucasian</dt>\n",
       "\t\t<dd>32.8</dd>\n",
       "</dl>\n"
      ],
      "text/latex": [
       "\\begin{description*}\n",
       "\\item[African-American] 35.1\n",
       "\\item[Caucasian] 32.8\n",
       "\\end{description*}\n"
      ],
      "text/markdown": [
       "African-American\n",
       ":   35.1Caucasian\n",
       ":   32.8\n",
       "\n"
      ],
      "text/plain": [
       "African-American        Caucasian \n",
       "            35.1             32.8 "
      ]
     },
     "metadata": {},
     "output_type": "display_data"
    }
   ],
   "source": [
    "apply(table(df_t$decile_score>4,df_t$two_year_recid==1,df_t$origEthn),3,tauxErr)"
   ]
  },
  {
   "cell_type": "markdown",
   "metadata": {},
   "source": [
    "*Question*: ces taux d'erreur sont-ils significativement différents? Estimation d'intervalles de confiance par delta method? par bootstrap ? par validation croisée généralisée?\n",
    "\n",
    "En principe *equivant* affirme que ces taux sont similaires pour qu'il n'y ait pas discrimination; cela semble peu probant sur ces données."
   ]
  },
  {
   "cell_type": "markdown",
   "metadata": {},
   "source": [
    "### 4.3 Assymétrie des matrices de confusion\n",
    "Deux autres méthodes s'intéresse aux dissymétries des matrices de confusion qui peuvent apparaître même si globalement les taux d'erreur sont similaires. Il s'agit de comparer les taux de faux positifs et de faux négatifs selon l'origine. Cette approche est détaillée par [Besse et al. 2018](https://arxiv.org/pdf/1807.06362.pdf) par l'estimation d'un critère noté OAE (*Overall Accuracy Equality*).\n",
    "\n",
    "OAE $= \\frac{P(\\hat{Y}=0|Y=1,S=1)}{P(\\hat{Y}=0|Y=1,S=0)}=\\frac{P(\\hat{Y}=0,Y=1,S=1)}{ P(Y=1,S=1)}\\times \\frac{P(Y=1,S=0)}{P(\\hat{Y}=0,Y=1,S=0)}$\n",
    "\n",
    "#### Estimation ponctuelle de OAE"
   ]
  },
  {
   "cell_type": "code",
   "execution_count": 82,
   "metadata": {},
   "outputs": [
    {
     "data": {
      "text/plain": [
       ", ,  = African-American\n",
       "\n",
       "       \n",
       "        FALSE TRUE\n",
       "  FALSE   873  473\n",
       "  TRUE    641 1188\n",
       "\n",
       ", ,  = Caucasian\n",
       "\n",
       "       \n",
       "        FALSE TRUE\n",
       "  FALSE   999  408\n",
       "  TRUE    282  414\n"
      ]
     },
     "metadata": {},
     "output_type": "display_data"
    }
   ],
   "source": [
    "table(df_t$decile_score>4,df_t$two_year_recid==1,df_t$origEthn)"
   ]
  },
  {
   "cell_type": "markdown",
   "metadata": {},
   "source": [
    "Comparaison des taux de faux positifs (FPR)"
   ]
  },
  {
   "cell_type": "code",
   "execution_count": 91,
   "metadata": {},
   "outputs": [
    {
     "data": {
      "text/html": [
       "0.42338177014531"
      ],
      "text/latex": [
       "0.42338177014531"
      ],
      "text/markdown": [
       "0.42338177014531"
      ],
      "text/plain": [
       "[1] 0.4233818"
      ]
     },
     "metadata": {},
     "output_type": "display_data"
    },
    {
     "data": {
      "text/html": [
       "0.220140515222482"
      ],
      "text/latex": [
       "0.220140515222482"
      ],
      "text/markdown": [
       "0.220140515222482"
      ],
      "text/plain": [
       "[1] 0.2201405"
      ]
     },
     "metadata": {},
     "output_type": "display_data"
    }
   ],
   "source": [
    "641/(641+873); 282/(282+999);"
   ]
  },
  {
   "cell_type": "code",
   "execution_count": null,
   "metadata": {},
   "outputs": [],
   "source": []
  },
  {
   "cell_type": "code",
   "execution_count": null,
   "metadata": {},
   "outputs": [],
   "source": [
    "Comparaison des taux de vrais positifs (TPR)"
   ]
  },
  {
   "cell_type": "code",
   "execution_count": 92,
   "metadata": {},
   "outputs": [
    {
     "data": {
      "text/html": [
       "0.71523178807947"
      ],
      "text/latex": [
       "0.71523178807947"
      ],
      "text/markdown": [
       "0.71523178807947"
      ],
      "text/plain": [
       "[1] 0.7152318"
      ]
     },
     "metadata": {},
     "output_type": "display_data"
    },
    {
     "data": {
      "text/html": [
       "0.503649635036496"
      ],
      "text/latex": [
       "0.503649635036496"
      ],
      "text/markdown": [
       "0.503649635036496"
      ],
      "text/plain": [
       "[1] 0.5036496"
      ]
     },
     "metadata": {},
     "output_type": "display_data"
    }
   ],
   "source": [
    "1188/(1188+473);414/(414+408)"
   ]
  },
  {
   "cell_type": "code",
   "execution_count": 32,
   "metadata": {},
   "outputs": [],
   "source": [
    "n=nrow(coded_data)\n",
    "p011=(sum((1-coded_data$Ycomp)*coded_data$Y*coded_data$OrigEthn))/n # P(\\hat{Y}=0,Y=1,S=1)\n",
    "p010=(sum((1-coded_data$Ycomp)*coded_data$Y*(1-coded_data$OrigEthn)))/n # P(\\hat{Y}=0,Y=1,S=0)\n",
    "r11=(sum(coded_data$Y*coded_data$OrigEthn))/n # P(Y=1,S=1)\n",
    "r10=(sum(coded_data$Y*(1-coded_data$OrigEthn)))/n # P(Y=1,S=0)"
   ]
  },
  {
   "cell_type": "code",
   "execution_count": 33,
   "metadata": {},
   "outputs": [
    {
     "data": {
      "text/html": [
       "0.0534293292913983"
      ],
      "text/latex": [
       "0.0534293292913983"
      ],
      "text/markdown": [
       "0.0534293292913983"
      ],
      "text/plain": [
       "[1] 0.05342933"
      ]
     },
     "metadata": {},
     "output_type": "display_data"
    },
    {
     "data": {
      "text/html": [
       "0.121447517999242"
      ],
      "text/latex": [
       "0.121447517999242"
      ],
      "text/markdown": [
       "0.121447517999242"
      ],
      "text/plain": [
       "[1] 0.1214475"
      ]
     },
     "metadata": {},
     "output_type": "display_data"
    },
    {
     "data": {
      "text/html": [
       "0.242705570291777"
      ],
      "text/latex": [
       "0.242705570291777"
      ],
      "text/markdown": [
       "0.242705570291777"
      ],
      "text/plain": [
       "[1] 0.2427056"
      ]
     },
     "metadata": {},
     "output_type": "display_data"
    },
    {
     "data": {
      "text/html": [
       "0.286851079954528"
      ],
      "text/latex": [
       "0.286851079954528"
      ],
      "text/markdown": [
       "0.286851079954528"
      ],
      "text/plain": [
       "[1] 0.2868511"
      ]
     },
     "metadata": {},
     "output_type": "display_data"
    }
   ],
   "source": [
    "p011;p010;r11;r10"
   ]
  },
  {
   "cell_type": "code",
   "execution_count": 34,
   "metadata": {},
   "outputs": [
    {
     "data": {
      "text/html": [
       "0.519957472771979"
      ],
      "text/latex": [
       "0.519957472771979"
      ],
      "text/markdown": [
       "0.519957472771979"
      ],
      "text/plain": [
       "[1] 0.5199575"
      ]
     },
     "metadata": {},
     "output_type": "display_data"
    },
    {
     "data": {
      "text/html": [
       "1.923234211192"
      ],
      "text/latex": [
       "1.923234211192"
      ],
      "text/markdown": [
       "1.923234211192"
      ],
      "text/plain": [
       "[1] 1.923234"
      ]
     },
     "metadata": {},
     "output_type": "display_data"
    }
   ],
   "source": [
    "(p011/r11)/(p010/r10)\n",
    "1/((p011/r11)/(p010/r10))"
   ]
  },
  {
   "cell_type": "markdown",
   "metadata": {},
   "source": [
    "#### Estimation par intervalle de confiance de OAE"
   ]
  },
  {
   "cell_type": "code",
   "execution_count": 78,
   "metadata": {},
   "outputs": [],
   "source": [
    "source('OverallAccuracyEquality.R')"
   ]
  },
  {
   "cell_type": "code",
   "execution_count": 79,
   "metadata": {},
   "outputs": [
    {
     "data": {
      "text/html": [
       "<table>\n",
       "<thead><tr><th></th><th scope=col>inf</th><th scope=col>est_value</th><th scope=col>sup</th></tr></thead>\n",
       "<tbody>\n",
       "\t<tr><th scope=row>TP</th><td>0.700900 </td><td>0.7393873</td><td>0.7778747</td></tr>\n",
       "\t<tr><th scope=row>TN</th><td>1.314528 </td><td>1.4200979</td><td>1.5256676</td></tr>\n",
       "</tbody>\n",
       "</table>\n"
      ],
      "text/latex": [
       "\\begin{tabular}{r|lll}\n",
       "  & inf & est\\_value & sup\\\\\n",
       "\\hline\n",
       "\tTP & 0.700900  & 0.7393873 & 0.7778747\\\\\n",
       "\tTN & 1.314528  & 1.4200979 & 1.5256676\\\\\n",
       "\\end{tabular}\n"
      ],
      "text/markdown": [
       "\n",
       "| <!--/--> | inf | est_value | sup |\n",
       "|---|---|---|---|\n",
       "| TP | 0.700900  | 0.7393873 | 0.7778747 |\n",
       "| TN | 1.314528  | 1.4200979 | 1.5256676 |\n",
       "\n"
      ],
      "text/plain": [
       "   inf      est_value sup      \n",
       "TP 0.700900 0.7393873 0.7778747\n",
       "TN 1.314528 1.4200979 1.5256676"
      ]
     },
     "metadata": {},
     "output_type": "display_data"
    }
   ],
   "source": [
    "OAE(coded_data,1,3,2,alpha=0.05)"
   ]
  },
  {
   "cell_type": "code",
   "execution_count": 80,
   "metadata": {},
   "outputs": [
    {
     "data": {
      "text/html": [
       "<table>\n",
       "<thead><tr><th></th><th scope=col>inf</th><th scope=col>est_value</th><th scope=col>sup</th></tr></thead>\n",
       "<tbody>\n",
       "\t<tr><th scope=row>Y=0/f(X)=1</th><td>1.0793638</td><td>1.2118532</td><td>1.3443426</td></tr>\n",
       "\t<tr><th scope=row>Y=1/f(X)=0</th><td>0.7702412</td><td>0.8649768</td><td>0.9597124</td></tr>\n",
       "</tbody>\n",
       "</table>\n"
      ],
      "text/latex": [
       "\\begin{tabular}{r|lll}\n",
       "  & inf & est\\_value & sup\\\\\n",
       "\\hline\n",
       "\tY=0/f(X)=1 & 1.0793638 & 1.2118532 & 1.3443426\\\\\n",
       "\tY=1/f(X)=0 & 0.7702412 & 0.8649768 & 0.9597124\\\\\n",
       "\\end{tabular}\n"
      ],
      "text/markdown": [
       "\n",
       "| <!--/--> | inf | est_value | sup |\n",
       "|---|---|---|---|\n",
       "| Y=0/f(X)=1 | 1.0793638 | 1.2118532 | 1.3443426 |\n",
       "| Y=1/f(X)=0 | 0.7702412 | 0.8649768 | 0.9597124 |\n",
       "\n"
      ],
      "text/plain": [
       "           inf       est_value sup      \n",
       "Y=0/f(X)=1 1.0793638 1.2118532 1.3443426\n",
       "Y=1/f(X)=0 0.7702412 0.8649768 0.9597124"
      ]
     },
     "metadata": {},
     "output_type": "display_data"
    }
   ],
   "source": [
    "source('ConditionalUseEquality.R')\n",
    "CUAE(coded_data,1,3,2,alpha=0.05)"
   ]
  },
  {
   "cell_type": "code",
   "execution_count": null,
   "metadata": {},
   "outputs": [],
   "source": []
  },
  {
   "cell_type": "markdown",
   "metadata": {},
   "source": [
    "."
   ]
  },
  {
   "cell_type": "markdown",
   "metadata": {
    "collapsed": true
   },
   "source": [
    "## 5 Prévision de la récidive\n",
    "Cette section est consacrée à la comparaison de deux scores de récidive. Celui COMPAS fournit par la société *equivant* et celui obtenu à partir d'un simple modèle de régression logistique."
   ]
  },
  {
   "cell_type": "markdown",
   "metadata": {},
   "source": [
    "### 5.1 Distributions des scores COMPAS\n",
    "Distributions des scores de COMPAS en fonction de l'origine éthnique: Caucasian *vs.* African-American. Ce score de risque prend ses valeurs entre 1 et 10, 1 étant le score le plus faible.\n",
    "\n",
    "C'est à partir de cette variable que la variable `score text` a été construite:\n",
    "- score entre 1 et 4: `Low`\n",
    "- score entre 4 et 8: `Medium`\n",
    "- score entre 8 et 10: `High`"
   ]
  },
  {
   "cell_type": "code",
   "execution_count": 42,
   "metadata": {},
   "outputs": [
    {
     "data": {
      "image/png": "[encoded data removed]",
      "text/plain": [
       "plot without title"
      ]
     },
     "metadata": {},
     "output_type": "display_data"
    }
   ],
   "source": [
    "options(repr.plot.width=5, repr.plot.height=3)\n",
    "pblack <- ggplot(data=filter(df_f, origEthn ==\"African-American\"), aes(ordered(decile_score))) + \n",
    "          geom_bar() + xlab(\"Deciles des Scores\") +\n",
    "          ylim(0, 650) + ggtitle(\"African-American\")\n",
    "pwhite <- ggplot(data=filter(df, origEthn ==\"Caucasian\"), aes(ordered(decile_score))) + \n",
    "          geom_bar() + xlab(\"Deciles des Scores\") +\n",
    "          ylim(0, 650) + ggtitle(\"Caucasian\")\n",
    "grid.arrange(pblack, pwhite,  ncol = 2)"
   ]
  },
  {
   "cell_type": "markdown",
   "metadata": {},
   "source": [
    "Contrairement à ce qu'affirme la société *equivant* et pour cet exemple, les distributions des scores sont très différentes selon l'origine éthnique. Un test du $\\chi 2$ élémentaire vérifie cette hypothèse. Cette disparité entre les distribution se retrouve évidemment dans l'estimation précédente de l'effet disproportionné."
   ]
  },
  {
   "cell_type": "code",
   "execution_count": 43,
   "metadata": {},
   "outputs": [
    {
     "data": {
      "text/plain": [
       "\n",
       "\tPearson's Chi-squared test\n",
       "\n",
       "data:  table(df_f$decile_score, df_f$origEthn)\n",
       "X-squared = 445.22, df = 9, p-value < 2.2e-16\n"
      ]
     },
     "metadata": {},
     "output_type": "display_data"
    }
   ],
   "source": [
    "chisq.test(table(df_f$decile_score,df_f$origEthn))"
   ]
  },
  {
   "cell_type": "markdown",
   "metadata": {},
   "source": [
    "### 5.2 Qualité prédictive du score COMPAS\n",
    "L'objectif suivant est de comparer les capacités de prévision des modèles: celle issue du score COMPAS *vs.* celle fournie par un simple modèle de régression logistique. Bien d'autres algorithmes de prévision auraient pu être testés mais ce n'est pas le principal objectif."
   ]
  },
  {
   "cell_type": "markdown",
   "metadata": {},
   "source": [
    "#### Echantillon test\n",
    "Pour rendre possible les comparaisons, les erreurs sont estimées sur le même échantillon test qui sera indépendant de l'échantillon d'apprentissage utilisé pour la régression logistique."
   ]
  },
  {
   "cell_type": "code",
   "execution_count": 44,
   "metadata": {},
   "outputs": [],
   "source": [
    "npop=nrow(df_t)\n",
    "# tirage de 1000 indices sans remise\n",
    "set.seed(11)\n",
    "testi=sample(1:npop,1000)\n",
    "#Liste des indices restant qui n’ont pas été tirés\n",
    "appri=setdiff(1:npop,testi)\n",
    "# Extraction échantillons d’apprentissage\n",
    "dataApp=df_t[appri,]\n",
    "# Echantillon test\n",
    "dataTest=df_t[testi,]"
   ]
  },
  {
   "cell_type": "markdown",
   "metadata": {},
   "source": [
    "#### Taux d'erreur du score COMPAS\n",
    "Le seuil de score COMPAS de \"4\" est celui généralement retenu pour prévoir une récidive."
   ]
  },
  {
   "cell_type": "code",
   "execution_count": 66,
   "metadata": {},
   "outputs": [
    {
     "data": {
      "text/plain": [
       "       \n",
       "        FALSE TRUE\n",
       "  FALSE   355  167\n",
       "  TRUE    169  309"
      ]
     },
     "metadata": {},
     "output_type": "display_data"
    },
    {
     "data": {
      "text/html": [
       "33.6"
      ],
      "text/latex": [
       "33.6"
      ],
      "text/markdown": [
       "33.6"
      ],
      "text/plain": [
       "[1] 33.6"
      ]
     },
     "metadata": {},
     "output_type": "display_data"
    }
   ],
   "source": [
    "conf=table(dataTest$decile_score>4,dataTest$two_year_recid==1)\n",
    "conf;tauxErr(conf)"
   ]
  },
  {
   "cell_type": "markdown",
   "metadata": {},
   "source": [
    "Taux d'erreur très élevé comme attendu et légèrement différent de celui estimé sur toutes les données. Il dépend de l'chantillon qui a été tiré et donc de l'initialisation du génératoire de nombres aléatoires."
   ]
  },
  {
   "cell_type": "markdown",
   "metadata": {},
   "source": [
    "### 5.3 Qualité prédictive d'une régression logistique\n",
    "Dans son étude, Problica propose l'estimation d'un modèle de régression logistique expliquant la variable `score_text` en fonction des variables: origine Ethnique, âge, *criminal history*, *future recidivism*, *charge degree*, genre, afin d'évaluer les influences de ces variables sur le score COMPAS. Propublica propose également de mettre en évidence l'effet des interactions avec la variable `age`. \n",
    "\n",
    "Plutôt que pour évaluer l'importance relative des facteurs ou de leurs interactions, la régression logistique est utilisée ci-dessous avec un objectif prédictif. La récidive peut elle être prédite en fonction des quelques caractéristiques connues des individus? Cette prévision est-elle meilleure ou tout du moins aussi mauvaise que celle fournie par le score COMPAS produit par la société *equivant*.\n",
    "#### Estimation du modèle"
   ]
  },
  {
   "cell_type": "code",
   "execution_count": 46,
   "metadata": {},
   "outputs": [
    {
     "data": {
      "text/plain": [
       "\n",
       "Call:\n",
       "glm(formula = two_year_recid ~ sex + origEthn + age + age_cat + \n",
       "    priors_count + +c_charge_degree, family = binomial(link = \"logit\"), \n",
       "    data = dataApp)\n",
       "\n",
       "Deviance Residuals: \n",
       "   Min      1Q  Median      3Q     Max  \n",
       "-2.572  -1.002  -0.605   1.071   2.251  \n",
       "\n",
       "Coefficients:\n",
       "                       Estimate Std. Error z value Pr(>|z|)    \n",
       "(Intercept)             0.57496    0.23313   2.466   0.0137 *  \n",
       "sexMale                 0.38876    0.08593   4.524 6.06e-06 ***\n",
       "origEthnCaucasian      -0.08420    0.07075  -1.190   0.2341    \n",
       "age                    -0.04680    0.00676  -6.923 4.41e-12 ***\n",
       "age_catGreater than 45  0.31976    0.16583   1.928   0.0538 .  \n",
       "age_catLess than 25     0.26774    0.10537   2.541   0.0111 *  \n",
       "priors_count            0.16831    0.00958  17.569  < 2e-16 ***\n",
       "c_charge_degreeM       -0.16830    0.07106  -2.368   0.0179 *  \n",
       "---\n",
       "Signif. codes:  0 ‘***’ 0.001 ‘**’ 0.01 ‘*’ 0.05 ‘.’ 0.1 ‘ ’ 1\n",
       "\n",
       "(Dispersion parameter for binomial family taken to be 1)\n",
       "\n",
       "    Null deviance: 5914.3  on 4277  degrees of freedom\n",
       "Residual deviance: 5226.9  on 4270  degrees of freedom\n",
       "AIC: 5242.9\n",
       "\n",
       "Number of Fisher Scoring iterations: 4\n"
      ]
     },
     "metadata": {},
     "output_type": "display_data"
    }
   ],
   "source": [
    "model_logit <- glm(two_year_recid ~ sex+origEthn+age+age_cat+priors_count+\n",
    "                   +c_charge_degree,family=binomial(link='logit'), data=dataApp)\n",
    "summary(model_logit)"
   ]
  },
  {
   "cell_type": "markdown",
   "metadata": {},
   "source": [
    "#### Taux d'erreur"
   ]
  },
  {
   "cell_type": "code",
   "execution_count": 47,
   "metadata": {},
   "outputs": [
    {
     "data": {
      "text/html": [
       "35.7"
      ],
      "text/latex": [
       "35.7"
      ],
      "text/markdown": [
       "35.7"
      ],
      "text/plain": [
       "[1] 35.7"
      ]
     },
     "metadata": {},
     "output_type": "display_data"
    }
   ],
   "source": [
    "pihat<-predict(model_logit,newdata=dataTest)\n",
    "tauxErr(table(pihat>0.5,dataTest$two_year_recid))"
   ]
  },
  {
   "cell_type": "markdown",
   "metadata": {},
   "source": [
    "*Remarques:*\n",
    "- Limitation: ce modèle ne s'applique qu'à des détenus libérés ou libérables, pas à des individus jamais condamnés.\n",
    "- Conditionnellement à la présence des autres variables, l'origine ethnique n'est pas significative dans le modèle.\n",
    "- Le taux d'erreur de ce modèle élémentaire qui fait intervenir la gravité du crime précédent et le nombre d'incarcération est aussi mauvais que celui issu du score COMPAS. On retrouve bien le type de résultats de Dressel et Farid (2018).\n",
    "- Une itération des estimations de ces erreurs par validation croisée *Monte Carlo* donnerait une inducation sur leur distribution. \n",
    "\n",
    "### Conclusion\n",
    "Biaisé donc discriminatoire à bien des points de vue sur cet exemple de données et présentant une aussi mauvaise qualité prédictive qu'un modèle de régression logistique rudimentaire, le score COMPAS est à éviter.\n",
    "\n",
    "### Références\n"
   ]
  },
  {
   "cell_type": "code",
   "execution_count": null,
   "metadata": {},
   "outputs": [],
   "source": []
  }
 ],
 "metadata": {
  "kernelspec": {
   "display_name": "R",
   "language": "R",
   "name": "ir"
  },
  "language_info": {
   "codemirror_mode": "r",
   "file_extension": ".r",
   "mimetype": "text/x-r-source",
   "name": "R",
   "pygments_lexer": "r",
   "version": "3.5.1"
  }
 },
 "nbformat": 4,
 "nbformat_minor": 1
}
