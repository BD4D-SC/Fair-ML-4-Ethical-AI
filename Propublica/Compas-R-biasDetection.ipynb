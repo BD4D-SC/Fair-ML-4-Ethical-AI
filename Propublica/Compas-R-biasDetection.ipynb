{
 "cells": [
  {
   "cell_type": "markdown",
   "metadata": {},
   "source": [
    "<center>\n",
    "<a href=\"http://www.insa-toulouse.fr/\" ><img src=\"http://www.math.univ-toulouse.fr/~besse/Wikistat/Images/logo-insa.jpg\" style=\"float:left; max-width: 120px; display: inline\" alt=\"INSA\"/></a> \n",
    "\n",
    "<a href=\"http://www.univ-tlse3.fr/\" ><img src=\"http://www.univ-tlse3.fr/medias/photo/ut3pres_logoq_1372757033342.jpg?ID_FICHE=49702\" style=\"float:right; max-width: 250px; display: inline\" alt=\"INSA\"/></a> \n",
    "</center>"
   ]
  },
  {
   "cell_type": "markdown",
   "metadata": {},
   "source": [
    "# Biais et Discrimination en Apprentissage Statistique\n",
    "## Controverse sur le score de récidive aux USA:  equivant *vs.* Propublica \n",
    "\n",
    "### Résumé"
   ]
  },
  {
   "cell_type": "markdown",
   "metadata": {},
   "source": [
    "## 1 Introduction\n",
    "\n",
    "### 1.1 Données COMPAS\n",
    "La méthodologie de Propublica pour le recueil des données est décrite dans un article de [Larson et al. (2016)](https://www.propublica.org/article/how-we-analyzed-the-compas-recidivism-algorithm/). Le jeu de données étudié est  disponible sur leur [site officiel](https://www.propublica.org/article/how-we-analyzed-the-compas-recidivism-algorithm/). En résumé, les investigateurs du site Propublica ont suivi une cohorte de plus de 7000 personnes libérées de prison dans un comté de Floride en recueillant certaines informations dont \n",
    "- le score de récidive calculé par le logiciel COMPAS, \n",
    "- la présence ou non d'une récidive deux ans après la date de libération.\n",
    "\n",
    "### 1.2 Objectifs\n",
    " Une version simpifiée de l'analyse de Propublica est décrite ci-dessous afin de se focaliser sur les questions de biais et donc de discrimination potentielle. Le processus de sélection des données est celui de Propublica avant de procéder à une decription élémentaire pour ensuite étudier et caractériser différents types de biais: \n",
    "- estimation par intervalle de confiance de l'effet disproportionné sur les données réelles, \n",
    "- même estimation de l'effet pour le score de récidive (COMPAS) *High vs. low* calculé par *equivant*,\n",
    "- puis sur le score prédit par une simple régression logistique,\n",
    "- comparaison des erreurs de prévision, COMPAS et régression logistique, selon l'origine ethnique, \n",
    "- caractérisation de l'asymétrie des matrices de confusion à l'aide d'un intervalle de confiance.\n",
    "\n",
    "C'est ce dernier point qui est à l'origine de la controverse entre *equivant* (Northpoint) et Propublica.\n",
    "\n",
    "## 2 Prise en charge des données\n",
    "### 2.1 Lecture"
   ]
  },
  {
   "cell_type": "code",
   "execution_count": 1,
   "metadata": {
    "scrolled": false
   },
   "outputs": [
    {
     "name": "stderr",
     "output_type": "stream",
     "text": [
      "\n",
      "Attaching package: ‘dplyr’\n",
      "\n",
      "The following objects are masked from ‘package:stats’:\n",
      "\n",
      "    filter, lag\n",
      "\n",
      "The following objects are masked from ‘package:base’:\n",
      "\n",
      "    intersect, setdiff, setequal, union\n",
      "\n",
      "\n",
      "Attaching package: ‘gridExtra’\n",
      "\n",
      "The following object is masked from ‘package:dplyr’:\n",
      "\n",
      "    combine\n",
      "\n"
     ]
    },
    {
     "data": {
      "text/html": [
       "<ol class=list-inline>\n",
       "\t<li>7214</li>\n",
       "\t<li>53</li>\n",
       "</ol>\n"
      ],
      "text/latex": [
       "\\begin{enumerate*}\n",
       "\\item 7214\n",
       "\\item 53\n",
       "\\end{enumerate*}\n"
      ],
      "text/markdown": [
       "1. 7214\n",
       "2. 53\n",
       "\n",
       "\n"
      ],
      "text/plain": [
       "[1] 7214   53"
      ]
     },
     "metadata": {},
     "output_type": "display_data"
    }
   ],
   "source": [
    "# Quelques librairies utiles\n",
    "library(dplyr)\n",
    "library(ggplot2)\n",
    "library(grid)\n",
    "library(gridExtra)\n",
    "library(FactoMineR)\n",
    "# Lecture des données\n",
    "raw_data <- read.csv(\"./compas-scores-two-years.csv\")\n",
    "dim(raw_data)"
   ]
  },
  {
   "cell_type": "code",
   "execution_count": 2,
   "metadata": {},
   "outputs": [
    {
     "data": {
      "text/plain": [
       "       id                       name              first            last     \n",
       " Min.   :    1   anthony smith    :   3   michael    : 149   williams:  83  \n",
       " 1st Qu.: 2735   angel santiago   :   2   christopher: 109   johnson :  76  \n",
       " Median : 5510   anthony gonzalez :   2   james      :  84   brown   :  68  \n",
       " Mean   : 5501   anthony louis    :   2   anthony    :  83   smith   :  65  \n",
       " 3rd Qu.: 8246   brandon whitfield:   2   robert     :  76   jones   :  57  \n",
       " Max.   :11001   carlos vasquez   :   2   john       :  74   davis   :  46  \n",
       "                 (Other)          :7201   (Other)    :6639   (Other) :6819  \n",
       " compas_screening_date     sex               dob            age       \n",
       " 2013-02-20:  32       Female:1395   1987-02-04:   5   Min.   :18.00  \n",
       " 2013-03-20:  32       Male  :5819   1987-12-21:   5   1st Qu.:25.00  \n",
       " 2013-02-07:  31                     1989-04-27:   5   Median :31.00  \n",
       " 2013-04-20:  30                     1989-08-31:   5   Mean   :34.82  \n",
       " 2013-01-03:  29                     1990-02-22:   5   3rd Qu.:42.00  \n",
       " 2013-04-25:  28                     1990-05-02:   5   Max.   :96.00  \n",
       " (Other)   :7032                     (Other)   :7184                  \n",
       "            age_cat                   race      juv_fel_count     \n",
       " 25 - 45        :4109   African-American:3696   Min.   : 0.00000  \n",
       " Greater than 45:1576   Asian           :  32   1st Qu.: 0.00000  \n",
       " Less than 25   :1529   Caucasian       :2454   Median : 0.00000  \n",
       "                        Hispanic        : 637   Mean   : 0.06723  \n",
       "                        Native American :  18   3rd Qu.: 0.00000  \n",
       "                        Other           : 377   Max.   :20.00000  \n",
       "                                                                  \n",
       "  decile_score   juv_misd_count     juv_other_count    priors_count   \n",
       " Min.   : 1.00   Min.   : 0.00000   Min.   : 0.0000   Min.   : 0.000  \n",
       " 1st Qu.: 2.00   1st Qu.: 0.00000   1st Qu.: 0.0000   1st Qu.: 0.000  \n",
       " Median : 4.00   Median : 0.00000   Median : 0.0000   Median : 2.000  \n",
       " Mean   : 4.51   Mean   : 0.09093   Mean   : 0.1094   Mean   : 3.472  \n",
       " 3rd Qu.: 7.00   3rd Qu.: 0.00000   3rd Qu.: 0.0000   3rd Qu.: 5.000  \n",
       " Max.   :10.00   Max.   :13.00000   Max.   :17.0000   Max.   :38.000  \n",
       "                                                                      \n",
       " days_b_screening_arrest               c_jail_in                  c_jail_out  \n",
       " Min.   :-414.000                           : 307                      : 307  \n",
       " 1st Qu.:  -1.000        2013-01-01 01:31:55:   1   2013-09-12 10:31:00:   3  \n",
       " Median :  -1.000        2013-01-01 03:16:15:   1   2013-09-14 05:58:00:   3  \n",
       " Mean   :   3.305        2013-01-01 03:28:03:   1   2013-09-28 02:10:00:   3  \n",
       " 3rd Qu.:   0.000        2013-01-01 04:17:22:   1   2013-02-06 10:01:51:   2  \n",
       " Max.   :1057.000        2013-01-01 04:29:04:   1   2013-06-13 10:32:00:   2  \n",
       " NA's   :307             (Other)            :6902   (Other)            :6894  \n",
       "       c_case_number     c_offense_date    c_arrest_date  c_days_from_compas\n",
       "              :  22             :1159             :6077   Min.   :   0.00   \n",
       " 00004068CF10A:   1   2013-01-14:  26   2013-02-06:   9   1st Qu.:   1.00   \n",
       " 00022077MM10A:   1   2013-02-22:  26   2013-03-22:   8   Median :   1.00   \n",
       " 01004839CF10A:   1   2013-03-01:  24   2013-05-15:   8   Mean   :  57.73   \n",
       " 01006487CF10D:   1   2013-01-11:  23   2013-01-10:   7   3rd Qu.:   2.00   \n",
       " 01007205MM10A:   1   2013-02-16:  23   2013-01-11:   7   Max.   :9485.00   \n",
       " (Other)      :7187   (Other)   :5933   (Other)   :1098   NA's   :22        \n",
       " c_charge_degree                       c_charge_desc     is_recid     \n",
       " F:4666          Battery                      :1156   Min.   :0.0000  \n",
       " M:2548          arrest case no charge        :1137   1st Qu.:0.0000  \n",
       "                 Possession of Cocaine        : 474   Median :0.0000  \n",
       "                 Grand Theft in the 3rd Degree: 425   Mean   :0.4811  \n",
       "                 Driving While License Revoked: 200   3rd Qu.:1.0000  \n",
       "                 Driving Under The Influence  : 135   Max.   :1.0000  \n",
       "                 (Other)                      :3687                   \n",
       "       r_case_number  r_charge_degree r_days_from_arrest    r_offense_date\n",
       "              :3743          :3743    Min.   : -1.00               :3743  \n",
       " 13000349MM10A:   1   (M1)   :1201    1st Qu.:  0.00     2014-12-08:  12  \n",
       " 13000445MM20A:   1   (M2)   :1107    Median :  0.00     2015-01-28:  11  \n",
       " 13000677MM20A:   1   (F3)   : 892    Mean   : 20.27     2014-09-15:  10  \n",
       " 13000758MM30A:   1   (F2)   : 168    3rd Qu.:  1.00     2014-10-17:  10  \n",
       " 13000785MM30A:   1   (F1)   :  51    Max.   :993.00     2015-02-10:  10  \n",
       " (Other)      :3466   (Other):  52    NA's   :4898       (Other)   :3418  \n",
       "                           r_charge_desc       r_jail_in         r_jail_out  \n",
       "                                  :3801             :4898             :4898  \n",
       " Driving License Suspended        : 258   2014-05-27:   9   2014-02-18:   9  \n",
       " Possess Cannabis/20 Grams Or Less: 253   2013-11-22:   8   2014-12-09:   9  \n",
       " Resist/Obstruct W/O Violence     : 201   2014-06-05:   8   2015-05-15:   9  \n",
       " Battery                          : 192   2014-07-10:   8   2013-11-13:   8  \n",
       " Operating W/O Valid License      : 172   2014-10-17:   8   2014-07-11:   8  \n",
       " (Other)                          :2337   (Other)   :2275   (Other)   :2273  \n",
       " violent_recid  is_violent_recid       vr_case_number vr_charge_degree\n",
       " Mode:logical   Min.   :0.0000                :6395          :6395    \n",
       " NA's:7214      1st Qu.:0.0000   13001383CF10A:   1   (M1)   : 344    \n",
       "                Median :0.0000   13001876CF10A:   1   (F3)   : 228    \n",
       "                Mean   :0.1135   13002119CF10A:   1   (F2)   : 162    \n",
       "                3rd Qu.:0.0000   13002546CF10A:   1   (F1)   :  38    \n",
       "                Max.   :1.0000   13003421CF10A:   1   (M2)   :  19    \n",
       "                                 (Other)      : 814   (Other):  28    \n",
       "   vr_offense_date                        vr_charge_desc\n",
       "           :6395                                 :6395  \n",
       " 2015-08-15:   6   Battery                       : 329  \n",
       " 2013-11-14:   4   Battery on Law Enforc Officer :  38  \n",
       " 2014-02-18:   4   Felony Battery (Dom Strang)   :  38  \n",
       " 2014-10-29:   4   Aggravated Assault W/Dead Weap:  37  \n",
       " 2014-12-26:   4   Aggrav Battery w/Deadly Weapon:  34  \n",
       " (Other)   : 797   (Other)                       : 343  \n",
       "          type_of_assessment decile_score.1   score_text      screening_date\n",
       " Risk of Recidivism:7214     Min.   : 1.00   High  :1403   2013-02-20:  32  \n",
       "                             1st Qu.: 2.00   Low   :3897   2013-03-20:  32  \n",
       "                             Median : 4.00   Medium:1914   2013-02-07:  31  \n",
       "                             Mean   : 4.51                 2013-04-20:  30  \n",
       "                             3rd Qu.: 7.00                 2013-01-03:  29  \n",
       "                             Max.   :10.00                 2013-04-25:  28  \n",
       "                                                           (Other)   :7032  \n",
       "       v_type_of_assessment v_decile_score   v_score_text    v_screening_date\n",
       " Risk of Violence:7214      Min.   : 1.000   High  : 714   2013-02-20:  32   \n",
       "                            1st Qu.: 1.000   Low   :4761   2013-03-20:  32   \n",
       "                            Median : 3.000   Medium:1739   2013-02-07:  31   \n",
       "                            Mean   : 3.692                 2013-04-20:  30   \n",
       "                            3rd Qu.: 5.000                 2013-01-03:  29   \n",
       "                            Max.   :10.000                 2013-04-25:  28   \n",
       "                                                           (Other)   :7032   \n",
       "      in_custody       out_custody   priors_count.1       start       \n",
       "           : 236             : 236   Min.   : 0.000   Min.   :  0.00  \n",
       " 2013-02-22:  20   2020-01-01:  61   1st Qu.: 0.000   1st Qu.:  0.00  \n",
       " 2013-12-12:  20   2013-05-14:  25   Median : 2.000   Median :  0.00  \n",
       " 2014-01-04:  20   2014-02-04:  24   Mean   : 3.472   Mean   : 11.47  \n",
       " 2014-01-22:  20   2013-11-26:  23   3rd Qu.: 5.000   3rd Qu.:  1.00  \n",
       " 2013-01-27:  19   2013-02-15:  21   Max.   :38.000   Max.   :937.00  \n",
       " (Other)   :6879   (Other)   :6824                                    \n",
       "      end             event        two_year_recid  \n",
       " Min.   :   0.0   Min.   :0.0000   Min.   :0.0000  \n",
       " 1st Qu.: 148.2   1st Qu.:0.0000   1st Qu.:0.0000  \n",
       " Median : 530.5   Median :0.0000   Median :0.0000  \n",
       " Mean   : 553.4   Mean   :0.3829   Mean   :0.4507  \n",
       " 3rd Qu.: 914.0   3rd Qu.:1.0000   3rd Qu.:1.0000  \n",
       " Max.   :1186.0   Max.   :1.0000   Max.   :1.0000  \n",
       "                                                   "
      ]
     },
     "metadata": {},
     "output_type": "display_data"
    }
   ],
   "source": [
    "summary(raw_data)"
   ]
  },
  {
   "cell_type": "markdown",
   "metadata": {},
   "source": [
    "### 2.2 Préparation des données\n",
    "\n",
    "Elimination de certaines lignes en suivant le processus de Propublica. \n",
    "* If the charge date of a defendants Compas scored crime was not within 30 days from when the person was arrested, we assume that because of data quality reasons, that we do not have the right offense.\n",
    "* We coded the recidivist flag -- `is_recid` -- to be -1 if we could not find a compas case at all.\n",
    "* In a similar vein, ordinary traffic offenses -- those with a `c_charge_degree` of 'O' -- will not result in Jail time are removed (only two of them).\n",
    "* We filtered the underlying data from Broward county to include only those rows representing people who had either recidivated in two years, or had at least two years outside of a correctional facility."
   ]
  },
  {
   "cell_type": "code",
   "execution_count": 3,
   "metadata": {},
   "outputs": [
    {
     "data": {
      "text/html": [
       "<ol class=list-inline>\n",
       "\t<li>6172</li>\n",
       "\t<li>14</li>\n",
       "</ol>\n"
      ],
      "text/latex": [
       "\\begin{enumerate*}\n",
       "\\item 6172\n",
       "\\item 14\n",
       "\\end{enumerate*}\n"
      ],
      "text/markdown": [
       "1. 6172\n",
       "2. 14\n",
       "\n",
       "\n"
      ],
      "text/plain": [
       "[1] 6172   14"
      ]
     },
     "metadata": {},
     "output_type": "display_data"
    }
   ],
   "source": [
    "df <- dplyr::select(raw_data, age, c_charge_degree, race, age_cat, score_text, sex, priors_count, \n",
    "        days_b_screening_arrest, decile_score, is_recid, two_year_recid, c_jail_in, c_jail_out,v_decile_score) %>% \n",
    "        filter(days_b_screening_arrest <= 30) %>%\n",
    "        filter(days_b_screening_arrest >= -30) %>%\n",
    "        filter(is_recid != -1) %>%\n",
    "        filter(c_charge_degree != \"O\") %>%\n",
    "        filter(score_text != 'N/A')\n",
    "dim(df)"
   ]
  },
  {
   "cell_type": "code",
   "execution_count": 4,
   "metadata": {},
   "outputs": [
    {
     "data": {
      "text/plain": [
       "      age        c_charge_degree             origEthn               age_cat    \n",
       " Min.   :18.00   F:3970          African-American:3175   25 - 45        :3532  \n",
       " 1st Qu.:25.00   M:2202          Asian           :  31   Greater than 45:1293  \n",
       " Median :31.00                   Caucasian       :2103   Less than 25   :1347  \n",
       " Mean   :34.53                   Hispanic        : 509                         \n",
       " 3rd Qu.:42.00                   Native American :  11                         \n",
       " Max.   :96.00                   Other           : 343                         \n",
       "                                                                               \n",
       "  score_text       sex        priors_count    days_b_screening_arrest\n",
       " High  :1144   Female:1175   Min.   : 0.000   Min.   :-30.00         \n",
       " Low   :3421   Male  :4997   1st Qu.: 0.000   1st Qu.: -1.00         \n",
       " Medium:1607                 Median : 1.000   Median : -1.00         \n",
       "                             Mean   : 3.246   Mean   : -1.74         \n",
       "                             3rd Qu.: 4.000   3rd Qu.: -1.00         \n",
       "                             Max.   :38.000   Max.   : 30.00         \n",
       "                                                                     \n",
       "  decile_score       is_recid      two_year_recid                 c_jail_in   \n",
       " Min.   : 1.000   Min.   :0.0000   Min.   :0.0000   2013-01-01 01:31:55:   1  \n",
       " 1st Qu.: 2.000   1st Qu.:0.0000   1st Qu.:0.0000   2013-01-01 03:16:15:   1  \n",
       " Median : 4.000   Median :0.0000   Median :0.0000   2013-01-01 03:28:03:   1  \n",
       " Mean   : 4.419   Mean   :0.4844   Mean   :0.4551   2013-01-01 04:17:22:   1  \n",
       " 3rd Qu.: 7.000   3rd Qu.:1.0000   3rd Qu.:1.0000   2013-01-01 04:29:04:   1  \n",
       " Max.   :10.000   Max.   :1.0000   Max.   :1.0000   2013-01-01 05:08:53:   1  \n",
       "                                                    (Other)            :6166  \n",
       "               c_jail_out   v_decile_score  \n",
       " 2013-09-14 05:58:00:   3   Min.   : 1.000  \n",
       " 2013-02-06 10:01:51:   2   1st Qu.: 1.000  \n",
       " 2013-08-13 10:05:00:   2   Median : 3.000  \n",
       " 2013-09-14 05:54:00:   2   Mean   : 3.642  \n",
       " 2013-09-23 08:25:00:   2   3rd Qu.: 5.000  \n",
       " 2013-11-09 02:08:17:   2   Max.   :10.000  \n",
       " (Other)            :6159                   "
      ]
     },
     "metadata": {},
     "output_type": "display_data"
    }
   ],
   "source": [
    "# renommer la variable \"race\"\n",
    "colnames(df)[3]='origEthn'\n",
    "summary(df)"
   ]
  },
  {
   "cell_type": "code",
   "execution_count": 5,
   "metadata": {
    "scrolled": true
   },
   "outputs": [
    {
     "name": "stdout",
     "output_type": "stream",
     "text": [
      "'data.frame':\t6172 obs. of  14 variables:\n",
      " $ age                    : int  69 34 24 44 41 43 39 27 23 37 ...\n",
      " $ c_charge_degree        : Factor w/ 2 levels \"F\",\"M\": 1 1 1 2 1 1 2 1 2 2 ...\n",
      " $ origEthn               : Factor w/ 6 levels \"African-American\",..: 6 1 1 6 3 6 3 3 1 3 ...\n",
      " $ age_cat                : Factor w/ 3 levels \"25 - 45\",\"Greater than 45\",..: 2 1 3 1 1 1 1 1 3 1 ...\n",
      " $ score_text             : Factor w/ 3 levels \"High\",\"Low\",\"Medium\": 2 2 2 2 3 2 2 2 3 2 ...\n",
      " $ sex                    : Factor w/ 2 levels \"Female\",\"Male\": 2 2 2 2 2 2 1 2 2 1 ...\n",
      " $ priors_count           : int  0 0 4 0 14 3 0 0 3 0 ...\n",
      " $ days_b_screening_arrest: int  -1 -1 -1 0 -1 -1 -1 -1 0 0 ...\n",
      " $ decile_score           : int  1 3 4 1 6 4 1 4 6 1 ...\n",
      " $ is_recid               : int  0 1 1 0 1 0 0 0 1 0 ...\n",
      " $ two_year_recid         : int  0 1 1 0 1 0 0 0 1 0 ...\n",
      " $ c_jail_in              : Factor w/ 6908 levels \"\",\"2013-01-01 01:31:55\",..: 3032 454 1838 4434 5450 3273 5707 4391 3735 4 ...\n",
      " $ c_jail_out             : Factor w/ 6881 levels \"\",\"2013-01-02 01:12:01\",..: 2784 454 1568 4230 5320 3015 5579 4171 3522 4 ...\n",
      " $ v_decile_score         : int  1 1 3 1 2 3 1 4 4 1 ...\n"
     ]
    }
   ],
   "source": [
    "str(df)"
   ]
  },
  {
   "cell_type": "markdown",
   "metadata": {},
   "source": [
    "## 3 Exploration statistique\n",
    "\n",
    "### 3.1 Description Univariée\n",
    "\n",
    "Représentation des distributions des différentes variables.\n",
    "\n",
    "#### Variables quantitatives"
   ]
  },
  {
   "cell_type": "code",
   "execution_count": 6,
   "metadata": {
    "scrolled": true
   },
   "outputs": [
    {
     "data": {
      "image/png": "[encoded data removed]",
      "text/plain": [
       "Plot with title “Histogram of df[, \"decile_score\"]”"
      ]
     },
     "metadata": {},
     "output_type": "display_data"
    }
   ],
   "source": [
    "par(mfrow=c(2,3))\n",
    "options(repr.plot.width=12, repr.plot.height=6)\n",
    "hist(df[,'age']); hist(df[,'priors_count']); hist(df[,'decile_score'])\n",
    "boxplot(df[,'age']); boxplot(df[,'priors_count']); boxplot(df[,'decile_score'])"
   ]
  },
  {
   "cell_type": "markdown",
   "metadata": {},
   "source": [
    "Des distributions ne sont pas symmétriques mais, pour rester cohérent avec l'analyse de Propublica aucune transformation n'est appliquée sur ces variables.\n",
    "#### Variables qualitatives"
   ]
  },
  {
   "cell_type": "code",
   "execution_count": 7,
   "metadata": {},
   "outputs": [],
   "source": [
    "df$two_year_recid=as.factor(df$two_year_recid)\n",
    "df$is_recid=as.factor(df$is_recid)\n",
    "two_year_recid=ggplot(data=df, aes(x=two_year_recid))+geom_bar(width=0.2)\n",
    "is_recid=ggplot(data=df, aes(x=is_recid))+geom_bar(width=0.2)\n",
    "origEthn=ggplot(data=df, aes(x=origEthn))+geom_bar(width=0.2)\n",
    "age_cat=ggplot(data=df, aes(x=age_cat))+geom_bar(width=0.2)\n",
    "sex=ggplot(data=df, aes(x=sex))+geom_bar(width=0.2)\n",
    "c_charge_degree=ggplot(data=df, aes(x=c_charge_degree))+geom_bar(width=0.2)\n",
    "score_text=ggplot(data=df, aes(x=score_text))+geom_bar(width=0.2)"
   ]
  },
  {
   "cell_type": "code",
   "execution_count": 8,
   "metadata": {
    "scrolled": true
   },
   "outputs": [
    {
     "data": {
      "image/png": "[encoded data removed]",
      "text/plain": [
       "plot without title"
      ]
     },
     "metadata": {},
     "output_type": "display_data"
    }
   ],
   "source": [
    "options(repr.plot.width=8,repr.plot.height=2)\n",
    "grid.arrange(two_year_recid,is_recid,sex,nrow=1)"
   ]
  },
  {
   "cell_type": "code",
   "execution_count": 9,
   "metadata": {
    "scrolled": true
   },
   "outputs": [
    {
     "data": {
      "image/png": "[encoded data removed]",
      "text/plain": [
       "plot without title"
      ]
     },
     "metadata": {},
     "output_type": "display_data"
    }
   ],
   "source": [
    "options(repr.plot.width=13,repr.plot.height=2)\n",
    "grid.arrange(origEthn,age_cat,c_charge_degree,score_text,nrow=1)"
   ]
  },
  {
   "cell_type": "markdown",
   "metadata": {},
   "source": [
    "La répartition des origines ethniques sont déséquilibrées; seules deux classes sont ensuite considées\n",
    "- `African-American`\n",
    "- `Caucasian`\n",
    "\n",
    "en laissant de côté les origines hispaniques, asiatiques, amérindiennes et autres.\n"
   ]
  },
  {
   "cell_type": "code",
   "execution_count": 10,
   "metadata": {},
   "outputs": [
    {
     "data": {
      "text/plain": [
       "      age        c_charge_degree             origEthn               age_cat    \n",
       " Min.   :18.00   F:3440          African-American:3175   25 - 45        :3026  \n",
       " 1st Qu.:25.00   M:1838          Caucasian       :2103   Greater than 45:1096  \n",
       " Median :31.00                                           Less than 25   :1156  \n",
       " Mean   :34.45                                                                 \n",
       " 3rd Qu.:42.00                                                                 \n",
       " Max.   :80.00                                                                 \n",
       "                                                                               \n",
       "  score_text       sex        priors_count    days_b_screening_arrest\n",
       " High  :1068   Female:1031   Min.   : 0.000   Min.   :-30.00         \n",
       " Low   :2753   Male  :4247   1st Qu.: 0.000   1st Qu.: -1.00         \n",
       " Medium:1457                 Median : 2.000   Median : -1.00         \n",
       "                             Mean   : 3.462   Mean   : -1.73         \n",
       "                             3rd Qu.: 5.000   3rd Qu.: -1.00         \n",
       "                             Max.   :38.000   Max.   : 30.00         \n",
       "                                                                     \n",
       "  decile_score    is_recid two_year_recid               c_jail_in   \n",
       " Min.   : 1.000   0:2631   0:2795         2013-01-01 01:31:55:   1  \n",
       " 1st Qu.: 2.000   1:2647   1:2483         2013-01-01 03:16:15:   1  \n",
       " Median : 4.000                           2013-01-01 03:28:03:   1  \n",
       " Mean   : 4.623                           2013-01-01 04:17:22:   1  \n",
       " 3rd Qu.: 7.000                           2013-01-01 04:29:04:   1  \n",
       " Max.   :10.000                           2013-01-01 05:21:55:   1  \n",
       "                                          (Other)            :5272  \n",
       "               c_jail_out   v_decile_score  \n",
       " 2013-09-14 05:58:00:   3   Min.   : 1.000  \n",
       " 2013-02-06 10:01:51:   2   1st Qu.: 2.000  \n",
       " 2013-08-13 10:05:00:   2   Median : 3.000  \n",
       " 2013-09-14 05:54:00:   2   Mean   : 3.763  \n",
       " 2013-11-09 02:08:17:   2   3rd Qu.: 6.000  \n",
       " 2013-11-20 04:58:00:   2   Max.   :10.000  \n",
       " (Other)            :5265                   "
      ]
     },
     "metadata": {},
     "output_type": "display_data"
    }
   ],
   "source": [
    "df_f=droplevels(df[df$origEthn ==\"Caucasian\" | df$origEthn ==\"African-American\",])\n",
    "summary(df_f)"
   ]
  },
  {
   "cell_type": "markdown",
   "metadata": {},
   "source": [
    "### 3.2 Description bivariée\n",
    "#### *Mosaic plots*\n",
    "Les variables `two_year_recid`  et `is_recid` sont redondantes; utiliser l'une ou l'autre ne change pas fondamentalement les résultats."
   ]
  },
  {
   "cell_type": "code",
   "execution_count": 11,
   "metadata": {
    "scrolled": true
   },
   "outputs": [
    {
     "data": {
      "text/plain": [
       "   \n",
       "       0    1\n",
       "  0 2631    0\n",
       "  1  164 2483"
      ]
     },
     "metadata": {},
     "output_type": "display_data"
    }
   ],
   "source": [
    "table(df_f$is_recid,df_f$two_year_recid)"
   ]
  },
  {
   "cell_type": "code",
   "execution_count": 12,
   "metadata": {},
   "outputs": [
    {
     "data": {
      "image/png": "[encoded data removed]",
      "text/plain": [
       "Plot with title “”"
      ]
     },
     "metadata": {},
     "output_type": "display_data"
    }
   ],
   "source": [
    "options(repr.plot.width=4,repr.plot.height=4)\n",
    "mosaicplot(table(df_f$origEthn,df_f$sex),main=\"\")"
   ]
  },
  {
   "cell_type": "markdown",
   "metadata": {},
   "source": [
    "Les femmes sont bien moins nombreuses et aussi proportionnellement moins présentes parmis les afro-américaines."
   ]
  },
  {
   "cell_type": "code",
   "execution_count": 13,
   "metadata": {},
   "outputs": [
    {
     "data": {
      "image/png": "[encoded data removed]",
      "text/plain": [
       "Plot with title “”"
      ]
     },
     "metadata": {},
     "output_type": "display_data"
    }
   ],
   "source": [
    "mosaicplot(table(df_f$origEthn,df_f$age_cat),main=\"\")"
   ]
  },
  {
   "cell_type": "markdown",
   "metadata": {},
   "source": [
    "Il y'a  proportionnellement plus de jeunes parmi les afro-américains."
   ]
  },
  {
   "cell_type": "code",
   "execution_count": 14,
   "metadata": {},
   "outputs": [
    {
     "data": {
      "image/png": "[encoded data removed]",
      "text/plain": [
       "Plot with title “”"
      ]
     },
     "metadata": {},
     "output_type": "display_data"
    }
   ],
   "source": [
    "mosaicplot(table(df_f$origEthn,df_f$is_recid),main=\"\")"
   ]
  },
  {
   "cell_type": "markdown",
   "metadata": {},
   "source": [
    "et aussi proportionnellement plus de récidivistes. C'est un biais social connu et une information importante à retenir pour la suite."
   ]
  },
  {
   "cell_type": "code",
   "execution_count": 15,
   "metadata": {},
   "outputs": [
    {
     "data": {
      "image/png": "[encoded data removed]",
      "text/plain": [
       "Plot with title “”"
      ]
     },
     "metadata": {},
     "output_type": "display_data"
    }
   ],
   "source": [
    "mosaicplot(table(df_f$origEthn,df_f$c_charge_degree),main=\"\")"
   ]
  },
  {
   "cell_type": "markdown",
   "metadata": {},
   "source": [
    "Même interprétation que précédemment cette fois sur le degré de l'infraction commise qui peut être élevé (F) ou faible(M)."
   ]
  },
  {
   "cell_type": "code",
   "execution_count": 16,
   "metadata": {},
   "outputs": [
    {
     "data": {
      "image/png": "[encoded data removed]",
      "text/plain": [
       "Plot with title “”"
      ]
     },
     "metadata": {},
     "output_type": "display_data"
    }
   ],
   "source": [
    "options(repr.plot.width=4,repr.plot.height=4)\n",
    "mosaicplot(table(df_f$origEthn,df_f$score_text),main='')"
   ]
  },
  {
   "cell_type": "markdown",
   "metadata": {},
   "source": [
    "De façon analogue, les afro-américains sont proportionnellement beaucoup plus associés à un score élevé (High) de récidive."
   ]
  },
  {
   "cell_type": "markdown",
   "metadata": {},
   "source": [
    "\n",
    "### 3.3 Description Multivariée\n",
    "\n",
    "Une [Analyse Factorielle des Corresponsances Multiples](http://wikistat.fr/pdf/st-m-explo-afcm.pdf) est adaptée à la représentation des modalités de variables qualitatives."
   ]
  },
  {
   "cell_type": "code",
   "execution_count": 17,
   "metadata": {},
   "outputs": [],
   "source": [
    "df_quali=subset(df_f,select=c('is_recid','sex','origEthn','age_cat','c_charge_degree','score_text'))\n",
    "afcm=MCA(df_quali,graph=FALSE)"
   ]
  },
  {
   "cell_type": "code",
   "execution_count": 18,
   "metadata": {},
   "outputs": [
    {
     "data": {
      "image/png": "[encoded data removed]",
      "text/plain": [
       "Plot with title “”"
      ]
     },
     "metadata": {},
     "output_type": "display_data"
    }
   ],
   "source": [
    "options(repr.plot.width=5, repr.plot.height=5)\n",
    "plot.MCA(afcm,invisible='ind',habillage=\"quali\", title=\"\")"
   ]
  },
  {
   "cell_type": "markdown",
   "metadata": {},
   "source": [
    "Ce graphique représente assez simplement les correspondances entre les modalités et donc globalement les liens entre les variables. La non récidive (à droite) concerne particulièrement les personnes plus agées, de sexe plutôt féminin, d'origine caucasienne avec un faible score COMPAS. Attention, cette analyse élémentaire ne prend pas en compte d'éventuelles interactions de niveau plus important que 2 entre les variables."
   ]
  },
  {
   "cell_type": "markdown",
   "metadata": {},
   "source": [
    "### 3.4 Simplification des données\n",
    "Dans tous ce qui suit, la variable `score_text` est recodée en deux modalités:\n",
    "- 1 = `low` (la classe favorable),\n",
    "- 0 = `high` et `medium`;\n",
    "\n",
    "de même que la variable `two_year_recid`.\n",
    "\n",
    "*NB* Les codes des classes 0 et 1 sont échangées par rapport aux notations de Propublica dans un souci d'uniformisation par rapport aux méthodes implémentées par la suite: `1` code la situation la plus \"favorable\" c'est-à-dire un faible score de récidive d'une part, une absence de récidive d'autre part."
   ]
  },
  {
   "cell_type": "code",
   "execution_count": 19,
   "metadata": {},
   "outputs": [
    {
     "data": {
      "text/plain": [
       "      age        c_charge_degree             origEthn               age_cat    \n",
       " Min.   :18.00   F:3440          African-American:3175   25 - 45        :3026  \n",
       " 1st Qu.:25.00   M:1838          Caucasian       :2103   Greater than 45:1096  \n",
       " Median :31.00                                           Less than 25   :1156  \n",
       " Mean   :34.45                                                                 \n",
       " 3rd Qu.:42.00                                                                 \n",
       " Max.   :80.00                                                                 \n",
       "                                                                               \n",
       "  score_text       sex        priors_count    days_b_screening_arrest\n",
       " High  :1068   Female:1031   Min.   : 0.000   Min.   :-30.00         \n",
       " Low   :2753   Male  :4247   1st Qu.: 0.000   1st Qu.: -1.00         \n",
       " Medium:1457                 Median : 2.000   Median : -1.00         \n",
       "                             Mean   : 3.462   Mean   : -1.73         \n",
       "                             3rd Qu.: 5.000   3rd Qu.: -1.00         \n",
       "                             Max.   :38.000   Max.   : 30.00         \n",
       "                                                                     \n",
       "  decile_score    is_recid two_year_recid               c_jail_in   \n",
       " Min.   : 1.000   0:2631   0:2795         2013-01-01 01:31:55:   1  \n",
       " 1st Qu.: 2.000   1:2647   1:2483         2013-01-01 03:16:15:   1  \n",
       " Median : 4.000                           2013-01-01 03:28:03:   1  \n",
       " Mean   : 4.623                           2013-01-01 04:17:22:   1  \n",
       " 3rd Qu.: 7.000                           2013-01-01 04:29:04:   1  \n",
       " Max.   :10.000                           2013-01-01 05:21:55:   1  \n",
       "                                          (Other)            :5272  \n",
       "               c_jail_out   v_decile_score   score_bin two_year_recid_bin\n",
       " 2013-09-14 05:58:00:   3   Min.   : 1.000   0:2525    0:2483            \n",
       " 2013-02-06 10:01:51:   2   1st Qu.: 2.000   1:2753    1:2795            \n",
       " 2013-08-13 10:05:00:   2   Median : 3.000                               \n",
       " 2013-09-14 05:54:00:   2   Mean   : 3.763                               \n",
       " 2013-11-09 02:08:17:   2   3rd Qu.: 6.000                               \n",
       " 2013-11-20 04:58:00:   2   Max.   :10.000                               \n",
       " (Other)            :5265                                                "
      ]
     },
     "metadata": {},
     "output_type": "display_data"
    }
   ],
   "source": [
    "score_bin=as.factor(ifelse(df_f$score_text=='Low',1,0))\n",
    "two_year_recid_bin=as.factor(ifelse(df_f$two_year_recid=='1',0,1))\n",
    "df_t=data.frame(df_f,score_bin,two_year_recid_bin)\n",
    "summary(df_t)"
   ]
  },
  {
   "cell_type": "code",
   "execution_count": 20,
   "metadata": {},
   "outputs": [
    {
     "data": {
      "text/plain": [
       "   \n",
       "       0    1\n",
       "  0 2631  164\n",
       "  1    0 2483"
      ]
     },
     "metadata": {},
     "output_type": "display_data"
    }
   ],
   "source": [
    "table(df_f$two_year_recid,df_f$is_recid)"
   ]
  },
  {
   "cell_type": "markdown",
   "metadata": {},
   "source": [
    "## 4 Biais et discriminations\n",
    "Différents critères de biais ou discrimination sont évalués; trois niveaux sont successivement considérés.\n",
    "\n",
    "1. L'effet disproportionné (*disparate impact*) est couramment utilisés pour détecter aux USA une discrimination indirecte ou implicite ou envers un groupe pour l'accès à l'emploi ou un logement. Il est estimé par intervalle de confiance (Besse et al. 2008) en fonction des répartitions par origine des\n",
    "    - récidives afin de mettre en évidence des biais déjà présents dans les données, \n",
    "    - prévisions de récidive issues du score Compas afin d'évaluer si la prévision répercute ou renforce ce biais.\n",
    "2. La comparaison des erreurs de prévision conditionnellement à l'origine etnique. \n",
    "3. Enfin, selon la démarche de Propublica, c'est l'asymétrie des matrices de confusion selon l'origine ethnique qui est étudiée."
   ]
  },
  {
   "cell_type": "markdown",
   "metadata": {},
   "source": [
    "### 4.1 *Disparate Impact* ou effet disproportionné\n",
    "\n",
    "Deux niveaux de mesures de discrimination sont considérées. Le premier: *discrimination assessment* ou DA est calculé sur les données d'apprentissage afin d'évaluer le biais discriminatoire déjà présent dans les données. Le deuxième mesure l'impact d'un modèle ou algorithme sur la discrimination: *discrimination impact assessment* ou DIA. \n",
    "\n",
    "#### Notations \n",
    "\n",
    "- $Y$ est la variable cible ou à expliquer, ici le revenu, $Y=1$ revenu élevé *vs* $Y=0$; \n",
    "- $g(X)=\\hat{Y}$ le score élevé ou faible ou prévision du revenu, $g(X)=\\hat{Y}=0$: prévision d'un revenu faible;\n",
    "- $S$ est la variable sensible qui désigne le groupe en principe protégé par la loi contre une possible discrimination. Il s'agit ici du genre ou de l'origine ethnique réduite à 2 modalités: caucasien ($S=1$) ou non caucasien ($S=0$). \n",
    "\n",
    "L'effet disproportionné mesure une situation de biais de société déjà présent dans la base de données. \n",
    "$$DI=\\frac{P(Y=1|S=0)}{P(Y=1|S=1)}.$$\n",
    "Il est estimé à partir des valeurs de la table de contingence croisant les variables $Y$ et $S$ par le rapport:\n",
    "$$\\frac{n_{21}}{(n_{11}+n_{21})}/\\frac{n_{22}}{(n_{12}+n_{22})}.$$\n",
    "\n",
    "Appliqué à la prévision $g(X)=\\hat{Y}$ de la variable cible $Y$, il mesure le biais de cette prévision et donc le risque de discrimination opéré par la prévision.\n",
    "\n",
    "#### Fonction *disparate*\n",
    "Une fonction R calcule le $DI$ et fournit de plus une estimation par intervalle de confiance (Besse et al. 2018) décomposant la fonction de densité de la statistique de test par la *delta method*. Cette fonction a quatre arguments:   \n",
    "- une matrice $X$ de valeurs binaires $(0,1)$;\n",
    "- l'indice de la variable $S$  de $X$ considérée comme sensible; \n",
    "- l'indice de la variable cible $Y$ ou de sa prévision $g(X)=\\hat{Y}$;\n",
    "- le risque de l'intervalle de confiance, par défaut 5%.\n",
    "\n",
    "Elle renvoie les trois estimations $DI$ et $IC_g$, $IC_d$ bornes de l'intervalle de confiance.\n",
    "\n",
    "Cette fonction estime aussi, la cas échéant, le *BER* (*Balanced Error Rate*):\n",
    "$$BER=\\frac{P(\\hat{Y}=0|S=1)+P(\\hat{Y}=1|S=0)}{2}.$$\n",
    "\n",
    "#### Recodage des données\n",
    "La fonction `disparate` nécessite de mettre en forme les variables utilisées; par principe, \"1\" code la modalité plus \"favorable\": origine caucasienne, pas de récidive, score faible et, suivant Propublica, le score de récidive est considéré élevé lorsqu'il est plus grand que 4."
   ]
  },
  {
   "cell_type": "code",
   "execution_count": 21,
   "metadata": {},
   "outputs": [
    {
     "data": {
      "text/html": [
       "<table>\n",
       "<thead><tr><th></th><th scope=col>S</th><th scope=col>Ycompas</th><th scope=col>Y</th><th scope=col>origEthn</th><th scope=col>decile_score</th><th scope=col>two_year_recid</th></tr></thead>\n",
       "<tbody>\n",
       "\t<tr><th scope=row>8</th><td>1               </td><td>1               </td><td>1               </td><td>Caucasian       </td><td>4               </td><td>0               </td></tr>\n",
       "\t<tr><th scope=row>9</th><td>0               </td><td>0               </td><td>0               </td><td>African-American</td><td>6               </td><td>1               </td></tr>\n",
       "\t<tr><th scope=row>10</th><td>1               </td><td>1               </td><td>1               </td><td>Caucasian       </td><td>1               </td><td>0               </td></tr>\n",
       "\t<tr><th scope=row>11</th><td>0               </td><td>1               </td><td>1               </td><td>African-American</td><td>4               </td><td>0               </td></tr>\n",
       "\t<tr><th scope=row>12</th><td>1               </td><td>1               </td><td>0               </td><td>Caucasian       </td><td>1               </td><td>1               </td></tr>\n",
       "\t<tr><th scope=row>13</th><td>0               </td><td>1               </td><td>0               </td><td>African-American</td><td>3               </td><td>1               </td></tr>\n",
       "</tbody>\n",
       "</table>\n"
      ],
      "text/latex": [
       "\\begin{tabular}{r|llllll}\n",
       "  & S & Ycompas & Y & origEthn & decile\\_score & two\\_year\\_recid\\\\\n",
       "\\hline\n",
       "\t8 & 1                & 1                & 1                & Caucasian        & 4                & 0               \\\\\n",
       "\t9 & 0                & 0                & 0                & African-American & 6                & 1               \\\\\n",
       "\t10 & 1                & 1                & 1                & Caucasian        & 1                & 0               \\\\\n",
       "\t11 & 0                & 1                & 1                & African-American & 4                & 0               \\\\\n",
       "\t12 & 1                & 1                & 0                & Caucasian        & 1                & 1               \\\\\n",
       "\t13 & 0                & 1                & 0                & African-American & 3                & 1               \\\\\n",
       "\\end{tabular}\n"
      ],
      "text/markdown": [
       "\n",
       "| <!--/--> | S | Ycompas | Y | origEthn | decile_score | two_year_recid |\n",
       "|---|---|---|---|---|---|---|\n",
       "| 8 | 1                | 1                | 1                | Caucasian        | 4                | 0                |\n",
       "| 9 | 0                | 0                | 0                | African-American | 6                | 1                |\n",
       "| 10 | 1                | 1                | 1                | Caucasian        | 1                | 0                |\n",
       "| 11 | 0                | 1                | 1                | African-American | 4                | 0                |\n",
       "| 12 | 1                | 1                | 0                | Caucasian        | 1                | 1                |\n",
       "| 13 | 0                | 1                | 0                | African-American | 3                | 1                |\n",
       "\n"
      ],
      "text/plain": [
       "   S Ycompas Y origEthn         decile_score two_year_recid\n",
       "8  1 1       1 Caucasian        4            0             \n",
       "9  0 0       0 African-American 6            1             \n",
       "10 1 1       1 Caucasian        1            0             \n",
       "11 0 1       1 African-American 4            0             \n",
       "12 1 1       0 Caucasian        1            1             \n",
       "13 0 1       0 African-American 3            1             "
      ]
     },
     "metadata": {},
     "output_type": "display_data"
    }
   ],
   "source": [
    "# Construction du data frame\n",
    "S= as.integer(df_t$origEthn)-1\n",
    "Y=2-as.integer(df_t$is_recid)\n",
    "Ycompas=1-as.integer(df_t$decile_score>4)\n",
    "coded_data=data.frame(S,Ycompas,Y)\n",
    "cbind(coded_data,df_t[,c(\"origEthn\",\"decile_score\",\"two_year_recid\")])[5:10,]"
   ]
  },
  {
   "cell_type": "code",
   "execution_count": 22,
   "metadata": {},
   "outputs": [
    {
     "data": {
      "text/plain": [
       "   \n",
       "       0    1\n",
       "  0 1773  874\n",
       "  1 1402 1229"
      ]
     },
     "metadata": {},
     "output_type": "display_data"
    }
   ],
   "source": [
    "table(coded_data$Y,coded_data$S)"
   ]
  },
  {
   "cell_type": "markdown",
   "metadata": {},
   "source": [
    "#### $DI$ estimé sur la base d'apprentissage \n",
    "Estimation ponctuelle du $DI$ pour déterminer le biais sociale de la variable observée $Y$ de récidive."
   ]
  },
  {
   "cell_type": "code",
   "execution_count": 23,
   "metadata": {},
   "outputs": [
    {
     "data": {
      "text/html": [
       "0.76"
      ],
      "text/latex": [
       "0.76"
      ],
      "text/markdown": [
       "0.76"
      ],
      "text/plain": [
       "[1] 0.76"
      ]
     },
     "metadata": {},
     "output_type": "display_data"
    }
   ],
   "source": [
    "DI=function(table){round((table[2,1]/(table[1,1]+table[2,1]))/(table[2,2]/(table[1,2]+table[2,2])),2)}\n",
    "DI(table(coded_data$Y,coded_data$S))"
   ]
  },
  {
   "cell_type": "markdown",
   "metadata": {},
   "source": [
    "Estimation par intervalle de confiance."
   ]
  },
  {
   "cell_type": "code",
   "execution_count": 24,
   "metadata": {},
   "outputs": [
    {
     "data": {
      "text/html": [
       "<ol class=list-inline>\n",
       "\t<li>0.72</li>\n",
       "\t<li>0.76</li>\n",
       "\t<li>0.8</li>\n",
       "</ol>\n"
      ],
      "text/latex": [
       "\\begin{enumerate*}\n",
       "\\item 0.72\n",
       "\\item 0.76\n",
       "\\item 0.8\n",
       "\\end{enumerate*}\n"
      ],
      "text/markdown": [
       "1. 0.72\n",
       "2. 0.76\n",
       "3. 0.8\n",
       "\n",
       "\n"
      ],
      "text/plain": [
       "[1] 0.72 0.76 0.80"
      ]
     },
     "metadata": {},
     "output_type": "display_data"
    }
   ],
   "source": [
    "source('../Functions/disparate.R')\n",
    "round(disparate(coded_data,1,3),2)[1:3]"
   ]
  },
  {
   "cell_type": "markdown",
   "metadata": {},
   "source": [
    "Il y a proportionnellement plus de récidives pour une origine afro-américaine mais sans que celle-ci soit disproportionnée car $0.8 \\in DI$\n",
    "\n",
    "#### $DI$ sur la base du score COMPAS\n",
    "Estimation ponctuelle."
   ]
  },
  {
   "cell_type": "code",
   "execution_count": 25,
   "metadata": {},
   "outputs": [
    {
     "data": {
      "text/html": [
       "0.63"
      ],
      "text/latex": [
       "0.63"
      ],
      "text/markdown": [
       "0.63"
      ],
      "text/plain": [
       "[1] 0.63"
      ]
     },
     "metadata": {},
     "output_type": "display_data"
    }
   ],
   "source": [
    "DI(table(coded_data$Ycompas,coded_data$S))"
   ]
  },
  {
   "cell_type": "markdown",
   "metadata": {},
   "source": [
    "Estimation par intervalle de confiance."
   ]
  },
  {
   "cell_type": "code",
   "execution_count": 26,
   "metadata": {},
   "outputs": [
    {
     "data": {
      "text/html": [
       "<ol class=list-inline>\n",
       "\t<li>0.6</li>\n",
       "\t<li>0.63</li>\n",
       "\t<li>0.67</li>\n",
       "</ol>\n"
      ],
      "text/latex": [
       "\\begin{enumerate*}\n",
       "\\item 0.6\n",
       "\\item 0.63\n",
       "\\item 0.67\n",
       "\\end{enumerate*}\n"
      ],
      "text/markdown": [
       "1. 0.6\n",
       "2. 0.63\n",
       "3. 0.67\n",
       "\n",
       "\n"
      ],
      "text/plain": [
       "[1] 0.60 0.63 0.67"
      ]
     },
     "metadata": {},
     "output_type": "display_data"
    }
   ],
   "source": [
    "round(disparate(coded_data,1,2),2)[1:3]"
   ]
  },
  {
   "cell_type": "markdown",
   "metadata": {},
   "source": [
    "Le score Compas renforce significativement le caractère discriminatoire car les intervalles sont disjoints. C'est contradictoire sur cet exemple avec les affirmation d'*equivant* qui affirme que les score se distribuent de façon identique selon l'origine ethnique."
   ]
  },
  {
   "cell_type": "markdown",
   "metadata": {},
   "source": [
    "### 4.2 Taux d'erreur selon l'origine\n",
    "L'estimation du taux d'erreur induit par le score Compas peut être calculée avec l'ensemble des données car le modèle sous-jacent a été estimé sur d'autres données."
   ]
  },
  {
   "cell_type": "code",
   "execution_count": 27,
   "metadata": {},
   "outputs": [],
   "source": [
    "tauxErr=function(table){round((table[1,2]+table[2,1])/sum(table)*100,1)}"
   ]
  },
  {
   "cell_type": "code",
   "execution_count": 28,
   "metadata": {},
   "outputs": [
    {
     "data": {
      "text/html": [
       "34.4"
      ],
      "text/latex": [
       "34.4"
      ],
      "text/markdown": [
       "34.4"
      ],
      "text/plain": [
       "[1] 34.4"
      ]
     },
     "metadata": {},
     "output_type": "display_data"
    }
   ],
   "source": [
    "tauxErr(table(df_t$decile_score>4,df_t$is_recid==1))"
   ]
  },
  {
   "cell_type": "markdown",
   "metadata": {},
   "source": [
    "On trouve comme attendu un taux d'erreur important de 34% qui est ventilé selon l'origine:"
   ]
  },
  {
   "cell_type": "code",
   "execution_count": 29,
   "metadata": {
    "scrolled": true
   },
   "outputs": [
    {
     "data": {
      "text/html": [
       "<dl class=dl-horizontal>\n",
       "\t<dt>African-American</dt>\n",
       "\t\t<dd>34.8</dd>\n",
       "\t<dt>Caucasian</dt>\n",
       "\t\t<dd>33.8</dd>\n",
       "</dl>\n"
      ],
      "text/latex": [
       "\\begin{description*}\n",
       "\\item[African-American] 34.8\n",
       "\\item[Caucasian] 33.8\n",
       "\\end{description*}\n"
      ],
      "text/markdown": [
       "African-American\n",
       ":   34.8Caucasian\n",
       ":   33.8\n",
       "\n"
      ],
      "text/plain": [
       "African-American        Caucasian \n",
       "            34.8             33.8 "
      ]
     },
     "metadata": {},
     "output_type": "display_data"
    }
   ],
   "source": [
    "apply(table(df_t$decile_score>4,df_t$is_recid==1,df_t$origEthn),3,tauxErr)"
   ]
  },
  {
   "cell_type": "markdown",
   "metadata": {},
   "source": [
    "*Question*: ces taux d'erreur sont-ils significativement différents? Estimation d'intervalles de confiance par delta method? par bootstrap ? par validation croisée généralisée?\n",
    "\n",
    "En principe *equivant* affirme que ces taux sont similaires pour qu'il n'y ait pas discrimination; cela semble peu probant sur ces données.\n",
    "\n",
    "*Remarque*: le critère de *overall accuracy equality* est obtenu en calculant 1- ces taux d'erreur."
   ]
  },
  {
   "cell_type": "markdown",
   "metadata": {},
   "source": [
    "### 4.3 Asymétrie des matrices de confusion\n",
    "Une troisième source de discrimination concerne une inversion de l'asymétrie de la matrice de confusion selon la variable sensible, notamment les taux de faux positifs ou faux négatifs selon l'origine.\n",
    "\n",
    "De très nombreux critères ont été proposés pour évaluer cette asymétrie et dont [Verma et Rubin 2018](http://fairware.cs.umass.edu/papers/Verma.pdf)) proposent une synthèse. Leur définitions sont basées sur les différentes fréquences issues de la table de contingence et calculées par la fonction ci-dessous."
   ]
  },
  {
   "cell_type": "code",
   "execution_count": 30,
   "metadata": {},
   "outputs": [],
   "source": [
    "contRatio <- function(T){ \n",
    "    # Ratios calculés à partir de la matrice de confusion\n",
    "    TP=T[2,2] # true positive\n",
    "    FP=T[1,2] # false positive\n",
    "    FN=T[2,1] # false negative\n",
    "    TN=T[1,1]  # true negative\n",
    "    PPV=TP/(TP+FP) # P(Y=1|g(x)=1) positive predictive value\n",
    "    FDR=FP/(TP+FP) # P(Y=0|g(x)=1) false discovery rate \n",
    "    FOR=FN/(TN+FN) # P(Y=1|g(x)=0) false omission rate\n",
    "    NPV=TN/(TN+FN) # P(Y=0|g(x)=0) negative predictive value\n",
    "    TPR=TP/(TP+FN) # P(g(x)=1|Y=1) true positive rate\n",
    "    FPR=FP/(FP+TN) # P(g(x)=1|Y=0) false positive rate\n",
    "    FNR=FN/(TP+FN) # P(g(x)=0|Y=1) false negative rate\n",
    "    TNR=TN/(FP+TN) # P(g(x)=0|Y=0) true negative rate\n",
    "    return(list(\"PPV\"=PPV,\"FDR\"=FDR,\"FOR\"=FOR,\"NPV\"=NPV,\"TPR\"=TPR,\"FPR\"=FPR,\"FNR\"=FNR,\"TNR\"=TNR))\n",
    "}"
   ]
  },
  {
   "cell_type": "code",
   "execution_count": 31,
   "metadata": {},
   "outputs": [
    {
     "data": {
      "text/html": [
       "<dl>\n",
       "\t<dt>$PPV</dt>\n",
       "\t\t<dd>0.678069175218548</dd>\n",
       "\t<dt>$FDR</dt>\n",
       "\t\t<dd>0.321930824781452</dd>\n",
       "\t<dt>$FOR</dt>\n",
       "\t\t<dd>0.366074801662259</dd>\n",
       "\t<dt>$NPV</dt>\n",
       "\t\t<dd>0.633925198337741</dd>\n",
       "\t<dt>$TPR</dt>\n",
       "\t\t<dd>0.648020341445696</dd>\n",
       "\t<dt>$FPR</dt>\n",
       "\t\t<dd>0.335445544554455</dd>\n",
       "\t<dt>$FNR</dt>\n",
       "\t\t<dd>0.351979658554304</dd>\n",
       "\t<dt>$TNR</dt>\n",
       "\t\t<dd>0.664554455445545</dd>\n",
       "</dl>\n"
      ],
      "text/latex": [
       "\\begin{description}\n",
       "\\item[\\$PPV] 0.678069175218548\n",
       "\\item[\\$FDR] 0.321930824781452\n",
       "\\item[\\$FOR] 0.366074801662259\n",
       "\\item[\\$NPV] 0.633925198337741\n",
       "\\item[\\$TPR] 0.648020341445696\n",
       "\\item[\\$FPR] 0.335445544554455\n",
       "\\item[\\$FNR] 0.351979658554304\n",
       "\\item[\\$TNR] 0.664554455445545\n",
       "\\end{description}\n"
      ],
      "text/markdown": [
       "$PPV\n",
       ":   0.678069175218548\n",
       "$FDR\n",
       ":   0.321930824781452\n",
       "$FOR\n",
       ":   0.366074801662259\n",
       "$NPV\n",
       ":   0.633925198337741\n",
       "$TPR\n",
       ":   0.648020341445696\n",
       "$FPR\n",
       ":   0.335445544554455\n",
       "$FNR\n",
       ":   0.351979658554304\n",
       "$TNR\n",
       ":   0.664554455445545\n",
       "\n",
       "\n"
      ],
      "text/plain": [
       "$PPV\n",
       "[1] 0.6780692\n",
       "\n",
       "$FDR\n",
       "[1] 0.3219308\n",
       "\n",
       "$FOR\n",
       "[1] 0.3660748\n",
       "\n",
       "$NPV\n",
       "[1] 0.6339252\n",
       "\n",
       "$TPR\n",
       "[1] 0.6480203\n",
       "\n",
       "$FPR\n",
       "[1] 0.3354455\n",
       "\n",
       "$FNR\n",
       "[1] 0.3519797\n",
       "\n",
       "$TNR\n",
       "[1] 0.6645545\n"
      ]
     },
     "metadata": {},
     "output_type": "display_data"
    }
   ],
   "source": [
    "contRatio(table(coded_data$Ycompas,coded_data$Y))"
   ]
  },
  {
   "cell_type": "markdown",
   "metadata": {},
   "source": [
    "Liste de critères de loyauté pouvant être définis à partir des fréquences précédentes conditionnellement à la variable sensible. Selon les auteurs, il y a loyauté de traitement si:\n",
    "- *Predictive parity*: les deux groupes ont les mêmes *PPV*s et par conséquence les mêmes *FDR*s;\n",
    "- *False positive error rate balance* ou *predictive equality*: mêmes *FPR*s et par conséquence les mêmes *TNR*s;\n",
    "- *False negative error rate balance* ou *equal opportunity*: mêmes *FNR*s et par conséquence les mêmes *TPR*s;\n",
    "- *Conditional procedure accuracy equality* ou *disparate mistreatment* ou *equalized odds* combine les deux ci-dessus: mêmes *TPR*s **ET** mêmes *FPR*s;\n",
    "- *Conditionnal use accuracy equality*: mêmes *PPV*s **ET** mêmes *NPV*s;\n",
    "- *Teatment equality*: les rapports *FN/FP* sont les mêmes pour les deux groupes.\n",
    "\n",
    "D'autres critères ont été proposés (cf. Verma et Rubin; 2018), il ne sont pas développés ici.\n",
    "\n",
    "La matrice de confusion est calculée conditionnellement à l'origine."
   ]
  },
  {
   "cell_type": "code",
   "execution_count": 32,
   "metadata": {},
   "outputs": [
    {
     "data": {
      "text/html": [
       "<table>\n",
       "<thead><tr><th></th><th scope=col>AfroAmericain</th><th scope=col>Caucasien</th></tr></thead>\n",
       "<tbody>\n",
       "\t<tr><th scope=row>PPV</th><td>0.585592 </td><td>0.7835639</td></tr>\n",
       "\t<tr><th scope=row>FDR</th><td>0.414408 </td><td>0.2164361</td></tr>\n",
       "\t<tr><th scope=row>FOR</th><td>0.2961083</td><td>0.5080092</td></tr>\n",
       "\t<tr><th scope=row>NPV</th><td>0.7038917</td><td>0.4919908</td></tr>\n",
       "\t<tr><th scope=row>TPR</th><td>0.6099554</td><td>0.684435 </td></tr>\n",
       "\t<tr><th scope=row>FPR</th><td>0.3176599</td><td>0.3821839</td></tr>\n",
       "\t<tr><th scope=row>FNR</th><td>0.3900446</td><td>0.315565 </td></tr>\n",
       "\t<tr><th scope=row>TNR</th><td>0.6823401</td><td>0.6178161</td></tr>\n",
       "</tbody>\n",
       "</table>\n"
      ],
      "text/latex": [
       "\\begin{tabular}{r|ll}\n",
       "  & AfroAmericain & Caucasien\\\\\n",
       "\\hline\n",
       "\tPPV & 0.585592  & 0.7835639\\\\\n",
       "\tFDR & 0.414408  & 0.2164361\\\\\n",
       "\tFOR & 0.2961083 & 0.5080092\\\\\n",
       "\tNPV & 0.7038917 & 0.4919908\\\\\n",
       "\tTPR & 0.6099554 & 0.684435 \\\\\n",
       "\tFPR & 0.3176599 & 0.3821839\\\\\n",
       "\tFNR & 0.3900446 & 0.315565 \\\\\n",
       "\tTNR & 0.6823401 & 0.6178161\\\\\n",
       "\\end{tabular}\n"
      ],
      "text/markdown": [
       "\n",
       "| <!--/--> | AfroAmericain | Caucasien |\n",
       "|---|---|---|\n",
       "| PPV | 0.585592  | 0.7835639 |\n",
       "| FDR | 0.414408  | 0.2164361 |\n",
       "| FOR | 0.2961083 | 0.5080092 |\n",
       "| NPV | 0.7038917 | 0.4919908 |\n",
       "| TPR | 0.6099554 | 0.684435  |\n",
       "| FPR | 0.3176599 | 0.3821839 |\n",
       "| FNR | 0.3900446 | 0.315565  |\n",
       "| TNR | 0.6823401 | 0.6178161 |\n",
       "\n"
      ],
      "text/plain": [
       "    AfroAmericain Caucasien\n",
       "PPV 0.585592      0.7835639\n",
       "FDR 0.414408      0.2164361\n",
       "FOR 0.2961083     0.5080092\n",
       "NPV 0.7038917     0.4919908\n",
       "TPR 0.6099554     0.684435 \n",
       "FPR 0.3176599     0.3821839\n",
       "FNR 0.3900446     0.315565 \n",
       "TNR 0.6823401     0.6178161"
      ]
     },
     "metadata": {},
     "output_type": "display_data"
    }
   ],
   "source": [
    "fairness=data.frame(\"AfroAmericain\"=as.matrix(contRatio(table(coded_data$Ycompas,coded_data$Y,coded_data$S)[,,1])),\n",
    "                    \"Caucasien\"=as.matrix(contRatio(table(coded_data$Ycompas,coded_data$Y,coded_data$S)[,,2])))\n",
    "fairness"
   ]
  },
  {
   "cell_type": "markdown",
   "metadata": {},
   "source": [
    "Il n'est pas simple de comparer toutes ces quantités. Il apparaît néanmoins que les taux de faux positifs (*Conditional procedure accuracy equality*) sont en faveur des caucasiens et les taux de faux négatifs aux détriment ds afro-américains. Cette asymétrie inversée des matrice de confusion est à l'origine de la controverse publiée par Propublica dénonçant le racisme du score COMPAS.\n",
    "\n",
    "#### Estimation par intervalle de confiance de OAE\n",
    "La comparaison des taux de faux positifs (resp. négatifs) peut être précisée en estimant leur rapport par un intervalle de confiance. C'est l'objet de la fonction `OverallAccuracyEquality` qui admet 5 paramètres:\n",
    "- X: matrice X de caleurs binaires\n",
    "- S: index de la variable du groupe protégé\n",
    "- Y: index de la variable cible\n",
    "- P: index de la prévision $\\hat{Y}$"
   ]
  },
  {
   "cell_type": "code",
   "execution_count": 33,
   "metadata": {},
   "outputs": [
    {
     "data": {
      "text/plain": [
       "       S             Ycompas             Y         \n",
       " Min.   :0.0000   Min.   :0.0000   Min.   :0.0000  \n",
       " 1st Qu.:0.0000   1st Qu.:0.0000   1st Qu.:0.0000  \n",
       " Median :0.0000   Median :1.0000   Median :0.0000  \n",
       " Mean   :0.3984   Mean   :0.5216   Mean   :0.4985  \n",
       " 3rd Qu.:1.0000   3rd Qu.:1.0000   3rd Qu.:1.0000  \n",
       " Max.   :1.0000   Max.   :1.0000   Max.   :1.0000  "
      ]
     },
     "metadata": {},
     "output_type": "display_data"
    }
   ],
   "source": [
    "source('../Functions/OverallAccuracyEquality.R')\n",
    "summary(coded_data)"
   ]
  },
  {
   "cell_type": "code",
   "execution_count": 34,
   "metadata": {},
   "outputs": [
    {
     "data": {
      "text/html": [
       "<table>\n",
       "<thead><tr><th></th><th scope=col>inf</th><th scope=col>est_value</th><th scope=col>sup</th></tr></thead>\n",
       "<tbody>\n",
       "\t<tr><th scope=row>TP</th><td>0.7077817</td><td>0.7473443</td><td>0.7869069</td></tr>\n",
       "\t<tr><th scope=row>TN</th><td>1.3250824</td><td>1.4307008</td><td>1.5363192</td></tr>\n",
       "</tbody>\n",
       "</table>\n"
      ],
      "text/latex": [
       "\\begin{tabular}{r|lll}\n",
       "  & inf & est\\_value & sup\\\\\n",
       "\\hline\n",
       "\tTP & 0.7077817 & 0.7473443 & 0.7869069\\\\\n",
       "\tTN & 1.3250824 & 1.4307008 & 1.5363192\\\\\n",
       "\\end{tabular}\n"
      ],
      "text/markdown": [
       "\n",
       "| <!--/--> | inf | est_value | sup |\n",
       "|---|---|---|---|\n",
       "| TP | 0.7077817 | 0.7473443 | 0.7869069 |\n",
       "| TN | 1.3250824 | 1.4307008 | 1.5363192 |\n",
       "\n"
      ],
      "text/plain": [
       "   inf       est_value sup      \n",
       "TP 0.7077817 0.7473443 0.7869069\n",
       "TN 1.3250824 1.4307008 1.5363192"
      ]
     },
     "metadata": {},
     "output_type": "display_data"
    }
   ],
   "source": [
    "OAE(coded_data,1,3,2,alpha=0.05)"
   ]
  },
  {
   "cell_type": "code",
   "execution_count": 35,
   "metadata": {},
   "outputs": [
    {
     "data": {
      "text/html": [
       "0.831170282159976"
      ],
      "text/latex": [
       "0.831170282159976"
      ],
      "text/markdown": [
       "0.831170282159976"
      ],
      "text/plain": [
       "[1] 0.8311703"
      ]
     },
     "metadata": {},
     "output_type": "display_data"
    },
    {
     "data": {
      "text/html": [
       "1.23601983743444"
      ],
      "text/latex": [
       "1.23601983743444"
      ],
      "text/markdown": [
       "1.23601983743444"
      ],
      "text/plain": [
       "[1] 1.23602"
      ]
     },
     "metadata": {},
     "output_type": "display_data"
    }
   ],
   "source": [
    "0.3176599/0.3821839; 0.3900446/0.315565"
   ]
  },
  {
   "cell_type": "markdown",
   "metadata": {},
   "source": [
    "Résultats proches mais pas identiques... et assez différents de ceux du manuscripts; En revanche, les estimations des DI sont cohérentes. Chercher l'erreur..."
   ]
  },
  {
   "cell_type": "markdown",
   "metadata": {},
   "source": [
    "## 5 Prévision de la récidive\n",
    "Cette section est consacrée à la comparaison de deux scores de récidive. Celui COMPAS fournit par la société *equivant* et celui obtenu à partir d'un simple modèle de régression logistique. Bien d'autres algorithmes de prévision auraient pu être testés mais ce n'est pas le principal objectif.\n",
    "\n",
    "### 5.1 Qualité du score COMPAS\n",
    "\n",
    "#### Echantillon test\n",
    "Pour rendre possible les comparaisons, les erreurs sont estimées sur le même échantillon test qui sera indépendant de l'échantillon d'apprentissage utilisé pour la régression logistique."
   ]
  },
  {
   "cell_type": "code",
   "execution_count": 36,
   "metadata": {},
   "outputs": [],
   "source": [
    "npop=nrow(df_t)\n",
    "# tirage de 1000 indices sans remise\n",
    "set.seed(11)\n",
    "testi=sample(1:npop,1000)\n",
    "#Liste des indices restant qui n’ont pas été tirés\n",
    "appri=setdiff(1:npop,testi)\n",
    "# Extraction échantillons d’apprentissage\n",
    "dataApp=df_t[appri,]\n",
    "# Echantillon test\n",
    "dataTest=df_t[testi,]"
   ]
  },
  {
   "cell_type": "markdown",
   "metadata": {},
   "source": [
    "#### Taux d'erreur du score COMPAS\n",
    "Le seuil de score COMPAS de \"4\" est celui généralement retenu pour prévoir une récidive."
   ]
  },
  {
   "cell_type": "code",
   "execution_count": 37,
   "metadata": {},
   "outputs": [
    {
     "data": {
      "text/plain": [
       "       \n",
       "        FALSE TRUE\n",
       "  FALSE   334  188\n",
       "  TRUE    161  317"
      ]
     },
     "metadata": {},
     "output_type": "display_data"
    },
    {
     "data": {
      "text/html": [
       "34.9"
      ],
      "text/latex": [
       "34.9"
      ],
      "text/markdown": [
       "34.9"
      ],
      "text/plain": [
       "[1] 34.9"
      ]
     },
     "metadata": {},
     "output_type": "display_data"
    }
   ],
   "source": [
    "conf=table(dataTest$decile_score>4,dataTest$is_recid==1)\n",
    "conf;tauxErr(conf)"
   ]
  },
  {
   "cell_type": "markdown",
   "metadata": {},
   "source": [
    "Taux d'erreur très élevé comme attendu et légèrement différent de celui estimé sur toutes les données. Il dépend de l'échantillon qui a été tiré et donc de l'initialisation du génératoire de nombres aléatoires."
   ]
  },
  {
   "cell_type": "markdown",
   "metadata": {},
   "source": [
    "### 5.3 Qualité prédictive d'une régression logistique\n",
    "Dans son étude, Problica propose l'estimation d'un modèle de régression logistique expliquant la variable `score_text` en fonction des variables: origine Ethnique, âge, *criminal history*, *future recidivism*, *charge degree*, genre, afin d'évaluer les influences de ces variables sur le score COMPAS. Propublica propose également de mettre en évidence l'effet des interactions avec la variable `age`. \n",
    "\n",
    "La régression logistique est utilisée ci-dessous avec un objectif plutôt prédictif. La récidive peut elle être prédite en fonction des quelques caractéristiques connues des individus? Cette prévision est-elle meilleure ou tout du moins aussi mauvaise que celle fournie par le score COMPAS produit par la société *equivant*?\n",
    "#### Estimation du modèle"
   ]
  },
  {
   "cell_type": "code",
   "execution_count": 38,
   "metadata": {},
   "outputs": [
    {
     "data": {
      "text/plain": [
       "\n",
       "Call:\n",
       "glm(formula = is_recid ~ sex + origEthn + age + age_cat + priors_count + \n",
       "    +c_charge_degree, family = binomial(link = \"logit\"), data = dataApp)\n",
       "\n",
       "Deviance Residuals: \n",
       "    Min       1Q   Median       3Q      Max  \n",
       "-2.7043  -1.0309   0.1324   1.0372   2.2348  \n",
       "\n",
       "Coefficients:\n",
       "                        Estimate Std. Error z value Pr(>|z|)    \n",
       "(Intercept)             0.787683   0.232408   3.389 0.000701 ***\n",
       "sexMale                 0.424154   0.085287   4.973 6.58e-07 ***\n",
       "origEthnCaucasian      -0.140859   0.070562  -1.996 0.045909 *  \n",
       "age                    -0.049838   0.006732  -7.403 1.33e-13 ***\n",
       "age_catGreater than 45  0.374607   0.164744   2.274 0.022974 *  \n",
       "age_catLess than 25     0.216568   0.105955   2.044 0.040957 *  \n",
       "priors_count            0.177610   0.010082  17.616  < 2e-16 ***\n",
       "c_charge_degreeM       -0.147132   0.070981  -2.073 0.038188 *  \n",
       "---\n",
       "Signif. codes:  0 ‘***’ 0.001 ‘**’ 0.01 ‘*’ 0.05 ‘.’ 0.1 ‘ ’ 1\n",
       "\n",
       "(Dispersion parameter for binomial family taken to be 1)\n",
       "\n",
       "    Null deviance: 5930.6  on 4277  degrees of freedom\n",
       "Residual deviance: 5200.4  on 4270  degrees of freedom\n",
       "AIC: 5216.4\n",
       "\n",
       "Number of Fisher Scoring iterations: 4\n"
      ]
     },
     "metadata": {},
     "output_type": "display_data"
    }
   ],
   "source": [
    "model_logit <- glm(is_recid ~ sex+origEthn+age+age_cat+priors_count+\n",
    "                   +c_charge_degree,family=binomial(link='logit'), data=dataApp)\n",
    "summary(model_logit)"
   ]
  },
  {
   "cell_type": "markdown",
   "metadata": {},
   "source": [
    "#### Taux d'erreur"
   ]
  },
  {
   "cell_type": "code",
   "execution_count": 39,
   "metadata": {},
   "outputs": [
    {
     "data": {
      "text/html": [
       "36"
      ],
      "text/latex": [
       "36"
      ],
      "text/markdown": [
       "36"
      ],
      "text/plain": [
       "[1] 36"
      ]
     },
     "metadata": {},
     "output_type": "display_data"
    }
   ],
   "source": [
    "pihat<-predict(model_logit,newdata=dataTest)\n",
    "tauxErr(table(pihat>0.5,dataTest$is_recid))"
   ]
  },
  {
   "cell_type": "markdown",
   "metadata": {},
   "source": [
    "### 5.4 Même chose avec une forêt aléatoire "
   ]
  },
  {
   "cell_type": "code",
   "execution_count": 40,
   "metadata": {},
   "outputs": [
    {
     "name": "stderr",
     "output_type": "stream",
     "text": [
      "randomForest 4.6-14\n",
      "Type rfNews() to see new features/changes/bug fixes.\n",
      "\n",
      "Attaching package: ‘randomForest’\n",
      "\n",
      "The following object is masked from ‘package:gridExtra’:\n",
      "\n",
      "    combine\n",
      "\n",
      "The following object is masked from ‘package:ggplot2’:\n",
      "\n",
      "    margin\n",
      "\n",
      "The following object is masked from ‘package:dplyr’:\n",
      "\n",
      "    combine\n",
      "\n"
     ]
    }
   ],
   "source": [
    "library(randomForest)\n",
    "model_rf <- randomForest(is_recid ~ sex+origEthn+age+age_cat+priors_count+\n",
    "                   +c_charge_degree, data=dataApp)"
   ]
  },
  {
   "cell_type": "code",
   "execution_count": 41,
   "metadata": {},
   "outputs": [
    {
     "data": {
      "text/html": [
       "32.8"
      ],
      "text/latex": [
       "32.8"
      ],
      "text/markdown": [
       "32.8"
      ],
      "text/plain": [
       "[1] 32.8"
      ]
     },
     "metadata": {},
     "output_type": "display_data"
    }
   ],
   "source": [
    "predRec<-predict(model_rf,newdata=dataTest)\n",
    "tauxErr(table(predRec,dataTest$two_year_recid))"
   ]
  },
  {
   "cell_type": "markdown",
   "metadata": {},
   "source": [
    "*Remarques:*\n",
    "- Sur l'échantillon test considéré, \n",
    "- Limitation: ce modèle ne s'applique qu'à des détenus libérés ou libérables, pas à des individus jamais condamnés.\n",
    "- Conditionnellement à la présence des autres variables, l'origine ethnique n'est pas significative dans le modèle.\n",
    "- Le taux d'erreur de ce modèles  de prévision faisant intervenir la gravité du crime précédent et le nombre d'incarcération est aussi mauvais que celui issu du score COMPAS. On retrouve bien le type de résultats de Dressel et Farid (2018); l'algorithme *random forest* fait bien mieux que la régression logistique et mieux que le score COMPAS.\n",
    "- Une itération des estimations de ces erreurs par validation croisée *Monte Carlo* donnerait une indication sur leur distribution. \n",
    "\n",
    "### Conclusion\n",
    "Biaisé donc discriminatoire à bien des points de vue sur cet exemple de données et présentant une aussi mauvaise qualité prédictive qu'un modèle de régression logistique rudimentaire, le score COMPAS est à éviter.\n",
    "\n",
    "### Références\n"
   ]
  },
  {
   "cell_type": "code",
   "execution_count": null,
   "metadata": {},
   "outputs": [],
   "source": []
  }
 ],
 "metadata": {
  "kernelspec": {
   "display_name": "R",
   "language": "R",
   "name": "ir"
  },
  "language_info": {
   "codemirror_mode": "r",
   "file_extension": ".r",
   "mimetype": "text/x-r-source",
   "name": "R",
   "pygments_lexer": "r",
   "version": "3.5.1"
  }
 },
 "nbformat": 4,
 "nbformat_minor": 1
}
