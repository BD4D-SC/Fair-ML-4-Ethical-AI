{
 "cells": [
  {
   "cell_type": "markdown",
   "metadata": {},
   "source": [
    "# Compas Analysis\n",
    "\n",
    "La méthodologie de Propublica est décrite [ici](https://www.propublica.org/article/how-we-analyzed-the-compas-recidivism-algorithm/).\n",
    "\n",
    "L'objectif est simplement de suivre le processus d'extraction ds données pour ensuite en déduire des estimations par intervalle de confiance de \n",
    "- l'impact disproportionné sur les vraies données Y, \n",
    "- ce même impact pour le score de récidive High vs. low issu de compas\n",
    "- la direction du biais: discirmination selon Propublica\n",
    "\n",
    "## Lire les données\n",
    "\n",
    "Sélection des champs: sévérité de la charge, nombre d'a priori, démographie,âge, genre, score compas, et récidive ou non dnas les deux ans."
   ]
  },
  {
   "cell_type": "code",
   "execution_count": 1,
   "metadata": {
    "scrolled": false
   },
   "outputs": [
    {
     "name": "stderr",
     "output_type": "stream",
     "text": [
      "\n",
      "Attaching package: ‘dplyr’\n",
      "\n",
      "The following objects are masked from ‘package:stats’:\n",
      "\n",
      "    filter, lag\n",
      "\n",
      "The following objects are masked from ‘package:base’:\n",
      "\n",
      "    intersect, setdiff, setequal, union\n",
      "\n"
     ]
    },
    {
     "data": {
      "text/html": [
       "7214"
      ],
      "text/latex": [
       "7214"
      ],
      "text/markdown": [
       "7214"
      ],
      "text/plain": [
       "[1] 7214"
      ]
     },
     "metadata": {},
     "output_type": "display_data"
    }
   ],
   "source": [
    "library(dplyr)\n",
    "library(ggplot2)\n",
    "raw_data <- read.csv(\"./compas-scores-two-years.csv\")\n",
    "nrow(raw_data)"
   ]
  },
  {
   "cell_type": "code",
   "execution_count": 2,
   "metadata": {},
   "outputs": [
    {
     "data": {
      "text/plain": [
       "       id                       name              first            last     \n",
       " Min.   :    1   anthony smith    :   3   michael    : 149   williams:  83  \n",
       " 1st Qu.: 2735   angel santiago   :   2   christopher: 109   johnson :  76  \n",
       " Median : 5510   anthony gonzalez :   2   james      :  84   brown   :  68  \n",
       " Mean   : 5501   anthony louis    :   2   anthony    :  83   smith   :  65  \n",
       " 3rd Qu.: 8246   brandon whitfield:   2   robert     :  76   jones   :  57  \n",
       " Max.   :11001   carlos vasquez   :   2   john       :  74   davis   :  46  \n",
       "                 (Other)          :7201   (Other)    :6639   (Other) :6819  \n",
       " compas_screening_date     sex               dob            age       \n",
       " 2013-02-20:  32       Female:1395   1987-02-04:   5   Min.   :18.00  \n",
       " 2013-03-20:  32       Male  :5819   1987-12-21:   5   1st Qu.:25.00  \n",
       " 2013-02-07:  31                     1989-04-27:   5   Median :31.00  \n",
       " 2013-04-20:  30                     1989-08-31:   5   Mean   :34.82  \n",
       " 2013-01-03:  29                     1990-02-22:   5   3rd Qu.:42.00  \n",
       " 2013-04-25:  28                     1990-05-02:   5   Max.   :96.00  \n",
       " (Other)   :7032                     (Other)   :7184                  \n",
       "            age_cat                   race      juv_fel_count     \n",
       " 25 - 45        :4109   African-American:3696   Min.   : 0.00000  \n",
       " Greater than 45:1576   Asian           :  32   1st Qu.: 0.00000  \n",
       " Less than 25   :1529   Caucasian       :2454   Median : 0.00000  \n",
       "                        Hispanic        : 637   Mean   : 0.06723  \n",
       "                        Native American :  18   3rd Qu.: 0.00000  \n",
       "                        Other           : 377   Max.   :20.00000  \n",
       "                                                                  \n",
       "  decile_score   juv_misd_count     juv_other_count    priors_count   \n",
       " Min.   : 1.00   Min.   : 0.00000   Min.   : 0.0000   Min.   : 0.000  \n",
       " 1st Qu.: 2.00   1st Qu.: 0.00000   1st Qu.: 0.0000   1st Qu.: 0.000  \n",
       " Median : 4.00   Median : 0.00000   Median : 0.0000   Median : 2.000  \n",
       " Mean   : 4.51   Mean   : 0.09093   Mean   : 0.1094   Mean   : 3.472  \n",
       " 3rd Qu.: 7.00   3rd Qu.: 0.00000   3rd Qu.: 0.0000   3rd Qu.: 5.000  \n",
       " Max.   :10.00   Max.   :13.00000   Max.   :17.0000   Max.   :38.000  \n",
       "                                                                      \n",
       " days_b_screening_arrest               c_jail_in                  c_jail_out  \n",
       " Min.   :-414.000                           : 307                      : 307  \n",
       " 1st Qu.:  -1.000        2013-01-01 01:31:55:   1   2013-09-12 10:31:00:   3  \n",
       " Median :  -1.000        2013-01-01 03:16:15:   1   2013-09-14 05:58:00:   3  \n",
       " Mean   :   3.305        2013-01-01 03:28:03:   1   2013-09-28 02:10:00:   3  \n",
       " 3rd Qu.:   0.000        2013-01-01 04:17:22:   1   2013-02-06 10:01:51:   2  \n",
       " Max.   :1057.000        2013-01-01 04:29:04:   1   2013-06-13 10:32:00:   2  \n",
       " NA's   :307             (Other)            :6902   (Other)            :6894  \n",
       "       c_case_number     c_offense_date    c_arrest_date  c_days_from_compas\n",
       "              :  22             :1159             :6077   Min.   :   0.00   \n",
       " 00004068CF10A:   1   2013-01-14:  26   2013-02-06:   9   1st Qu.:   1.00   \n",
       " 00022077MM10A:   1   2013-02-22:  26   2013-03-22:   8   Median :   1.00   \n",
       " 01004839CF10A:   1   2013-03-01:  24   2013-05-15:   8   Mean   :  57.73   \n",
       " 01006487CF10D:   1   2013-01-11:  23   2013-01-10:   7   3rd Qu.:   2.00   \n",
       " 01007205MM10A:   1   2013-02-16:  23   2013-01-11:   7   Max.   :9485.00   \n",
       " (Other)      :7187   (Other)   :5933   (Other)   :1098   NA's   :22        \n",
       " c_charge_degree                       c_charge_desc     is_recid     \n",
       " F:4666          Battery                      :1156   Min.   :0.0000  \n",
       " M:2548          arrest case no charge        :1137   1st Qu.:0.0000  \n",
       "                 Possession of Cocaine        : 474   Median :0.0000  \n",
       "                 Grand Theft in the 3rd Degree: 425   Mean   :0.4811  \n",
       "                 Driving While License Revoked: 200   3rd Qu.:1.0000  \n",
       "                 Driving Under The Influence  : 135   Max.   :1.0000  \n",
       "                 (Other)                      :3687                   \n",
       "       r_case_number  r_charge_degree r_days_from_arrest    r_offense_date\n",
       "              :3743          :3743    Min.   : -1.00               :3743  \n",
       " 13000349MM10A:   1   (M1)   :1201    1st Qu.:  0.00     2014-12-08:  12  \n",
       " 13000445MM20A:   1   (M2)   :1107    Median :  0.00     2015-01-28:  11  \n",
       " 13000677MM20A:   1   (F3)   : 892    Mean   : 20.27     2014-09-15:  10  \n",
       " 13000758MM30A:   1   (F2)   : 168    3rd Qu.:  1.00     2014-10-17:  10  \n",
       " 13000785MM30A:   1   (F1)   :  51    Max.   :993.00     2015-02-10:  10  \n",
       " (Other)      :3466   (Other):  52    NA's   :4898       (Other)   :3418  \n",
       "                           r_charge_desc       r_jail_in         r_jail_out  \n",
       "                                  :3801             :4898             :4898  \n",
       " Driving License Suspended        : 258   2014-05-27:   9   2014-02-18:   9  \n",
       " Possess Cannabis/20 Grams Or Less: 253   2013-11-22:   8   2014-12-09:   9  \n",
       " Resist/Obstruct W/O Violence     : 201   2014-06-05:   8   2015-05-15:   9  \n",
       " Battery                          : 192   2014-07-10:   8   2013-11-13:   8  \n",
       " Operating W/O Valid License      : 172   2014-10-17:   8   2014-07-11:   8  \n",
       " (Other)                          :2337   (Other)   :2275   (Other)   :2273  \n",
       " violent_recid  is_violent_recid       vr_case_number vr_charge_degree\n",
       " Mode:logical   Min.   :0.0000                :6395          :6395    \n",
       " NA's:7214      1st Qu.:0.0000   13001383CF10A:   1   (M1)   : 344    \n",
       "                Median :0.0000   13001876CF10A:   1   (F3)   : 228    \n",
       "                Mean   :0.1135   13002119CF10A:   1   (F2)   : 162    \n",
       "                3rd Qu.:0.0000   13002546CF10A:   1   (F1)   :  38    \n",
       "                Max.   :1.0000   13003421CF10A:   1   (M2)   :  19    \n",
       "                                 (Other)      : 814   (Other):  28    \n",
       "   vr_offense_date                        vr_charge_desc\n",
       "           :6395                                 :6395  \n",
       " 2015-08-15:   6   Battery                       : 329  \n",
       " 2013-11-14:   4   Battery on Law Enforc Officer :  38  \n",
       " 2014-02-18:   4   Felony Battery (Dom Strang)   :  38  \n",
       " 2014-10-29:   4   Aggravated Assault W/Dead Weap:  37  \n",
       " 2014-12-26:   4   Aggrav Battery w/Deadly Weapon:  34  \n",
       " (Other)   : 797   (Other)                       : 343  \n",
       "          type_of_assessment decile_score.1   score_text      screening_date\n",
       " Risk of Recidivism:7214     Min.   : 1.00   High  :1403   2013-02-20:  32  \n",
       "                             1st Qu.: 2.00   Low   :3897   2013-03-20:  32  \n",
       "                             Median : 4.00   Medium:1914   2013-02-07:  31  \n",
       "                             Mean   : 4.51                 2013-04-20:  30  \n",
       "                             3rd Qu.: 7.00                 2013-01-03:  29  \n",
       "                             Max.   :10.00                 2013-04-25:  28  \n",
       "                                                           (Other)   :7032  \n",
       "       v_type_of_assessment v_decile_score   v_score_text    v_screening_date\n",
       " Risk of Violence:7214      Min.   : 1.000   High  : 714   2013-02-20:  32   \n",
       "                            1st Qu.: 1.000   Low   :4761   2013-03-20:  32   \n",
       "                            Median : 3.000   Medium:1739   2013-02-07:  31   \n",
       "                            Mean   : 3.692                 2013-04-20:  30   \n",
       "                            3rd Qu.: 5.000                 2013-01-03:  29   \n",
       "                            Max.   :10.000                 2013-04-25:  28   \n",
       "                                                           (Other)   :7032   \n",
       "      in_custody       out_custody   priors_count.1       start       \n",
       "           : 236             : 236   Min.   : 0.000   Min.   :  0.00  \n",
       " 2013-02-22:  20   2020-01-01:  61   1st Qu.: 0.000   1st Qu.:  0.00  \n",
       " 2013-12-12:  20   2013-05-14:  25   Median : 2.000   Median :  0.00  \n",
       " 2014-01-04:  20   2014-02-04:  24   Mean   : 3.472   Mean   : 11.47  \n",
       " 2014-01-22:  20   2013-11-26:  23   3rd Qu.: 5.000   3rd Qu.:  1.00  \n",
       " 2013-01-27:  19   2013-02-15:  21   Max.   :38.000   Max.   :937.00  \n",
       " (Other)   :6879   (Other)   :6824                                    \n",
       "      end             event        two_year_recid  \n",
       " Min.   :   0.0   Min.   :0.0000   Min.   :0.0000  \n",
       " 1st Qu.: 148.2   1st Qu.:0.0000   1st Qu.:0.0000  \n",
       " Median : 530.5   Median :0.0000   Median :0.0000  \n",
       " Mean   : 553.4   Mean   :0.3829   Mean   :0.4507  \n",
       " 3rd Qu.: 914.0   3rd Qu.:1.0000   3rd Qu.:1.0000  \n",
       " Max.   :1186.0   Max.   :1.0000   Max.   :1.0000  \n",
       "                                                   "
      ]
     },
     "metadata": {},
     "output_type": "display_data"
    }
   ],
   "source": [
    "summary(raw_data)"
   ]
  },
  {
   "cell_type": "markdown",
   "metadata": {},
   "source": [
    "Elimination de certaines lignes: \n",
    "* If the charge date of a defendants Compas scored crime was not within 30 days from when the person was arrested, we assume that because of data quality reasons, that we do not have the right offense.\n",
    "* We coded the recidivist flag -- `is_recid` -- to be -1 if we could not find a compas case at all.\n",
    "* In a similar vein, ordinary traffic offenses -- those with a `c_charge_degree` of 'O' -- will not result in Jail time are removed (only two of them).\n",
    "* We filtered the underlying data from Broward county to include only those rows representing people who had either recidivated in two years, or had at least two years outside of a correctional facility."
   ]
  },
  {
   "cell_type": "code",
   "execution_count": 3,
   "metadata": {},
   "outputs": [
    {
     "data": {
      "text/html": [
       "6172"
      ],
      "text/latex": [
       "6172"
      ],
      "text/markdown": [
       "6172"
      ],
      "text/plain": [
       "[1] 6172"
      ]
     },
     "metadata": {},
     "output_type": "display_data"
    }
   ],
   "source": [
    "df <- dplyr::select(raw_data, age, c_charge_degree, race, age_cat, score_text, sex, priors_count, \n",
    "                    days_b_screening_arrest, decile_score, is_recid, two_year_recid, c_jail_in, c_jail_out) %>% \n",
    "        filter(days_b_screening_arrest <= 30) %>%\n",
    "        filter(days_b_screening_arrest >= -30) %>%\n",
    "        filter(is_recid != -1) %>%\n",
    "        filter(c_charge_degree != \"O\") %>%\n",
    "        filter(score_text != 'N/A')\n",
    "nrow(df)"
   ]
  },
  {
   "cell_type": "code",
   "execution_count": 4,
   "metadata": {},
   "outputs": [
    {
     "data": {
      "text/plain": [
       "      age        c_charge_degree               race                 age_cat    \n",
       " Min.   :18.00   F:3970          African-American:3175   25 - 45        :3532  \n",
       " 1st Qu.:25.00   M:2202          Asian           :  31   Greater than 45:1293  \n",
       " Median :31.00                   Caucasian       :2103   Less than 25   :1347  \n",
       " Mean   :34.53                   Hispanic        : 509                         \n",
       " 3rd Qu.:42.00                   Native American :  11                         \n",
       " Max.   :96.00                   Other           : 343                         \n",
       "                                                                               \n",
       "  score_text       sex        priors_count    days_b_screening_arrest\n",
       " High  :1144   Female:1175   Min.   : 0.000   Min.   :-30.00         \n",
       " Low   :3421   Male  :4997   1st Qu.: 0.000   1st Qu.: -1.00         \n",
       " Medium:1607                 Median : 1.000   Median : -1.00         \n",
       "                             Mean   : 3.246   Mean   : -1.74         \n",
       "                             3rd Qu.: 4.000   3rd Qu.: -1.00         \n",
       "                             Max.   :38.000   Max.   : 30.00         \n",
       "                                                                     \n",
       "  decile_score       is_recid      two_year_recid                 c_jail_in   \n",
       " Min.   : 1.000   Min.   :0.0000   Min.   :0.0000   2013-01-01 01:31:55:   1  \n",
       " 1st Qu.: 2.000   1st Qu.:0.0000   1st Qu.:0.0000   2013-01-01 03:16:15:   1  \n",
       " Median : 4.000   Median :0.0000   Median :0.0000   2013-01-01 03:28:03:   1  \n",
       " Mean   : 4.419   Mean   :0.4844   Mean   :0.4551   2013-01-01 04:17:22:   1  \n",
       " 3rd Qu.: 7.000   3rd Qu.:1.0000   3rd Qu.:1.0000   2013-01-01 04:29:04:   1  \n",
       " Max.   :10.000   Max.   :1.0000   Max.   :1.0000   2013-01-01 05:08:53:   1  \n",
       "                                                    (Other)            :6166  \n",
       "               c_jail_out  \n",
       " 2013-09-14 05:58:00:   3  \n",
       " 2013-02-06 10:01:51:   2  \n",
       " 2013-08-13 10:05:00:   2  \n",
       " 2013-09-14 05:54:00:   2  \n",
       " 2013-09-23 08:25:00:   2  \n",
       " 2013-11-09 02:08:17:   2  \n",
       " (Other)            :6159  "
      ]
     },
     "metadata": {},
     "output_type": "display_data"
    }
   ],
   "source": [
    "summary(df)"
   ]
  },
  {
   "cell_type": "markdown",
   "metadata": {},
   "source": [
    "Corrélation entre la durée d'emprisonnement et le score comaps"
   ]
  },
  {
   "cell_type": "code",
   "execution_count": 5,
   "metadata": {},
   "outputs": [
    {
     "data": {
      "text/html": [
       "0.207329691614705"
      ],
      "text/latex": [
       "0.207329691614705"
      ],
      "text/markdown": [
       "0.207329691614705"
      ],
      "text/plain": [
       "[1] 0.2073297"
      ]
     },
     "metadata": {},
     "output_type": "display_data"
    }
   ],
   "source": [
    "df$length_of_stay <- as.numeric(as.Date(df$c_jail_out) - as.Date(df$c_jail_in))\n",
    "cor(df$length_of_stay, df$decile_score)"
   ]
  },
  {
   "cell_type": "markdown",
   "metadata": {},
   "source": [
    "Données démograpiques"
   ]
  },
  {
   "cell_type": "code",
   "execution_count": 6,
   "metadata": {
    "scrolled": true
   },
   "outputs": [
    {
     "data": {
      "text/html": [
       "<dl class=dl-horizontal>\n",
       "\t<dt>25 - 45</dt>\n",
       "\t\t<dd>3532</dd>\n",
       "\t<dt>Greater than 45</dt>\n",
       "\t\t<dd>1293</dd>\n",
       "\t<dt>Less than 25</dt>\n",
       "\t\t<dd>1347</dd>\n",
       "</dl>\n"
      ],
      "text/latex": [
       "\\begin{description*}\n",
       "\\item[25 - 45] 3532\n",
       "\\item[Greater than 45] 1293\n",
       "\\item[Less than 25] 1347\n",
       "\\end{description*}\n"
      ],
      "text/markdown": [
       "25 - 45\n",
       ":   3532Greater than 45\n",
       ":   1293Less than 25\n",
       ":   1347\n",
       "\n"
      ],
      "text/plain": [
       "        25 - 45 Greater than 45    Less than 25 \n",
       "           3532            1293            1347 "
      ]
     },
     "metadata": {},
     "output_type": "display_data"
    }
   ],
   "source": [
    "summary(df$age_cat)"
   ]
  },
  {
   "cell_type": "code",
   "execution_count": 7,
   "metadata": {},
   "outputs": [
    {
     "data": {
      "text/html": [
       "<dl class=dl-horizontal>\n",
       "\t<dt>African-American</dt>\n",
       "\t\t<dd>3175</dd>\n",
       "\t<dt>Asian</dt>\n",
       "\t\t<dd>31</dd>\n",
       "\t<dt>Caucasian</dt>\n",
       "\t\t<dd>2103</dd>\n",
       "\t<dt>Hispanic</dt>\n",
       "\t\t<dd>509</dd>\n",
       "\t<dt>Native American</dt>\n",
       "\t\t<dd>11</dd>\n",
       "\t<dt>Other</dt>\n",
       "\t\t<dd>343</dd>\n",
       "</dl>\n"
      ],
      "text/latex": [
       "\\begin{description*}\n",
       "\\item[African-American] 3175\n",
       "\\item[Asian] 31\n",
       "\\item[Caucasian] 2103\n",
       "\\item[Hispanic] 509\n",
       "\\item[Native American] 11\n",
       "\\item[Other] 343\n",
       "\\end{description*}\n"
      ],
      "text/markdown": [
       "African-American\n",
       ":   3175Asian\n",
       ":   31Caucasian\n",
       ":   2103Hispanic\n",
       ":   509Native American\n",
       ":   11Other\n",
       ":   343\n",
       "\n"
      ],
      "text/plain": [
       "African-American            Asian        Caucasian         Hispanic \n",
       "            3175               31             2103              509 \n",
       " Native American            Other \n",
       "              11              343 "
      ]
     },
     "metadata": {},
     "output_type": "display_data"
    }
   ],
   "source": [
    "summary(df$race)"
   ]
  },
  {
   "cell_type": "code",
   "execution_count": 8,
   "metadata": {},
   "outputs": [
    {
     "data": {
      "text/html": [
       "<dl class=dl-horizontal>\n",
       "\t<dt>African-American</dt>\n",
       "\t\t<dd>51.44</dd>\n",
       "\t<dt>Asian</dt>\n",
       "\t\t<dd>0.5</dd>\n",
       "\t<dt>Caucasian</dt>\n",
       "\t\t<dd>34.07</dd>\n",
       "\t<dt>Hispanic</dt>\n",
       "\t\t<dd>8.25</dd>\n",
       "\t<dt>Native American</dt>\n",
       "\t\t<dd>0.18</dd>\n",
       "\t<dt>Other</dt>\n",
       "\t\t<dd>5.56</dd>\n",
       "</dl>\n"
      ],
      "text/latex": [
       "\\begin{description*}\n",
       "\\item[African-American] 51.44\n",
       "\\item[Asian] 0.5\n",
       "\\item[Caucasian] 34.07\n",
       "\\item[Hispanic] 8.25\n",
       "\\item[Native American] 0.18\n",
       "\\item[Other] 5.56\n",
       "\\end{description*}\n"
      ],
      "text/markdown": [
       "African-American\n",
       ":   51.44Asian\n",
       ":   0.5Caucasian\n",
       ":   34.07Hispanic\n",
       ":   8.25Native American\n",
       ":   0.18Other\n",
       ":   5.56\n",
       "\n"
      ],
      "text/plain": [
       "African-American            Asian        Caucasian         Hispanic \n",
       "           51.44             0.50            34.07             8.25 \n",
       " Native American            Other \n",
       "            0.18             5.56 "
      ]
     },
     "metadata": {},
     "output_type": "display_data"
    }
   ],
   "source": [
    "round(summary(df$race)/6172*100,2)"
   ]
  },
  {
   "cell_type": "code",
   "execution_count": 9,
   "metadata": {},
   "outputs": [
    {
     "data": {
      "text/html": [
       "<dl class=dl-horizontal>\n",
       "\t<dt>High</dt>\n",
       "\t\t<dd>1144</dd>\n",
       "\t<dt>Low</dt>\n",
       "\t\t<dd>3421</dd>\n",
       "\t<dt>Medium</dt>\n",
       "\t\t<dd>1607</dd>\n",
       "</dl>\n"
      ],
      "text/latex": [
       "\\begin{description*}\n",
       "\\item[High] 1144\n",
       "\\item[Low] 3421\n",
       "\\item[Medium] 1607\n",
       "\\end{description*}\n"
      ],
      "text/markdown": [
       "High\n",
       ":   1144Low\n",
       ":   3421Medium\n",
       ":   1607\n",
       "\n"
      ],
      "text/plain": [
       "  High    Low Medium \n",
       "  1144   3421   1607 "
      ]
     },
     "metadata": {},
     "output_type": "display_data"
    }
   ],
   "source": [
    "summary(df$score_text)"
   ]
  },
  {
   "cell_type": "code",
   "execution_count": 10,
   "metadata": {},
   "outputs": [
    {
     "data": {
      "text/plain": [
       "        race\n",
       "sex      African-American Asian Caucasian Hispanic Native American Other\n",
       "  Female              549     2       482       82               2    58\n",
       "  Male               2626    29      1621      427               9   285"
      ]
     },
     "metadata": {},
     "output_type": "display_data"
    }
   ],
   "source": [
    "xtabs(~ sex + race, data=df)"
   ]
  },
  {
   "cell_type": "code",
   "execution_count": 11,
   "metadata": {},
   "outputs": [
    {
     "data": {
      "text/html": [
       "<dl class=dl-horizontal>\n",
       "\t<dt>Female</dt>\n",
       "\t\t<dd>1175</dd>\n",
       "\t<dt>Male</dt>\n",
       "\t\t<dd>4997</dd>\n",
       "</dl>\n"
      ],
      "text/latex": [
       "\\begin{description*}\n",
       "\\item[Female] 1175\n",
       "\\item[Male] 4997\n",
       "\\end{description*}\n"
      ],
      "text/markdown": [
       "Female\n",
       ":   1175Male\n",
       ":   4997\n",
       "\n"
      ],
      "text/plain": [
       "Female   Male \n",
       "  1175   4997 "
      ]
     },
     "metadata": {},
     "output_type": "display_data"
    }
   ],
   "source": [
    "summary(df$sex)"
   ]
  },
  {
   "cell_type": "code",
   "execution_count": 12,
   "metadata": {},
   "outputs": [
    {
     "data": {
      "text/html": [
       "<dl class=dl-horizontal>\n",
       "\t<dt>Female</dt>\n",
       "\t\t<dd>19.04</dd>\n",
       "\t<dt>Male</dt>\n",
       "\t\t<dd>80.96</dd>\n",
       "</dl>\n"
      ],
      "text/latex": [
       "\\begin{description*}\n",
       "\\item[Female] 19.04\n",
       "\\item[Male] 80.96\n",
       "\\end{description*}\n"
      ],
      "text/markdown": [
       "Female\n",
       ":   19.04Male\n",
       ":   80.96\n",
       "\n"
      ],
      "text/plain": [
       "Female   Male \n",
       " 19.04  80.96 "
      ]
     },
     "metadata": {},
     "output_type": "display_data"
    }
   ],
   "source": [
    "round(summary(df$sex)/6172*100,2)"
   ]
  },
  {
   "cell_type": "code",
   "execution_count": 13,
   "metadata": {
    "scrolled": true
   },
   "outputs": [
    {
     "data": {
      "text/html": [
       "2809"
      ],
      "text/latex": [
       "2809"
      ],
      "text/markdown": [
       "2809"
      ],
      "text/plain": [
       "[1] 2809"
      ]
     },
     "metadata": {},
     "output_type": "display_data"
    }
   ],
   "source": [
    "nrow(filter(df, two_year_recid == 1))"
   ]
  },
  {
   "cell_type": "code",
   "execution_count": 14,
   "metadata": {},
   "outputs": [
    {
     "data": {
      "text/html": [
       "45.5119896305898"
      ],
      "text/latex": [
       "45.5119896305898"
      ],
      "text/markdown": [
       "45.5119896305898"
      ],
      "text/plain": [
       "[1] 45.51199"
      ]
     },
     "metadata": {},
     "output_type": "display_data"
    }
   ],
   "source": [
    "nrow(filter(df, two_year_recid == 1)) / nrow(df) * 100"
   ]
  },
  {
   "cell_type": "markdown",
   "metadata": {},
   "source": [
    "Distribution (déciles) des scores en fonction de l'origine ethnique."
   ]
  },
  {
   "cell_type": "code",
   "execution_count": 15,
   "metadata": {},
   "outputs": [
    {
     "name": "stderr",
     "output_type": "stream",
     "text": [
      "\n",
      "Attaching package: ‘gridExtra’\n",
      "\n",
      "The following object is masked from ‘package:dplyr’:\n",
      "\n",
      "    combine\n",
      "\n"
     ]
    },
    {
     "data": {
      "image/png": "[encoded data removed]",
      "text/plain": [
       "plot without title"
      ]
     },
     "metadata": {},
     "output_type": "display_data"
    }
   ],
   "source": [
    "library(grid)\n",
    "library(gridExtra)\n",
    "options(repr.plot.width=5, repr.plot.height=3)\n",
    "pblack <- ggplot(data=filter(df, race ==\"African-American\"), aes(ordered(decile_score))) + \n",
    "          geom_bar() + xlab(\"Deciles des Scores\") +\n",
    "          ylim(0, 650) + ggtitle(\"Scores des noirs\")\n",
    "pwhite <- ggplot(data=filter(df, race ==\"Caucasian\"), aes(ordered(decile_score))) + \n",
    "          geom_bar() + xlab(\"Deciles des Scores\") +\n",
    "          ylim(0, 650) + ggtitle(\"Scores des blancs\")\n",
    "grid.arrange(pblack, pwhite,  ncol = 2)"
   ]
  },
  {
   "cell_type": "code",
   "execution_count": 16,
   "metadata": {},
   "outputs": [
    {
     "data": {
      "text/plain": [
       "            race\n",
       "decile_score African-American Asian Caucasian Hispanic Native American Other\n",
       "          1               365    15       605      159               0   142\n",
       "          2               346     4       321       89               2    60\n",
       "          3               298     5       238       73               1    32\n",
       "          4               337     0       243       47               0    39\n",
       "          5               323     1       200       39               0    19\n",
       "          6               318     2       160       27               2    20\n",
       "          7               343     1       113       28               2     9\n",
       "          8               301     2        96       14               0     7\n",
       "          9               317     0        77       17               2     7\n",
       "          10              227     1        50       16               2     8"
      ]
     },
     "metadata": {},
     "output_type": "display_data"
    }
   ],
   "source": [
    "xtabs(~ decile_score + race, data=df)"
   ]
  },
  {
   "cell_type": "code",
   "execution_count": 17,
   "metadata": {},
   "outputs": [
    {
     "data": {
      "image/png": "[encoded data removed]",
      "text/plain": [
       "Plot with title “table(df$race, df$score_text, df$two_year_recid)”"
      ]
     },
     "metadata": {},
     "output_type": "display_data"
    }
   ],
   "source": [
    "mosaicplot(table(df$race,df$score_text,df$two_year_recid))"
   ]
  },
  {
   "cell_type": "markdown",
   "metadata": {},
   "source": [
    "## Estimations des impacts de disproportion\n",
    "Plutôt que la stratégie de Propublica d'estimer un modèle logistique pour montrer que la cote des noires d'obtenir un score élevé est plus importante que celle des blancs en fonction de leur passé.\n",
    "\n",
    "Extraction des données utiles."
   ]
  },
  {
   "cell_type": "code",
   "execution_count": 18,
   "metadata": {},
   "outputs": [
    {
     "data": {
      "text/plain": [
       "             OrigEth        Compas      Recidive      \n",
       " African-American:3175   High  :1144   Mode :logical  \n",
       " Asian           :  31   Low   :3421   FALSE:3363     \n",
       " Caucasian       :2103   Medium:1607   TRUE :2809     \n",
       " Hispanic        : 509                                \n",
       " Native American :  11                                \n",
       " Other           : 343                                "
      ]
     },
     "metadata": {},
     "output_type": "display_data"
    }
   ],
   "source": [
    "df2=data.frame(\"OrigEth\"=df$race,\"Compas\"=df$score_text, \"Recidive\"=df$two_year_recid==1)\n",
    "summary(df2)"
   ]
  },
  {
   "cell_type": "markdown",
   "metadata": {},
   "source": [
    "Se limiter aux deux origines: afro-américaine *vs.* caucasienne. Supprimer le score \"Medium\"."
   ]
  },
  {
   "cell_type": "code",
   "execution_count": 19,
   "metadata": {},
   "outputs": [
    {
     "data": {
      "text/plain": [
       "             OrigEth      Compas      Recidive      \n",
       " African-American:2191   High:1068   Mode :logical  \n",
       " Caucasian       :1630   Low :2753   FALSE:2144     \n",
       "                                     TRUE :1677     "
      ]
     },
     "metadata": {},
     "output_type": "display_data"
    }
   ],
   "source": [
    "df3=df2[df2$OrigEth=='African-American'|df2$OrigEth=='Caucasian',]\n",
    "df3$OrigEth=factor(df3$OrigEth)\n",
    "df3=df3[df3$Compas!='Medium',]\n",
    "df3$Compas=factor(df3$Compas)\n",
    "summary(df3)"
   ]
  },
  {
   "cell_type": "code",
   "execution_count": 20,
   "metadata": {},
   "outputs": [
    {
     "data": {
      "image/png": "[encoded data removed]",
      "text/plain": [
       "Plot with title “table(df3$OrigEth, df3$Compas, df3$Recidive)”"
      ]
     },
     "metadata": {},
     "output_type": "display_data"
    }
   ],
   "source": [
    "mosaicplot(table(df3$OrigEth,df3$Compas,df3$Recidive))"
   ]
  },
  {
   "cell_type": "markdown",
   "metadata": {},
   "source": [
    "### Estimation des mesures de discrimination\n",
    "Deux niveaux de mesures de discrimination sont considérées. Le premier: *discrimination assessment* ou DA est calculé sur les données d'apprentissage afin d'évaluer le biais discriminatoire déjà présent dans les données. Le deuxième mesure l'impact d'un modèle ou algorithme sur la discrimination: *discrimination impact assessment* ou DIA. \n",
    "\n",
    "Les deux mesures de discrimination de groupe sont basées sur ce qui est couramment appelé dans la littérature *disparate impact* (*DI*). Il est défini par le rapport de deux probabilités. \n",
    "\n",
    "*Notations*: \n",
    "\n",
    "- $Y$ est la variable cible ou à expliquer, ici la récidive \n",
    "- $\\hat{Y}$ le score de récidive élevé ou faible ouprévision de la récidive\n",
    "- $S$ est la variable sensible qui désigne le groupe sensible en principe protégé par la loi contre une possible discrtimination. Il s'agit ici de l'origine ethnique réduite à 2 modalités: caucasien ou afro américain. \n",
    "\n",
    "$$DI=\\frac{P(Y=1|S=0)}{P(Y=1|S=1)}.$$\n",
    "\n",
    "Cette quantité est estimée à partir des valeurs de la table de contingence croisant les variables $Y$ et $S$.\n",
    "#### Fonction *disparate*\n",
    "Une fonction R estime cette quantité et fournit de plus une estimation par intervalle de confiance (Besse et al. 2018) du *DI*. Cette  fonction a trois arguments:   \n",
    "- une matrice $X$ de valeurs binaires $(0,1)$ dont la dernière colonne contient la décision $Y$ ou cible à analyser;\n",
    "- l'indice $S$ de la variable de $X$ considérée comme sensible; \n",
    "- le risque de l'intervalle de confiance, par défaut 5%.\n",
    "\n",
    "Elle renvoie les trois estimations $DI$ et $IC_g$, $IC_d$ bornes de l'intervalle de confiance."
   ]
  },
  {
   "cell_type": "code",
   "execution_count": 22,
   "metadata": {},
   "outputs": [
    {
     "data": {
      "text/html": [
       "<pre class=language-r><code>function (X, S, alpha = 0.05) \n",
       "{\n",
       "<span style=white-space:pre-wrap>    if (S &gt; ncol(X)) </span>\n",
       "<span style=white-space:pre-wrap>        stop(paste(\"L'argument S doit être compris entre 1 et \", </span>\n",
       "<span style=white-space:pre-wrap>            ncol(X) - 1))</span>\n",
       "<span style=white-space:pre-wrap>    n &lt;- nrow(X)</span>\n",
       "<span style=white-space:pre-wrap>    pi_1 &lt;- sum(X[, S])/n</span>\n",
       "<span style=white-space:pre-wrap>    pi_0 &lt;- 1 - pi_1</span>\n",
       "<span style=white-space:pre-wrap>    p_1 &lt;- sum(X[, S] * X[, ncol(X)])/n</span>\n",
       "<span style=white-space:pre-wrap>    p_0 &lt;- sum((1 - X[, S]) * X[, ncol(X)])/n</span>\n",
       "<span style=white-space:pre-wrap>    Tn &lt;- p_0 * pi_1/(p_1 * pi_0)</span>\n",
       "<span style=white-space:pre-wrap>    grad &lt;- grad_h(c(p_0, p_1, pi_0, pi_1))</span>\n",
       "<span style=white-space:pre-wrap>    Cov_4 &lt;- diag(rep(0, 4)) + cbind(c(0, -p_0 * p_1, pi_1 * </span>\n",
       "<span style=white-space:pre-wrap>        p_0, -pi_1 * p_0), c(0, 0, -pi_0 * p_1, pi_0 * p_1), </span>\n",
       "<span style=white-space:pre-wrap>        c(0, 0, 0, -pi_0 * pi_1), c(0, 0, 0, 0))</span>\n",
       "<span style=white-space:pre-wrap>    Cov_4 &lt;- Cov_4 + t(Cov_4) + diag(c(p_0 * (1 - p_0), p_1 * </span>\n",
       "<span style=white-space:pre-wrap>        (1 - p_1), pi_0 * pi_1, pi_0 * pi_1))</span>\n",
       "<span style=white-space:pre-wrap>    sigma &lt;- sqrt((grad %*% Cov_4) %*% t(t(grad)))</span>\n",
       "<span style=white-space:pre-wrap>    lower_lim &lt;- Tn - (sigma * qnorm(1 - alpha/2, mean = 0, sd = 1))/sqrt(n)</span>\n",
       "<span style=white-space:pre-wrap>    upper_lim &lt;- Tn + (sigma * qnorm(1 - alpha/2, mean = 0, sd = 1))/sqrt(n)</span>\n",
       "<span style=white-space:pre-wrap>    return(c(lower_lim, Tn, upper_lim))</span>\n",
       "}</code></pre>"
      ],
      "text/latex": [
       "\\begin{minted}{r}\n",
       "function (X, S, alpha = 0.05) \n",
       "\\{\n",
       "    if (S > ncol(X)) \n",
       "        stop(paste(\"L'argument S doit être compris entre 1 et \", \n",
       "            ncol(X) - 1))\n",
       "    n <- nrow(X)\n",
       "    pi\\_1 <- sum(X{[}, S{]})/n\n",
       "    pi\\_0 <- 1 - pi\\_1\n",
       "    p\\_1 <- sum(X{[}, S{]} * X{[}, ncol(X){]})/n\n",
       "    p\\_0 <- sum((1 - X{[}, S{]}) * X{[}, ncol(X){]})/n\n",
       "    Tn <- p\\_0 * pi\\_1/(p\\_1 * pi\\_0)\n",
       "    grad <- grad\\_h(c(p\\_0, p\\_1, pi\\_0, pi\\_1))\n",
       "    Cov\\_4 <- diag(rep(0, 4)) + cbind(c(0, -p\\_0 * p\\_1, pi\\_1 * \n",
       "        p\\_0, -pi\\_1 * p\\_0), c(0, 0, -pi\\_0 * p\\_1, pi\\_0 * p\\_1), \n",
       "        c(0, 0, 0, -pi\\_0 * pi\\_1), c(0, 0, 0, 0))\n",
       "    Cov\\_4 <- Cov\\_4 + t(Cov\\_4) + diag(c(p\\_0 * (1 - p\\_0), p\\_1 * \n",
       "        (1 - p\\_1), pi\\_0 * pi\\_1, pi\\_0 * pi\\_1))\n",
       "    sigma <- sqrt((grad \\%*\\% Cov\\_4) \\%*\\% t(t(grad)))\n",
       "    lower\\_lim <- Tn - (sigma * qnorm(1 - alpha/2, mean = 0, sd = 1))/sqrt(n)\n",
       "    upper\\_lim <- Tn + (sigma * qnorm(1 - alpha/2, mean = 0, sd = 1))/sqrt(n)\n",
       "    return(c(lower\\_lim, Tn, upper\\_lim))\n",
       "\\}\n",
       "\\end{minted}"
      ],
      "text/markdown": [
       "```r\n",
       "function (X, S, alpha = 0.05) \n",
       "{\n",
       "    if (S > ncol(X)) \n",
       "        stop(paste(\"L'argument S doit être compris entre 1 et \", \n",
       "            ncol(X) - 1))\n",
       "    n <- nrow(X)\n",
       "    pi_1 <- sum(X[, S])/n\n",
       "    pi_0 <- 1 - pi_1\n",
       "    p_1 <- sum(X[, S] * X[, ncol(X)])/n\n",
       "    p_0 <- sum((1 - X[, S]) * X[, ncol(X)])/n\n",
       "    Tn <- p_0 * pi_1/(p_1 * pi_0)\n",
       "    grad <- grad_h(c(p_0, p_1, pi_0, pi_1))\n",
       "    Cov_4 <- diag(rep(0, 4)) + cbind(c(0, -p_0 * p_1, pi_1 * \n",
       "        p_0, -pi_1 * p_0), c(0, 0, -pi_0 * p_1, pi_0 * p_1), \n",
       "        c(0, 0, 0, -pi_0 * pi_1), c(0, 0, 0, 0))\n",
       "    Cov_4 <- Cov_4 + t(Cov_4) + diag(c(p_0 * (1 - p_0), p_1 * \n",
       "        (1 - p_1), pi_0 * pi_1, pi_0 * pi_1))\n",
       "    sigma <- sqrt((grad %*% Cov_4) %*% t(t(grad)))\n",
       "    lower_lim <- Tn - (sigma * qnorm(1 - alpha/2, mean = 0, sd = 1))/sqrt(n)\n",
       "    upper_lim <- Tn + (sigma * qnorm(1 - alpha/2, mean = 0, sd = 1))/sqrt(n)\n",
       "    return(c(lower_lim, Tn, upper_lim))\n",
       "}\n",
       "```"
      ],
      "text/plain": [
       "function (X, S, alpha = 0.05) \n",
       "{\n",
       "    if (S > ncol(X)) \n",
       "        stop(paste(\"L'argument S doit être compris entre 1 et \", \n",
       "            ncol(X) - 1))\n",
       "    n <- nrow(X)\n",
       "    pi_1 <- sum(X[, S])/n\n",
       "    pi_0 <- 1 - pi_1\n",
       "    p_1 <- sum(X[, S] * X[, ncol(X)])/n\n",
       "    p_0 <- sum((1 - X[, S]) * X[, ncol(X)])/n\n",
       "    Tn <- p_0 * pi_1/(p_1 * pi_0)\n",
       "    grad <- grad_h(c(p_0, p_1, pi_0, pi_1))\n",
       "    Cov_4 <- diag(rep(0, 4)) + cbind(c(0, -p_0 * p_1, pi_1 * \n",
       "        p_0, -pi_1 * p_0), c(0, 0, -pi_0 * p_1, pi_0 * p_1), \n",
       "        c(0, 0, 0, -pi_0 * pi_1), c(0, 0, 0, 0))\n",
       "    Cov_4 <- Cov_4 + t(Cov_4) + diag(c(p_0 * (1 - p_0), p_1 * \n",
       "        (1 - p_1), pi_0 * pi_1, pi_0 * pi_1))\n",
       "    sigma <- sqrt((grad %*% Cov_4) %*% t(t(grad)))\n",
       "    lower_lim <- Tn - (sigma * qnorm(1 - alpha/2, mean = 0, sd = 1))/sqrt(n)\n",
       "    upper_lim <- Tn + (sigma * qnorm(1 - alpha/2, mean = 0, sd = 1))/sqrt(n)\n",
       "    return(c(lower_lim, Tn, upper_lim))\n",
       "}"
      ]
     },
     "metadata": {},
     "output_type": "display_data"
    }
   ],
   "source": [
    "source(\"disparate.R\")\n",
    "disparate"
   ]
  },
  {
   "cell_type": "markdown",
   "metadata": {},
   "source": [
    "#### *Discrimination assessment* (DA) des données d'apprentissage\n"
   ]
  },
  {
   "cell_type": "code",
   "execution_count": 23,
   "metadata": {},
   "outputs": [
    {
     "data": {
      "text/plain": [
       "             OrigEth      Compas      Recidive      \n",
       " African-American:2191   High:1068   Mode :logical  \n",
       " Caucasian       :1630   Low :2753   FALSE:2144     \n",
       "                                     TRUE :1677     "
      ]
     },
     "metadata": {},
     "output_type": "display_data"
    }
   ],
   "source": [
    "summary(df3)"
   ]
  },
  {
   "cell_type": "code",
   "execution_count": 24,
   "metadata": {},
   "outputs": [],
   "source": [
    "# Variable origine rendue entière: 0, 1\n",
    "s= as.integer(df3$OrigEth)-1\n",
    "# Variable cible ou décision (seuil de revenu) également entière: 0, 1\n",
    "Ychap=as.integer(df3$Compas)-1\n",
    "Y=1-as.integer(df3$Recidive)\n",
    "coded_data=data.frame(s,Ychap,Y)"
   ]
  },
  {
   "cell_type": "code",
   "execution_count": 25,
   "metadata": {},
   "outputs": [
    {
     "data": {
      "text/html": [
       "<table>\n",
       "<thead><tr><th></th><th scope=col>OrigEth</th><th scope=col>Compas</th><th scope=col>Recidive</th><th scope=col>s</th><th scope=col>Ychap</th><th scope=col>Y</th></tr></thead>\n",
       "<tbody>\n",
       "\t<tr><th scope=row>2</th><td>African-American</td><td>Low             </td><td> TRUE           </td><td>0               </td><td>1               </td><td>0               </td></tr>\n",
       "\t<tr><th scope=row>3</th><td>African-American</td><td>Low             </td><td> TRUE           </td><td>0               </td><td>1               </td><td>0               </td></tr>\n",
       "\t<tr><th scope=row>7</th><td>Caucasian       </td><td>Low             </td><td>FALSE           </td><td>1               </td><td>1               </td><td>1               </td></tr>\n",
       "\t<tr><th scope=row>8</th><td>Caucasian       </td><td>Low             </td><td>FALSE           </td><td>1               </td><td>1               </td><td>1               </td></tr>\n",
       "\t<tr><th scope=row>10</th><td>Caucasian       </td><td>Low             </td><td>FALSE           </td><td>1               </td><td>1               </td><td>1               </td></tr>\n",
       "\t<tr><th scope=row>11</th><td>African-American</td><td>Low             </td><td>FALSE           </td><td>0               </td><td>1               </td><td>1               </td></tr>\n",
       "\t<tr><th scope=row>12</th><td>Caucasian       </td><td>Low             </td><td> TRUE           </td><td>1               </td><td>1               </td><td>0               </td></tr>\n",
       "\t<tr><th scope=row>13</th><td>African-American</td><td>Low             </td><td> TRUE           </td><td>0               </td><td>1               </td><td>0               </td></tr>\n",
       "\t<tr><th scope=row>15</th><td>African-American</td><td>High            </td><td>FALSE           </td><td>0               </td><td>0               </td><td>1               </td></tr>\n",
       "\t<tr><th scope=row>17</th><td>Caucasian       </td><td>Low             </td><td> TRUE           </td><td>1               </td><td>1               </td><td>0               </td></tr>\n",
       "\t<tr><th scope=row>19</th><td>African-American</td><td>High            </td><td> TRUE           </td><td>0               </td><td>0               </td><td>0               </td></tr>\n",
       "\t<tr><th scope=row>20</th><td>Caucasian       </td><td>Low             </td><td> TRUE           </td><td>1               </td><td>1               </td><td>0               </td></tr>\n",
       "\t<tr><th scope=row>21</th><td>Caucasian       </td><td>Low             </td><td>FALSE           </td><td>1               </td><td>1               </td><td>1               </td></tr>\n",
       "\t<tr><th scope=row>23</th><td>Caucasian       </td><td>Low             </td><td>FALSE           </td><td>1               </td><td>1               </td><td>1               </td></tr>\n",
       "\t<tr><th scope=row>25</th><td>African-American</td><td>Low             </td><td> TRUE           </td><td>0               </td><td>1               </td><td>0               </td></tr>\n",
       "\t<tr><th scope=row>27</th><td>African-American</td><td>High            </td><td> TRUE           </td><td>0               </td><td>0               </td><td>0               </td></tr>\n",
       "\t<tr><th scope=row>28</th><td>Caucasian       </td><td>High            </td><td> TRUE           </td><td>1               </td><td>0               </td><td>0               </td></tr>\n",
       "\t<tr><th scope=row>29</th><td>African-American</td><td>High            </td><td> TRUE           </td><td>0               </td><td>0               </td><td>0               </td></tr>\n",
       "\t<tr><th scope=row>30</th><td>Caucasian       </td><td>Low             </td><td>FALSE           </td><td>1               </td><td>1               </td><td>1               </td></tr>\n",
       "\t<tr><th scope=row>33</th><td>Caucasian       </td><td>Low             </td><td> TRUE           </td><td>1               </td><td>1               </td><td>0               </td></tr>\n",
       "</tbody>\n",
       "</table>\n"
      ],
      "text/latex": [
       "\\begin{tabular}{r|llllll}\n",
       "  & OrigEth & Compas & Recidive & s & Ychap & Y\\\\\n",
       "\\hline\n",
       "\t2 & African-American & Low              &  TRUE            & 0                & 1                & 0               \\\\\n",
       "\t3 & African-American & Low              &  TRUE            & 0                & 1                & 0               \\\\\n",
       "\t7 & Caucasian        & Low              & FALSE            & 1                & 1                & 1               \\\\\n",
       "\t8 & Caucasian        & Low              & FALSE            & 1                & 1                & 1               \\\\\n",
       "\t10 & Caucasian        & Low              & FALSE            & 1                & 1                & 1               \\\\\n",
       "\t11 & African-American & Low              & FALSE            & 0                & 1                & 1               \\\\\n",
       "\t12 & Caucasian        & Low              &  TRUE            & 1                & 1                & 0               \\\\\n",
       "\t13 & African-American & Low              &  TRUE            & 0                & 1                & 0               \\\\\n",
       "\t15 & African-American & High             & FALSE            & 0                & 0                & 1               \\\\\n",
       "\t17 & Caucasian        & Low              &  TRUE            & 1                & 1                & 0               \\\\\n",
       "\t19 & African-American & High             &  TRUE            & 0                & 0                & 0               \\\\\n",
       "\t20 & Caucasian        & Low              &  TRUE            & 1                & 1                & 0               \\\\\n",
       "\t21 & Caucasian        & Low              & FALSE            & 1                & 1                & 1               \\\\\n",
       "\t23 & Caucasian        & Low              & FALSE            & 1                & 1                & 1               \\\\\n",
       "\t25 & African-American & Low              &  TRUE            & 0                & 1                & 0               \\\\\n",
       "\t27 & African-American & High             &  TRUE            & 0                & 0                & 0               \\\\\n",
       "\t28 & Caucasian        & High             &  TRUE            & 1                & 0                & 0               \\\\\n",
       "\t29 & African-American & High             &  TRUE            & 0                & 0                & 0               \\\\\n",
       "\t30 & Caucasian        & Low              & FALSE            & 1                & 1                & 1               \\\\\n",
       "\t33 & Caucasian        & Low              &  TRUE            & 1                & 1                & 0               \\\\\n",
       "\\end{tabular}\n"
      ],
      "text/markdown": [
       "\n",
       "| <!--/--> | OrigEth | Compas | Recidive | s | Ychap | Y | \n",
       "|---|---|---|---|---|---|---|---|---|---|---|---|---|---|---|---|---|---|---|---|\n",
       "| 2 | African-American | Low              |  TRUE            | 0                | 1                | 0                | \n",
       "| 3 | African-American | Low              |  TRUE            | 0                | 1                | 0                | \n",
       "| 7 | Caucasian        | Low              | FALSE            | 1                | 1                | 1                | \n",
       "| 8 | Caucasian        | Low              | FALSE            | 1                | 1                | 1                | \n",
       "| 10 | Caucasian        | Low              | FALSE            | 1                | 1                | 1                | \n",
       "| 11 | African-American | Low              | FALSE            | 0                | 1                | 1                | \n",
       "| 12 | Caucasian        | Low              |  TRUE            | 1                | 1                | 0                | \n",
       "| 13 | African-American | Low              |  TRUE            | 0                | 1                | 0                | \n",
       "| 15 | African-American | High             | FALSE            | 0                | 0                | 1                | \n",
       "| 17 | Caucasian        | Low              |  TRUE            | 1                | 1                | 0                | \n",
       "| 19 | African-American | High             |  TRUE            | 0                | 0                | 0                | \n",
       "| 20 | Caucasian        | Low              |  TRUE            | 1                | 1                | 0                | \n",
       "| 21 | Caucasian        | Low              | FALSE            | 1                | 1                | 1                | \n",
       "| 23 | Caucasian        | Low              | FALSE            | 1                | 1                | 1                | \n",
       "| 25 | African-American | Low              |  TRUE            | 0                | 1                | 0                | \n",
       "| 27 | African-American | High             |  TRUE            | 0                | 0                | 0                | \n",
       "| 28 | Caucasian        | High             |  TRUE            | 1                | 0                | 0                | \n",
       "| 29 | African-American | High             |  TRUE            | 0                | 0                | 0                | \n",
       "| 30 | Caucasian        | Low              | FALSE            | 1                | 1                | 1                | \n",
       "| 33 | Caucasian        | Low              |  TRUE            | 1                | 1                | 0                | \n",
       "\n",
       "\n"
      ],
      "text/plain": [
       "   OrigEth          Compas Recidive s Ychap Y\n",
       "2  African-American Low     TRUE    0 1     0\n",
       "3  African-American Low     TRUE    0 1     0\n",
       "7  Caucasian        Low    FALSE    1 1     1\n",
       "8  Caucasian        Low    FALSE    1 1     1\n",
       "10 Caucasian        Low    FALSE    1 1     1\n",
       "11 African-American Low    FALSE    0 1     1\n",
       "12 Caucasian        Low     TRUE    1 1     0\n",
       "13 African-American Low     TRUE    0 1     0\n",
       "15 African-American High   FALSE    0 0     1\n",
       "17 Caucasian        Low     TRUE    1 1     0\n",
       "19 African-American High    TRUE    0 0     0\n",
       "20 Caucasian        Low     TRUE    1 1     0\n",
       "21 Caucasian        Low    FALSE    1 1     1\n",
       "23 Caucasian        Low    FALSE    1 1     1\n",
       "25 African-American Low     TRUE    0 1     0\n",
       "27 African-American High    TRUE    0 0     0\n",
       "28 Caucasian        High    TRUE    1 0     0\n",
       "29 African-American High    TRUE    0 0     0\n",
       "30 Caucasian        Low    FALSE    1 1     1\n",
       "33 Caucasian        Low     TRUE    1 1     0"
      ]
     },
     "metadata": {},
     "output_type": "display_data"
    }
   ],
   "source": [
    "cbind(df3,coded_data)[1:20,]"
   ]
  },
  {
   "cell_type": "code",
   "execution_count": 26,
   "metadata": {},
   "outputs": [
    {
     "data": {
      "text/plain": [
       "       s              Ychap              Y         \n",
       " Min.   :0.0000   Min.   :0.0000   Min.   :0.0000  \n",
       " 1st Qu.:0.0000   1st Qu.:0.0000   1st Qu.:0.0000  \n",
       " Median :0.0000   Median :1.0000   Median :1.0000  \n",
       " Mean   :0.4266   Mean   :0.7205   Mean   :0.5611  \n",
       " 3rd Qu.:1.0000   3rd Qu.:1.0000   3rd Qu.:1.0000  \n",
       " Max.   :1.0000   Max.   :1.0000   Max.   :1.0000  "
      ]
     },
     "metadata": {},
     "output_type": "display_data"
    }
   ],
   "source": [
    "summary(coded_data)"
   ]
  },
  {
   "cell_type": "code",
   "execution_count": 27,
   "metadata": {},
   "outputs": [
    {
     "data": {
      "text/html": [
       "<ol class=list-inline>\n",
       "\t<li>0.718726775854399</li>\n",
       "\t<li>0.760796741386289</li>\n",
       "\t<li>0.802866706918179</li>\n",
       "</ol>\n"
      ],
      "text/latex": [
       "\\begin{enumerate*}\n",
       "\\item 0.718726775854399\n",
       "\\item 0.760796741386289\n",
       "\\item 0.802866706918179\n",
       "\\end{enumerate*}\n"
      ],
      "text/markdown": [
       "1. 0.718726775854399\n",
       "2. 0.760796741386289\n",
       "3. 0.802866706918179\n",
       "\n",
       "\n"
      ],
      "text/plain": [
       "[1] 0.7187268 0.7607967 0.8028667"
      ]
     },
     "metadata": {},
     "output_type": "display_data"
    }
   ],
   "source": [
    "disparate(coded_data,1,alpha=0.05)"
   ]
  },
  {
   "cell_type": "code",
   "execution_count": 28,
   "metadata": {},
   "outputs": [
    {
     "data": {
      "text/html": [
       "<ol class=list-inline>\n",
       "\t<li>0.684372686074577</li>\n",
       "\t<li>0.711698727461992</li>\n",
       "\t<li>0.739024768849408</li>\n",
       "</ol>\n"
      ],
      "text/latex": [
       "\\begin{enumerate*}\n",
       "\\item 0.684372686074577\n",
       "\\item 0.711698727461992\n",
       "\\item 0.739024768849408\n",
       "\\end{enumerate*}\n"
      ],
      "text/markdown": [
       "1. 0.684372686074577\n",
       "2. 0.711698727461992\n",
       "3. 0.739024768849408\n",
       "\n",
       "\n"
      ],
      "text/plain": [
       "[1] 0.6843727 0.7116987 0.7390248"
      ]
     },
     "metadata": {},
     "output_type": "display_data"
    }
   ],
   "source": [
    "disparate(coded_data[,-3],1,alpha=0.05)"
   ]
  },
  {
   "cell_type": "markdown",
   "metadata": {},
   "source": [
    "Taux d'erreur du score Compas pour prédire la récidive."
   ]
  },
  {
   "cell_type": "code",
   "execution_count": 36,
   "metadata": {},
   "outputs": [
    {
     "data": {
      "text/plain": [
       "      \n",
       "       FALSE TRUE\n",
       "  High   272  796\n",
       "  Low   1872  881"
      ]
     },
     "metadata": {},
     "output_type": "display_data"
    }
   ],
   "source": [
    "table(df3$Compas,df3$Recidive)"
   ]
  },
  {
   "cell_type": "code",
   "execution_count": 33,
   "metadata": {},
   "outputs": [
    {
     "data": {
      "text/html": [
       "0.301753467678618"
      ],
      "text/latex": [
       "0.301753467678618"
      ],
      "text/markdown": [
       "0.301753467678618"
      ],
      "text/plain": [
       "[1] 0.3017535"
      ]
     },
     "metadata": {},
     "output_type": "display_data"
    }
   ],
   "source": [
    "(272+881)/(272+881+796+1872)"
   ]
  },
  {
   "cell_type": "markdown",
   "metadata": {},
   "source": [
    "Taux de faux positifs puis de faux négatifs"
   ]
  },
  {
   "cell_type": "code",
   "execution_count": 38,
   "metadata": {},
   "outputs": [
    {
     "data": {
      "text/html": [
       "0.126865671641791"
      ],
      "text/latex": [
       "0.126865671641791"
      ],
      "text/markdown": [
       "0.126865671641791"
      ],
      "text/plain": [
       "[1] 0.1268657"
      ]
     },
     "metadata": {},
     "output_type": "display_data"
    },
    {
     "data": {
      "text/html": [
       "0.525342874180084"
      ],
      "text/latex": [
       "0.525342874180084"
      ],
      "text/markdown": [
       "0.525342874180084"
      ],
      "text/plain": [
       "[1] 0.5253429"
      ]
     },
     "metadata": {},
     "output_type": "display_data"
    }
   ],
   "source": [
    "272/(272+1872); 881/(881+796)"
   ]
  },
  {
   "cell_type": "markdown",
   "metadata": {},
   "source": [
    "Même chose selon l'origine."
   ]
  },
  {
   "cell_type": "code",
   "execution_count": 34,
   "metadata": {},
   "outputs": [
    {
     "data": {
      "text/plain": [
       ", ,  = African-American\n",
       "\n",
       "      \n",
       "       FALSE TRUE\n",
       "  High   211  634\n",
       "  Low    873  473\n",
       "\n",
       ", ,  = Caucasian\n",
       "\n",
       "      \n",
       "       FALSE TRUE\n",
       "  High    61  162\n",
       "  Low    999  408\n"
      ]
     },
     "metadata": {},
     "output_type": "display_data"
    }
   ],
   "source": [
    "table(df3$Compas,df3$Recidive,df3$OrigEth)"
   ]
  },
  {
   "cell_type": "markdown",
   "metadata": {},
   "source": [
    "Taux d'erreur pour les noirs vs. taux d'erreur pour les blancs"
   ]
  },
  {
   "cell_type": "code",
   "execution_count": 43,
   "metadata": {},
   "outputs": [
    {
     "data": {
      "text/html": [
       "0.312186216339571"
      ],
      "text/latex": [
       "0.312186216339571"
      ],
      "text/markdown": [
       "0.312186216339571"
      ],
      "text/plain": [
       "[1] 0.3121862"
      ]
     },
     "metadata": {},
     "output_type": "display_data"
    },
    {
     "data": {
      "text/html": [
       "0.287730061349693"
      ],
      "text/latex": [
       "0.287730061349693"
      ],
      "text/markdown": [
       "0.287730061349693"
      ],
      "text/plain": [
       "[1] 0.2877301"
      ]
     },
     "metadata": {},
     "output_type": "display_data"
    }
   ],
   "source": [
    "(211+473)/(211+473+873+634); (61+408)/(61+408+999+162)"
   ]
  },
  {
   "cell_type": "markdown",
   "metadata": {},
   "source": [
    "Taux de faux positifs pour les noirs à comparer avec le taux de faux positifs pour les blancs"
   ]
  },
  {
   "cell_type": "code",
   "execution_count": 40,
   "metadata": {},
   "outputs": [
    {
     "data": {
      "text/html": [
       "0.194649446494465"
      ],
      "text/latex": [
       "0.194649446494465"
      ],
      "text/markdown": [
       "0.194649446494465"
      ],
      "text/plain": [
       "[1] 0.1946494"
      ]
     },
     "metadata": {},
     "output_type": "display_data"
    },
    {
     "data": {
      "text/html": [
       "0.0575471698113208"
      ],
      "text/latex": [
       "0.0575471698113208"
      ],
      "text/markdown": [
       "0.0575471698113208"
      ],
      "text/plain": [
       "[1] 0.05754717"
      ]
     },
     "metadata": {},
     "output_type": "display_data"
    }
   ],
   "source": [
    "211/(211+873);61/(61+999)"
   ]
  },
  {
   "cell_type": "markdown",
   "metadata": {},
   "source": [
    "Taux de faux négatifs  pour les noirs à comparer avec le taux de faux négatifs pour les blancs"
   ]
  },
  {
   "cell_type": "code",
   "execution_count": 44,
   "metadata": {},
   "outputs": [
    {
     "data": {
      "text/html": [
       "0.427280939476061"
      ],
      "text/latex": [
       "0.427280939476061"
      ],
      "text/markdown": [
       "0.427280939476061"
      ],
      "text/plain": [
       "[1] 0.4272809"
      ]
     },
     "metadata": {},
     "output_type": "display_data"
    },
    {
     "data": {
      "text/html": [
       "0.715789473684211"
      ],
      "text/latex": [
       "0.715789473684211"
      ],
      "text/markdown": [
       "0.715789473684211"
      ],
      "text/plain": [
       "[1] 0.7157895"
      ]
     },
     "metadata": {},
     "output_type": "display_data"
    }
   ],
   "source": [
    "473/(473+634);408/(162+408)"
   ]
  },
  {
   "cell_type": "markdown",
   "metadata": {},
   "source": [
    "Taux de faux positif pour les noirs: "
   ]
  },
  {
   "cell_type": "code",
   "execution_count": 29,
   "metadata": {
    "scrolled": true
   },
   "outputs": [
    {
     "data": {
      "text/html": [
       "<table>\n",
       "<thead><tr><th></th><th scope=col>inf</th><th scope=col>est_value</th><th scope=col>sup</th></tr></thead>\n",
       "<tbody>\n",
       "\t<tr><th scope=row>TP</th><td>0.8264721</td><td>0.8545261</td><td>0.8825801</td></tr>\n",
       "\t<tr><th scope=row>TN</th><td>1.7332774</td><td>2.0151226</td><td>2.2969679</td></tr>\n",
       "</tbody>\n",
       "</table>\n"
      ],
      "text/latex": [
       "\\begin{tabular}{r|lll}\n",
       "  & inf & est\\_value & sup\\\\\n",
       "\\hline\n",
       "\tTP & 0.8264721 & 0.8545261 & 0.8825801\\\\\n",
       "\tTN & 1.7332774 & 2.0151226 & 2.2969679\\\\\n",
       "\\end{tabular}\n"
      ],
      "text/markdown": [
       "\n",
       "| <!--/--> | inf | est_value | sup | \n",
       "|---|---|\n",
       "| TP | 0.8264721 | 0.8545261 | 0.8825801 | \n",
       "| TN | 1.7332774 | 2.0151226 | 2.2969679 | \n",
       "\n",
       "\n"
      ],
      "text/plain": [
       "   inf       est_value sup      \n",
       "TP 0.8264721 0.8545261 0.8825801\n",
       "TN 1.7332774 2.0151226 2.2969679"
      ]
     },
     "metadata": {},
     "output_type": "display_data"
    }
   ],
   "source": [
    "source(\"OverallAccuracyEquality.R\")\n",
    "OAE(coded_data,1,3,2,.05)"
   ]
  },
  {
   "cell_type": "code",
   "execution_count": 30,
   "metadata": {},
   "outputs": [
    {
     "data": {
      "text/html": [
       "<table>\n",
       "<thead><tr><th></th><th scope=col>inf</th><th scope=col>est_value</th><th scope=col>sup</th></tr></thead>\n",
       "<tbody>\n",
       "\t<tr><th scope=row>Y=0/f(X)=1</th><td>1.0793638</td><td>1.2118532</td><td>1.344343 </td></tr>\n",
       "\t<tr><th scope=row>Y=1/f(X)=0</th><td>0.6903557</td><td>0.9128528</td><td>1.135350 </td></tr>\n",
       "</tbody>\n",
       "</table>\n"
      ],
      "text/latex": [
       "\\begin{tabular}{r|lll}\n",
       "  & inf & est\\_value & sup\\\\\n",
       "\\hline\n",
       "\tY=0/f(X)=1 & 1.0793638 & 1.2118532 & 1.344343 \\\\\n",
       "\tY=1/f(X)=0 & 0.6903557 & 0.9128528 & 1.135350 \\\\\n",
       "\\end{tabular}\n"
      ],
      "text/markdown": [
       "\n",
       "| <!--/--> | inf | est_value | sup | \n",
       "|---|---|\n",
       "| Y=0/f(X)=1 | 1.0793638 | 1.2118532 | 1.344343  | \n",
       "| Y=1/f(X)=0 | 0.6903557 | 0.9128528 | 1.135350  | \n",
       "\n",
       "\n"
      ],
      "text/plain": [
       "           inf       est_value sup     \n",
       "Y=0/f(X)=1 1.0793638 1.2118532 1.344343\n",
       "Y=1/f(X)=0 0.6903557 0.9128528 1.135350"
      ]
     },
     "metadata": {},
     "output_type": "display_data"
    }
   ],
   "source": [
    "source(\"ConditionalUseEquality.R\")\n",
    "CUAE(coded_data,1,3,2,.05)"
   ]
  },
  {
   "cell_type": "code",
   "execution_count": null,
   "metadata": {},
   "outputs": [],
   "source": []
  },
  {
   "cell_type": "code",
   "execution_count": null,
   "metadata": {},
   "outputs": [],
   "source": []
  }
 ],
 "metadata": {
  "kernelspec": {
   "display_name": "R",
   "language": "R",
   "name": "ir"
  },
  "language_info": {
   "codemirror_mode": "r",
   "file_extension": ".r",
   "mimetype": "text/x-r-source",
   "name": "R",
   "pygments_lexer": "r",
   "version": "3.4.4"
  }
 },
 "nbformat": 4,
 "nbformat_minor": 1
}
