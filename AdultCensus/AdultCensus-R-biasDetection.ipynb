{
 "cells": [
  {
   "cell_type": "markdown",
   "metadata": {},
   "source": [
    "<center>\n",
    "<a href=\"http://www.insa-toulouse.fr/\" ><img src=\"http://www.math.univ-toulouse.fr/~besse/Wikistat/Images/logo-insa.jpg\" style=\"float:left; max-width: 120px; display: inline\" alt=\"INSA\"/></a> \n",
    "\n",
    "<a href=\"http://www.univ-tlse3.fr/\" ><img src=\"http://www.univ-tlse3.fr/medias/photo/ut3pres_logoq_1372757033342.jpg?ID_FICHE=49702\" style=\"float:right; max-width: 250px; display: inline\" alt=\"UPS\"/></a> \n",
    "</center>"
   ]
  },
  {
   "cell_type": "markdown",
   "metadata": {},
   "source": [
    "\n",
    "\n",
    "# Biais et Discrimination en Apprentissage Statistique\n",
    "\n",
    "### Résumé\n",
    "Analyse de données extraites d'un recensement aux USA de 1994 et disponibles sur le [dépôt de l'UCI](http://archive.ics.uci.edu/ml/). Ces données permettent de mettre en relation le niveau de revenu (inférieur ou supérieur à 50k$) avec d'autres variables dont certaines sensibles car indiquant l'appartenance à un groupe en principe protégé par al loi: genre, origine ethnique. Différents indicateurs de biais donc de sources de discrimination vis à vis d'un groupe sont définis et illustrés sur ces données. Les principaux relativement consensuels dans la littérature sont l'effet disproportionné ou *disparate impact* (DI) et des mesures associées à l'asymétrie des matrices de confusion conditionnellement au groupe. Les résultats montrent que les biais de société présents dans les données d'apprentissage sont fidèlement reproduits par l'apprentissage et même renforcés. C'est typiquement un cas de discrimination. Le processus de \"testing\" ou détection d'un biais individuel est également expérimenté. Enfin deux procédures élémentaires de correction de biais sont expérimentées. La correction suite au *testing* est innopérante vis à vis de la discrimination de groupe tandis que celle qui modifie le seuil de prévision en faveur du groupe sensible est efficace."
   ]
  },
  {
   "cell_type": "markdown",
   "metadata": {},
   "source": [
    "## 1 Introduction\n",
    "### 1.1 Les données\n",
    "Des données publiques disponibles sur le site [UCI repository](http://archive.ics.uci.edu/ml/) sont extraites de la base de données issue du recensement réalisé aux Etats Unis en 1994. Les deux fichiers *train* et *test* on été réunis en un seul. Ces données son largement utilisées et font référence comme outil de *benchmark* pour comparer les performances de méthodes d’apprentissage. L’objectif est de prévoir, avec plus ou moins de biais, la variable binaire \"revenu annuel\" supérieur ou inférieur à 50k$. Cette prévision n'impacte pas la personne mais comme la démarche et le contexte sont tout à fait similaires à ce que pourrait faire une banque pour évaluer un risque de crédit, c'est exemple est très illustratif. Il est d'ailleurs systématiquement utilisé pour comparer les propriétés des algorithmes d'apprentissage équitable (*fair learning*) car contrairement à beaucoup d'autres jeux de données utlisés pour cette fin (*e.g. german credit bank*), la vraie valeur de la variable cible est connue ainsique l'origine ethnique des personnes concernées.\n",
    "\n",
    "Dans les données initiales, 48.842 individus sont décrits par les 14 variables du tableau ci-dessous:\n",
    "\n",
    "\n",
    "|Num|Libellé|Ensemble de valeurs|\n",
    "|-|:---------|:-------------------|\n",
    "|1|`Age`|real|\n",
    "|2|`workClass`|Private, Self-emp-not-inc, Self-emp-inc, Federal-gov, Local-gov, State-gov, Without-pay, Never-worked|\n",
    "|3|`fnlwgt`|real|\n",
    "|4|`education`|Bachelors, Some-college, 11th, HS-grad, Prof-school, Assoc-acdm, Assoc-voc, 9th, 7th-8th, 12th, Masters, 1st-4th, 10th, Doctorate, 5th-6th, Preschool|\n",
    "|5|`educNum`|integer|\n",
    "|6|`mariStat`|Married-civ-spouse, Divorced, Never-married, Separated, Widowed, Married-spouse-absent, Married-AF-spouse|\n",
    "|7|`occup`|Tech-support, Craft-repair, Other-service, Sales, Exec-managerial, Prof-specialty, Handlers-cleaners, Machine-op-inspct, Adm-clerical, Farming-fishing, Transport-moving, Priv-house-serv, Protective-serv, Armed-Forces|\n",
    "|8|`relationship`|Wife, Own-child, Husband, Not-in-family, Other-relative, Unmarried\n",
    "|9|`origEthn`|White, Asian-Pac-Islander, Amer-Indian-Eskimo, Other, Black|\n",
    "|10|`sex`|Female, Male|\n",
    "|11|`capitalGain`|real| \n",
    "|12|`capitalLoss`|real|\n",
    "|13|`hoursWeek`|real|\n",
    "|14|`nativCountry`|United-States, Cambodia, England, Puerto-Rico, Canada, Germany, Outlying-US(Guam-USVI-etc), India, Japan, Greece, South, China, Cuba, Iran, Honduras, Philippines, Italy, Poland, Jamaica, Vietnam, Mexico, Portugal, Ireland, France, Dominican-Republic, Laos, Ecuador, Taiwan, Haiti, Columbia, Hungary, Guatemala, Nicaragua, Scotland, Thailand, Yugoslavia, El-Salvador, Trinadad&Tobago, Peru, Hong, Holand-Netherlands|\n",
    "|15|`income`|>50K, <=50K|\n"
   ]
  },
  {
   "cell_type": "markdown",
   "metadata": {},
   "source": [
    "### 1.2 Les traitements et analyses réalisés sur ces données\n",
    " \n",
    "- Lecture et prise en charge des données en remarquant que la variable `fnlwgt` (Final sampling weight) a un [statut particulier](http://web.cs.wpi.edu/~cs4341/C00/Projects/fnlwgt) pas très clair; elle est éliminée.\n",
    "- Exploration élémentaire et multidimensionnelle (AFCM) afin de représenter les sources des biais présents.\n",
    "- Prévision du revenu par régression logistique.\n",
    "- Estimation du *disparate impact* (effet disproportionné) par intervalle de confiance vis-à-vis de deux variables sensibles: genre et origine ethnique sur les données initiales et sur les prévisions du seuil de revenu.\n",
    "- Comparaison des asymétries des rapports de cote conditionnels selon les modalités de la variable sensible.\n",
    "- Evaluation de la sensibilité de ces modèles à des actions de testing: quels sont les individus pour lesquels la prévision du seuil de revenu dépend fortement de la variable sensible.\n",
    "- Expérimentation des corrections élémentaires des biais détectés par le testing et en biaisant les seuils de décision. \n",
    "\n",
    "Parmi tous les critères de biais existant susceptibles de mettre en évidence une discrimination, trois ont été privilégiés: \n",
    "- l'effet disproportionné (*disparate impact*), \n",
    "- la comparaison des taux d'erreur conditionnels \n",
    "- une mesure d'asymétrie de la matrice de confusion conditionnelle: *Conditional procedure accuracy equality* ou *disparate mistreatment* ou *equalized odds* cf. Vermat et Rubin (2018).\n",
    "\n",
    "**Remarque** Tout ce qui a été fait en utilisant la régression logistique comme méthode de prévision a également été opéré en utilisant l'algorithme *Random Forest*. Ceci produit les mêmes résultats, c'est-à-dire approximativement les mêmes qualités de prévision, avec une léger bénéfice pour RF, et les mêmes orientations des biais et discrimination. Par souci de simplicité et compte tenu de l'objectif, seule la régression logistique est développée ci-dessous. "
   ]
  },
  {
   "cell_type": "markdown",
   "metadata": {},
   "source": [
    "## 2 Exploration des données\n",
    "### 2.1 Lecture et premières transformations\n",
    "La lecture et la transformation des données brutes du dépôt de l'UCI sont obtenues directement en exécutant un code source en R. Consulter le code du programme pour comprendre les transformations qui ont été réalisées sur les données brutes. Cette étape peut être rendue plus efficace (programme plus concis et exécution plus rapide) en utilisant la librairie `dplyr` très adaptée à cet usage.\n",
    "\n",
    "Charger les données et le programme dans le répertoire courant en même temps que ce tutoriel ou changer de chemin pour y accéder directement. \n",
    "\n",
    "Certaines variables qualitatives sont recodées afin de regrouper des classes à trop faibles effectifs, les variables quantitatives, dont l'âge, sont découpées en classes afin d'en construire des versions qualitatives en vue d'une AFCM."
   ]
  },
  {
   "cell_type": "code",
   "execution_count": 1,
   "metadata": {},
   "outputs": [
    {
     "data": {
      "text/plain": [
       "      age                workClass         fnlwgt              education    \n",
       " Min.   :18.00   Federal-Govt : 1390   Min.   :  13492   HS-grad    :14766  \n",
       " 1st Qu.:28.00   Not-Working  :   21   1st Qu.: 117404   HS-Graduate: 9892  \n",
       " Median :37.00   Other-Govt   : 5023   Median : 178390   Bachelors  : 7569  \n",
       " Mean   :38.79   Private      :32856   Mean   : 189858   Dropout    : 5182  \n",
       " 3rd Qu.:47.00   Self-Employed: 5425   3rd Qu.: 237998   Associates : 3466  \n",
       " Max.   :90.00                         Max.   :1490400   Masters    : 2512  \n",
       "                                                         (Other)    : 1328  \n",
       "    educNum               mariStat              occup      \n",
       " Min.   : 1.00   Married      :21079   Admin       : 5501  \n",
       " 1st Qu.: 9.00   Never-Married:14100   Blue-Collar :14732  \n",
       " Median :10.00   Not-Married  : 8259   Other-occups: 2391  \n",
       " Mean   :10.16   Widowed      : 1277   Professional: 5992  \n",
       " 3rd Qu.:13.00                         Sales       : 5272  \n",
       " Max.   :16.00                         Service     : 4846  \n",
       "                                       White-Collar: 5981  \n",
       "         relationship          origEthn         sex        capitalGain   \n",
       " Husband       :18660   Amer-Indian:  428   Female:14450   None  :40939  \n",
       " Not-in-family :11678   Asian      : 1302   Male  :30265   cgLow : 2167  \n",
       " Other-relative: 1320   Black      : 4194                  cgHigh: 1609  \n",
       " Own-child     : 6184   Other      :  348                                \n",
       " Unmarried     : 4782   White      :38443                                \n",
       " Wife          : 2091                                                    \n",
       "                                                                         \n",
       " capitalLoss      hoursWeek                   nativCountry       income     \n",
       " None  :42587   Min.   : 1.00   United-States       :40807   incHigh:11204  \n",
       " clLow : 1071   1st Qu.:40.00   Latin-America       : 1537   incLow :33511  \n",
       " clHigh: 1057   Median :40.00   British-Commonwealth:  481                  \n",
       "                Mean   :41.17   SE-Asia             :  441                  \n",
       "                3rd Qu.:45.00   Euro_2              :  333                  \n",
       "                Max.   :99.00   Euro_1              :  330                  \n",
       "                                (Other)             :  786                  \n",
       "  LcapitalGain     LcapitalLoss     ageQ      hoursWeekQ \n",
       " Min.   : 0.000   Min.   :0.0000   Ag1:9034   HW1: 9638  \n",
       " 1st Qu.: 0.000   1st Qu.:0.0000   Ag2:8473   HW2:21367  \n",
       " Median : 0.000   Median :0.0000   Ag3:9714   HW3:13710  \n",
       " Mean   : 0.747   Mean   :0.3575   Ag4:9649              \n",
       " 3rd Qu.: 0.000   3rd Qu.:0.0000   Ag5:7845              \n",
       " Max.   :11.513   Max.   :8.3795                         \n",
       "                                                         "
      ]
     },
     "metadata": {},
     "output_type": "display_data"
    }
   ],
   "source": [
    "source(\"dataPrepAdultCensus.R\")\n",
    "summary(dataBase)"
   ]
  },
  {
   "cell_type": "markdown",
   "metadata": {},
   "source": [
    "### 2.2 Description statistique élémentaire\n",
    "Mettre en évidence des difficultés présentes sur certaines variables ou couples de variables."
   ]
  },
  {
   "cell_type": "code",
   "execution_count": 2,
   "metadata": {},
   "outputs": [
    {
     "data": {
      "image/png": "[encoded data removed]",
      "text/plain": [
       "Plot with title “”"
      ]
     },
     "metadata": {},
     "output_type": "display_data"
    }
   ],
   "source": [
    "options(repr.plot.width=4, repr.plot.height=4)\n",
    "hist(dataBase[,\"LcapitalGain\"],probability=T, main=\"\",xlab=\"log(1+CapitalGain)\")\n",
    "boxplot(dataBase[,\"LcapitalGain\"], horizontal=TRUE,boxwex=.2,  outline=TRUE,  \n",
    "        frame=F, col = \"lightgrey\", add = TRUE,at=0.2)"
   ]
  },
  {
   "cell_type": "markdown",
   "metadata": {},
   "source": [
    "Nécessité de transformer certaines variables avant de contruire des modèles linéaires puis mise en évidence d'incohérences et de fortes redondances dans certaines variables."
   ]
  },
  {
   "cell_type": "code",
   "execution_count": 3,
   "metadata": {},
   "outputs": [
    {
     "data": {
      "text/plain": [
       "                \n",
       "                 Female  Male\n",
       "  Husband             1 18659\n",
       "  Not-in-family    5404  6274\n",
       "  Other-relative    599   721\n",
       "  Own-child        2707  3477\n",
       "  Unmarried        3649  1133\n",
       "  Wife             2090     1"
      ]
     },
     "metadata": {},
     "output_type": "display_data"
    }
   ],
   "source": [
    "table(dataBase$relationship,dataBase$sex)   "
   ]
  },
  {
   "cell_type": "code",
   "execution_count": 4,
   "metadata": {},
   "outputs": [
    {
     "data": {
      "text/plain": [
       "             \n",
       "                  1     2     3     4     5     6     7     8     9    10    11\n",
       "  Associates      0     0     0     0     0     0     0     0     0     0  1959\n",
       "  Bachelors       0     0     0     0     0     0     0     0     0     0     0\n",
       "  Doctorate       0     0     0     0     0     0     0     0     0     0     0\n",
       "  Dropout        72   222   446   819   644  1073  1387   519     0     0     0\n",
       "  HS-grad         0     0     0     0     0     0     0     0 14766     0     0\n",
       "  HS-Graduate     0     0     0     0     0     0     0     0     0  9892     0\n",
       "  Masters         0     0     0     0     0     0     0     0     0     0     0\n",
       "  Prof-School     0     0     0     0     0     0     0     0     0     0     0\n",
       "             \n",
       "                 12    13    14    15    16\n",
       "  Associates   1507     0     0     0     0\n",
       "  Bachelors       0  7569     0     0     0\n",
       "  Doctorate       0     0     0     0   544\n",
       "  Dropout         0     0     0     0     0\n",
       "  HS-grad         0     0     0     0     0\n",
       "  HS-Graduate     0     0     0     0     0\n",
       "  Masters         0     0  2512     0     0\n",
       "  Prof-School     0     0     0   784     0"
      ]
     },
     "metadata": {},
     "output_type": "display_data"
    }
   ],
   "source": [
    "table(dataBase$education,dataBase$educNum)  "
   ]
  },
  {
   "cell_type": "code",
   "execution_count": 5,
   "metadata": {},
   "outputs": [
    {
     "data": {
      "text/plain": [
       "               \n",
       "                Husband Not-in-family Other-relative Own-child Unmarried  Wife\n",
       "  Married         18660            19            184       125         0  2091\n",
       "  Never-Married       0          6667            793      5423      1217     0\n",
       "  Not-Married         0          4305            284       616      3054     0\n",
       "  Widowed             0           687             59        20       511     0"
      ]
     },
     "metadata": {},
     "output_type": "display_data"
    }
   ],
   "source": [
    "table(dataBase$mariStat,dataBase$relationship)"
   ]
  },
  {
   "cell_type": "code",
   "execution_count": 6,
   "metadata": {},
   "outputs": [
    {
     "data": {
      "text/plain": [
       "             \n",
       "              British-Commonwealth China Euro_1 Euro_2 Latin-America Other\n",
       "  Amer-Indian                    0     1      1      2            12     0\n",
       "  Asian                        125   185      4    101            13    61\n",
       "  Black                         11     0     10      0           230     8\n",
       "  Other                         12     0      2      1           125    11\n",
       "  White                        333    10    313    229          1157   198\n",
       "             \n",
       "              SE-Asia South-America United-States\n",
       "  Amer-Indian       1             1           410\n",
       "  Asian           416             0           397\n",
       "  Black             4             2          3929\n",
       "  Other             0            31           166\n",
       "  White            20           278         35905"
      ]
     },
     "metadata": {},
     "output_type": "display_data"
    }
   ],
   "source": [
    "table(dataBase$origEthn,dataBase$nativCountry)"
   ]
  },
  {
   "cell_type": "code",
   "execution_count": 7,
   "metadata": {},
   "outputs": [
    {
     "data": {
      "image/png": "[encoded data removed]",
      "text/plain": [
       "Plot with title “”"
      ]
     },
     "metadata": {},
     "output_type": "display_data"
    }
   ],
   "source": [
    "mosaicplot(table(dataBase[,\"origEthn\"],dataBase[,\"income\"]),main=\"\")"
   ]
  },
  {
   "cell_type": "markdown",
   "metadata": {},
   "source": [
    "Quelques modifications sont apportées de la base. Certaines variables en versions quantitatives et qualitatives comme le nombre d'heures par semaine, l'âge ou le niveau d'éducation sont conservées. Des variables sont supprimées afin de ne garder qu'une seule présence d'une information sensible: genre et origine ethnique.\n",
    "- Suppression de la variable 3 `fnlwgt` qui n'a guère de signification pour cette analyse.\n",
    "- Création d'une variable binaire `Child`: présence ou non d'enfants.\n",
    "- Suppression de la variable 8 `relationship` redondante avec le genre et le statut marital,\n",
    "- Suppression de la variable 14 `nativCountry` redondante avec l'origine ethnique.\n",
    "- La variable 9 `originEthn` est simplifiée à 2 classes: CaucYes *vs.* CaucNo\n",
    "\n",
    "**Attention** Pour la suite, il est important que les niveaux des facteurs soient ordonnés de façon cohérente pour la bonne interprétation des tables de contingence et de leurs effectifs. Par convention, les modalités pré-jugées socialement \"dévavorables\": revenu faible, femme, non caucasien, précèdent les autres (codées 0): revenu élevé, homme, caucasien (codées 1). Il faut donc soit réordonner les niveaux de la variable `income` ou renommer les modalités pour faire correspondre l'ordre alphabétique. Ce deuxième choix est exécuté."
   ]
  },
  {
   "cell_type": "code",
   "execution_count": 8,
   "metadata": {},
   "outputs": [
    {
     "data": {
      "text/plain": [
       "      age                workClass           education        educNum     \n",
       " Min.   :18.00   Federal-Govt : 1390   HS-grad    :14766   Min.   : 1.00  \n",
       " 1st Qu.:28.00   Not-Working  :   21   HS-Graduate: 9892   1st Qu.: 9.00  \n",
       " Median :37.00   Other-Govt   : 5023   Bachelors  : 7569   Median :10.00  \n",
       " Mean   :38.79   Private      :32856   Dropout    : 5182   Mean   :10.16  \n",
       " 3rd Qu.:47.00   Self-Employed: 5425   Associates : 3466   3rd Qu.:13.00  \n",
       " Max.   :90.00                         Masters    : 2512   Max.   :16.00  \n",
       "                                       (Other)    : 1328                  \n",
       "          mariStat              occup          origEthn         sex       \n",
       " Married      :21079   Admin       : 5501   CaucNo : 6272   Female:14450  \n",
       " Never-Married:14100   Blue-Collar :14732   CaucYes:38443   Male  :30265  \n",
       " Not-Married  : 8259   Other-occups: 2391                                 \n",
       " Widowed      : 1277   Professional: 5992                                 \n",
       "                       Sales       : 5272                                 \n",
       "                       Service     : 4846                                 \n",
       "                       White-Collar: 5981                                 \n",
       " capitalGain    capitalLoss      hoursWeek      income       LcapitalGain   \n",
       " None  :40939   None  :42587   Min.   : 1.00   incB:33511   Min.   : 0.000  \n",
       " cgLow : 2167   clLow : 1071   1st Qu.:40.00   incH:11204   1st Qu.: 0.000  \n",
       " cgHigh: 1609   clHigh: 1057   Median :40.00                Median : 0.000  \n",
       "                               Mean   :41.17                Mean   : 0.747  \n",
       "                               3rd Qu.:45.00                3rd Qu.: 0.000  \n",
       "                               Max.   :99.00                Max.   :11.513  \n",
       "                                                                            \n",
       "  LcapitalLoss     ageQ      hoursWeekQ       child      \n",
       " Min.   :0.0000   Ag1:9034   HW1: 9638   ChildNo :38531  \n",
       " 1st Qu.:0.0000   Ag2:8473   HW2:21367   ChildYes: 6184  \n",
       " Median :0.0000   Ag3:9714   HW3:13710                   \n",
       " Mean   :0.3575   Ag4:9649                               \n",
       " 3rd Qu.:0.0000   Ag5:7845                               \n",
       " Max.   :8.3795                                          \n",
       "                                                         "
      ]
     },
     "metadata": {},
     "output_type": "display_data"
    }
   ],
   "source": [
    "dataBase[,\"child\"]=as.factor(ifelse(dataBase$relationship=='Own-child',\"ChildYes\",\"ChildNo\"))\n",
    "dataBase[,\"origEthn\"]=as.factor(ifelse(dataBase$origEthn %in% c('Amer-Indian','Asian','Black','Other'),\"CaucNo\",\"CaucYes\"))\n",
    "dataBase[,\"income\"]=as.factor(ifelse(dataBase$income=='incLow',\"incB\",\"incH\"))\n",
    "datBas=dataBase[,-c(3,8,14)]\n",
    "summary(datBas)"
   ]
  },
  {
   "cell_type": "markdown",
   "metadata": {},
   "source": [
    "Quelques mosaicplots importants montrant le liens des variables sensibles avec la cible (seuil de revenu)."
   ]
  },
  {
   "cell_type": "code",
   "execution_count": 9,
   "metadata": {},
   "outputs": [
    {
     "data": {
      "image/png": "[encoded data removed]",
      "text/plain": [
       "Plot with title “”"
      ]
     },
     "metadata": {},
     "output_type": "display_data"
    }
   ],
   "source": [
    "mosaicplot(table(datBas[,\"sex\"],datBas[,\"income\"]),main=\"\")"
   ]
  },
  {
   "cell_type": "code",
   "execution_count": 10,
   "metadata": {},
   "outputs": [
    {
     "data": {
      "image/png": "[encoded data removed]",
      "text/plain": [
       "Plot with title “”"
      ]
     },
     "metadata": {},
     "output_type": "display_data"
    }
   ],
   "source": [
    "mosaicplot(table(datBas[,\"origEthn\"],datBas[,\"income\"]),main=\"\")"
   ]
  },
  {
   "cell_type": "markdown",
   "metadata": {},
   "source": [
    "**Q** Commentaire sur le biais présent dans la base."
   ]
  },
  {
   "cell_type": "markdown",
   "metadata": {},
   "source": [
    "### 2.3  [Analyse factorielle multiple des correspondances](http://wikistat.fr/pdf/st-m-explo-afcm.pdf)\n",
    "Cette méthode permet d'avoir une vue d'ensemble de la structure des liaisons entre les variables qualitatives prises 2 à 2. "
   ]
  },
  {
   "cell_type": "code",
   "execution_count": 11,
   "metadata": {},
   "outputs": [
    {
     "data": {
      "image/png": "[encoded data removed]",
      "text/plain": [
       "plot without title"
      ]
     },
     "metadata": {},
     "output_type": "display_data"
    }
   ],
   "source": [
    "library(FactoMineR)\n",
    "dataq=datBas[,c(2,3,5:10,12,15:17)]\n",
    "afcm=MCA(dataq,graph=FALSE)\n",
    "plot(1:30,afcm$eig[1:30,1],type=\"h\")"
   ]
  },
  {
   "cell_type": "markdown",
   "metadata": {},
   "source": [
    "Il pourrait être utile de considérer 3 ou 4 axes mais seuls deux sont utilisés dans cette approche élémentaire. \n",
    "\n",
    "**Remarque** Cette étape permettrait d'anonymiser les données pour des traitements ultérieurs \"confidentiels\". Les variables qualitatives suceptibles de ré-identifier les données sont remplacées par les composantes principales de l'ACP des vecteurs profils lignes du tableau disjontif complet. Les liens entre individus sont conservés sans possibilité de les identifier."
   ]
  },
  {
   "cell_type": "code",
   "execution_count": 12,
   "metadata": {},
   "outputs": [
    {
     "data": {
      "image/png": "[encoded data removed]",
      "text/plain": [
       "Plot with title “MCA factor map”"
      ]
     },
     "metadata": {},
     "output_type": "display_data"
    }
   ],
   "source": [
    "options(repr.plot.width=6, repr.plot.height=6)\n",
    "plot.MCA(afcm,invisible=c(\"ind\"),habillage=\"quali\")"
   ]
  },
  {
   "cell_type": "markdown",
   "metadata": {},
   "source": [
    "Remarquer la très forte et attendue liaison entre niveau d'éducation et activité selon un axe de dispersion suivant la première bissectrice lui même en relation avec les modalités haut et bas revenus alors que le genre, en première approximation, semble orthogonal à cet axe mais en relation avec le type d'activité et le nombre d'heures de travail par semaine.\n",
    "\n",
    "Ce graphique laisse penser que le lien entre genre et niveau de revenu ne serait pas dû à une sous qualification des femmes mais à une moindre activité (travail partiel) ou à des types d'emplois moins rémunérés.\n",
    "\n",
    "Cette représentation est complétée en projetant les individus colorés selon la variable revenu. De façon triviale, les hauts revenus se concentrent du côté des niveaux d'éducation les plus élevés.\n",
    "\n",
    "*En résumé*: un lien direct entre revenu et niveau d'éducation, pas nécessairement de lien entre genre et niveau d'éducation mais un \"frein\" au revenu lié au type de travail ou d'occupation : administratif, service... et à de possibles temps partiels."
   ]
  },
  {
   "cell_type": "code",
   "execution_count": 13,
   "metadata": {},
   "outputs": [
    {
     "data": {
      "image/png": "[encoded data removed]",
      "text/plain": [
       "plot without title"
      ]
     },
     "metadata": {},
     "output_type": "display_data"
    }
   ],
   "source": [
    "plot(afcm$ind$coord,type=\"p\",pch=\".\",cex=2,col=as.integer(dataBase$income))"
   ]
  },
  {
   "cell_type": "markdown",
   "metadata": {},
   "source": [
    "## 3 Modèles de prévision du seuil de revenu\n",
    "Une comparaison détaillée (cf. le [tutoriel](https://github.com/wikistat/Apprentissage/blob/master/Adult-Census/Apprent-Python-AdultCensus.ipynb)) de la plupart des modèles et algorithmes de prévision du seuil de revenu en fonction des différentes variables met en évidence des résultats de prévision un peu meilleurs obtenus par l'algorithme de *gradient boosting* (version xtrem). Néanmoins, on peut se limiter ici à un modèle de régression logistique, rapide, compétitif et interprétable. Un arbre de décision seul donne également une précision assez similaire mais beaucoup trop complexe (profondeur) pour être interprétable. \n",
    "\n",
    "### 3.1 Echantillons\n",
    "La base de données est encore simplifiée avant de la diviser en deux échantillons d'apprentissage et de test."
   ]
  },
  {
   "cell_type": "code",
   "execution_count": 14,
   "metadata": {},
   "outputs": [
    {
     "data": {
      "text/plain": [
       "      age                workClass           education        educNum     \n",
       " Min.   :18.00   Federal-Govt : 1390   HS-grad    :14766   Min.   : 1.00  \n",
       " 1st Qu.:28.00   Not-Working  :   21   HS-Graduate: 9892   1st Qu.: 9.00  \n",
       " Median :37.00   Other-Govt   : 5023   Bachelors  : 7569   Median :10.00  \n",
       " Mean   :38.79   Private      :32856   Dropout    : 5182   Mean   :10.16  \n",
       " 3rd Qu.:47.00   Self-Employed: 5425   Associates : 3466   3rd Qu.:13.00  \n",
       " Max.   :90.00                         Masters    : 2512   Max.   :16.00  \n",
       "                                       (Other)    : 1328                  \n",
       "          mariStat              occup          origEthn         sex       \n",
       " Married      :21079   Admin       : 5501   CaucNo : 6272   Female:14450  \n",
       " Never-Married:14100   Blue-Collar :14732   CaucYes:38443   Male  :30265  \n",
       " Not-Married  : 8259   Other-occups: 2391                                 \n",
       " Widowed      : 1277   Professional: 5992                                 \n",
       "                       Sales       : 5272                                 \n",
       "                       Service     : 4846                                 \n",
       "                       White-Collar: 5981                                 \n",
       " capitalGain    capitalLoss      hoursWeek      income       LcapitalGain   \n",
       " None  :40939   None  :42587   Min.   : 1.00   incB:33511   Min.   : 0.000  \n",
       " cgLow : 2167   clLow : 1071   1st Qu.:40.00   incH:11204   1st Qu.: 0.000  \n",
       " cgHigh: 1609   clHigh: 1057   Median :40.00                Median : 0.000  \n",
       "                               Mean   :41.17                Mean   : 0.747  \n",
       "                               3rd Qu.:45.00                3rd Qu.: 0.000  \n",
       "                               Max.   :99.00                Max.   :11.513  \n",
       "                                                                            \n",
       "  LcapitalLoss     ageQ      hoursWeekQ       child      \n",
       " Min.   :0.0000   Ag1:9034   HW1: 9638   ChildNo :38531  \n",
       " 1st Qu.:0.0000   Ag2:8473   HW2:21367   ChildYes: 6184  \n",
       " Median :0.0000   Ag3:9714   HW3:13710                   \n",
       " Mean   :0.3575   Ag4:9649                               \n",
       " 3rd Qu.:0.0000   Ag5:7845                               \n",
       " Max.   :8.3795                                          \n",
       "                                                         "
      ]
     },
     "metadata": {},
     "output_type": "display_data"
    }
   ],
   "source": [
    "summary(datBas)"
   ]
  },
  {
   "cell_type": "code",
   "execution_count": 15,
   "metadata": {},
   "outputs": [
    {
     "data": {
      "text/plain": [
       "      age           educNum               mariStat              occup      \n",
       " Min.   :18.00   Min.   : 1.00   Married      :21079   Admin       : 5501  \n",
       " 1st Qu.:28.00   1st Qu.: 9.00   Never-Married:14100   Blue-Collar :14732  \n",
       " Median :37.00   Median :10.00   Not-Married  : 8259   Other-occups: 2391  \n",
       " Mean   :38.79   Mean   :10.16   Widowed      : 1277   Professional: 5992  \n",
       " 3rd Qu.:47.00   3rd Qu.:13.00                         Sales       : 5272  \n",
       " Max.   :90.00   Max.   :16.00                         Service     : 4846  \n",
       "                                                       White-Collar: 5981  \n",
       "    origEthn         sex          hoursWeek      income       LcapitalGain   \n",
       " CaucNo : 6272   Female:14450   Min.   : 1.00   incB:33511   Min.   : 0.000  \n",
       " CaucYes:38443   Male  :30265   1st Qu.:40.00   incH:11204   1st Qu.: 0.000  \n",
       "                                Median :40.00                Median : 0.000  \n",
       "                                Mean   :41.17                Mean   : 0.747  \n",
       "                                3rd Qu.:45.00                3rd Qu.: 0.000  \n",
       "                                Max.   :99.00                Max.   :11.513  \n",
       "                                                                             \n",
       "  LcapitalLoss         child      \n",
       " Min.   :0.0000   ChildNo :38531  \n",
       " 1st Qu.:0.0000   ChildYes: 6184  \n",
       " Median :0.0000                   \n",
       " Mean   :0.3575                   \n",
       " 3rd Qu.:0.0000                   \n",
       " Max.   :8.3795                   \n",
       "                                  "
      ]
     },
     "metadata": {},
     "output_type": "display_data"
    }
   ],
   "source": [
    "datBas=datBas[,c(\"age\",\"educNum\",\"mariStat\",\"occup\",\"origEthn\",\n",
    "                 \"sex\",\"hoursWeek\",\"income\",\"LcapitalGain\",\"LcapitalLoss\",\"child\")]\n",
    "summary(datBas)\n",
    "write.csv(datBas,file=\"adultBase-R.csv\",row.names = FALSE)"
   ]
  },
  {
   "cell_type": "code",
   "execution_count": 16,
   "metadata": {},
   "outputs": [],
   "source": [
    "set.seed(111) # initialisation du générateur\n",
    "# Extraction des échantillons\n",
    "test.ratio=.2   # part de l'échantillon test\n",
    "npop=nrow(datBas) # nombre de lignes dans les données\n",
    "nvar=ncol(datBas) # nombre de colonnes\n",
    "# taille de l'échantillon test\n",
    "ntest=ceiling(npop*test.ratio) \n",
    "# indices de l'échantillon test\n",
    "testi=sample(1:npop,ntest)\n",
    "# indices de l'échantillon d'apprentissage\n",
    "appri=setdiff(1:npop,testi) "
   ]
  },
  {
   "cell_type": "code",
   "execution_count": 17,
   "metadata": {},
   "outputs": [],
   "source": [
    "# construction de l'échantillon d'apprentissage\n",
    "datApp=datBas[appri,]\n",
    "# construction de l'échantillon test \n",
    "daTest=datBas[testi,]"
   ]
  },
  {
   "cell_type": "markdown",
   "metadata": {},
   "source": [
    "### 3.2 Prévision par régression logistique\n",
    "Comme la plupart des coefficients sont significatifs au sens d'un test de Fisher et par souci de simplicité, il n'est pas fait de sélection de modèle ni non plus tenté un modèle avec des interactions. Remarquer que la présence des versions qualitatives (découpage en classe) des variables quantitatives introduit une part de non linéarité dans le modèle par la présence des dindicatrices des classes.\n",
    "\n",
    "La fonction ci-dessous calcule le taux d'erreur usuel de la matrice de confusion. Avec l'ordonnencement des modalités, les bien classés sont les termes diagonaux de la matrice de confusion."
   ]
  },
  {
   "cell_type": "code",
   "execution_count": 18,
   "metadata": {},
   "outputs": [],
   "source": [
    "tauxErr=function(table){round((table[1,2]+table[2,1])/sum(table)*100,2)}"
   ]
  },
  {
   "cell_type": "code",
   "execution_count": 19,
   "metadata": {},
   "outputs": [
    {
     "data": {
      "text/html": [
       "<table>\n",
       "<thead><tr><th></th><th scope=col>Df</th><th scope=col>Deviance</th><th scope=col>Resid. Df</th><th scope=col>Resid. Dev</th><th scope=col>Pr(&gt;Chi)</th></tr></thead>\n",
       "<tbody>\n",
       "\t<tr><th scope=row>NULL</th><td>NA           </td><td>        NA   </td><td>35771        </td><td>40203.12     </td><td>           NA</td></tr>\n",
       "\t<tr><th scope=row>age</th><td> 1           </td><td>1900.36292   </td><td>35770        </td><td>38302.75     </td><td> 0.000000e+00</td></tr>\n",
       "\t<tr><th scope=row>educNum</th><td> 1           </td><td>4266.88816   </td><td>35769        </td><td>34035.87     </td><td> 0.000000e+00</td></tr>\n",
       "\t<tr><th scope=row>mariStat</th><td> 3           </td><td>6260.77022   </td><td>35766        </td><td>27775.10     </td><td> 0.000000e+00</td></tr>\n",
       "\t<tr><th scope=row>occup</th><td> 6           </td><td> 846.60494   </td><td>35760        </td><td>26928.49     </td><td>1.307363e-179</td></tr>\n",
       "\t<tr><th scope=row>origEthn</th><td> 1           </td><td>  11.46135   </td><td>35759        </td><td>26917.03     </td><td> 7.105875e-04</td></tr>\n",
       "\t<tr><th scope=row>sex</th><td> 1           </td><td>  52.17826   </td><td>35758        </td><td>26864.85     </td><td> 5.068409e-13</td></tr>\n",
       "\t<tr><th scope=row>hoursWeek</th><td> 1           </td><td> 393.18044   </td><td>35757        </td><td>26471.67     </td><td> 1.680729e-87</td></tr>\n",
       "\t<tr><th scope=row>LcapitalGain</th><td> 1           </td><td>1172.49593   </td><td>35756        </td><td>25299.17     </td><td>5.791078e-257</td></tr>\n",
       "\t<tr><th scope=row>LcapitalLoss</th><td> 1           </td><td> 313.36575   </td><td>35755        </td><td>24985.81     </td><td> 4.036745e-70</td></tr>\n",
       "\t<tr><th scope=row>child</th><td> 1           </td><td>  93.09289   </td><td>35754        </td><td>24892.72     </td><td> 4.989679e-22</td></tr>\n",
       "</tbody>\n",
       "</table>\n"
      ],
      "text/latex": [
       "\\begin{tabular}{r|lllll}\n",
       "  & Df & Deviance & Resid. Df & Resid. Dev & Pr(>Chi)\\\\\n",
       "\\hline\n",
       "\tNULL & NA            &         NA    & 35771         & 40203.12      &            NA\\\\\n",
       "\tage &  1            & 1900.36292    & 35770         & 38302.75      &  0.000000e+00\\\\\n",
       "\teducNum &  1            & 4266.88816    & 35769         & 34035.87      &  0.000000e+00\\\\\n",
       "\tmariStat &  3            & 6260.77022    & 35766         & 27775.10      &  0.000000e+00\\\\\n",
       "\toccup &  6            &  846.60494    & 35760         & 26928.49      & 1.307363e-179\\\\\n",
       "\torigEthn &  1            &   11.46135    & 35759         & 26917.03      &  7.105875e-04\\\\\n",
       "\tsex &  1            &   52.17826    & 35758         & 26864.85      &  5.068409e-13\\\\\n",
       "\thoursWeek &  1            &  393.18044    & 35757         & 26471.67      &  1.680729e-87\\\\\n",
       "\tLcapitalGain &  1            & 1172.49593    & 35756         & 25299.17      & 5.791078e-257\\\\\n",
       "\tLcapitalLoss &  1            &  313.36575    & 35755         & 24985.81      &  4.036745e-70\\\\\n",
       "\tchild &  1            &   93.09289    & 35754         & 24892.72      &  4.989679e-22\\\\\n",
       "\\end{tabular}\n"
      ],
      "text/markdown": [
       "\n",
       "| <!--/--> | Df | Deviance | Resid. Df | Resid. Dev | Pr(>Chi) |\n",
       "|---|---|---|---|---|---|\n",
       "| NULL | NA            |         NA    | 35771         | 40203.12      |            NA |\n",
       "| age |  1            | 1900.36292    | 35770         | 38302.75      |  0.000000e+00 |\n",
       "| educNum |  1            | 4266.88816    | 35769         | 34035.87      |  0.000000e+00 |\n",
       "| mariStat |  3            | 6260.77022    | 35766         | 27775.10      |  0.000000e+00 |\n",
       "| occup |  6            |  846.60494    | 35760         | 26928.49      | 1.307363e-179 |\n",
       "| origEthn |  1            |   11.46135    | 35759         | 26917.03      |  7.105875e-04 |\n",
       "| sex |  1            |   52.17826    | 35758         | 26864.85      |  5.068409e-13 |\n",
       "| hoursWeek |  1            |  393.18044    | 35757         | 26471.67      |  1.680729e-87 |\n",
       "| LcapitalGain |  1            | 1172.49593    | 35756         | 25299.17      | 5.791078e-257 |\n",
       "| LcapitalLoss |  1            |  313.36575    | 35755         | 24985.81      |  4.036745e-70 |\n",
       "| child |  1            |   93.09289    | 35754         | 24892.72      |  4.989679e-22 |\n",
       "\n"
      ],
      "text/plain": [
       "             Df Deviance   Resid. Df Resid. Dev Pr(>Chi)     \n",
       "NULL         NA         NA 35771     40203.12              NA\n",
       "age           1 1900.36292 35770     38302.75    0.000000e+00\n",
       "educNum       1 4266.88816 35769     34035.87    0.000000e+00\n",
       "mariStat      3 6260.77022 35766     27775.10    0.000000e+00\n",
       "occup         6  846.60494 35760     26928.49   1.307363e-179\n",
       "origEthn      1   11.46135 35759     26917.03    7.105875e-04\n",
       "sex           1   52.17826 35758     26864.85    5.068409e-13\n",
       "hoursWeek     1  393.18044 35757     26471.67    1.680729e-87\n",
       "LcapitalGain  1 1172.49593 35756     25299.17   5.791078e-257\n",
       "LcapitalLoss  1  313.36575 35755     24985.81    4.036745e-70\n",
       "child         1   93.09289 35754     24892.72    4.989679e-22"
      ]
     },
     "metadata": {},
     "output_type": "display_data"
    }
   ],
   "source": [
    "# estimation du modèle complet\n",
    "log.lm=glm(income~.,data=datApp,family=binomial)\n",
    "# significativité des paramètres\n",
    "anova(log.lm,test=\"Chisq\")"
   ]
  },
  {
   "cell_type": "markdown",
   "metadata": {},
   "source": [
    "**Q** Commentaire sur la significativité des paramètres."
   ]
  },
  {
   "cell_type": "code",
   "execution_count": 20,
   "metadata": {},
   "outputs": [
    {
     "data": {
      "text/plain": [
       "       \n",
       "        incB incH\n",
       "  FALSE 6147  952\n",
       "  TRUE   522 1322"
      ]
     },
     "metadata": {},
     "output_type": "display_data"
    }
   ],
   "source": [
    "# Prévision\n",
    "pred.log=predict(log.lm,newdata=daTest,type=\"response\")\n",
    "# Matrice de confusion pour la prévision du \n",
    "# dépassement de seuil\n",
    "confMat=table(pred.log>0.5,daTest$income)\n",
    "confMat"
   ]
  },
  {
   "cell_type": "code",
   "execution_count": 21,
   "metadata": {},
   "outputs": [
    {
     "data": {
      "text/html": [
       "16.48"
      ],
      "text/latex": [
       "16.48"
      ],
      "text/markdown": [
       "16.48"
      ],
      "text/plain": [
       "[1] 16.48"
      ]
     },
     "metadata": {},
     "output_type": "display_data"
    }
   ],
   "source": [
    "tauxErr(confMat)"
   ]
  },
  {
   "cell_type": "markdown",
   "metadata": {},
   "source": [
    "A titre de comparaison, l'algorithme des forêts aléatoires est exécuté."
   ]
  },
  {
   "cell_type": "code",
   "execution_count": 22,
   "metadata": {},
   "outputs": [
    {
     "name": "stderr",
     "output_type": "stream",
     "text": [
      "randomForest 4.6-14\n",
      "Type rfNews() to see new features/changes/bug fixes.\n"
     ]
    },
    {
     "data": {
      "text/plain": [
       "       \n",
       "pred.rf incB incH\n",
       "   incB 6291  845\n",
       "   incH  378 1429"
      ]
     },
     "metadata": {},
     "output_type": "display_data"
    },
    {
     "data": {
      "text/html": [
       "13.68"
      ],
      "text/latex": [
       "13.68"
      ],
      "text/markdown": [
       "13.68"
      ],
      "text/plain": [
       "[1] 13.68"
      ]
     },
     "metadata": {},
     "output_type": "display_data"
    }
   ],
   "source": [
    "library(randomForest)\n",
    "rf.mod=randomForest(income~.,data=datApp)\n",
    "pred.rf=predict(rf.mod,newdata=daTest,type=\"response\")\n",
    "confMat=table(pred.rf,daTest$income)\n",
    "confMat\n",
    "tauxErr(confMat)"
   ]
  },
  {
   "cell_type": "markdown",
   "metadata": {},
   "source": [
    "Comme le modèle est largement simplifiée en supprimant des variables, le taux d'erreur est un peu plus important. La prise en compte des versions qualitatives des variables ou des interactions ou encore l'utilisation d'un algorithme non linéaire (forêts aléatoires, boosting) permet de réduire significativement cette erreur; 14.8% pour la régression logistique incluant toutes les variables et ci-dessus 13.7% pour les forêts aléatoires. \n",
    "\n",
    "Néanmoins, l'objectif n'est pas ici d'obtenir la meilleure prévision comme dans le [calepin](https://github.com/wikistat/Apprentissage/tree/master/Adult-Census) concerné qui les compare systématiquement. Pour viser l'objectif de détection de biais, un modèle simplifié suffit car les mêmes questions de discrimination sont soulevées et avec des temps de calcul plus satisfaisants."
   ]
  },
  {
   "cell_type": "markdown",
   "metadata": {},
   "source": [
    "### 3.3 Modèle de régression sans la variable genre\n",
    "Une approche naïve pour construire un apprentissage loyal consiste à supprimer la variable sensible. Le modèle de régression logistique est donc estimé dans cette variable afin d'évaluer l'impact sur le biais."
   ]
  },
  {
   "cell_type": "code",
   "execution_count": 23,
   "metadata": {},
   "outputs": [],
   "source": [
    "# estimation du modèle sans la variable genre\n",
    "log_g.lm=glm(income~.,data=datApp[,-6],family=binomial)"
   ]
  },
  {
   "cell_type": "code",
   "execution_count": 24,
   "metadata": {},
   "outputs": [
    {
     "data": {
      "text/plain": [
       "       \n",
       "        incB incH\n",
       "  FALSE 6152  950\n",
       "  TRUE   517 1324"
      ]
     },
     "metadata": {},
     "output_type": "display_data"
    }
   ],
   "source": [
    "# Prévision\n",
    "pred_g.log=predict(log_g.lm,newdata=daTest[,-8],type=\"response\")\n",
    "# Matrice de confusion pour la prévision du \n",
    "# dépassement de seuil\n",
    "confMat=table(pred_g.log>0.5,daTest$income)\n",
    "confMat"
   ]
  },
  {
   "cell_type": "code",
   "execution_count": 25,
   "metadata": {},
   "outputs": [
    {
     "data": {
      "text/html": [
       "16.4"
      ],
      "text/latex": [
       "16.4"
      ],
      "text/markdown": [
       "16.4"
      ],
      "text/plain": [
       "[1] 16.4"
      ]
     },
     "metadata": {},
     "output_type": "display_data"
    }
   ],
   "source": [
    "tauxErr(confMat)"
   ]
  },
  {
   "cell_type": "markdown",
   "metadata": {},
   "source": [
    "La qualité de prévision n'est pas affectée.\n",
    "\n",
    "### 3.4 Régression logistique sans l'origine\n",
    "Même chose mais sans cette fois la variable origine ethnique."
   ]
  },
  {
   "cell_type": "code",
   "execution_count": 26,
   "metadata": {},
   "outputs": [
    {
     "data": {
      "text/plain": [
       "       \n",
       "        incB incH\n",
       "  FALSE 6145  951\n",
       "  TRUE   524 1323"
      ]
     },
     "metadata": {},
     "output_type": "display_data"
    },
    {
     "data": {
      "text/html": [
       "16.49"
      ],
      "text/latex": [
       "16.49"
      ],
      "text/markdown": [
       "16.49"
      ],
      "text/plain": [
       "[1] 16.49"
      ]
     },
     "metadata": {},
     "output_type": "display_data"
    }
   ],
   "source": [
    "log_o.lm=glm(income~.,data=datApp[,-5],family=binomial)\n",
    "# Prévision\n",
    "pred_o.log=predict(log_o.lm,newdata=daTest[,-5],type=\"response\")\n",
    "# Matrice de confusion  et erreur\n",
    "confMat=table(pred_o.log>0.5,daTest$income)\n",
    "confMat; tauxErr(confMat)"
   ]
  },
  {
   "cell_type": "markdown",
   "metadata": {},
   "source": [
    "Même remarque."
   ]
  },
  {
   "cell_type": "markdown",
   "metadata": {},
   "source": [
    "## 4 Estimation de l'effet disproportionné\n",
    "### 4.1 Définition\n",
    "Les mesures de discrimination indirecte ou de groupe sont basées sur un critère d'effet disproportionné ou *disparate impact* (*DI*) apparu aux USA en 1971 pour détecter des situations discriminatoires à l'embauche (Barocas et Selbst; 2016). Ce critère est défini par le rapport de deux probabilités. La probabilité de bénéficier d'une situation ou décision favorable (revenu élevé, crédit, emploi, logement...) pour une personne du groupe protégé par la loi: femme ou origine non caucasienne, sur la même probabilité pour une personne de l'autre groupe: homme ou origine caucasienne.\n",
    "\n",
    "*Notations*: \n",
    "\n",
    "- $Y$ est la variable cible ou à expliquer, ici le revenu, $Y=1$ revenu élevé *vs* $Y=0$; \n",
    "- $g(X)=\\hat{Y}$ le score élevé ou faible ou prévision du revenu, $g(X)=\\hat{Y}=0$: prévision d'un revenu faible;\n",
    "- $S$ est la variable sensible qui désigne le groupe en principe protégé par la loi contre une possible discrimination. Il s'agit ici du genre ou de l'origine ethnique réduite à 2 modalités: caucasien ($S=1$) ou non caucasien ($S=0$). \n",
    "\n",
    "L'effet disproportionné mesure une situation de biais de société déjà présent dans la base de données. \n",
    "$$DI=\\frac{P(Y=1|S=0)}{P(Y=1|S=1)}.$$\n",
    "Il est estimé à partir des valeurs de la table de contingence croisant les variables $Y$ et $S$ par le rapport:\n",
    "$$\\frac{n_{21}}{(n_{11}+n_{21})}/\\frac{n_{22}}{(n_{12}+n_{22})}.$$\n",
    "\n",
    "Appliqué à la prévision $g(X)=\\hat{Y}$ de la variable cible $Y$, il mesure le biais de cette prévision et donc le risque de discrimination opéré par la prévision.\n",
    "\n",
    "### 4.2 Fonction `dispImp`\n",
    "Une fonction R calcule le $DI$ et fournit de plus une estimation par intervalle de confiance (Besse et al. 2018) décomposant la fonction de densité de la statistique de test par la *delta method*. Cette fonction a trois arguments:   \n",
    "- la variable $S$ considérée comme sensible: un facteur à deux niveaux ordonnés \"favorable\" puis \"défavorable\";\n",
    "- la variable cible $Y$ ou sa prévision $g(X)=\\hat{Y}$: également un facteur à deux niveaux;\n",
    "- le risque de l'intervalle de confiance, par défaut 5%.\n",
    "\n",
    "Elle renvoie les trois estimations $DI$ et $IC_g$, $IC_d$ bornes de l'intervalle de confiance."
   ]
  },
  {
   "cell_type": "code",
   "execution_count": 27,
   "metadata": {},
   "outputs": [],
   "source": [
    "source(\"../Functions/dispImp.R\")"
   ]
  },
  {
   "cell_type": "markdown",
   "metadata": {},
   "source": [
    "### 4.3 Effet disproportionné de la base d'apprentissage\n",
    "Calculé sur les données initiales, le *disparate impact* ou effet disproportionné met en évidence un biais social fort. Les variables sensibles sont le genre puis l'origine ethnique. La fonction `dispImp` nécessite que les niveaux des facteurs soient dans l'ordre lexicographique: niveaux \"défavorable\" puis \"favorable\"."
   ]
  },
  {
   "cell_type": "markdown",
   "metadata": {},
   "source": [
    "#### Ségrégation vis à vis du genre\n",
    "Table de contingence croisant $Y$ (revenu) avec $S$ (genre)."
   ]
  },
  {
   "cell_type": "code",
   "execution_count": 28,
   "metadata": {},
   "outputs": [
    {
     "data": {
      "text/plain": [
       "      \n",
       "       Female  Male\n",
       "  incB  12781 20730\n",
       "  incH   1669  9535"
      ]
     },
     "metadata": {},
     "output_type": "display_data"
    }
   ],
   "source": [
    "tableDI=table(datBas$income,datBas$sex)\n",
    "tableDI"
   ]
  },
  {
   "cell_type": "markdown",
   "metadata": {},
   "source": [
    "*Estimation ponctuelle* de $DI=\\frac{n_{21}}{(n_{11}+n_{21})}/\\frac{n_{22}}{(n_{12}+n_{22})}.$"
   ]
  },
  {
   "cell_type": "code",
   "execution_count": 29,
   "metadata": {},
   "outputs": [
    {
     "data": {
      "text/html": [
       "0.367"
      ],
      "text/latex": [
       "0.367"
      ],
      "text/markdown": [
       "0.367"
      ],
      "text/plain": [
       "[1] 0.367"
      ]
     },
     "metadata": {},
     "output_type": "display_data"
    }
   ],
   "source": [
    "round((tableDI[2,1]/(tableDI[1,1]+tableDI[2,1]))/(tableDI[2,2]/(tableDI[1,2]+tableDI[2,2])),3)"
   ]
  },
  {
   "cell_type": "markdown",
   "metadata": {},
   "source": [
    "*Estimation par intervalle de confiance* approché par *delta method*. "
   ]
  },
  {
   "cell_type": "code",
   "execution_count": 30,
   "metadata": {},
   "outputs": [
    {
     "data": {
      "text/html": [
       "<ol class=list-inline>\n",
       "\t<li>0.349</li>\n",
       "\t<li>0.367</li>\n",
       "\t<li>0.384</li>\n",
       "</ol>\n"
      ],
      "text/latex": [
       "\\begin{enumerate*}\n",
       "\\item 0.349\n",
       "\\item 0.367\n",
       "\\item 0.384\n",
       "\\end{enumerate*}\n"
      ],
      "text/markdown": [
       "1. 0.349\n",
       "2. 0.367\n",
       "3. 0.384\n",
       "\n",
       "\n"
      ],
      "text/plain": [
       "[1] 0.349 0.367 0.384"
      ]
     },
     "metadata": {},
     "output_type": "display_data"
    }
   ],
   "source": [
    "round(dispImp(datBas[,\"sex\"],datBas[,\"income\"]),3)"
   ]
  },
  {
   "cell_type": "markdown",
   "metadata": {},
   "source": [
    "*Estimation bootstrap de l'intervalle de confiance*\n",
    "\n",
    "L'estimation approchée par la *delta method* est comparée à une estimation bootstrap de l'intervalle de confiance. En effet, l'estimation du *DI* est instable mais les estimations sur des échantillons bootstrap restent bien dans la zone de risque contrôlée par l'intervalle de confiance. "
   ]
  },
  {
   "cell_type": "code",
   "execution_count": 31,
   "metadata": {},
   "outputs": [],
   "source": [
    "B=1000 \n",
    "set.seed(11)\n",
    "n=nrow(datBas)\n",
    "res=matrix(0,B,3)\n",
    "for (i in 1:B)\n",
    "    {\n",
    "    boot=sample(n,n,replace=T)\n",
    "    res[i,]=dispImp(datBas[boot,\"sex\"],datBas[boot,\"income\"])\n",
    "    }"
   ]
  },
  {
   "cell_type": "code",
   "execution_count": 32,
   "metadata": {},
   "outputs": [
    {
     "data": {
      "image/png": "[encoded data removed]",
      "text/plain": [
       "plot without title"
      ]
     },
     "metadata": {},
     "output_type": "display_data"
    }
   ],
   "source": [
    "options(repr.plot.width=5, repr.plot.height=4)\n",
    "plot(res[,2],ylim=c(0.3,0.45),pch='.')\n",
    "lines(res[,2],col=3,pch='.')\n",
    "abline(h=0.343,col=2)\n",
    "abline(h=0.386,col=2)"
   ]
  },
  {
   "cell_type": "markdown",
   "metadata": {},
   "source": [
    "Une fonction de la librairie `boot` fournit une estimation bootstrap de l'intervalle de confiance."
   ]
  },
  {
   "cell_type": "code",
   "execution_count": 33,
   "metadata": {},
   "outputs": [
    {
     "data": {
      "text/plain": [
       "\n",
       "ORDINARY NONPARAMETRIC BOOTSTRAP\n",
       "\n",
       "\n",
       "Call:\n",
       "boot(data = datBas, statistic = fc, R = 1000)\n",
       "\n",
       "\n",
       "Bootstrap Statistics :\n",
       "     original        bias    std. error\n",
       "t1* 0.3666135 -0.0001896611 0.009193644"
      ]
     },
     "metadata": {},
     "output_type": "display_data"
    }
   ],
   "source": [
    "library(boot)\n",
    "fc <- function(d, i){ \n",
    "    d2 <- d[i,]\n",
    "    return(statistic=dispImp(d2$sex,d2$income)[2])\n",
    "}\n",
    "set.seed(11)\n",
    "bootDI <- boot(datBas,fc, R=1000)\n",
    "bootDI"
   ]
  },
  {
   "cell_type": "code",
   "execution_count": 34,
   "metadata": {},
   "outputs": [
    {
     "data": {
      "text/plain": [
       "BOOTSTRAP CONFIDENCE INTERVAL CALCULATIONS\n",
       "Based on 1000 bootstrap replicates\n",
       "\n",
       "CALL : \n",
       "boot.ci(boot.out = bootDI, type = \"perc\")\n",
       "\n",
       "Intervals : \n",
       "Level     Percentile     \n",
       "95%   ( 0.3487,  0.3848 )  \n",
       "Calculations and Intervals on Original Scale"
      ]
     },
     "metadata": {},
     "output_type": "display_data"
    }
   ],
   "source": [
    "boot.ci(boot.out = bootDI, type = \"perc\")"
   ]
  },
  {
   "cell_type": "markdown",
   "metadata": {},
   "source": [
    "Comme attendu, l'intervalle de confiance issu de l'approximation par *delta method*: $[0.349, 0.384]$ se confond avec  celui obtenu par estimation bootstrap: $[0.349, 0.385]$.\n",
    "\n",
    "Compte tenu des temps de calcul, l'estimation approchée de l'IC par *delta method* est à privilégier!"
   ]
  },
  {
   "cell_type": "markdown",
   "metadata": {},
   "source": [
    "#### Biais vis à vis de l'origine"
   ]
  },
  {
   "cell_type": "code",
   "execution_count": 35,
   "metadata": {},
   "outputs": [
    {
     "data": {
      "text/html": [
       "<ol class=list-inline>\n",
       "\t<li>0.566</li>\n",
       "\t<li>0.601</li>\n",
       "\t<li>0.637</li>\n",
       "</ol>\n"
      ],
      "text/latex": [
       "\\begin{enumerate*}\n",
       "\\item 0.566\n",
       "\\item 0.601\n",
       "\\item 0.637\n",
       "\\end{enumerate*}\n"
      ],
      "text/markdown": [
       "1. 0.566\n",
       "2. 0.601\n",
       "3. 0.637\n",
       "\n",
       "\n"
      ],
      "text/plain": [
       "[1] 0.566 0.601 0.637"
      ]
     },
     "metadata": {},
     "output_type": "display_data"
    }
   ],
   "source": [
    "round(dispImp(datBas$origEthn,datBas$income),3)"
   ]
  },
  {
   "cell_type": "markdown",
   "metadata": {},
   "source": [
    "Biais nettement plus important selon le genre que selon l'origine ethnique."
   ]
  },
  {
   "cell_type": "markdown",
   "metadata": {},
   "source": [
    "### 4.4 Effet disproportionné des prévisions par régression logistique\n",
    "Le même ratio ou impact disproportionné calculé sur les prévisions $g(X)$ de $Y$ plutôt que sur $Y$ mesure explicitement l'effet de la prévision. Il revient à évaluer l'égalité des taux de prévision favorable. \n",
    "\n",
    "La valeur seuil de la probabilité pour prédire le niveau de revenu est fixée par défaut à 0.5."
   ]
  },
  {
   "cell_type": "code",
   "execution_count": 36,
   "metadata": {},
   "outputs": [],
   "source": [
    "Yhat=as.factor(pred.log>0.5)"
   ]
  },
  {
   "cell_type": "markdown",
   "metadata": {},
   "source": [
    "#### Avec régression logistique et par genre\n",
    "La prévision reproduit et même renforce significativement le biais social pour le genre; les intervalles de confiance sont disjoints."
   ]
  },
  {
   "cell_type": "code",
   "execution_count": 37,
   "metadata": {},
   "outputs": [
    {
     "data": {
      "text/html": [
       "<ol class=list-inline>\n",
       "\t<li>0.164</li>\n",
       "\t<li>0.195</li>\n",
       "\t<li>0.226</li>\n",
       "</ol>\n"
      ],
      "text/latex": [
       "\\begin{enumerate*}\n",
       "\\item 0.164\n",
       "\\item 0.195\n",
       "\\item 0.226\n",
       "\\end{enumerate*}\n"
      ],
      "text/markdown": [
       "1. 0.164\n",
       "2. 0.195\n",
       "3. 0.226\n",
       "\n",
       "\n"
      ],
      "text/plain": [
       "[1] 0.164 0.195 0.226"
      ]
     },
     "metadata": {},
     "output_type": "display_data"
    }
   ],
   "source": [
    "round(dispImp(daTest[,\"sex\"],Yhat),3)"
   ]
  },
  {
   "cell_type": "markdown",
   "metadata": {},
   "source": [
    "#### Avec régression logistique et par origine\n",
    "Le renforcement du biais selon l'origine est lui aussi statistiquement significatif."
   ]
  },
  {
   "cell_type": "code",
   "execution_count": 38,
   "metadata": {},
   "outputs": [
    {
     "data": {
      "text/html": [
       "<ol class=list-inline>\n",
       "\t<li>0.367</li>\n",
       "\t<li>0.444</li>\n",
       "\t<li>0.52</li>\n",
       "</ol>\n"
      ],
      "text/latex": [
       "\\begin{enumerate*}\n",
       "\\item 0.367\n",
       "\\item 0.444\n",
       "\\item 0.52\n",
       "\\end{enumerate*}\n"
      ],
      "text/markdown": [
       "1. 0.367\n",
       "2. 0.444\n",
       "3. 0.52\n",
       "\n",
       "\n"
      ],
      "text/plain": [
       "[1] 0.367 0.444 0.520"
      ]
     },
     "metadata": {},
     "output_type": "display_data"
    }
   ],
   "source": [
    "round(dispImp(daTest[,\"origEthn\"],Yhat),3)"
   ]
  },
  {
   "cell_type": "markdown",
   "metadata": {},
   "source": [
    "### 4.5 Effet disproportionné des prévisions sans la variable sensible\n",
    "L'approche très naïve qui consiste à supprimer la variable sensible du modèle n'a finalement pas d'effet sur le biais et donc le caractère discriminatoire de l'algorithme.\n",
    "#### En supprimant la variable genre"
   ]
  },
  {
   "cell_type": "code",
   "execution_count": 39,
   "metadata": {},
   "outputs": [
    {
     "data": {
      "text/html": [
       "<ol class=list-inline>\n",
       "\t<li>0.189</li>\n",
       "\t<li>0.222</li>\n",
       "\t<li>0.256</li>\n",
       "</ol>\n"
      ],
      "text/latex": [
       "\\begin{enumerate*}\n",
       "\\item 0.189\n",
       "\\item 0.222\n",
       "\\item 0.256\n",
       "\\end{enumerate*}\n"
      ],
      "text/markdown": [
       "1. 0.189\n",
       "2. 0.222\n",
       "3. 0.256\n",
       "\n",
       "\n"
      ],
      "text/plain": [
       "[1] 0.189 0.222 0.256"
      ]
     },
     "metadata": {},
     "output_type": "display_data"
    }
   ],
   "source": [
    "Yhat_g=as.factor(pred_g.log>0.5)\n",
    "round(dispImp(daTest[,\"sex\"],Yhat_g),3)"
   ]
  },
  {
   "cell_type": "markdown",
   "metadata": {},
   "source": [
    "#### En supprimant la variable origine"
   ]
  },
  {
   "cell_type": "code",
   "execution_count": 40,
   "metadata": {},
   "outputs": [
    {
     "data": {
      "text/html": [
       "<ol class=list-inline>\n",
       "\t<li>0.409</li>\n",
       "\t<li>0.489</li>\n",
       "\t<li>0.569</li>\n",
       "</ol>\n"
      ],
      "text/latex": [
       "\\begin{enumerate*}\n",
       "\\item 0.409\n",
       "\\item 0.489\n",
       "\\item 0.569\n",
       "\\end{enumerate*}\n"
      ],
      "text/markdown": [
       "1. 0.409\n",
       "2. 0.489\n",
       "3. 0.569\n",
       "\n",
       "\n"
      ],
      "text/plain": [
       "[1] 0.409 0.489 0.569"
      ]
     },
     "metadata": {},
     "output_type": "display_data"
    }
   ],
   "source": [
    "Yhat_o=as.factor(pred_o.log>0.5)\n",
    "round(dispImp(daTest[,\"origEthn\"],Yhat_o),3)"
   ]
  },
  {
   "cell_type": "markdown",
   "metadata": {},
   "source": [
    "De même que les erreurs de prévisions restent stables, l'effet disproportionné n'est pas statistiquement affecté par la suppression de la variable sensible du modèle. Le déterminisme social est plus fort que la présence de la variable sensible: *une femme ou une personne non caucasienne travaille de toute façon moins ou de façon moins qualifiée quelque soit son niveau d'éducation*. La suppression de la variable sensible n'impacte donc pas la modélisation. "
   ]
  },
  {
   "cell_type": "markdown",
   "metadata": {},
   "source": [
    "### 4.6 Réduction du biais par correction du seuil\n",
    "La suppression de la variable sensible ne corrige pas le biais. Une façon élémentaire de le faire, même si elle peut être jugée déloyale, consiste à intervenir sur les seuils de décisions. Par défaut, ce seuil est fixé à 0.5 pour affecter la prévision à la classe. Il suffit de le modifier conditionnellement aux niveaux de la varible sensible pour intervenir directement sur le biais. \n",
    "\n",
    "Ainsi, un seuil de 0.35 pour les femmes permet de retrouver une valeur de $DI$ identique à celle des données de la base sans pour autant que le taux d'erreur en soit très affecté."
   ]
  },
  {
   "cell_type": "code",
   "execution_count": 41,
   "metadata": {},
   "outputs": [
    {
     "data": {
      "text/html": [
       "<ol class=list-inline>\n",
       "\t<li>0.301</li>\n",
       "\t<li>0.342</li>\n",
       "\t<li>0.384</li>\n",
       "</ol>\n"
      ],
      "text/latex": [
       "\\begin{enumerate*}\n",
       "\\item 0.301\n",
       "\\item 0.342\n",
       "\\item 0.384\n",
       "\\end{enumerate*}\n"
      ],
      "text/markdown": [
       "1. 0.301\n",
       "2. 0.342\n",
       "3. 0.384\n",
       "\n",
       "\n"
      ],
      "text/plain": [
       "[1] 0.301 0.342 0.384"
      ]
     },
     "metadata": {},
     "output_type": "display_data"
    },
    {
     "data": {
      "text/html": [
       "16.47"
      ],
      "text/latex": [
       "16.47"
      ],
      "text/markdown": [
       "16.47"
      ],
      "text/plain": [
       "[1] 16.47"
      ]
     },
     "metadata": {},
     "output_type": "display_data"
    }
   ],
   "source": [
    "Yhat_cs=as.factor(ifelse(daTest$sex==\"Female\",pred.log>0.34,pred.log>0.5))\n",
    "round(dispImp(daTest[,\"sex\"],Yhat_cs),3)\n",
    "tauxErr(table(Yhat_cs,daTest$income))"
   ]
  },
  {
   "cell_type": "markdown",
   "metadata": {},
   "source": [
    "Une réduction plus marquée du seuil permet de restreindre significativement le biais de façon à ce que $0.8\\in IC$; il n'y a alors plus d'effet disproportionné juridiquement significatif. Le prix à payer est la dégradation du taux d'erreur de prévision."
   ]
  },
  {
   "cell_type": "code",
   "execution_count": 42,
   "metadata": {},
   "outputs": [
    {
     "data": {
      "text/html": [
       "<ol class=list-inline>\n",
       "\t<li>0.694</li>\n",
       "\t<li>0.757</li>\n",
       "\t<li>0.819</li>\n",
       "</ol>\n"
      ],
      "text/latex": [
       "\\begin{enumerate*}\n",
       "\\item 0.694\n",
       "\\item 0.757\n",
       "\\item 0.819\n",
       "\\end{enumerate*}\n"
      ],
      "text/markdown": [
       "1. 0.694\n",
       "2. 0.757\n",
       "3. 0.819\n",
       "\n",
       "\n"
      ],
      "text/plain": [
       "[1] 0.694 0.757 0.819"
      ]
     },
     "metadata": {},
     "output_type": "display_data"
    },
    {
     "data": {
      "text/html": [
       "18.41"
      ],
      "text/latex": [
       "18.41"
      ],
      "text/markdown": [
       "18.41"
      ],
      "text/plain": [
       "[1] 18.41"
      ]
     },
     "metadata": {},
     "output_type": "display_data"
    }
   ],
   "source": [
    "Yhat_cs=as.factor(ifelse(daTest$sex==\"Female\",pred.log>0.15,pred.log>0.5))\n",
    "round(dispImp(daTest[,\"sex\"],Yhat_cs),3)\n",
    "tauxErr(table(Yhat_cs,daTest$income))"
   ]
  },
  {
   "cell_type": "markdown",
   "metadata": {},
   "source": [
    "Même chose pour l'origine ethnique avec une correction plus légère du seuil."
   ]
  },
  {
   "cell_type": "code",
   "execution_count": 43,
   "metadata": {},
   "outputs": [
    {
     "data": {
      "text/html": [
       "<ol class=list-inline>\n",
       "\t<li>0.563</li>\n",
       "\t<li>0.655</li>\n",
       "\t<li>0.747</li>\n",
       "</ol>\n"
      ],
      "text/latex": [
       "\\begin{enumerate*}\n",
       "\\item 0.563\n",
       "\\item 0.655\n",
       "\\item 0.747\n",
       "\\end{enumerate*}\n"
      ],
      "text/markdown": [
       "1. 0.563\n",
       "2. 0.655\n",
       "3. 0.747\n",
       "\n",
       "\n"
      ],
      "text/plain": [
       "[1] 0.563 0.655 0.747"
      ]
     },
     "metadata": {},
     "output_type": "display_data"
    },
    {
     "data": {
      "text/html": [
       "16.54"
      ],
      "text/latex": [
       "16.54"
      ],
      "text/markdown": [
       "16.54"
      ],
      "text/plain": [
       "[1] 16.54"
      ]
     },
     "metadata": {},
     "output_type": "display_data"
    }
   ],
   "source": [
    "Yhat_co=as.factor(ifelse(daTest$origEthn==\"CaucNo\",pred.log>0.35,pred.log>0.5))\n",
    "round(dispImp(daTest[,\"origEthn\"],Yhat_co),3)\n",
    "tauxErr(table(Yhat_co,daTest$income))"
   ]
  },
  {
   "cell_type": "markdown",
   "metadata": {},
   "source": [
    "**Remarques**: \n",
    "- Une approche déontologique *a minima* du point de vue du statisticien consiste à corriger le seuil pour retrouver la valeur de $DI$ et donc le biais présent dans la base d'apprentissage; corriger plus en faveur du groupe protégé pour compenser le biais social est un choix politique qui introduit de la discrimination positive.  \n",
    "- Le procédé de débiaisage élémentaire est à comparer avec celui de Calders et Verwer (2010) dont une des trois solutions proposées modifie également le seuil de décision mais pour un classifieur bayésien naïf.\n",
    "- Cette approche utilisée par exemple dans les universités américaines pour mieux \"équilibrer\" les admissions des étudiants selon leur origine soulève des problèmes. Elle est attaquée en justice notamment pas les candidats d'origine asiatique qui se considère lésés. Pour certains auteurs il s'agit d'une approche *unfair by design*.  "
   ]
  },
  {
   "cell_type": "markdown",
   "metadata": {},
   "source": [
    "## 5 Biais sur les erreurs ou précisions de prévision\n",
    "L'effet disproportionné est une première source de biais ou de discrimination parmi bien d'autres. Une deuxième souvent évoquée concerne les erreurs de prévision ou leurs précisions; c'est l'*overall accuracy equality*.\n",
    "### 5.1 Précision selon la variable sensible"
   ]
  },
  {
   "cell_type": "code",
   "execution_count": 44,
   "metadata": {},
   "outputs": [
    {
     "data": {
      "text/html": [
       "<dl class=dl-horizontal>\n",
       "\t<dt>Female</dt>\n",
       "\t\t<dd>91.81</dd>\n",
       "\t<dt>Male</dt>\n",
       "\t\t<dd>79.7</dd>\n",
       "</dl>\n"
      ],
      "text/latex": [
       "\\begin{description*}\n",
       "\\item[Female] 91.81\n",
       "\\item[Male] 79.7\n",
       "\\end{description*}\n"
      ],
      "text/markdown": [
       "Female\n",
       ":   91.81Male\n",
       ":   79.7\n",
       "\n"
      ],
      "text/plain": [
       "Female   Male \n",
       " 91.81  79.70 "
      ]
     },
     "metadata": {},
     "output_type": "display_data"
    }
   ],
   "source": [
    "apply(table(pred.log<0.5,daTest$income,daTest$sex),3,tauxErr)"
   ]
  },
  {
   "cell_type": "code",
   "execution_count": 45,
   "metadata": {},
   "outputs": [
    {
     "data": {
      "text/html": [
       "<dl class=dl-horizontal>\n",
       "\t<dt>CaucNo</dt>\n",
       "\t\t<dd>90.08</dd>\n",
       "\t<dt>CaucYes</dt>\n",
       "\t\t<dd>82.45</dd>\n",
       "</dl>\n"
      ],
      "text/latex": [
       "\\begin{description*}\n",
       "\\item[CaucNo] 90.08\n",
       "\\item[CaucYes] 82.45\n",
       "\\end{description*}\n"
      ],
      "text/markdown": [
       "CaucNo\n",
       ":   90.08CaucYes\n",
       ":   82.45\n",
       "\n"
      ],
      "text/plain": [
       " CaucNo CaucYes \n",
       "  90.08   82.45 "
      ]
     },
     "metadata": {},
     "output_type": "display_data"
    }
   ],
   "source": [
    "apply(table(pred.log<0.5,daTest$income,daTest$origEthn),3,tauxErr)"
   ]
  },
  {
   "cell_type": "markdown",
   "metadata": {},
   "source": [
    "Selon l'origine et surtout pour le genre, les précisions de la prévision sont très différentes mais au détriment du groupe \"majoritaire\", incluant sans doute plus de disparités et donc de difficultés à être prédit.\n",
    "\n",
    "*Remarque*: Une estimation par intervalle de confiance des rapports de ces quantités serait bienvenue."
   ]
  },
  {
   "cell_type": "markdown",
   "metadata": {},
   "source": [
    "## 5.2 Asymétrie de la matrice de confusion\n",
    "Une autre source de discrimination, mise en évidence par le site [Propublica](https://www.propublica.org/article/machine-bias-risk-assessments-in-criminal-sentencing) à propos du score de récidive COMPAS de la société *equivant*, concerne une inversion de l'asymétrie de la matrice de confusion selon la variable sensible. De très nombreux critères ont été proposés pour évaluer cette asymétrie et dont [Verma et Rubin (2018](http://fairware.cs.umass.edu/papers/Verma.pdf)) proposent une revue. Leurs définitions sont basées sur les différentes fréquences issues de la table de contingence et calculées par la fonction ci-dessous."
   ]
  },
  {
   "cell_type": "code",
   "execution_count": 46,
   "metadata": {},
   "outputs": [],
   "source": [
    "contRatio <- function(T){ \n",
    "    # Ratios calculés à partir de la matrice de confusion\n",
    "    TP=T[2,2] # true positive\n",
    "    FP=T[2,1] # false positive\n",
    "    FN=T[1,2] # false negative\n",
    "    TN=T[1,1]  # true negative\n",
    "    PPV=TP/(TP+FP) # P(Y=1|g(x)=1) positive predictive value\n",
    "    FDR=FP/(TP+FP) # P(Y=0|g(x)=1) false discovery rate \n",
    "    FOR=FN/(TN+FN) # P(Y=1|g(x)=0) false omission rate\n",
    "    NPV=TN/(TN+FN) # P(Y=0|g(x)=0) negative predictive value\n",
    "    TPR=TP/(TP+FN) # P(g(x)=1|Y=1) true positive rate\n",
    "    FPR=FP/(FP+TN) # P(g(x)=1|Y=0) false positive rate\n",
    "    FNR=FN/(TP+FN) # P(g(x)=0|Y=1) false negative rate\n",
    "    TNR=TN/(FP+TN) # P(g(x)=0|Y=0) true negative rate\n",
    "    return(list(\"PPV\"=PPV,\"FDR\"=FDR,\"FOR\"=FOR,\"NPV\"=NPV,\"TPR\"=TPR,\"FPR\"=FPR,\"FNR\"=FNR,\"TNR\"=TNR))\n",
    "}"
   ]
  },
  {
   "cell_type": "code",
   "execution_count": 47,
   "metadata": {},
   "outputs": [
    {
     "data": {
      "text/html": [
       "<dl>\n",
       "\t<dt>$PPV</dt>\n",
       "\t\t<dd>0.716919739696312</dd>\n",
       "\t<dt>$FDR</dt>\n",
       "\t\t<dd>0.283080260303688</dd>\n",
       "\t<dt>$FOR</dt>\n",
       "\t\t<dd>0.134103394844344</dd>\n",
       "\t<dt>$NPV</dt>\n",
       "\t\t<dd>0.865896605155656</dd>\n",
       "\t<dt>$TPR</dt>\n",
       "\t\t<dd>0.581354441512753</dd>\n",
       "\t<dt>$FPR</dt>\n",
       "\t\t<dd>0.0782726045883941</dd>\n",
       "\t<dt>$FNR</dt>\n",
       "\t\t<dd>0.418645558487247</dd>\n",
       "\t<dt>$TNR</dt>\n",
       "\t\t<dd>0.921727395411606</dd>\n",
       "</dl>\n"
      ],
      "text/latex": [
       "\\begin{description}\n",
       "\\item[\\$PPV] 0.716919739696312\n",
       "\\item[\\$FDR] 0.283080260303688\n",
       "\\item[\\$FOR] 0.134103394844344\n",
       "\\item[\\$NPV] 0.865896605155656\n",
       "\\item[\\$TPR] 0.581354441512753\n",
       "\\item[\\$FPR] 0.0782726045883941\n",
       "\\item[\\$FNR] 0.418645558487247\n",
       "\\item[\\$TNR] 0.921727395411606\n",
       "\\end{description}\n"
      ],
      "text/markdown": [
       "$PPV\n",
       ":   0.716919739696312\n",
       "$FDR\n",
       ":   0.283080260303688\n",
       "$FOR\n",
       ":   0.134103394844344\n",
       "$NPV\n",
       ":   0.865896605155656\n",
       "$TPR\n",
       ":   0.581354441512753\n",
       "$FPR\n",
       ":   0.0782726045883941\n",
       "$FNR\n",
       ":   0.418645558487247\n",
       "$TNR\n",
       ":   0.921727395411606\n",
       "\n",
       "\n"
      ],
      "text/plain": [
       "$PPV\n",
       "[1] 0.7169197\n",
       "\n",
       "$FDR\n",
       "[1] 0.2830803\n",
       "\n",
       "$FOR\n",
       "[1] 0.1341034\n",
       "\n",
       "$NPV\n",
       "[1] 0.8658966\n",
       "\n",
       "$TPR\n",
       "[1] 0.5813544\n",
       "\n",
       "$FPR\n",
       "[1] 0.0782726\n",
       "\n",
       "$FNR\n",
       "[1] 0.4186456\n",
       "\n",
       "$TNR\n",
       "[1] 0.9217274\n"
      ]
     },
     "metadata": {},
     "output_type": "display_data"
    }
   ],
   "source": [
    "contRatio(table(pred.log>0.5,daTest$income))"
   ]
  },
  {
   "cell_type": "markdown",
   "metadata": {},
   "source": [
    "Liste de critères de loyauté pouvant être définis à partir des fréquences précédentes conditionnellement à la variable sensible. La combinatoire des possibles est importante mais peut être réduite en remarquant que *PPV*=1-*FDR*, *FOR*=1-*NPV*, *FPR*=1-*TNR*, *FNR*=1-*TPR*... Selon les auteurs, il y a loyauté de traitement si:\n",
    "- *Predictive parity*: les deux groupes ont les mêmes *PPV*s et par conséquence les mêmes *FDR*s;\n",
    "- *False positive error rate balance* ou *predictive equality*: mêmes *FPR*s et par conséquence les mêmes *TNR*s;\n",
    "- *False negative error rate balance* ou *equal opportunity*: mêmes *FNR*s et par conséquence les mêmes *TPR*s;\n",
    "- *Conditional procedure accuracy equality* ou *disparate mistreatment* ou *equalized odds* combine les deux ci-dessus: mêmes *TPR*s **ET** mêmes *FPR*s;\n",
    "- *Overall accuracy equality*: mêmes *TPR* **ET** mêmes *TNR*;\n",
    "- *Conditionnal use accuracy equality*: mêmes *PPV*s **ET** mêmes *NPV*s;\n",
    "- *Teatment equality*: les rapports *FN/FP* sont les mêmes pour les deux groupes.\n",
    "\n",
    "D'autres critères ont été proposés (cf. Verma et Rubin; 2018), il ne sont pas développés ici. Les calculs des *TPR* et *TNR* conditionnels sont privilégiés ci-dessous mais ce n'est qu'un choix parmi d'autres.\n",
    "\n",
    "La fonction  `tPNr`  admet 5 paramètres:\n",
    "- S: variable du groupe protégé\n",
    "- Y: variable cible\n",
    "- P: prévision $\\hat{Y}$\n",
    "- alpha=0.05, valeur par défaut.\n",
    "\n",
    "Elle fournit les estimations par intervalle de confiance des rapports des TPR et TNR conditionnels."
   ]
  },
  {
   "cell_type": "code",
   "execution_count": 48,
   "metadata": {},
   "outputs": [],
   "source": [
    "source('../Functions/tPNr.R')"
   ]
  },
  {
   "cell_type": "markdown",
   "metadata": {},
   "source": [
    "#### Par genre\n",
    "La matrice de confusion est obtenue conditionnellement aux groupes pour comparer les différents indicateurs de loyauté."
   ]
  },
  {
   "cell_type": "code",
   "execution_count": 49,
   "metadata": {},
   "outputs": [
    {
     "data": {
      "text/html": [
       "<table>\n",
       "<thead><tr><th></th><th scope=col>Female</th><th scope=col>Male</th></tr></thead>\n",
       "<tbody>\n",
       "\t<tr><th scope=row>PPV</th><td>0.7434211</td><td>0.714539 </td></tr>\n",
       "\t<tr><th scope=row>FDR</th><td>0.2565789</td><td>0.285461 </td></tr>\n",
       "\t<tr><th scope=row>FOR</th><td>0.07193706</td><td>0.1715576 </td></tr>\n",
       "\t<tr><th scope=row>NPV</th><td>0.9280629</td><td>0.8284424</td></tr>\n",
       "\t<tr><th scope=row>TPR</th><td>0.3704918</td><td>0.6140173</td></tr>\n",
       "\t<tr><th scope=row>FPR</th><td>0.01550079</td><td>0.1163015 </td></tr>\n",
       "\t<tr><th scope=row>FNR</th><td>0.6295082</td><td>0.3859827</td></tr>\n",
       "\t<tr><th scope=row>TNR</th><td>0.9844992</td><td>0.8836985</td></tr>\n",
       "</tbody>\n",
       "</table>\n"
      ],
      "text/latex": [
       "\\begin{tabular}{r|ll}\n",
       "  & Female & Male\\\\\n",
       "\\hline\n",
       "\tPPV & 0.7434211 & 0.714539 \\\\\n",
       "\tFDR & 0.2565789 & 0.285461 \\\\\n",
       "\tFOR & 0.07193706 & 0.1715576 \\\\\n",
       "\tNPV & 0.9280629 & 0.8284424\\\\\n",
       "\tTPR & 0.3704918 & 0.6140173\\\\\n",
       "\tFPR & 0.01550079 & 0.1163015 \\\\\n",
       "\tFNR & 0.6295082 & 0.3859827\\\\\n",
       "\tTNR & 0.9844992 & 0.8836985\\\\\n",
       "\\end{tabular}\n"
      ],
      "text/markdown": [
       "\n",
       "| <!--/--> | Female | Male |\n",
       "|---|---|---|\n",
       "| PPV | 0.7434211 | 0.714539  |\n",
       "| FDR | 0.2565789 | 0.285461  |\n",
       "| FOR | 0.07193706 | 0.1715576  |\n",
       "| NPV | 0.9280629 | 0.8284424 |\n",
       "| TPR | 0.3704918 | 0.6140173 |\n",
       "| FPR | 0.01550079 | 0.1163015  |\n",
       "| FNR | 0.6295082 | 0.3859827 |\n",
       "| TNR | 0.9844992 | 0.8836985 |\n",
       "\n"
      ],
      "text/plain": [
       "    Female     Male     \n",
       "PPV 0.7434211  0.714539 \n",
       "FDR 0.2565789  0.285461 \n",
       "FOR 0.07193706 0.1715576\n",
       "NPV 0.9280629  0.8284424\n",
       "TPR 0.3704918  0.6140173\n",
       "FPR 0.01550079 0.1163015\n",
       "FNR 0.6295082  0.3859827\n",
       "TNR 0.9844992  0.8836985"
      ]
     },
     "metadata": {},
     "output_type": "display_data"
    }
   ],
   "source": [
    "fairness=data.frame(\"Female\"=as.matrix(contRatio(table(pred.log>0.5,daTest$income,daTest$sex)[,,1])),\n",
    "                    \"Male\"=as.matrix(contRatio(table(pred.log>0.5,daTest$income,daTest$sex)[,,2])))\n",
    "fairness"
   ]
  },
  {
   "cell_type": "markdown",
   "metadata": {},
   "source": [
    "Il n'est pas simple de comparer toutes ces quantités. Il apparaît néanmoins que les taux de faux positifs (FPR) sont nettement en faveur des hommes contrairement aux tuax de faux négatifs; il y a certes plus d'erreurs de prévision à leur encontre mais, c'est finalement à leur avantage avec proportionnellement plus de faux positifs. Ceci est confirmé statistiquement en estimant par intervalle de confiance les rapports des *TPR* et *TNR*.\n",
    "\n",
    "*Remarques*: \n",
    "- Il serait peut-être plus explicite de pouvoir disposer de l'estimation du rapport des *FPR* plutôt que celui du rapport des *TPR* et donc de modifier le fonction en conséquence.\n",
    "- Il est facile dans la commande précédente de modifier le seuil de décision (0.35 au lieu de 0.5) pour les femmes. Cela a pour effet dans la section précédente de réduire significativement l'effet disproportionné mais l'effet sur la comparaison des taux de faux positifs est mineure."
   ]
  },
  {
   "cell_type": "code",
   "execution_count": 50,
   "metadata": {
    "scrolled": true
   },
   "outputs": [
    {
     "data": {
      "text/html": [
       "<table>\n",
       "<thead><tr><th></th><th scope=col>inf</th><th scope=col>est_value</th><th scope=col>sup</th></tr></thead>\n",
       "<tbody>\n",
       "\t<tr><th scope=row>TP</th><td>0.512627 </td><td>0.6033899</td><td>0.6941528</td></tr>\n",
       "\t<tr><th scope=row>TN</th><td>1.100616 </td><td>1.1140668</td><td>1.1275177</td></tr>\n",
       "</tbody>\n",
       "</table>\n"
      ],
      "text/latex": [
       "\\begin{tabular}{r|lll}\n",
       "  & inf & est\\_value & sup\\\\\n",
       "\\hline\n",
       "\tTP & 0.512627  & 0.6033899 & 0.6941528\\\\\n",
       "\tTN & 1.100616  & 1.1140668 & 1.1275177\\\\\n",
       "\\end{tabular}\n"
      ],
      "text/markdown": [
       "\n",
       "| <!--/--> | inf | est_value | sup |\n",
       "|---|---|---|---|\n",
       "| TP | 0.512627  | 0.6033899 | 0.6941528 |\n",
       "| TN | 1.100616  | 1.1140668 | 1.1275177 |\n",
       "\n"
      ],
      "text/plain": [
       "   inf      est_value sup      \n",
       "TP 0.512627 0.6033899 0.6941528\n",
       "TN 1.100616 1.1140668 1.1275177"
      ]
     },
     "metadata": {},
     "output_type": "display_data"
    }
   ],
   "source": [
    "tPNr(daTest$sex,daTest$income,as.factor(pred.log>0.5))"
   ]
  },
  {
   "cell_type": "markdown",
   "metadata": {},
   "source": [
    "#### Par origine"
   ]
  },
  {
   "cell_type": "code",
   "execution_count": 51,
   "metadata": {},
   "outputs": [
    {
     "data": {
      "text/html": [
       "<table>\n",
       "<thead><tr><th></th><th scope=col>CaucNo</th><th scope=col>CaucYes</th></tr></thead>\n",
       "<tbody>\n",
       "\t<tr><th scope=row>PPV</th><td>0.7096774</td><td>0.7174419</td></tr>\n",
       "\t<tr><th scope=row>FDR</th><td>0.2903226</td><td>0.2825581</td></tr>\n",
       "\t<tr><th scope=row>FOR</th><td>0.07815275</td><td>0.1446509 </td></tr>\n",
       "\t<tr><th scope=row>NPV</th><td>0.9218472</td><td>0.8553491</td></tr>\n",
       "\t<tr><th scope=row>TPR</th><td>0.5      </td><td>0.5881792</td></tr>\n",
       "\t<tr><th scope=row>FPR</th><td>0.03351955</td><td>0.08686327</td></tr>\n",
       "\t<tr><th scope=row>FNR</th><td>0.5      </td><td>0.4118208</td></tr>\n",
       "\t<tr><th scope=row>TNR</th><td>0.9664804</td><td>0.9131367</td></tr>\n",
       "</tbody>\n",
       "</table>\n"
      ],
      "text/latex": [
       "\\begin{tabular}{r|ll}\n",
       "  & CaucNo & CaucYes\\\\\n",
       "\\hline\n",
       "\tPPV & 0.7096774 & 0.7174419\\\\\n",
       "\tFDR & 0.2903226 & 0.2825581\\\\\n",
       "\tFOR & 0.07815275 & 0.1446509 \\\\\n",
       "\tNPV & 0.9218472 & 0.8553491\\\\\n",
       "\tTPR & 0.5       & 0.5881792\\\\\n",
       "\tFPR & 0.03351955 & 0.08686327\\\\\n",
       "\tFNR & 0.5       & 0.4118208\\\\\n",
       "\tTNR & 0.9664804 & 0.9131367\\\\\n",
       "\\end{tabular}\n"
      ],
      "text/markdown": [
       "\n",
       "| <!--/--> | CaucNo | CaucYes |\n",
       "|---|---|---|\n",
       "| PPV | 0.7096774 | 0.7174419 |\n",
       "| FDR | 0.2903226 | 0.2825581 |\n",
       "| FOR | 0.07815275 | 0.1446509  |\n",
       "| NPV | 0.9218472 | 0.8553491 |\n",
       "| TPR | 0.5       | 0.5881792 |\n",
       "| FPR | 0.03351955 | 0.08686327 |\n",
       "| FNR | 0.5       | 0.4118208 |\n",
       "| TNR | 0.9664804 | 0.9131367 |\n",
       "\n"
      ],
      "text/plain": [
       "    CaucNo     CaucYes   \n",
       "PPV 0.7096774  0.7174419 \n",
       "FDR 0.2903226  0.2825581 \n",
       "FOR 0.07815275 0.1446509 \n",
       "NPV 0.9218472  0.8553491 \n",
       "TPR 0.5        0.5881792 \n",
       "FPR 0.03351955 0.08686327\n",
       "FNR 0.5        0.4118208 \n",
       "TNR 0.9664804  0.9131367 "
      ]
     },
     "metadata": {},
     "output_type": "display_data"
    }
   ],
   "source": [
    "fairness2=data.frame(\"CaucNo\"=as.matrix(contRatio(table(pred.log>0.5,daTest$income,daTest$origEthn)[,,1])),\n",
    "                    \"CaucYes\"=as.matrix(contRatio(table(pred.log>0.5,daTest$income,daTest$origEthn)[,,2])))\n",
    "fairness2"
   ]
  },
  {
   "cell_type": "code",
   "execution_count": 52,
   "metadata": {},
   "outputs": [
    {
     "data": {
      "text/html": [
       "<table>\n",
       "<thead><tr><th></th><th scope=col>inf</th><th scope=col>est_value</th><th scope=col>sup</th></tr></thead>\n",
       "<tbody>\n",
       "\t<tr><th scope=row>TP</th><td>0.7208562</td><td>0.850081 </td><td>0.9793059</td></tr>\n",
       "\t<tr><th scope=row>TN</th><td>1.0438533</td><td>1.058418 </td><td>1.0729829</td></tr>\n",
       "</tbody>\n",
       "</table>\n"
      ],
      "text/latex": [
       "\\begin{tabular}{r|lll}\n",
       "  & inf & est\\_value & sup\\\\\n",
       "\\hline\n",
       "\tTP & 0.7208562 & 0.850081  & 0.9793059\\\\\n",
       "\tTN & 1.0438533 & 1.058418  & 1.0729829\\\\\n",
       "\\end{tabular}\n"
      ],
      "text/markdown": [
       "\n",
       "| <!--/--> | inf | est_value | sup |\n",
       "|---|---|---|---|\n",
       "| TP | 0.7208562 | 0.850081  | 0.9793059 |\n",
       "| TN | 1.0438533 | 1.058418  | 1.0729829 |\n",
       "\n"
      ],
      "text/plain": [
       "   inf       est_value sup      \n",
       "TP 0.7208562 0.850081  0.9793059\n",
       "TN 1.0438533 1.058418  1.0729829"
      ]
     },
     "metadata": {},
     "output_type": "display_data"
    }
   ],
   "source": [
    "tPNr(daTest$origEthn,daTest$income,as.factor(pred.log>0.5))"
   ]
  },
  {
   "cell_type": "markdown",
   "metadata": {},
   "source": [
    "Même remarque mais à un degré moindre."
   ]
  },
  {
   "cell_type": "markdown",
   "metadata": {},
   "source": [
    "## 6  *Testing* et détection de discrimination individuelle\n",
    "### 6.1 Introduction\n",
    "La section précédente est focalisée sur une détection de la *discrimination de groupe*. Celle-ci n'est pas pratiquée en France ni même en Europe alors que plusieurs rapports dont celui de la commission Villani y font référence. Ce dernier demande la création d'un *dicrimination impact assessment* pour aborder cette question mais sans apporter de précision ni faire référence à la pourtant abondante littérature du sujet.\n",
    "\n",
    "En revanche, la détection d'une *discrimination individuelle* est pratiquée de longue date (1939 pour les boîtes de nuit) en faisant appel à des expérimentations spécifiques dites de *testing*; consulter un [Historique](https://fr.wikipedia.org/wiki/Test_de_discrimination) à ce sujet. \n",
    "\n",
    "Les cours de justice acceptent le *testing* comme élément de preuve d'une discrimination à l'embauche depuis un [arrêté](https://www.juritravail.com/discrimination-physique/embauche/ph-alternative-A-1.html) de 2016 de la cours de cassation même si ce procédé peut être considéré comme déloyal.\n",
    "\n",
    "Le test de discrimination ou *testing* automatique est pratiqué en France de façon systématique pour des études sociologiques par l'[Observatoire des discriminations](http://www.observatoiredesdiscriminations.fr/testing), le laboratoire TEPP: [L'Horty et al. (2017)](http://www.tepp.eu/doc/users/268/bib/banque-et-assurance_9025.pdf), ou pilotée par la [DARES](http://dares.travail-emploi.gouv.fr/dares-etudes-et-statistiques/etudes-et-syntheses/dares-analyses-dares-indicateurs-dares-resultats/testing) du Ministère du Travail en lien avec l'association [ISM Corum](http://www.ismcorum.org/). Certains entreprises demandent d'ailleurs à ISM Corum de [tester leur mode de recrutement](http://www.ismcorum.org/le-testing-d-entreprise-%E2%80%93-temoignages-d-adecco-casino-lvmh-michael-page-M22-R22-A443.html).  L'observatoire des discriminations propose un [audit qualité](http://www.observatoiredesdiscriminations.fr/diagnostics-qualite) des procédures de recrutement et [Novethic](https://www.novethic.fr/lexique/detail/testing.html), filliale de la caisse des dépôts et consignation, donne des formations pour des entreprises \"éthiques\".\n",
    "\n",
    "L'objectif de cette section est d'expérimenté le *testing* sur la robustesse du modèle de prévision précédent. \n",
    "\n",
    "**Existe-t-il des personnes pour lesquelles le seul changement de genre ou d'origine a pour effet de changer la prévision du seuil de revenu `income` en leur défaveur?**\n",
    "\n",
    "Personnes qui seraient en droit d'entreprendre une action en justice dans le cas d'une décision impactante, crédit, emploi.... Elles apporteraient ainsi la preuve de leur discrimination.\n",
    "\n",
    "Le processus est simple, il suffit de modifier l'échantillon test en *échangeant les deux modalités de la variables sensible*. La variable cible (seuil de revenu) est ensuite reprédite en utilisant le même modèle initial. \n",
    "\n",
    "Evidemment, comme pour l'estimation du *disparate impact*, il est nécessaire de disposer de la variable sensible (genre ou origine) pour pouvoir opérer du *testing*.\n",
    "\n",
    "\n",
    "### 6.2 Personnes discriminées selon leur genre"
   ]
  },
  {
   "cell_type": "code",
   "execution_count": 53,
   "metadata": {},
   "outputs": [],
   "source": [
    "daTest2=daTest\n",
    "# Changement de genre\n",
    "daTest2$sex=as.factor(ifelse(daTest$sex==\"Male\",\"Female\",\"Male\"))\n",
    "# Prévision du \"nouvel\" échantillon test\n",
    "pred2.log=predict(log.lm,daTest2,type=\"response\")"
   ]
  },
  {
   "cell_type": "code",
   "execution_count": 54,
   "metadata": {},
   "outputs": [
    {
     "data": {
      "text/plain": [
       "       \n",
       "        FALSE TRUE\n",
       "  FALSE  1662  182\n",
       "  TRUE     32 7067"
      ]
     },
     "metadata": {},
     "output_type": "display_data"
    }
   ],
   "source": [
    "table(pred.log<0.5,pred2.log<0.5)"
   ]
  },
  {
   "cell_type": "markdown",
   "metadata": {},
   "source": [
    "Même chose mais répartition par genre."
   ]
  },
  {
   "cell_type": "code",
   "execution_count": 55,
   "metadata": {},
   "outputs": [
    {
     "data": {
      "text/plain": [
       ", ,  = Female\n",
       "\n",
       "       \n",
       "        FALSE TRUE\n",
       "  FALSE   152    0\n",
       "  TRUE     32 2637\n",
       "\n",
       ", ,  = Male\n",
       "\n",
       "       \n",
       "        FALSE TRUE\n",
       "  FALSE  1510  182\n",
       "  TRUE      0 4430\n"
      ]
     },
     "metadata": {},
     "output_type": "display_data"
    }
   ],
   "source": [
    "table(pred.log<0.5,pred2.log<0.5,daTest$sex)"
   ]
  },
  {
   "cell_type": "markdown",
   "metadata": {},
   "source": [
    "**N.B.** Il y a 136 personnes dont la prévision de revenu change lorsqu'elles changent de genre. Et le changement est dans le sens attendu.\n",
    "- 32 femmes passent d'une prévision de revenu faible à une prévision de revenu élevé\n",
    "- 182 hommes prennnent le chemin inverse  lorsqu'ils deviennent des femmes; ces hommes bénificient donc d'une discrimination positive."
   ]
  },
  {
   "cell_type": "markdown",
   "metadata": {},
   "source": [
    "### 6.3 Personnes discriminées selon leur origine\n",
    "Mêmes calculs vis-à-vis de la variable sensible origine."
   ]
  },
  {
   "cell_type": "code",
   "execution_count": 56,
   "metadata": {},
   "outputs": [],
   "source": [
    "daTest3=daTest\n",
    "daTest3$origEthn=as.factor(ifelse(daTest$origEthn==\"CaucYes\",\"CaucNo\",\"CaucYes\"))\n",
    "# Prévision du \"nouvel\" échantillon test\n",
    "pred3.log=predict(log.lm,newdata=daTest3,type=\"response\")"
   ]
  },
  {
   "cell_type": "markdown",
   "metadata": {},
   "source": [
    "Comme pour la discrimination selon le genre, la détection de personnes discriminées selon leur origine est nette. Les prévisions de seuil de revenu de 160 personnes sont affectées par le changement d'origine.\n",
    "- 13 sont discriminées par leur origine\n",
    "- 122 bénéficient d'une discrimination positive"
   ]
  },
  {
   "cell_type": "code",
   "execution_count": 57,
   "metadata": {},
   "outputs": [
    {
     "data": {
      "text/plain": [
       "       \n",
       "        FALSE TRUE\n",
       "  FALSE  1722  122\n",
       "  TRUE     13 7086"
      ]
     },
     "metadata": {},
     "output_type": "display_data"
    }
   ],
   "source": [
    "table(pred.log<0.5,pred3.log<0.5)"
   ]
  },
  {
   "cell_type": "code",
   "execution_count": 58,
   "metadata": {},
   "outputs": [
    {
     "data": {
      "text/plain": [
       ", ,  = CaucNo\n",
       "\n",
       "       \n",
       "        FALSE TRUE\n",
       "  FALSE   124    0\n",
       "  TRUE     13 1113\n",
       "\n",
       ", ,  = CaucYes\n",
       "\n",
       "       \n",
       "        FALSE TRUE\n",
       "  FALSE  1598  122\n",
       "  TRUE      0 5973\n"
      ]
     },
     "metadata": {},
     "output_type": "display_data"
    }
   ],
   "source": [
    "table(pred.log<0.5,pred3.log<0.5,daTest$origEthn)"
   ]
  },
  {
   "cell_type": "markdown",
   "metadata": {},
   "source": [
    "### 6.4 *Testing* et prévision \"déloyale\" \n",
    "Une façon simple pour une entreprise de se prémunir contre une opération de *testing* consiste à fixer comme probablité prédite le maximum des deux probablités obtenues en échangeant les modalités de la variable sensible. De façon générale, choisir la situation la plus favorable pour la personne quelque soit le genre (resp. l'origine) observé. La discrimination individuelle repérable par *testing* est neutralisée et l'influence sur le taux d'erreur quasi négligeable. \n",
    "\n",
    "#### Genre"
   ]
  },
  {
   "cell_type": "code",
   "execution_count": 59,
   "metadata": {},
   "outputs": [
    {
     "data": {
      "text/plain": [
       "       \n",
       "        incB incH\n",
       "  FALSE 6132  935\n",
       "  TRUE   537 1339"
      ]
     },
     "metadata": {},
     "output_type": "display_data"
    },
    {
     "data": {
      "text/html": [
       "16.46"
      ],
      "text/latex": [
       "16.46"
      ],
      "text/markdown": [
       "16.46"
      ],
      "text/plain": [
       "[1] 16.46"
      ]
     },
     "metadata": {},
     "output_type": "display_data"
    }
   ],
   "source": [
    "fairPredictGenre=ifelse(pred.log<pred2.log,pred2.log,pred.log)\n",
    "confMat=table(fairPredictGenre>0.5,daTest$income)\n",
    "confMat;tauxErr(confMat)"
   ]
  },
  {
   "cell_type": "code",
   "execution_count": 60,
   "metadata": {},
   "outputs": [
    {
     "data": {
      "text/html": [
       "<ol class=list-inline>\n",
       "\t<li>0.164</li>\n",
       "\t<li>0.195</li>\n",
       "\t<li>0.226</li>\n",
       "</ol>\n"
      ],
      "text/latex": [
       "\\begin{enumerate*}\n",
       "\\item 0.164\n",
       "\\item 0.195\n",
       "\\item 0.226\n",
       "\\end{enumerate*}\n"
      ],
      "text/markdown": [
       "1. 0.164\n",
       "2. 0.195\n",
       "3. 0.226\n",
       "\n",
       "\n"
      ],
      "text/plain": [
       "[1] 0.164 0.195 0.226"
      ]
     },
     "metadata": {},
     "output_type": "display_data"
    },
    {
     "data": {
      "text/html": [
       "<ol class=list-inline>\n",
       "\t<li>0.202</li>\n",
       "\t<li>0.236</li>\n",
       "\t<li>0.27</li>\n",
       "</ol>\n"
      ],
      "text/latex": [
       "\\begin{enumerate*}\n",
       "\\item 0.202\n",
       "\\item 0.236\n",
       "\\item 0.27\n",
       "\\end{enumerate*}\n"
      ],
      "text/markdown": [
       "1. 0.202\n",
       "2. 0.236\n",
       "3. 0.27\n",
       "\n",
       "\n"
      ],
      "text/plain": [
       "[1] 0.202 0.236 0.270"
      ]
     },
     "metadata": {},
     "output_type": "display_data"
    }
   ],
   "source": [
    "round(dispImp(daTest$sex,as.factor(pred.log>0.5)),3)\n",
    "round(dispImp(daTest$sex,as.factor(fairPredictGenre>0.5)),3)"
   ]
  },
  {
   "cell_type": "markdown",
   "metadata": {},
   "source": [
    "La correction par *testing* réduit un peu le biais mais de façon insuffisante pour réduire significativement la discrimination."
   ]
  },
  {
   "cell_type": "markdown",
   "metadata": {},
   "source": [
    "#### Origine\n",
    "\n",
    "Des résulats simiulaires sont obtenus."
   ]
  },
  {
   "cell_type": "code",
   "execution_count": 61,
   "metadata": {},
   "outputs": [
    {
     "data": {
      "text/plain": [
       "       \n",
       "        incB incH\n",
       "  FALSE 6140  946\n",
       "  TRUE   529 1328"
      ]
     },
     "metadata": {},
     "output_type": "display_data"
    },
    {
     "data": {
      "text/html": [
       "16.49"
      ],
      "text/latex": [
       "16.49"
      ],
      "text/markdown": [
       "16.49"
      ],
      "text/plain": [
       "[1] 16.49"
      ]
     },
     "metadata": {},
     "output_type": "display_data"
    }
   ],
   "source": [
    "fairPredictOrig=ifelse(pred.log<pred3.log,pred3.log,pred.log)\n",
    "confMat=table(fairPredictOrig>0.5,daTest$income)\n",
    "confMat;tauxErr(confMat)"
   ]
  },
  {
   "cell_type": "code",
   "execution_count": 62,
   "metadata": {},
   "outputs": [
    {
     "data": {
      "text/html": [
       "<ol class=list-inline>\n",
       "\t<li>0.367</li>\n",
       "\t<li>0.444</li>\n",
       "\t<li>0.52</li>\n",
       "</ol>\n"
      ],
      "text/latex": [
       "\\begin{enumerate*}\n",
       "\\item 0.367\n",
       "\\item 0.444\n",
       "\\item 0.52\n",
       "\\end{enumerate*}\n"
      ],
      "text/markdown": [
       "1. 0.367\n",
       "2. 0.444\n",
       "3. 0.52\n",
       "\n",
       "\n"
      ],
      "text/plain": [
       "[1] 0.367 0.444 0.520"
      ]
     },
     "metadata": {},
     "output_type": "display_data"
    },
    {
     "data": {
      "text/html": [
       "<ol class=list-inline>\n",
       "\t<li>0.378</li>\n",
       "\t<li>0.454</li>\n",
       "\t<li>0.531</li>\n",
       "</ol>\n"
      ],
      "text/latex": [
       "\\begin{enumerate*}\n",
       "\\item 0.378\n",
       "\\item 0.454\n",
       "\\item 0.531\n",
       "\\end{enumerate*}\n"
      ],
      "text/markdown": [
       "1. 0.378\n",
       "2. 0.454\n",
       "3. 0.531\n",
       "\n",
       "\n"
      ],
      "text/plain": [
       "[1] 0.378 0.454 0.531"
      ]
     },
     "metadata": {},
     "output_type": "display_data"
    }
   ],
   "source": [
    "round(dispImp(daTest$origEthn,as.factor(pred.log>0.5)),3)\n",
    "round(dispImp(daTest$origEthn,as.factor(fairPredictGenre>0.5)),3)"
   ]
  },
  {
   "cell_type": "markdown",
   "metadata": {},
   "source": [
    "La correction qui rend la décision localement loyale c'est-à-dire en supprimant toute discrimination individuelle n'a qu'un impact très marginal sur l'erreur de prévision. De plus, cette \"correction\" du biais permet d'échapper à une poursuite juridique individuelle mais ne corrige globalement pas l'effet disproportioné et donc le biais de groupe. Cette correction est factice et pour le moins déloyale. "
   ]
  },
  {
   "cell_type": "markdown",
   "metadata": {},
   "source": [
    "## Conclusion\n",
    "1. De façon assez triviale les données du sondage présentent des biais sociologiques importants vis-à-vis des groupes de genre et d'origine ethnique. Ce biais, mesuré par l'effet disproportionné (*Disparate impact* ou *DI*), est nettement plus marqué en fonction du genre.\n",
    "2. Une prévision du revenu par régression logistique, comme par tout autre algorithme d'apprentissage, renforce ce biais (*DI* décroît) de façon statistiquement significative (intervalles de confiance  disjoints) pour le genre et plus modérée pour l'origine. *La modélisation opère une discrimination nette conditionnellement au genre*. \n",
    "3. Les taux d'erreurs conditionnels aux variables sensibles sont assez différents; une estimations par intervalle de confiance serait bienvenue. *L'accroissement de l'erreur est dans ce cas au détriment de la classe majoritaire*.  \n",
    "4. La suppression des variables sensibles de la prévision ne change rien aux points 2 et 3 précédents. C'est une *procédure naïve et inefficace de corriger le *DI* donc un biais de groupe*.\n",
    "5. En revanche, une pratique parfois jugée déloyale et qui consiste à adapter le seuil de décision de la prévision, le baisser pour le groupe à protéger, réduit significativement le biais pour le *rendre similaire à celui de la base d'entraînement*; il n'y a plus discrimination de groupe. La procédure qui consisterait à réduire plus le seuil pour compenser le biais de société revient à introduire une discrimination positive. Il s'agit d'un choix politique et non plus statistique. Dans ce cas, l'erreur de prévision se dégrade.\n",
    "6. D'autre procédures de débiaisage ou d'apprentissage loyal sont à prendre en compte. C'est l'objet d'un autre tutoriel.\n",
    "7. Après l'effet disproportionné (*DI*) et les taux d'erreur conditionnels, il est important de considérer les éventuelles *asymétries des matrices de confusion conditionnelles* aux groupes. Le rapport des taux de vrais positifs conditionnels ainsi que celui des taux de vrais négatifs conditionnels témoignent de différences de traitement marqués relativement aux groupes. Les taux d'erreurs sont effectivement importants pour les hommes mais c'est finalement à leur avantage car le *taux de faux positifs est significativement plus important les concernant au contraire des taux de faux négatifs plus importants pour les femmes*. En cas d'erreur celle-ci est dont en moyenne au profit des hommes. Comme précédemment ce phénomène est peu marqué conditionnellement à l'origine ethnique.\n",
    "8. Le dernier point abordé concerne la détection d'une discrimination individuelle par *testing*. Finalement peu de femmes ou de non-caucasiens pourraient se déclarer discriminés par la prévision et être donc en mesure, individuellement, de porter plainte. Cette mesure individuelle de la discrimination, est finalement assez annecdotique au regard de la mesure de discrimination de groupe; autrement dit, sur cet exemple, *une mesure individuelle de la discrimination par testing minimise son importance*. \n",
    "9. Corriger la prévision pour attribuer la prévision la plus favorable quel que soit la modalité sensible, permet à une entreprise ou administration d'échapper à une investigation par *testing* mais ne fait en rien décroîte le biais (*DI*) donc la discrimination de groupe. Ce serait une *pratique tout à fait déloyale*.\n",
    "10. En France, comme en Europe, il y a une part d'hypocrisie à interdire l'enregistrement d'une variable sensible. Certes, cela protège la confidentialité des personnes mais empêche aussi de mettre simplement en évidence biais et discriminations des traitements vis-à-vis d'un groupe ou des individus. \n",
    "\n",
    "\n",
    "D'autres corrections de biais sont à considérer pour conduire à de l'apprentissage loyal et donc à une IA éthique."
   ]
  },
  {
   "cell_type": "markdown",
   "metadata": {},
   "source": [
    "## Références\n",
    "Barocas S., Selbst A. (2016). Big Data's Disparate Impact, *California Law Review*, 671.\n",
    "\n",
    "Besse P. ,del Barrio E., Gordaliza P., Loubes J.-M. (2018). Confidence Intervals for testing Disparate Impact in Fair Learning, [arXiv](https://arxiv.org/abs/1807.06362).\n",
    "\n",
    "Calders T., Verwer S. (2010). Three naive Bayes approaches for discrimination-free classification, Data Mining and Knowledge Discovery, 21 (2), pp 277–292.\n",
    "\n",
    "Verma S., Rubin J. (2018). [Fairness Definitions Explained](http://fairware.cs.umass.edu/papers/Verma.pdf),  ACM/IEEE International Workshop on Software Fairness."
   ]
  }
 ],
 "metadata": {
  "kernelspec": {
   "display_name": "R",
   "language": "R",
   "name": "ir"
  },
  "language_info": {
   "codemirror_mode": "r",
   "file_extension": ".r",
   "mimetype": "text/x-r-source",
   "name": "R",
   "pygments_lexer": "r",
   "version": "3.5.1"
  }
 },
 "nbformat": 4,
 "nbformat_minor": 2
}
