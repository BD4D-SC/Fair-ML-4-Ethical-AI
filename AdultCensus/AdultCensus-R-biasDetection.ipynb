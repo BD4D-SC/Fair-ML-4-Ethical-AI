{
 "cells": [
  {
   "cell_type": "markdown",
   "metadata": {},
   "source": [
    "<a href=\"http://www.insa-toulouse.fr/\" ><img src=\"http://www.math.univ-toulouse.fr/~besse/Wikistat/Images/logo-insa.jpg\" style=\"height:100px; display: inline\"  alt=\"INSA\"/></a> \n",
    "<a href=\"https://observatoire-ia.ulaval.ca/\" ><img src=\"https://observatoire-ia.devbeet.com/app/uploads/2019/06/oia-share.png\" style=\"height:100px; display: inline\" alt=\"ObvIA\"/></a> \n",
    "<a href=\"https://aniti.univ-toulouse.fr/\" ><img src=\"https://www.actuia.com/wp-content/uploads/2019/07/logo_ANITI1-696x348.jpg\" style=\"height:100px; display: inline\" alt=\"ANITI\"/></a> "
   ]
  },
  {
   "cell_type": "markdown",
   "metadata": {},
   "source": [
    "# Tutoriel: Détecter, Mesurer, Expliquer, Atténuer, la Discrimination Indirecte des Algorithmes d'Apprentissage Statistique de l'IA\n",
    "\n",
    "\n",
    "**Résumé**\n",
    "Analyse de données extraites d'un recensement aux USA de 1994 et disponibles sur le [dépôt de l'UCI](http://archive.ics.uci.edu/ml/). Elles permettent de mettre en relation le niveau de revenu (inférieur ou supérieur à 50k$), analogue à une \"solvabilité\" ou score de crédit, avec d'autres variables dont certaines sensibles car indiquant l'appartenance à un groupe protégé par la loi: sexe, origine ethnique. Différents indicateurs de biais donc de sources de discrimination indirecte vis à vis d'un groupe, sont définis et illustrés sur ces données. Les principaux, consensuels dans la littérature, sont l'effet disproportionné ou *disparate / adverse impact* (DI) (*demographic equality*), le taux d'erreur conditionnel (*overall error equality*) et des mesures associées à l'asymétrie des matrices de confusion conditionnellement au groupe (*equalized odds*); ce premier tutoriel cible la détection de discriminaiton indirecte principale associée à l'effet diproportionné (*adverse* ou *disparate impact*). Les résultats montrent que les biais de société présents dans les données d'entraînement sont fidèlement reproduits par l'apprentissage et même renforcés. C'est typiquement un cas de discrimination notamment avec une régression logistique linéaire, pas significativement avec un algorithme non linéaire (*random forest*). La doctrine \"officielle\" des enquêtes par *testing*, adaptées à détecter une discrimination individuelle directe, sous-estiment gravement la discrimination de groupe indirecte. L'utilisation d'algorithmes non linéaires (arbre ou forêt aléatoire) spécifiques, un par classe: femmes *vs.* hommes, annule l'effet discriminatoire. Il est ensuite facile d'introduire une part de discrimination postive pour atténuer le biais de société sans pénaliser la qualité de prévision. Enfin d'autres types de biais ou discriminaiton sont considérés. Cela montre que ces données que les taux d'erreur pour les femmes sont sensiblement moins élevés. Ce n'est que très apparemment à leur avantage car l'étude du 3ème niveau de biais montre uneforte asymétrie des matrices de confusion qui change avec le genre: plus d'erreurs pour les hommes mais à leur avantage car avec des taux de faux positifs plus élevés et des taux de faux négatifs moins élevés. \n",
    "\n",
    "***NB*** Tout *data scientist* dispose d'une large marge de manoeuvre sur ces sujets en fonction de ses compétences, de sa déontologie ou éthique professionnelle, et sans contrôle externe à ce jour, malgré les souhaits du rapport Villani (2018) de mise en place d'un *Discriminaiton Impact Assessment*. \n",
    "\n",
    "***Rappel*** Toutes les législations européennes, américaines, canadiennes... interdisent les discriminations, directes et indirectes; le code pénal français prévoit des peines allant jusqu'à 45k€ d'amende et trois ans de prison."
   ]
  },
  {
   "cell_type": "markdown",
   "metadata": {},
   "source": [
    "## Introduction\n",
    "### Les données\n",
    "Des données publiques disponibles sur le site [UCI repository](http://archive.ics.uci.edu/ml/) sont extraites de la base de données issue du recensement réalisé aux Etats Unis en 1994. Les deux fichiers *train* et *test* on été réunis en un seul. Ces données son largement utilisées et font référence comme outil de *benchmark* pour comparer les performances de méthodes d’apprentissage. L’objectif est de prévoir, avec plus ou moins de biais, la variable binaire \"revenu annuel\" supérieur ou inférieur à 50k$. Cette prévision n'impacte pas la personne mais comme la démarche et le contexte sont tout à fait similaires à ce que pourrait faire une banque pour évaluer un risque de crédit, c'est exemple est très illustratif. Ce jeu de données est systématiquement utilisé (bac à sable) pour évaluer les propriétés des algorithmes d'apprentissage équitable ou loyal (*fair learning*) car, contrairement à beaucoup d'autres jeux de données utilisés pour cette fin (*e.g. german credit bank*), la vraie valeur de la variable cible est connue ainsi que l'origine ethnique des personnes concernées.\n",
    "\n",
    "Dans les données initiales, 48.842 individus sont décrits par les 14 variables du tableau ci-dessous:\n",
    "\n",
    "\n",
    "|Num|Libellé|Ensemble de valeurs|\n",
    "|-|---------:|-------------------:|\n",
    "|1|`Age`|real|\n",
    "|2|`workClass`|Private, Self-emp-not-inc, Self-emp-inc, Federal-gov, Local-gov, State-gov, Without-pay, Never-worked|\n",
    "|3|`fnlwgt`|real|\n",
    "|4|`education`|Bachelors, Some-college, 11th, HS-grad, Prof-school, Assoc-acdm, Assoc-voc, 9th, 7th-8th, 12th, Masters, 1st-4th, 10th, Doctorate, 5th-6th, Preschool|\n",
    "|5|`educNum`|integer|\n",
    "|6|`mariStat`|Married-civ-spouse, Divorced, Never-married, Separated, Widowed, Married-spouse-absent, Married-AF-spouse|\n",
    "|7|`occup`|Tech-support, Craft-repair, Other-service, Sales, Exec-managerial, Prof-specialty, Handlers-cleaners, Machine-op-inspct, Adm-clerical, Farming-fishing, Transport-moving, Priv-house-serv, Protective-serv, Armed-Forces|\n",
    "|8|`relationship`|Wife, Own-child, Husband, Not-in-family, Other-relative, Unmarried\n",
    "|9|`origEthn`|White, Asian-Pac-Islander, Amer-Indian-Eskimo, Other, Black|\n",
    "|10|`sex`|Female, Male|\n",
    "|11|`capitalGain`|real| \n",
    "|12|`capitalLoss`|real|\n",
    "|13|`hoursWeek`|real|\n",
    "|14|`nativCountry`|United-States, Cambodia, England, Puerto-Rico, Canada, Germany, Outlying-US(Guam-USVI-etc), India, Japan, Greece, South, China, Cuba, Iran, Honduras, Philippines, Italy, Poland, Jamaica, Vietnam, Mexico, Portugal, Ireland, France, Dominican-Republic, Laos, Ecuador, Taiwan, Haiti, Columbia, Hungary, Guatemala, Nicaragua, Scotland, Thailand, Yugoslavia, El-Salvador, Trinadad&Tobago, Peru, Hong, Holand-Netherlands|\n",
    "|15|`income`|>50K, <=50K|\n"
   ]
  },
  {
   "cell_type": "markdown",
   "metadata": {},
   "source": [
    "### Préparation des données\n",
    "\n",
    "Le traitement commence par une préparation détaillée des données:\n",
    "- lecture et prise en charge des données en remarquant que la variable `fnlwgt` (Final sampling weight) a un [statut particulier](http://web.cs.wpi.edu/~cs4341/C00/Projects/fnlwgt) pas très clair; elle est éliminée;\n",
    "- suppression des observations présentant des données manquantes, erreurs ou incohérences,\n",
    "- regroupement des modalités très dispersées, \n",
    "- suppression des variables redondantes. \n",
    "\n",
    "Cette phase est notoirement différente de la stratégie de Friedler et al. (2019) qui, par principe, analysent les données brutes.\n",
    "\n",
    "### Estimation des biais\n",
    "\n",
    "Parmi tous les critères de biais existant susceptibles de mettre en évidence une discrimination indirecte (Zliobaitė, 2015)), trois ont été privilégiés (cf. Vermat et Rubin, 2018): \n",
    "1. discrimination indirecte par l'effet disproportionné: *disparate impact* ou *demographic equality*\n",
    "2. comparaison des taux d'erreur conditionnels: *overall error equality*\n",
    "3. comparaison des rapports de cote: *Conditional procedure accuracy equality* ou *disparate mistreatment* ou *equalized odds*.\n",
    "\n",
    "L'accent est mis dans ce premier tutoriel sur l'estimation de l'effet disproportionné (*disparate* ou *adverse impact*) vis-à-vis du sexe. L'approximation de l'intervalle de confiance (*delta method* Besse et al. 2018) est comparée avec une estimation *bootstrap* conduisant aux mêmes résutlats. Les estimations sont calculées sur les données initiales de la base (biais de société) puis sur les prévisions du seuil de revenu obtenues par deux algorithmes (régression logistique et forêts aléatoires) pour évaluer le risque de discrimination. Les estimations par intervalle de confiance des deuxautres critères de discrimination sont également disponibles.\n",
    "\n",
    "Le deuxième tutoriel cible les deux autres types de de biais.\n",
    "\n",
    "### Biais et discriminations\n",
    "Les résultats obtenus montrent clairement le renforcement du biais opéré par un modèle linéaire contrairement à un algorithme non linéaire. De plus, la suppression de la variable sensible du modèle de prévision n'a qu'un effet négligeable sur l'effet discriminatoire d'un algorithme; en conséquence, le testing devient inefficace pour détecter une discrimination. Les résultats montrent donc l'importance de la prise en compte des interactions et qu'une correction élémentaire du biais voire l'introduction d'une discrimination positive peut être facilement obtenue sans nuire à la précision de la prévision.\n",
    "\n",
    "*Remarques*: \n",
    "- un [calepin plus détaillé](https://github.com/wikistat/Fair-ML-4-Ethical-AI/blob/master/AdultCensus/AdultCensus-R-biasDetectionLong.ipynb) mais plus long propose une comparaison des impacts des autres algorithmes d'apprentissage et donc de leur effet discriminatoire fonction du biais de société (sexe et origine ethnique). Cela permet d'en mieux comprendre les origines selon le déséquilibre des classes et surtout selon l'importance des interactions entre les variables. \n",
    "- le site [aif360](https://aif360.mybluemix.net/) propose également un ensemble d'exemples et tutoriels. Il est nettement plus riche: autres jeux de données, autes critères et surtout plus d'algorithmes de débiaisage, mais présente soit des démonstrations triviales soit des exemples des méthodes très sophistiquées d'atténuation du biais.   Ce tutoriel se veut plus pédagogique pour appréhender pas à pas les problèmes. "
   ]
  },
  {
   "cell_type": "markdown",
   "metadata": {},
   "source": [
    "## Exploration des données\n",
    "### Lecture et premières transformations\n",
    "La lecture et la transformation des données brutes du dépôt de l'UCI sont obtenues directement en exécutant un code source en R. Consulter le code du programme pour comprendre les transformations qui ont été réalisées sur les données brutes. Cette étape peut être rendue plus efficace (programme plus concis et exécution plus rapide) en utilisant la librairie `dplyr` très adaptée à cet usage amis de syntaxe plus complexe.\n",
    "\n",
    "Charger les données et le programme dans le répertoire courant en même temps que ce tutoriel ou changer de chemin pour y accéder directement. "
   ]
  },
  {
   "cell_type": "code",
   "execution_count": 1,
   "metadata": {
    "ExecuteTime": {
     "end_time": "2020-03-22T10:28:18.067284Z",
     "start_time": "2020-03-22T10:28:16.515Z"
    },
    "scrolled": true
   },
   "outputs": [
    {
     "data": {
      "text/plain": [
       "      age                workClass         fnlwgt              education    \n",
       " Min.   :18.00   Federal-Govt : 1390   Min.   :  13492   HS-grad    :14766  \n",
       " 1st Qu.:28.00   Not-Working  :   21   1st Qu.: 117404   HS-Graduate: 9892  \n",
       " Median :37.00   Other-Govt   : 5023   Median : 178390   Bachelors  : 7569  \n",
       " Mean   :38.79   Private      :32856   Mean   : 189858   Dropout    : 5182  \n",
       " 3rd Qu.:47.00   Self-Employed: 5425   3rd Qu.: 237998   Associates : 3466  \n",
       " Max.   :90.00                         Max.   :1490400   Masters    : 2512  \n",
       "                                                         (Other)    : 1328  \n",
       "    educNum               mariStat              occup      \n",
       " Min.   : 1.00   Married      :21079   Admin       : 5501  \n",
       " 1st Qu.: 9.00   Never-Married:14100   Blue-Collar :14732  \n",
       " Median :10.00   Not-Married  : 8259   Other-occups: 2391  \n",
       " Mean   :10.16   Widowed      : 1277   Professional: 5992  \n",
       " 3rd Qu.:13.00                         Sales       : 5272  \n",
       " Max.   :16.00                         Service     : 4846  \n",
       "                                       White-Collar: 5981  \n",
       "         relationship          origEthn         sex        capitalGain   \n",
       " Husband       :18660   Amer-Indian:  428   Female:14450   None  :40939  \n",
       " Not-in-family :11678   Asian      : 1302   Male  :30265   cgLow : 2167  \n",
       " Other-relative: 1320   Black      : 4194                  cgHigh: 1609  \n",
       " Own-child     : 6184   Other      :  348                                \n",
       " Unmarried     : 4782   White      :38443                                \n",
       " Wife          : 2091                                                    \n",
       "                                                                         \n",
       " capitalLoss      hoursWeek                   nativCountry       income     \n",
       " None  :42587   Min.   : 1.00   United-States       :40807   incHigh:11204  \n",
       " clLow : 1071   1st Qu.:40.00   Latin-America       : 1537   incLow :33511  \n",
       " clHigh: 1057   Median :40.00   British-Commonwealth:  481                  \n",
       "                Mean   :41.17   SE-Asia             :  441                  \n",
       "                3rd Qu.:45.00   Euro_2              :  333                  \n",
       "                Max.   :99.00   Euro_1              :  330                  \n",
       "                                (Other)             :  786                  \n",
       "  LcapitalGain     LcapitalLoss     ageQ      hoursWeekQ \n",
       " Min.   : 0.000   Min.   :0.0000   Ag1:9034   HW1: 9638  \n",
       " 1st Qu.: 0.000   1st Qu.:0.0000   Ag2:8473   HW2:21367  \n",
       " Median : 0.000   Median :0.0000   Ag3:9714   HW3:13710  \n",
       " Mean   : 0.747   Mean   :0.3575   Ag4:9649              \n",
       " 3rd Qu.: 0.000   3rd Qu.:0.0000   Ag5:7845              \n",
       " Max.   :11.513   Max.   :8.3795                         \n",
       "                                                         "
      ]
     },
     "metadata": {},
     "output_type": "display_data"
    }
   ],
   "source": [
    "source(\"dataPrepAdultCensus.R\")\n",
    "summary(dataBase)"
   ]
  },
  {
   "cell_type": "markdown",
   "metadata": {},
   "source": [
    "### Description statistique élémentaire\n",
    "Mettre en évidence des difficultés présentes sur certaines variables ou couples de variables."
   ]
  },
  {
   "cell_type": "code",
   "execution_count": 2,
   "metadata": {
    "ExecuteTime": {
     "end_time": "2020-03-22T10:28:18.279443Z",
     "start_time": "2020-03-22T10:28:16.594Z"
    }
   },
   "outputs": [
    {
     "data": {
      "image/png": "[encoded data removed]",
      "text/plain": [
       "Plot with title “”"
      ]
     },
     "metadata": {},
     "output_type": "display_data"
    }
   ],
   "source": [
    "options(repr.plot.width=4, repr.plot.height=4)\n",
    "hist(dataBase[,\"LcapitalGain\"],probability=T, main=\"\",xlab=\"log(1+CapitalGain)\")\n",
    "boxplot(dataBase[,\"LcapitalGain\"], horizontal=TRUE,boxwex=.2,  outline=TRUE,  \n",
    "        frame=F, col = \"lightgrey\", add = TRUE,at=0.2)"
   ]
  },
  {
   "cell_type": "markdown",
   "metadata": {},
   "source": [
    "Nécessité de transformer certaines variables avant de contruire des modèles linéaires puis mise en évidence d'incohérences et de fortes redondances entre certaines variables."
   ]
  },
  {
   "cell_type": "code",
   "execution_count": 3,
   "metadata": {
    "ExecuteTime": {
     "end_time": "2020-03-22T10:28:18.300927Z",
     "start_time": "2020-03-22T10:28:16.669Z"
    }
   },
   "outputs": [
    {
     "data": {
      "text/plain": [
       "                \n",
       "                 Female  Male\n",
       "  Husband             1 18659\n",
       "  Not-in-family    5404  6274\n",
       "  Other-relative    599   721\n",
       "  Own-child        2707  3477\n",
       "  Unmarried        3649  1133\n",
       "  Wife             2090     1"
      ]
     },
     "metadata": {},
     "output_type": "display_data"
    }
   ],
   "source": [
    "table(dataBase$relationship,dataBase$sex)   "
   ]
  },
  {
   "cell_type": "code",
   "execution_count": 4,
   "metadata": {
    "ExecuteTime": {
     "end_time": "2020-03-22T10:28:18.327745Z",
     "start_time": "2020-03-22T10:28:16.676Z"
    }
   },
   "outputs": [
    {
     "data": {
      "text/plain": [
       "             \n",
       "                  1     2     3     4     5     6     7     8     9    10    11\n",
       "  Associates      0     0     0     0     0     0     0     0     0     0  1959\n",
       "  Bachelors       0     0     0     0     0     0     0     0     0     0     0\n",
       "  Doctorate       0     0     0     0     0     0     0     0     0     0     0\n",
       "  Dropout        72   222   446   819   644  1073  1387   519     0     0     0\n",
       "  HS-grad         0     0     0     0     0     0     0     0 14766     0     0\n",
       "  HS-Graduate     0     0     0     0     0     0     0     0     0  9892     0\n",
       "  Masters         0     0     0     0     0     0     0     0     0     0     0\n",
       "  Prof-School     0     0     0     0     0     0     0     0     0     0     0\n",
       "             \n",
       "                 12    13    14    15    16\n",
       "  Associates   1507     0     0     0     0\n",
       "  Bachelors       0  7569     0     0     0\n",
       "  Doctorate       0     0     0     0   544\n",
       "  Dropout         0     0     0     0     0\n",
       "  HS-grad         0     0     0     0     0\n",
       "  HS-Graduate     0     0     0     0     0\n",
       "  Masters         0     0  2512     0     0\n",
       "  Prof-School     0     0     0   784     0"
      ]
     },
     "metadata": {},
     "output_type": "display_data"
    }
   ],
   "source": [
    "table(dataBase$education,dataBase$educNum)  "
   ]
  },
  {
   "cell_type": "code",
   "execution_count": 5,
   "metadata": {
    "ExecuteTime": {
     "end_time": "2020-03-22T10:28:18.357021Z",
     "start_time": "2020-03-22T10:28:16.681Z"
    }
   },
   "outputs": [
    {
     "data": {
      "text/plain": [
       "               \n",
       "                Husband Not-in-family Other-relative Own-child Unmarried  Wife\n",
       "  Married         18660            19            184       125         0  2091\n",
       "  Never-Married       0          6667            793      5423      1217     0\n",
       "  Not-Married         0          4305            284       616      3054     0\n",
       "  Widowed             0           687             59        20       511     0"
      ]
     },
     "metadata": {},
     "output_type": "display_data"
    }
   ],
   "source": [
    "table(dataBase$mariStat,dataBase$relationship)"
   ]
  },
  {
   "cell_type": "code",
   "execution_count": 6,
   "metadata": {
    "ExecuteTime": {
     "end_time": "2020-03-22T10:28:18.382033Z",
     "start_time": "2020-03-22T10:28:16.686Z"
    }
   },
   "outputs": [
    {
     "data": {
      "text/plain": [
       "             \n",
       "              British-Commonwealth China Euro_1 Euro_2 Latin-America Other\n",
       "  Amer-Indian                    0     1      1      2            12     0\n",
       "  Asian                        125   185      4    101            13    61\n",
       "  Black                         11     0     10      0           230     8\n",
       "  Other                         12     0      2      1           125    11\n",
       "  White                        333    10    313    229          1157   198\n",
       "             \n",
       "              SE-Asia South-America United-States\n",
       "  Amer-Indian       1             1           410\n",
       "  Asian           416             0           397\n",
       "  Black             4             2          3929\n",
       "  Other             0            31           166\n",
       "  White            20           278         35905"
      ]
     },
     "metadata": {},
     "output_type": "display_data"
    }
   ],
   "source": [
    "table(dataBase$origEthn,dataBase$nativCountry)"
   ]
  },
  {
   "cell_type": "code",
   "execution_count": 7,
   "metadata": {
    "ExecuteTime": {
     "end_time": "2020-03-22T10:28:18.448324Z",
     "start_time": "2020-03-22T10:28:16.690Z"
    }
   },
   "outputs": [
    {
     "data": {
      "image/png": "[encoded data removed]",
      "text/plain": [
       "Plot with title “”"
      ]
     },
     "metadata": {},
     "output_type": "display_data"
    }
   ],
   "source": [
    "mosaicplot(table(dataBase[,\"origEthn\"],dataBase[,\"income\"]),main=\"\", col=\"lightblue\",cex=1.3)"
   ]
  },
  {
   "cell_type": "markdown",
   "metadata": {},
   "source": [
    "Quelques modifications sont apportées de la base; des variables sont supprimées afin de ne garder qu'une seule présence d'une information sensible: sexe et origine ethnique.\n",
    "- Suppression de la variable 3 `fnlwgt` qui n'a guère de signification pour cette analyse.\n",
    "- Création d'une variable binaire `Child`: présence ou non d'enfants.\n",
    "- Suppression de la variable 8 `relationship` redondante avec le sexe et le statut marital,\n",
    "- Suppression de la variable 14 `nativCountry` redondante avec l'origine ethnique.\n",
    "- La variable 9 `originEthn` est simplifiée à 2 classes: CaucYes *vs.* CaucNo\n",
    "\n",
    "**Attention** Pour la suite, il est important que les niveaux des facteurs soient ordonnés de façon cohérente pour la bonne interprétation des tables de contingence et de leurs effectifs. Par convention, les modalités pré-jugées socialement \"dévavorables\": revenu faible, femme, non caucasien (codées 0), précèdent les autres: revenu élevé, homme, caucasien (codées 1). Il faut donc soit réordonner les niveaux de la variable `income` ou renommer les modalités pour faire correspondre l'ordre alphabétique; ce deuxième choix est exécuté."
   ]
  },
  {
   "cell_type": "code",
   "execution_count": 8,
   "metadata": {
    "ExecuteTime": {
     "end_time": "2020-03-22T10:28:18.530959Z",
     "start_time": "2020-03-22T10:28:16.765Z"
    }
   },
   "outputs": [
    {
     "data": {
      "text/plain": [
       "      age                workClass           education        educNum     \n",
       " Min.   :18.00   Federal-Govt : 1390   HS-grad    :14766   Min.   : 1.00  \n",
       " 1st Qu.:28.00   Not-Working  :   21   HS-Graduate: 9892   1st Qu.: 9.00  \n",
       " Median :37.00   Other-Govt   : 5023   Bachelors  : 7569   Median :10.00  \n",
       " Mean   :38.79   Private      :32856   Dropout    : 5182   Mean   :10.16  \n",
       " 3rd Qu.:47.00   Self-Employed: 5425   Associates : 3466   3rd Qu.:13.00  \n",
       " Max.   :90.00                         Masters    : 2512   Max.   :16.00  \n",
       "                                       (Other)    : 1328                  \n",
       "          mariStat              occup          origEthn         sex       \n",
       " Married      :21079   Admin       : 5501   CaucNo : 6272   Female:14450  \n",
       " Never-Married:14100   Blue-Collar :14732   CaucYes:38443   Male  :30265  \n",
       " Not-Married  : 8259   Other-occups: 2391                                 \n",
       " Widowed      : 1277   Professional: 5992                                 \n",
       "                       Sales       : 5272                                 \n",
       "                       Service     : 4846                                 \n",
       "                       White-Collar: 5981                                 \n",
       " capitalGain    capitalLoss      hoursWeek      income       LcapitalGain   \n",
       " None  :40939   None  :42587   Min.   : 1.00   incB:33511   Min.   : 0.000  \n",
       " cgLow : 2167   clLow : 1071   1st Qu.:40.00   incH:11204   1st Qu.: 0.000  \n",
       " cgHigh: 1609   clHigh: 1057   Median :40.00                Median : 0.000  \n",
       "                               Mean   :41.17                Mean   : 0.747  \n",
       "                               3rd Qu.:45.00                3rd Qu.: 0.000  \n",
       "                               Max.   :99.00                Max.   :11.513  \n",
       "                                                                            \n",
       "  LcapitalLoss     ageQ      hoursWeekQ       child      \n",
       " Min.   :0.0000   Ag1:9034   HW1: 9638   ChildNo :38531  \n",
       " 1st Qu.:0.0000   Ag2:8473   HW2:21367   ChildYes: 6184  \n",
       " Median :0.0000   Ag3:9714   HW3:13710                   \n",
       " Mean   :0.3575   Ag4:9649                               \n",
       " 3rd Qu.:0.0000   Ag5:7845                               \n",
       " Max.   :8.3795                                          \n",
       "                                                         "
      ]
     },
     "metadata": {},
     "output_type": "display_data"
    }
   ],
   "source": [
    "dataBase[,\"child\"]=as.factor(ifelse(dataBase$relationship=='Own-child',\"ChildYes\",\"ChildNo\"))\n",
    "dataBase[,\"origEthn\"]=as.factor(ifelse(dataBase$origEthn %in% c('Amer-Indian','Asian','Black','Other'),\"CaucNo\",\"CaucYes\"))\n",
    "dataBase[,\"income\"]=as.factor(ifelse(dataBase$income=='incLow',\"incB\",\"incH\"))\n",
    "datBas=dataBase[,-c(3,8,14)]\n",
    "summary(datBas)"
   ]
  },
  {
   "cell_type": "markdown",
   "metadata": {},
   "source": [
    "Quelques *mosaicplots* basiques montrent le liens des variables sensibles avec la cible (seuil de revenu) et mettent clairement en évidence le biais de société."
   ]
  },
  {
   "cell_type": "code",
   "execution_count": 9,
   "metadata": {
    "ExecuteTime": {
     "end_time": "2020-03-22T10:28:18.567645Z",
     "start_time": "2020-03-22T10:28:16.829Z"
    }
   },
   "outputs": [
    {
     "data": {
      "image/png": "[encoded data removed]",
      "text/plain": [
       "Plot with title “”"
      ]
     },
     "metadata": {},
     "output_type": "display_data"
    }
   ],
   "source": [
    "mosaicplot(table(datBas[,\"sex\"],datBas[,\"income\"]),main=\"\", col=\"lightblue\",cex=1.3)"
   ]
  },
  {
   "cell_type": "code",
   "execution_count": 10,
   "metadata": {
    "ExecuteTime": {
     "end_time": "2020-03-22T10:28:18.610285Z",
     "start_time": "2020-03-22T10:28:16.833Z"
    }
   },
   "outputs": [
    {
     "data": {
      "image/png": "[encoded data removed]",
      "text/plain": [
       "Plot with title “”"
      ]
     },
     "metadata": {},
     "output_type": "display_data"
    }
   ],
   "source": [
    "mosaicplot(table(datBas[,\"origEthn\"],datBas[,\"income\"]),main=\"\",col=\"lightblue\",cex=1.3)"
   ]
  },
  {
   "cell_type": "markdown",
   "metadata": {},
   "source": [
    "**Q** Commentaires sur les biais présent dans la base, les déséquilibres des classes.\n",
    "\n",
    "Le [calepin plus complet](https://github.com/wikistat/Fair-ML-4-Ethical-AI/blob/master/AdultCensus/AdultCensus-R-biasDetectionLong.ipynb) propose l'exécution d'une [analyse factorielle multiple des correspondances](http://wikistat.fr/pdf/st-m-explo-afcm.pdf) afin de représenter globalement la structure des liaisons entre les variables; c'est la raison pour laquelle les variables quantitatives ont été découpées en classes. Comme l'AFCM n'est pas reprise ici par souci de concision, ces variables sont abandonnées par la suite."
   ]
  },
  {
   "cell_type": "markdown",
   "metadata": {},
   "source": [
    "### Préparation des échantillons\n",
    "La base de données est divisée en deux échantillons d'apprentissage et de test."
   ]
  },
  {
   "cell_type": "code",
   "execution_count": 11,
   "metadata": {
    "ExecuteTime": {
     "end_time": "2020-03-22T10:28:18.652442Z",
     "start_time": "2020-03-22T10:28:16.960Z"
    }
   },
   "outputs": [
    {
     "data": {
      "text/plain": [
       "      age                workClass           education        educNum     \n",
       " Min.   :18.00   Federal-Govt : 1390   HS-grad    :14766   Min.   : 1.00  \n",
       " 1st Qu.:28.00   Not-Working  :   21   HS-Graduate: 9892   1st Qu.: 9.00  \n",
       " Median :37.00   Other-Govt   : 5023   Bachelors  : 7569   Median :10.00  \n",
       " Mean   :38.79   Private      :32856   Dropout    : 5182   Mean   :10.16  \n",
       " 3rd Qu.:47.00   Self-Employed: 5425   Associates : 3466   3rd Qu.:13.00  \n",
       " Max.   :90.00                         Masters    : 2512   Max.   :16.00  \n",
       "                                       (Other)    : 1328                  \n",
       "          mariStat              occup          origEthn         sex       \n",
       " Married      :21079   Admin       : 5501   CaucNo : 6272   Female:14450  \n",
       " Never-Married:14100   Blue-Collar :14732   CaucYes:38443   Male  :30265  \n",
       " Not-Married  : 8259   Other-occups: 2391                                 \n",
       " Widowed      : 1277   Professional: 5992                                 \n",
       "                       Sales       : 5272                                 \n",
       "                       Service     : 4846                                 \n",
       "                       White-Collar: 5981                                 \n",
       " capitalGain    capitalLoss      hoursWeek      income       LcapitalGain   \n",
       " None  :40939   None  :42587   Min.   : 1.00   incB:33511   Min.   : 0.000  \n",
       " cgLow : 2167   clLow : 1071   1st Qu.:40.00   incH:11204   1st Qu.: 0.000  \n",
       " cgHigh: 1609   clHigh: 1057   Median :40.00                Median : 0.000  \n",
       "                               Mean   :41.17                Mean   : 0.747  \n",
       "                               3rd Qu.:45.00                3rd Qu.: 0.000  \n",
       "                               Max.   :99.00                Max.   :11.513  \n",
       "                                                                            \n",
       "  LcapitalLoss     ageQ      hoursWeekQ       child      \n",
       " Min.   :0.0000   Ag1:9034   HW1: 9638   ChildNo :38531  \n",
       " 1st Qu.:0.0000   Ag2:8473   HW2:21367   ChildYes: 6184  \n",
       " Median :0.0000   Ag3:9714   HW3:13710                   \n",
       " Mean   :0.3575   Ag4:9649                               \n",
       " 3rd Qu.:0.0000   Ag5:7845                               \n",
       " Max.   :8.3795                                          \n",
       "                                                         "
      ]
     },
     "metadata": {},
     "output_type": "display_data"
    }
   ],
   "source": [
    "summary(datBas)"
   ]
  },
  {
   "cell_type": "code",
   "execution_count": 12,
   "metadata": {
    "ExecuteTime": {
     "end_time": "2020-03-22T10:28:18.878493Z",
     "start_time": "2020-03-22T10:28:16.964Z"
    }
   },
   "outputs": [
    {
     "data": {
      "text/plain": [
       "      age           educNum               mariStat              occup      \n",
       " Min.   :18.00   Min.   : 1.00   Married      :21079   Admin       : 5501  \n",
       " 1st Qu.:28.00   1st Qu.: 9.00   Never-Married:14100   Blue-Collar :14732  \n",
       " Median :37.00   Median :10.00   Not-Married  : 8259   Other-occups: 2391  \n",
       " Mean   :38.79   Mean   :10.16   Widowed      : 1277   Professional: 5992  \n",
       " 3rd Qu.:47.00   3rd Qu.:13.00                         Sales       : 5272  \n",
       " Max.   :90.00   Max.   :16.00                         Service     : 4846  \n",
       "                                                       White-Collar: 5981  \n",
       "    origEthn         sex          hoursWeek      income       LcapitalGain   \n",
       " CaucNo : 6272   Female:14450   Min.   : 1.00   incB:33511   Min.   : 0.000  \n",
       " CaucYes:38443   Male  :30265   1st Qu.:40.00   incH:11204   1st Qu.: 0.000  \n",
       "                                Median :40.00                Median : 0.000  \n",
       "                                Mean   :41.17                Mean   : 0.747  \n",
       "                                3rd Qu.:45.00                3rd Qu.: 0.000  \n",
       "                                Max.   :99.00                Max.   :11.513  \n",
       "                                                                             \n",
       "  LcapitalLoss         child      \n",
       " Min.   :0.0000   ChildNo :38531  \n",
       " 1st Qu.:0.0000   ChildYes: 6184  \n",
       " Median :0.0000                   \n",
       " Mean   :0.3575                   \n",
       " 3rd Qu.:0.0000                   \n",
       " Max.   :8.3795                   \n",
       "                                  "
      ]
     },
     "metadata": {},
     "output_type": "display_data"
    }
   ],
   "source": [
    "datBas=datBas[,c(\"age\",\"educNum\",\"mariStat\",\"occup\",\"origEthn\",\n",
    "                 \"sex\",\"hoursWeek\",\"income\",\"LcapitalGain\",\"LcapitalLoss\",\"child\")]\n",
    "summary(datBas)\n",
    "write.csv(datBas,file=\"adultBase-R.csv\",row.names = FALSE)"
   ]
  },
  {
   "cell_type": "code",
   "execution_count": 13,
   "metadata": {
    "ExecuteTime": {
     "end_time": "2020-03-22T10:28:18.905176Z",
     "start_time": "2020-03-22T10:28:16.967Z"
    }
   },
   "outputs": [],
   "source": [
    "set.seed(11) # initialisation du générateur\n",
    "# Extraction des échantillons\n",
    "test.ratio=.2   # part de l'échantillon test\n",
    "npop=nrow(datBas) # nombre de lignes dans les données\n",
    "nvar=ncol(datBas) # nombre de colonnes\n",
    "# taille de l'échantillon test\n",
    "ntest=ceiling(npop*test.ratio) \n",
    "# indices de l'échantillon test\n",
    "testi=sample(1:npop,ntest)\n",
    "# indices de l'échantillon d'apprentissage\n",
    "appri=setdiff(1:npop,testi) "
   ]
  },
  {
   "cell_type": "code",
   "execution_count": 14,
   "metadata": {
    "ExecuteTime": {
     "end_time": "2020-03-22T10:28:19.155030Z",
     "start_time": "2020-03-22T10:28:16.972Z"
    }
   },
   "outputs": [],
   "source": [
    "# construction de l'échantillon d'apprentissage\n",
    "datApp=datBas[appri,]\n",
    "# construction de l'échantillon test \n",
    "daTest=datBas[testi,]\n",
    "# sauvegarde des fichiers pour le deuxième tutoriel\n",
    "write.csv(datApp,\"datApp.csv\")\n",
    "write.csv(daTest,\"daTest.csv\")"
   ]
  },
  {
   "cell_type": "markdown",
   "metadata": {},
   "source": [
    "Définition d'une fonction pour calculer le taux d'erreur usuel de la matrice de confusion. Avec l'ordonnancement des modalités, les bien classés sont les termes diagonaux de la matrice de confusion."
   ]
  },
  {
   "cell_type": "code",
   "execution_count": 15,
   "metadata": {
    "ExecuteTime": {
     "end_time": "2020-03-22T10:28:19.172350Z",
     "start_time": "2020-03-22T10:28:17.039Z"
    }
   },
   "outputs": [],
   "source": [
    "tauxErr=function(table){round((table[1,2]+table[2,1])/sum(table)*100,2)}"
   ]
  },
  {
   "cell_type": "markdown",
   "metadata": {},
   "source": [
    "## Prévision du seuil de revenu \n",
    "Une comparaison détaillée (cf. le [tutoriel](https://github.com/wikistat/Apprentissage/blob/master/Adult-Census/Apprent-Python-AdultCensus.ipynb)) de la plupart des modèles et algorithmes de prévision du seuil de revenu en fonction des différentes variables met en évidence des résultats de prévision un peu meilleurs obtenus par l'algorithme de *gradient boosting* (version xtrem). Néanmoins, on peut se limiter ici à un choix plus restreint de modèles et algorithmes pour comprendre l'impact sur la discrimination.\n",
    "- la régression logistique (linéaire) interprétable; \n",
    "- les forêts aléatoires (non linéaire) conduisent à une meilleure précision mais sans capacité d'interprétation.\n",
    "\n",
    "### Prévision par [régression logistique](http://wikistat.fr/pdf/st-m-app-rlogit.pdf)"
   ]
  },
  {
   "cell_type": "code",
   "execution_count": 16,
   "metadata": {
    "ExecuteTime": {
     "end_time": "2020-03-22T10:28:21.296744Z",
     "start_time": "2020-03-22T10:28:17.107Z"
    }
   },
   "outputs": [
    {
     "data": {
      "text/html": [
       "<table>\n",
       "<thead><tr><th></th><th scope=col>Df</th><th scope=col>Deviance</th><th scope=col>Resid. Df</th><th scope=col>Resid. Dev</th><th scope=col>Pr(&gt;Chi)</th></tr></thead>\n",
       "<tbody>\n",
       "\t<tr><th scope=row>NULL</th><td>NA           </td><td>        NA   </td><td>35771        </td><td>40227.31     </td><td>           NA</td></tr>\n",
       "\t<tr><th scope=row>age</th><td> 1           </td><td>1865.39750   </td><td>35770        </td><td>38361.91     </td><td> 0.000000e+00</td></tr>\n",
       "\t<tr><th scope=row>educNum</th><td> 1           </td><td>4247.88595   </td><td>35769        </td><td>34114.03     </td><td> 0.000000e+00</td></tr>\n",
       "\t<tr><th scope=row>mariStat</th><td> 3           </td><td>6299.40893   </td><td>35766        </td><td>27814.62     </td><td> 0.000000e+00</td></tr>\n",
       "\t<tr><th scope=row>occup</th><td> 6           </td><td> 792.03697   </td><td>35760        </td><td>27022.58     </td><td>8.090064e-168</td></tr>\n",
       "\t<tr><th scope=row>origEthn</th><td> 1           </td><td>  19.96324   </td><td>35759        </td><td>27002.62     </td><td> 7.894531e-06</td></tr>\n",
       "\t<tr><th scope=row>sex</th><td> 1           </td><td>  51.34567   </td><td>35758        </td><td>26951.27     </td><td> 7.745273e-13</td></tr>\n",
       "\t<tr><th scope=row>hoursWeek</th><td> 1           </td><td> 439.60497   </td><td>35757        </td><td>26511.67     </td><td> 1.319533e-97</td></tr>\n",
       "\t<tr><th scope=row>LcapitalGain</th><td> 1           </td><td>1239.63939   </td><td>35756        </td><td>25272.03     </td><td>1.481393e-271</td></tr>\n",
       "\t<tr><th scope=row>LcapitalLoss</th><td> 1           </td><td> 304.08396   </td><td>35755        </td><td>24967.94     </td><td> 4.246522e-68</td></tr>\n",
       "\t<tr><th scope=row>child</th><td> 1           </td><td>  73.47646   </td><td>35754        </td><td>24894.47     </td><td> 1.018438e-17</td></tr>\n",
       "</tbody>\n",
       "</table>\n"
      ],
      "text/latex": [
       "\\begin{tabular}{r|lllll}\n",
       "  & Df & Deviance & Resid. Df & Resid. Dev & Pr(>Chi)\\\\\n",
       "\\hline\n",
       "\tNULL & NA            &         NA    & 35771         & 40227.31      &            NA\\\\\n",
       "\tage &  1            & 1865.39750    & 35770         & 38361.91      &  0.000000e+00\\\\\n",
       "\teducNum &  1            & 4247.88595    & 35769         & 34114.03      &  0.000000e+00\\\\\n",
       "\tmariStat &  3            & 6299.40893    & 35766         & 27814.62      &  0.000000e+00\\\\\n",
       "\toccup &  6            &  792.03697    & 35760         & 27022.58      & 8.090064e-168\\\\\n",
       "\torigEthn &  1            &   19.96324    & 35759         & 27002.62      &  7.894531e-06\\\\\n",
       "\tsex &  1            &   51.34567    & 35758         & 26951.27      &  7.745273e-13\\\\\n",
       "\thoursWeek &  1            &  439.60497    & 35757         & 26511.67      &  1.319533e-97\\\\\n",
       "\tLcapitalGain &  1            & 1239.63939    & 35756         & 25272.03      & 1.481393e-271\\\\\n",
       "\tLcapitalLoss &  1            &  304.08396    & 35755         & 24967.94      &  4.246522e-68\\\\\n",
       "\tchild &  1            &   73.47646    & 35754         & 24894.47      &  1.018438e-17\\\\\n",
       "\\end{tabular}\n"
      ],
      "text/markdown": [
       "\n",
       "| <!--/--> | Df | Deviance | Resid. Df | Resid. Dev | Pr(>Chi) |\n",
       "|---|---|---|---|---|---|\n",
       "| NULL | NA            |         NA    | 35771         | 40227.31      |            NA |\n",
       "| age |  1            | 1865.39750    | 35770         | 38361.91      |  0.000000e+00 |\n",
       "| educNum |  1            | 4247.88595    | 35769         | 34114.03      |  0.000000e+00 |\n",
       "| mariStat |  3            | 6299.40893    | 35766         | 27814.62      |  0.000000e+00 |\n",
       "| occup |  6            |  792.03697    | 35760         | 27022.58      | 8.090064e-168 |\n",
       "| origEthn |  1            |   19.96324    | 35759         | 27002.62      |  7.894531e-06 |\n",
       "| sex |  1            |   51.34567    | 35758         | 26951.27      |  7.745273e-13 |\n",
       "| hoursWeek |  1            |  439.60497    | 35757         | 26511.67      |  1.319533e-97 |\n",
       "| LcapitalGain |  1            | 1239.63939    | 35756         | 25272.03      | 1.481393e-271 |\n",
       "| LcapitalLoss |  1            |  304.08396    | 35755         | 24967.94      |  4.246522e-68 |\n",
       "| child |  1            |   73.47646    | 35754         | 24894.47      |  1.018438e-17 |\n",
       "\n"
      ],
      "text/plain": [
       "             Df Deviance   Resid. Df Resid. Dev Pr(>Chi)     \n",
       "NULL         NA         NA 35771     40227.31              NA\n",
       "age           1 1865.39750 35770     38361.91    0.000000e+00\n",
       "educNum       1 4247.88595 35769     34114.03    0.000000e+00\n",
       "mariStat      3 6299.40893 35766     27814.62    0.000000e+00\n",
       "occup         6  792.03697 35760     27022.58   8.090064e-168\n",
       "origEthn      1   19.96324 35759     27002.62    7.894531e-06\n",
       "sex           1   51.34567 35758     26951.27    7.745273e-13\n",
       "hoursWeek     1  439.60497 35757     26511.67    1.319533e-97\n",
       "LcapitalGain  1 1239.63939 35756     25272.03   1.481393e-271\n",
       "LcapitalLoss  1  304.08396 35755     24967.94    4.246522e-68\n",
       "child         1   73.47646 35754     24894.47    1.018438e-17"
      ]
     },
     "metadata": {},
     "output_type": "display_data"
    }
   ],
   "source": [
    "# estimation du modèle complet\n",
    "log.lm=glm(income~.,data=datApp,family=binomial)\n",
    "# significativité des paramètres\n",
    "anova(log.lm,test=\"Chisq\")"
   ]
  },
  {
   "cell_type": "markdown",
   "metadata": {},
   "source": [
    "**Q** Commentaires sur la significativité des paramètres."
   ]
  },
  {
   "cell_type": "code",
   "execution_count": 17,
   "metadata": {
    "ExecuteTime": {
     "end_time": "2020-03-22T10:28:21.327316Z",
     "start_time": "2020-03-22T10:28:17.177Z"
    }
   },
   "outputs": [
    {
     "data": {
      "text/plain": [
       "\n",
       "Call:\n",
       "glm(formula = income ~ ., family = binomial, data = datApp)\n",
       "\n",
       "Deviance Residuals: \n",
       "    Min       1Q   Median       3Q      Max  \n",
       "-2.8361  -0.5640  -0.2250  -0.0251   3.5922  \n",
       "\n",
       "Coefficients:\n",
       "                       Estimate Std. Error z value Pr(>|z|)    \n",
       "(Intercept)           -5.945211   0.144327 -41.193  < 2e-16 ***\n",
       "age                    0.023179   0.001442  16.071  < 2e-16 ***\n",
       "educNum                0.285120   0.008336  34.205  < 2e-16 ***\n",
       "mariStatNever-Married -2.432828   0.057391 -42.390  < 2e-16 ***\n",
       "mariStatNot-Married   -2.115795   0.055039 -38.442  < 2e-16 ***\n",
       "mariStatWidowed       -2.163944   0.130148 -16.627  < 2e-16 ***\n",
       "occupBlue-Collar      -0.341925   0.063323  -5.400 6.67e-08 ***\n",
       "occupOther-occups      0.382624   0.081347   4.704 2.56e-06 ***\n",
       "occupProfessional      0.406026   0.068205   5.953 2.63e-09 ***\n",
       "occupSales             0.126279   0.070264   1.797 0.072301 .  \n",
       "occupService          -0.991774   0.102333  -9.692  < 2e-16 ***\n",
       "occupWhite-Collar      0.655764   0.065707   9.980  < 2e-16 ***\n",
       "origEthnCaucYes        0.174274   0.052916   3.293 0.000990 ***\n",
       "sexMale                0.159121   0.046909   3.392 0.000693 ***\n",
       "hoursWeek              0.027185   0.001437  18.919  < 2e-16 ***\n",
       "LcapitalGain           0.207850   0.005977  34.773  < 2e-16 ***\n",
       "LcapitalLoss           0.149187   0.008657  17.234  < 2e-16 ***\n",
       "childChildYes         -0.935815   0.120346  -7.776 7.48e-15 ***\n",
       "---\n",
       "Signif. codes:  0 ‘***’ 0.001 ‘**’ 0.01 ‘*’ 0.05 ‘.’ 0.1 ‘ ’ 1\n",
       "\n",
       "(Dispersion parameter for binomial family taken to be 1)\n",
       "\n",
       "    Null deviance: 40227  on 35771  degrees of freedom\n",
       "Residual deviance: 24894  on 35754  degrees of freedom\n",
       "AIC: 24930\n",
       "\n",
       "Number of Fisher Scoring iterations: 7\n"
      ]
     },
     "metadata": {},
     "output_type": "display_data"
    }
   ],
   "source": [
    "summary(log.lm)"
   ]
  },
  {
   "cell_type": "markdown",
   "metadata": {},
   "source": [
    "**Q** Interprétation du rôle des variables sur le seuil de revenu."
   ]
  },
  {
   "cell_type": "code",
   "execution_count": 18,
   "metadata": {
    "ExecuteTime": {
     "end_time": "2020-03-22T10:28:21.369423Z",
     "start_time": "2020-03-22T10:28:17.243Z"
    }
   },
   "outputs": [
    {
     "data": {
      "text/plain": [
       "       \n",
       "        incB incH\n",
       "  FALSE 6154  950\n",
       "  TRUE   526 1313"
      ]
     },
     "metadata": {},
     "output_type": "display_data"
    }
   ],
   "source": [
    "# Prévision de l'échantillon test\n",
    "pred.log=predict(log.lm,newdata=daTest,type=\"response\")\n",
    "# Matrice de confusion pour la prévision du \n",
    "# dépassement de seuil\n",
    "confMat=table(pred.log>0.5,daTest$income)\n",
    "confMat"
   ]
  },
  {
   "cell_type": "code",
   "execution_count": 19,
   "metadata": {
    "ExecuteTime": {
     "end_time": "2020-03-22T10:28:21.388437Z",
     "start_time": "2020-03-22T10:28:17.247Z"
    }
   },
   "outputs": [
    {
     "data": {
      "text/html": [
       "16.5"
      ],
      "text/latex": [
       "16.5"
      ],
      "text/markdown": [
       "16.5"
      ],
      "text/plain": [
       "[1] 16.5"
      ]
     },
     "metadata": {},
     "output_type": "display_data"
    }
   ],
   "source": [
    "tauxErr(confMat)"
   ]
  },
  {
   "cell_type": "markdown",
   "metadata": {},
   "source": [
    "**Remarque** Un modèle de régression logistique avec interactions, donc quadratique, ne conduit pas à une  prévision significativement meilleure mais nécessite une sélection de variables (*e.g. stepwise* ou `both`) longue à exécuter. Toujours par souci de concision, elle n'est pas reproduite; consulter le [calepin plus complet](https://github.com/wikistat/Fair-ML-4-Ethical-AI/blob/master/AdultCensus/AdultCensus-R-biasDetectionLong.ipynb)."
   ]
  },
  {
   "cell_type": "markdown",
   "metadata": {},
   "source": [
    "### Prévision par [forêts aléatoires](http://wikistat.fr/pdf/st-m-app-agreg.pdf)\n",
    "\n",
    "**Q** Quelles sont les options par défaut utilisées ci-dessous?"
   ]
  },
  {
   "cell_type": "code",
   "execution_count": 20,
   "metadata": {
    "ExecuteTime": {
     "end_time": "2020-03-22T10:28:21.424738Z",
     "start_time": "2020-03-22T10:28:17.383Z"
    }
   },
   "outputs": [
    {
     "data": {
      "text/plain": [
       "      age           educNum               mariStat              occup      \n",
       " Min.   :18.00   Min.   : 1.00   Married      :16819   Admin       : 4393  \n",
       " 1st Qu.:28.00   1st Qu.: 9.00   Never-Married:11307   Blue-Collar :11764  \n",
       " Median :37.00   Median :10.00   Not-Married  : 6613   Other-occups: 1901  \n",
       " Mean   :38.81   Mean   :10.16   Widowed      : 1033   Professional: 4800  \n",
       " 3rd Qu.:48.00   3rd Qu.:13.00                         Sales       : 4230  \n",
       " Max.   :90.00   Max.   :16.00                         Service     : 3891  \n",
       "                                                       White-Collar: 4793  \n",
       "    origEthn         sex          hoursWeek      income       LcapitalGain    \n",
       " CaucNo : 5001   Female:11553   Min.   : 1.00   incB:26831   Min.   : 0.0000  \n",
       " CaucYes:30771   Male  :24219   1st Qu.:40.00   incH: 8941   1st Qu.: 0.0000  \n",
       "                                Median :40.00                Median : 0.0000  \n",
       "                                Mean   :41.16                Mean   : 0.7468  \n",
       "                                3rd Qu.:45.00                3rd Qu.: 0.0000  \n",
       "                                Max.   :99.00                Max.   :11.5129  \n",
       "                                                                              \n",
       "  LcapitalLoss         child      \n",
       " Min.   :0.0000   ChildNo :30785  \n",
       " 1st Qu.:0.0000   ChildYes: 4987  \n",
       " Median :0.0000                   \n",
       " Mean   :0.3566                   \n",
       " 3rd Qu.:0.0000                   \n",
       " Max.   :8.3795                   \n",
       "                                  "
      ]
     },
     "metadata": {},
     "output_type": "display_data"
    }
   ],
   "source": [
    "summary(datApp)"
   ]
  },
  {
   "cell_type": "code",
   "execution_count": 21,
   "metadata": {
    "ExecuteTime": {
     "end_time": "2020-03-22T10:28:21.456485Z",
     "start_time": "2020-03-22T10:28:17.386Z"
    }
   },
   "outputs": [],
   "source": [
    "help(randomForest)"
   ]
  },
  {
   "cell_type": "code",
   "execution_count": 22,
   "metadata": {
    "ExecuteTime": {
     "end_time": "2020-03-22T10:28:45.310732Z",
     "start_time": "2020-03-22T10:28:17.391Z"
    }
   },
   "outputs": [
    {
     "name": "stderr",
     "output_type": "stream",
     "text": [
      "randomForest 4.6-14\n",
      "Type rfNews() to see new features/changes/bug fixes.\n"
     ]
    },
    {
     "data": {
      "text/plain": [
       "       \n",
       "pred.rf incB incH\n",
       "   incB 6292  870\n",
       "   incH  388 1393"
      ]
     },
     "metadata": {},
     "output_type": "display_data"
    },
    {
     "data": {
      "text/html": [
       "14.07"
      ],
      "text/latex": [
       "14.07"
      ],
      "text/markdown": [
       "14.07"
      ],
      "text/plain": [
       "[1] 14.07"
      ]
     },
     "metadata": {},
     "output_type": "display_data"
    }
   ],
   "source": [
    "library(randomForest)\n",
    "rf.mod=randomForest(income~.,data=datApp)\n",
    "pred.rf=predict(rf.mod,newdata=daTest,type=\"response\")\n",
    "confMat=table(pred.rf,daTest$income)\n",
    "confMat\n",
    "tauxErr(confMat)"
   ]
  },
  {
   "cell_type": "markdown",
   "metadata": {},
   "source": [
    "**Q** Comparer les résultats obtenus, précision et explicabilité.\n",
    "\n",
    "Les calculs peuvent également être conduits en considérant l'origine ethnique comme variable sensible (consulter le [calepin plus complet](https://github.com/wikistat/Fair-ML-4-Ethical-AI/blob/master/AdultCensus/AdultCensus-R-biasDetectionLong.ipynb)) mais les résultats sont moins nets, moins \"pédagogiques\".\n",
    "\n",
    "### Modèle de régression sans la variable sexe\n",
    "Une approche très naïve pour construire un apprentissage \"loyal\" consiste à supprimer la variable sensible. Le modèle de régression logistique est donc estimé sans cette variable afin d'évaluer par la suite l'impact sur le biais."
   ]
  },
  {
   "cell_type": "code",
   "execution_count": 23,
   "metadata": {
    "ExecuteTime": {
     "end_time": "2020-03-22T10:28:45.691895Z",
     "start_time": "2020-03-22T10:28:17.460Z"
    }
   },
   "outputs": [],
   "source": [
    "# estimation du modèle \n",
    "log_g.lm=glm(income~.,data=datApp[,-6],family=binomial)"
   ]
  },
  {
   "cell_type": "code",
   "execution_count": 24,
   "metadata": {
    "ExecuteTime": {
     "end_time": "2020-03-22T10:28:45.722613Z",
     "start_time": "2020-03-22T10:28:17.463Z"
    }
   },
   "outputs": [
    {
     "data": {
      "text/plain": [
       "       \n",
       "        incB incH\n",
       "  FALSE 6157  953\n",
       "  TRUE   523 1310"
      ]
     },
     "metadata": {},
     "output_type": "display_data"
    }
   ],
   "source": [
    "# Prévision\n",
    "pred_g.log=predict(log_g.lm,newdata=daTest[,-8],type=\"response\")\n",
    "# Matrice de confusion pour la prévision du \n",
    "# dépassement de seuil\n",
    "confMat=table(pred_g.log>0.5,daTest$income)\n",
    "confMat"
   ]
  },
  {
   "cell_type": "code",
   "execution_count": 25,
   "metadata": {
    "ExecuteTime": {
     "end_time": "2020-03-22T10:28:45.739468Z",
     "start_time": "2020-03-22T10:28:17.468Z"
    }
   },
   "outputs": [
    {
     "data": {
      "text/html": [
       "16.5"
      ],
      "text/latex": [
       "16.5"
      ],
      "text/markdown": [
       "16.5"
      ],
      "text/plain": [
       "[1] 16.5"
      ]
     },
     "metadata": {},
     "output_type": "display_data"
    }
   ],
   "source": [
    "tauxErr(confMat)"
   ]
  },
  {
   "cell_type": "markdown",
   "metadata": {},
   "source": [
    "**Q** que dire de la qualité de prévision sans la variable sexe?"
   ]
  },
  {
   "cell_type": "markdown",
   "metadata": {},
   "source": [
    "## Estimation de l'effet disproportionné\n",
    "### Définition\n",
    "Les mesures de discrimination indirecte ou de groupe sont basées sur un critère d'effet disproportionné ou *disparate / adverse impact* (*DI*) apparu aux USA en 1971 (Barocas et Selbst, 2016) pour détecter des discriminations à l'embauche. Ce critère est défini par le rapport de deux probabilités. La probabilité de bénéficier d'une situation ou décision favorable (revenu élevé, crédit, emploi, logement...) pour une personne du groupe protégé par la loi: femme ou origine non caucasienne, sur la même probabilité pour une personne de l'autre groupe: homme ou origine caucasienne.\n",
    "\n",
    "*Notations*: \n",
    "\n",
    "- $Y$ est la variable cible ou à expliquer, ici le revenu, $Y=1$ revenu élevé *vs* $Y=0$; \n",
    "- $g(X)=\\hat{Y}$ le score élevé ou faible ou prévision du revenu, $g(X)=\\hat{Y}=0$: prévision d'un revenu faible;\n",
    "- $S$ est la variable sensible qui désigne le groupe en principe protégé par la loi contre une possible discrimination. Il s'agit ici du sexe masculin ($S=1$) ou féminin ($S=0$). \n",
    "\n",
    "L'effet disproportionné mesure une situation de biais de société déjà présent dans la base de données. \n",
    "$$DI=\\frac{P(Y=1|S=0)}{P(Y=1|S=1)}.$$\n",
    "Il est estimé à partir des valeurs de la table de contingence croisant les variables $Y$ et $S$ par le rapport:\n",
    "$$\\frac{n_{21}}{(n_{11}+n_{21})}/\\frac{n_{22}}{(n_{12}+n_{22})}.$$\n",
    "\n",
    "Appliqué à la prévision $g(X)=\\hat{Y}$ de la variable cible $Y$, il mesure le biais de cette prévision et donc le risque de discrimination opéré par la prévision.\n",
    "\n",
    "### Fonction `dispImp`\n",
    "Une fonction R calcule le $DI$ et fournit de plus une estimation par intervalle de confiance (Besse et al. 2018) décomposant la fonction de densité de la statistique de test par la *delta method*. Cette fonction a trois arguments:   \n",
    "- la variable $S$ considérée comme sensible: un facteur à deux niveaux ordonnés \"défavorable\" puis \"favorable\";\n",
    "- la variable cible $Y$ ou sa prévision $g(X)=\\hat{Y}$: également un facteur à deux niveaux défavorable puis favorable;\n",
    "- le risque de l'intervalle de confiance, par défaut 5%.\n",
    "\n",
    "Cette fonction renvoie les trois estimations $DI$ et $IC_g$, $IC_d$ bornes de l'intervalle de confiance."
   ]
  },
  {
   "cell_type": "code",
   "execution_count": 26,
   "metadata": {
    "ExecuteTime": {
     "end_time": "2020-03-22T10:28:45.760439Z",
     "start_time": "2020-03-22T10:28:17.604Z"
    }
   },
   "outputs": [],
   "source": [
    "source(\"../Functions/dispImp.R\")"
   ]
  },
  {
   "cell_type": "markdown",
   "metadata": {},
   "source": [
    "### Effet disproportionné ou biais de la base d'apprentissage\n",
    "Calculé sur les données initiales, le *disparate impact* ou effet disproportionné met en évidence un biais social fort. La fonction `dispImp` nécessite que les niveaux des facteurs soient dans l'ordre lexicographique: niveaux \"défavorable\" puis \"favorable\".\n",
    "\n",
    "Table de contingence croisant $Y$ (revenu) avec $S$ (sexe)."
   ]
  },
  {
   "cell_type": "code",
   "execution_count": 27,
   "metadata": {
    "ExecuteTime": {
     "end_time": "2020-03-22T10:28:45.780646Z",
     "start_time": "2020-03-22T10:28:17.674Z"
    }
   },
   "outputs": [
    {
     "data": {
      "text/plain": [
       "      \n",
       "       Female  Male\n",
       "  incB  12781 20730\n",
       "  incH   1669  9535"
      ]
     },
     "metadata": {},
     "output_type": "display_data"
    }
   ],
   "source": [
    "tableDI=table(datBas$income,datBas$sex)\n",
    "tableDI"
   ]
  },
  {
   "cell_type": "markdown",
   "metadata": {},
   "source": [
    "*Estimation ponctuelle* de $DI=\\frac{n_{21}}{(n_{11}+n_{21})}/\\frac{n_{22}}{(n_{12}+n_{22})}.$"
   ]
  },
  {
   "cell_type": "code",
   "execution_count": 28,
   "metadata": {
    "ExecuteTime": {
     "end_time": "2020-03-22T10:28:45.803362Z",
     "start_time": "2020-03-22T10:28:17.735Z"
    }
   },
   "outputs": [
    {
     "data": {
      "text/html": [
       "0.367"
      ],
      "text/latex": [
       "0.367"
      ],
      "text/markdown": [
       "0.367"
      ],
      "text/plain": [
       "[1] 0.367"
      ]
     },
     "metadata": {},
     "output_type": "display_data"
    }
   ],
   "source": [
    "round((tableDI[2,1]/(tableDI[1,1]+tableDI[2,1]))/(tableDI[2,2]/(tableDI[1,2]+tableDI[2,2])),3)"
   ]
  },
  {
   "cell_type": "markdown",
   "metadata": {},
   "source": [
    "*Estimation par intervalle de confiance* approché par *delta method*. "
   ]
  },
  {
   "cell_type": "code",
   "execution_count": 29,
   "metadata": {
    "ExecuteTime": {
     "end_time": "2020-03-22T10:28:45.860878Z",
     "start_time": "2020-03-22T10:28:17.797Z"
    }
   },
   "outputs": [
    {
     "data": {
      "text/html": [
       "<ol class=list-inline>\n",
       "\t<li>0.349</li>\n",
       "\t<li>0.367</li>\n",
       "\t<li>0.384</li>\n",
       "</ol>\n"
      ],
      "text/latex": [
       "\\begin{enumerate*}\n",
       "\\item 0.349\n",
       "\\item 0.367\n",
       "\\item 0.384\n",
       "\\end{enumerate*}\n"
      ],
      "text/markdown": [
       "1. 0.349\n",
       "2. 0.367\n",
       "3. 0.384\n",
       "\n",
       "\n"
      ],
      "text/plain": [
       "[1] 0.349 0.367 0.384"
      ]
     },
     "metadata": {},
     "output_type": "display_data"
    }
   ],
   "source": [
    "round(dispImp(datBas[,\"sex\"],datBas[,\"income\"]),3)"
   ]
  },
  {
   "cell_type": "markdown",
   "metadata": {},
   "source": [
    "*Estimation bootstrap de l'intervalle de confiance*\n",
    "\n",
    "L'estimation approchée par la *delta method* est comparée à une estimation *bootstrap* (Efron 1987) de l'intervalle de confiance. L'estimation du *DI* est instable mais les estimations sur des échantillons bootstrap restent bien dans la zone de risque contrôlée par l'intervalle de confiance. "
   ]
  },
  {
   "cell_type": "code",
   "execution_count": 30,
   "metadata": {
    "ExecuteTime": {
     "end_time": "2020-03-22T10:28:47.552814Z",
     "start_time": "2020-03-22T10:28:17.862Z"
    }
   },
   "outputs": [],
   "source": [
    "B=1000 \n",
    "set.seed(11)\n",
    "n=nrow(datBas)\n",
    "res=matrix(0,B,3)\n",
    "for (i in 1:B)\n",
    "    {\n",
    "    boot=sample(n,n,replace=T)\n",
    "    res[i,]=dispImp(datBas[boot,\"sex\"],datBas[boot,\"income\"])\n",
    "    }"
   ]
  },
  {
   "cell_type": "code",
   "execution_count": 31,
   "metadata": {
    "ExecuteTime": {
     "end_time": "2020-03-22T10:28:47.666234Z",
     "start_time": "2020-03-22T10:28:17.866Z"
    }
   },
   "outputs": [
    {
     "data": {
      "image/png": "[encoded data removed]",
      "text/plain": [
       "plot without title"
      ]
     },
     "metadata": {},
     "output_type": "display_data"
    }
   ],
   "source": [
    "options(repr.plot.width=5, repr.plot.height=4)\n",
    "plot(res[,2],ylim=c(0.3,0.45),pch='.')\n",
    "lines(res[,2],col=3,pch='.')\n",
    "abline(h=0.343,col=2)\n",
    "abline(h=0.386,col=2)"
   ]
  },
  {
   "cell_type": "markdown",
   "metadata": {},
   "source": [
    "Une fonction de la librairie `boot` fournit une estimation bootstrap de l'intervalle de confiance un peu longue à exécuter."
   ]
  },
  {
   "cell_type": "code",
   "execution_count": 32,
   "metadata": {
    "ExecuteTime": {
     "end_time": "2020-03-22T10:29:27.828668Z",
     "start_time": "2020-03-22T10:28:17.936Z"
    }
   },
   "outputs": [
    {
     "data": {
      "text/plain": [
       "\n",
       "ORDINARY NONPARAMETRIC BOOTSTRAP\n",
       "\n",
       "\n",
       "Call:\n",
       "boot(data = datBas, statistic = fc, R = 1000)\n",
       "\n",
       "\n",
       "Bootstrap Statistics :\n",
       "     original        bias    std. error\n",
       "t1* 0.3666135 -0.0001896611 0.009193644"
      ]
     },
     "metadata": {},
     "output_type": "display_data"
    }
   ],
   "source": [
    "library(boot)\n",
    "fc <- function(d, i){ \n",
    "    d2 <- d[i,]\n",
    "    return(statistic=dispImp(d2$sex,d2$income)[2])\n",
    "}\n",
    "set.seed(11)\n",
    "bootDI <- boot(datBas,fc, R=1000)\n",
    "bootDI"
   ]
  },
  {
   "cell_type": "code",
   "execution_count": 33,
   "metadata": {
    "ExecuteTime": {
     "end_time": "2020-03-22T10:29:27.863623Z",
     "start_time": "2020-03-22T10:28:17.940Z"
    }
   },
   "outputs": [
    {
     "data": {
      "text/plain": [
       "BOOTSTRAP CONFIDENCE INTERVAL CALCULATIONS\n",
       "Based on 1000 bootstrap replicates\n",
       "\n",
       "CALL : \n",
       "boot.ci(boot.out = bootDI, type = \"perc\")\n",
       "\n",
       "Intervals : \n",
       "Level     Percentile     \n",
       "95%   ( 0.3487,  0.3848 )  \n",
       "Calculations and Intervals on Original Scale"
      ]
     },
     "metadata": {},
     "output_type": "display_data"
    }
   ],
   "source": [
    "boot.ci(boot.out = bootDI, type = \"perc\")"
   ]
  },
  {
   "cell_type": "markdown",
   "metadata": {},
   "source": [
    "Comme attendu, l'intervalle de confiance issu de l'approximation par *delta method*: $[0.349, 0.384]$ se confond avec  celui obtenu par estimation bootstrap: $[0.349, 0.385]$.\n",
    "\n",
    "***NB*** Compte tenu des temps de calcul, l'estimation approchée de l'IC par *delta method* est à privilégier!\n",
    "\n",
    "***Ajouter: comparaison avec la version d'IC*** de  Morris S., Lobsenz R. (2000)"
   ]
  },
  {
   "cell_type": "markdown",
   "metadata": {},
   "source": [
    "### Effet disproportionné des prévisions \n",
    "Le même ratio ou impact disproportionné calculé sur les prévisions $g(X)$ de $Y$ plutôt que sur $Y$ mesure explicitement l'effet de la prévision. Il revient à tester l'égalité des taux de prévision favorable. \n",
    "\n",
    "La valeur seuil de la probabilité pour prédire le niveau de revenu est fixée par défaut à 0.5.\n",
    "\n",
    "#### Régression logistique"
   ]
  },
  {
   "cell_type": "code",
   "execution_count": 34,
   "metadata": {
    "ExecuteTime": {
     "end_time": "2020-03-22T10:29:27.879555Z",
     "start_time": "2020-03-22T10:28:18.095Z"
    }
   },
   "outputs": [],
   "source": [
    "Yhat=as.factor(pred.log>0.5)"
   ]
  },
  {
   "cell_type": "code",
   "execution_count": 35,
   "metadata": {
    "ExecuteTime": {
     "end_time": "2020-03-22T10:29:27.896673Z",
     "start_time": "2020-03-22T10:28:18.101Z"
    }
   },
   "outputs": [
    {
     "data": {
      "text/html": [
       "<ol class=list-inline>\n",
       "\t<li>0.212</li>\n",
       "\t<li>0.248</li>\n",
       "\t<li>0.283</li>\n",
       "</ol>\n"
      ],
      "text/latex": [
       "\\begin{enumerate*}\n",
       "\\item 0.212\n",
       "\\item 0.248\n",
       "\\item 0.283\n",
       "\\end{enumerate*}\n"
      ],
      "text/markdown": [
       "1. 0.212\n",
       "2. 0.248\n",
       "3. 0.283\n",
       "\n",
       "\n"
      ],
      "text/plain": [
       "[1] 0.212 0.248 0.283"
      ]
     },
     "metadata": {},
     "output_type": "display_data"
    }
   ],
   "source": [
    "round(dispImp(daTest[,\"sex\"],Yhat),3)"
   ]
  },
  {
   "cell_type": "markdown",
   "metadata": {},
   "source": [
    "#### *Random Forest*"
   ]
  },
  {
   "cell_type": "code",
   "execution_count": 36,
   "metadata": {
    "ExecuteTime": {
     "end_time": "2020-03-22T10:29:27.926111Z",
     "start_time": "2020-03-22T10:28:18.174Z"
    },
    "scrolled": true
   },
   "outputs": [
    {
     "data": {
      "text/html": [
       "<ol class=list-inline>\n",
       "\t<li>0.329</li>\n",
       "\t<li>0.375</li>\n",
       "\t<li>0.42</li>\n",
       "</ol>\n"
      ],
      "text/latex": [
       "\\begin{enumerate*}\n",
       "\\item 0.329\n",
       "\\item 0.375\n",
       "\\item 0.42\n",
       "\\end{enumerate*}\n"
      ],
      "text/markdown": [
       "1. 0.329\n",
       "2. 0.375\n",
       "3. 0.42\n",
       "\n",
       "\n"
      ],
      "text/plain": [
       "[1] 0.329 0.375 0.420"
      ]
     },
     "metadata": {},
     "output_type": "display_data"
    }
   ],
   "source": [
    "round(dispImp(daTest[,\"sex\"],pred.rf),3)"
   ]
  },
  {
   "cell_type": "markdown",
   "metadata": {},
   "source": [
    "La prévision reproduit et même renforce significativement le biais social pour le sexe avec la régression logistique linéaire car les intervalles de confiance sont disjoints. En revanche, la discrimination n'est pas significative avec la régression logistique quadratique (cf. [calepin long]()), ni pour *random forest*, non linéaires. "
   ]
  },
  {
   "cell_type": "markdown",
   "metadata": {},
   "source": [
    "#### Effet disproportionné des prévisions sans la variable sensible sexe\n",
    "L'approche très naïve qui consiste à supprimer la variable sensible du modèle n'a finalement pas d'effet sur le biais et donc le caractère discriminatoire de l'algorithme."
   ]
  },
  {
   "cell_type": "code",
   "execution_count": 37,
   "metadata": {
    "ExecuteTime": {
     "end_time": "2020-03-22T10:29:27.948769Z",
     "start_time": "2020-03-22T10:28:18.337Z"
    }
   },
   "outputs": [
    {
     "data": {
      "text/html": [
       "<ol class=list-inline>\n",
       "\t<li>0.232</li>\n",
       "\t<li>0.269</li>\n",
       "\t<li>0.305</li>\n",
       "</ol>\n"
      ],
      "text/latex": [
       "\\begin{enumerate*}\n",
       "\\item 0.232\n",
       "\\item 0.269\n",
       "\\item 0.305\n",
       "\\end{enumerate*}\n"
      ],
      "text/markdown": [
       "1. 0.232\n",
       "2. 0.269\n",
       "3. 0.305\n",
       "\n",
       "\n"
      ],
      "text/plain": [
       "[1] 0.232 0.269 0.305"
      ]
     },
     "metadata": {},
     "output_type": "display_data"
    }
   ],
   "source": [
    "Yhat_g=as.factor(pred_g.log>0.5)\n",
    "round(dispImp(daTest[,\"sex\"],Yhat_g),3)"
   ]
  },
  {
   "cell_type": "markdown",
   "metadata": {},
   "source": [
    "De même que les erreurs de prévisions restent stables, l'effet disproportionné n'est pas statistiquement affecté par la suppression de la variable sensible du modèle. Le déterminisme social est plus fort que la présence de la variable sensible: *une femme travaille de toute façon moins ou de façon moins qualifiée quelque soit son niveau d'éducation*. La suppression de la variable sensible n'impacte donc pas la modélisation. \n",
    "\n",
    "La régression logistique linéaire renforce de façon importante voire statistiquement significative le bais déjà présent dans les données. Ce n'est pas le cas de *random forest* sur cet échantillon test.  Plus précisément, Friedler et al. (2019) mettent en oeuvre une comparaison exhaustive de plusieurs algorithmes de débiaisage sur 5 jeux de données publics dont celles issues du recensement `adultCensus`. Les résultats sont comparés avec ceux \"*base line*\" d'algorithmes d'apprentissage classique (SVM, logistique, arbre de décision, bayésien naïf). Les résultats affichés mettent en évidence une forte disparité des *DI* calculés pour ces différents algorithmes ainsi que pour différentes extractions d'échantillons tests.\n",
    "\n",
    "Le [calepin long]() vérifie ces résultats en considérant (validation croisée *Monte Carlo*) 20 réplications de la séparation des échantillons d'apprentissage et de test sur lesquels sont entraînés trois algorithmes: logistique linéaire, arbre de décision, *random forest*, avant d'évaluer le DI observé sur la prévision de l'échantillon test. \n",
    "\n",
    "Comme attendu, la précision dépend fortement de l'algorithme choisie mais aussi, c'est important et moins attendu, l'estimation du *DI*. De façon relativement contre-intuitive, meilleure est la précision et moins le biais est renforcé par rapport à celui `DIbase` des données d'entraînement. Mais, pour un algorithme donné, le *DI* n'est pas corrélé à la précision sur un échantillon d'apprentissage.\n",
    "\n",
    "**En résumé** les forêts aléatoire apportent deux avantages par rapport à la régression logistique: meilleure prévision et moindre discrimination mais au prix évidemment de l'interprétabilité.\n",
    "\n",
    "**Attention** comme le rappelle Friedler et al. (2019) les résultats et conclusions peuvent changer d'un jeu de données à un autre. C'est déjà bien connu en ce qui concerne la précision de la prévision, il est nécessaire de l'intégrer dans la gestion du biais."
   ]
  },
  {
   "cell_type": "markdown",
   "metadata": {},
   "source": [
    "### Effet disproportionné *vs. Testing*\n",
    "#### Enquête commanditée par la DARES\n",
    "Le *testing* (Riach et Rich 2002) est une méthode usuelle déployée par la ([DARES](http://dares.travail-emploi.gouv.fr/dares-etudes-et-statistiques/etudes-et-syntheses/dares-analyses-dares-indicateurs-dares-resultats/testing)) du Ministère du Travail permettant de détecter une discrimination *directe* généralement opérée par un humain (cf. [article Le Monde 2020](https://www.lemonde.fr/societe/article/2020/01/08/une-etude-montre-des-discriminations-a-l-embauche-significatives-en-fonction-de-l-origine_6025227_3224.html)). Il consiste à évaluer la variabilité d'une décision lorsque seule la modalité de la variable sensible est modifiée. \n",
    "\n",
    "Les calculs ci-dessous permettent de reproduire les résultats globaux de l'enquête."
   ]
  },
  {
   "cell_type": "code",
   "execution_count": 38,
   "metadata": {
    "ExecuteTime": {
     "end_time": "2020-03-22T10:29:27.993612Z",
     "start_time": "2020-03-22T10:28:18.519Z"
    }
   },
   "outputs": [
    {
     "data": {
      "text/plain": [
       "          origine\n",
       "reponse    Maghreb France\n",
       "  Negative    4535   4375\n",
       "  Positive     465    625"
      ]
     },
     "metadata": {},
     "output_type": "display_data"
    }
   ],
   "source": [
    "origine.i=matrix(0,10000,1);reponse.i=matrix(0,10000,1)\n",
    "origine.i[4536:8910]=1;origine.i[9376:10000]=1\n",
    "reponse.i[8911:10000]=1\n",
    "origine=factor(origine.i,labels=c(\"Maghreb\",\"France\"))\n",
    "reponse=factor(reponse.i,labels=c(\"Negative\",\"Positive\"))\n",
    "table(reponse, origine)"
   ]
  },
  {
   "cell_type": "code",
   "execution_count": 39,
   "metadata": {
    "ExecuteTime": {
     "end_time": "2020-03-22T10:29:28.027490Z",
     "start_time": "2020-03-22T10:28:18.524Z"
    }
   },
   "outputs": [
    {
     "data": {
      "text/html": [
       "9.3"
      ],
      "text/latex": [
       "9.3"
      ],
      "text/markdown": [
       "9.3"
      ],
      "text/plain": [
       "[1] 9.3"
      ]
     },
     "metadata": {},
     "output_type": "display_data"
    },
    {
     "data": {
      "text/html": [
       "12.5"
      ],
      "text/latex": [
       "12.5"
      ],
      "text/markdown": [
       "12.5"
      ],
      "text/plain": [
       "[1] 12.5"
      ]
     },
     "metadata": {},
     "output_type": "display_data"
    },
    {
     "data": {
      "text/html": [
       "0.744"
      ],
      "text/latex": [
       "0.744"
      ],
      "text/markdown": [
       "0.744"
      ],
      "text/plain": [
       "[1] 0.744"
      ]
     },
     "metadata": {},
     "output_type": "display_data"
    }
   ],
   "source": [
    "100*465/5000;100*625/5000; 465/625"
   ]
  },
  {
   "cell_type": "markdown",
   "metadata": {},
   "source": [
    "Les ratios sont bien ceux de l'enquête. Il y a de très nombreuses façons de les comparer afin de conclure ou non à une discirmination jugée significative. Que donne l'évaluation de l'effet disproportionné?"
   ]
  },
  {
   "cell_type": "code",
   "execution_count": 40,
   "metadata": {
    "ExecuteTime": {
     "end_time": "2020-03-22T10:29:28.088088Z",
     "start_time": "2020-03-22T10:28:18.607Z"
    }
   },
   "outputs": [
    {
     "data": {
      "image/png": "[encoded data removed]",
      "text/plain": [
       "Plot with title “”"
      ]
     },
     "metadata": {},
     "output_type": "display_data"
    }
   ],
   "source": [
    "options(repr.plot.width=4, repr.plot.height=4)\n",
    "mosaicplot(table(origine,reponse),main=\"\",col=\"lightblue\",cex=1.3)"
   ]
  },
  {
   "cell_type": "code",
   "execution_count": 41,
   "metadata": {
    "ExecuteTime": {
     "end_time": "2020-03-22T10:29:28.124484Z",
     "start_time": "2020-03-22T10:28:18.613Z"
    }
   },
   "outputs": [
    {
     "data": {
      "text/html": [
       "<ol class=list-inline>\n",
       "\t<li>0.66</li>\n",
       "\t<li>0.744</li>\n",
       "\t<li>0.828</li>\n",
       "</ol>\n"
      ],
      "text/latex": [
       "\\begin{enumerate*}\n",
       "\\item 0.66\n",
       "\\item 0.744\n",
       "\\item 0.828\n",
       "\\end{enumerate*}\n"
      ],
      "text/markdown": [
       "1. 0.66\n",
       "2. 0.744\n",
       "3. 0.828\n",
       "\n",
       "\n"
      ],
      "text/plain": [
       "[1] 0.660 0.744 0.828"
      ]
     },
     "metadata": {},
     "output_type": "display_data"
    }
   ],
   "source": [
    "round(dispImp(origine,reponse),3)"
   ]
  },
  {
   "cell_type": "markdown",
   "metadata": {},
   "source": [
    "Globalement et au regard de la loi américaine, cette enquête de *testing*, par ailleurs sujette à de très nombreuses critiques, ne met pas en évidence une discrimination statistiquement significative. Bien entendu, il s'agit d'un résultat moyen et l'effet disproportionné peut l'être pour certaines entreprises. Attention, même avec 10 000 CVs envoyés, l'intervalle de confiance est relativement grand (14 points); pour une entreprise donnée recevant moins de CVs, celui-ci devrait être encore plus grand; la significativité statistique est difficile à assurer."
   ]
  },
  {
   "cell_type": "markdown",
   "metadata": {},
   "source": [
    "#### *Testing* d'un algorithme d'apprentissage\n",
    "Que se passe-t-il si le *testing* est appliqué à une décision automatique pilotée par un algorithme d'apprentissage? \n",
    "\n",
    "Les prévisions de revenu sont calculées pour les mêmes personnes de l'échantillon test en prenant en compte le sexe initial puis le sexe opposé. Dans ce cas, une femme pour laquelle la prévision de revenu ou solvabilité change lorsque la variable sexe passe de `Female` à `Male` serait en droit d'intenter une action en justice pour discrimination directe. En revanche l'estimation de la dicrimination indirecte par ce procédé est nettement inadaptée."
   ]
  },
  {
   "cell_type": "code",
   "execution_count": 42,
   "metadata": {
    "ExecuteTime": {
     "end_time": "2020-03-22T10:29:28.161744Z",
     "start_time": "2020-03-22T10:28:18.769Z"
    }
   },
   "outputs": [],
   "source": [
    "daTest2=daTest\n",
    "# Changement de genre\n",
    "daTest2$sex=as.factor(ifelse(daTest$sex==\"Male\",\"Female\",\"Male\"))\n",
    "# Prévision du \"nouvel\" échantillon test\n",
    "pred2.log=predict(log.lm,daTest2,type=\"response\")\n",
    "Yhat2=as.factor(pred2.log>0.5)"
   ]
  },
  {
   "cell_type": "code",
   "execution_count": 43,
   "metadata": {
    "ExecuteTime": {
     "end_time": "2020-03-22T10:29:28.181824Z",
     "start_time": "2020-03-22T10:28:18.773Z"
    }
   },
   "outputs": [
    {
     "data": {
      "text/plain": [
       "       Yhat2\n",
       "Yhat    FALSE TRUE\n",
       "  FALSE  7081   23\n",
       "  TRUE    155 1684"
      ]
     },
     "metadata": {},
     "output_type": "display_data"
    }
   ],
   "source": [
    "table(Yhat,Yhat2)"
   ]
  },
  {
   "cell_type": "code",
   "execution_count": 44,
   "metadata": {
    "ExecuteTime": {
     "end_time": "2020-03-22T10:29:28.221105Z",
     "start_time": "2020-03-22T10:28:18.776Z"
    }
   },
   "outputs": [
    {
     "data": {
      "text/plain": [
       ", ,  = Female\n",
       "\n",
       "       Yhat2\n",
       "Yhat    FALSE TRUE\n",
       "  FALSE  2679   23\n",
       "  TRUE      0  195\n",
       "\n",
       ", ,  = Male\n",
       "\n",
       "       Yhat2\n",
       "Yhat    FALSE TRUE\n",
       "  FALSE  4402    0\n",
       "  TRUE    155 1489\n"
      ]
     },
     "metadata": {},
     "output_type": "display_data"
    }
   ],
   "source": [
    "# répartition par genre\n",
    "table(Yhat,Yhat2,daTest$sex)"
   ]
  },
  {
   "cell_type": "markdown",
   "metadata": {},
   "source": [
    "**N.B.** Il y a 178 personnes dont la prévision de revenu change lorsqu'elles changent de genre. Et le changement est dans le sens attendu.\n",
    "- 23 femmes passent d'une prévision de revenu faible à une prévision de revenu élevé\n",
    "- 155 hommes prennnent le chemin inverse  lorsqu'ils deviennent des femmes; ces hommes bénificient donc d'une discrimination positive.\n",
    "\n",
    "Quels résultats fourniraient une enquête par testing consistant à envoyer deux fois les \"dossiers\" à l'algoritme, une fois pour chaque sexe. Il faut donc considérer deux fois plus de personnes en concaténant les deux prévisions. Ceci conduit à une table de contingence: . "
   ]
  },
  {
   "cell_type": "code",
   "execution_count": 45,
   "metadata": {
    "ExecuteTime": {
     "end_time": "2020-03-22T10:29:28.270819Z",
     "start_time": "2020-03-22T10:28:18.848Z"
    }
   },
   "outputs": [
    {
     "data": {
      "image/png": "[encoded data removed]",
      "text/plain": [
       "Plot with title “”"
      ]
     },
     "metadata": {},
     "output_type": "display_data"
    }
   ],
   "source": [
    "# fonction de concaténation de deux vecteurs de type factor\n",
    "c.factor <- function(..., recursive=TRUE) unlist(list(...), recursive=recursive) \n",
    "Yhat=factor(Yhat,labels=c(\"incB\",\"incH\")); Yhat2=factor(Yhat2,labels=c(\"incB\",\"incH\"))\n",
    "mosaicplot(table(c.factor(daTest$sex,daTest2[,\"sex\"]),c.factor(Yhat,Yhat2)),main=\"\",col=\"lightblue\",cex=.8)"
   ]
  },
  {
   "cell_type": "code",
   "execution_count": 46,
   "metadata": {
    "ExecuteTime": {
     "end_time": "2020-03-22T10:29:28.288632Z",
     "start_time": "2020-03-22T10:28:18.852Z"
    }
   },
   "outputs": [
    {
     "data": {
      "text/html": [
       "<ol class=list-inline>\n",
       "\t<li>0.851</li>\n",
       "\t<li>0.904</li>\n",
       "\t<li>0.958</li>\n",
       "</ol>\n"
      ],
      "text/latex": [
       "\\begin{enumerate*}\n",
       "\\item 0.851\n",
       "\\item 0.904\n",
       "\\item 0.958\n",
       "\\end{enumerate*}\n"
      ],
      "text/markdown": [
       "1. 0.851\n",
       "2. 0.904\n",
       "3. 0.958\n",
       "\n",
       "\n"
      ],
      "text/plain": [
       "[1] 0.851 0.904 0.958"
      ]
     },
     "metadata": {},
     "output_type": "display_data"
    }
   ],
   "source": [
    "round(dispImp(c.factor(daTest$sex,daTest2[,\"sex\"]),c.factor(Yhat,Yhat2)),3)"
   ]
  },
  {
   "cell_type": "markdown",
   "metadata": {
    "ExecuteTime": {
     "end_time": "2020-02-23T08:07:02.630240Z",
     "start_time": "2020-02-23T08:07:02.496Z"
    }
   },
   "source": [
    "Une conclusion très intuitive: le *testing* est adapté à détecter une discrimination directe, intentionnelle, opérée par un ou des humains envers un individu donné. Cette démarche sous-estime gravement la discrimination indirecte lorsqu'elle est cherche à évaluer un algorithme."
   ]
  },
  {
   "cell_type": "markdown",
   "metadata": {},
   "source": [
    "#### *Testing* et prévision \"déloyale\" \n",
    "Une façon simple pour une entreprise de se prémunir contre une opération de *testing* consiste à fixer comme probablité prédite le maximum des deux probablités obtenues en échangeant les modalités de la variable sensible. De façon générale, choisir la situation la plus favorable pour la personne quelque soit le sexe observé. La discrimination individuelle repérable par *testing* est neutralisée et l'influence sur le taux d'erreur quasi négligeable. "
   ]
  },
  {
   "cell_type": "code",
   "execution_count": 47,
   "metadata": {
    "ExecuteTime": {
     "end_time": "2020-03-22T10:29:28.327315Z",
     "start_time": "2020-03-22T10:28:19.012Z"
    }
   },
   "outputs": [
    {
     "data": {
      "text/plain": [
       "       \n",
       "        incB incH\n",
       "  FALSE 6145  936\n",
       "  TRUE   535 1327"
      ]
     },
     "metadata": {},
     "output_type": "display_data"
    },
    {
     "data": {
      "text/html": [
       "16.45"
      ],
      "text/latex": [
       "16.45"
      ],
      "text/markdown": [
       "16.45"
      ],
      "text/plain": [
       "[1] 16.45"
      ]
     },
     "metadata": {},
     "output_type": "display_data"
    }
   ],
   "source": [
    "fairPredictGenre=ifelse(pred.log<pred2.log,pred2.log,pred.log)\n",
    "confMat=table(fairPredictGenre>0.5,daTest$income)\n",
    "confMat;tauxErr(confMat)"
   ]
  },
  {
   "cell_type": "code",
   "execution_count": 48,
   "metadata": {
    "ExecuteTime": {
     "end_time": "2020-03-22T10:29:28.356015Z",
     "start_time": "2020-03-22T10:28:19.015Z"
    }
   },
   "outputs": [
    {
     "data": {
      "text/html": [
       "<ol class=list-inline>\n",
       "\t<li>0.212</li>\n",
       "\t<li>0.248</li>\n",
       "\t<li>0.283</li>\n",
       "</ol>\n"
      ],
      "text/latex": [
       "\\begin{enumerate*}\n",
       "\\item 0.212\n",
       "\\item 0.248\n",
       "\\item 0.283\n",
       "\\end{enumerate*}\n"
      ],
      "text/markdown": [
       "1. 0.212\n",
       "2. 0.248\n",
       "3. 0.283\n",
       "\n",
       "\n"
      ],
      "text/plain": [
       "[1] 0.212 0.248 0.283"
      ]
     },
     "metadata": {},
     "output_type": "display_data"
    },
    {
     "data": {
      "text/html": [
       "<ol class=list-inline>\n",
       "\t<li>0.24</li>\n",
       "\t<li>0.277</li>\n",
       "\t<li>0.314</li>\n",
       "</ol>\n"
      ],
      "text/latex": [
       "\\begin{enumerate*}\n",
       "\\item 0.24\n",
       "\\item 0.277\n",
       "\\item 0.314\n",
       "\\end{enumerate*}\n"
      ],
      "text/markdown": [
       "1. 0.24\n",
       "2. 0.277\n",
       "3. 0.314\n",
       "\n",
       "\n"
      ],
      "text/plain": [
       "[1] 0.240 0.277 0.314"
      ]
     },
     "metadata": {},
     "output_type": "display_data"
    }
   ],
   "source": [
    "round(dispImp(daTest$sex,as.factor(pred.log>0.5)),3)\n",
    "round(dispImp(daTest$sex,as.factor(fairPredictGenre>0.5)),3)"
   ]
  },
  {
   "cell_type": "markdown",
   "metadata": {},
   "source": [
    "Cette procédure masque de façon intentionnelle la discrimination directe tout en favorisant une discrimination indirecte, elle est clairement condamnable."
   ]
  },
  {
   "cell_type": "markdown",
   "metadata": {},
   "source": [
    "## Expliquer, atténuer la discrimination ?\n",
    "De façon notable, le modèle de régression logistique reproduit le biais social et le renforce en introduisant donc de la discrimination; c'est moins net pour l'algorithme des forêts aléatoires,  Est-il possible d'expliquer ce comportement ou plus précisément d'utiliser le bon modèle ou bon algorithme qui l'évite? Le [calepin long]() compare différents algorithmes selon diverses situations notamment en attribuant sans succès plus de poids aux femmes afin de compenser leur sous-représentation. Une version plus efficace consiste à estimer deux modèles ou entrâiner deux algorithmes, l'un pour les femmes et l'autre pour les hommes dans les deux cas de la régression logistique et des forêts aléatoires.\n",
    "\n",
    "### Séparation des deux échantillons\n",
    "Les échantillons sont séparés en deux parties."
   ]
  },
  {
   "cell_type": "code",
   "execution_count": 49,
   "metadata": {
    "ExecuteTime": {
     "end_time": "2020-03-22T10:29:28.411876Z",
     "start_time": "2020-03-22T10:28:19.197Z"
    }
   },
   "outputs": [
    {
     "data": {
      "text/plain": [
       "      age           educNum               mariStat              occup      \n",
       " Min.   :18.00   Min.   : 1.00   Married      :15053   Admin       : 1448  \n",
       " 1st Qu.:30.00   1st Qu.: 9.00   Never-Married: 6286   Blue-Collar :10508  \n",
       " Median :38.00   Median :10.00   Not-Married  : 2684   Other-occups: 1366  \n",
       " Mean   :39.49   Mean   :10.16   Widowed      :  196   Professional: 3038  \n",
       " 3rd Qu.:48.00   3rd Qu.:13.00                         Sales       : 2768  \n",
       " Max.   :90.00   Max.   :16.00                         Service     : 1657  \n",
       "                                                       White-Collar: 3434  \n",
       "    origEthn         sex          hoursWeek      income       LcapitalGain    \n",
       " CaucNo : 2767   Female:    0   Min.   : 1.00   incB:16599   Min.   : 0.0000  \n",
       " CaucYes:21452   Male  :24219   1st Qu.:40.00   incH: 7620   1st Qu.: 0.0000  \n",
       "                                Median :40.00                Median : 0.0000  \n",
       "                                Mean   :43.06                Mean   : 0.8756  \n",
       "                                3rd Qu.:50.00                3rd Qu.: 0.0000  \n",
       "                                Max.   :99.00                Max.   :11.5129  \n",
       "                                                                              \n",
       "  LcapitalLoss         child      \n",
       " Min.   :0.0000   ChildNo :21431  \n",
       " 1st Qu.:0.0000   ChildYes: 2788  \n",
       " Median :0.0000                   \n",
       " Mean   :0.4026                   \n",
       " 3rd Qu.:0.0000                   \n",
       " Max.   :8.2351                   \n",
       "                                  "
      ]
     },
     "metadata": {},
     "output_type": "display_data"
    }
   ],
   "source": [
    "datAppF=datApp[datApp[,\"sex\"]=='Female',]\n",
    "datAppM=datApp[datApp[,\"sex\"]=='Male',]\n",
    "daTestF=daTest[daTest[,\"sex\"]=='Female',]\n",
    "daTestM=daTest[daTest[,\"sex\"]=='Male',,]\n",
    "summary(datAppM)"
   ]
  },
  {
   "cell_type": "markdown",
   "metadata": {},
   "source": [
    "### Régression logistique"
   ]
  },
  {
   "cell_type": "code",
   "execution_count": 50,
   "metadata": {
    "ExecuteTime": {
     "end_time": "2020-03-22T10:29:29.016959Z",
     "start_time": "2020-03-22T10:28:19.307Z"
    }
   },
   "outputs": [
    {
     "data": {
      "text/plain": [
       "\n",
       "Call:\n",
       "glm(formula = income ~ ., family = binomial, data = datAppF[, \n",
       "    -6])\n",
       "\n",
       "Deviance Residuals: \n",
       "    Min       1Q   Median       3Q      Max  \n",
       "-2.7599  -0.3155  -0.1702  -0.0857   3.2486  \n",
       "\n",
       "Coefficients:\n",
       "                       Estimate Std. Error z value Pr(>|z|)    \n",
       "(Intercept)           -6.630302   0.329682 -20.111  < 2e-16 ***\n",
       "age                    0.028243   0.003632   7.776 7.51e-15 ***\n",
       "educNum                0.344333   0.022115  15.570  < 2e-16 ***\n",
       "mariStatNever-Married -3.234358   0.109992 -29.405  < 2e-16 ***\n",
       "mariStatNot-Married   -3.184526   0.104019 -30.615  < 2e-16 ***\n",
       "mariStatWidowed       -3.084459   0.186985 -16.496  < 2e-16 ***\n",
       "occupBlue-Collar      -0.271436   0.170624  -1.591   0.1116    \n",
       "occupOther-occups      0.460846   0.179814   2.563   0.0104 *  \n",
       "occupProfessional      0.506472   0.123034   4.117 3.85e-05 ***\n",
       "occupSales             0.046678   0.150410   0.310   0.7563    \n",
       "occupService          -0.837763   0.168564  -4.970 6.70e-07 ***\n",
       "occupWhite-Collar      0.782616   0.121641   6.434 1.24e-10 ***\n",
       "origEthnCaucYes        0.253472   0.109607   2.313   0.0207 *  \n",
       "hoursWeek              0.031452   0.003454   9.107  < 2e-16 ***\n",
       "LcapitalGain           0.246956   0.013255  18.631  < 2e-16 ***\n",
       "LcapitalLoss           0.150255   0.020517   7.323 2.42e-13 ***\n",
       "childChildYes         -0.866000   0.204983  -4.225 2.39e-05 ***\n",
       "---\n",
       "Signif. codes:  0 ‘***’ 0.001 ‘**’ 0.01 ‘*’ 0.05 ‘.’ 0.1 ‘ ’ 1\n",
       "\n",
       "(Dispersion parameter for binomial family taken to be 1)\n",
       "\n",
       "    Null deviance: 8214.2  on 11552  degrees of freedom\n",
       "Residual deviance: 4639.5  on 11536  degrees of freedom\n",
       "AIC: 4673.5\n",
       "\n",
       "Number of Fisher Scoring iterations: 7\n"
      ]
     },
     "metadata": {},
     "output_type": "display_data"
    },
    {
     "data": {
      "text/plain": [
       "\n",
       "Call:\n",
       "glm(formula = income ~ ., family = binomial, data = datAppM[, \n",
       "    -6])\n",
       "\n",
       "Deviance Residuals: \n",
       "    Min       1Q   Median       3Q      Max  \n",
       "-2.7789  -0.6783  -0.2519   0.6406   3.5811  \n",
       "\n",
       "Coefficients:\n",
       "                       Estimate Std. Error z value Pr(>|z|)    \n",
       "(Intercept)           -5.687860   0.168043 -33.848  < 2e-16 ***\n",
       "age                    0.023581   0.001582  14.902  < 2e-16 ***\n",
       "educNum                0.274213   0.008997  30.480  < 2e-16 ***\n",
       "mariStatNever-Married -2.206630   0.068750 -32.097  < 2e-16 ***\n",
       "mariStatNot-Married   -1.618886   0.065785 -24.609  < 2e-16 ***\n",
       "mariStatWidowed       -1.405521   0.213035  -6.598 4.18e-11 ***\n",
       "occupBlue-Collar      -0.374446   0.078316  -4.781 1.74e-06 ***\n",
       "occupOther-occups      0.346870   0.097294   3.565 0.000364 ***\n",
       "occupProfessional      0.345929   0.087351   3.960 7.49e-05 ***\n",
       "occupSales             0.124214   0.086388   1.438 0.150472    \n",
       "occupService          -1.123745   0.132553  -8.478  < 2e-16 ***\n",
       "occupWhite-Collar      0.604677   0.083371   7.253 4.08e-13 ***\n",
       "origEthnCaucYes        0.158315   0.061333   2.581 0.009845 ** \n",
       "hoursWeek              0.027332   0.001588  17.215  < 2e-16 ***\n",
       "LcapitalGain           0.195010   0.006660  29.279  < 2e-16 ***\n",
       "LcapitalLoss           0.146997   0.009583  15.339  < 2e-16 ***\n",
       "childChildYes         -1.014060   0.151342  -6.700 2.08e-11 ***\n",
       "---\n",
       "Signif. codes:  0 ‘***’ 0.001 ‘**’ 0.01 ‘*’ 0.05 ‘.’ 0.1 ‘ ’ 1\n",
       "\n",
       "(Dispersion parameter for binomial family taken to be 1)\n",
       "\n",
       "    Null deviance: 30165  on 24218  degrees of freedom\n",
       "Residual deviance: 20036  on 24202  degrees of freedom\n",
       "AIC: 20070\n",
       "\n",
       "Number of Fisher Scoring iterations: 6\n"
      ]
     },
     "metadata": {},
     "output_type": "display_data"
    }
   ],
   "source": [
    "# Modèle linéaire\n",
    "reg.log=glm(income~.,data=datApp,family=binomial)\n",
    "# estimation des deux modèles\n",
    "reg.logF=glm(income~.,data=datAppF[,-6],family=binomial)\n",
    "reg.logM=glm(income~.,data=datAppM[,-6],family=binomial)\n",
    "# comparaison des paramètres\n",
    "summary(reg.logF);summary(reg.logM)"
   ]
  },
  {
   "cell_type": "code",
   "execution_count": 51,
   "metadata": {
    "ExecuteTime": {
     "end_time": "2020-03-22T10:29:29.057811Z",
     "start_time": "2020-03-22T10:28:19.312Z"
    }
   },
   "outputs": [],
   "source": [
    "# prévision des modèles\n",
    "yHat=predict(reg.log,newdata=daTest,type=\"response\")\n",
    "yHatF=predict(reg.logF,newdata=daTestF,type=\"response\")\n",
    "yHatM=predict(reg.logM,newdata=daTestM,type=\"response\")\n",
    "# compilation des prévisions\n",
    "yHatFM=c(yHatF,yHatM)"
   ]
  },
  {
   "cell_type": "code",
   "execution_count": 52,
   "metadata": {
    "ExecuteTime": {
     "end_time": "2020-03-22T10:29:29.092408Z",
     "start_time": "2020-03-22T10:28:19.316Z"
    }
   },
   "outputs": [
    {
     "data": {
      "text/html": [
       "<ol class=list-inline>\n",
       "\t<li>8943</li>\n",
       "\t<li>11</li>\n",
       "</ol>\n"
      ],
      "text/latex": [
       "\\begin{enumerate*}\n",
       "\\item 8943\n",
       "\\item 11\n",
       "\\end{enumerate*}\n"
      ],
      "text/markdown": [
       "1. 8943\n",
       "2. 11\n",
       "\n",
       "\n"
      ],
      "text/plain": [
       "[1] 8943   11"
      ]
     },
     "metadata": {},
     "output_type": "display_data"
    }
   ],
   "source": [
    "daTestFM=rbind(daTestF,daTestM)\n",
    "dim(daTestFM)"
   ]
  },
  {
   "cell_type": "code",
   "execution_count": 53,
   "metadata": {
    "ExecuteTime": {
     "end_time": "2020-03-22T10:29:29.120234Z",
     "start_time": "2020-03-22T10:28:19.321Z"
    }
   },
   "outputs": [
    {
     "data": {
      "text/plain": [
       "       \n",
       "        incB incH\n",
       "  FALSE 6150  935\n",
       "  TRUE   530 1328"
      ]
     },
     "metadata": {},
     "output_type": "display_data"
    }
   ],
   "source": [
    "# erreurs cumulées\n",
    "table(yHatFM>0.5,daTestFM$income)"
   ]
  },
  {
   "cell_type": "code",
   "execution_count": 54,
   "metadata": {
    "ExecuteTime": {
     "end_time": "2020-03-22T10:29:29.149172Z",
     "start_time": "2020-03-22T10:28:19.325Z"
    }
   },
   "outputs": [
    {
     "data": {
      "text/plain": [
       "       \n",
       "        incB incH\n",
       "  FALSE 6154  950\n",
       "  TRUE   526 1313"
      ]
     },
     "metadata": {},
     "output_type": "display_data"
    }
   ],
   "source": [
    "table(yHat>0.5,daTest$income)"
   ]
  },
  {
   "cell_type": "code",
   "execution_count": 55,
   "metadata": {
    "ExecuteTime": {
     "end_time": "2020-03-22T10:29:29.178234Z",
     "start_time": "2020-03-22T10:28:19.330Z"
    }
   },
   "outputs": [
    {
     "data": {
      "text/html": [
       "16.38"
      ],
      "text/latex": [
       "16.38"
      ],
      "text/markdown": [
       "16.38"
      ],
      "text/plain": [
       "[1] 16.38"
      ]
     },
     "metadata": {},
     "output_type": "display_data"
    }
   ],
   "source": [
    "tauxErr(table(yHatFM>0.5,daTestFM$income))"
   ]
  },
  {
   "cell_type": "code",
   "execution_count": 56,
   "metadata": {
    "ExecuteTime": {
     "end_time": "2020-03-22T10:29:29.198020Z",
     "start_time": "2020-03-22T10:28:19.335Z"
    }
   },
   "outputs": [
    {
     "data": {
      "text/html": [
       "16.5"
      ],
      "text/latex": [
       "16.5"
      ],
      "text/markdown": [
       "16.5"
      ],
      "text/plain": [
       "[1] 16.5"
      ]
     },
     "metadata": {},
     "output_type": "display_data"
    }
   ],
   "source": [
    "tauxErr(table(yHat>0.5,daTest$income))"
   ]
  },
  {
   "cell_type": "markdown",
   "metadata": {},
   "source": [
    "On retrouve le taux d'erreur précédent pour la régression logistique, c'est le même modèle, tandis que l'association des deux modèles conduit à une erreur un peu plus faible en intégrant l'interaction du sexe avec les autres variables."
   ]
  },
  {
   "cell_type": "code",
   "execution_count": 57,
   "metadata": {
    "ExecuteTime": {
     "end_time": "2020-03-22T10:29:29.223712Z",
     "start_time": "2020-03-22T10:28:19.443Z"
    }
   },
   "outputs": [
    {
     "data": {
      "text/html": [
       "<ol class=list-inline>\n",
       "\t<li>0.284</li>\n",
       "\t<li>0.324</li>\n",
       "\t<li>0.365</li>\n",
       "</ol>\n"
      ],
      "text/latex": [
       "\\begin{enumerate*}\n",
       "\\item 0.284\n",
       "\\item 0.324\n",
       "\\item 0.365\n",
       "\\end{enumerate*}\n"
      ],
      "text/markdown": [
       "1. 0.284\n",
       "2. 0.324\n",
       "3. 0.365\n",
       "\n",
       "\n"
      ],
      "text/plain": [
       "[1] 0.284 0.324 0.365"
      ]
     },
     "metadata": {},
     "output_type": "display_data"
    },
    {
     "data": {
      "text/html": [
       "<ol class=list-inline>\n",
       "\t<li>0.212</li>\n",
       "\t<li>0.248</li>\n",
       "\t<li>0.283</li>\n",
       "</ol>\n"
      ],
      "text/latex": [
       "\\begin{enumerate*}\n",
       "\\item 0.212\n",
       "\\item 0.248\n",
       "\\item 0.283\n",
       "\\end{enumerate*}\n"
      ],
      "text/markdown": [
       "1. 0.212\n",
       "2. 0.248\n",
       "3. 0.283\n",
       "\n",
       "\n"
      ],
      "text/plain": [
       "[1] 0.212 0.248 0.283"
      ]
     },
     "metadata": {},
     "output_type": "display_data"
    }
   ],
   "source": [
    "# biais cumulés vs. biais \n",
    "round(dispImp(daTestFM[,\"sex\"],as.factor(yHatFM>0.5)),3); round(dispImp(daTest[,\"sex\"],as.factor(yHat>0.5)),3)"
   ]
  },
  {
   "cell_type": "code",
   "execution_count": 58,
   "metadata": {
    "ExecuteTime": {
     "end_time": "2020-03-22T10:29:29.252714Z",
     "start_time": "2020-03-22T10:28:19.448Z"
    }
   },
   "outputs": [
    {
     "data": {
      "text/html": [
       "<ol class=list-inline>\n",
       "\t<li>0.339</li>\n",
       "\t<li>0.379</li>\n",
       "\t<li>0.419</li>\n",
       "</ol>\n"
      ],
      "text/latex": [
       "\\begin{enumerate*}\n",
       "\\item 0.339\n",
       "\\item 0.379\n",
       "\\item 0.419\n",
       "\\end{enumerate*}\n"
      ],
      "text/markdown": [
       "1. 0.339\n",
       "2. 0.379\n",
       "3. 0.419\n",
       "\n",
       "\n"
      ],
      "text/plain": [
       "[1] 0.339 0.379 0.419"
      ]
     },
     "metadata": {},
     "output_type": "display_data"
    }
   ],
   "source": [
    "# Rappel: Biais de la base de test\n",
    "round(dispImp(daTestFM[,\"sex\"],daTestFM[,\"income\"]),3)"
   ]
  },
  {
   "cell_type": "markdown",
   "metadata": {},
   "source": [
    "Le biais est significativement plus faible pour l'association des deux modèles qui prend en compte les interactions du sexe avec les autres variables mais reste plus important que celui initial de la base."
   ]
  },
  {
   "cell_type": "markdown",
   "metadata": {},
   "source": [
    "### *Random Forest*"
   ]
  },
  {
   "cell_type": "code",
   "execution_count": 59,
   "metadata": {
    "ExecuteTime": {
     "end_time": "2020-03-22T10:30:19.647142Z",
     "start_time": "2020-03-22T10:28:19.666Z"
    }
   },
   "outputs": [],
   "source": [
    "library(randomForest)\n",
    "# Modèle initial\n",
    "RFinit=randomForest(income~.,data=datApp)\n",
    "# Modèle en changeant les poids\n",
    "RFinitW=randomForest(income~.,data=datApp,weigth=w)\n",
    "# estimation des deux modèles\n",
    "RF.F=randomForest(income~.,data=datAppF[,-6])\n",
    "RF.M=randomForest(income~.,data=datAppM[,-6])\n",
    "# comparaison des paramètres"
   ]
  },
  {
   "cell_type": "code",
   "execution_count": 60,
   "metadata": {
    "ExecuteTime": {
     "end_time": "2020-03-22T10:30:21.439024Z",
     "start_time": "2020-03-22T10:28:19.672Z"
    }
   },
   "outputs": [],
   "source": [
    "# prévision des modèles\n",
    "yHatrf=predict(RFinit,newdata=daTest,type=\"response\")\n",
    "yHatrfW=predict(RFinitW,newdata=daTest,type=\"response\")\n",
    "yHatFrf=predict(RF.F,newdata=daTestF,type=\"response\")\n",
    "yHatMrf=predict(RF.M,newdata=daTestM,type=\"response\")\n",
    "# compilation des prévisions\n",
    "yHatFMrf=c(yHatFrf,yHatMrf)"
   ]
  },
  {
   "cell_type": "code",
   "execution_count": 61,
   "metadata": {
    "ExecuteTime": {
     "end_time": "2020-03-22T10:30:21.472726Z",
     "start_time": "2020-03-22T10:28:19.676Z"
    }
   },
   "outputs": [
    {
     "data": {
      "text/plain": [
       "        \n",
       "yHatFMrf incB incH\n",
       "    incB 6275  871\n",
       "    incH  405 1392"
      ]
     },
     "metadata": {},
     "output_type": "display_data"
    },
    {
     "data": {
      "text/plain": [
       "      \n",
       "yHatrf incB incH\n",
       "  incB 6292  862\n",
       "  incH  388 1401"
      ]
     },
     "metadata": {},
     "output_type": "display_data"
    }
   ],
   "source": [
    "# erreurs cumulées vs. erreur initiale de RF\n",
    "table(yHatFMrf,daTestFM$income); table(yHatrf,daTest$income)"
   ]
  },
  {
   "cell_type": "code",
   "execution_count": 62,
   "metadata": {
    "ExecuteTime": {
     "end_time": "2020-03-22T10:30:21.498267Z",
     "start_time": "2020-03-22T10:28:19.680Z"
    }
   },
   "outputs": [
    {
     "data": {
      "text/html": [
       "14.27"
      ],
      "text/latex": [
       "14.27"
      ],
      "text/markdown": [
       "14.27"
      ],
      "text/plain": [
       "[1] 14.27"
      ]
     },
     "metadata": {},
     "output_type": "display_data"
    },
    {
     "data": {
      "text/html": [
       "13.98"
      ],
      "text/latex": [
       "13.98"
      ],
      "text/markdown": [
       "13.98"
      ],
      "text/plain": [
       "[1] 13.98"
      ]
     },
     "metadata": {},
     "output_type": "display_data"
    },
    {
     "data": {
      "text/html": [
       "13.98"
      ],
      "text/latex": [
       "13.98"
      ],
      "text/markdown": [
       "13.98"
      ],
      "text/plain": [
       "[1] 13.98"
      ]
     },
     "metadata": {},
     "output_type": "display_data"
    }
   ],
   "source": [
    "tauxErr(table(yHatFMrf,daTestFM$income)); tauxErr(table(yHatrf,daTest$income))\n",
    "tauxErr(table(yHatrfW,daTest$income))"
   ]
  },
  {
   "cell_type": "code",
   "execution_count": 63,
   "metadata": {
    "ExecuteTime": {
     "end_time": "2020-03-22T10:30:21.529040Z",
     "start_time": "2020-03-22T10:28:19.685Z"
    }
   },
   "outputs": [
    {
     "data": {
      "text/html": [
       "<ol class=list-inline>\n",
       "\t<li>0.351</li>\n",
       "\t<li>0.398</li>\n",
       "\t<li>0.445</li>\n",
       "</ol>\n"
      ],
      "text/latex": [
       "\\begin{enumerate*}\n",
       "\\item 0.351\n",
       "\\item 0.398\n",
       "\\item 0.445\n",
       "\\end{enumerate*}\n"
      ],
      "text/markdown": [
       "1. 0.351\n",
       "2. 0.398\n",
       "3. 0.445\n",
       "\n",
       "\n"
      ],
      "text/plain": [
       "[1] 0.351 0.398 0.445"
      ]
     },
     "metadata": {},
     "output_type": "display_data"
    },
    {
     "data": {
      "text/html": [
       "<ol class=list-inline>\n",
       "\t<li>0.323</li>\n",
       "\t<li>0.368</li>\n",
       "\t<li>0.413</li>\n",
       "</ol>\n"
      ],
      "text/latex": [
       "\\begin{enumerate*}\n",
       "\\item 0.323\n",
       "\\item 0.368\n",
       "\\item 0.413\n",
       "\\end{enumerate*}\n"
      ],
      "text/markdown": [
       "1. 0.323\n",
       "2. 0.368\n",
       "3. 0.413\n",
       "\n",
       "\n"
      ],
      "text/plain": [
       "[1] 0.323 0.368 0.413"
      ]
     },
     "metadata": {},
     "output_type": "display_data"
    },
    {
     "data": {
      "text/html": [
       "<ol class=list-inline>\n",
       "\t<li>0.314</li>\n",
       "\t<li>0.358</li>\n",
       "\t<li>0.403</li>\n",
       "</ol>\n"
      ],
      "text/latex": [
       "\\begin{enumerate*}\n",
       "\\item 0.314\n",
       "\\item 0.358\n",
       "\\item 0.403\n",
       "\\end{enumerate*}\n"
      ],
      "text/markdown": [
       "1. 0.314\n",
       "2. 0.358\n",
       "3. 0.403\n",
       "\n",
       "\n"
      ],
      "text/plain": [
       "[1] 0.314 0.358 0.403"
      ]
     },
     "metadata": {},
     "output_type": "display_data"
    },
    {
     "data": {
      "text/html": [
       "<ol class=list-inline>\n",
       "\t<li>0.339</li>\n",
       "\t<li>0.379</li>\n",
       "\t<li>0.419</li>\n",
       "</ol>\n"
      ],
      "text/latex": [
       "\\begin{enumerate*}\n",
       "\\item 0.339\n",
       "\\item 0.379\n",
       "\\item 0.419\n",
       "\\end{enumerate*}\n"
      ],
      "text/markdown": [
       "1. 0.339\n",
       "2. 0.379\n",
       "3. 0.419\n",
       "\n",
       "\n"
      ],
      "text/plain": [
       "[1] 0.339 0.379 0.419"
      ]
     },
     "metadata": {},
     "output_type": "display_data"
    }
   ],
   "source": [
    "# Biais cumulé vs. biais du modèle initial vs. biais de la base\n",
    "round(dispImp(daTestFM[,\"sex\"],as.factor(yHatFMrf)),3);round(dispImp(daTest[,\"sex\"],as.factor(yHatrf)),3);\n",
    "round(dispImp(daTest[,\"sex\"],as.factor(yHatrfW)),3);round(dispImp(daTestFM[,\"sex\"],daTestFM[,\"income\"]),3)"
   ]
  },
  {
   "cell_type": "markdown",
   "metadata": {},
   "source": [
    "### Atténuation de la discrimiation\n",
    "De très nombreux adaptations on été proposées (cf. les tutoriels du site [AIF360](https://aif360.mybluemix.net/)) afin de réduire ou atténuer la discrimination d'un algorithme d'apprentissage. La procédure la plus simple illustrée ci-dessous consiste à introduire une forme de discrimination positive en intervenant sur le seuil de décision pour les femmes tout en conservant celui de 0.5 pour les hommes."
   ]
  },
  {
   "cell_type": "code",
   "execution_count": 64,
   "metadata": {
    "ExecuteTime": {
     "end_time": "2020-03-22T10:30:22.136477Z",
     "start_time": "2020-03-22T10:28:19.792Z"
    }
   },
   "outputs": [],
   "source": [
    "# prévision des modèles\n",
    "yHatFrfDP=predict(RF.F,newdata=daTestF,type=\"prob\")[,1]<0.7\n",
    "yHatMrfDP=predict(RF.M,newdata=daTestM,type=\"prob\")[,1]<0.5\n",
    "# compilation des prévisions\n",
    "yHatFMrfDP=c(yHatFrfDP,yHatMrfDP)"
   ]
  },
  {
   "cell_type": "code",
   "execution_count": 65,
   "metadata": {
    "ExecuteTime": {
     "end_time": "2020-03-22T10:30:22.150808Z",
     "start_time": "2020-03-22T10:28:19.799Z"
    }
   },
   "outputs": [
    {
     "data": {
      "text/plain": [
       "          \n",
       "yHatFMrfDP incB incH\n",
       "     FALSE 6193  834\n",
       "     TRUE   487 1429"
      ]
     },
     "metadata": {},
     "output_type": "display_data"
    }
   ],
   "source": [
    "table(yHatFMrfDP,daTestFM$income)"
   ]
  },
  {
   "cell_type": "code",
   "execution_count": 66,
   "metadata": {
    "ExecuteTime": {
     "end_time": "2020-03-22T10:30:22.169554Z",
     "start_time": "2020-03-22T10:28:19.804Z"
    }
   },
   "outputs": [
    {
     "data": {
      "text/html": [
       "14.77"
      ],
      "text/latex": [
       "14.77"
      ],
      "text/markdown": [
       "14.77"
      ],
      "text/plain": [
       "[1] 14.77"
      ]
     },
     "metadata": {},
     "output_type": "display_data"
    }
   ],
   "source": [
    "tauxErr(table(yHatFMrfDP,daTestFM$income))"
   ]
  },
  {
   "cell_type": "code",
   "execution_count": 67,
   "metadata": {
    "ExecuteTime": {
     "end_time": "2020-03-22T10:30:22.193069Z",
     "start_time": "2020-03-22T10:28:19.808Z"
    }
   },
   "outputs": [
    {
     "data": {
      "text/html": [
       "<ol class=list-inline>\n",
       "\t<li>0.507</li>\n",
       "\t<li>0.563</li>\n",
       "\t<li>0.619</li>\n",
       "</ol>\n"
      ],
      "text/latex": [
       "\\begin{enumerate*}\n",
       "\\item 0.507\n",
       "\\item 0.563\n",
       "\\item 0.619\n",
       "\\end{enumerate*}\n"
      ],
      "text/markdown": [
       "1. 0.507\n",
       "2. 0.563\n",
       "3. 0.619\n",
       "\n",
       "\n"
      ],
      "text/plain": [
       "[1] 0.507 0.563 0.619"
      ]
     },
     "metadata": {},
     "output_type": "display_data"
    }
   ],
   "source": [
    "round(dispImp(daTestFM[,\"sex\"],as.factor(yHatFMrfDP)),3)"
   ]
  },
  {
   "cell_type": "markdown",
   "metadata": {},
   "source": [
    "### Synthèse graphique des résultats\n",
    "Les résultats précédents: précisions et intervalles de confiance sont collectés et affichés sur le même graphique."
   ]
  },
  {
   "cell_type": "code",
   "execution_count": 68,
   "metadata": {
    "ExecuteTime": {
     "end_time": "2020-03-22T10:30:22.233210Z",
     "start_time": "2020-03-22T10:28:19.922Z"
    }
   },
   "outputs": [
    {
     "data": {
      "text/html": [
       "<table>\n",
       "<thead><tr><th scope=col>Model</th><th scope=col>Lower</th><th scope=col>DI</th><th scope=col>Upper</th><th scope=col>Accuracy</th></tr></thead>\n",
       "<tbody>\n",
       "\t<tr><td>dataBaseBias</td><td>0.339       </td><td>0.379       </td><td>0.419       </td><td>100.00      </td></tr>\n",
       "\t<tr><td>linLogit    </td><td>0.212       </td><td>0.248       </td><td>0.283       </td><td> 83.50      </td></tr>\n",
       "\t<tr><td>linLogit_w_S</td><td>0.232       </td><td>0.269       </td><td>0.305       </td><td> 83.50      </td></tr>\n",
       "\t<tr><td>testingLogit</td><td>0.850       </td><td>0.900       </td><td>0.960       </td><td> 83.50      </td></tr>\n",
       "\t<tr><td>randomForest</td><td>0.318       </td><td>0.363       </td><td>0.407       </td><td> 85.98      </td></tr>\n",
       "\t<tr><td>RFdiscrPos  </td><td>0.506       </td><td>0.562       </td><td>0.619       </td><td> 85.24      </td></tr>\n",
       "</tbody>\n",
       "</table>\n"
      ],
      "text/latex": [
       "\\begin{tabular}{r|lllll}\n",
       " Model & Lower & DI & Upper & Accuracy\\\\\n",
       "\\hline\n",
       "\t dataBaseBias & 0.339        & 0.379        & 0.419        & 100.00      \\\\\n",
       "\t linLogit     & 0.212        & 0.248        & 0.283        &  83.50      \\\\\n",
       "\t linLogit\\_w\\_S & 0.232            & 0.269            & 0.305            &  83.50          \\\\\n",
       "\t testingLogit & 0.850        & 0.900        & 0.960        &  83.50      \\\\\n",
       "\t randomForest & 0.318        & 0.363        & 0.407        &  85.98      \\\\\n",
       "\t RFdiscrPos   & 0.506        & 0.562        & 0.619        &  85.24      \\\\\n",
       "\\end{tabular}\n"
      ],
      "text/markdown": [
       "\n",
       "| Model | Lower | DI | Upper | Accuracy |\n",
       "|---|---|---|---|---|\n",
       "| dataBaseBias | 0.339        | 0.379        | 0.419        | 100.00       |\n",
       "| linLogit     | 0.212        | 0.248        | 0.283        |  83.50       |\n",
       "| linLogit_w_S | 0.232        | 0.269        | 0.305        |  83.50       |\n",
       "| testingLogit | 0.850        | 0.900        | 0.960        |  83.50       |\n",
       "| randomForest | 0.318        | 0.363        | 0.407        |  85.98       |\n",
       "| RFdiscrPos   | 0.506        | 0.562        | 0.619        |  85.24       |\n",
       "\n"
      ],
      "text/plain": [
       "  Model        Lower DI    Upper Accuracy\n",
       "1 dataBaseBias 0.339 0.379 0.419 100.00  \n",
       "2 linLogit     0.212 0.248 0.283  83.50  \n",
       "3 linLogit_w_S 0.232 0.269 0.305  83.50  \n",
       "4 testingLogit 0.850 0.900 0.960  83.50  \n",
       "5 randomForest 0.318 0.363 0.407  85.98  \n",
       "6 RFdiscrPos   0.506 0.562 0.619  85.24  "
      ]
     },
     "metadata": {},
     "output_type": "display_data"
    }
   ],
   "source": [
    "diAlgos=read.table(\"diVSalgos-red.txt\",header=T)\n",
    "diAlgos"
   ]
  },
  {
   "cell_type": "code",
   "execution_count": 69,
   "metadata": {
    "ExecuteTime": {
     "end_time": "2020-03-22T10:30:23.155914Z",
     "start_time": "2020-03-22T10:28:19.926Z"
    }
   },
   "outputs": [
    {
     "name": "stderr",
     "output_type": "stream",
     "text": [
      "Loading required package: prodlim\n"
     ]
    },
    {
     "data": {
      "image/png": "[encoded data removed]",
      "text/plain": [
       "plot without title"
      ]
     },
     "metadata": {},
     "output_type": "display_data"
    }
   ],
   "source": [
    "library(Publish)\n",
    "options(repr.plot.width=10, repr.plot.height=5)\n",
    "plotConfidence(x=diAlgos[,c(\"DI\",\"Lower\",\"Upper\")],labels=diAlgos[,c(\"Model\",\"Accuracy\")],\n",
    "               points.pch=15,points.cex=3,points.col=rainbow(6),\n",
    "              values=FALSE,xlim=c(0.1,1),lwd=4,cex=1.5,\n",
    "               xlab=\"Disparate Impact\",xlab.cex=1,xratio=0.3,y.title.offset=1)"
   ]
  },
  {
   "cell_type": "markdown",
   "metadata": {},
   "source": [
    "**Commentaires**\n",
    "- `dataBaseBias` les données initiales sont largement biaisées\n",
    "- `linLogit` un modèle de régression logistique linéaire exacerbe le biais et donc discrimine de façon statistiquement significative: les intervalles de confiance sont disjoints.\n",
    "- `linLOgit_w_ S` un modèle de régression logistique sans la variable sexe discrimine tout autant. Retirer la variable sensible d'un modèle ou, en amont, d'une base de données est une fausse bonne idée.\n",
    "- `testingLogit` comme le sexe est inclus dans les autres variables, le testing ne détecte pas de discrimination. \n",
    "- `randomForest` un algorithme non linéaire n'augmente pas de façon significative le biais statistique, il ne discriminae pas, mais c'est au prix de l'interprétabilité ou de l'explicabilité d'une décision.\n",
    "- `RFdiscrPos` il est facile d'introduire un peu de discrimination positive pour atténuer le biais de société sans dégradé la précision."
   ]
  },
  {
   "cell_type": "markdown",
   "metadata": {},
   "source": [
    "## Autres indicateurs de biais / discrimination\n",
    "### Biais sur les erreurs ou précisions de prévision conditionnelles\n",
    "L'effet disproportionné est une première source de biais ou de discrimination parmi bien d'autres. Une deuxième souvent évoquée concerne les erreurs de prévision ou les précisions selon les modalités de la variable sensible; c'est  l'*overall error equality* ou de façon équivalente l'*overall accuracy equality*.\n",
    "\n",
    "#### Régression logistique linéaire\n",
    "*Overall error equality*"
   ]
  },
  {
   "cell_type": "code",
   "execution_count": 70,
   "metadata": {
    "ExecuteTime": {
     "end_time": "2020-03-22T10:39:10.705393Z",
     "start_time": "2020-03-22T10:39:10.440Z"
    }
   },
   "outputs": [
    {
     "data": {
      "text/plain": [
       ", ,  = Female\n",
       "\n",
       "       \n",
       "        incB incH\n",
       "  FALSE 2497  205\n",
       "  TRUE    52  143\n",
       "\n",
       ", ,  = Male\n",
       "\n",
       "       \n",
       "        incB incH\n",
       "  FALSE 3657  745\n",
       "  TRUE   474 1170\n"
      ]
     },
     "metadata": {},
     "output_type": "display_data"
    }
   ],
   "source": [
    "table(pred.log>0.5,daTest$income,daTest$sex)"
   ]
  },
  {
   "cell_type": "code",
   "execution_count": 71,
   "metadata": {
    "ExecuteTime": {
     "end_time": "2020-03-22T10:39:24.570558Z",
     "start_time": "2020-03-22T10:39:24.540Z"
    }
   },
   "outputs": [
    {
     "data": {
      "text/html": [
       "<dl class=dl-horizontal>\n",
       "\t<dt>Female</dt>\n",
       "\t\t<dd>8.87</dd>\n",
       "\t<dt>Male</dt>\n",
       "\t\t<dd>20.16</dd>\n",
       "</dl>\n"
      ],
      "text/latex": [
       "\\begin{description*}\n",
       "\\item[Female] 8.87\n",
       "\\item[Male] 20.16\n",
       "\\end{description*}\n"
      ],
      "text/markdown": [
       "Female\n",
       ":   8.87Male\n",
       ":   20.16\n",
       "\n"
      ],
      "text/plain": [
       "Female   Male \n",
       "  8.87  20.16 "
      ]
     },
     "metadata": {},
     "output_type": "display_data"
    }
   ],
   "source": [
    "apply(table(pred.log>0.5,daTest$income,daTest$sex),3,tauxErr)"
   ]
  },
  {
   "cell_type": "markdown",
   "metadata": {},
   "source": [
    "Les erreurs sont au détriment des hommes. Le ration est également estimé par un intervalle de confiance."
   ]
  },
  {
   "cell_type": "code",
   "execution_count": 72,
   "metadata": {
    "ExecuteTime": {
     "end_time": "2020-03-22T10:39:41.729416Z",
     "start_time": "2020-03-22T10:39:41.705Z"
    }
   },
   "outputs": [],
   "source": [
    "source('../Functions/overErrEqual.R')"
   ]
  },
  {
   "cell_type": "code",
   "execution_count": 76,
   "metadata": {
    "ExecuteTime": {
     "end_time": "2020-03-22T10:42:22.775866Z",
     "start_time": "2020-03-22T10:42:22.735Z"
    }
   },
   "outputs": [
    {
     "data": {
      "text/html": [
       "<table>\n",
       "<thead><tr><th></th><th scope=col>inf</th><th scope=col>est_value</th><th scope=col>sup</th></tr></thead>\n",
       "<tbody>\n",
       "\t<tr><th scope=row>OEE</th><td>0.38</td><td>0.44</td><td>0.5 </td></tr>\n",
       "</tbody>\n",
       "</table>\n"
      ],
      "text/latex": [
       "\\begin{tabular}{r|lll}\n",
       "  & inf & est\\_value & sup\\\\\n",
       "\\hline\n",
       "\tOEE & 0.38 & 0.44 & 0.5 \\\\\n",
       "\\end{tabular}\n"
      ],
      "text/markdown": [
       "\n",
       "| <!--/--> | inf | est_value | sup |\n",
       "|---|---|---|---|\n",
       "| OEE | 0.38 | 0.44 | 0.5  |\n",
       "\n"
      ],
      "text/plain": [
       "    inf  est_value sup\n",
       "OEE 0.38 0.44      0.5"
      ]
     },
     "metadata": {},
     "output_type": "display_data"
    }
   ],
   "source": [
    "round(overErrEqual(daTest$sex,daTest$income,as.factor(pred.log>0.5)),2)"
   ]
  },
  {
   "cell_type": "markdown",
   "metadata": {},
   "source": [
    "#### Random forest\n",
    "Cet algorithme conduit à des disparités similaires et même plus marquées entre les deux genres."
   ]
  },
  {
   "cell_type": "code",
   "execution_count": 77,
   "metadata": {
    "ExecuteTime": {
     "end_time": "2020-03-22T10:43:52.534126Z",
     "start_time": "2020-03-22T10:43:52.497Z"
    }
   },
   "outputs": [
    {
     "data": {
      "text/html": [
       "<dl class=dl-horizontal>\n",
       "\t<dt>Female</dt>\n",
       "\t\t<dd>7.04</dd>\n",
       "\t<dt>Male</dt>\n",
       "\t\t<dd>17.3</dd>\n",
       "</dl>\n"
      ],
      "text/latex": [
       "\\begin{description*}\n",
       "\\item[Female] 7.04\n",
       "\\item[Male] 17.3\n",
       "\\end{description*}\n"
      ],
      "text/markdown": [
       "Female\n",
       ":   7.04Male\n",
       ":   17.3\n",
       "\n"
      ],
      "text/plain": [
       "Female   Male \n",
       "  7.04  17.30 "
      ]
     },
     "metadata": {},
     "output_type": "display_data"
    }
   ],
   "source": [
    "apply(table(yHatrf,daTest$income,daTest$sex),3,tauxErr)"
   ]
  },
  {
   "cell_type": "code",
   "execution_count": 78,
   "metadata": {
    "ExecuteTime": {
     "end_time": "2020-03-22T10:44:10.443838Z",
     "start_time": "2020-03-22T10:44:10.411Z"
    }
   },
   "outputs": [
    {
     "data": {
      "text/html": [
       "<table>\n",
       "<thead><tr><th></th><th scope=col>inf</th><th scope=col>est_value</th><th scope=col>sup</th></tr></thead>\n",
       "<tbody>\n",
       "\t<tr><th scope=row>OEE</th><td>0.35</td><td>0.41</td><td>0.47</td></tr>\n",
       "</tbody>\n",
       "</table>\n"
      ],
      "text/latex": [
       "\\begin{tabular}{r|lll}\n",
       "  & inf & est\\_value & sup\\\\\n",
       "\\hline\n",
       "\tOEE & 0.35 & 0.41 & 0.47\\\\\n",
       "\\end{tabular}\n"
      ],
      "text/markdown": [
       "\n",
       "| <!--/--> | inf | est_value | sup |\n",
       "|---|---|---|---|\n",
       "| OEE | 0.35 | 0.41 | 0.47 |\n",
       "\n"
      ],
      "text/plain": [
       "    inf  est_value sup \n",
       "OEE 0.35 0.41      0.47"
      ]
     },
     "metadata": {},
     "output_type": "display_data"
    }
   ],
   "source": [
    "round(overErrEqual(daTest$sex,daTest$income,yHatrf),2)"
   ]
  },
  {
   "cell_type": "markdown",
   "metadata": {},
   "source": [
    "#### *Random forest* avec discrimination positive\n",
    "Atténuer la discrimination n'influence pas nettement les aux d'erreur."
   ]
  },
  {
   "cell_type": "code",
   "execution_count": 79,
   "metadata": {
    "ExecuteTime": {
     "end_time": "2020-03-22T10:46:22.473592Z",
     "start_time": "2020-03-22T10:46:22.441Z"
    }
   },
   "outputs": [
    {
     "data": {
      "text/html": [
       "8.8"
      ],
      "text/latex": [
       "8.8"
      ],
      "text/markdown": [
       "8.8"
      ],
      "text/plain": [
       "[1] 8.8"
      ]
     },
     "metadata": {},
     "output_type": "display_data"
    },
    {
     "data": {
      "text/html": [
       "17.63"
      ],
      "text/latex": [
       "17.63"
      ],
      "text/markdown": [
       "17.63"
      ],
      "text/plain": [
       "[1] 17.63"
      ]
     },
     "metadata": {},
     "output_type": "display_data"
    }
   ],
   "source": [
    "tauxErr(table(yHatFrfDP,daTestF$income)); tauxErr(table(yHatMrfDP,daTestM$income))"
   ]
  },
  {
   "cell_type": "code",
   "execution_count": 80,
   "metadata": {
    "ExecuteTime": {
     "end_time": "2020-03-22T10:48:01.710243Z",
     "start_time": "2020-03-22T10:48:01.678Z"
    }
   },
   "outputs": [
    {
     "data": {
      "text/html": [
       "<table>\n",
       "<thead><tr><th></th><th scope=col>inf</th><th scope=col>est_value</th><th scope=col>sup</th></tr></thead>\n",
       "<tbody>\n",
       "\t<tr><th scope=row>OEE</th><td>0.43</td><td>0.5 </td><td>0.56</td></tr>\n",
       "</tbody>\n",
       "</table>\n"
      ],
      "text/latex": [
       "\\begin{tabular}{r|lll}\n",
       "  & inf & est\\_value & sup\\\\\n",
       "\\hline\n",
       "\tOEE & 0.43 & 0.5  & 0.56\\\\\n",
       "\\end{tabular}\n"
      ],
      "text/markdown": [
       "\n",
       "| <!--/--> | inf | est_value | sup |\n",
       "|---|---|---|---|\n",
       "| OEE | 0.43 | 0.5  | 0.56 |\n",
       "\n"
      ],
      "text/plain": [
       "    inf  est_value sup \n",
       "OEE 0.43 0.5       0.56"
      ]
     },
     "metadata": {},
     "output_type": "display_data"
    }
   ],
   "source": [
    "round(overErrEqual(daTestFM[,\"sex\"],daTestFM$income,as.factor(yHatFMrfDP)),2)"
   ]
  },
  {
   "cell_type": "markdown",
   "metadata": {},
   "source": [
    "Quel que soit l'algorithme utilisé, la disparité reste importante entre les genre avec un taux d'erreur significativmeent plus important pour les hommes. En introduisant une par t de discrimination positive pour atténuer la discrimination envers les femmes, le taux d'erreur augmente logiquement."
   ]
  },
  {
   "cell_type": "markdown",
   "metadata": {},
   "source": [
    "### Asymétrie de la matrice de confusion: *equality of odds* \n",
    "Une autre source de discrimination est considére. Elle a été mise en exergue par le site [Propublica](https://www.propublica.org/article/machine-bias-risk-assessments-in-criminal-sentencing) à propos du score de récidive COMPAS de la société *equivant* utilisé dans certaines cours de justice américaines sous une forme de \"justice prédictive\". Le biais concerne une inversion de l'asymétrie de la matrice de confusion selon la variable sensible. De très nombreux critères ont été proposés pour évaluer cette asymétrie et dont [Verma et Rubin (2018](http://fairware.cs.umass.edu/papers/Verma.pdf)) proposent une revue. Leurs définitions sont basées sur les différentes fréquences issues de la table de contingence et calculées par la fonction ci-dessous."
   ]
  },
  {
   "cell_type": "code",
   "execution_count": 81,
   "metadata": {
    "ExecuteTime": {
     "end_time": "2020-03-22T10:53:16.080696Z",
     "start_time": "2020-03-22T10:53:16.062Z"
    }
   },
   "outputs": [],
   "source": [
    "contRatio <- function(T){ \n",
    "    # Ratios calculés à partir de la matrice de confusion\n",
    "    TP=T[2,2] # true positive\n",
    "    FP=T[2,1] # false positive\n",
    "    FN=T[1,2] # false negative\n",
    "    TN=T[1,1]  # true negative\n",
    "    PPV=TP/(TP+FP) # P(Y=1|g(x)=1) positive predictive value\n",
    "    FDR=FP/(TP+FP) # P(Y=0|g(x)=1) false discovery rate \n",
    "    FOR=FN/(TN+FN) # P(Y=1|g(x)=0) false omission rate\n",
    "    NPV=TN/(TN+FN) # P(Y=0|g(x)=0) negative predictive value\n",
    "    TPR=TP/(TP+FN) # P(g(x)=1|Y=1) true positive rate\n",
    "    FPR=FP/(FP+TN) # P(g(x)=1|Y=0) false positive rate\n",
    "    FNR=FN/(TP+FN) # P(g(x)=0|Y=1) false negative rate\n",
    "    TNR=TN/(FP+TN) # P(g(x)=0|Y=0) true negative rate\n",
    "    return(list(\"PPV\"=PPV,\"FDR\"=FDR,\"FOR\"=FOR,\"NPV\"=NPV,\"TPR\"=TPR,\"FPR\"=FPR,\"FNR\"=FNR,\"TNR\"=TNR))\n",
    "}"
   ]
  },
  {
   "cell_type": "code",
   "execution_count": 82,
   "metadata": {
    "ExecuteTime": {
     "end_time": "2020-03-22T10:53:40.090667Z",
     "start_time": "2020-03-22T10:53:40.052Z"
    }
   },
   "outputs": [
    {
     "data": {
      "text/html": [
       "<dl>\n",
       "\t<dt>$PPV</dt>\n",
       "\t\t<dd>0.713974986405655</dd>\n",
       "\t<dt>$FDR</dt>\n",
       "\t\t<dd>0.286025013594345</dd>\n",
       "\t<dt>$FOR</dt>\n",
       "\t\t<dd>0.133727477477477</dd>\n",
       "\t<dt>$NPV</dt>\n",
       "\t\t<dd>0.866272522522523</dd>\n",
       "\t<dt>$TPR</dt>\n",
       "\t\t<dd>0.580203269995581</dd>\n",
       "\t<dt>$FPR</dt>\n",
       "\t\t<dd>0.0787425149700599</dd>\n",
       "\t<dt>$FNR</dt>\n",
       "\t\t<dd>0.419796730004419</dd>\n",
       "\t<dt>$TNR</dt>\n",
       "\t\t<dd>0.92125748502994</dd>\n",
       "</dl>\n"
      ],
      "text/latex": [
       "\\begin{description}\n",
       "\\item[\\$PPV] 0.713974986405655\n",
       "\\item[\\$FDR] 0.286025013594345\n",
       "\\item[\\$FOR] 0.133727477477477\n",
       "\\item[\\$NPV] 0.866272522522523\n",
       "\\item[\\$TPR] 0.580203269995581\n",
       "\\item[\\$FPR] 0.0787425149700599\n",
       "\\item[\\$FNR] 0.419796730004419\n",
       "\\item[\\$TNR] 0.92125748502994\n",
       "\\end{description}\n"
      ],
      "text/markdown": [
       "$PPV\n",
       ":   0.713974986405655\n",
       "$FDR\n",
       ":   0.286025013594345\n",
       "$FOR\n",
       ":   0.133727477477477\n",
       "$NPV\n",
       ":   0.866272522522523\n",
       "$TPR\n",
       ":   0.580203269995581\n",
       "$FPR\n",
       ":   0.0787425149700599\n",
       "$FNR\n",
       ":   0.419796730004419\n",
       "$TNR\n",
       ":   0.92125748502994\n",
       "\n",
       "\n"
      ],
      "text/plain": [
       "$PPV\n",
       "[1] 0.713975\n",
       "\n",
       "$FDR\n",
       "[1] 0.286025\n",
       "\n",
       "$FOR\n",
       "[1] 0.1337275\n",
       "\n",
       "$NPV\n",
       "[1] 0.8662725\n",
       "\n",
       "$TPR\n",
       "[1] 0.5802033\n",
       "\n",
       "$FPR\n",
       "[1] 0.07874251\n",
       "\n",
       "$FNR\n",
       "[1] 0.4197967\n",
       "\n",
       "$TNR\n",
       "[1] 0.9212575\n"
      ]
     },
     "metadata": {},
     "output_type": "display_data"
    }
   ],
   "source": [
    "contRatio(table(pred.log>0.5,daTest$income))"
   ]
  },
  {
   "cell_type": "markdown",
   "metadata": {},
   "source": [
    "Liste de critères d'équité pouvant être définis à partir des fréquences précédentes conditionnellement à la variable sensible. La combinatoire des possibles est importante mais peut être réduite en remarquant que *PPV*=1-*FDR*, *FOR*=1-*NPV*, *FPR*=1-*TNR*, *FNR*=1-*TPR*... Selon les auteurs, il y a équité de traitement si:\n",
    "- *Predictive parity*: les deux groupes ont les mêmes *PPV*s et par conséquence les mêmes *FDR*s;\n",
    "- *False positive error rate balance* ou *predictive equality*: mêmes *FPR*s et par conséquence les mêmes *TNR*s;\n",
    "- *False negative error rate balance* ou *equal opportunity*: mêmes *FNR*s et par conséquence les mêmes *TPR*s;\n",
    "- *Conditional procedure accuracy equality* ou *disparate mistreatment* ou *equalized odds* combine les deux ci-dessus: mêmes *TPR*s **ET** mêmes *FPR*s;\n",
    "- *Overall accuracy equality*: mêmes *TPR* **ET** mêmes *TNR*;\n",
    "- *Conditionnal use accuracy equality*: mêmes *PPV*s **ET** mêmes *NPV*s;\n",
    "- *Teatment equality*: les rapports *FN/FP* sont les mêmes pour les deux groupes.\n",
    "\n",
    "Bien d'autres critères ont été proposés (cf. Verma et Rubin; 2018), il ne sont pas développés ici. Les calculs des *TPR* et *TNR* conditionnels sont privilégiés ci-dessous mais ce n'est qu'un choix parmi d'autres. Friedler et al. (2019) montrent que ceux-ci sont très corrélés. il serait raisonnable de se limiter aux seules comparaisons des *TPR* et *FPR*."
   ]
  },
  {
   "cell_type": "markdown",
   "metadata": {},
   "source": [
    "#### Régression logistique linéaire\n",
    "La matrice de confusion est construite pour chaque genre pour comparer les différents indicateurs de loyauté."
   ]
  },
  {
   "cell_type": "code",
   "execution_count": 83,
   "metadata": {
    "ExecuteTime": {
     "end_time": "2020-03-22T10:57:32.837077Z",
     "start_time": "2020-03-22T10:57:32.790Z"
    }
   },
   "outputs": [
    {
     "data": {
      "text/html": [
       "<table>\n",
       "<thead><tr><th></th><th scope=col>Female</th><th scope=col>Male</th></tr></thead>\n",
       "<tbody>\n",
       "\t<tr><th scope=row>PPV</th><td>0.7333333</td><td>0.7116788</td></tr>\n",
       "\t<tr><th scope=row>FDR</th><td>0.2666667</td><td>0.2883212</td></tr>\n",
       "\t<tr><th scope=row>FOR</th><td>0.07586973</td><td>0.1692413 </td></tr>\n",
       "\t<tr><th scope=row>NPV</th><td>0.9241303</td><td>0.8307587</td></tr>\n",
       "\t<tr><th scope=row>TPR</th><td>0.4109195</td><td>0.6109661</td></tr>\n",
       "\t<tr><th scope=row>FPR</th><td>0.02040016</td><td>0.1147422 </td></tr>\n",
       "\t<tr><th scope=row>FNR</th><td>0.5890805</td><td>0.3890339</td></tr>\n",
       "\t<tr><th scope=row>TNR</th><td>0.9795998</td><td>0.8852578</td></tr>\n",
       "</tbody>\n",
       "</table>\n"
      ],
      "text/latex": [
       "\\begin{tabular}{r|ll}\n",
       "  & Female & Male\\\\\n",
       "\\hline\n",
       "\tPPV & 0.7333333 & 0.7116788\\\\\n",
       "\tFDR & 0.2666667 & 0.2883212\\\\\n",
       "\tFOR & 0.07586973 & 0.1692413 \\\\\n",
       "\tNPV & 0.9241303 & 0.8307587\\\\\n",
       "\tTPR & 0.4109195 & 0.6109661\\\\\n",
       "\tFPR & 0.02040016 & 0.1147422 \\\\\n",
       "\tFNR & 0.5890805 & 0.3890339\\\\\n",
       "\tTNR & 0.9795998 & 0.8852578\\\\\n",
       "\\end{tabular}\n"
      ],
      "text/markdown": [
       "\n",
       "| <!--/--> | Female | Male |\n",
       "|---|---|---|\n",
       "| PPV | 0.7333333 | 0.7116788 |\n",
       "| FDR | 0.2666667 | 0.2883212 |\n",
       "| FOR | 0.07586973 | 0.1692413  |\n",
       "| NPV | 0.9241303 | 0.8307587 |\n",
       "| TPR | 0.4109195 | 0.6109661 |\n",
       "| FPR | 0.02040016 | 0.1147422  |\n",
       "| FNR | 0.5890805 | 0.3890339 |\n",
       "| TNR | 0.9795998 | 0.8852578 |\n",
       "\n"
      ],
      "text/plain": [
       "    Female     Male     \n",
       "PPV 0.7333333  0.7116788\n",
       "FDR 0.2666667  0.2883212\n",
       "FOR 0.07586973 0.1692413\n",
       "NPV 0.9241303  0.8307587\n",
       "TPR 0.4109195  0.6109661\n",
       "FPR 0.02040016 0.1147422\n",
       "FNR 0.5890805  0.3890339\n",
       "TNR 0.9795998  0.8852578"
      ]
     },
     "metadata": {},
     "output_type": "display_data"
    }
   ],
   "source": [
    "fairness=data.frame(\"Female\"=as.matrix(contRatio(table(pred.log>0.5,daTest$income,daTest$sex)[,,1])),\n",
    "                    \"Male\"=as.matrix(contRatio(table(pred.log>0.5,daTest$income,daTest$sex)[,,2])))\n",
    "fairness"
   ]
  },
  {
   "cell_type": "markdown",
   "metadata": {},
   "source": [
    "Il serait fastidieux de construire toutes les comparaisons d'autant que beaucoup de ces indicateurs sont redondants. Seuls les  ***Equality of Odds*** sont estimés par des intervalles de  confiance à l'aide de la fonciton `oddsEqual` qui  admet 4 paramètres:\n",
    "- S: variable du groupe protégé\n",
    "- Y: variable cible\n",
    "- P: prévision $\\hat{Y}$\n",
    "- alpha=0.05, valeur par défaut.\n",
    "\n",
    "Elle fournit l'estimation par intervalle de confiance des rapports des *FPR* et *TPR* conditionnels et permet donc de tester l'égalité ou non des cotes selon la variable sensible."
   ]
  },
  {
   "cell_type": "code",
   "execution_count": 84,
   "metadata": {
    "ExecuteTime": {
     "end_time": "2020-03-22T11:00:18.329450Z",
     "start_time": "2020-03-22T11:00:18.308Z"
    }
   },
   "outputs": [],
   "source": [
    "source('../Functions/oddsEqual.R')"
   ]
  },
  {
   "cell_type": "code",
   "execution_count": 85,
   "metadata": {
    "ExecuteTime": {
     "end_time": "2020-03-22T11:00:21.283985Z",
     "start_time": "2020-03-22T11:00:21.198Z"
    }
   },
   "outputs": [
    {
     "data": {
      "text/html": [
       "<table>\n",
       "<thead><tr><th></th><th scope=col>inf</th><th scope=col>est_value</th><th scope=col>sup</th></tr></thead>\n",
       "<tbody>\n",
       "\t<tr><th scope=row>FPR</th><td>0.13</td><td>0.18</td><td>0.23</td></tr>\n",
       "\t<tr><th scope=row>TPR</th><td>0.58</td><td>0.67</td><td>0.76</td></tr>\n",
       "</tbody>\n",
       "</table>\n"
      ],
      "text/latex": [
       "\\begin{tabular}{r|lll}\n",
       "  & inf & est\\_value & sup\\\\\n",
       "\\hline\n",
       "\tFPR & 0.13 & 0.18 & 0.23\\\\\n",
       "\tTPR & 0.58 & 0.67 & 0.76\\\\\n",
       "\\end{tabular}\n"
      ],
      "text/markdown": [
       "\n",
       "| <!--/--> | inf | est_value | sup |\n",
       "|---|---|---|---|\n",
       "| FPR | 0.13 | 0.18 | 0.23 |\n",
       "| TPR | 0.58 | 0.67 | 0.76 |\n",
       "\n"
      ],
      "text/plain": [
       "    inf  est_value sup \n",
       "FPR 0.13 0.18      0.23\n",
       "TPR 0.58 0.67      0.76"
      ]
     },
     "metadata": {},
     "output_type": "display_data"
    }
   ],
   "source": [
    "round(oddsEqual(daTest$sex,daTest$income,as.factor(pred.log>0.5)),2)"
   ]
  },
  {
   "cell_type": "markdown",
   "metadata": {},
   "source": [
    "#### *Random forest* "
   ]
  },
  {
   "cell_type": "code",
   "execution_count": 86,
   "metadata": {
    "ExecuteTime": {
     "end_time": "2020-03-22T11:04:18.581394Z",
     "start_time": "2020-03-22T11:04:18.543Z"
    }
   },
   "outputs": [
    {
     "data": {
      "text/html": [
       "<table>\n",
       "<thead><tr><th></th><th scope=col>Female</th><th scope=col>Male</th></tr></thead>\n",
       "<tbody>\n",
       "\t<tr><th scope=row>PPV</th><td>0.7686567</td><td>0.7856673</td></tr>\n",
       "\t<tr><th scope=row>FDR</th><td>0.2313433</td><td>0.2143327</td></tr>\n",
       "\t<tr><th scope=row>FOR</th><td>0.05401293</td><td>0.159116  </td></tr>\n",
       "\t<tr><th scope=row>NPV</th><td>0.9459871</td><td>0.840884 </td></tr>\n",
       "\t<tr><th scope=row>TPR</th><td>0.591954 </td><td>0.6240209</td></tr>\n",
       "\t<tr><th scope=row>FPR</th><td>0.02432326</td><td>0.07891552</td></tr>\n",
       "\t<tr><th scope=row>FNR</th><td>0.408046 </td><td>0.3759791</td></tr>\n",
       "\t<tr><th scope=row>TNR</th><td>0.9756767</td><td>0.9210845</td></tr>\n",
       "</tbody>\n",
       "</table>\n"
      ],
      "text/latex": [
       "\\begin{tabular}{r|ll}\n",
       "  & Female & Male\\\\\n",
       "\\hline\n",
       "\tPPV & 0.7686567 & 0.7856673\\\\\n",
       "\tFDR & 0.2313433 & 0.2143327\\\\\n",
       "\tFOR & 0.05401293 & 0.159116  \\\\\n",
       "\tNPV & 0.9459871 & 0.840884 \\\\\n",
       "\tTPR & 0.591954  & 0.6240209\\\\\n",
       "\tFPR & 0.02432326 & 0.07891552\\\\\n",
       "\tFNR & 0.408046  & 0.3759791\\\\\n",
       "\tTNR & 0.9756767 & 0.9210845\\\\\n",
       "\\end{tabular}\n"
      ],
      "text/markdown": [
       "\n",
       "| <!--/--> | Female | Male |\n",
       "|---|---|---|\n",
       "| PPV | 0.7686567 | 0.7856673 |\n",
       "| FDR | 0.2313433 | 0.2143327 |\n",
       "| FOR | 0.05401293 | 0.159116   |\n",
       "| NPV | 0.9459871 | 0.840884  |\n",
       "| TPR | 0.591954  | 0.6240209 |\n",
       "| FPR | 0.02432326 | 0.07891552 |\n",
       "| FNR | 0.408046  | 0.3759791 |\n",
       "| TNR | 0.9756767 | 0.9210845 |\n",
       "\n"
      ],
      "text/plain": [
       "    Female     Male      \n",
       "PPV 0.7686567  0.7856673 \n",
       "FDR 0.2313433  0.2143327 \n",
       "FOR 0.05401293 0.159116  \n",
       "NPV 0.9459871  0.840884  \n",
       "TPR 0.591954   0.6240209 \n",
       "FPR 0.02432326 0.07891552\n",
       "FNR 0.408046   0.3759791 \n",
       "TNR 0.9756767  0.9210845 "
      ]
     },
     "metadata": {},
     "output_type": "display_data"
    }
   ],
   "source": [
    "fairnessRF=data.frame(\"Female\"=as.matrix(contRatio(table(yHatrf,daTest$income,daTest$sex)[,,1])),\n",
    "                    \"Male\"=as.matrix(contRatio(table(yHatrf,daTest$income,daTest$sex)[,,2])))\n",
    "fairnessRF"
   ]
  },
  {
   "cell_type": "code",
   "execution_count": 87,
   "metadata": {
    "ExecuteTime": {
     "end_time": "2020-03-22T11:04:34.202729Z",
     "start_time": "2020-03-22T11:04:34.177Z"
    }
   },
   "outputs": [
    {
     "data": {
      "text/html": [
       "<table>\n",
       "<thead><tr><th></th><th scope=col>inf</th><th scope=col>est_value</th><th scope=col>sup</th></tr></thead>\n",
       "<tbody>\n",
       "\t<tr><th scope=row>FPR</th><td>0.23</td><td>0.31</td><td>0.39</td></tr>\n",
       "\t<tr><th scope=row>TPR</th><td>0.86</td><td>0.95</td><td>1.04</td></tr>\n",
       "</tbody>\n",
       "</table>\n"
      ],
      "text/latex": [
       "\\begin{tabular}{r|lll}\n",
       "  & inf & est\\_value & sup\\\\\n",
       "\\hline\n",
       "\tFPR & 0.23 & 0.31 & 0.39\\\\\n",
       "\tTPR & 0.86 & 0.95 & 1.04\\\\\n",
       "\\end{tabular}\n"
      ],
      "text/markdown": [
       "\n",
       "| <!--/--> | inf | est_value | sup |\n",
       "|---|---|---|---|\n",
       "| FPR | 0.23 | 0.31 | 0.39 |\n",
       "| TPR | 0.86 | 0.95 | 1.04 |\n",
       "\n"
      ],
      "text/plain": [
       "    inf  est_value sup \n",
       "FPR 0.23 0.31      0.39\n",
       "TPR 0.86 0.95      1.04"
      ]
     },
     "metadata": {},
     "output_type": "display_data"
    }
   ],
   "source": [
    "round(oddsEqual(daTest$sex,daTest$income,yHatrf),2)"
   ]
  },
  {
   "cell_type": "markdown",
   "metadata": {},
   "source": [
    "#### *Random forest* avec discrimination positive"
   ]
  },
  {
   "cell_type": "code",
   "execution_count": 88,
   "metadata": {
    "ExecuteTime": {
     "end_time": "2020-03-22T11:05:53.395096Z",
     "start_time": "2020-03-22T11:05:53.353Z"
    }
   },
   "outputs": [
    {
     "data": {
      "text/html": [
       "<table>\n",
       "<thead><tr><th></th><th scope=col>Female</th><th scope=col>Male</th></tr></thead>\n",
       "<tbody>\n",
       "\t<tr><th scope=row>PPV</th><td>0.6142506</td><td>0.7813121</td></tr>\n",
       "\t<tr><th scope=row>FDR</th><td>0.3857494</td><td>0.2186879</td></tr>\n",
       "\t<tr><th scope=row>FOR</th><td>0.03935743</td><td>0.1622217 </td></tr>\n",
       "\t<tr><th scope=row>NPV</th><td>0.9606426</td><td>0.8377783</td></tr>\n",
       "\t<tr><th scope=row>TPR</th><td>0.7183908</td><td>0.6156658</td></tr>\n",
       "\t<tr><th scope=row>FPR</th><td>0.06159278</td><td>0.07988381</td></tr>\n",
       "\t<tr><th scope=row>FNR</th><td>0.2816092</td><td>0.3843342</td></tr>\n",
       "\t<tr><th scope=row>TNR</th><td>0.9384072</td><td>0.9201162</td></tr>\n",
       "</tbody>\n",
       "</table>\n"
      ],
      "text/latex": [
       "\\begin{tabular}{r|ll}\n",
       "  & Female & Male\\\\\n",
       "\\hline\n",
       "\tPPV & 0.6142506 & 0.7813121\\\\\n",
       "\tFDR & 0.3857494 & 0.2186879\\\\\n",
       "\tFOR & 0.03935743 & 0.1622217 \\\\\n",
       "\tNPV & 0.9606426 & 0.8377783\\\\\n",
       "\tTPR & 0.7183908 & 0.6156658\\\\\n",
       "\tFPR & 0.06159278 & 0.07988381\\\\\n",
       "\tFNR & 0.2816092 & 0.3843342\\\\\n",
       "\tTNR & 0.9384072 & 0.9201162\\\\\n",
       "\\end{tabular}\n"
      ],
      "text/markdown": [
       "\n",
       "| <!--/--> | Female | Male |\n",
       "|---|---|---|\n",
       "| PPV | 0.6142506 | 0.7813121 |\n",
       "| FDR | 0.3857494 | 0.2186879 |\n",
       "| FOR | 0.03935743 | 0.1622217  |\n",
       "| NPV | 0.9606426 | 0.8377783 |\n",
       "| TPR | 0.7183908 | 0.6156658 |\n",
       "| FPR | 0.06159278 | 0.07988381 |\n",
       "| FNR | 0.2816092 | 0.3843342 |\n",
       "| TNR | 0.9384072 | 0.9201162 |\n",
       "\n"
      ],
      "text/plain": [
       "    Female     Male      \n",
       "PPV 0.6142506  0.7813121 \n",
       "FDR 0.3857494  0.2186879 \n",
       "FOR 0.03935743 0.1622217 \n",
       "NPV 0.9606426  0.8377783 \n",
       "TPR 0.7183908  0.6156658 \n",
       "FPR 0.06159278 0.07988381\n",
       "FNR 0.2816092  0.3843342 \n",
       "TNR 0.9384072  0.9201162 "
      ]
     },
     "metadata": {},
     "output_type": "display_data"
    }
   ],
   "source": [
    "fairnessRFDP=data.frame(\"Female\"=as.matrix(contRatio(table(yHatFrfDP,daTestF$income))),\n",
    "                    \"Male\"=as.matrix(contRatio(table(yHatMrfDP,daTestM$income))))\n",
    "fairnessRFDP"
   ]
  },
  {
   "cell_type": "code",
   "execution_count": 89,
   "metadata": {
    "ExecuteTime": {
     "end_time": "2020-03-22T11:07:46.482765Z",
     "start_time": "2020-03-22T11:07:46.456Z"
    }
   },
   "outputs": [
    {
     "data": {
      "text/html": [
       "<table>\n",
       "<thead><tr><th></th><th scope=col>inf</th><th scope=col>est_value</th><th scope=col>sup</th></tr></thead>\n",
       "<tbody>\n",
       "\t<tr><th scope=row>FPR</th><td>0.63</td><td>0.77</td><td>0.91</td></tr>\n",
       "\t<tr><th scope=row>TPR</th><td>1.08</td><td>1.17</td><td>1.25</td></tr>\n",
       "</tbody>\n",
       "</table>\n"
      ],
      "text/latex": [
       "\\begin{tabular}{r|lll}\n",
       "  & inf & est\\_value & sup\\\\\n",
       "\\hline\n",
       "\tFPR & 0.63 & 0.77 & 0.91\\\\\n",
       "\tTPR & 1.08 & 1.17 & 1.25\\\\\n",
       "\\end{tabular}\n"
      ],
      "text/markdown": [
       "\n",
       "| <!--/--> | inf | est_value | sup |\n",
       "|---|---|---|---|\n",
       "| FPR | 0.63 | 0.77 | 0.91 |\n",
       "| TPR | 1.08 | 1.17 | 1.25 |\n",
       "\n"
      ],
      "text/plain": [
       "    inf  est_value sup \n",
       "FPR 0.63 0.77      0.91\n",
       "TPR 1.08 1.17      1.25"
      ]
     },
     "metadata": {},
     "output_type": "display_data"
    }
   ],
   "source": [
    "round(oddsEqual(daTestFM[,\"sex\"],daTestFM$income,as.factor(yHatFMrfDP)),2)"
   ]
  },
  {
   "cell_type": "markdown",
   "metadata": {},
   "source": [
    "## Discussion\n",
    "\n",
    "Le traitement de ce jeu de données montre clairement qu'un modèle linéaire de prévision peut renforcer ou exacerber un biais de société déjà présent dans les données. Il opère donc une discrimination dont la significativité statistique est détectée par des estimations par intervalles de confiance mais pas du tout par une enquête par *testing*. Ainsi, en France et dans le cas d'algorithmes d'aide à l'embauche, une enquête par *testing* comme le pratique la DARES ne détectera rien au contraire de statistiques calculées *ex-post*; les entreprises de recrutement prédictif ne se préoccupe pas de ces \"détails\" contrairement à ce qui se passe aux USA où le calcul de l'*adverse* ou *disparate impact* est pris en compte par applications juridiques du code du travail.\n",
    "\n",
    "Le choix d'un algorithme non linéaire semble préférable pour éviter de surbiaiser mais, aux USA, c'est risqué car le biais reste important mais sans explication donc justification possible. C'est sans doute la raison pour laquelle les entreprises américaines de la *hiring tech* propose des atténations du biais afin d'économiser des poursuites judiciaires (Raghavan et al. 2019).\n",
    "\n",
    "D'autres niveaux de biais sont également à considérer. Tous les algorithmes semblent \"favoriser\" les femmes avec des taux d'erreur plus faibles les concernant mais l'analyse précises des matrices de confusion montre que c'est finalement à leur détriment; si les hommes ont des taux d'erreur plus importants c'est surtout par des taux de faux positifs plus élevés que pour les femmes alors que les taux de faux négatifs sont moins élevés. Les algorithmes se trompent plus pour eux mais pour des décisions qui finalement les avantagent. \n",
    "\n",
    "L'algorithme qui introduit une discrimination positive en intervenant sur le seuil de décision des femmes ne modifie pas le taux d'erreur des hommes mais ré-équilibre en partie les matrices de confusion et modère donc ce dernier biais. \n",
    "\n",
    "Un `data scientist` dispose actuellement d'une grande latitude pour faire ce qu'il veut, du comportement déloyal à la discrimination positive. Nous pouvons espérer qu'après la mise en palce du RGPD, la Commission Européenne interviennent également sur ces questions. C'est en tous cas le sens des directives annoncées dans le [livre blanc](https://ec.europa.eu/info/sites/info/files/commission-white-paper-artificial-intelligence-feb2020_fr.pdf)."
   ]
  },
  {
   "cell_type": "markdown",
   "metadata": {},
   "source": [
    "## Références\n",
    "Barocas S., Selbst A. (2016). [Big Data's Disparate Impact](https://papers.ssrn.com/sol3/papers.cfm?abstract_id=2477899), *California Law Review*, 671.\n",
    "\n",
    "Besse P., del Barrio E., Gordaliza P., Loubes J.-M. (2018). [Confidence Intervals for testing Disparate Impact in Fair Learning](https://arxiv.org/abs/1807.06362), arXiv preprint.\n",
    "\n",
    "Efron B. (1987). [Better Bootstrap Confidence Intervals](https://www.jstor.org/stable/2289144?seq=1), *Journal of the American Statistical Association*, Vol. 82, No. 397 (Mar., 1987), pp. 171-185. \n",
    "\n",
    "Friedler S., Scheidegger C., Venkatasubramanian S., Choudhary S., Hamilton E., Roth D. (2019). [A comparative study of fairness-enhancing interventions in machine learning](https://dl.acm.org/doi/10.1145/3287560.3287589), *Proceedings of the Conference on Fairness, Accountability, and Transparency*.\n",
    "\n",
    "Morris S., Lobsenz R. (2000), [Signifiance Tests and Confidence Intervals for the Adverse Impact Ratio](https://doi.org/10.1111/j.1744-6570.2000.tb00195.x) *Personnel Psychology*, 53: 89-111.\n",
    "\n",
    "Riach, P., Rich J. (2002). [Field Experiments of Discrimination In The Market Place]( https://doi.org/10.1111/1468-0297.00080), *The Economic Journal*, Vol. 112, 480-518.\n",
    "\n",
    "Raghavan M., Barocas S., Kleinberg J., Levy K. (2019) [Mitigating bias in Algorithmic Hiring : Evaluating Claims and Practices](https://arxiv.org/abs/1906.09208), arXiv:1906.09208.\n",
    "\n",
    "Verma S., Rubin J. (2018). [Fairness Definitions Explained](http://fairware.cs.umass.edu/papers/Verma.pdf),  *ACM/IEEE International Workshop on Software Fairness*.\n",
    "\n",
    "Zliobaitė I. (2015). [A survey on measuring indirect discrimination in machine learning](https://arxiv.org/pdf/1511.00148.pdf), arXiv preprint.\n"
   ]
  }
 ],
 "metadata": {
  "kernelspec": {
   "display_name": "R",
   "language": "R",
   "name": "ir"
  },
  "language_info": {
   "codemirror_mode": "r",
   "file_extension": ".r",
   "mimetype": "text/x-r-source",
   "name": "R",
   "pygments_lexer": "r",
   "version": "3.5.1"
  },
  "latex_envs": {
   "LaTeX_envs_menu_present": true,
   "autoclose": false,
   "autocomplete": true,
   "bibliofile": "biblio.bib",
   "cite_by": "apalike",
   "current_citInitial": 1,
   "eqLabelWithNumbers": true,
   "eqNumInitial": 1,
   "hotkeys": {
    "equation": "Ctrl-E",
    "itemize": "Ctrl-I"
   },
   "labels_anchors": false,
   "latex_user_defs": false,
   "report_style_numbering": false,
   "user_envs_cfg": false
  },
  "toc": {
   "base_numbering": 1,
   "nav_menu": {},
   "number_sections": true,
   "sideBar": true,
   "skip_h1_title": true,
   "title_cell": "Table of Contents",
   "title_sidebar": "Contents",
   "toc_cell": false,
   "toc_position": {
    "height": "calc(100% - 180px)",
    "left": "10px",
    "top": "150px",
    "width": "231.05px"
   },
   "toc_section_display": true,
   "toc_window_display": false
  }
 },
 "nbformat": 4,
 "nbformat_minor": 2
}
