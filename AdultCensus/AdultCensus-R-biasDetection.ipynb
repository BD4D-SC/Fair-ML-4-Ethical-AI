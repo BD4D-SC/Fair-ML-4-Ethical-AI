{
 "cells": [
  {
   "cell_type": "markdown",
   "metadata": {},
   "source": [
    "<center>\n",
    "<a href=\"http://www.insa-toulouse.fr/\" ><img src=\"http://www.math.univ-toulouse.fr/~besse/Wikistat/Images/logo-insa.jpg\" style=\"float:left; max-width: 120px; display: inline\" alt=\"INSA\"/></a> \n",
    "\n",
    "<a href=\"http://www.univ-tlse3.fr/\" ><img src=\"http://www.univ-tlse3.fr/medias/photo/ut3pres_logoq_1372757033342.jpg?ID_FICHE=49702\" style=\"float:right; max-width: 250px; display: inline\" alt=\"UPS\"/></a> \n",
    "</center>"
   ]
  },
  {
   "cell_type": "markdown",
   "metadata": {},
   "source": [
    "\n",
    "\n",
    "# Biais et Discrimination en Apprentissage Statistique\n",
    "## Outils statistiques de détection de biais: définition et exemples\n",
    "\n",
    "### Résumé\n",
    "Analyse de données extraites d'un recensement aux USA de 1994 et disponibles sur le [dépôt de l'UCI](http://archive.ics.uci.edu/ml/). Ces données permettent de mettre en relation le niveau de revenu (inférieur ou supérieur à 50k$) avec d'autres variables dont certaines sensibles car indiquant l'appartenance à un groupe en principe protégé par al loi: genre, origine ethnique. Différents indicateurs de biais donc de sources de discrimination sont définis et illustrés sur ces données. Les principaux relativement consensuels dans la litérature sont l'effet disproportionné et l'asymétrie disproportionné de la matrice de confusion. Les réultats montrent les biais de société présents dans les données d'apprentissage et le renforcement de ces biais donc le caractère disctriminatoire d'une prévision."
   ]
  },
  {
   "cell_type": "markdown",
   "metadata": {},
   "source": [
    "## 1 Introduction\n",
    "### 1.1 Les données\n",
    "Des données publiques disponibles sur le site [UCI repository](http://archive.ics.uci.edu/ml/) sont extraites de la base de données issue du recensement réalisé aux Etats Unis en 1994. Ces données son largement utilisées et font référence comme outil de *benchmark* pour comparer les performances de méthodes d’apprentissage. L’objectif est de prévoir, avec plus ou moins de biais, la variable binaire \"revenu annuel\" supérieur ou inférieur à 50k$. Cette prévision n'impacte pas la personne mais comme la démarche et le contexte sont tout à fait similaires à ce que pourrait faire une banque pour évaluer un risque de crédit, c'est exemple est très illustratif. Il est d'ailleurs systématiquement utilisé pour comparer les propriétés des algorithmes d'apprentissage équitable (*fair learning*) car contrairement à beaucoup d'autres jeux de données utlisés pour cette fin (*e.g. german credit bank*), la vraie valeur de la variable cible est connue.\n",
    "\n",
    "Dans les données initiales, 32.561 individus sont décrits par les 14 variables du tableau ci-dessous:\n",
    "\n",
    "\n",
    "|Num|Libellé|Ensemble de valeurs|\n",
    "|-|:---------|:-------------------|\n",
    "|1|`Age`|real|\n",
    "|2|`workClass`|Private, Self-emp-not-inc, Self-emp-inc, Federal-gov, Local-gov, State-gov, Without-pay, Never-worked|\n",
    "|3|`fnlwgt`|real|\n",
    "|4|`education`|Bachelors, Some-college, 11th, HS-grad, Prof-school, Assoc-acdm, Assoc-voc, 9th, 7th-8th, 12th, Masters, 1st-4th, 10th, Doctorate, 5th-6th, Preschool|\n",
    "|5|`educNum`|integer|\n",
    "|6|`mariStat`|Married-civ-spouse, Divorced, Never-married, Separated, Widowed, Married-spouse-absent, Married-AF-spouse|\n",
    "|7|`occup`|Tech-support, Craft-repair, Other-service, Sales, Exec-managerial, Prof-specialty, Handlers-cleaners, Machine-op-inspct, Adm-clerical, Farming-fishing, Transport-moving, Priv-house-serv, Protective-serv, Armed-Forces|\n",
    "|8|`relationship`|Wife, Own-child, Husband, Not-in-family, Other-relative, Unmarried\n",
    "|9|`origEthn`|White, Asian-Pac-Islander, Amer-Indian-Eskimo, Other, Black|\n",
    "|10|`sex`|Female, Male|\n",
    "|11|`capitalGain`|real| \n",
    "|12|`capitalLoss`|real|\n",
    "|13|`hoursWeek`|real|\n",
    "|14|`nativCountry`|United-States, Cambodia, England, Puerto-Rico, Canada, Germany, Outlying-US(Guam-USVI-etc), India, Japan, Greece, South, China, Cuba, Iran, Honduras, Philippines, Italy, Poland, Jamaica, Vietnam, Mexico, Portugal, Ireland, France, Dominican-Republic, Laos, Ecuador, Taiwan, Haiti, Columbia, Hungary, Guatemala, Nicaragua, Scotland, Thailand, Yugoslavia, El-Salvador, Trinadad&Tobago, Peru, Hong, Holand-Netherlands|\n",
    "|15|`income`|>50K, <=50K|\n"
   ]
  },
  {
   "cell_type": "markdown",
   "metadata": {},
   "source": [
    "### 1.2 Les traitements et analyses réalisés sur ces données\n",
    "Parmi tous les critères de biais existant susceptibles de mettre en évidence une discriumination, deux ont été privilégiés: l'effet disproportionné (*disparate impact*) et l'asymétrie disproportionée des taux d'erreur ou (*Conditional procedure accuracy equality* ou *disparate mistreatment* ou *equalized odds*)\n",
    "- Lecture et prise en charge des données en remarquant que la variable `fnlwgt` (Final sampling weight) a un [statut particulier](http://web.cs.wpi.edu/~cs4341/C00/Projects/fnlwgt) pas très clair; elle est éliminée.\n",
    "- Exploration élémentaire et multidimensionnelle (AFCM) afin de représenter les sources des biais présents.\n",
    "- Prévision du revenu par régression logistique\n",
    "- Estimation du *disparate impact* (effet disproportionné) par intervalle de confiance vis-à-vis de deux variables sensibles: genre et origine ethnique sur les données initiales et sur les prévisions du seuil de revenu.\n",
    "- Comparaison des asymétries des matrices de confusion selon les modalités de la variable sensible.\n",
    "- Evaluation de la sensibilité de ces modèles à des actions de testing: quels sont les individus pour lesquels la prévision du seuil de revenu dépend fortement de la variable sensible.\n",
    "\n",
    "\n",
    "**Remarque** Tout ce qui a été fait en utilisant la régression logistique comme métode de prévision a également été opéré en utilisant l'algorithme *Random Forest*. Ceci produit les mêmes résultats, c'est-à-dire approximativement les mêmes qualités de prévision et les mêmes orientations des biais. Mais, comme cet algoritme soulève des complications d'interprétation  du fait de sa non linéarité, cette méthode est laissée de côté."
   ]
  },
  {
   "cell_type": "markdown",
   "metadata": {},
   "source": [
    "## 2 Exploration des données\n",
    "### 2.1 Lecture et premières transformations\n",
    "La lecture et la transformation des données brutes du dépôt de l'UCI sont obtenues directement en exécutant un code source en R. Consulter le code du programme pour comprendre les transformations qui ont été réalisées sur les données brutes. Cette étape a été largement anticipée et simplifiée par la fourniture du programe afférent. Ne pas oublier qu'elle est essentielle et occupe la plus grande partie du temps nécessaire à une analyse. Elle aurait pu être rendue plus efficace (programme plus concis et exécution plus rapide) en utilisant la librairie `dplyr` très adaptée à cet usage.\n",
    "\n",
    "Charger les données et le programme dans le répertoire courant (path=\"\") en même temps que ce tutoriel ou changer de chemin pour y accéder directement. \n",
    "\n",
    "Certaines variables qualitatives sont recodées afin de regrouper des classes, les variables quantitatives, dont l'âge, sont découpées en classes afin d'en construire des versions qualitatives."
   ]
  },
  {
   "cell_type": "code",
   "execution_count": 1,
   "metadata": {},
   "outputs": [
    {
     "data": {
      "text/plain": [
       "      age                workClass         fnlwgt              education   \n",
       " Min.   :18.00   Federal-Govt :  933   Min.   :  13769   HS-grad    :9829  \n",
       " 1st Qu.:28.00   Not-Working  :   14   1st Qu.: 117627   HS-Graduate:6674  \n",
       " Median :37.00   Other-Govt   : 3330   Median : 178487   Bachelors  :5043  \n",
       " Mean   :38.68   Private      :21988   Mean   : 189879   Dropout    :3421  \n",
       " 3rd Qu.:47.00   Self-Employed: 3560   3rd Qu.: 237671   Associates :2315  \n",
       " Max.   :90.00                         Max.   :1484705   Masters    :1626  \n",
       "                                                         (Other)    : 917  \n",
       "    educNum               mariStat              occup     \n",
       " Min.   : 1.00   Married      :14081   Admin       :3698  \n",
       " 1st Qu.: 9.00   Never-Married: 9394   Blue-Collar :9840  \n",
       " Median :10.00   Not-Married  : 5523   Other-occups:1552  \n",
       " Mean   :10.16   Widowed      :  827   Professional:4028  \n",
       " 3rd Qu.:13.00                         Sales       :3498  \n",
       " Max.   :16.00                         Service     :3218  \n",
       "                                       White-Collar:3991  \n",
       "         relationship          origEthn         sex        capitalGain   \n",
       " Husband       :12460   Amer-Indian:  282   Female: 9632   None  :27295  \n",
       " Not-in-family : 7713   Asian      :  894   Male  :20193   cgLow : 1440  \n",
       " Other-relative:  872   Black      : 2790                  cgHigh: 1090  \n",
       " Own-child     : 4168   Other      :  227                                \n",
       " Unmarried     : 3206   White      :25632                                \n",
       " Wife          : 1406                                                    \n",
       "                                                                         \n",
       " capitalLoss      hoursWeek                   nativCountry       income     \n",
       " None  :28409   Min.   : 1.00   United-States       :27182   incHigh: 7507  \n",
       " clLow :  723   1st Qu.:40.00   Latin-America       : 1041   incLow :22318  \n",
       " clHigh:  693   Median :40.00   British-Commonwealth:  324                  \n",
       "                Mean   :41.16   SE-Asia             :  304                  \n",
       "                3rd Qu.:45.00   Euro_1              :  224                  \n",
       "                Max.   :99.00   Euro_2              :  218                  \n",
       "                                (Other)             :  532                  \n",
       "  LcapitalGain      LcapitalLoss     ageQ      hoursWeekQ \n",
       " Min.   : 0.0000   Min.   :0.0000   Ag1:6081   HW1: 6416  \n",
       " 1st Qu.: 0.0000   1st Qu.:0.0000   Ag2:5659   HW2:14253  \n",
       " Median : 0.0000   Median :0.0000   Ag3:6453   HW3: 9156  \n",
       " Mean   : 0.7502   Mean   :0.3565   Ag4:5940              \n",
       " 3rd Qu.: 0.0000   3rd Qu.:0.0000   Ag5:5692              \n",
       " Max.   :11.5129   Max.   :8.3795                         \n",
       "                                                          "
      ]
     },
     "metadata": {},
     "output_type": "display_data"
    }
   ],
   "source": [
    "path=\"\"\n",
    "source(paste(path,\"dataPrepAdultCensus.R\",sep=\"\"))\n",
    "summary(dataBase)"
   ]
  },
  {
   "cell_type": "markdown",
   "metadata": {},
   "source": [
    "### 2.2 Description statistique élémentaire\n",
    "Mettre en évidence des difficultés présentes sur certaines variables ou couples de variables."
   ]
  },
  {
   "cell_type": "code",
   "execution_count": 2,
   "metadata": {},
   "outputs": [
    {
     "data": {
      "image/png": "[encoded data removed]",
      "text/plain": [
       "Plot with title “”"
      ]
     },
     "metadata": {},
     "output_type": "display_data"
    }
   ],
   "source": [
    "# dimensions des graphiques\n",
    "options(repr.plot.width=4, repr.plot.height=4)\n",
    "hist(dataBase[,\"LcapitalGain\"],probability=T, main=\"\",xlab=\"log(1+CapitalGain)\")\n",
    "boxplot(dataBase[,\"LcapitalGain\"], horizontal=TRUE,boxwex=.2,  outline=TRUE,  \n",
    "        frame=F, col = \"lightgrey\", add = TRUE,at=0.2)"
   ]
  },
  {
   "cell_type": "markdown",
   "metadata": {},
   "source": [
    "Nécessité de transformer certaines variables avant de contruire des modèles linéaires puis mise en évidence d'incohérences et de fortes redondances dans certaines variables."
   ]
  },
  {
   "cell_type": "code",
   "execution_count": 3,
   "metadata": {},
   "outputs": [
    {
     "data": {
      "text/plain": [
       "                \n",
       "                 Female  Male\n",
       "  Husband             1 12459\n",
       "  Not-in-family    3563  4150\n",
       "  Other-relative    379   493\n",
       "  Own-child        1825  2343\n",
       "  Unmarried        2459   747\n",
       "  Wife             1405     1"
      ]
     },
     "metadata": {},
     "output_type": "display_data"
    }
   ],
   "source": [
    "table(dataBase$relationship,dataBase$sex)   "
   ]
  },
  {
   "cell_type": "code",
   "execution_count": 4,
   "metadata": {},
   "outputs": [
    {
     "data": {
      "text/plain": [
       "             \n",
       "                 1    2    3    4    5    6    7    8    9   10   11   12   13\n",
       "  Associates     0    0    0    0    0    0    0    0    0    0 1307 1008    0\n",
       "  Bachelors      0    0    0    0    0    0    0    0    0    0    0    0 5043\n",
       "  Doctorate      0    0    0    0    0    0    0    0    0    0    0    0    0\n",
       "  Dropout       45  151  287  554  432  714  894  344    0    0    0    0    0\n",
       "  HS-grad        0    0    0    0    0    0    0    0 9829    0    0    0    0\n",
       "  HS-Graduate    0    0    0    0    0    0    0    0    0 6674    0    0    0\n",
       "  Masters        0    0    0    0    0    0    0    0    0    0    0    0    0\n",
       "  Prof-School    0    0    0    0    0    0    0    0    0    0    0    0    0\n",
       "             \n",
       "                14   15   16\n",
       "  Associates     0    0    0\n",
       "  Bachelors      0    0    0\n",
       "  Doctorate      0    0  375\n",
       "  Dropout        0    0    0\n",
       "  HS-grad        0    0    0\n",
       "  HS-Graduate    0    0    0\n",
       "  Masters     1626    0    0\n",
       "  Prof-School    0  542    0"
      ]
     },
     "metadata": {},
     "output_type": "display_data"
    }
   ],
   "source": [
    "table(dataBase$education,dataBase$educNum)  "
   ]
  },
  {
   "cell_type": "code",
   "execution_count": 5,
   "metadata": {},
   "outputs": [
    {
     "data": {
      "text/plain": [
       "               \n",
       "                Husband Not-in-family Other-relative Own-child Unmarried  Wife\n",
       "  Married         12460            14            118        83         0  1406\n",
       "  Never-Married       0          4435            532      3632       795     0\n",
       "  Not-Married         0          2832            182       441      2068     0\n",
       "  Widowed             0           432             40        12       343     0"
      ]
     },
     "metadata": {},
     "output_type": "display_data"
    }
   ],
   "source": [
    "table(dataBase$mariStat,dataBase$relationship)"
   ]
  },
  {
   "cell_type": "code",
   "execution_count": 6,
   "metadata": {},
   "outputs": [
    {
     "data": {
      "text/plain": [
       "             \n",
       "              British-Commonwealth China Euro_1 Euro_2 Latin-America Other\n",
       "  Amer-Indian                    0     1      1      2             9     0\n",
       "  Asian                         88   122      2     71             6    43\n",
       "  Black                          9     0      7      0           163     6\n",
       "  Other                          6     0      1      0            84     5\n",
       "  White                        221     6    213    145           779   139\n",
       "             \n",
       "              SE-Asia South-America United-States\n",
       "  Amer-Indian       1             1           267\n",
       "  Asian           290             0           272\n",
       "  Black             1             1          2603\n",
       "  Other             0            20           111\n",
       "  White            12           188         23929"
      ]
     },
     "metadata": {},
     "output_type": "display_data"
    }
   ],
   "source": [
    "table(dataBase$origEthn,dataBase$nativCountry)"
   ]
  },
  {
   "cell_type": "markdown",
   "metadata": {},
   "source": [
    "Quelques mosaicplots importants montrant le liens des variables sensibles avec la cible (seuil de revenu)."
   ]
  },
  {
   "cell_type": "code",
   "execution_count": 7,
   "metadata": {},
   "outputs": [
    {
     "data": {
      "image/png": "[encoded data removed]",
      "text/plain": [
       "Plot with title “”"
      ]
     },
     "metadata": {},
     "output_type": "display_data"
    }
   ],
   "source": [
    "mosaicplot(table(dataBase[,\"sex\"],dataBase[,\"income\"]),main=\"\")"
   ]
  },
  {
   "cell_type": "markdown",
   "metadata": {},
   "source": [
    "**Q** Commentaire sur le biais présent dans la base."
   ]
  },
  {
   "cell_type": "code",
   "execution_count": 8,
   "metadata": {},
   "outputs": [
    {
     "data": {
      "image/png": "[encoded data removed]",
      "text/plain": [
       "Plot with title “”"
      ]
     },
     "metadata": {},
     "output_type": "display_data"
    }
   ],
   "source": [
    "mosaicplot(table(dataBase[,\"origEthn\"],dataBase[,\"income\"]),main=\"\")"
   ]
  },
  {
   "cell_type": "markdown",
   "metadata": {},
   "source": [
    "Quelques modifications sont apportées de la base. Certaines variables en versions quantitatives et qualitatives comme le nombre d'heures par semaine, l'âge ou le niveau d'éducation sont conservées. Des variables sont supprimées afin de ne garder qu'une seule présence d'une information sensible: genre et origine ethnique.\n",
    "- Suppression de la variable 3 `fnlwgt` qui n'a guère de signification.\n",
    "- Création d'une variable binaire `Child`: présence ou non d'enfants\n",
    "- Suppression de la variable 8 `relationship` redondante avec le genre et le statut marital,\n",
    "- Suppression de la variable 14 `nativCountry` redondante avec l'origine ethnique.\n",
    "- La variable 9 `originEthn` est simplifiée à 2 classes: CaucYes *vs.* CaucNo"
   ]
  },
  {
   "cell_type": "code",
   "execution_count": 9,
   "metadata": {},
   "outputs": [],
   "source": [
    "dataBase[,\"Child\"]=as.factor(ifelse(dataBase$relationship=='Own-child',\"ChildYes\",\"ChildNo\"))\n",
    "dataBase[,\"origEthn\"]=as.factor(ifelse(dataBase$origEthn %in% c('Amer-Indian','Asian','Black','Other'),\"CaucNo\",\"CaucYes\"))\n",
    "\n",
    "datBas=dataBase[,-c(3,8,14)]"
   ]
  },
  {
   "cell_type": "code",
   "execution_count": 10,
   "metadata": {},
   "outputs": [
    {
     "data": {
      "image/png": "[encoded data removed]",
      "text/plain": [
       "Plot with title “”"
      ]
     },
     "metadata": {},
     "output_type": "display_data"
    }
   ],
   "source": [
    "mosaicplot(table(dataBase[,\"origEthn\"],dataBase[,\"income\"]),main=\"\")"
   ]
  },
  {
   "cell_type": "markdown",
   "metadata": {},
   "source": [
    "**Q** Commentaire sur le biais présent dans la base."
   ]
  },
  {
   "cell_type": "markdown",
   "metadata": {},
   "source": [
    "Pour la suite, il est important que les niveaux des facteurs soient ordonnés de façon cohérente pour la bonne interprétation des tables de contingence et de leurs effectifs. Par convention, les modalités pré-jugées socialement \"dévavorables\": revenu faible, femme, non caucasien, précèdent les autres: revenu élevé, homme, caucasien. Il faut donc réordonner les niveaux de la variable `income` car l'ordre alphabetique ne correspond pas."
   ]
  },
  {
   "cell_type": "code",
   "execution_count": 11,
   "metadata": {},
   "outputs": [
    {
     "data": {
      "text/plain": [
       "      age                workClass           education       educNum     \n",
       " Min.   :18.00   Federal-Govt :  933   HS-grad    :9829   Min.   : 1.00  \n",
       " 1st Qu.:28.00   Not-Working  :   14   HS-Graduate:6674   1st Qu.: 9.00  \n",
       " Median :37.00   Other-Govt   : 3330   Bachelors  :5043   Median :10.00  \n",
       " Mean   :38.68   Private      :21988   Dropout    :3421   Mean   :10.16  \n",
       " 3rd Qu.:47.00   Self-Employed: 3560   Associates :2315   3rd Qu.:13.00  \n",
       " Max.   :90.00                         Masters    :1626   Max.   :16.00  \n",
       "                                       (Other)    : 917                  \n",
       "          mariStat              occup         origEthn         sex       \n",
       " Married      :14081   Admin       :3698   CaucNo : 4193   Female: 9632  \n",
       " Never-Married: 9394   Blue-Collar :9840   CaucYes:25632   Male  :20193  \n",
       " Not-Married  : 5523   Other-occups:1552                                 \n",
       " Widowed      :  827   Professional:4028                                 \n",
       "                       Sales       :3498                                 \n",
       "                       Service     :3218                                 \n",
       "                       White-Collar:3991                                 \n",
       " capitalGain    capitalLoss      hoursWeek         income     \n",
       " None  :27295   None  :28409   Min.   : 1.00   incLow :22318  \n",
       " cgLow : 1440   clLow :  723   1st Qu.:40.00   incHigh: 7507  \n",
       " cgHigh: 1090   clHigh:  693   Median :40.00                  \n",
       "                               Mean   :41.16                  \n",
       "                               3rd Qu.:45.00                  \n",
       "                               Max.   :99.00                  \n",
       "                                                              \n",
       "  LcapitalGain      LcapitalLoss     ageQ      hoursWeekQ       Child      \n",
       " Min.   : 0.0000   Min.   :0.0000   Ag1:6081   HW1: 6416   ChildNo :25657  \n",
       " 1st Qu.: 0.0000   1st Qu.:0.0000   Ag2:5659   HW2:14253   ChildYes: 4168  \n",
       " Median : 0.0000   Median :0.0000   Ag3:6453   HW3: 9156                   \n",
       " Mean   : 0.7502   Mean   :0.3565   Ag4:5940                               \n",
       " 3rd Qu.: 0.0000   3rd Qu.:0.0000   Ag5:5692                               \n",
       " Max.   :11.5129   Max.   :8.3795                                          \n",
       "                                                                           "
      ]
     },
     "metadata": {},
     "output_type": "display_data"
    }
   ],
   "source": [
    "datBas[,\"income\"] <- ordered(datBas[,\"income\"], levels = c(\"incLow\",\"incHigh\"))\n",
    "summary(datBas)"
   ]
  },
  {
   "cell_type": "markdown",
   "metadata": {},
   "source": [
    "### 2.3  [Analyse factorielle multiple des correspondances](http://wikistat.fr/pdf/st-m-explo-afcm.pdf)\n",
    "Cette méthode permet d'avoir une vue d'ensemble de la structure des liaisons entre les variables qualitatives prises 2 à 2. "
   ]
  },
  {
   "cell_type": "code",
   "execution_count": 12,
   "metadata": {},
   "outputs": [
    {
     "data": {
      "image/png": "[encoded data removed]",
      "text/plain": [
       "plot without title"
      ]
     },
     "metadata": {},
     "output_type": "display_data"
    }
   ],
   "source": [
    "library(FactoMineR)\n",
    "dataq=datBas[,c(2,3,5:10,12,15:17)]\n",
    "afcm=MCA(dataq,graph=FALSE)\n",
    "plot(1:30,afcm$eig[1:30,1],type=\"h\")"
   ]
  },
  {
   "cell_type": "markdown",
   "metadata": {},
   "source": [
    "Il pourrait être utile de considérer 3 ou 4 axes mais seuls deux sont utilisés dans cette approche élémentaire."
   ]
  },
  {
   "cell_type": "code",
   "execution_count": 13,
   "metadata": {},
   "outputs": [
    {
     "data": {
      "image/png": "[encoded data removed]",
      "text/plain": [
       "Plot with title “MCA factor map”"
      ]
     },
     "metadata": {},
     "output_type": "display_data"
    }
   ],
   "source": [
    "options(repr.plot.width=6, repr.plot.height=6)\n",
    "plot.MCA(afcm,invisible=c(\"ind\"),habillage=\"quali\")"
   ]
  },
  {
   "cell_type": "markdown",
   "metadata": {},
   "source": [
    "Remarquer la très forte et attendue liaison entre niveau d'éducation et activité selon un axe de dispersion suivant la première bissectrice lui même en relation avec les modalités haut et bas revenus alors que le genre, en première approximation, semble orthogonal à cet axe mais en relation avec le type d'activité et le nombre d'heures de travail par semaine.\n",
    "\n",
    "Ce graphique laisse penser que le lien entre genre et niveau de revenu ne serait pas dû à une sous qualification des femmes mais à une moindre activité (travail partiel) ou à des types d'emplois moins rémunérés.\n",
    "\n",
    "Cette représentation est complétée en projetant les individus colorés selon la variable revenu. De façon triviale, les hauts revenus se concentrent du côté des niveaux d'éducation les plus élevés.\n",
    "\n",
    "*En résumé*: un lien direct entre revenu et niveau d'éducation, pas nécessairement de lien entre genre et niveau d'éducation mais un \"frein\" au revenu lié au type de travail ou d'occupation : administratif, service... et à de possibles temps partiels."
   ]
  },
  {
   "cell_type": "code",
   "execution_count": 14,
   "metadata": {},
   "outputs": [
    {
     "data": {
      "image/png": "[encoded data removed]",
      "text/plain": [
       "plot without title"
      ]
     },
     "metadata": {},
     "output_type": "display_data"
    }
   ],
   "source": [
    "plot(afcm$ind$coord,type=\"p\",pch=\".\",cex=2,col=as.integer(dataBase$income))"
   ]
  },
  {
   "cell_type": "markdown",
   "metadata": {},
   "source": [
    "## 3 Modèles de prévision du seuil de revenu\n",
    "Une comparaison détaillée de la plupart des modèles et algorithmes de prévision du seuil de revenu en fonction des différentes variables met en évidence des résultats un peu meilleurs obtenus par l'algorithme de *gradient boosting*. Néanmoins, on peut se limiter ici à un modèle de régression logisitique très compétitif et interprétable. Un arbe de décision seul donne également une précision similaire mais beaucoup trop complexe (profondeur) pour être interprétable. \n",
    "\n",
    "### 3.1 Echantillons\n",
    "Les données sont préalablement séparées en deux échantillons apprentissage et test."
   ]
  },
  {
   "cell_type": "code",
   "execution_count": 15,
   "metadata": {},
   "outputs": [],
   "source": [
    "set.seed(111) # initialisation du générateur\n",
    "# Extraction des échantillons\n",
    "test.ratio=.2   # part de l'échantillon test\n",
    "npop=nrow(datBas) # nombre de lignes dans les données\n",
    "nvar=ncol(datBas) # nombre de colonnes\n",
    "# taille de l'échantillon test\n",
    "ntest=ceiling(npop*test.ratio) \n",
    "# indices de l'échantillon test\n",
    "testi=sample(1:npop,ntest)\n",
    "# indices de l'échantillon d'apprentissage\n",
    "appri=setdiff(1:npop,testi) "
   ]
  },
  {
   "cell_type": "code",
   "execution_count": 16,
   "metadata": {},
   "outputs": [],
   "source": [
    "# construction de l'échantillon d'apprentissage\n",
    "datApp=datBas[appri,]\n",
    "# construction de l'échantillon test \n",
    "daTest=datBas[testi,]"
   ]
  },
  {
   "cell_type": "markdown",
   "metadata": {},
   "source": [
    "### 3.2 Prévision par régression logistique\n",
    "Comme la plupart des coefficients sont significatifs au sens d'un test de Fisher et par souci de simplicité, il n'est pas fait de sélection de modèle ni non plus tenté un modèle avec des interactions. \n",
    "\n",
    "La fonction ci-dessous calcule le taux d'erreur usuel de la matrice de confusion. Avec le réordonnencement des modalités, les bien classés sont les termes diagonaux de la matrice de confusion."
   ]
  },
  {
   "cell_type": "code",
   "execution_count": 17,
   "metadata": {},
   "outputs": [],
   "source": [
    "tauxErr=function(table){round((table[1,2]+table[2,1])/sum(table)*100,2)}"
   ]
  },
  {
   "cell_type": "code",
   "execution_count": 18,
   "metadata": {},
   "outputs": [
    {
     "data": {
      "text/html": [
       "<table>\n",
       "<thead><tr><th></th><th scope=col>Df</th><th scope=col>Deviance</th><th scope=col>Resid. Df</th><th scope=col>Resid. Dev</th><th scope=col>Pr(&gt;Chi)</th></tr></thead>\n",
       "<tbody>\n",
       "\t<tr><th scope=row>NULL</th><td>NA           </td><td>        NA   </td><td>23859        </td><td>26987.35     </td><td>           NA</td></tr>\n",
       "\t<tr><th scope=row>age</th><td> 1           </td><td>1323.40204   </td><td>23858        </td><td>25663.94     </td><td>9.282513e-290</td></tr>\n",
       "\t<tr><th scope=row>workClass</th><td> 4           </td><td> 143.06839   </td><td>23854        </td><td>25520.88     </td><td> 6.217805e-30</td></tr>\n",
       "\t<tr><th scope=row>education</th><td> 7           </td><td>2816.95193   </td><td>23847        </td><td>22703.92     </td><td> 0.000000e+00</td></tr>\n",
       "\t<tr><th scope=row>educNum</th><td> 1           </td><td>  25.85281   </td><td>23846        </td><td>22678.07     </td><td> 3.684672e-07</td></tr>\n",
       "\t<tr><th scope=row>mariStat</th><td> 3           </td><td>4102.51916   </td><td>23843        </td><td>18575.55     </td><td> 0.000000e+00</td></tr>\n",
       "\t<tr><th scope=row>occup</th><td> 6           </td><td> 559.42350   </td><td>23837        </td><td>18016.13     </td><td>1.312883e-117</td></tr>\n",
       "\t<tr><th scope=row>origEthn</th><td> 1           </td><td>  14.79769   </td><td>23836        </td><td>18001.33     </td><td> 1.196820e-04</td></tr>\n",
       "\t<tr><th scope=row>sex</th><td> 1           </td><td>  40.87427   </td><td>23835        </td><td>17960.46     </td><td> 1.623445e-10</td></tr>\n",
       "\t<tr><th scope=row>capitalGain</th><td> 2           </td><td>1478.23645   </td><td>23833        </td><td>16482.22     </td><td>1.012835e-321</td></tr>\n",
       "\t<tr><th scope=row>capitalLoss</th><td> 2           </td><td> 230.28240   </td><td>23831        </td><td>16251.94     </td><td> 9.881235e-51</td></tr>\n",
       "\t<tr><th scope=row>hoursWeek</th><td> 1           </td><td> 225.47240   </td><td>23830        </td><td>16026.47     </td><td> 5.791333e-51</td></tr>\n",
       "\t<tr><th scope=row>LcapitalGain</th><td> 1           </td><td> 254.69516   </td><td>23829        </td><td>15771.77     </td><td> 2.459741e-57</td></tr>\n",
       "\t<tr><th scope=row>LcapitalLoss</th><td> 1           </td><td>  29.99125   </td><td>23828        </td><td>15741.78     </td><td> 4.340007e-08</td></tr>\n",
       "\t<tr><th scope=row>ageQ</th><td> 4           </td><td> 313.60223   </td><td>23824        </td><td>15428.18     </td><td> 1.259654e-66</td></tr>\n",
       "\t<tr><th scope=row>hoursWeekQ</th><td> 2           </td><td>  73.29002   </td><td>23822        </td><td>15354.89     </td><td> 1.216956e-16</td></tr>\n",
       "\t<tr><th scope=row>Child</th><td> 1           </td><td>  30.18950   </td><td>23821        </td><td>15324.70     </td><td> 3.918245e-08</td></tr>\n",
       "</tbody>\n",
       "</table>\n"
      ],
      "text/latex": [
       "\\begin{tabular}{r|lllll}\n",
       "  & Df & Deviance & Resid. Df & Resid. Dev & Pr(>Chi)\\\\\n",
       "\\hline\n",
       "\tNULL & NA            &         NA    & 23859         & 26987.35      &            NA\\\\\n",
       "\tage &  1            & 1323.40204    & 23858         & 25663.94      & 9.282513e-290\\\\\n",
       "\tworkClass &  4            &  143.06839    & 23854         & 25520.88      &  6.217805e-30\\\\\n",
       "\teducation &  7            & 2816.95193    & 23847         & 22703.92      &  0.000000e+00\\\\\n",
       "\teducNum &  1            &   25.85281    & 23846         & 22678.07      &  3.684672e-07\\\\\n",
       "\tmariStat &  3            & 4102.51916    & 23843         & 18575.55      &  0.000000e+00\\\\\n",
       "\toccup &  6            &  559.42350    & 23837         & 18016.13      & 1.312883e-117\\\\\n",
       "\torigEthn &  1            &   14.79769    & 23836         & 18001.33      &  1.196820e-04\\\\\n",
       "\tsex &  1            &   40.87427    & 23835         & 17960.46      &  1.623445e-10\\\\\n",
       "\tcapitalGain &  2            & 1478.23645    & 23833         & 16482.22      & 1.012835e-321\\\\\n",
       "\tcapitalLoss &  2            &  230.28240    & 23831         & 16251.94      &  9.881235e-51\\\\\n",
       "\thoursWeek &  1            &  225.47240    & 23830         & 16026.47      &  5.791333e-51\\\\\n",
       "\tLcapitalGain &  1            &  254.69516    & 23829         & 15771.77      &  2.459741e-57\\\\\n",
       "\tLcapitalLoss &  1            &   29.99125    & 23828         & 15741.78      &  4.340007e-08\\\\\n",
       "\tageQ &  4            &  313.60223    & 23824         & 15428.18      &  1.259654e-66\\\\\n",
       "\thoursWeekQ &  2            &   73.29002    & 23822         & 15354.89      &  1.216956e-16\\\\\n",
       "\tChild &  1            &   30.18950    & 23821         & 15324.70      &  3.918245e-08\\\\\n",
       "\\end{tabular}\n"
      ],
      "text/markdown": [
       "\n",
       "| <!--/--> | Df | Deviance | Resid. Df | Resid. Dev | Pr(>Chi) |\n",
       "|---|---|---|---|---|---|\n",
       "| NULL | NA            |         NA    | 23859         | 26987.35      |            NA |\n",
       "| age |  1            | 1323.40204    | 23858         | 25663.94      | 9.282513e-290 |\n",
       "| workClass |  4            |  143.06839    | 23854         | 25520.88      |  6.217805e-30 |\n",
       "| education |  7            | 2816.95193    | 23847         | 22703.92      |  0.000000e+00 |\n",
       "| educNum |  1            |   25.85281    | 23846         | 22678.07      |  3.684672e-07 |\n",
       "| mariStat |  3            | 4102.51916    | 23843         | 18575.55      |  0.000000e+00 |\n",
       "| occup |  6            |  559.42350    | 23837         | 18016.13      | 1.312883e-117 |\n",
       "| origEthn |  1            |   14.79769    | 23836         | 18001.33      |  1.196820e-04 |\n",
       "| sex |  1            |   40.87427    | 23835         | 17960.46      |  1.623445e-10 |\n",
       "| capitalGain |  2            | 1478.23645    | 23833         | 16482.22      | 1.012835e-321 |\n",
       "| capitalLoss |  2            |  230.28240    | 23831         | 16251.94      |  9.881235e-51 |\n",
       "| hoursWeek |  1            |  225.47240    | 23830         | 16026.47      |  5.791333e-51 |\n",
       "| LcapitalGain |  1            |  254.69516    | 23829         | 15771.77      |  2.459741e-57 |\n",
       "| LcapitalLoss |  1            |   29.99125    | 23828         | 15741.78      |  4.340007e-08 |\n",
       "| ageQ |  4            |  313.60223    | 23824         | 15428.18      |  1.259654e-66 |\n",
       "| hoursWeekQ |  2            |   73.29002    | 23822         | 15354.89      |  1.216956e-16 |\n",
       "| Child |  1            |   30.18950    | 23821         | 15324.70      |  3.918245e-08 |\n",
       "\n"
      ],
      "text/plain": [
       "             Df Deviance   Resid. Df Resid. Dev Pr(>Chi)     \n",
       "NULL         NA         NA 23859     26987.35              NA\n",
       "age           1 1323.40204 23858     25663.94   9.282513e-290\n",
       "workClass     4  143.06839 23854     25520.88    6.217805e-30\n",
       "education     7 2816.95193 23847     22703.92    0.000000e+00\n",
       "educNum       1   25.85281 23846     22678.07    3.684672e-07\n",
       "mariStat      3 4102.51916 23843     18575.55    0.000000e+00\n",
       "occup         6  559.42350 23837     18016.13   1.312883e-117\n",
       "origEthn      1   14.79769 23836     18001.33    1.196820e-04\n",
       "sex           1   40.87427 23835     17960.46    1.623445e-10\n",
       "capitalGain   2 1478.23645 23833     16482.22   1.012835e-321\n",
       "capitalLoss   2  230.28240 23831     16251.94    9.881235e-51\n",
       "hoursWeek     1  225.47240 23830     16026.47    5.791333e-51\n",
       "LcapitalGain  1  254.69516 23829     15771.77    2.459741e-57\n",
       "LcapitalLoss  1   29.99125 23828     15741.78    4.340007e-08\n",
       "ageQ          4  313.60223 23824     15428.18    1.259654e-66\n",
       "hoursWeekQ    2   73.29002 23822     15354.89    1.216956e-16\n",
       "Child         1   30.18950 23821     15324.70    3.918245e-08"
      ]
     },
     "metadata": {},
     "output_type": "display_data"
    }
   ],
   "source": [
    "# estimation du modèle complet\n",
    "log.lm=glm(income~.,data=datApp,family=binomial)\n",
    "# significativité des paramètres\n",
    "anova(log.lm,test=\"Chisq\")"
   ]
  },
  {
   "cell_type": "code",
   "execution_count": 19,
   "metadata": {},
   "outputs": [
    {
     "data": {
      "text/plain": [
       "       \n",
       "        incLow incHigh\n",
       "  FALSE   4159     551\n",
       "  TRUE     334     921"
      ]
     },
     "metadata": {},
     "output_type": "display_data"
    }
   ],
   "source": [
    "# Prévision\n",
    "pred.log=predict(log.lm,newdata=daTest,type=\"response\")\n",
    "# Matrice de confusion pour la prévision du \n",
    "# dépassement de seuil\n",
    "confMat=table(pred.log>0.5,daTest$income)\n",
    "confMat"
   ]
  },
  {
   "cell_type": "code",
   "execution_count": 20,
   "metadata": {},
   "outputs": [
    {
     "data": {
      "text/html": [
       "14.84"
      ],
      "text/latex": [
       "14.84"
      ],
      "text/markdown": [
       "14.84"
      ],
      "text/plain": [
       "[1] 14.84"
      ]
     },
     "metadata": {},
     "output_type": "display_data"
    }
   ],
   "source": [
    "tauxErr(confMat)"
   ]
  },
  {
   "cell_type": "markdown",
   "metadata": {},
   "source": [
    "Les résultats sont très similaires à ceux obtenus par d'autres algorithmes comme les forêts aléatoires."
   ]
  },
  {
   "cell_type": "markdown",
   "metadata": {},
   "source": [
    "### 3.3 Modèle de régression sans la variable genre"
   ]
  },
  {
   "cell_type": "code",
   "execution_count": 21,
   "metadata": {},
   "outputs": [
    {
     "data": {
      "text/html": [
       "<table>\n",
       "<thead><tr><th></th><th scope=col>Df</th><th scope=col>Deviance</th><th scope=col>Resid. Df</th><th scope=col>Resid. Dev</th><th scope=col>Pr(&gt;Chi)</th></tr></thead>\n",
       "<tbody>\n",
       "\t<tr><th scope=row>NULL</th><td>NA           </td><td>        NA   </td><td>23859        </td><td>26987.35     </td><td>           NA</td></tr>\n",
       "\t<tr><th scope=row>age</th><td> 1           </td><td>1323.40204   </td><td>23858        </td><td>25663.94     </td><td>9.282513e-290</td></tr>\n",
       "\t<tr><th scope=row>workClass</th><td> 4           </td><td> 143.06839   </td><td>23854        </td><td>25520.88     </td><td> 6.217805e-30</td></tr>\n",
       "\t<tr><th scope=row>education</th><td> 7           </td><td>2816.95193   </td><td>23847        </td><td>22703.92     </td><td> 0.000000e+00</td></tr>\n",
       "\t<tr><th scope=row>educNum</th><td> 1           </td><td>  25.85281   </td><td>23846        </td><td>22678.07     </td><td> 3.684672e-07</td></tr>\n",
       "\t<tr><th scope=row>mariStat</th><td> 3           </td><td>4102.51916   </td><td>23843        </td><td>18575.55     </td><td> 0.000000e+00</td></tr>\n",
       "\t<tr><th scope=row>occup</th><td> 6           </td><td> 559.42350   </td><td>23837        </td><td>18016.13     </td><td>1.312883e-117</td></tr>\n",
       "\t<tr><th scope=row>origEthn</th><td> 1           </td><td>  14.79769   </td><td>23836        </td><td>18001.33     </td><td> 1.196820e-04</td></tr>\n",
       "\t<tr><th scope=row>capitalGain</th><td> 2           </td><td>1489.47218   </td><td>23834        </td><td>16511.86     </td><td>4.940656e-324</td></tr>\n",
       "\t<tr><th scope=row>capitalLoss</th><td> 2           </td><td> 232.37219   </td><td>23832        </td><td>16279.49     </td><td> 3.475519e-51</td></tr>\n",
       "\t<tr><th scope=row>hoursWeek</th><td> 1           </td><td> 242.57890   </td><td>23831        </td><td>16036.91     </td><td> 1.077463e-54</td></tr>\n",
       "\t<tr><th scope=row>LcapitalGain</th><td> 1           </td><td> 254.52219   </td><td>23830        </td><td>15782.39     </td><td> 2.682848e-57</td></tr>\n",
       "\t<tr><th scope=row>LcapitalLoss</th><td> 1           </td><td>  30.32142   </td><td>23829        </td><td>15752.06     </td><td> 3.660611e-08</td></tr>\n",
       "\t<tr><th scope=row>ageQ</th><td> 4           </td><td> 312.53485   </td><td>23825        </td><td>15439.53     </td><td> 2.140711e-66</td></tr>\n",
       "\t<tr><th scope=row>hoursWeekQ</th><td> 2           </td><td>  78.83186   </td><td>23823        </td><td>15360.70     </td><td> 7.618669e-18</td></tr>\n",
       "\t<tr><th scope=row>Child</th><td> 1           </td><td>  29.72461   </td><td>23822        </td><td>15330.97     </td><td> 4.979853e-08</td></tr>\n",
       "</tbody>\n",
       "</table>\n"
      ],
      "text/latex": [
       "\\begin{tabular}{r|lllll}\n",
       "  & Df & Deviance & Resid. Df & Resid. Dev & Pr(>Chi)\\\\\n",
       "\\hline\n",
       "\tNULL & NA            &         NA    & 23859         & 26987.35      &            NA\\\\\n",
       "\tage &  1            & 1323.40204    & 23858         & 25663.94      & 9.282513e-290\\\\\n",
       "\tworkClass &  4            &  143.06839    & 23854         & 25520.88      &  6.217805e-30\\\\\n",
       "\teducation &  7            & 2816.95193    & 23847         & 22703.92      &  0.000000e+00\\\\\n",
       "\teducNum &  1            &   25.85281    & 23846         & 22678.07      &  3.684672e-07\\\\\n",
       "\tmariStat &  3            & 4102.51916    & 23843         & 18575.55      &  0.000000e+00\\\\\n",
       "\toccup &  6            &  559.42350    & 23837         & 18016.13      & 1.312883e-117\\\\\n",
       "\torigEthn &  1            &   14.79769    & 23836         & 18001.33      &  1.196820e-04\\\\\n",
       "\tcapitalGain &  2            & 1489.47218    & 23834         & 16511.86      & 4.940656e-324\\\\\n",
       "\tcapitalLoss &  2            &  232.37219    & 23832         & 16279.49      &  3.475519e-51\\\\\n",
       "\thoursWeek &  1            &  242.57890    & 23831         & 16036.91      &  1.077463e-54\\\\\n",
       "\tLcapitalGain &  1            &  254.52219    & 23830         & 15782.39      &  2.682848e-57\\\\\n",
       "\tLcapitalLoss &  1            &   30.32142    & 23829         & 15752.06      &  3.660611e-08\\\\\n",
       "\tageQ &  4            &  312.53485    & 23825         & 15439.53      &  2.140711e-66\\\\\n",
       "\thoursWeekQ &  2            &   78.83186    & 23823         & 15360.70      &  7.618669e-18\\\\\n",
       "\tChild &  1            &   29.72461    & 23822         & 15330.97      &  4.979853e-08\\\\\n",
       "\\end{tabular}\n"
      ],
      "text/markdown": [
       "\n",
       "| <!--/--> | Df | Deviance | Resid. Df | Resid. Dev | Pr(>Chi) |\n",
       "|---|---|---|---|---|---|\n",
       "| NULL | NA            |         NA    | 23859         | 26987.35      |            NA |\n",
       "| age |  1            | 1323.40204    | 23858         | 25663.94      | 9.282513e-290 |\n",
       "| workClass |  4            |  143.06839    | 23854         | 25520.88      |  6.217805e-30 |\n",
       "| education |  7            | 2816.95193    | 23847         | 22703.92      |  0.000000e+00 |\n",
       "| educNum |  1            |   25.85281    | 23846         | 22678.07      |  3.684672e-07 |\n",
       "| mariStat |  3            | 4102.51916    | 23843         | 18575.55      |  0.000000e+00 |\n",
       "| occup |  6            |  559.42350    | 23837         | 18016.13      | 1.312883e-117 |\n",
       "| origEthn |  1            |   14.79769    | 23836         | 18001.33      |  1.196820e-04 |\n",
       "| capitalGain |  2            | 1489.47218    | 23834         | 16511.86      | 4.940656e-324 |\n",
       "| capitalLoss |  2            |  232.37219    | 23832         | 16279.49      |  3.475519e-51 |\n",
       "| hoursWeek |  1            |  242.57890    | 23831         | 16036.91      |  1.077463e-54 |\n",
       "| LcapitalGain |  1            |  254.52219    | 23830         | 15782.39      |  2.682848e-57 |\n",
       "| LcapitalLoss |  1            |   30.32142    | 23829         | 15752.06      |  3.660611e-08 |\n",
       "| ageQ |  4            |  312.53485    | 23825         | 15439.53      |  2.140711e-66 |\n",
       "| hoursWeekQ |  2            |   78.83186    | 23823         | 15360.70      |  7.618669e-18 |\n",
       "| Child |  1            |   29.72461    | 23822         | 15330.97      |  4.979853e-08 |\n",
       "\n"
      ],
      "text/plain": [
       "             Df Deviance   Resid. Df Resid. Dev Pr(>Chi)     \n",
       "NULL         NA         NA 23859     26987.35              NA\n",
       "age           1 1323.40204 23858     25663.94   9.282513e-290\n",
       "workClass     4  143.06839 23854     25520.88    6.217805e-30\n",
       "education     7 2816.95193 23847     22703.92    0.000000e+00\n",
       "educNum       1   25.85281 23846     22678.07    3.684672e-07\n",
       "mariStat      3 4102.51916 23843     18575.55    0.000000e+00\n",
       "occup         6  559.42350 23837     18016.13   1.312883e-117\n",
       "origEthn      1   14.79769 23836     18001.33    1.196820e-04\n",
       "capitalGain   2 1489.47218 23834     16511.86   4.940656e-324\n",
       "capitalLoss   2  232.37219 23832     16279.49    3.475519e-51\n",
       "hoursWeek     1  242.57890 23831     16036.91    1.077463e-54\n",
       "LcapitalGain  1  254.52219 23830     15782.39    2.682848e-57\n",
       "LcapitalLoss  1   30.32142 23829     15752.06    3.660611e-08\n",
       "ageQ          4  312.53485 23825     15439.53    2.140711e-66\n",
       "hoursWeekQ    2   78.83186 23823     15360.70    7.618669e-18\n",
       "Child         1   29.72461 23822     15330.97    4.979853e-08"
      ]
     },
     "metadata": {},
     "output_type": "display_data"
    }
   ],
   "source": [
    "# estimation du modèle complet\n",
    "log_g.lm=glm(income~.,data=datApp[,-8],family=binomial)\n",
    "# significativité des paramètres\n",
    "anova(log_g.lm,test=\"Chisq\")"
   ]
  },
  {
   "cell_type": "code",
   "execution_count": 22,
   "metadata": {},
   "outputs": [
    {
     "data": {
      "text/plain": [
       "       \n",
       "        incLow incHigh\n",
       "  FALSE   4163     551\n",
       "  TRUE     330     921"
      ]
     },
     "metadata": {},
     "output_type": "display_data"
    }
   ],
   "source": [
    "# Prévision\n",
    "pred_g.log=predict(log_g.lm,newdata=daTest[,-8],type=\"response\")\n",
    "# Matrice de confusion pour la prévision du \n",
    "# dépassement de seuil\n",
    "confMat=table(pred_g.log>0.5,daTest$income)\n",
    "confMat"
   ]
  },
  {
   "cell_type": "code",
   "execution_count": 23,
   "metadata": {},
   "outputs": [
    {
     "data": {
      "text/html": [
       "14.77"
      ],
      "text/latex": [
       "14.77"
      ],
      "text/markdown": [
       "14.77"
      ],
      "text/plain": [
       "[1] 14.77"
      ]
     },
     "metadata": {},
     "output_type": "display_data"
    }
   ],
   "source": [
    "tauxErr(confMat)"
   ]
  },
  {
   "cell_type": "markdown",
   "metadata": {},
   "source": [
    "La qualité de prévision est sensiblement la même.\n",
    "### 3.4 Régression logistique sans l'origine"
   ]
  },
  {
   "cell_type": "code",
   "execution_count": 24,
   "metadata": {},
   "outputs": [
    {
     "data": {
      "text/plain": [
       "       \n",
       "        incLow incHigh\n",
       "  FALSE   4161     553\n",
       "  TRUE     332     919"
      ]
     },
     "metadata": {},
     "output_type": "display_data"
    },
    {
     "data": {
      "text/html": [
       "14.84"
      ],
      "text/latex": [
       "14.84"
      ],
      "text/markdown": [
       "14.84"
      ],
      "text/plain": [
       "[1] 14.84"
      ]
     },
     "metadata": {},
     "output_type": "display_data"
    }
   ],
   "source": [
    "# estimation du modèle complet\n",
    "log_o.lm=glm(income~.,data=datApp[,-7],family=binomial)\n",
    "# Prévision\n",
    "pred_o.log=predict(log_o.lm,newdata=daTest[,-7],type=\"response\")\n",
    "# Matrice de confusion pour la prévision du \n",
    "# dépassement de seuil\n",
    "confMat=table(pred_o.log>0.5,daTest$income)\n",
    "confMat; tauxErr(confMat)"
   ]
  },
  {
   "cell_type": "markdown",
   "metadata": {},
   "source": [
    "Même remarque."
   ]
  },
  {
   "cell_type": "markdown",
   "metadata": {},
   "source": [
    "## 4 Estimation de l'effet disproportionné\n",
    "### 4.1 Définition\n",
    "Les mesures de discrimination indirecte ou de groupe sont basées sur un critère d'effet disproportionné ou *disparate impact* (*DI*) apparu aux USA en 1971 pour détecter des situations discriminatoires à l'embauche. Ce critère est défini par le rapport de deux probabilités. La probabilité de bénéficier d'une situation ou décision favorable (revenu élevé, crédit, emploi...) pour une personne du groupe protégé par la loi: femme ou origine non caucasienne, sur la même probabilité pour une personne de l'autre groupe: homme ou origine caucasienne.\n",
    "\n",
    "*Notations*: \n",
    "\n",
    "- $Y$ est la variable cible ou à expliquer, ici le revenu, $Y=1$ revenu élevé *vs* $Y=0$; \n",
    "- $g(X)=\\hat{Y}$ le score élevé ou faible ou prévision du revenu, $g(X)=\\hat{Y}=0$: prévision d'un revenu faible;\n",
    "- $S$ est la variable sensible qui désigne le groupe en principe protégé par la loi contre une possible discrimination. Il s'agit ici du genre ou de l'origine ethnique réduite à 2 modalités: caucasien ($S=1$) ou non caucasien ($S=0$). \n",
    "\n",
    "L'effet disproportionné mesure une situation de biais de société déjà présent dans la base de données. \n",
    "$$DI=\\frac{P(Y=1|S=0)}{P(Y=1|S=1)}.$$\n",
    "Il est estimé à partir des valeurs de la table de contingence croisant les variables $Y$ et $S$ par le rapport:\n",
    "$$\\frac{n_{21}}{(n_{11}+n_{21})}/\\frac{n_{22}}{(n_{12}+n_{22})}.$$\n",
    "\n",
    "Appliqué à la prévision $g(X)=\\hat{Y}$ de la variable cible $Y$, il mesure le biais de cette prévision et donc le risque de discrimination opéré par la prévision.\n",
    "\n",
    "### 4.2 Fonction *disparate*\n",
    "Une fonction R calcule le $DI$ et fournit de plus une estimation par intervalle de confiance (Besse et al. 2018) décomposant la fonction de densité de la statistique de test par la *delta method*. Cette fonction a quatre arguments:   \n",
    "- une matrice $X$ de valeurs binaires $(0,1)$;\n",
    "- l'indice de la variable $S$  de $X$ considérée comme sensible; \n",
    "- l'indice de la variable cible $Y$ ou de sa prévision $g(X)=\\hat{Y}$;\n",
    "- le risque de l'intervalle de confiance, par défaut 5%.\n",
    "\n",
    "Elle renvoie les trois estimations $DI$ et $IC_g$, $IC_d$ bornes de l'intervalle de confiance.\n",
    "\n",
    "Cette fonction estime aussi, la cas échéant, le *BER* (*Balanced Error Rate*):\n",
    "$$BER=\\frac{P(\\hat{Y}=0|S=1)+P(\\hat{Y}=1|S=0)}{2}.$$"
   ]
  },
  {
   "cell_type": "code",
   "execution_count": 25,
   "metadata": {},
   "outputs": [],
   "source": [
    "source(\"disparate.R\")"
   ]
  },
  {
   "cell_type": "markdown",
   "metadata": {},
   "source": [
    "### 4.3 Effet disproportionné de la base d'apprentissage\n",
    "Calculé sur les données initiales, le *disparate impact* met en évidence un biais social fort. Les variables sensibles sont le genre puis l'origine ethnique. La fonction `disparate` nécessite de mettre en forme les variables utilisées; \"1\" code la modalité plus \"favorable\": homme, caucasien, revenu élevé."
   ]
  },
  {
   "cell_type": "code",
   "execution_count": 26,
   "metadata": {},
   "outputs": [],
   "source": [
    "# Variable genre rendue entière: 0, 1\n",
    "s1= as.integer(datBas[,8])-1\n",
    "# variable origine ethnique rendue entière 0, 1\n",
    "s2= as.integer(datBas[,7])-1\n",
    "# Variable cible ou décision (seuil de revenu) également entière: 0, 1\n",
    "Y=as.integer(datBas$income)-1\n",
    "coded_data=data.frame(s1,s2,Y)"
   ]
  },
  {
   "cell_type": "markdown",
   "metadata": {},
   "source": [
    "#### Ségrégation vis à vis du genre\n",
    "*Table de contingence croisant $Y$ avec $S$."
   ]
  },
  {
   "cell_type": "code",
   "execution_count": 27,
   "metadata": {},
   "outputs": [
    {
     "data": {
      "text/plain": [
       "   \n",
       "        0     1\n",
       "  0  8520 13798\n",
       "  1  1112  6395"
      ]
     },
     "metadata": {},
     "output_type": "display_data"
    }
   ],
   "source": [
    "tableDI=table(coded_data$Y,coded_data$s1)\n",
    "tableDI"
   ]
  },
  {
   "cell_type": "markdown",
   "metadata": {},
   "source": [
    "*Estimation ponctuelle* de $DI=\\frac{n_{21}}{(n_{11}+n_{21})}/\\frac{n_{22}}{(n_{12}+n_{22})}.$"
   ]
  },
  {
   "cell_type": "code",
   "execution_count": 28,
   "metadata": {},
   "outputs": [
    {
     "data": {
      "text/html": [
       "0.364542871169596"
      ],
      "text/latex": [
       "0.364542871169596"
      ],
      "text/markdown": [
       "0.364542871169596"
      ],
      "text/plain": [
       "[1] 0.3645429"
      ]
     },
     "metadata": {},
     "output_type": "display_data"
    }
   ],
   "source": [
    "(tableDI[2,1]/(tableDI[1,1]+tableDI[2,1]))/(tableDI[2,2]/(tableDI[1,2]+tableDI[2,2]))"
   ]
  },
  {
   "cell_type": "markdown",
   "metadata": {},
   "source": [
    "*Estimation par intervalle de confiance*; approximation par *delta method*. "
   ]
  },
  {
   "cell_type": "code",
   "execution_count": 29,
   "metadata": {},
   "outputs": [
    {
     "data": {
      "text/html": [
       "<ol class=list-inline>\n",
       "\t<li>0.343</li>\n",
       "\t<li>0.365</li>\n",
       "\t<li>0.386</li>\n",
       "</ol>\n"
      ],
      "text/latex": [
       "\\begin{enumerate*}\n",
       "\\item 0.343\n",
       "\\item 0.365\n",
       "\\item 0.386\n",
       "\\end{enumerate*}\n"
      ],
      "text/markdown": [
       "1. 0.343\n",
       "2. 0.365\n",
       "3. 0.386\n",
       "\n",
       "\n"
      ],
      "text/plain": [
       "[1] 0.343 0.365 0.386"
      ]
     },
     "metadata": {},
     "output_type": "display_data"
    }
   ],
   "source": [
    "round(disparate(coded_data,1,3),3)[1:3]"
   ]
  },
  {
   "cell_type": "markdown",
   "metadata": {},
   "source": [
    "*Estimation bootstrap de l'intervalle de confiance*\n",
    "\n",
    "L'estimation du *DI* est instable mais l'estimation sur des échantillons bootstrap restent dans la zone de risque contrôlée par l'intervalle de confiance. "
   ]
  },
  {
   "cell_type": "code",
   "execution_count": 30,
   "metadata": {},
   "outputs": [],
   "source": [
    "# une parallélisation serait bienvenue!\n",
    "B=1000 \n",
    "set.seed(11)\n",
    "n=nrow(coded_data)\n",
    "res=matrix(0,B,3)\n",
    "for (i in 1:B)\n",
    "    {\n",
    "    boot=sample(n,n,replace=T)\n",
    "    res[i,]=disparate(coded_data[boot,],1,3)[1:3]\n",
    "    }"
   ]
  },
  {
   "cell_type": "code",
   "execution_count": 31,
   "metadata": {},
   "outputs": [
    {
     "data": {
      "image/png": "[encoded data removed]",
      "text/plain": [
       "plot without title"
      ]
     },
     "metadata": {},
     "output_type": "display_data"
    }
   ],
   "source": [
    "options(repr.plot.width=5, repr.plot.height=4)\n",
    "plot(res[,2],ylim=c(0.3,0.45),pch='.')\n",
    "lines(res[,2],col=3,pch='.')\n",
    "abline(h=0.343,col=2)\n",
    "abline(h=0.386,col=2)"
   ]
  },
  {
   "cell_type": "markdown",
   "metadata": {},
   "source": [
    "Estimation bootstrap de l'intervalle de confiance."
   ]
  },
  {
   "cell_type": "code",
   "execution_count": 32,
   "metadata": {},
   "outputs": [
    {
     "data": {
      "text/plain": [
       "\n",
       "ORDINARY NONPARAMETRIC BOOTSTRAP\n",
       "\n",
       "\n",
       "Call:\n",
       "boot(data = coded_data, statistic = fc, R = 1000)\n",
       "\n",
       "\n",
       "Bootstrap Statistics :\n",
       "     original        bias    std. error\n",
       "t1* 0.3645429 -2.375429e-05  0.01082264"
      ]
     },
     "metadata": {},
     "output_type": "display_data"
    }
   ],
   "source": [
    "library(boot)\n",
    "# à paralléliser!\n",
    "fc <- function(d, i){ \n",
    "    d2 <- d[i,]\n",
    "    return(statistic=disparate(d2,1,3)[2])\n",
    "}\n",
    "set.seed(11)\n",
    "bootDI <- boot(coded_data,fc, R=1000)\n",
    "bootDI"
   ]
  },
  {
   "cell_type": "code",
   "execution_count": 33,
   "metadata": {},
   "outputs": [
    {
     "data": {
      "text/plain": [
       "BOOTSTRAP CONFIDENCE INTERVAL CALCULATIONS\n",
       "Based on 1000 bootstrap replicates\n",
       "\n",
       "CALL : \n",
       "boot.ci(boot.out = bootDI, type = \"perc\")\n",
       "\n",
       "Intervals : \n",
       "Level     Percentile     \n",
       "95%   ( 0.3440,  0.3864 )  \n",
       "Calculations and Intervals on Original Scale"
      ]
     },
     "metadata": {},
     "output_type": "display_data"
    }
   ],
   "source": [
    "boot.ci(boot.out = bootDI, type = \"perc\")"
   ]
  },
  {
   "cell_type": "markdown",
   "metadata": {},
   "source": [
    "Comme supposé, l'intervalle de confiance issu de l'approximation par *delta method*: $[0.343, 0.386]$ se confond avec  celui obtenu par estimation bootstrap: $[0.344, 0.386]$.\n",
    "\n",
    "Compte tenu des temps de calcul, la version approchée de l'IC par intervalle de confiance est à privilégier!"
   ]
  },
  {
   "cell_type": "markdown",
   "metadata": {},
   "source": [
    "#### Biais vis à vis de l'origine: caucasienne *vs.* autre. "
   ]
  },
  {
   "cell_type": "code",
   "execution_count": 34,
   "metadata": {},
   "outputs": [
    {
     "data": {
      "text/html": [
       "<ol class=list-inline>\n",
       "\t<li>0.555</li>\n",
       "\t<li>0.598</li>\n",
       "\t<li>0.641</li>\n",
       "</ol>\n"
      ],
      "text/latex": [
       "\\begin{enumerate*}\n",
       "\\item 0.555\n",
       "\\item 0.598\n",
       "\\item 0.641\n",
       "\\end{enumerate*}\n"
      ],
      "text/markdown": [
       "1. 0.555\n",
       "2. 0.598\n",
       "3. 0.641\n",
       "\n",
       "\n"
      ],
      "text/plain": [
       "[1] 0.555 0.598 0.641"
      ]
     },
     "metadata": {},
     "output_type": "display_data"
    }
   ],
   "source": [
    "round(disparate(coded_data,2,3),3)[1:3]"
   ]
  },
  {
   "cell_type": "markdown",
   "metadata": {},
   "source": [
    "Biais nettement plus important selon le genre que selon l'origine ethnique."
   ]
  },
  {
   "cell_type": "markdown",
   "metadata": {},
   "source": [
    "### 4.4 Effet disproportionné des prévisions par régression logistique\n",
    "Le même ratio ou impact disproportionné calculé sur les prévisions $g(X)$ de $Y$ plutôt que sur $Y$ mesure explicitement l'effet de la prévision. Il revient à évaluer l'égalité des taux de prévision favorable. \n",
    "\n",
    "La valeur seuil de la probabilité de dépassement du seuil de revenu est fixée par défaut à 0.5."
   ]
  },
  {
   "cell_type": "code",
   "execution_count": 35,
   "metadata": {},
   "outputs": [],
   "source": [
    "Yhat=as.numeric(pred.log>0.5)\n",
    "coded_data1=data.frame(s1[testi],s2[testi],Yhat,as.integer(daTest$income)-1)"
   ]
  },
  {
   "cell_type": "markdown",
   "metadata": {},
   "source": [
    "#### Avec régression logistique et par genre\n",
    "La prévision reproduit et même renforce significativement le biais social pour le genre."
   ]
  },
  {
   "cell_type": "code",
   "execution_count": 36,
   "metadata": {},
   "outputs": [
    {
     "data": {
      "text/html": [
       "<ol class=list-inline>\n",
       "\t<li>0.212</li>\n",
       "\t<li>0.255</li>\n",
       "\t<li>0.298</li>\n",
       "</ol>\n"
      ],
      "text/latex": [
       "\\begin{enumerate*}\n",
       "\\item 0.212\n",
       "\\item 0.255\n",
       "\\item 0.298\n",
       "\\end{enumerate*}\n"
      ],
      "text/markdown": [
       "1. 0.212\n",
       "2. 0.255\n",
       "3. 0.298\n",
       "\n",
       "\n"
      ],
      "text/plain": [
       "[1] 0.212 0.255 0.298"
      ]
     },
     "metadata": {},
     "output_type": "display_data"
    }
   ],
   "source": [
    "round(disparate(coded_data1,1,3),3)[1:3]"
   ]
  },
  {
   "cell_type": "markdown",
   "metadata": {},
   "source": [
    "#### Avec régression logistique et par origine\n",
    "Le renforcement du biais selon l'origine n'est pas statistiquement significatif."
   ]
  },
  {
   "cell_type": "code",
   "execution_count": 37,
   "metadata": {},
   "outputs": [
    {
     "data": {
      "text/html": [
       "<ol class=list-inline>\n",
       "\t<li>0.416</li>\n",
       "\t<li>0.511</li>\n",
       "\t<li>0.607</li>\n",
       "</ol>\n"
      ],
      "text/latex": [
       "\\begin{enumerate*}\n",
       "\\item 0.416\n",
       "\\item 0.511\n",
       "\\item 0.607\n",
       "\\end{enumerate*}\n"
      ],
      "text/markdown": [
       "1. 0.416\n",
       "2. 0.511\n",
       "3. 0.607\n",
       "\n",
       "\n"
      ],
      "text/plain": [
       "[1] 0.416 0.511 0.607"
      ]
     },
     "metadata": {},
     "output_type": "display_data"
    }
   ],
   "source": [
    "round(disparate(coded_data1,2,3),3)[1:3]"
   ]
  },
  {
   "cell_type": "markdown",
   "metadata": {},
   "source": [
    "### 4.5 Effet disproportionné des prévisions sans la variable sensible\n",
    "Le genre ou l'origine ethnique impacte le type d'activité et en conséquence le revenu. Aussi, supprimer la variable sensible du modèle ne suffit évidemment pas à réduire le biais discirminatoire.\n",
    "#### Avec la régression et par genre"
   ]
  },
  {
   "cell_type": "code",
   "execution_count": 38,
   "metadata": {},
   "outputs": [
    {
     "data": {
      "text/html": [
       "<ol class=list-inline>\n",
       "\t<li>0.226</li>\n",
       "\t<li>0.27</li>\n",
       "\t<li>0.315</li>\n",
       "</ol>\n"
      ],
      "text/latex": [
       "\\begin{enumerate*}\n",
       "\\item 0.226\n",
       "\\item 0.27\n",
       "\\item 0.315\n",
       "\\end{enumerate*}\n"
      ],
      "text/markdown": [
       "1. 0.226\n",
       "2. 0.27\n",
       "3. 0.315\n",
       "\n",
       "\n"
      ],
      "text/plain": [
       "[1] 0.226 0.270 0.315"
      ]
     },
     "metadata": {},
     "output_type": "display_data"
    }
   ],
   "source": [
    "Yhat=as.numeric(pred_g.log>0.5)\n",
    "coded_data=data.frame(s1[testi],s2[testi],Yhat)\n",
    "round(disparate(coded_data,1,3),3)[1:3]"
   ]
  },
  {
   "cell_type": "markdown",
   "metadata": {},
   "source": [
    "#### Avec la régression et par origine"
   ]
  },
  {
   "cell_type": "code",
   "execution_count": 39,
   "metadata": {},
   "outputs": [
    {
     "data": {
      "text/html": [
       "<ol class=list-inline>\n",
       "\t<li>0.461</li>\n",
       "\t<li>0.561</li>\n",
       "\t<li>0.662</li>\n",
       "</ol>\n"
      ],
      "text/latex": [
       "\\begin{enumerate*}\n",
       "\\item 0.461\n",
       "\\item 0.561\n",
       "\\item 0.662\n",
       "\\end{enumerate*}\n"
      ],
      "text/markdown": [
       "1. 0.461\n",
       "2. 0.561\n",
       "3. 0.662\n",
       "\n",
       "\n"
      ],
      "text/plain": [
       "[1] 0.461 0.561 0.662"
      ]
     },
     "metadata": {},
     "output_type": "display_data"
    }
   ],
   "source": [
    "Yhat=as.numeric(pred_o.log>0.5)\n",
    "coded_data=data.frame(s1[testi],s2[testi],Yhat)\n",
    "round(disparate(coded_data,2,3),3)[1:3]"
   ]
  },
  {
   "cell_type": "markdown",
   "metadata": {},
   "source": [
    "La réduction du *disparate impact* obtenue en supprimant la variable sensible n'est pas statistiquement significative de même que les erreurs de prévisions restent stables. Le déterminisme social est plus fort que la présence de la variable sensible: *une femme ou une personne non caucasienne travaille moins ou de façon moins qualifiée quelque soit son niveau d'éducation*. "
   ]
  },
  {
   "cell_type": "markdown",
   "metadata": {},
   "source": [
    "## 5 Biais sur les erreurs ou précisions de prévision\n",
    "L'effet disproportionné est une première source de biais ou de discrimination parmi bien d'autres. Une deuxième souvent évoquée concerne les erreurs de prévision ou leurs précisions; c'est l'*overall accuracy equality*.\n",
    "### 5.1 Précision selon la variable sensible"
   ]
  },
  {
   "cell_type": "code",
   "execution_count": 40,
   "metadata": {},
   "outputs": [
    {
     "data": {
      "text/html": [
       "<dl class=dl-horizontal>\n",
       "\t<dt>Female</dt>\n",
       "\t\t<dd>92.48</dd>\n",
       "\t<dt>Male</dt>\n",
       "\t\t<dd>81.56</dd>\n",
       "</dl>\n"
      ],
      "text/latex": [
       "\\begin{description*}\n",
       "\\item[Female] 92.48\n",
       "\\item[Male] 81.56\n",
       "\\end{description*}\n"
      ],
      "text/markdown": [
       "Female\n",
       ":   92.48Male\n",
       ":   81.56\n",
       "\n"
      ],
      "text/plain": [
       "Female   Male \n",
       " 92.48  81.56 "
      ]
     },
     "metadata": {},
     "output_type": "display_data"
    }
   ],
   "source": [
    "apply(table(pred.log<0.5,daTest$income,daTest$sex),3,tauxErr)"
   ]
  },
  {
   "cell_type": "code",
   "execution_count": 41,
   "metadata": {},
   "outputs": [
    {
     "data": {
      "text/html": [
       "<dl class=dl-horizontal>\n",
       "\t<dt>CaucNo</dt>\n",
       "\t\t<dd>89.82</dd>\n",
       "\t<dt>CaucYes</dt>\n",
       "\t\t<dd>84.33</dd>\n",
       "</dl>\n"
      ],
      "text/latex": [
       "\\begin{description*}\n",
       "\\item[CaucNo] 89.82\n",
       "\\item[CaucYes] 84.33\n",
       "\\end{description*}\n"
      ],
      "text/markdown": [
       "CaucNo\n",
       ":   89.82CaucYes\n",
       ":   84.33\n",
       "\n"
      ],
      "text/plain": [
       " CaucNo CaucYes \n",
       "  89.82   84.33 "
      ]
     },
     "metadata": {},
     "output_type": "display_data"
    }
   ],
   "source": [
    "apply(table(pred.log<0.5,daTest$income,daTest$origEthn),3,tauxErr)"
   ]
  },
  {
   "cell_type": "markdown",
   "metadata": {},
   "source": [
    "Selon l'origine et surtout pour le genre, les précisions de la prévision sont très différentes mais au détriment du groupe \"majoritaire\", incluant sans doute beaucoup plus de disparité et donc de difficultés à être prédit.\n",
    "\n",
    "Une estimation par intervalle de confiance des rapports de ces quantités serait bienvenu."
   ]
  },
  {
   "cell_type": "markdown",
   "metadata": {},
   "source": [
    "## 5.2 Asymétrie de la matrice de confusion\n",
    "Une autre source de discrimination, mise en évidence par le site [Propublica](https://www.propublica.org/article/machine-bias-risk-assessments-in-criminal-sentencing) à propos du score de récidive, concerne une inversion de l'asymétrie de la matrice de confusion selon la variable sensible; notamment les taux de faux positifs ou faux négatifs selon le genre ou l'origine.\n",
    "\n",
    "De très nombreux critères ont été proposés pour évaluer cette asymétrie et dont [Verma et Rubin 2018](http://fairware.cs.umass.edu/papers/Verma.pdf)) proposent une synthèse. Leur définitions sont basées sur les différentes fréquences issues de la table de contingence et calculées par la fonction ci-dessous."
   ]
  },
  {
   "cell_type": "code",
   "execution_count": 42,
   "metadata": {},
   "outputs": [],
   "source": [
    "contRatio <- function(T){ \n",
    "    # Ratios calculés à partir de la matrice de confusion\n",
    "    TP=T[2,2] # true positive\n",
    "    FP=T[1,2] # false positive\n",
    "    FN=T[2,1] # false negative\n",
    "    TN=T[1,1]  # true negative\n",
    "    PPV=TP/(TP+FP) # P(Y=1|g(x)=1) positive predictive value\n",
    "    FDR=FP/(TP+FP) # P(Y=0|g(x)=1) false discovery rate \n",
    "    FOR=FN/(TN+FN) # P(Y=1|g(x)=0) false omission rate\n",
    "    NPV=TN/(TN+FN) # P(Y=0|g(x)=0) negative predictive value\n",
    "    TPR=TP/(TP+FN) # P(g(x)=1|Y=1) true positive rate\n",
    "    FPR=FP/(FP+TN) # P(g(x)=1|Y=0) false positive rate\n",
    "    FNR=FN/(TP+FN) # P(g(x)=0|Y=1) false negative rate\n",
    "    TNR=TN/(FP+TN) # P(g(x)=0|Y=0) true negative rate\n",
    "    return(list(\"PPV\"=PPV,\"FDR\"=FDR,\"FOR\"=FOR,\"NPV\"=NPV,\"TPR\"=TPR,\"FPR\"=FPR,\"FNR\"=FNR,\"TNR\"=TNR))\n",
    "}"
   ]
  },
  {
   "cell_type": "code",
   "execution_count": 43,
   "metadata": {},
   "outputs": [
    {
     "data": {
      "text/html": [
       "<dl>\n",
       "\t<dt>$PPV</dt>\n",
       "\t\t<dd>0.625679347826087</dd>\n",
       "\t<dt>$FDR</dt>\n",
       "\t\t<dd>0.374320652173913</dd>\n",
       "\t<dt>$FOR</dt>\n",
       "\t\t<dd>0.0743378588916092</dd>\n",
       "\t<dt>$NPV</dt>\n",
       "\t\t<dd>0.925662141108391</dd>\n",
       "\t<dt>$TPR</dt>\n",
       "\t\t<dd>0.733864541832669</dd>\n",
       "\t<dt>$FPR</dt>\n",
       "\t\t<dd>0.116985138004246</dd>\n",
       "\t<dt>$FNR</dt>\n",
       "\t\t<dd>0.266135458167331</dd>\n",
       "\t<dt>$TNR</dt>\n",
       "\t\t<dd>0.883014861995754</dd>\n",
       "</dl>\n"
      ],
      "text/latex": [
       "\\begin{description}\n",
       "\\item[\\$PPV] 0.625679347826087\n",
       "\\item[\\$FDR] 0.374320652173913\n",
       "\\item[\\$FOR] 0.0743378588916092\n",
       "\\item[\\$NPV] 0.925662141108391\n",
       "\\item[\\$TPR] 0.733864541832669\n",
       "\\item[\\$FPR] 0.116985138004246\n",
       "\\item[\\$FNR] 0.266135458167331\n",
       "\\item[\\$TNR] 0.883014861995754\n",
       "\\end{description}\n"
      ],
      "text/markdown": [
       "$PPV\n",
       ":   0.625679347826087\n",
       "$FDR\n",
       ":   0.374320652173913\n",
       "$FOR\n",
       ":   0.0743378588916092\n",
       "$NPV\n",
       ":   0.925662141108391\n",
       "$TPR\n",
       ":   0.733864541832669\n",
       "$FPR\n",
       ":   0.116985138004246\n",
       "$FNR\n",
       ":   0.266135458167331\n",
       "$TNR\n",
       ":   0.883014861995754\n",
       "\n",
       "\n"
      ],
      "text/plain": [
       "$PPV\n",
       "[1] 0.6256793\n",
       "\n",
       "$FDR\n",
       "[1] 0.3743207\n",
       "\n",
       "$FOR\n",
       "[1] 0.07433786\n",
       "\n",
       "$NPV\n",
       "[1] 0.9256621\n",
       "\n",
       "$TPR\n",
       "[1] 0.7338645\n",
       "\n",
       "$FPR\n",
       "[1] 0.1169851\n",
       "\n",
       "$FNR\n",
       "[1] 0.2661355\n",
       "\n",
       "$TNR\n",
       "[1] 0.8830149\n"
      ]
     },
     "metadata": {},
     "output_type": "display_data"
    }
   ],
   "source": [
    "contRatio(table(pred.log>0.5,daTest$income))"
   ]
  },
  {
   "cell_type": "markdown",
   "metadata": {},
   "source": [
    "Liste de critères de loyauté pouvant être définis à partir des fréquences précédentes conditionnellement à la variable sensible. Selon les auteurs, il y a loyauté de traitement si:\n",
    "- *Predictive parity*: les deux groupes ont les mêmes *PPV*s et par conséquence les mêmes *FDR*s;\n",
    "- *False positive error rate balance* ou *predictive equality*: mêmes *FPR*s et par conséquence les mêmes *TNR*s;\n",
    "- *False negative error rate balance* ou *equal opportunity*: mêmes *FNR*s et par conséquence les mêmes *TPR*s;\n",
    "- *Conditional procedure accuracy equality* ou *disparate mistreatment* ou *equalized odds* combine les deux ci-dessus: mêmes *TPR*s **ET** mêmes *FPR*s;\n",
    "- *Conditionnal use accuracy equality*: mêmes *PPV*s **ET** mêmes *NPV*s;\n",
    "- *Teatment equality*: les rapports *FN/FP* sont les mêmes pour les deux groupes.\n",
    "\n",
    "D'autres critères ont été proposés (cf. Verma et Rubin; 2018), il ne sont pas développés ici."
   ]
  },
  {
   "cell_type": "markdown",
   "metadata": {},
   "source": [
    "#### Par genre\n",
    "La matrice de confusion est obtenue conditionnellement aux groupes pour comparer les différents indicateurs de loyauté."
   ]
  },
  {
   "cell_type": "code",
   "execution_count": 44,
   "metadata": {},
   "outputs": [
    {
     "data": {
      "text/html": [
       "<table>\n",
       "<thead><tr><th></th><th scope=col>Female</th><th scope=col>Male</th></tr></thead>\n",
       "<tbody>\n",
       "\t<tr><th scope=row>PPV</th><td>0.4827586</td><td>0.6524194</td></tr>\n",
       "\t<tr><th scope=row>FDR</th><td>0.5172414</td><td>0.3475806</td></tr>\n",
       "\t<tr><th scope=row>FOR</th><td>0.01612903</td><td>0.1109902 </td></tr>\n",
       "\t<tr><th scope=row>NPV</th><td>0.983871 </td><td>0.8890098</td></tr>\n",
       "\t<tr><th scope=row>TPR</th><td>0.8      </td><td>0.7255605</td></tr>\n",
       "\t<tr><th scope=row>FPR</th><td>0.06564551</td><td>0.1495489 </td></tr>\n",
       "\t<tr><th scope=row>FNR</th><td>0.2      </td><td>0.2744395</td></tr>\n",
       "\t<tr><th scope=row>TNR</th><td>0.9343545</td><td>0.8504511</td></tr>\n",
       "</tbody>\n",
       "</table>\n"
      ],
      "text/latex": [
       "\\begin{tabular}{r|ll}\n",
       "  & Female & Male\\\\\n",
       "\\hline\n",
       "\tPPV & 0.4827586 & 0.6524194\\\\\n",
       "\tFDR & 0.5172414 & 0.3475806\\\\\n",
       "\tFOR & 0.01612903 & 0.1109902 \\\\\n",
       "\tNPV & 0.983871  & 0.8890098\\\\\n",
       "\tTPR & 0.8       & 0.7255605\\\\\n",
       "\tFPR & 0.06564551 & 0.1495489 \\\\\n",
       "\tFNR & 0.2       & 0.2744395\\\\\n",
       "\tTNR & 0.9343545 & 0.8504511\\\\\n",
       "\\end{tabular}\n"
      ],
      "text/markdown": [
       "\n",
       "| <!--/--> | Female | Male |\n",
       "|---|---|---|\n",
       "| PPV | 0.4827586 | 0.6524194 |\n",
       "| FDR | 0.5172414 | 0.3475806 |\n",
       "| FOR | 0.01612903 | 0.1109902  |\n",
       "| NPV | 0.983871  | 0.8890098 |\n",
       "| TPR | 0.8       | 0.7255605 |\n",
       "| FPR | 0.06564551 | 0.1495489  |\n",
       "| FNR | 0.2       | 0.2744395 |\n",
       "| TNR | 0.9343545 | 0.8504511 |\n",
       "\n"
      ],
      "text/plain": [
       "    Female     Male     \n",
       "PPV 0.4827586  0.6524194\n",
       "FDR 0.5172414  0.3475806\n",
       "FOR 0.01612903 0.1109902\n",
       "NPV 0.983871   0.8890098\n",
       "TPR 0.8        0.7255605\n",
       "FPR 0.06564551 0.1495489\n",
       "FNR 0.2        0.2744395\n",
       "TNR 0.9343545  0.8504511"
      ]
     },
     "metadata": {},
     "output_type": "display_data"
    }
   ],
   "source": [
    "fairness=data.frame(\"Female\"=as.matrix(contRatio(table(pred.log>0.5,daTest$income,daTest$sex)[,,1])),\n",
    "                    \"Male\"=as.matrix(contRatio(table(pred.log>0.5,daTest$income,daTest$sex)[,,2])))\n",
    "fairness"
   ]
  },
  {
   "cell_type": "markdown",
   "metadata": {},
   "source": [
    "Il n'est pas simple de comparer toutes ces quantités. Il apparaît néanmoins que les taux de faux positifs (*Conditional procedure accuracy equality*) sont nettement en faveur des hommes. Il y a certes plus d'erreurs à leur encontre mais c'est à leur avantage. "
   ]
  },
  {
   "cell_type": "markdown",
   "metadata": {},
   "source": [
    "#### Par origine"
   ]
  },
  {
   "cell_type": "code",
   "execution_count": 45,
   "metadata": {},
   "outputs": [
    {
     "data": {
      "text/html": [
       "<table>\n",
       "<thead><tr><th></th><th scope=col>CaucNo</th><th scope=col>CaucYes</th></tr></thead>\n",
       "<tbody>\n",
       "\t<tr><th scope=row>PPV</th><td>0.5448276</td><td>0.6345139</td></tr>\n",
       "\t<tr><th scope=row>FDR</th><td>0.4551724</td><td>0.3654861</td></tr>\n",
       "\t<tr><th scope=row>FOR</th><td>0.0342556 </td><td>0.08248527</td></tr>\n",
       "\t<tr><th scope=row>NPV</th><td>0.9657444</td><td>0.9175147</td></tr>\n",
       "\t<tr><th scope=row>TPR</th><td>0.752381 </td><td>0.7321739</td></tr>\n",
       "\t<tr><th scope=row>FPR</th><td>0.08260325</td><td>0.1240092 </td></tr>\n",
       "\t<tr><th scope=row>FNR</th><td>0.247619 </td><td>0.2678261</td></tr>\n",
       "\t<tr><th scope=row>TNR</th><td>0.9173967</td><td>0.8759908</td></tr>\n",
       "</tbody>\n",
       "</table>\n"
      ],
      "text/latex": [
       "\\begin{tabular}{r|ll}\n",
       "  & CaucNo & CaucYes\\\\\n",
       "\\hline\n",
       "\tPPV & 0.5448276 & 0.6345139\\\\\n",
       "\tFDR & 0.4551724 & 0.3654861\\\\\n",
       "\tFOR & 0.0342556  & 0.08248527\\\\\n",
       "\tNPV & 0.9657444 & 0.9175147\\\\\n",
       "\tTPR & 0.752381  & 0.7321739\\\\\n",
       "\tFPR & 0.08260325 & 0.1240092 \\\\\n",
       "\tFNR & 0.247619  & 0.2678261\\\\\n",
       "\tTNR & 0.9173967 & 0.8759908\\\\\n",
       "\\end{tabular}\n"
      ],
      "text/markdown": [
       "\n",
       "| <!--/--> | CaucNo | CaucYes |\n",
       "|---|---|---|\n",
       "| PPV | 0.5448276 | 0.6345139 |\n",
       "| FDR | 0.4551724 | 0.3654861 |\n",
       "| FOR | 0.0342556  | 0.08248527 |\n",
       "| NPV | 0.9657444 | 0.9175147 |\n",
       "| TPR | 0.752381  | 0.7321739 |\n",
       "| FPR | 0.08260325 | 0.1240092  |\n",
       "| FNR | 0.247619  | 0.2678261 |\n",
       "| TNR | 0.9173967 | 0.8759908 |\n",
       "\n"
      ],
      "text/plain": [
       "    CaucNo     CaucYes   \n",
       "PPV 0.5448276  0.6345139 \n",
       "FDR 0.4551724  0.3654861 \n",
       "FOR 0.0342556  0.08248527\n",
       "NPV 0.9657444  0.9175147 \n",
       "TPR 0.752381   0.7321739 \n",
       "FPR 0.08260325 0.1240092 \n",
       "FNR 0.247619   0.2678261 \n",
       "TNR 0.9173967  0.8759908 "
      ]
     },
     "metadata": {},
     "output_type": "display_data"
    }
   ],
   "source": [
    "fairness2=data.frame(\"CaucNo\"=as.matrix(contRatio(table(pred.log>0.5,daTest$income,daTest$origEthn)[,,1])),\n",
    "                    \"CaucYes\"=as.matrix(contRatio(table(pred.log>0.5,daTest$income,daTest$origEthn)[,,2])))\n",
    "fairness2"
   ]
  },
  {
   "cell_type": "markdown",
   "metadata": {},
   "source": [
    "Même remarque mais à un degré moindre.\n",
    "\n",
    "Le critère en question: comparaison des taux de faux positifs peut être précisé en estimant leur rapport par un intervalle de confiance. C'est l'objet de la fonction `OverallAccuracyEquality` qui admet 5 paramètres:\n",
    "- X: matrice X de caleurs binaires\n",
    "- S: index de la variable du groupe protégé\n",
    "- Y: index de la variable cible\n",
    "- P: index de la prévision $\\hat{Y}$"
   ]
  },
  {
   "cell_type": "code",
   "execution_count": 46,
   "metadata": {},
   "outputs": [],
   "source": [
    "source('OverallAccuracyEquality.R')"
   ]
  },
  {
   "cell_type": "code",
   "execution_count": 47,
   "metadata": {},
   "outputs": [
    {
     "data": {
      "text/plain": [
       "   s1.testi.        s2.testi.           Yhat       \n",
       " Min.   :0.0000   Min.   :0.0000   Min.   :0.0000  \n",
       " 1st Qu.:0.0000   1st Qu.:1.0000   1st Qu.:0.0000  \n",
       " Median :1.0000   Median :1.0000   Median :0.0000  \n",
       " Mean   :0.6701   Mean   :0.8484   Mean   :0.2104  \n",
       " 3rd Qu.:1.0000   3rd Qu.:1.0000   3rd Qu.:0.0000  \n",
       " Max.   :1.0000   Max.   :1.0000   Max.   :1.0000  \n",
       " as.integer.daTest.income....1\n",
       " Min.   :0.0000               \n",
       " 1st Qu.:0.0000               \n",
       " Median :0.0000               \n",
       " Mean   :0.2468               \n",
       " 3rd Qu.:0.0000               \n",
       " Max.   :1.0000               "
      ]
     },
     "metadata": {},
     "output_type": "display_data"
    }
   ],
   "source": [
    "summary(coded_data1)"
   ]
  },
  {
   "cell_type": "code",
   "execution_count": 48,
   "metadata": {},
   "outputs": [
    {
     "data": {
      "text/html": [
       "<table>\n",
       "<thead><tr><th></th><th scope=col>inf</th><th scope=col>est_value</th><th scope=col>sup</th></tr></thead>\n",
       "<tbody>\n",
       "\t<tr><th scope=row>TP</th><td>1.002978</td><td>1.102596</td><td>1.202214</td></tr>\n",
       "\t<tr><th scope=row>TN</th><td>1.077184</td><td>1.098658</td><td>1.120131</td></tr>\n",
       "</tbody>\n",
       "</table>\n"
      ],
      "text/latex": [
       "\\begin{tabular}{r|lll}\n",
       "  & inf & est\\_value & sup\\\\\n",
       "\\hline\n",
       "\tTP & 1.002978 & 1.102596 & 1.202214\\\\\n",
       "\tTN & 1.077184 & 1.098658 & 1.120131\\\\\n",
       "\\end{tabular}\n"
      ],
      "text/markdown": [
       "\n",
       "| <!--/--> | inf | est_value | sup |\n",
       "|---|---|---|---|\n",
       "| TP | 1.002978 | 1.102596 | 1.202214 |\n",
       "| TN | 1.077184 | 1.098658 | 1.120131 |\n",
       "\n"
      ],
      "text/plain": [
       "   inf      est_value sup     \n",
       "TP 1.002978 1.102596  1.202214\n",
       "TN 1.077184 1.098658  1.120131"
      ]
     },
     "metadata": {},
     "output_type": "display_data"
    }
   ],
   "source": [
    "OAE(coded_data1,1,3,4)"
   ]
  },
  {
   "cell_type": "code",
   "execution_count": 49,
   "metadata": {},
   "outputs": [
    {
     "data": {
      "text/html": [
       "1.02759877127551"
      ],
      "text/latex": [
       "1.02759877127551"
      ],
      "text/markdown": [
       "1.02759877127551"
      ],
      "text/plain": [
       "[1] 1.027599"
      ]
     },
     "metadata": {},
     "output_type": "display_data"
    },
    {
     "data": {
      "text/html": [
       "1.04726750554914"
      ],
      "text/latex": [
       "1.04726750554914"
      ],
      "text/markdown": [
       "1.04726750554914"
      ],
      "text/plain": [
       "[1] 1.047268"
      ]
     },
     "metadata": {},
     "output_type": "display_data"
    }
   ],
   "source": [
    "0.752381/0.7321739; 0.9173967/0.8759908"
   ]
  },
  {
   "cell_type": "markdown",
   "metadata": {},
   "source": [
    "**Attention** Les valeurs sont proches mais pas exactement les mêmes... chercher l'erreur!"
   ]
  },
  {
   "cell_type": "code",
   "execution_count": 50,
   "metadata": {},
   "outputs": [],
   "source": [
    "source('ConditionalUseEquality.R')"
   ]
  },
  {
   "cell_type": "code",
   "execution_count": 51,
   "metadata": {},
   "outputs": [
    {
     "data": {
      "text/html": [
       "<table>\n",
       "<thead><tr><th></th><th scope=col>inf</th><th scope=col>est_value</th><th scope=col>sup</th></tr></thead>\n",
       "<tbody>\n",
       "\t<tr><th scope=row>Y=0/f(X)=1</th><td>1.27109286</td><td>1.4881190 </td><td>1.705145  </td></tr>\n",
       "\t<tr><th scope=row>Y=1/f(X)=0</th><td>0.08976584</td><td>0.1453194 </td><td>0.200873  </td></tr>\n",
       "</tbody>\n",
       "</table>\n"
      ],
      "text/latex": [
       "\\begin{tabular}{r|lll}\n",
       "  & inf & est\\_value & sup\\\\\n",
       "\\hline\n",
       "\tY=0/f(X)=1 & 1.27109286 & 1.4881190  & 1.705145  \\\\\n",
       "\tY=1/f(X)=0 & 0.08976584 & 0.1453194  & 0.200873  \\\\\n",
       "\\end{tabular}\n"
      ],
      "text/markdown": [
       "\n",
       "| <!--/--> | inf | est_value | sup |\n",
       "|---|---|---|---|\n",
       "| Y=0/f(X)=1 | 1.27109286 | 1.4881190  | 1.705145   |\n",
       "| Y=1/f(X)=0 | 0.08976584 | 0.1453194  | 0.200873   |\n",
       "\n"
      ],
      "text/plain": [
       "           inf        est_value sup     \n",
       "Y=0/f(X)=1 1.27109286 1.4881190 1.705145\n",
       "Y=1/f(X)=0 0.08976584 0.1453194 0.200873"
      ]
     },
     "metadata": {},
     "output_type": "display_data"
    }
   ],
   "source": [
    "CUAE(coded_data1,1,3,4)"
   ]
  },
  {
   "cell_type": "markdown",
   "metadata": {},
   "source": [
    "## 6  *Testing* et détection de discrimination individuelle\n",
    "### 6.1 Introduction\n",
    "\n",
    "#### [Historique](https://fr.wikipedia.org/wiki/Test_de_discrimination)\n",
    "Depuis 1939 en France pour les boîtes de nuit.\n",
    "\n",
    "#### [Validité juridique](https://www.juritravail.com/discrimination-physique/embauche/ph-alternative-A-1.html) \n",
    "Le *testing* accepté comme preuve de discrimiantion depuis 2016.\n",
    "\n",
    "#### Approches sociologiques \n",
    "Le test de discrimination ou *testing* automatique est pratiquée en France de façon systématique pour des études sociologiques par l'[Observatoire des discriminations](http://www.observatoiredesdiscriminations.fr/testing), le laboratoire TEPP: [L'Horty et al. (2017)](http://www.tepp.eu/doc/users/268/bib/banque-et-assurance_9025.pdf), ou pilotée par la [DARES](http://dares.travail-emploi.gouv.fr/dares-etudes-et-statistiques/etudes-et-syntheses/dares-analyses-dares-indicateurs-dares-resultats/testing) du ministère du travail en lien avec l'association [ISM Corum](http://www.ismcorum.org/).... Certains entreprises demandent d'ailleurs à ISM Corum de [tester leur mode de recrutement](http://www.ismcorum.org/le-testing-d-entreprise-%E2%80%93-temoignages-d-adecco-casino-lvmh-michael-page-M22-R22-A443.html). Il serait sans doute intéressant de disposer des données brutes sur l'enquête citée mais seules les [tableaux agrégés](http://dares.travail-emploi.gouv.fr/IMG/xls/donnees_a_telecharger-_dares_analyses_no076.xls) sont accessibles. \n",
    "\n",
    "*Remarques*: des groupes à contacter?\n",
    "- l'observatoire des discriminations propose un [audit qualité](http://www.observatoiredesdiscriminations.fr/diagnostics-qualite) des procédures de recrutement. \n",
    "- [Novethic](https://www.novethic.fr/lexique/detail/testing.html), filliale de la caisse des dépôts et consignation, donnent des formations pour des entreprises \"éthiques\".\n",
    "\n",
    "#### *Testing* et estimation du biais\n",
    "Dans un autre ordre d'idée, [Galhotra et al. (2017)](https://arxiv.org/abs/1709.03221) définissent le biais d'une décision en incluant une notion de causalité. Le logiciel afférent ([Themis](https://github.com/LASER-UMASS/Themis)) opère un *testing* de logiciels ou décisions automatiques dans le but d'évaluer les proportions d'individus virtuels discriminés permettant d'estimer ce critère de biais. Les individus virtuels sont générés par permutation aléatoire des valeurs prises pour les modalités des variables explicatives nécessairement qualitatives ou découpées en classe.\n",
    "\n",
    "#### *Testing* rudimentaire\n",
    "Analysons la robustesse des deux modèles à une opération de *testing* rudimentaire: un nouvel échantillon test est construit en *échangeant les deux modalités de la variables sensible*. La variable cible (seuil de revenu) est ensuite reprédite par le modèle initial donné. \n",
    "\n",
    "*Question*: Des prévisions sont elles modifiées et pour quels individus?\n",
    "\n",
    "**Existe-t-il des personnes pour lesquelles le seul changement de genre ou d'origine a pour effet de changer la prévision du seuil de revenu `income`?**\n",
    "\n",
    "C'est en effet parmi ces personnes de l'échantillon test que se trouvent celles discriminées par la décision apprise et donc susceptibles d'une action en justice lorsque la décision algorihtmique (*e.g.* accès au crédit, à l'assurance, à l'emploi...) impacte cette personne. Cette discrimination individuelle peut en effet peut en effet être mise en évidence contrairement à la discrimination vis à vis d'un groupe dont il n'existe pas de définition ou de caractérisation. \n",
    "\n",
    "Evidemment, comme pour l'estimation du *disparate impact*, il est nécessaire de disposer de la variable sensible (genre ou origine) pour pouvoir opérer du *testing*.\n",
    "\n",
    "\n",
    "### 6.2 Personnes discriminées selon leur genre\n",
    "#### Modification de l'échantillon et prévisions."
   ]
  },
  {
   "cell_type": "code",
   "execution_count": 72,
   "metadata": {},
   "outputs": [],
   "source": [
    "daTest2=daTest\n",
    "# Changement de genre\n",
    "daTest2$sex=as.factor(ifelse(daTest$sex==\"Male\",\"Female\",\"Male\"))\n",
    "# Prévision du \"nouvel\" échantillon test\n",
    "pred2.log=predict(log.lm,daTest2,type=\"response\")"
   ]
  },
  {
   "cell_type": "code",
   "execution_count": 84,
   "metadata": {},
   "outputs": [
    {
     "data": {
      "text/plain": [
       "       \n",
       "        FALSE TRUE\n",
       "  FALSE  1171   84\n",
       "  TRUE     10 4700"
      ]
     },
     "metadata": {},
     "output_type": "display_data"
    }
   ],
   "source": [
    "table(pred.log<0.5,pred2.log<0.5)"
   ]
  },
  {
   "cell_type": "markdown",
   "metadata": {},
   "source": [
    "Même chose mais répartition par genre."
   ]
  },
  {
   "cell_type": "code",
   "execution_count": 74,
   "metadata": {},
   "outputs": [
    {
     "data": {
      "text/plain": [
       ", ,  = Female\n",
       "\n",
       "       \n",
       "        FALSE TRUE\n",
       "  FALSE   140    0\n",
       "  TRUE     10 1818\n",
       "\n",
       ", ,  = Male\n",
       "\n",
       "       \n",
       "        FALSE TRUE\n",
       "  FALSE  1031   84\n",
       "  TRUE      0 2882\n"
      ]
     },
     "metadata": {},
     "output_type": "display_data"
    }
   ],
   "source": [
    "table(pred.log<0.5,pred2.log<0.5,daTest$sex)"
   ]
  },
  {
   "cell_type": "markdown",
   "metadata": {},
   "source": [
    "**N.B.** Il y a 94 personnes dont la prévision de revenu change lorsqu'elles changent de genre. Et le changement est dans le sens attendu.\n",
    "- 10 femmes passent d'une prévision de revenu faible à une prévision de revenu élevé\n",
    "- 84 hommes prennnent le chemin inverse (discrimination initiale positive) lorsqu'ils deviennent des femmes."
   ]
  },
  {
   "cell_type": "markdown",
   "metadata": {},
   "source": [
    "### 6.3 Personnes discriminées selon leur origine\n",
    "Mêmes calculs vis-à-vis de la variable sensible origine.\n",
    "#### Modification de l'échantillon et prévisions"
   ]
  },
  {
   "cell_type": "code",
   "execution_count": 91,
   "metadata": {},
   "outputs": [],
   "source": [
    "daTest3=daTest\n",
    "daTest3$origEthn=as.factor(ifelse(daTest$origEthn==\"CaucYes\",\"CaucNo\",\"CaucYes\"))\n",
    "# Prévision du \"nouvel\" échantillon test\n",
    "pred3.log=predict(log.lm,newdata=daTest3,type=\"response\")"
   ]
  },
  {
   "cell_type": "markdown",
   "metadata": {},
   "source": [
    "#### Dans le cas de la régression logisitique\n",
    "Comme pour la discrimination selon le genre, la détection de personnes discriminées selon leur origine est nette. Les prévisions de seuil de revenu de 160 personnes sont affectées par le changement d'origine.\n",
    "- 12 sont discriminées par leur origine\n",
    "- 148 bénéficient d'une discrimination positive"
   ]
  },
  {
   "cell_type": "code",
   "execution_count": 76,
   "metadata": {},
   "outputs": [
    {
     "data": {
      "text/plain": [
       "       \n",
       "        FALSE TRUE\n",
       "  FALSE  1107  148\n",
       "  TRUE     12 4698"
      ]
     },
     "metadata": {},
     "output_type": "display_data"
    }
   ],
   "source": [
    "table(pred.log<0.5,pred3.log<0.5)"
   ]
  },
  {
   "cell_type": "code",
   "execution_count": 57,
   "metadata": {},
   "outputs": [
    {
     "data": {
      "text/plain": [
       ", ,  = CaucNo\n",
       "\n",
       "       \n",
       "        FALSE TRUE\n",
       "  FALSE   105    0\n",
       "  TRUE     12  787\n",
       "\n",
       ", ,  = CaucYes\n",
       "\n",
       "       \n",
       "        FALSE TRUE\n",
       "  FALSE  1002  148\n",
       "  TRUE      0 3911\n"
      ]
     },
     "metadata": {},
     "output_type": "display_data"
    }
   ],
   "source": [
    "table(pred.log<0.5,pred3.log<0.5,daTest$origEthn)"
   ]
  },
  {
   "cell_type": "markdown",
   "metadata": {},
   "source": [
    "### 6.4 *Testing* et prévision \"loyale\" \n",
    "Pour la régession logistique, fixer comme probablité prédite le maximum des deux probablités obtenues en échangeant les modalités de la variable sensible. De façon générale, choisir la situation la plus favorable pour la personne quelque soit le genre (resp. l'origine) observé. La discimination individuelle repérable par *testing* est neutralisée et l'influence sur le taux d'erreur quasi négligeable. \n",
    "\n",
    "#### Genre"
   ]
  },
  {
   "cell_type": "code",
   "execution_count": 88,
   "metadata": {},
   "outputs": [
    {
     "data": {
      "text/plain": [
       "       \n",
       "        incLow incHigh\n",
       "  FALSE   4154     546\n",
       "  TRUE     339     926"
      ]
     },
     "metadata": {},
     "output_type": "display_data"
    },
    {
     "data": {
      "text/html": [
       "14.84"
      ],
      "text/latex": [
       "14.84"
      ],
      "text/markdown": [
       "14.84"
      ],
      "text/plain": [
       "[1] 14.84"
      ]
     },
     "metadata": {},
     "output_type": "display_data"
    }
   ],
   "source": [
    "fairPredictGenre=ifelse(pred.log<pred2.log,pred2.log,pred.log)\n",
    "confMat=table(fairPredictGenre>0.5,daTest$income)\n",
    "confMat;tauxErr(confMat)"
   ]
  },
  {
   "cell_type": "code",
   "execution_count": 89,
   "metadata": {},
   "outputs": [
    {
     "data": {
      "text/plain": [
       "       \n",
       "        Female Male\n",
       "  FALSE   1818 2882\n",
       "  TRUE     150 1115"
      ]
     },
     "metadata": {},
     "output_type": "display_data"
    },
    {
     "data": {
      "text/html": [
       "0.273228152685114"
      ],
      "text/latex": [
       "0.273228152685114"
      ],
      "text/markdown": [
       "0.273228152685114"
      ],
      "text/plain": [
       "[1] 0.2732282"
      ]
     },
     "metadata": {},
     "output_type": "display_data"
    }
   ],
   "source": [
    "tableDI=table(fairPredictGenre>0.5,daTest$sex)\n",
    "tableDI;(tableDI[2,1]/(tableDI[1,1]+tableDI[2,1]))/(tableDI[2,2]/(tableDI[1,2]+tableDI[2,2]))"
   ]
  },
  {
   "cell_type": "code",
   "execution_count": 90,
   "metadata": {},
   "outputs": [
    {
     "data": {
      "text/plain": [
       "       \n",
       "        Female Male\n",
       "  FALSE   1828 2882\n",
       "  TRUE     140 1115"
      ]
     },
     "metadata": {},
     "output_type": "display_data"
    },
    {
     "data": {
      "text/html": [
       "0.255012942506107"
      ],
      "text/latex": [
       "0.255012942506107"
      ],
      "text/markdown": [
       "0.255012942506107"
      ],
      "text/plain": [
       "[1] 0.2550129"
      ]
     },
     "metadata": {},
     "output_type": "display_data"
    }
   ],
   "source": [
    "tableDI=table(pred.log>0.5,daTest$sex)\n",
    "tableDI;(tableDI[2,1]/(tableDI[1,1]+tableDI[2,1]))/(tableDI[2,2]/(tableDI[1,2]+tableDI[2,2]))"
   ]
  },
  {
   "cell_type": "markdown",
   "metadata": {},
   "source": [
    "La correction par *testing* réduit un peu le biais mais de façon insuffisante pour réduire globalement la discrimination."
   ]
  },
  {
   "cell_type": "markdown",
   "metadata": {},
   "source": [
    "#### Origine\n",
    "\n",
    "Des résulats simiulaires sont obtenus."
   ]
  },
  {
   "cell_type": "code",
   "execution_count": 93,
   "metadata": {},
   "outputs": [
    {
     "data": {
      "text/plain": [
       "       \n",
       "        incLow incHigh\n",
       "  FALSE   4153     545\n",
       "  TRUE     340     927"
      ]
     },
     "metadata": {},
     "output_type": "display_data"
    },
    {
     "data": {
      "text/html": [
       "14.84"
      ],
      "text/latex": [
       "14.84"
      ],
      "text/markdown": [
       "14.84"
      ],
      "text/plain": [
       "[1] 14.84"
      ]
     },
     "metadata": {},
     "output_type": "display_data"
    }
   ],
   "source": [
    "fairPredictOrig=ifelse(pred.log<pred3.log,pred3.log,pred.log)\n",
    "confMat=table(fairPredictOrig>0.5,daTest$income)\n",
    "confMat;tauxErr(confMat)"
   ]
  },
  {
   "cell_type": "code",
   "execution_count": 98,
   "metadata": {},
   "outputs": [
    {
     "data": {
      "text/plain": [
       "       \n",
       "        CaucNo CaucYes\n",
       "  FALSE    787    3911\n",
       "  TRUE     117    1150"
      ]
     },
     "metadata": {},
     "output_type": "display_data"
    },
    {
     "data": {
      "text/html": [
       "0.57"
      ],
      "text/latex": [
       "0.57"
      ],
      "text/markdown": [
       "0.57"
      ],
      "text/plain": [
       "[1] 0.57"
      ]
     },
     "metadata": {},
     "output_type": "display_data"
    }
   ],
   "source": [
    "tableDI=table(fairPredictOrig>0.5,daTest$origEthn)\n",
    "tableDI;round((tableDI[2,1]/(tableDI[1,1]+tableDI[2,1]))/(tableDI[2,2]/(tableDI[1,2]+tableDI[2,2])),2)"
   ]
  },
  {
   "cell_type": "code",
   "execution_count": 100,
   "metadata": {},
   "outputs": [
    {
     "data": {
      "text/plain": [
       "       \n",
       "        CaucNo CaucYes\n",
       "  FALSE    799    3911\n",
       "  TRUE     105    1150"
      ]
     },
     "metadata": {},
     "output_type": "display_data"
    },
    {
     "data": {
      "text/html": [
       "0.51"
      ],
      "text/latex": [
       "0.51"
      ],
      "text/markdown": [
       "0.51"
      ],
      "text/plain": [
       "[1] 0.51"
      ]
     },
     "metadata": {},
     "output_type": "display_data"
    }
   ],
   "source": [
    "tableDI=table(pred.log>0.5,daTest$origEthn)\n",
    "tableDI;round((tableDI[2,1]/(tableDI[1,1]+tableDI[2,1]))/(tableDI[2,2]/(tableDI[1,2]+tableDI[2,2])),2)"
   ]
  },
  {
   "cell_type": "markdown",
   "metadata": {},
   "source": [
    "La correction qui rend la décision localement loyale c'est-à-dire en supprimant tout discrimination individuelle n'a qu'un impact très marginal sur l'erreur de prévision. Cette \"correction\" du biais permet d'échapper à une poursuite juridique individuelle mais ne corrige globalement pas l'effet disproportioné et donc le biais de groupe. Cette correction est factice et pour le moins déloyale. \n",
    "\n",
    "D'autres corrections sont à mettre en oeuvre pour conduire à de l'apprentissage loyal et donc à une IA éthique."
   ]
  },
  {
   "cell_type": "markdown",
   "metadata": {},
   "source": [
    "## Conclusion\n",
    "En résumé, \n",
    "\n",
    "Ces dernières questions abordent celle de correction du biais et donc l'objectif d'éviter une discrimination ou tout du moins, a *minima*, que le modèle ou l'algorithme évite une sur-discrimination tout à fait déloyale. Ce sera l'objectif du tutoriel suivant."
   ]
  },
  {
   "cell_type": "markdown",
   "metadata": {},
   "source": [
    "## Références\n",
    "Besse P. ,del Barrio E., Gordaliza P., Loubes J.-M. (2018-a). Confidence Intervals for testing Disparate Impact in Fair Learning, [arXiv](https://arxiv.org/abs/1807.06362)."
   ]
  }
 ],
 "metadata": {
  "kernelspec": {
   "display_name": "R",
   "language": "R",
   "name": "ir"
  },
  "language_info": {
   "codemirror_mode": "r",
   "file_extension": ".r",
   "mimetype": "text/x-r-source",
   "name": "R",
   "pygments_lexer": "r",
   "version": "3.5.1"
  }
 },
 "nbformat": 4,
 "nbformat_minor": 2
}
