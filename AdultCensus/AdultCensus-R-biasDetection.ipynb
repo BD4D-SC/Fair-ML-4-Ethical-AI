{
 "cells": [
  {
   "cell_type": "markdown",
   "metadata": {},
   "source": [
    "<center>\n",
    "<a href=\"http://www.insa-toulouse.fr/\" ><img src=\"http://www.math.univ-toulouse.fr/~besse/Wikistat/Images/logo-insa.jpg\" style=\"float:left; max-width: 120px; display: inline\" alt=\"INSA\"/></a> \n",
    "\n",
    "<a href=\"http://www.univ-tlse3.fr/\" ><img src=\"http://www.univ-tlse3.fr/medias/photo/ut3pres_logoq_1372757033342.jpg?ID_FICHE=49702\" style=\"float:right; max-width: 250px; display: inline\" alt=\"UPS\"/></a> \n",
    "</center>"
   ]
  },
  {
   "cell_type": "markdown",
   "metadata": {},
   "source": [
    "\n",
    "\n",
    "# Biais et Discrimination en Apprentissage Statistique\n",
    "# Données `Adult Income`: Détection de Biais et Correction d'Algorithmes Discriminatoires \n",
    "\n",
    "**Résumé**\n",
    "Analyse de données extraites d'un recensement aux USA de 1994 et disponibles sur le [dépôt de l'UCI](http://archive.ics.uci.edu/ml/). Ces données permettent de mettre en relation le niveau de revenu (inférieur ou supérieur à 50k$) avec d'autres variables dont certaines sensibles car indiquant l'appartenance à un groupe en principe protégé par la loi: genre, origine ethnique. Différents indicateurs de biais donc de sources de discrimination vis à vis d'un groupe sont définis et illustrés sur ces données. Les principaux relativement consensuels dans la littérature sont l'effet disproportionné ou *disparate impact* (DI), le taux d'erreur conditionnel et des mesures associées à l'asymétrie des matrices de confusion conditionnellement au groupe. Les résultats montrent que les biais de société présents dans les données d'apprentissage sont fidèlement reproduits par l'apprentissage et même renforcés. C'est typiquement un cas de discrimination notamment avec une régression logistique linéaire, moins nettement avec des modèles non linéaires. La correction de cas individuels détectés par le *testing* est inefficace pour une correction au niveau du groupe. En revanche l'utilisation d'algorithmes non linéaires (arbre ou forêt aléatoire) spécifiques: un par classe femmes et hommes annule l'effet discriminatoire, ne réduit pas les écarts des taux d'erreur conditionnels mais rend semblables les taux de faux et vrais positifs."
   ]
  },
  {
   "cell_type": "markdown",
   "metadata": {},
   "source": [
    "## Introduction\n",
    "### Les données\n",
    "Des données publiques disponibles sur le site [UCI repository](http://archive.ics.uci.edu/ml/) sont extraites de la base de données issue du recensement réalisé aux Etats Unis en 1994. Les deux fichiers *train* et *test* on été réunis en un seul. Ces données son largement utilisées et font référence comme outil de *benchmark* pour comparer les performances de méthodes d’apprentissage. L’objectif est de prévoir, avec plus ou moins de biais, la variable binaire \"revenu annuel\" supérieur ou inférieur à 50k$. Cette prévision n'impacte pas la personne mais comme la démarche et le contexte sont tout à fait similaires à ce que pourrait faire une banque pour évaluer un risque de crédit, c'est exemple est très illustratif. Il est d'ailleurs systématiquement utilisé pour comparer les propriétés des algorithmes d'apprentissage équitables (*fair learning*) car contrairement à beaucoup d'autres jeux de données utlisés pour cette fin (*e.g. german credit bank*), la vraie valeur de la variable cible est connue ainsi que l'origine ethnique des personnes concernées.\n",
    "\n",
    "Dans les données initiales, 48.842 individus sont décrits par les 14 variables du tableau ci-dessous:\n",
    "\n",
    "\n",
    "|Num|Libellé|Ensemble de valeurs|\n",
    "|-|---------:|-------------------:|\n",
    "|1|`Age`|real|\n",
    "|2|`workClass`|Private, Self-emp-not-inc, Self-emp-inc, Federal-gov, Local-gov, State-gov, Without-pay, Never-worked|\n",
    "|3|`fnlwgt`|real|\n",
    "|4|`education`|Bachelors, Some-college, 11th, HS-grad, Prof-school, Assoc-acdm, Assoc-voc, 9th, 7th-8th, 12th, Masters, 1st-4th, 10th, Doctorate, 5th-6th, Preschool|\n",
    "|5|`educNum`|integer|\n",
    "|6|`mariStat`|Married-civ-spouse, Divorced, Never-married, Separated, Widowed, Married-spouse-absent, Married-AF-spouse|\n",
    "|7|`occup`|Tech-support, Craft-repair, Other-service, Sales, Exec-managerial, Prof-specialty, Handlers-cleaners, Machine-op-inspct, Adm-clerical, Farming-fishing, Transport-moving, Priv-house-serv, Protective-serv, Armed-Forces|\n",
    "|8|`relationship`|Wife, Own-child, Husband, Not-in-family, Other-relative, Unmarried\n",
    "|9|`origEthn`|White, Asian-Pac-Islander, Amer-Indian-Eskimo, Other, Black|\n",
    "|10|`sex`|Female, Male|\n",
    "|11|`capitalGain`|real| \n",
    "|12|`capitalLoss`|real|\n",
    "|13|`hoursWeek`|real|\n",
    "|14|`nativCountry`|United-States, Cambodia, England, Puerto-Rico, Canada, Germany, Outlying-US(Guam-USVI-etc), India, Japan, Greece, South, China, Cuba, Iran, Honduras, Philippines, Italy, Poland, Jamaica, Vietnam, Mexico, Portugal, Ireland, France, Dominican-Republic, Laos, Ecuador, Taiwan, Haiti, Columbia, Hungary, Guatemala, Nicaragua, Scotland, Thailand, Yugoslavia, El-Salvador, Trinadad&Tobago, Peru, Hong, Holand-Netherlands|\n",
    "|15|`income`|>50K, <=50K|\n"
   ]
  },
  {
   "cell_type": "markdown",
   "metadata": {},
   "source": [
    "### Préparation des données\n",
    "\n",
    "Le traitement commence par une préparation détaillée des données:\n",
    "- lecture et prise en charge des données en remarquant que la variable `fnlwgt` (Final sampling weight) a un [statut particulier](http://web.cs.wpi.edu/~cs4341/C00/Projects/fnlwgt) pas très clair; elle est éliminée;\n",
    "- exploration élémentaire et multidimensionnelle (AFCM) afin de représenter les sources des biais présents.\n",
    "\n",
    "Celle-ci conduit à nettoyer les données notamment en supprimant celles manquantes, des erreurs ou incohérences et à regrouper certaines modalités très dispersée, supprimer des variables redondantes. Cette phase est notoirement différente de la stratégie de Friedler et al. (2019) qui, par principe, analysent des données brutes.\n",
    "\n",
    "### Estimation des biais\n",
    "\n",
    "Parmi tous les critères de biais existant susceptibles de mettre en évidence une discrimination, trois ont été privilégiés: \n",
    "- l'effet disproportionné (*disparate impact*), \n",
    "- la comparaison des taux d'erreur conditionnels \n",
    "- une mesure d'asymétrie de la matrice de confusion conditionnelle: *Conditional procedure accuracy equality* ou *disparate mistreatment* ou *equalized odds* cf. Vermat et Rubin (2018).\n",
    "\n",
    "L'accent est mis sur l'estimation de l'effet disproportionné  vis-à-vis de deux variables sensibles: genre et origine ethnique. L'approximation de l'intervalle de confiance (*delta method*) est comparée avec une estimation Bootstrap conduisant aux mêmes résutlats. es estimations sont calculées sur les données initiales de la base (biais de société) puis sur les prévisions du seuil de revenu obtenues par différents modèles et algorithmes (risque de discrimination).\n",
    "\n",
    "Sont également évaluées (estimation ponctuelle) les précisions et les asymétries des rapports de cote conditionnelles aux modalités de la variable sensible. \n",
    "\n",
    "### Biais et discriminations\n",
    "\n",
    "Les algorithmes privilégiés sont la régression logistique, linéaire et quadratique (avec interactions), les arbres binaires de décision et les forêts aléatoires. Bien d'autres algorithmes pourraient être testés mais le fond reste le même: en matière de discrimination deux points semblent importants, voire à considérer en priorité: \n",
    "- le possible déséquilibre ou sous-représentation d'une classes de la variable sensible, \n",
    "- la capacité de l'algorithme à prendre en compte des interactions et donc des composantes non linéaires impliquant la variable sensible.\n",
    "\n",
    "Ces deux facteurs semblent avoir un impact déterminant sur le renforcement significatif des biais d'un algorithme et donc sur la discrimination,condamnable par la loi, envers un groupe. Ils sont clairement mis en évidence en comparant les effets discriminatoires de différents algorithmes \n",
    "- linéaires ou non linéaires (avec un certains niveau d'interactions), \n",
    "- en introduisant une pondération pour compenser le déséquilibre,\n",
    "- en considérant deux modèles, un par classe de la variable sensible.\n",
    "\n",
    "D'autres points sont également traités: \n",
    "- effet négligeable de la suppression de la variable sensible du modèle de prévision sur l'effet discriminatoire d'un algorithme,\n",
    "- détection d'une discrimination individuelle par *testing* et effet négligeable de sa correction sur la dicrimination de groupe;\n",
    "- correction élémentaire de biais par ajustement du seuil de la décision."
   ]
  },
  {
   "cell_type": "markdown",
   "metadata": {},
   "source": [
    "## Exploration des données\n",
    "### Lecture et premières transformations\n",
    "La lecture et la transformation des données brutes du dépôt de l'UCI sont obtenues directement en exécutant un code source en R. Consulter le code du programme pour comprendre les transformations qui ont été réalisées sur les données brutes. Cette étape peut être rendue plus efficace (programme plus concis et exécution plus rapide) en utilisant la librairie `dplyr` très adaptée à cet usage.\n",
    "\n",
    "Charger les données et le programme dans le répertoire courant en même temps que ce tutoriel ou changer de chemin pour y accéder directement. \n",
    "\n",
    "Certaines variables qualitatives sont recodées afin de regrouper des classes à trop faibles effectifs, les variables quantitatives, dont l'âge, sont découpées en classes afin d'en construire des versions qualitatives en vue d'une AFCM."
   ]
  },
  {
   "cell_type": "code",
   "execution_count": 1,
   "metadata": {
    "ExecuteTime": {
     "end_time": "2019-10-15T15:07:10.813389Z",
     "start_time": "2019-10-15T15:07:09.270Z"
    }
   },
   "outputs": [
    {
     "data": {
      "text/plain": [
       "      age                workClass         fnlwgt              education    \n",
       " Min.   :18.00   Federal-Govt : 1390   Min.   :  13492   HS-grad    :14766  \n",
       " 1st Qu.:28.00   Not-Working  :   21   1st Qu.: 117404   HS-Graduate: 9892  \n",
       " Median :37.00   Other-Govt   : 5023   Median : 178390   Bachelors  : 7569  \n",
       " Mean   :38.79   Private      :32856   Mean   : 189858   Dropout    : 5182  \n",
       " 3rd Qu.:47.00   Self-Employed: 5425   3rd Qu.: 237998   Associates : 3466  \n",
       " Max.   :90.00                         Max.   :1490400   Masters    : 2512  \n",
       "                                                         (Other)    : 1328  \n",
       "    educNum               mariStat              occup      \n",
       " Min.   : 1.00   Married      :21079   Admin       : 5501  \n",
       " 1st Qu.: 9.00   Never-Married:14100   Blue-Collar :14732  \n",
       " Median :10.00   Not-Married  : 8259   Other-occups: 2391  \n",
       " Mean   :10.16   Widowed      : 1277   Professional: 5992  \n",
       " 3rd Qu.:13.00                         Sales       : 5272  \n",
       " Max.   :16.00                         Service     : 4846  \n",
       "                                       White-Collar: 5981  \n",
       "         relationship          origEthn         sex        capitalGain   \n",
       " Husband       :18660   Amer-Indian:  428   Female:14450   None  :40939  \n",
       " Not-in-family :11678   Asian      : 1302   Male  :30265   cgLow : 2167  \n",
       " Other-relative: 1320   Black      : 4194                  cgHigh: 1609  \n",
       " Own-child     : 6184   Other      :  348                                \n",
       " Unmarried     : 4782   White      :38443                                \n",
       " Wife          : 2091                                                    \n",
       "                                                                         \n",
       " capitalLoss      hoursWeek                   nativCountry       income     \n",
       " None  :42587   Min.   : 1.00   United-States       :40807   incHigh:11204  \n",
       " clLow : 1071   1st Qu.:40.00   Latin-America       : 1537   incLow :33511  \n",
       " clHigh: 1057   Median :40.00   British-Commonwealth:  481                  \n",
       "                Mean   :41.17   SE-Asia             :  441                  \n",
       "                3rd Qu.:45.00   Euro_2              :  333                  \n",
       "                Max.   :99.00   Euro_1              :  330                  \n",
       "                                (Other)             :  786                  \n",
       "  LcapitalGain     LcapitalLoss     ageQ      hoursWeekQ \n",
       " Min.   : 0.000   Min.   :0.0000   Ag1:9034   HW1: 9638  \n",
       " 1st Qu.: 0.000   1st Qu.:0.0000   Ag2:8473   HW2:21367  \n",
       " Median : 0.000   Median :0.0000   Ag3:9714   HW3:13710  \n",
       " Mean   : 0.747   Mean   :0.3575   Ag4:9649              \n",
       " 3rd Qu.: 0.000   3rd Qu.:0.0000   Ag5:7845              \n",
       " Max.   :11.513   Max.   :8.3795                         \n",
       "                                                         "
      ]
     },
     "metadata": {},
     "output_type": "display_data"
    }
   ],
   "source": [
    "source(\"dataPrepAdultCensus.R\")\n",
    "summary(dataBase)"
   ]
  },
  {
   "cell_type": "markdown",
   "metadata": {},
   "source": [
    "### Description statistique élémentaire\n",
    "Mettre en évidence des difficultés présentes sur certaines variables ou couples de variables."
   ]
  },
  {
   "cell_type": "code",
   "execution_count": 2,
   "metadata": {
    "ExecuteTime": {
     "end_time": "2019-10-15T15:07:11.030550Z",
     "start_time": "2019-10-15T15:07:09.411Z"
    }
   },
   "outputs": [
    {
     "data": {
      "image/png": "[encoded data removed]",
      "text/plain": [
       "Plot with title “”"
      ]
     },
     "metadata": {},
     "output_type": "display_data"
    }
   ],
   "source": [
    "options(repr.plot.width=4, repr.plot.height=4)\n",
    "hist(dataBase[,\"LcapitalGain\"],probability=T, main=\"\",xlab=\"log(1+CapitalGain)\")\n",
    "boxplot(dataBase[,\"LcapitalGain\"], horizontal=TRUE,boxwex=.2,  outline=TRUE,  \n",
    "        frame=F, col = \"lightgrey\", add = TRUE,at=0.2)"
   ]
  },
  {
   "cell_type": "markdown",
   "metadata": {},
   "source": [
    "Nécessité de transformer certaines variables avant de contruire des modèles linéaires puis mise en évidence d'incohérences et de fortes redondances entre certaines variables."
   ]
  },
  {
   "cell_type": "code",
   "execution_count": 3,
   "metadata": {
    "ExecuteTime": {
     "end_time": "2019-10-15T15:07:11.049979Z",
     "start_time": "2019-10-15T15:07:09.520Z"
    }
   },
   "outputs": [
    {
     "data": {
      "text/plain": [
       "                \n",
       "                 Female  Male\n",
       "  Husband             1 18659\n",
       "  Not-in-family    5404  6274\n",
       "  Other-relative    599   721\n",
       "  Own-child        2707  3477\n",
       "  Unmarried        3649  1133\n",
       "  Wife             2090     1"
      ]
     },
     "metadata": {},
     "output_type": "display_data"
    }
   ],
   "source": [
    "table(dataBase$relationship,dataBase$sex)   "
   ]
  },
  {
   "cell_type": "code",
   "execution_count": 4,
   "metadata": {
    "ExecuteTime": {
     "end_time": "2019-10-15T15:07:11.076208Z",
     "start_time": "2019-10-15T15:07:09.529Z"
    }
   },
   "outputs": [
    {
     "data": {
      "text/plain": [
       "             \n",
       "                  1     2     3     4     5     6     7     8     9    10    11\n",
       "  Associates      0     0     0     0     0     0     0     0     0     0  1959\n",
       "  Bachelors       0     0     0     0     0     0     0     0     0     0     0\n",
       "  Doctorate       0     0     0     0     0     0     0     0     0     0     0\n",
       "  Dropout        72   222   446   819   644  1073  1387   519     0     0     0\n",
       "  HS-grad         0     0     0     0     0     0     0     0 14766     0     0\n",
       "  HS-Graduate     0     0     0     0     0     0     0     0     0  9892     0\n",
       "  Masters         0     0     0     0     0     0     0     0     0     0     0\n",
       "  Prof-School     0     0     0     0     0     0     0     0     0     0     0\n",
       "             \n",
       "                 12    13    14    15    16\n",
       "  Associates   1507     0     0     0     0\n",
       "  Bachelors       0  7569     0     0     0\n",
       "  Doctorate       0     0     0     0   544\n",
       "  Dropout         0     0     0     0     0\n",
       "  HS-grad         0     0     0     0     0\n",
       "  HS-Graduate     0     0     0     0     0\n",
       "  Masters         0     0  2512     0     0\n",
       "  Prof-School     0     0     0   784     0"
      ]
     },
     "metadata": {},
     "output_type": "display_data"
    }
   ],
   "source": [
    "table(dataBase$education,dataBase$educNum)  "
   ]
  },
  {
   "cell_type": "code",
   "execution_count": 5,
   "metadata": {
    "ExecuteTime": {
     "end_time": "2019-10-15T15:07:11.109511Z",
     "start_time": "2019-10-15T15:07:09.536Z"
    }
   },
   "outputs": [
    {
     "data": {
      "text/plain": [
       "               \n",
       "                Husband Not-in-family Other-relative Own-child Unmarried  Wife\n",
       "  Married         18660            19            184       125         0  2091\n",
       "  Never-Married       0          6667            793      5423      1217     0\n",
       "  Not-Married         0          4305            284       616      3054     0\n",
       "  Widowed             0           687             59        20       511     0"
      ]
     },
     "metadata": {},
     "output_type": "display_data"
    }
   ],
   "source": [
    "table(dataBase$mariStat,dataBase$relationship)"
   ]
  },
  {
   "cell_type": "code",
   "execution_count": 6,
   "metadata": {
    "ExecuteTime": {
     "end_time": "2019-10-15T15:07:11.131305Z",
     "start_time": "2019-10-15T15:07:09.543Z"
    }
   },
   "outputs": [
    {
     "data": {
      "text/plain": [
       "             \n",
       "              British-Commonwealth China Euro_1 Euro_2 Latin-America Other\n",
       "  Amer-Indian                    0     1      1      2            12     0\n",
       "  Asian                        125   185      4    101            13    61\n",
       "  Black                         11     0     10      0           230     8\n",
       "  Other                         12     0      2      1           125    11\n",
       "  White                        333    10    313    229          1157   198\n",
       "             \n",
       "              SE-Asia South-America United-States\n",
       "  Amer-Indian       1             1           410\n",
       "  Asian           416             0           397\n",
       "  Black             4             2          3929\n",
       "  Other             0            31           166\n",
       "  White            20           278         35905"
      ]
     },
     "metadata": {},
     "output_type": "display_data"
    }
   ],
   "source": [
    "table(dataBase$origEthn,dataBase$nativCountry)"
   ]
  },
  {
   "cell_type": "code",
   "execution_count": 7,
   "metadata": {
    "ExecuteTime": {
     "end_time": "2019-10-15T15:07:11.200690Z",
     "start_time": "2019-10-15T15:07:09.551Z"
    }
   },
   "outputs": [
    {
     "data": {
      "image/png": "[encoded data removed]",
      "text/plain": [
       "Plot with title “”"
      ]
     },
     "metadata": {},
     "output_type": "display_data"
    }
   ],
   "source": [
    "mosaicplot(table(dataBase[,\"origEthn\"],dataBase[,\"income\"]),main=\"\")"
   ]
  },
  {
   "cell_type": "markdown",
   "metadata": {},
   "source": [
    "Quelques modifications sont apportées de la base. Certaines variables en versions quantitatives et qualitatives comme le nombre d'heures par semaine, l'âge ou le niveau d'éducation sont conservées. Des variables sont supprimées afin de ne garder qu'une seule présence d'une information sensible: genre et origine ethnique.\n",
    "- Suppression de la variable 3 `fnlwgt` qui n'a guère de signification pour cette analyse.\n",
    "- Création d'une variable binaire `Child`: présence ou non d'enfants.\n",
    "- Suppression de la variable 8 `relationship` redondante avec le genre et le statut marital,\n",
    "- Suppression de la variable 14 `nativCountry` redondante avec l'origine ethnique.\n",
    "- La variable 9 `originEthn` est simplifiée à 2 classes: CaucYes *vs.* CaucNo\n",
    "\n",
    "**Attention** Pour la suite, il est important que les niveaux des facteurs soient ordonnés de façon cohérente pour la bonne interprétation des tables de contingence et de leurs effectifs. Par convention, les modalités pré-jugées socialement \"dévavorables\": revenu faible, femme, non caucasien, précèdent les autres (codées 0): revenu élevé, homme, caucasien (codées 1). Il faut donc soit réordonner les niveaux de la variable `income` ou renommer les modalités pour faire correspondre l'ordre alphabétique. Ce deuxième choix est exécuté."
   ]
  },
  {
   "cell_type": "code",
   "execution_count": 8,
   "metadata": {
    "ExecuteTime": {
     "end_time": "2019-10-15T15:07:11.304717Z",
     "start_time": "2019-10-15T15:07:09.656Z"
    }
   },
   "outputs": [
    {
     "data": {
      "text/plain": [
       "      age                workClass           education        educNum     \n",
       " Min.   :18.00   Federal-Govt : 1390   HS-grad    :14766   Min.   : 1.00  \n",
       " 1st Qu.:28.00   Not-Working  :   21   HS-Graduate: 9892   1st Qu.: 9.00  \n",
       " Median :37.00   Other-Govt   : 5023   Bachelors  : 7569   Median :10.00  \n",
       " Mean   :38.79   Private      :32856   Dropout    : 5182   Mean   :10.16  \n",
       " 3rd Qu.:47.00   Self-Employed: 5425   Associates : 3466   3rd Qu.:13.00  \n",
       " Max.   :90.00                         Masters    : 2512   Max.   :16.00  \n",
       "                                       (Other)    : 1328                  \n",
       "          mariStat              occup          origEthn         sex       \n",
       " Married      :21079   Admin       : 5501   CaucNo : 6272   Female:14450  \n",
       " Never-Married:14100   Blue-Collar :14732   CaucYes:38443   Male  :30265  \n",
       " Not-Married  : 8259   Other-occups: 2391                                 \n",
       " Widowed      : 1277   Professional: 5992                                 \n",
       "                       Sales       : 5272                                 \n",
       "                       Service     : 4846                                 \n",
       "                       White-Collar: 5981                                 \n",
       " capitalGain    capitalLoss      hoursWeek      income       LcapitalGain   \n",
       " None  :40939   None  :42587   Min.   : 1.00   incB:33511   Min.   : 0.000  \n",
       " cgLow : 2167   clLow : 1071   1st Qu.:40.00   incH:11204   1st Qu.: 0.000  \n",
       " cgHigh: 1609   clHigh: 1057   Median :40.00                Median : 0.000  \n",
       "                               Mean   :41.17                Mean   : 0.747  \n",
       "                               3rd Qu.:45.00                3rd Qu.: 0.000  \n",
       "                               Max.   :99.00                Max.   :11.513  \n",
       "                                                                            \n",
       "  LcapitalLoss     ageQ      hoursWeekQ       child      \n",
       " Min.   :0.0000   Ag1:9034   HW1: 9638   ChildNo :38531  \n",
       " 1st Qu.:0.0000   Ag2:8473   HW2:21367   ChildYes: 6184  \n",
       " Median :0.0000   Ag3:9714   HW3:13710                   \n",
       " Mean   :0.3575   Ag4:9649                               \n",
       " 3rd Qu.:0.0000   Ag5:7845                               \n",
       " Max.   :8.3795                                          \n",
       "                                                         "
      ]
     },
     "metadata": {},
     "output_type": "display_data"
    }
   ],
   "source": [
    "dataBase[,\"child\"]=as.factor(ifelse(dataBase$relationship=='Own-child',\"ChildYes\",\"ChildNo\"))\n",
    "dataBase[,\"origEthn\"]=as.factor(ifelse(dataBase$origEthn %in% c('Amer-Indian','Asian','Black','Other'),\"CaucNo\",\"CaucYes\"))\n",
    "dataBase[,\"income\"]=as.factor(ifelse(dataBase$income=='incLow',\"incB\",\"incH\"))\n",
    "datBas=dataBase[,-c(3,8,14)]\n",
    "summary(datBas)"
   ]
  },
  {
   "cell_type": "markdown",
   "metadata": {},
   "source": [
    "Quelques mosaicplots importants montrant le liens des variables sensibles avec la cible (seuil de revenu)."
   ]
  },
  {
   "cell_type": "code",
   "execution_count": 9,
   "metadata": {
    "ExecuteTime": {
     "end_time": "2019-10-15T15:07:11.357688Z",
     "start_time": "2019-10-15T15:07:09.746Z"
    }
   },
   "outputs": [
    {
     "data": {
      "image/png": "[encoded data removed]",
      "text/plain": [
       "Plot with title “”"
      ]
     },
     "metadata": {},
     "output_type": "display_data"
    }
   ],
   "source": [
    "mosaicplot(table(datBas[,\"sex\"],datBas[,\"income\"]),main=\"\", col=\"lightblue\",cex=1.3)"
   ]
  },
  {
   "cell_type": "code",
   "execution_count": 10,
   "metadata": {
    "ExecuteTime": {
     "end_time": "2019-10-15T15:07:11.398063Z",
     "start_time": "2019-10-15T15:07:09.751Z"
    }
   },
   "outputs": [
    {
     "data": {
      "image/png": "[encoded data removed]",
      "text/plain": [
       "Plot with title “”"
      ]
     },
     "metadata": {},
     "output_type": "display_data"
    }
   ],
   "source": [
    "mosaicplot(table(datBas[,\"origEthn\"],datBas[,\"income\"]),main=\"\",col=\"lightblue\",cex=1.3)"
   ]
  },
  {
   "cell_type": "markdown",
   "metadata": {},
   "source": [
    "**Q** Commentaires sur le biais présent dans la base, les déséquilibres des classes."
   ]
  },
  {
   "cell_type": "markdown",
   "metadata": {},
   "source": [
    "### [Analyse factorielle multiple des correspondances](http://wikistat.fr/pdf/st-m-explo-afcm.pdf)\n",
    "Cette méthode permet d'avoir une vue d'ensemble de la structure des liaisons entre les variables qualitatives prises 2 à 2. "
   ]
  },
  {
   "cell_type": "code",
   "execution_count": 11,
   "metadata": {
    "ExecuteTime": {
     "end_time": "2019-07-02T14:58:46.544476Z",
     "start_time": "2019-07-02T14:58:43.064Z"
    }
   },
   "outputs": [
    {
     "data": {
      "image/png": "[encoded data removed]",
      "text/plain": [
       "plot without title"
      ]
     },
     "metadata": {},
     "output_type": "display_data"
    }
   ],
   "source": [
    "library(FactoMineR)\n",
    "dataq=datBas[,c(2,3,5:10,12,15:17)]\n",
    "afcm=MCA(dataq,graph=FALSE)\n",
    "plot(1:30,afcm$eig[1:30,1],type=\"h\")"
   ]
  },
  {
   "cell_type": "markdown",
   "metadata": {},
   "source": [
    "Il pourrait être utile de considérer 3 ou 4 axes mais seuls deux sont utilisés dans cette approche élémentaire. \n",
    "\n",
    "**Remarque** Cette étape permettrait d'anonymiser les données pour des traitements ultérieurs \"confidentiels\". Les variables qualitatives suceptibles de ré-identifier les données sont remplacées par les composantes principales de l'ACP des vecteurs profils lignes du tableau disjontif complet. Les liens entre individus sont conservés sans possibilité de les identifier."
   ]
  },
  {
   "cell_type": "code",
   "execution_count": 12,
   "metadata": {
    "ExecuteTime": {
     "end_time": "2019-07-02T14:58:46.906373Z",
     "start_time": "2019-07-02T14:58:43.154Z"
    }
   },
   "outputs": [
    {
     "data": {
      "image/png": "[encoded data removed]",
      "text/plain": [
       "Plot with title “MCA factor map”"
      ]
     },
     "metadata": {},
     "output_type": "display_data"
    }
   ],
   "source": [
    "options(repr.plot.width=6, repr.plot.height=6)\n",
    "plot.MCA(afcm,invisible=c(\"ind\"),habillage=\"quali\")"
   ]
  },
  {
   "cell_type": "markdown",
   "metadata": {},
   "source": [
    "Remarquer la très forte et attendue liaison entre niveau d'éducation et activité selon un axe de dispersion suivant la première bissectrice, lui même en relation avec les modalités haut et bas revenus alors que le genre, en première approximation, semble orthogonal à cet axe mais en relation avec le type d'activité et le nombre d'heures de travail par semaine.\n",
    "\n",
    "Ce graphique laisse penser que le lien entre genre et niveau de revenu ne serait pas dû à une sous qualification des femmes mais à une moindre activité (travail partiel) ou à des types d'emplois moins rémunérés.\n",
    "\n",
    "Cette représentation est complétée en projetant les individus colorés selon la variable revenu. De façon triviale, les hauts revenus se concentrent du côté des niveaux d'éducation les plus élevés.\n",
    "\n",
    "*En résumé*: un lien direct entre revenu et niveau d'éducation, pas nécessairement de lien entre genre et niveau d'éducation mais un \"frein\" au revenu lié au type de travail ou d'occupation : administratif, service... et à de possibles temps partiels."
   ]
  },
  {
   "cell_type": "code",
   "execution_count": 13,
   "metadata": {
    "ExecuteTime": {
     "end_time": "2019-07-02T14:58:47.064490Z",
     "start_time": "2019-07-02T14:58:43.231Z"
    }
   },
   "outputs": [
    {
     "data": {
      "image/png": "[encoded data removed]",
      "text/plain": [
       "plot without title"
      ]
     },
     "metadata": {},
     "output_type": "display_data"
    }
   ],
   "source": [
    "plot(afcm$ind$coord,type=\"p\",pch=\".\",cex=2,col=as.integer(dataBase$income))"
   ]
  },
  {
   "cell_type": "markdown",
   "metadata": {},
   "source": [
    "## Premiers modèles de prévision du seuil de revenu\n",
    "Une comparaison détaillée (cf. le [tutoriel](https://github.com/wikistat/Apprentissage/blob/master/Adult-Census/Apprent-Python-AdultCensus.ipynb)) de la plupart des modèles et algorithmes de prévision du seuil de revenu en fonction des différentes variables met en évidence des résultats de prévision un peu meilleurs obtenus par l'algorithme de *gradient boosting* (version xtrem). Néanmoins, on peut se limiter ici à un choix plus restreint de modèles et algorithmes: \n",
    "- la régression logistique (linéaire et quadratique), rapide, compétitive et interprétable; \n",
    "- un arbre de décision seul ocnduit à une meilleure précision mais s'avère trop complexe (profondeur) pour être interprétable; \n",
    "- les forêts aléatoires conduisent à une meilleure précision.\n",
    "\n",
    "### Echantillons\n",
    "La base de données est divisée en deux échantillons d'apprentissage et de test."
   ]
  },
  {
   "cell_type": "code",
   "execution_count": 11,
   "metadata": {
    "ExecuteTime": {
     "end_time": "2019-10-15T15:07:24.526246Z",
     "start_time": "2019-10-15T15:07:24.464Z"
    }
   },
   "outputs": [
    {
     "data": {
      "text/plain": [
       "      age                workClass           education        educNum     \n",
       " Min.   :18.00   Federal-Govt : 1390   HS-grad    :14766   Min.   : 1.00  \n",
       " 1st Qu.:28.00   Not-Working  :   21   HS-Graduate: 9892   1st Qu.: 9.00  \n",
       " Median :37.00   Other-Govt   : 5023   Bachelors  : 7569   Median :10.00  \n",
       " Mean   :38.79   Private      :32856   Dropout    : 5182   Mean   :10.16  \n",
       " 3rd Qu.:47.00   Self-Employed: 5425   Associates : 3466   3rd Qu.:13.00  \n",
       " Max.   :90.00                         Masters    : 2512   Max.   :16.00  \n",
       "                                       (Other)    : 1328                  \n",
       "          mariStat              occup          origEthn         sex       \n",
       " Married      :21079   Admin       : 5501   CaucNo : 6272   Female:14450  \n",
       " Never-Married:14100   Blue-Collar :14732   CaucYes:38443   Male  :30265  \n",
       " Not-Married  : 8259   Other-occups: 2391                                 \n",
       " Widowed      : 1277   Professional: 5992                                 \n",
       "                       Sales       : 5272                                 \n",
       "                       Service     : 4846                                 \n",
       "                       White-Collar: 5981                                 \n",
       " capitalGain    capitalLoss      hoursWeek      income       LcapitalGain   \n",
       " None  :40939   None  :42587   Min.   : 1.00   incB:33511   Min.   : 0.000  \n",
       " cgLow : 2167   clLow : 1071   1st Qu.:40.00   incH:11204   1st Qu.: 0.000  \n",
       " cgHigh: 1609   clHigh: 1057   Median :40.00                Median : 0.000  \n",
       "                               Mean   :41.17                Mean   : 0.747  \n",
       "                               3rd Qu.:45.00                3rd Qu.: 0.000  \n",
       "                               Max.   :99.00                Max.   :11.513  \n",
       "                                                                            \n",
       "  LcapitalLoss     ageQ      hoursWeekQ       child      \n",
       " Min.   :0.0000   Ag1:9034   HW1: 9638   ChildNo :38531  \n",
       " 1st Qu.:0.0000   Ag2:8473   HW2:21367   ChildYes: 6184  \n",
       " Median :0.0000   Ag3:9714   HW3:13710                   \n",
       " Mean   :0.3575   Ag4:9649                               \n",
       " 3rd Qu.:0.0000   Ag5:7845                               \n",
       " Max.   :8.3795                                          \n",
       "                                                         "
      ]
     },
     "metadata": {},
     "output_type": "display_data"
    }
   ],
   "source": [
    "summary(datBas)"
   ]
  },
  {
   "cell_type": "code",
   "execution_count": 12,
   "metadata": {
    "ExecuteTime": {
     "end_time": "2019-10-15T15:07:29.927686Z",
     "start_time": "2019-10-15T15:07:29.700Z"
    }
   },
   "outputs": [
    {
     "data": {
      "text/plain": [
       "      age           educNum               mariStat              occup      \n",
       " Min.   :18.00   Min.   : 1.00   Married      :21079   Admin       : 5501  \n",
       " 1st Qu.:28.00   1st Qu.: 9.00   Never-Married:14100   Blue-Collar :14732  \n",
       " Median :37.00   Median :10.00   Not-Married  : 8259   Other-occups: 2391  \n",
       " Mean   :38.79   Mean   :10.16   Widowed      : 1277   Professional: 5992  \n",
       " 3rd Qu.:47.00   3rd Qu.:13.00                         Sales       : 5272  \n",
       " Max.   :90.00   Max.   :16.00                         Service     : 4846  \n",
       "                                                       White-Collar: 5981  \n",
       "    origEthn         sex          hoursWeek      income       LcapitalGain   \n",
       " CaucNo : 6272   Female:14450   Min.   : 1.00   incB:33511   Min.   : 0.000  \n",
       " CaucYes:38443   Male  :30265   1st Qu.:40.00   incH:11204   1st Qu.: 0.000  \n",
       "                                Median :40.00                Median : 0.000  \n",
       "                                Mean   :41.17                Mean   : 0.747  \n",
       "                                3rd Qu.:45.00                3rd Qu.: 0.000  \n",
       "                                Max.   :99.00                Max.   :11.513  \n",
       "                                                                             \n",
       "  LcapitalLoss         child      \n",
       " Min.   :0.0000   ChildNo :38531  \n",
       " 1st Qu.:0.0000   ChildYes: 6184  \n",
       " Median :0.0000                   \n",
       " Mean   :0.3575                   \n",
       " 3rd Qu.:0.0000                   \n",
       " Max.   :8.3795                   \n",
       "                                  "
      ]
     },
     "metadata": {},
     "output_type": "display_data"
    }
   ],
   "source": [
    "datBas=datBas[,c(\"age\",\"educNum\",\"mariStat\",\"occup\",\"origEthn\",\n",
    "                 \"sex\",\"hoursWeek\",\"income\",\"LcapitalGain\",\"LcapitalLoss\",\"child\")]\n",
    "summary(datBas)\n",
    "write.csv(datBas,file=\"adultBase-R.csv\",row.names = FALSE)"
   ]
  },
  {
   "cell_type": "code",
   "execution_count": 13,
   "metadata": {
    "ExecuteTime": {
     "end_time": "2019-10-15T15:07:34.110523Z",
     "start_time": "2019-10-15T15:07:34.083Z"
    }
   },
   "outputs": [],
   "source": [
    "set.seed(11) # initialisation du générateur\n",
    "# Extraction des échantillons\n",
    "test.ratio=.2   # part de l'échantillon test\n",
    "npop=nrow(datBas) # nombre de lignes dans les données\n",
    "nvar=ncol(datBas) # nombre de colonnes\n",
    "# taille de l'échantillon test\n",
    "ntest=ceiling(npop*test.ratio) \n",
    "# indices de l'échantillon test\n",
    "testi=sample(1:npop,ntest)\n",
    "# indices de l'échantillon d'apprentissage\n",
    "appri=setdiff(1:npop,testi) "
   ]
  },
  {
   "cell_type": "code",
   "execution_count": 14,
   "metadata": {
    "ExecuteTime": {
     "end_time": "2019-10-15T15:07:36.428828Z",
     "start_time": "2019-10-15T15:07:36.408Z"
    }
   },
   "outputs": [],
   "source": [
    "# construction de l'échantillon d'apprentissage\n",
    "datApp=datBas[appri,]\n",
    "# construction de l'échantillon test \n",
    "daTest=datBas[testi,]"
   ]
  },
  {
   "cell_type": "markdown",
   "metadata": {},
   "source": [
    "### Prévision par régression logistique\n",
    "Remarquer que la présence des versions qualitatives (découpage en classe) des variables quantitatives introduit une part de non linéarité dans le modèle par la présence des indicatrices des classes.\n",
    "\n",
    "La fonction ci-dessous calcule le taux d'erreur usuel de la matrice de confusion. Avec l'ordonnencement des modalités, les bien classés sont les termes diagonaux de la matrice de confusion."
   ]
  },
  {
   "cell_type": "code",
   "execution_count": 15,
   "metadata": {
    "ExecuteTime": {
     "end_time": "2019-10-15T15:07:38.867436Z",
     "start_time": "2019-10-15T15:07:38.855Z"
    }
   },
   "outputs": [],
   "source": [
    "tauxErr=function(table){round((table[1,2]+table[2,1])/sum(table)*100,2)}"
   ]
  },
  {
   "cell_type": "code",
   "execution_count": 16,
   "metadata": {
    "ExecuteTime": {
     "end_time": "2019-10-15T15:07:41.819230Z",
     "start_time": "2019-10-15T15:07:39.875Z"
    }
   },
   "outputs": [
    {
     "data": {
      "text/html": [
       "<table>\n",
       "<thead><tr><th></th><th scope=col>Df</th><th scope=col>Deviance</th><th scope=col>Resid. Df</th><th scope=col>Resid. Dev</th><th scope=col>Pr(&gt;Chi)</th></tr></thead>\n",
       "<tbody>\n",
       "\t<tr><th scope=row>NULL</th><td>NA           </td><td>        NA   </td><td>35771        </td><td>40227.31     </td><td>           NA</td></tr>\n",
       "\t<tr><th scope=row>age</th><td> 1           </td><td>1865.39750   </td><td>35770        </td><td>38361.91     </td><td> 0.000000e+00</td></tr>\n",
       "\t<tr><th scope=row>educNum</th><td> 1           </td><td>4247.88595   </td><td>35769        </td><td>34114.03     </td><td> 0.000000e+00</td></tr>\n",
       "\t<tr><th scope=row>mariStat</th><td> 3           </td><td>6299.40893   </td><td>35766        </td><td>27814.62     </td><td> 0.000000e+00</td></tr>\n",
       "\t<tr><th scope=row>occup</th><td> 6           </td><td> 792.03697   </td><td>35760        </td><td>27022.58     </td><td>8.090064e-168</td></tr>\n",
       "\t<tr><th scope=row>origEthn</th><td> 1           </td><td>  19.96324   </td><td>35759        </td><td>27002.62     </td><td> 7.894531e-06</td></tr>\n",
       "\t<tr><th scope=row>sex</th><td> 1           </td><td>  51.34567   </td><td>35758        </td><td>26951.27     </td><td> 7.745273e-13</td></tr>\n",
       "\t<tr><th scope=row>hoursWeek</th><td> 1           </td><td> 439.60497   </td><td>35757        </td><td>26511.67     </td><td> 1.319533e-97</td></tr>\n",
       "\t<tr><th scope=row>LcapitalGain</th><td> 1           </td><td>1239.63939   </td><td>35756        </td><td>25272.03     </td><td>1.481393e-271</td></tr>\n",
       "\t<tr><th scope=row>LcapitalLoss</th><td> 1           </td><td> 304.08396   </td><td>35755        </td><td>24967.94     </td><td> 4.246522e-68</td></tr>\n",
       "\t<tr><th scope=row>child</th><td> 1           </td><td>  73.47646   </td><td>35754        </td><td>24894.47     </td><td> 1.018438e-17</td></tr>\n",
       "</tbody>\n",
       "</table>\n"
      ],
      "text/latex": [
       "\\begin{tabular}{r|lllll}\n",
       "  & Df & Deviance & Resid. Df & Resid. Dev & Pr(>Chi)\\\\\n",
       "\\hline\n",
       "\tNULL & NA            &         NA    & 35771         & 40227.31      &            NA\\\\\n",
       "\tage &  1            & 1865.39750    & 35770         & 38361.91      &  0.000000e+00\\\\\n",
       "\teducNum &  1            & 4247.88595    & 35769         & 34114.03      &  0.000000e+00\\\\\n",
       "\tmariStat &  3            & 6299.40893    & 35766         & 27814.62      &  0.000000e+00\\\\\n",
       "\toccup &  6            &  792.03697    & 35760         & 27022.58      & 8.090064e-168\\\\\n",
       "\torigEthn &  1            &   19.96324    & 35759         & 27002.62      &  7.894531e-06\\\\\n",
       "\tsex &  1            &   51.34567    & 35758         & 26951.27      &  7.745273e-13\\\\\n",
       "\thoursWeek &  1            &  439.60497    & 35757         & 26511.67      &  1.319533e-97\\\\\n",
       "\tLcapitalGain &  1            & 1239.63939    & 35756         & 25272.03      & 1.481393e-271\\\\\n",
       "\tLcapitalLoss &  1            &  304.08396    & 35755         & 24967.94      &  4.246522e-68\\\\\n",
       "\tchild &  1            &   73.47646    & 35754         & 24894.47      &  1.018438e-17\\\\\n",
       "\\end{tabular}\n"
      ],
      "text/markdown": [
       "\n",
       "| <!--/--> | Df | Deviance | Resid. Df | Resid. Dev | Pr(>Chi) |\n",
       "|---|---|---|---|---|---|\n",
       "| NULL | NA            |         NA    | 35771         | 40227.31      |            NA |\n",
       "| age |  1            | 1865.39750    | 35770         | 38361.91      |  0.000000e+00 |\n",
       "| educNum |  1            | 4247.88595    | 35769         | 34114.03      |  0.000000e+00 |\n",
       "| mariStat |  3            | 6299.40893    | 35766         | 27814.62      |  0.000000e+00 |\n",
       "| occup |  6            |  792.03697    | 35760         | 27022.58      | 8.090064e-168 |\n",
       "| origEthn |  1            |   19.96324    | 35759         | 27002.62      |  7.894531e-06 |\n",
       "| sex |  1            |   51.34567    | 35758         | 26951.27      |  7.745273e-13 |\n",
       "| hoursWeek |  1            |  439.60497    | 35757         | 26511.67      |  1.319533e-97 |\n",
       "| LcapitalGain |  1            | 1239.63939    | 35756         | 25272.03      | 1.481393e-271 |\n",
       "| LcapitalLoss |  1            |  304.08396    | 35755         | 24967.94      |  4.246522e-68 |\n",
       "| child |  1            |   73.47646    | 35754         | 24894.47      |  1.018438e-17 |\n",
       "\n"
      ],
      "text/plain": [
       "             Df Deviance   Resid. Df Resid. Dev Pr(>Chi)     \n",
       "NULL         NA         NA 35771     40227.31              NA\n",
       "age           1 1865.39750 35770     38361.91    0.000000e+00\n",
       "educNum       1 4247.88595 35769     34114.03    0.000000e+00\n",
       "mariStat      3 6299.40893 35766     27814.62    0.000000e+00\n",
       "occup         6  792.03697 35760     27022.58   8.090064e-168\n",
       "origEthn      1   19.96324 35759     27002.62    7.894531e-06\n",
       "sex           1   51.34567 35758     26951.27    7.745273e-13\n",
       "hoursWeek     1  439.60497 35757     26511.67    1.319533e-97\n",
       "LcapitalGain  1 1239.63939 35756     25272.03   1.481393e-271\n",
       "LcapitalLoss  1  304.08396 35755     24967.94    4.246522e-68\n",
       "child         1   73.47646 35754     24894.47    1.018438e-17"
      ]
     },
     "metadata": {},
     "output_type": "display_data"
    }
   ],
   "source": [
    "# estimation du modèle complet\n",
    "log.lm=glm(income~.,data=datApp,family=binomial)\n",
    "# significativité des paramètres\n",
    "anova(log.lm,test=\"Chisq\")"
   ]
  },
  {
   "cell_type": "markdown",
   "metadata": {},
   "source": [
    "**Q** Commentaire sur la significativité des paramètres."
   ]
  },
  {
   "cell_type": "code",
   "execution_count": 17,
   "metadata": {
    "ExecuteTime": {
     "end_time": "2019-10-15T15:07:45.715066Z",
     "start_time": "2019-10-15T15:07:45.685Z"
    }
   },
   "outputs": [
    {
     "data": {
      "text/plain": [
       "       \n",
       "        incB incH\n",
       "  FALSE 6154  950\n",
       "  TRUE   526 1313"
      ]
     },
     "metadata": {},
     "output_type": "display_data"
    }
   ],
   "source": [
    "# Prévision\n",
    "pred.log=predict(log.lm,newdata=daTest,type=\"response\")\n",
    "# Matrice de confusion pour la prévision du \n",
    "# dépassement de seuil\n",
    "confMat=table(pred.log>0.5,daTest$income)\n",
    "confMat"
   ]
  },
  {
   "cell_type": "code",
   "execution_count": 18,
   "metadata": {
    "ExecuteTime": {
     "end_time": "2019-10-15T15:07:47.401217Z",
     "start_time": "2019-10-15T15:07:47.385Z"
    }
   },
   "outputs": [
    {
     "data": {
      "text/html": [
       "16.5"
      ],
      "text/latex": [
       "16.5"
      ],
      "text/markdown": [
       "16.5"
      ],
      "text/plain": [
       "[1] 16.5"
      ]
     },
     "metadata": {},
     "output_type": "display_data"
    }
   ],
   "source": [
    "tauxErr(confMat)"
   ]
  },
  {
   "cell_type": "markdown",
   "metadata": {},
   "source": [
    "A titre de comparaison, l'algorithme des forêts aléatoires est exécuté avec les options par défaut.\n",
    "\n",
    "**Q** Quelles sont ces options par défaut?"
   ]
  },
  {
   "cell_type": "code",
   "execution_count": 19,
   "metadata": {
    "ExecuteTime": {
     "end_time": "2019-10-15T15:08:10.140536Z",
     "start_time": "2019-10-15T15:07:52.301Z"
    }
   },
   "outputs": [
    {
     "name": "stderr",
     "output_type": "stream",
     "text": [
      "randomForest 4.6-14\n",
      "Type rfNews() to see new features/changes/bug fixes.\n"
     ]
    },
    {
     "data": {
      "text/plain": [
       "       \n",
       "pred.rf incB incH\n",
       "   incB 6292  870\n",
       "   incH  388 1393"
      ]
     },
     "metadata": {},
     "output_type": "display_data"
    },
    {
     "data": {
      "text/html": [
       "14.07"
      ],
      "text/latex": [
       "14.07"
      ],
      "text/markdown": [
       "14.07"
      ],
      "text/plain": [
       "[1] 14.07"
      ]
     },
     "metadata": {},
     "output_type": "display_data"
    }
   ],
   "source": [
    "library(randomForest)\n",
    "rf.mod=randomForest(income~.,data=datApp)\n",
    "pred.rf=predict(rf.mod,newdata=daTest,type=\"response\")\n",
    "confMat=table(pred.rf,daTest$income)\n",
    "confMat\n",
    "tauxErr(confMat)"
   ]
  },
  {
   "cell_type": "markdown",
   "metadata": {},
   "source": [
    "Un modèle de régression logistique avec interactions, donc quadratique, nécessite une sélection de variables ici pas-à-pas (*stepwise* ou `both`). Le temps d'exécution est relativement long."
   ]
  },
  {
   "cell_type": "code",
   "execution_count": null,
   "metadata": {},
   "outputs": [],
   "source": [
    "#################\n",
    "# Ne pas exécuter\n",
    "################\n",
    "\n",
    "# régression avec le modèle minimum\n",
    "log.qm=glm(income~1,data=datApp,family=binomial)\n",
    "# algorithme stepwise en précisant le plus grand \n",
    "# modèle possible\n",
    "log.qm.stepb=step(log.qm,direction=\"both\",\n",
    "  scope=list(lower=~1,upper=~(age+educNum+mariStat+occup+origEthn+sex+hoursWeek+\n",
    "  LcapitalGain+LcapitalLoss+child)^2), family=binomial)"
   ]
  },
  {
   "cell_type": "code",
   "execution_count": null,
   "metadata": {},
   "outputs": [],
   "source": [
    "anova(log.qm.stepb,test=\"Chisq\")"
   ]
  },
  {
   "cell_type": "code",
   "execution_count": null,
   "metadata": {},
   "outputs": [],
   "source": [
    "# Prévision\n",
    "pred.logqm=predict(log.qm.stepb,newdata=daTest,type=\"response\")\n",
    "# Matrice de confusion pour la prévision du \n",
    "# dépassement de seuil\n",
    "confmat=table(pred.logqm>0.5,daTest[,\"income\"])\n",
    "tauxErr(confmat)\n",
    "confmat"
   ]
  },
  {
   "cell_type": "markdown",
   "metadata": {},
   "source": [
    "La prise en compte d'un modèe avec interactions n'améliore pas sensiblement la précision de la régression logisitique sur ces données. Il suffit donc par la suite de se limiter au modèle linéaire sans interactionpour étudier les questions de biais et discrimination. En revanche, un algorithme non linéaire (forêts aléatoires) permet de réduire significativement cette erreur; 16.5% pour la régression logistique incluant toutes les variables et ci-dessus 14.7% pour les forêts aléatoires. Le boosting ou même la version XGboost permet d'améliorer encore un peu ce score mais au prix d'optimisaitons complexes des hyperparamètres. L'objectif n'est pas ici d'obtenir la meilleure prévision comme dans le [calepin](https://github.com/wikistat/Apprentissage/tree/master/Adult-Census) concerné qui les compare systématiquement. Pour viser l'objectif de détection de biais, un modèle simplifié suffit car les mêmes questions de discrimination sont soulevées et avec des temps de calcul plus satisfaisants; arbre de décision et forêt aléatoire seront utilisés pour le sdernières comparaisons."
   ]
  },
  {
   "cell_type": "markdown",
   "metadata": {},
   "source": [
    "### Modèle de régression sans la variable genre\n",
    "Une approche naïve pour construire un apprentissage \"loyal\" consiste à supprimer la variable sensible. Le modèle de régression logistique est donc estimé sans cette variable afin d'évaluer l'impact sur le biais."
   ]
  },
  {
   "cell_type": "code",
   "execution_count": 20,
   "metadata": {
    "ExecuteTime": {
     "end_time": "2019-10-15T15:08:23.829675Z",
     "start_time": "2019-10-15T15:08:23.519Z"
    }
   },
   "outputs": [],
   "source": [
    "# estimation du modèle sans la variable genre\n",
    "log_g.lm=glm(income~.,data=datApp[,-6],family=binomial)"
   ]
  },
  {
   "cell_type": "code",
   "execution_count": 21,
   "metadata": {
    "ExecuteTime": {
     "end_time": "2019-10-15T15:08:25.629979Z",
     "start_time": "2019-10-15T15:08:25.604Z"
    }
   },
   "outputs": [
    {
     "data": {
      "text/plain": [
       "       \n",
       "        incB incH\n",
       "  FALSE 6157  953\n",
       "  TRUE   523 1310"
      ]
     },
     "metadata": {},
     "output_type": "display_data"
    }
   ],
   "source": [
    "# Prévision\n",
    "pred_g.log=predict(log_g.lm,newdata=daTest[,-8],type=\"response\")\n",
    "# Matrice de confusion pour la prévision du \n",
    "# dépassement de seuil\n",
    "confMat=table(pred_g.log>0.5,daTest$income)\n",
    "confMat"
   ]
  },
  {
   "cell_type": "code",
   "execution_count": 22,
   "metadata": {
    "ExecuteTime": {
     "end_time": "2019-10-15T15:08:27.901709Z",
     "start_time": "2019-10-15T15:08:27.881Z"
    }
   },
   "outputs": [
    {
     "data": {
      "text/html": [
       "16.5"
      ],
      "text/latex": [
       "16.5"
      ],
      "text/markdown": [
       "16.5"
      ],
      "text/plain": [
       "[1] 16.5"
      ]
     },
     "metadata": {},
     "output_type": "display_data"
    }
   ],
   "source": [
    "tauxErr(confMat)"
   ]
  },
  {
   "cell_type": "markdown",
   "metadata": {},
   "source": [
    "La qualité de prévision n'est pas affectée.\n",
    "\n",
    "### Régression logistique sans l'origine\n",
    "Même chose mais sans cette fois sans la variable origine ethnique."
   ]
  },
  {
   "cell_type": "code",
   "execution_count": 23,
   "metadata": {
    "ExecuteTime": {
     "end_time": "2019-10-15T15:08:32.260876Z",
     "start_time": "2019-10-15T15:08:31.989Z"
    }
   },
   "outputs": [
    {
     "data": {
      "text/plain": [
       "       \n",
       "        incB incH\n",
       "  FALSE 6157  954\n",
       "  TRUE   523 1309"
      ]
     },
     "metadata": {},
     "output_type": "display_data"
    },
    {
     "data": {
      "text/html": [
       "16.52"
      ],
      "text/latex": [
       "16.52"
      ],
      "text/markdown": [
       "16.52"
      ],
      "text/plain": [
       "[1] 16.52"
      ]
     },
     "metadata": {},
     "output_type": "display_data"
    }
   ],
   "source": [
    "log_o.lm=glm(income~.,data=datApp[,-5],family=binomial)\n",
    "# Prévision\n",
    "pred_o.log=predict(log_o.lm,newdata=daTest[,-5],type=\"response\")\n",
    "# Matrice de confusion  et erreur\n",
    "confMat=table(pred_o.log>0.5,daTest$income)\n",
    "confMat; tauxErr(confMat)"
   ]
  },
  {
   "cell_type": "markdown",
   "metadata": {},
   "source": [
    "Même remarque."
   ]
  },
  {
   "cell_type": "markdown",
   "metadata": {},
   "source": [
    "## Estimation de l'effet disproportionné\n",
    "### Définition\n",
    "Les mesures de discrimination indirecte ou de groupe sont basées sur un critère d'effet disproportionné ou *disparate impact* (*DI*) apparu aux USA en 1971 pour détecter des situations discriminatoires à l'embauche (Barocas et Selbst; 2016). Ce critère est défini par le rapport de deux probabilités. La probabilité de bénéficier d'une situation ou décision favorable (revenu élevé, crédit, emploi, logement...) pour une personne du groupe protégé par la loi: femme ou origine non caucasienne, sur la même probabilité pour une personne de l'autre groupe: homme ou origine caucasienne.\n",
    "\n",
    "*Notations*: \n",
    "\n",
    "- $Y$ est la variable cible ou à expliquer, ici le revenu, $Y=1$ revenu élevé *vs* $Y=0$; \n",
    "- $g(X)=\\hat{Y}$ le score élevé ou faible ou prévision du revenu, $g(X)=\\hat{Y}=0$: prévision d'un revenu faible;\n",
    "- $S$ est la variable sensible qui désigne le groupe en principe protégé par la loi contre une possible discrimination. Il s'agit ici du genre ou de l'origine ethnique réduite à 2 modalités: caucasien ($S=1$) ou non caucasien ($S=0$). \n",
    "\n",
    "L'effet disproportionné mesure une situation de biais de société déjà présent dans la base de données. \n",
    "$$DI=\\frac{P(Y=1|S=0)}{P(Y=1|S=1)}.$$\n",
    "Il est estimé à partir des valeurs de la table de contingence croisant les variables $Y$ et $S$ par le rapport:\n",
    "$$\\frac{n_{21}}{(n_{11}+n_{21})}/\\frac{n_{22}}{(n_{12}+n_{22})}.$$\n",
    "\n",
    "Appliqué à la prévision $g(X)=\\hat{Y}$ de la variable cible $Y$, il mesure le biais de cette prévision et donc le risque de discrimination opéré par la prévision.\n",
    "\n",
    "### Fonction `dispImp`\n",
    "Une fonction R calcule le $DI$ et fournit de plus une estimation par intervalle de confiance (Besse et al. 2018) décomposant la fonction de densité de la statistique de test par la *delta method*. Cette fonction a trois arguments:   \n",
    "- la variable $S$ considérée comme sensible: un facteur à deux niveaux ordonnés \"défavorable\" puis \"favorable\";\n",
    "- la variable cible $Y$ ou sa prévision $g(X)=\\hat{Y}$: également un facteur à deux niveaux défavorable pyuis favorable;\n",
    "- le risque de l'intervalle de confiance, par défaut 5%.\n",
    "\n",
    "Cette fonction renvoie les trois estimations $DI$ et $IC_g$, $IC_d$ bornes de l'intervalle de confiance."
   ]
  },
  {
   "cell_type": "code",
   "execution_count": 24,
   "metadata": {
    "ExecuteTime": {
     "end_time": "2019-10-15T15:08:37.916682Z",
     "start_time": "2019-10-15T15:08:37.890Z"
    }
   },
   "outputs": [],
   "source": [
    "source(\"../Functions/dispImp.R\")"
   ]
  },
  {
   "cell_type": "markdown",
   "metadata": {},
   "source": [
    "### Effet disproportionné de la base d'apprentissage\n",
    "Calculé sur les données initiales, le *disparate impact* ou effet disproportionné met en évidence un biais social fort. Les variables sensibles sont le genre puis l'origine ethnique. La fonction `dispImp` nécessite que les niveaux des facteurs soient dans l'ordre lexicographique: niveaux \"défavorable\" puis \"favorable\"."
   ]
  },
  {
   "cell_type": "markdown",
   "metadata": {},
   "source": [
    "#### Ségrégation vis à vis du genre\n",
    "Table de contingence croisant $Y$ (revenu) avec $S$ (genre)."
   ]
  },
  {
   "cell_type": "code",
   "execution_count": 25,
   "metadata": {
    "ExecuteTime": {
     "end_time": "2019-10-15T15:08:41.756434Z",
     "start_time": "2019-10-15T15:08:41.732Z"
    }
   },
   "outputs": [
    {
     "data": {
      "text/plain": [
       "      \n",
       "       Female  Male\n",
       "  incB  12781 20730\n",
       "  incH   1669  9535"
      ]
     },
     "metadata": {},
     "output_type": "display_data"
    }
   ],
   "source": [
    "tableDI=table(datBas$income,datBas$sex)\n",
    "tableDI"
   ]
  },
  {
   "cell_type": "markdown",
   "metadata": {},
   "source": [
    "*Estimation ponctuelle* de $DI=\\frac{n_{21}}{(n_{11}+n_{21})}/\\frac{n_{22}}{(n_{12}+n_{22})}.$"
   ]
  },
  {
   "cell_type": "code",
   "execution_count": 26,
   "metadata": {
    "ExecuteTime": {
     "end_time": "2019-10-15T15:08:46.726370Z",
     "start_time": "2019-10-15T15:08:46.710Z"
    }
   },
   "outputs": [
    {
     "data": {
      "text/html": [
       "0.367"
      ],
      "text/latex": [
       "0.367"
      ],
      "text/markdown": [
       "0.367"
      ],
      "text/plain": [
       "[1] 0.367"
      ]
     },
     "metadata": {},
     "output_type": "display_data"
    }
   ],
   "source": [
    "round((tableDI[2,1]/(tableDI[1,1]+tableDI[2,1]))/(tableDI[2,2]/(tableDI[1,2]+tableDI[2,2])),3)"
   ]
  },
  {
   "cell_type": "markdown",
   "metadata": {},
   "source": [
    "*Estimation par intervalle de confiance* approché par *delta method*. "
   ]
  },
  {
   "cell_type": "code",
   "execution_count": 27,
   "metadata": {
    "ExecuteTime": {
     "end_time": "2019-10-15T15:08:49.920823Z",
     "start_time": "2019-10-15T15:08:49.866Z"
    }
   },
   "outputs": [
    {
     "data": {
      "text/html": [
       "<ol class=list-inline>\n",
       "\t<li>0.349</li>\n",
       "\t<li>0.367</li>\n",
       "\t<li>0.384</li>\n",
       "</ol>\n"
      ],
      "text/latex": [
       "\\begin{enumerate*}\n",
       "\\item 0.349\n",
       "\\item 0.367\n",
       "\\item 0.384\n",
       "\\end{enumerate*}\n"
      ],
      "text/markdown": [
       "1. 0.349\n",
       "2. 0.367\n",
       "3. 0.384\n",
       "\n",
       "\n"
      ],
      "text/plain": [
       "[1] 0.349 0.367 0.384"
      ]
     },
     "metadata": {},
     "output_type": "display_data"
    }
   ],
   "source": [
    "round(dispImp(datBas[,\"sex\"],datBas[,\"income\"]),3)"
   ]
  },
  {
   "cell_type": "markdown",
   "metadata": {},
   "source": [
    "*Estimation bootstrap de l'intervalle de confiance*\n",
    "\n",
    "L'estimation approchée par la *delta method* est comparée à une estimation bootstrap de l'intervalle de confiance. En effet, l'estimation du *DI* est instable mais les estimations sur des échantillons bootstrap restent bien dans la zone de risque contrôlée par l'intervalle de confiance. "
   ]
  },
  {
   "cell_type": "code",
   "execution_count": null,
   "metadata": {},
   "outputs": [],
   "source": [
    "B=1000 \n",
    "set.seed(11)\n",
    "n=nrow(datBas)\n",
    "res=matrix(0,B,3)\n",
    "for (i in 1:B)\n",
    "    {\n",
    "    boot=sample(n,n,replace=T)\n",
    "    res[i,]=dispImp(datBas[boot,\"sex\"],datBas[boot,\"income\"])\n",
    "    }"
   ]
  },
  {
   "cell_type": "code",
   "execution_count": null,
   "metadata": {},
   "outputs": [],
   "source": [
    "options(repr.plot.width=5, repr.plot.height=4)\n",
    "plot(res[,2],ylim=c(0.3,0.45),pch='.')\n",
    "lines(res[,2],col=3,pch='.')\n",
    "abline(h=0.343,col=2)\n",
    "abline(h=0.386,col=2)"
   ]
  },
  {
   "cell_type": "markdown",
   "metadata": {},
   "source": [
    "Une fonction de la librairie `boot` fournit une estimation bootstrap de l'intervalle de confiance."
   ]
  },
  {
   "cell_type": "code",
   "execution_count": null,
   "metadata": {},
   "outputs": [],
   "source": [
    "library(boot)\n",
    "fc <- function(d, i){ \n",
    "    d2 <- d[i,]\n",
    "    return(statistic=dispImp(d2$sex,d2$income)[2])\n",
    "}\n",
    "set.seed(11)\n",
    "bootDI <- boot(datBas,fc, R=1000)\n",
    "bootDI"
   ]
  },
  {
   "cell_type": "code",
   "execution_count": null,
   "metadata": {},
   "outputs": [],
   "source": [
    "boot.ci(boot.out = bootDI, type = \"perc\")"
   ]
  },
  {
   "cell_type": "markdown",
   "metadata": {},
   "source": [
    "Comme attendu, l'intervalle de confiance issu de l'approximation par *delta method*: $[0.349, 0.384]$ se confond avec  celui obtenu par estimation bootstrap: $[0.349, 0.385]$.\n",
    "\n",
    "***NB*** Compte tenu des temps de calcul, l'estimation approchée de l'IC par *delta method* est à privilégier!"
   ]
  },
  {
   "cell_type": "markdown",
   "metadata": {},
   "source": [
    "#### Biais vis à vis de l'origine"
   ]
  },
  {
   "cell_type": "code",
   "execution_count": 28,
   "metadata": {
    "ExecuteTime": {
     "end_time": "2019-10-15T15:08:59.456750Z",
     "start_time": "2019-10-15T15:08:59.434Z"
    }
   },
   "outputs": [
    {
     "data": {
      "text/html": [
       "<ol class=list-inline>\n",
       "\t<li>0.566</li>\n",
       "\t<li>0.601</li>\n",
       "\t<li>0.637</li>\n",
       "</ol>\n"
      ],
      "text/latex": [
       "\\begin{enumerate*}\n",
       "\\item 0.566\n",
       "\\item 0.601\n",
       "\\item 0.637\n",
       "\\end{enumerate*}\n"
      ],
      "text/markdown": [
       "1. 0.566\n",
       "2. 0.601\n",
       "3. 0.637\n",
       "\n",
       "\n"
      ],
      "text/plain": [
       "[1] 0.566 0.601 0.637"
      ]
     },
     "metadata": {},
     "output_type": "display_data"
    }
   ],
   "source": [
    "round(dispImp(datBas$origEthn,datBas$income),3)"
   ]
  },
  {
   "cell_type": "markdown",
   "metadata": {},
   "source": [
    "Biais nettement plus important selon le genre que selon l'origine ethnique."
   ]
  },
  {
   "cell_type": "markdown",
   "metadata": {},
   "source": [
    "### Effet disproportionné des prévisions par régression logistique\n",
    "Le même ratio ou impact disproportionné calculé sur les prévisions $g(X)$ de $Y$ plutôt que sur $Y$ mesure explicitement l'effet de la prévision. Il revient à évaluer l'égalité des taux de prévision favorable. \n",
    "\n",
    "La valeur seuil de la probabilité pour prédire le niveau de revenu est fixée par défaut à 0.5."
   ]
  },
  {
   "cell_type": "code",
   "execution_count": 29,
   "metadata": {
    "ExecuteTime": {
     "end_time": "2019-10-15T15:09:02.873985Z",
     "start_time": "2019-10-15T15:09:02.856Z"
    }
   },
   "outputs": [],
   "source": [
    "Yhat=as.factor(pred.log>0.5)"
   ]
  },
  {
   "cell_type": "code",
   "execution_count": 30,
   "metadata": {
    "ExecuteTime": {
     "end_time": "2019-10-15T15:09:04.338262Z",
     "start_time": "2019-10-15T15:09:04.319Z"
    }
   },
   "outputs": [
    {
     "ename": "ERROR",
     "evalue": "Error in is.factor(x): objet 'pred.logqm' introuvable\n",
     "output_type": "error",
     "traceback": [
      "Error in is.factor(x): objet 'pred.logqm' introuvable\nTraceback:\n",
      "1. as.factor(pred.logqm > 0.5)",
      "2. is.factor(x)"
     ]
    }
   ],
   "source": [
    "Yhatq=as.factor(pred.logqm>0.5)"
   ]
  },
  {
   "cell_type": "markdown",
   "metadata": {},
   "source": [
    "#### Avec régression logistique et par genre\n",
    "La prévision reproduit et même renforce significativement le biais social pour le genre avec la régression logistique linéaire car les intervalles de confiance sont disjoints. En revanche, la discriminaiton n'est pas significative avec la régression logistique quadratique. Résultat assez surprenant mais conforme à ceux obtenus en exécutant les codes en python avec la librairie `Scikit-learn`n qui estime une verson plus flexible (plus de paramètres) de la régression logistique.\n",
    "\n",
    "***NB*** le *DI* est très sensible à l'algorithme d'apprentissage utilisé et ceci indépendamment de la précision de la prévision."
   ]
  },
  {
   "cell_type": "code",
   "execution_count": 31,
   "metadata": {
    "ExecuteTime": {
     "end_time": "2019-10-15T15:09:15.722268Z",
     "start_time": "2019-10-15T15:09:15.695Z"
    }
   },
   "outputs": [
    {
     "data": {
      "text/html": [
       "<ol class=list-inline>\n",
       "\t<li>0.212</li>\n",
       "\t<li>0.248</li>\n",
       "\t<li>0.283</li>\n",
       "</ol>\n"
      ],
      "text/latex": [
       "\\begin{enumerate*}\n",
       "\\item 0.212\n",
       "\\item 0.248\n",
       "\\item 0.283\n",
       "\\end{enumerate*}\n"
      ],
      "text/markdown": [
       "1. 0.212\n",
       "2. 0.248\n",
       "3. 0.283\n",
       "\n",
       "\n"
      ],
      "text/plain": [
       "[1] 0.212 0.248 0.283"
      ]
     },
     "metadata": {},
     "output_type": "display_data"
    }
   ],
   "source": [
    "round(dispImp(daTest[,\"sex\"],Yhat),3)"
   ]
  },
  {
   "cell_type": "code",
   "execution_count": 32,
   "metadata": {
    "ExecuteTime": {
     "end_time": "2019-10-15T15:09:17.690250Z",
     "start_time": "2019-10-15T15:09:17.667Z"
    }
   },
   "outputs": [
    {
     "ename": "ERROR",
     "evalue": "Error in data.frame(as.integer(Vs) - 1, as.integer(Vy) - 1): objet 'Yhatq' introuvable\n",
     "output_type": "error",
     "traceback": [
      "Error in data.frame(as.integer(Vs) - 1, as.integer(Vy) - 1): objet 'Yhatq' introuvable\nTraceback:\n",
      "1. dispImp(daTest[, \"sex\"], Yhatq)",
      "2. data.frame(as.integer(Vs) - 1, as.integer(Vy) - 1)"
     ]
    }
   ],
   "source": [
    "round(dispImp(daTest[,\"sex\"],Yhatq),3)"
   ]
  },
  {
   "cell_type": "markdown",
   "metadata": {},
   "source": [
    "A titre de comparaison, le DI obtenu par *random Forest* qui, pour cet échantillon test, ne discrimine pas."
   ]
  },
  {
   "cell_type": "code",
   "execution_count": 33,
   "metadata": {
    "ExecuteTime": {
     "end_time": "2019-10-15T15:09:24.526407Z",
     "start_time": "2019-10-15T15:09:24.503Z"
    }
   },
   "outputs": [
    {
     "data": {
      "text/html": [
       "<ol class=list-inline>\n",
       "\t<li>0.329</li>\n",
       "\t<li>0.375</li>\n",
       "\t<li>0.42</li>\n",
       "</ol>\n"
      ],
      "text/latex": [
       "\\begin{enumerate*}\n",
       "\\item 0.329\n",
       "\\item 0.375\n",
       "\\item 0.42\n",
       "\\end{enumerate*}\n"
      ],
      "text/markdown": [
       "1. 0.329\n",
       "2. 0.375\n",
       "3. 0.42\n",
       "\n",
       "\n"
      ],
      "text/plain": [
       "[1] 0.329 0.375 0.420"
      ]
     },
     "metadata": {},
     "output_type": "display_data"
    }
   ],
   "source": [
    "round(dispImp(daTest[,\"sex\"],pred.rf),3)"
   ]
  },
  {
   "cell_type": "markdown",
   "metadata": {},
   "source": [
    "#### Avec régression logistique et par origine\n",
    "Le renforcement du biais selon l'origine n'est pas, sur ces données, statistiquement significatif."
   ]
  },
  {
   "cell_type": "code",
   "execution_count": 34,
   "metadata": {
    "ExecuteTime": {
     "end_time": "2019-10-15T15:09:32.333697Z",
     "start_time": "2019-10-15T15:09:32.311Z"
    }
   },
   "outputs": [
    {
     "data": {
      "text/html": [
       "<ol class=list-inline>\n",
       "\t<li>0.442</li>\n",
       "\t<li>0.524</li>\n",
       "\t<li>0.607</li>\n",
       "</ol>\n"
      ],
      "text/latex": [
       "\\begin{enumerate*}\n",
       "\\item 0.442\n",
       "\\item 0.524\n",
       "\\item 0.607\n",
       "\\end{enumerate*}\n"
      ],
      "text/markdown": [
       "1. 0.442\n",
       "2. 0.524\n",
       "3. 0.607\n",
       "\n",
       "\n"
      ],
      "text/plain": [
       "[1] 0.442 0.524 0.607"
      ]
     },
     "metadata": {},
     "output_type": "display_data"
    }
   ],
   "source": [
    "round(dispImp(daTest[,\"origEthn\"],Yhat),3)"
   ]
  },
  {
   "cell_type": "code",
   "execution_count": null,
   "metadata": {},
   "outputs": [],
   "source": [
    "round(dispImp(daTest[,\"origEthn\"],Yhatq),3)"
   ]
  },
  {
   "cell_type": "markdown",
   "metadata": {},
   "source": [
    "### Effet disproportionné des prévisions sans la variable sensible\n",
    "L'approche très naïve qui consiste à supprimer la variable sensible du modèle n'a finalement pas d'effet sur le biais et donc le caractère discriminatoire de l'algorithme.\n",
    "#### En supprimant la variable genre"
   ]
  },
  {
   "cell_type": "code",
   "execution_count": 35,
   "metadata": {
    "ExecuteTime": {
     "end_time": "2019-10-15T15:09:36.347522Z",
     "start_time": "2019-10-15T15:09:36.315Z"
    }
   },
   "outputs": [
    {
     "data": {
      "text/html": [
       "<ol class=list-inline>\n",
       "\t<li>0.232</li>\n",
       "\t<li>0.269</li>\n",
       "\t<li>0.305</li>\n",
       "</ol>\n"
      ],
      "text/latex": [
       "\\begin{enumerate*}\n",
       "\\item 0.232\n",
       "\\item 0.269\n",
       "\\item 0.305\n",
       "\\end{enumerate*}\n"
      ],
      "text/markdown": [
       "1. 0.232\n",
       "2. 0.269\n",
       "3. 0.305\n",
       "\n",
       "\n"
      ],
      "text/plain": [
       "[1] 0.232 0.269 0.305"
      ]
     },
     "metadata": {},
     "output_type": "display_data"
    }
   ],
   "source": [
    "Yhat_g=as.factor(pred_g.log>0.5)\n",
    "round(dispImp(daTest[,\"sex\"],Yhat_g),3)"
   ]
  },
  {
   "cell_type": "markdown",
   "metadata": {},
   "source": [
    "#### En supprimant la variable origine"
   ]
  },
  {
   "cell_type": "code",
   "execution_count": 36,
   "metadata": {
    "ExecuteTime": {
     "end_time": "2019-10-15T15:09:40.411538Z",
     "start_time": "2019-10-15T15:09:40.385Z"
    }
   },
   "outputs": [
    {
     "data": {
      "text/html": [
       "<ol class=list-inline>\n",
       "\t<li>0.498</li>\n",
       "\t<li>0.586</li>\n",
       "\t<li>0.673</li>\n",
       "</ol>\n"
      ],
      "text/latex": [
       "\\begin{enumerate*}\n",
       "\\item 0.498\n",
       "\\item 0.586\n",
       "\\item 0.673\n",
       "\\end{enumerate*}\n"
      ],
      "text/markdown": [
       "1. 0.498\n",
       "2. 0.586\n",
       "3. 0.673\n",
       "\n",
       "\n"
      ],
      "text/plain": [
       "[1] 0.498 0.586 0.673"
      ]
     },
     "metadata": {},
     "output_type": "display_data"
    }
   ],
   "source": [
    "Yhat_o=as.factor(pred_o.log>0.5)\n",
    "round(dispImp(daTest[,\"origEthn\"],Yhat_o),3)"
   ]
  },
  {
   "cell_type": "markdown",
   "metadata": {},
   "source": [
    "De même que les erreurs de prévisions restent stables, l'effet disproportionné n'est pas statistiquement affecté par la suppression de la variable sensible du modèle. Le déterminisme social est plus fort que la présence de la variable sensible: *une femme ou une personne non caucasienne travaille de toute façon moins ou de façon moins qualifiée quelque soit son niveau d'éducation*. La suppression de la variable sensible n'impacte donc pas la modélisation. "
   ]
  },
  {
   "cell_type": "markdown",
   "metadata": {},
   "source": [
    "### Impact de l'algorithme\n",
    "Comme vu précédemment, la régression logistique renforce de façon importante voire statistiquement significative le bais déjà présent dans les données. Ce n'est pas le cas de *random forest* sur cet échantillon test.  Plus précisément, Friedler et al. (2019) mettent en oeuvre une comparaison exhaustive de plusieurs algorithmes de débiaisage sur 5 jeux de données publics dont celles issues du recensement `adultCensus`. Les résultats sont comparés avec ceux \"*base line*\" d'algorithmes d'apprentissage classique (SVM, logistique, arbre de décision, bayésien naïf). Les résultats affichés mettent en évidence une forte disparité des *DI* calculés pour ces différents algorithmes ainsi que pour différentes extractions d'échantillons tests.\n",
    "\n",
    " Le code ci-dessous permet de vérifier ces points en considérant (validation croisée *Monte Carlo*) 20 réplications de la séparation des échantillons d'apprentissage et de test sur lesquels sont entraînés trois algorithmes: logistique linéaire, arbre de décision, *random forest*, avant d'évaluer le DI observé sur la prévision de l'échantillon test. Les SVM ainsi que les classifieurs bayésiens naïfs considérés par Friedler et al. (2019) ne sont pas repris car ils engendrent des problèmes sans doute à cause de la présence des variables qualitatives qui doivent être tranformées en indicatrices. Ceci pourra être complété dans un deuxième temps mais ce n'est indispensable pour mettre en évidence l'influence d'un algorithme sur l'effet disproportionné.\n",
    "\n",
    "La librairie `caret` est utilisée pour simplifier le code et réduire les temps de calcul en parallélisant. Le fichier d'entraînement est de taille importante et impose des temps de calcul rédhibitoires lors de l'optimisation des hyperparamètres qui est simplifiée car l'objectif n'est pas de rechercher la meilleure précision.\n",
    "\n",
    "**Attention** l'exécution de la cellule ci-dessous est longue. Elle peut être sautée car les principaux résultats (précision et DI) ont été enregistrés dans deux fichiers afin de faciliter les comparaisons entre les algorithmes et avec ceux de Friedler et al. (2019)."
   ]
  },
  {
   "cell_type": "code",
   "execution_count": 76,
   "metadata": {},
   "outputs": [
    {
     "name": "stdout",
     "output_type": "stream",
     "text": [
      "[1] \"i=1  DI initial:  0.338  0.378  0.418\"\n",
      "[1] \"Précision de logit: 0.838 arbre: 0.844 rf: 0.863\"\n",
      "[1] \"DI de        logit: 0.218 arbre: 0.272 rf: 0.32\"\n",
      "[1] \"i=2  DI initial:  0.312  0.35  0.389\"\n",
      "[1] \"Précision de logit: 0.838 arbre: 0.848 rf: 0.864\"\n",
      "[1] \"DI de        logit: 0.22 arbre: 0.287 rf: 0.318\"\n",
      "[1] \"i=3  DI initial:  0.302  0.339  0.377\"\n",
      "[1] \"Précision de logit: 0.835 arbre: 0.846 rf: 0.861\"\n",
      "[1] \"DI de        logit: 0.207 arbre: 0.258 rf: 0.306\"\n",
      "[1] \"i=4  DI initial:  0.327  0.367  0.406\"\n",
      "[1] \"Précision de logit: 0.829 arbre: 0.843 rf: 0.857\"\n",
      "[1] \"DI de        logit: 0.23 arbre: 0.289 rf: 0.347\"\n",
      "[1] \"i=5  DI initial:  0.329  0.368  0.407\"\n",
      "[1] \"Précision de logit: 0.84 arbre: 0.846 rf: 0.864\"\n",
      "[1] \"DI de        logit: 0.211 arbre: 0.293 rf: 0.301\"\n",
      "[1] \"i=6  DI initial:  0.315  0.354  0.392\"\n",
      "[1] \"Précision de logit: 0.833 arbre: 0.844 rf: 0.858\"\n",
      "[1] \"DI de        logit: 0.217 arbre: 0.277 rf: 0.313\"\n",
      "[1] \"i=7  DI initial:  0.333  0.373  0.414\"\n",
      "[1] \"Précision de logit: 0.84 arbre: 0.848 rf: 0.86\"\n",
      "[1] \"DI de        logit: 0.236 arbre: 0.303 rf: 0.363\"\n",
      "[1] \"i=8  DI initial:  0.332  0.372  0.411\"\n",
      "[1] \"Précision de logit: 0.841 arbre: 0.85 rf: 0.866\"\n",
      "[1] \"DI de        logit: 0.235 arbre: 0.327 rf: 0.354\"\n",
      "[1] \"i=9  DI initial:  0.361  0.403  0.446\"\n",
      "[1] \"Précision de logit: 0.831 arbre: 0.847 rf: 0.858\"\n",
      "[1] \"DI de        logit: 0.225 arbre: 0.301 rf: 0.322\"\n",
      "[1] \"i=10  DI initial:  0.306  0.343  0.381\"\n",
      "[1] \"Précision de logit: 0.837 arbre: 0.849 rf: 0.864\"\n",
      "[1] \"DI de        logit: 0.227 arbre: 0.294 rf: 0.326\"\n",
      "[1] \"i=11  DI initial:  0.333  0.373  0.412\"\n",
      "[1] \"Précision de logit: 0.838 arbre: 0.847 rf: 0.864\"\n",
      "[1] \"DI de        logit: 0.196 arbre: 0.274 rf: 0.318\"\n",
      "[1] \"i=12  DI initial:  0.287  0.323  0.359\"\n",
      "[1] \"Précision de logit: 0.829 arbre: 0.844 rf: 0.857\"\n",
      "[1] \"DI de        logit: 0.184 arbre: 0.265 rf: 0.298\"\n",
      "[1] \"i=13  DI initial:  0.329  0.369  0.408\"\n",
      "[1] \"Précision de logit: 0.835 arbre: 0.847 rf: 0.862\"\n",
      "[1] \"DI de        logit: 0.221 arbre: 0.298 rf: 0.309\"\n",
      "[1] \"i=14  DI initial:  0.313  0.352  0.39\"\n",
      "[1] \"Précision de logit: 0.839 arbre: 0.846 rf: 0.861\"\n",
      "[1] \"DI de        logit: 0.226 arbre: 0.293 rf: 0.309\"\n",
      "[1] \"i=15  DI initial:  0.327  0.366  0.405\"\n",
      "[1] \"Précision de logit: 0.835 arbre: 0.845 rf: 0.858\"\n",
      "[1] \"DI de        logit: 0.232 arbre: 0.296 rf: 0.341\"\n",
      "[1] \"i=16  DI initial:  0.354  0.395  0.436\"\n",
      "[1] \"Précision de logit: 0.834 arbre: 0.848 rf: 0.859\"\n",
      "[1] \"DI de        logit: 0.193 arbre: 0.282 rf: 0.299\"\n",
      "[1] \"i=17  DI initial:  0.32  0.359  0.398\"\n",
      "[1] \"Précision de logit: 0.838 arbre: 0.846 rf: 0.861\"\n",
      "[1] \"DI de        logit: 0.216 arbre: 0.312 rf: 0.344\"\n",
      "[1] \"i=18  DI initial:  0.328  0.369  0.409\"\n",
      "[1] \"Précision de logit: 0.837 arbre: 0.847 rf: 0.863\"\n",
      "[1] \"DI de        logit: 0.225 arbre: 0.274 rf: 0.319\"\n",
      "[1] \"i=19  DI initial:  0.315  0.354  0.393\"\n",
      "[1] \"Précision de logit: 0.832 arbre: 0.841 rf: 0.861\"\n",
      "[1] \"DI de        logit: 0.21 arbre: 0.288 rf: 0.311\"\n",
      "[1] \"i=20  DI initial:  0.369  0.411  0.454\"\n",
      "[1] \"Précision de logit: 0.832 arbre: 0.84 rf: 0.856\"\n",
      "[1] \"DI de        logit: 0.241 arbre: 0.315 rf: 0.345\"\n"
     ]
    }
   ],
   "source": [
    "##############################\n",
    "# Ne pas exécuter  c'est long#\n",
    "##############################\n",
    "# parallélisation\n",
    "library(doParallel)\n",
    "cl <- makeCluster(4)\n",
    "registerDoParallel(cl) \n",
    "\n",
    "library(caret)\n",
    "# extraction des données en se limitant à l'échantillon  train initial\n",
    "# Variable cible\n",
    "# Y=datBas[1:29000,\"income\"]\n",
    "Y=datBas[,\"income\"]\n",
    "# Variables explicatives\n",
    "#X=datBas[1:29000,-8]\n",
    "X=datBas[,-8]\n",
    "# Transformation des facteurs en indicatrices pour utiliser SVM\n",
    "#library(FactoMineR)\n",
    "# X=data.frame(tab.disjonctif(X[,c(3,5,6,10)]),X[,-c(3,5,6,10)])\n",
    "\n",
    "xx=11 # initialisation du générateur de nombres pseudo aléatoires\n",
    "set.seed(11)\n",
    "for (i in 1:20) {\n",
    "inTrain = createDataPartition(X[,1],p = 0.8, list = FALSE)\n",
    "# Extraction des échantillons\n",
    "trainDescr=X[inTrain,]\n",
    "testDescr=X[-inTrain,]\n",
    "testY=Y[-inTrain]\n",
    "trainY=Y[inTrain]\n",
    "\n",
    "xTrans=trainDescr\n",
    "# normalisation pas utile\n",
    "# Normalisation calculée sur les paramètres de l'échantillon d'apprentissage\n",
    "# xTrans=preProcess(trainDescr)\n",
    "#trainDescr=predict(xTrans,trainDescr)\n",
    "# Puis appliquée également à l'échantillon test\n",
    "#testDescr=predict(xTrans,testDescr)\n",
    "# Choix de la validation croisée\n",
    "cvControl=trainControl(method=\"cv\",number=10)\n",
    "# Attention, la variable sex est remplacée par deux indicatrices\n",
    "# Il faut transformée l'indicatrice de \"Male\" en un facteur\n",
    "DI=round(dispImp(testDescr$sex,testY),3)\n",
    "print(paste0(\"i=\",i,\"  DI initial:  \",DI[1],\"  \",DI[2],\"  \",DI[3]))\n",
    "# Régression logistique\n",
    "set.seed(2)\n",
    "rlogFit = train(trainDescr, trainY, method = \"glmStepAIC\", trControl = cvControl, trace=FALSE)\n",
    "# Arbre de décision\n",
    "rpartFit = train(trainDescr, trainY, method = \"rpart\", tuneLength = 6, trControl = cvControl)\n",
    "# random forest\n",
    "rfFit = train(trainDescr, trainY,method = \"rf\", tuneGrid = data.frame(mtry = 3), trControl=trainControl(method = \"none\"), ntrees=500, trace=FALSE)\n",
    "# bayésien naïf\n",
    "# bnFit = train(trainDescr, trainY,method = \"nb\", tuneLength = 4, trControl = cvControl)\n",
    "# SVM noyau radial\n",
    "# svmFit = train(trainDescr, trainY,method = \"svmRadial\", tuneLength = 4, trControl = cvControl)\n",
    "# \n",
    "models=list(logit=rlogFit,arbre=rpartFit,rf=rfFit)\n",
    "testPred=predict(models, newdata = testDescr)\n",
    "# taux de bien classés\n",
    "prec=lapply(testPred,function(x)round(mean(x==testY),3))\n",
    "print(paste0(\"Précision de logit: \",prec$logit,\" arbre: \",prec$arbre,\" rf: \",prec$rf))\n",
    "#DI\n",
    "DI=lapply(testPred,function(x)round(dispImp(testDescr$sex,x)[2],3))\n",
    "print(paste0(\"DI de        logit: \",DI$logit,\" arbre: \",DI$arbre,\" rf: \",DI$rf))\n",
    "}"
   ]
  },
  {
   "cell_type": "code",
   "execution_count": 80,
   "metadata": {},
   "outputs": [],
   "source": [
    "di=read.table(\"di.txt\",header=T)\n",
    "pr=read.table(\"prec.txt\",header=T)\n",
    "dipr=data.frame(di,pr)"
   ]
  },
  {
   "cell_type": "code",
   "execution_count": 81,
   "metadata": {},
   "outputs": [
    {
     "data": {
      "image/png": "[encoded data removed]",
      "text/plain": [
       "Plot with title “Effet disproportionné”"
      ]
     },
     "metadata": {},
     "output_type": "display_data"
    }
   ],
   "source": [
    "par(mfrow=c(1,2))\n",
    "options(repr.plot.width=9, repr.plot.height=4)\n",
    "boxplot(pr,main=\"Précision\",col='lightblue');boxplot(di,main=\"Effet disproportionné\",col='lightblue')"
   ]
  },
  {
   "cell_type": "markdown",
   "metadata": {},
   "source": [
    "Comme attendu, la précision dépend fortement de l'algorithme choisie mais aussi, c'est important et moins attendu, l'estimation du *DI*. De façon relativement contre-intuitive, meilleure est la précision et moins le biais est renforcé par rapport à celui `DIbase` des données d'entraînement. Mais, pour un algorithme donné, le *DI* n'est pas corrélé à la précision sur un échantillon d'apprentissage."
   ]
  },
  {
   "cell_type": "code",
   "execution_count": null,
   "metadata": {},
   "outputs": [],
   "source": [
    "par(mfrow=c(1,3))\n",
    "options(repr.plot.width=9, repr.plot.height=3)\n",
    "plot(pr$Plogit,di$DIlogit);plot(pr$Parbre,di$DIarbre);plot(pr$Prf,di$DIrf)"
   ]
  },
  {
   "cell_type": "markdown",
   "metadata": {},
   "source": [
    "**En résumé** les forêts aléatoire apportent deux avantages par rapport à la régression logistique: meilleure prévision et moindre discrimination mais au prix évidemment de l'interprétabilité.\n",
    "\n",
    "**Attention** comme le rappelle Friedler et al. (2019) les résultats et conclusions peuvent changer d'un jeu de données à un autre. C'est déjà bien connu en ce qui concerne la précision de la prévision, il est nécessaire de l'intégrer dans la gestion du biais."
   ]
  },
  {
   "cell_type": "markdown",
   "metadata": {},
   "source": [
    "### Réduction du biais par correction du seuil\n",
    "La suppression de la variable sensible ne corrige pas le biais. Une façon très élémentaire de le faire, même si elle peut être jugée déloyale, consiste à intervenir sur les seuils de décisions. Par défaut, ce seuil est fixé à 0.5 pour affecter la prévision à la classe. Il suffit de le modifier conditionnellement aux niveaux de la variable sensible pour intervenir directement sur le biais. \n",
    "\n",
    "Ainsi, un seuil plus favorable de 0.4 pour les femmes permet de retrouver une valeur de $DI$ analogue à celle des données de la base sans pour autant que le taux d'erreur en soit affecté."
   ]
  },
  {
   "cell_type": "code",
   "execution_count": 37,
   "metadata": {
    "ExecuteTime": {
     "end_time": "2019-10-15T15:10:13.735656Z",
     "start_time": "2019-10-15T15:10:13.700Z"
    }
   },
   "outputs": [
    {
     "data": {
      "text/html": [
       "<ol class=list-inline>\n",
       "\t<li>0.293</li>\n",
       "\t<li>0.334</li>\n",
       "\t<li>0.375</li>\n",
       "</ol>\n"
      ],
      "text/latex": [
       "\\begin{enumerate*}\n",
       "\\item 0.293\n",
       "\\item 0.334\n",
       "\\item 0.375\n",
       "\\end{enumerate*}\n"
      ],
      "text/markdown": [
       "1. 0.293\n",
       "2. 0.334\n",
       "3. 0.375\n",
       "\n",
       "\n"
      ],
      "text/plain": [
       "[1] 0.293 0.334 0.375"
      ]
     },
     "metadata": {},
     "output_type": "display_data"
    },
    {
     "data": {
      "text/html": [
       "16.55"
      ],
      "text/latex": [
       "16.55"
      ],
      "text/markdown": [
       "16.55"
      ],
      "text/plain": [
       "[1] 16.55"
      ]
     },
     "metadata": {},
     "output_type": "display_data"
    }
   ],
   "source": [
    "Yhat_cs=as.factor(ifelse(daTest$sex==\"Female\",pred.log>0.4,pred.log>0.5))\n",
    "round(dispImp(daTest[,\"sex\"],Yhat_cs),3)\n",
    "tauxErr(table(Yhat_cs,daTest$income))"
   ]
  },
  {
   "cell_type": "markdown",
   "metadata": {},
   "source": [
    "Une réduction plus marquée du seuil permet de restreindre significativement le biais de façon à ce que $0.8\\in IC$; il n'y a alors plus d'effet disproportionné juridiquement significatif. Le prix à payer est la dégradation du taux d'erreur de prévision."
   ]
  },
  {
   "cell_type": "code",
   "execution_count": 38,
   "metadata": {
    "ExecuteTime": {
     "end_time": "2019-10-15T15:10:18.119090Z",
     "start_time": "2019-10-15T15:10:18.093Z"
    }
   },
   "outputs": [
    {
     "data": {
      "text/html": [
       "<ol class=list-inline>\n",
       "\t<li>0.796</li>\n",
       "\t<li>0.863</li>\n",
       "\t<li>0.93</li>\n",
       "</ol>\n"
      ],
      "text/latex": [
       "\\begin{enumerate*}\n",
       "\\item 0.796\n",
       "\\item 0.863\n",
       "\\item 0.93\n",
       "\\end{enumerate*}\n"
      ],
      "text/markdown": [
       "1. 0.796\n",
       "2. 0.863\n",
       "3. 0.93\n",
       "\n",
       "\n"
      ],
      "text/plain": [
       "[1] 0.796 0.863 0.930"
      ]
     },
     "metadata": {},
     "output_type": "display_data"
    },
    {
     "data": {
      "text/html": [
       "18.57"
      ],
      "text/latex": [
       "18.57"
      ],
      "text/markdown": [
       "18.57"
      ],
      "text/plain": [
       "[1] 18.57"
      ]
     },
     "metadata": {},
     "output_type": "display_data"
    }
   ],
   "source": [
    "Yhat_cs=as.factor(ifelse(daTest$sex==\"Female\",pred.log>0.15,pred.log>0.5))\n",
    "round(dispImp(daTest[,\"sex\"],Yhat_cs),3)\n",
    "tauxErr(table(Yhat_cs,daTest$income))"
   ]
  },
  {
   "cell_type": "markdown",
   "metadata": {},
   "source": [
    "Même chose pour l'origine ethnique avec une correction plus légère du seuil."
   ]
  },
  {
   "cell_type": "code",
   "execution_count": 39,
   "metadata": {
    "ExecuteTime": {
     "end_time": "2019-10-15T15:10:21.430202Z",
     "start_time": "2019-10-15T15:10:21.399Z"
    }
   },
   "outputs": [
    {
     "data": {
      "text/html": [
       "<ol class=list-inline>\n",
       "\t<li>0.498</li>\n",
       "\t<li>0.585</li>\n",
       "\t<li>0.672</li>\n",
       "</ol>\n"
      ],
      "text/latex": [
       "\\begin{enumerate*}\n",
       "\\item 0.498\n",
       "\\item 0.585\n",
       "\\item 0.672\n",
       "\\end{enumerate*}\n"
      ],
      "text/markdown": [
       "1. 0.498\n",
       "2. 0.585\n",
       "3. 0.672\n",
       "\n",
       "\n"
      ],
      "text/plain": [
       "[1] 0.498 0.585 0.672"
      ]
     },
     "metadata": {},
     "output_type": "display_data"
    },
    {
     "data": {
      "text/html": [
       "16.56"
      ],
      "text/latex": [
       "16.56"
      ],
      "text/markdown": [
       "16.56"
      ],
      "text/plain": [
       "[1] 16.56"
      ]
     },
     "metadata": {},
     "output_type": "display_data"
    }
   ],
   "source": [
    "Yhat_co=as.factor(ifelse(daTest$origEthn==\"CaucNo\",pred.log>0.45,pred.log>0.5))\n",
    "round(dispImp(daTest[,\"origEthn\"],Yhat_co),3)\n",
    "tauxErr(table(Yhat_co,daTest$income))"
   ]
  },
  {
   "cell_type": "markdown",
   "metadata": {},
   "source": [
    "*Attention*, comme vu précédemment l'aléa intervenant par le tirage des échantillons a un effet important sur le *DI* qui est de ce fait relativement instable. L'obtention d'une \"bonne\" valeur de seuil pour réduire le biais de la prévision doit être conduite avec soin, notamment par validation croisée afin d'éviter de sur-ajuster ce paramètre à un échantillon test fixé. De façon plus élémentaire, que se passe-t-il avec un simple échantillon de validation en coupant en deux l'échantillon test."
   ]
  },
  {
   "cell_type": "code",
   "execution_count": 40,
   "metadata": {
    "ExecuteTime": {
     "end_time": "2019-10-15T15:10:26.665696Z",
     "start_time": "2019-10-15T15:10:26.631Z"
    }
   },
   "outputs": [],
   "source": [
    "set.seed(11) # initialisation du générateur\n",
    "# Extraction des échantillons\n",
    "test.ratio=.5   # part de l'échantillon test\n",
    "npop=nrow(daTest) # nombre de lignes dans les données\n",
    "# taille de l'échantillon test\n",
    "ntest=ceiling(npop*test.ratio) \n",
    "# indices de l'échantillon test\n",
    "testi=sample(1:npop,ntest)\n",
    "# indices de l'échantillon de validation\n",
    "vali=setdiff(1:npop,testi) "
   ]
  },
  {
   "cell_type": "code",
   "execution_count": 41,
   "metadata": {
    "ExecuteTime": {
     "end_time": "2019-10-15T15:10:29.118269Z",
     "start_time": "2019-10-15T15:10:29.098Z"
    }
   },
   "outputs": [],
   "source": [
    "daTest2=daTest[testi,]\n",
    "datVal=daTest[vali,]"
   ]
  },
  {
   "cell_type": "markdown",
   "metadata": {},
   "source": [
    "Prévisions de ces deux échantillons"
   ]
  },
  {
   "cell_type": "code",
   "execution_count": 42,
   "metadata": {
    "ExecuteTime": {
     "end_time": "2019-10-15T15:10:31.951232Z",
     "start_time": "2019-10-15T15:10:31.926Z"
    }
   },
   "outputs": [],
   "source": [
    "pred.log.val=predict(log.lm,newdata=datVal,type=\"response\")\n",
    "pred.log.test2=predict(log.lm,newdata=daTest2,type=\"response\")"
   ]
  },
  {
   "cell_type": "markdown",
   "metadata": {},
   "source": [
    "$DI$ de la base d'apprentissage à retrouver après correction."
   ]
  },
  {
   "cell_type": "code",
   "execution_count": 43,
   "metadata": {
    "ExecuteTime": {
     "end_time": "2019-10-15T15:10:34.409480Z",
     "start_time": "2019-10-15T15:10:34.379Z"
    }
   },
   "outputs": [
    {
     "data": {
      "text/html": [
       "<ol class=list-inline>\n",
       "\t<li>0.344</li>\n",
       "\t<li>0.363</li>\n",
       "\t<li>0.383</li>\n",
       "</ol>\n"
      ],
      "text/latex": [
       "\\begin{enumerate*}\n",
       "\\item 0.344\n",
       "\\item 0.363\n",
       "\\item 0.383\n",
       "\\end{enumerate*}\n"
      ],
      "text/markdown": [
       "1. 0.344\n",
       "2. 0.363\n",
       "3. 0.383\n",
       "\n",
       "\n"
      ],
      "text/plain": [
       "[1] 0.344 0.363 0.383"
      ]
     },
     "metadata": {},
     "output_type": "display_data"
    }
   ],
   "source": [
    "round(dispImp(datApp[,\"sex\"],datApp[,\"income\"]),3)"
   ]
  },
  {
   "cell_type": "markdown",
   "metadata": {},
   "source": [
    "La modification du seuil est \"choisie\" sur l'échantillon `datVal`"
   ]
  },
  {
   "cell_type": "code",
   "execution_count": 44,
   "metadata": {
    "ExecuteTime": {
     "end_time": "2019-10-15T15:10:37.986431Z",
     "start_time": "2019-10-15T15:10:37.946Z"
    }
   },
   "outputs": [
    {
     "data": {
      "text/html": [
       "<ol class=list-inline>\n",
       "\t<li>0.299</li>\n",
       "\t<li>0.36</li>\n",
       "\t<li>0.421</li>\n",
       "</ol>\n"
      ],
      "text/latex": [
       "\\begin{enumerate*}\n",
       "\\item 0.299\n",
       "\\item 0.36\n",
       "\\item 0.421\n",
       "\\end{enumerate*}\n"
      ],
      "text/markdown": [
       "1. 0.299\n",
       "2. 0.36\n",
       "3. 0.421\n",
       "\n",
       "\n"
      ],
      "text/plain": [
       "[1] 0.299 0.360 0.421"
      ]
     },
     "metadata": {},
     "output_type": "display_data"
    },
    {
     "data": {
      "text/html": [
       "15.92"
      ],
      "text/latex": [
       "15.92"
      ],
      "text/markdown": [
       "15.92"
      ],
      "text/plain": [
       "[1] 15.92"
      ]
     },
     "metadata": {},
     "output_type": "display_data"
    }
   ],
   "source": [
    "Yhat_cs=as.factor(ifelse(datVal$sex==\"Female\",pred.log.val>0.37,pred.log.val>0.5))\n",
    "round(dispImp(datVal[,\"sex\"],Yhat_cs),3)\n",
    "tauxErr(table(Yhat_cs,datVal$income))"
   ]
  },
  {
   "cell_type": "markdown",
   "metadata": {},
   "source": [
    "Puis appliquée à l'échantillon test."
   ]
  },
  {
   "cell_type": "code",
   "execution_count": 45,
   "metadata": {
    "ExecuteTime": {
     "end_time": "2019-10-15T15:10:40.482663Z",
     "start_time": "2019-10-15T15:10:40.451Z"
    }
   },
   "outputs": [
    {
     "data": {
      "text/html": [
       "<ol class=list-inline>\n",
       "\t<li>0.309</li>\n",
       "\t<li>0.369</li>\n",
       "\t<li>0.429</li>\n",
       "</ol>\n"
      ],
      "text/latex": [
       "\\begin{enumerate*}\n",
       "\\item 0.309\n",
       "\\item 0.369\n",
       "\\item 0.429\n",
       "\\end{enumerate*}\n"
      ],
      "text/markdown": [
       "1. 0.309\n",
       "2. 0.369\n",
       "3. 0.429\n",
       "\n",
       "\n"
      ],
      "text/plain": [
       "[1] 0.309 0.369 0.429"
      ]
     },
     "metadata": {},
     "output_type": "display_data"
    },
    {
     "data": {
      "text/html": [
       "17.26"
      ],
      "text/latex": [
       "17.26"
      ],
      "text/markdown": [
       "17.26"
      ],
      "text/plain": [
       "[1] 17.26"
      ]
     },
     "metadata": {},
     "output_type": "display_data"
    }
   ],
   "source": [
    "Yhat_cs=as.factor(ifelse(daTest2$sex==\"Female\",pred.log.test2>0.37,pred.log.test2>0.5))\n",
    "round(dispImp(daTest2[,\"sex\"],Yhat_cs),3)\n",
    "tauxErr(table(Yhat_cs,daTest2$income))"
   ]
  },
  {
   "cell_type": "markdown",
   "metadata": {},
   "source": [
    "**Remarques**: \n",
    "- L'intervalle de confiance calculé sur l'autre échantillon test reste stable. En revanche, l'estimation du taux d'erreur est affecté d'une variance plus importante. Compte tenu de la taille de l'intervalle de confiance, cette approche très rudimentaire pourrait tout à fait être \"industrialisée\".\n",
    "- Cette approche utilisée par exemple dans les universités américaines pour mieux \"équilibrer\" les admissions des étudiants selon leur origine soulève des problèmes. Elle est attaquée en justice notamment pas les candidats d'origine asiatique qui se considèrent lésés. Pour certains auteurs il s'agit d'une approche *unfair by design*.  "
   ]
  },
  {
   "cell_type": "markdown",
   "metadata": {},
   "source": [
    "### Expliquer / éliminer la discrimination ?\n",
    "De façon notable, le modèle de régression logistique reproduit le biais social et le renforce en introduisant donc de la discrimination; c'est moins net pour l'algorithme des forêts aléatoires,  Est-il possible d'expliquer ce comportement ou plus précisément d'utiliser le bon modèle ou bon algorithme qui l'évite?\n",
    "\n",
    "Pour ce faire différents modèles vont être estimés selon le genre dans les quatre cas:\n",
    "- régression logistique, \n",
    "- régression logistique quadratique, \n",
    "- arbre binaire, \n",
    "- forêts aléatoires, \n",
    "\n",
    "afin d'évaluer comment évolue la discrimination. Deux modèles (arbre binaire et forêt aléatoire) sont également évalués en tenant compte de la sous-représentation des femmes, qui sont deux fois moins nombreuses dans la base de données,  par modification des pondérations des entrées de l'algorithme.\n",
    "\n",
    "#### Séparation des deux échantillons\n",
    "Les échantillons sont séparés en deux parties."
   ]
  },
  {
   "cell_type": "code",
   "execution_count": 46,
   "metadata": {
    "ExecuteTime": {
     "end_time": "2019-10-15T15:10:47.626850Z",
     "start_time": "2019-10-15T15:10:47.584Z"
    }
   },
   "outputs": [
    {
     "data": {
      "text/plain": [
       "      age           educNum               mariStat              occup      \n",
       " Min.   :18.00   Min.   : 1.00   Married      :15053   Admin       : 1448  \n",
       " 1st Qu.:30.00   1st Qu.: 9.00   Never-Married: 6286   Blue-Collar :10508  \n",
       " Median :38.00   Median :10.00   Not-Married  : 2684   Other-occups: 1366  \n",
       " Mean   :39.49   Mean   :10.16   Widowed      :  196   Professional: 3038  \n",
       " 3rd Qu.:48.00   3rd Qu.:13.00                         Sales       : 2768  \n",
       " Max.   :90.00   Max.   :16.00                         Service     : 1657  \n",
       "                                                       White-Collar: 3434  \n",
       "    origEthn         sex          hoursWeek      income       LcapitalGain    \n",
       " CaucNo : 2767   Female:    0   Min.   : 1.00   incB:16599   Min.   : 0.0000  \n",
       " CaucYes:21452   Male  :24219   1st Qu.:40.00   incH: 7620   1st Qu.: 0.0000  \n",
       "                                Median :40.00                Median : 0.0000  \n",
       "                                Mean   :43.06                Mean   : 0.8756  \n",
       "                                3rd Qu.:50.00                3rd Qu.: 0.0000  \n",
       "                                Max.   :99.00                Max.   :11.5129  \n",
       "                                                                              \n",
       "  LcapitalLoss         child      \n",
       " Min.   :0.0000   ChildNo :21431  \n",
       " 1st Qu.:0.0000   ChildYes: 2788  \n",
       " Median :0.0000                   \n",
       " Mean   :0.4026                   \n",
       " 3rd Qu.:0.0000                   \n",
       " Max.   :8.2351                   \n",
       "                                  "
      ]
     },
     "metadata": {},
     "output_type": "display_data"
    }
   ],
   "source": [
    "datAppF=datApp[datApp[,\"sex\"]=='Female',]\n",
    "datAppM=datApp[datApp[,\"sex\"]=='Male',]\n",
    "daTestF=daTest[daTest[,\"sex\"]=='Female',]\n",
    "daTestM=daTest[daTest[,\"sex\"]=='Male',,]\n",
    "summary(datAppM)"
   ]
  },
  {
   "cell_type": "markdown",
   "metadata": {},
   "source": [
    "#### Régression logistique"
   ]
  },
  {
   "cell_type": "code",
   "execution_count": 47,
   "metadata": {
    "ExecuteTime": {
     "end_time": "2019-10-15T15:10:58.068776Z",
     "start_time": "2019-10-15T15:10:57.543Z"
    }
   },
   "outputs": [
    {
     "data": {
      "text/plain": [
       "\n",
       "Call:\n",
       "glm(formula = income ~ ., family = binomial, data = datAppF[, \n",
       "    -6])\n",
       "\n",
       "Deviance Residuals: \n",
       "    Min       1Q   Median       3Q      Max  \n",
       "-2.7599  -0.3155  -0.1702  -0.0857   3.2486  \n",
       "\n",
       "Coefficients:\n",
       "                       Estimate Std. Error z value Pr(>|z|)    \n",
       "(Intercept)           -6.630302   0.329682 -20.111  < 2e-16 ***\n",
       "age                    0.028243   0.003632   7.776 7.51e-15 ***\n",
       "educNum                0.344333   0.022115  15.570  < 2e-16 ***\n",
       "mariStatNever-Married -3.234358   0.109992 -29.405  < 2e-16 ***\n",
       "mariStatNot-Married   -3.184526   0.104019 -30.615  < 2e-16 ***\n",
       "mariStatWidowed       -3.084459   0.186985 -16.496  < 2e-16 ***\n",
       "occupBlue-Collar      -0.271436   0.170624  -1.591   0.1116    \n",
       "occupOther-occups      0.460846   0.179814   2.563   0.0104 *  \n",
       "occupProfessional      0.506472   0.123034   4.117 3.85e-05 ***\n",
       "occupSales             0.046678   0.150410   0.310   0.7563    \n",
       "occupService          -0.837763   0.168564  -4.970 6.70e-07 ***\n",
       "occupWhite-Collar      0.782616   0.121641   6.434 1.24e-10 ***\n",
       "origEthnCaucYes        0.253472   0.109607   2.313   0.0207 *  \n",
       "hoursWeek              0.031452   0.003454   9.107  < 2e-16 ***\n",
       "LcapitalGain           0.246956   0.013255  18.631  < 2e-16 ***\n",
       "LcapitalLoss           0.150255   0.020517   7.323 2.42e-13 ***\n",
       "childChildYes         -0.866000   0.204983  -4.225 2.39e-05 ***\n",
       "---\n",
       "Signif. codes:  0 ‘***’ 0.001 ‘**’ 0.01 ‘*’ 0.05 ‘.’ 0.1 ‘ ’ 1\n",
       "\n",
       "(Dispersion parameter for binomial family taken to be 1)\n",
       "\n",
       "    Null deviance: 8214.2  on 11552  degrees of freedom\n",
       "Residual deviance: 4639.5  on 11536  degrees of freedom\n",
       "AIC: 4673.5\n",
       "\n",
       "Number of Fisher Scoring iterations: 7\n"
      ]
     },
     "metadata": {},
     "output_type": "display_data"
    },
    {
     "data": {
      "text/plain": [
       "\n",
       "Call:\n",
       "glm(formula = income ~ ., family = binomial, data = datAppM[, \n",
       "    -6])\n",
       "\n",
       "Deviance Residuals: \n",
       "    Min       1Q   Median       3Q      Max  \n",
       "-2.7789  -0.6783  -0.2519   0.6406   3.5811  \n",
       "\n",
       "Coefficients:\n",
       "                       Estimate Std. Error z value Pr(>|z|)    \n",
       "(Intercept)           -5.687860   0.168043 -33.848  < 2e-16 ***\n",
       "age                    0.023581   0.001582  14.902  < 2e-16 ***\n",
       "educNum                0.274213   0.008997  30.480  < 2e-16 ***\n",
       "mariStatNever-Married -2.206630   0.068750 -32.097  < 2e-16 ***\n",
       "mariStatNot-Married   -1.618886   0.065785 -24.609  < 2e-16 ***\n",
       "mariStatWidowed       -1.405521   0.213035  -6.598 4.18e-11 ***\n",
       "occupBlue-Collar      -0.374446   0.078316  -4.781 1.74e-06 ***\n",
       "occupOther-occups      0.346870   0.097294   3.565 0.000364 ***\n",
       "occupProfessional      0.345929   0.087351   3.960 7.49e-05 ***\n",
       "occupSales             0.124214   0.086388   1.438 0.150472    \n",
       "occupService          -1.123745   0.132553  -8.478  < 2e-16 ***\n",
       "occupWhite-Collar      0.604677   0.083371   7.253 4.08e-13 ***\n",
       "origEthnCaucYes        0.158315   0.061333   2.581 0.009845 ** \n",
       "hoursWeek              0.027332   0.001588  17.215  < 2e-16 ***\n",
       "LcapitalGain           0.195010   0.006660  29.279  < 2e-16 ***\n",
       "LcapitalLoss           0.146997   0.009583  15.339  < 2e-16 ***\n",
       "childChildYes         -1.014060   0.151342  -6.700 2.08e-11 ***\n",
       "---\n",
       "Signif. codes:  0 ‘***’ 0.001 ‘**’ 0.01 ‘*’ 0.05 ‘.’ 0.1 ‘ ’ 1\n",
       "\n",
       "(Dispersion parameter for binomial family taken to be 1)\n",
       "\n",
       "    Null deviance: 30165  on 24218  degrees of freedom\n",
       "Residual deviance: 20036  on 24202  degrees of freedom\n",
       "AIC: 20070\n",
       "\n",
       "Number of Fisher Scoring iterations: 6\n"
      ]
     },
     "metadata": {},
     "output_type": "display_data"
    }
   ],
   "source": [
    "# Modèle linéaire\n",
    "reg.log=glm(income~.,data=datApp,family=binomial)\n",
    "# estimation des deux modèles\n",
    "reg.logF=glm(income~.,data=datAppF[,-6],family=binomial)\n",
    "reg.logM=glm(income~.,data=datAppM[,-6],family=binomial)\n",
    "# comparaison des paramètres\n",
    "summary(reg.logF);summary(reg.logM)"
   ]
  },
  {
   "cell_type": "code",
   "execution_count": 48,
   "metadata": {
    "ExecuteTime": {
     "end_time": "2019-10-15T15:11:08.013867Z",
     "start_time": "2019-10-15T15:11:07.975Z"
    }
   },
   "outputs": [
    {
     "data": {
      "text/plain": [
       "\n",
       "Call:\n",
       "glm(formula = income ~ ., family = binomial, data = datApp)\n",
       "\n",
       "Deviance Residuals: \n",
       "    Min       1Q   Median       3Q      Max  \n",
       "-2.8361  -0.5640  -0.2250  -0.0251   3.5922  \n",
       "\n",
       "Coefficients:\n",
       "                       Estimate Std. Error z value Pr(>|z|)    \n",
       "(Intercept)           -5.945211   0.144327 -41.193  < 2e-16 ***\n",
       "age                    0.023179   0.001442  16.071  < 2e-16 ***\n",
       "educNum                0.285120   0.008336  34.205  < 2e-16 ***\n",
       "mariStatNever-Married -2.432828   0.057391 -42.390  < 2e-16 ***\n",
       "mariStatNot-Married   -2.115795   0.055039 -38.442  < 2e-16 ***\n",
       "mariStatWidowed       -2.163944   0.130148 -16.627  < 2e-16 ***\n",
       "occupBlue-Collar      -0.341925   0.063323  -5.400 6.67e-08 ***\n",
       "occupOther-occups      0.382624   0.081347   4.704 2.56e-06 ***\n",
       "occupProfessional      0.406026   0.068205   5.953 2.63e-09 ***\n",
       "occupSales             0.126279   0.070264   1.797 0.072301 .  \n",
       "occupService          -0.991774   0.102333  -9.692  < 2e-16 ***\n",
       "occupWhite-Collar      0.655764   0.065707   9.980  < 2e-16 ***\n",
       "origEthnCaucYes        0.174274   0.052916   3.293 0.000990 ***\n",
       "sexMale                0.159121   0.046909   3.392 0.000693 ***\n",
       "hoursWeek              0.027185   0.001437  18.919  < 2e-16 ***\n",
       "LcapitalGain           0.207850   0.005977  34.773  < 2e-16 ***\n",
       "LcapitalLoss           0.149187   0.008657  17.234  < 2e-16 ***\n",
       "childChildYes         -0.935815   0.120346  -7.776 7.48e-15 ***\n",
       "---\n",
       "Signif. codes:  0 ‘***’ 0.001 ‘**’ 0.01 ‘*’ 0.05 ‘.’ 0.1 ‘ ’ 1\n",
       "\n",
       "(Dispersion parameter for binomial family taken to be 1)\n",
       "\n",
       "    Null deviance: 40227  on 35771  degrees of freedom\n",
       "Residual deviance: 24894  on 35754  degrees of freedom\n",
       "AIC: 24930\n",
       "\n",
       "Number of Fisher Scoring iterations: 7\n"
      ]
     },
     "metadata": {},
     "output_type": "display_data"
    }
   ],
   "source": [
    "summary(reg.log)"
   ]
  },
  {
   "cell_type": "code",
   "execution_count": 49,
   "metadata": {
    "ExecuteTime": {
     "end_time": "2019-10-15T15:11:11.800211Z",
     "start_time": "2019-10-15T15:11:11.750Z"
    }
   },
   "outputs": [],
   "source": [
    "# prévision des modèles\n",
    "yHat=predict(reg.log,newdata=daTest,type=\"response\")\n",
    "yHatF=predict(reg.logF,newdata=daTestF,type=\"response\")\n",
    "yHatM=predict(reg.logM,newdata=daTestM,type=\"response\")\n",
    "# compilation des prévisions\n",
    "yHatFM=c(yHatF,yHatM)"
   ]
  },
  {
   "cell_type": "code",
   "execution_count": 50,
   "metadata": {
    "ExecuteTime": {
     "end_time": "2019-10-15T15:11:14.960285Z",
     "start_time": "2019-10-15T15:11:14.886Z"
    }
   },
   "outputs": [
    {
     "data": {
      "text/html": [
       "<ol class=list-inline>\n",
       "\t<li>8943</li>\n",
       "\t<li>11</li>\n",
       "</ol>\n"
      ],
      "text/latex": [
       "\\begin{enumerate*}\n",
       "\\item 8943\n",
       "\\item 11\n",
       "\\end{enumerate*}\n"
      ],
      "text/markdown": [
       "1. 8943\n",
       "2. 11\n",
       "\n",
       "\n"
      ],
      "text/plain": [
       "[1] 8943   11"
      ]
     },
     "metadata": {},
     "output_type": "display_data"
    }
   ],
   "source": [
    "daTestFM=rbind(daTestF,daTestM)\n",
    "dim(daTestFM)"
   ]
  },
  {
   "cell_type": "code",
   "execution_count": 51,
   "metadata": {
    "ExecuteTime": {
     "end_time": "2019-10-15T15:11:17.784324Z",
     "start_time": "2019-10-15T15:11:17.762Z"
    }
   },
   "outputs": [
    {
     "data": {
      "text/plain": [
       "       \n",
       "        incB incH\n",
       "  FALSE 6150  935\n",
       "  TRUE   530 1328"
      ]
     },
     "metadata": {},
     "output_type": "display_data"
    }
   ],
   "source": [
    "# erreurs cumulées\n",
    "table(yHatFM>0.5,daTestFM$income)"
   ]
  },
  {
   "cell_type": "code",
   "execution_count": 52,
   "metadata": {
    "ExecuteTime": {
     "end_time": "2019-10-15T15:11:20.337391Z",
     "start_time": "2019-10-15T15:11:20.301Z"
    }
   },
   "outputs": [
    {
     "data": {
      "text/plain": [
       "       \n",
       "        incB incH\n",
       "  FALSE 6154  950\n",
       "  TRUE   526 1313"
      ]
     },
     "metadata": {},
     "output_type": "display_data"
    }
   ],
   "source": [
    "table(yHat>0.5,daTest$income)"
   ]
  },
  {
   "cell_type": "code",
   "execution_count": 53,
   "metadata": {
    "ExecuteTime": {
     "end_time": "2019-10-15T15:11:23.030666Z",
     "start_time": "2019-10-15T15:11:23.014Z"
    }
   },
   "outputs": [
    {
     "data": {
      "text/html": [
       "16.38"
      ],
      "text/latex": [
       "16.38"
      ],
      "text/markdown": [
       "16.38"
      ],
      "text/plain": [
       "[1] 16.38"
      ]
     },
     "metadata": {},
     "output_type": "display_data"
    }
   ],
   "source": [
    "tauxErr(table(yHatFM>0.5,daTestFM$income))"
   ]
  },
  {
   "cell_type": "code",
   "execution_count": 54,
   "metadata": {
    "ExecuteTime": {
     "end_time": "2019-10-15T15:11:24.808707Z",
     "start_time": "2019-10-15T15:11:24.783Z"
    }
   },
   "outputs": [
    {
     "data": {
      "text/html": [
       "16.5"
      ],
      "text/latex": [
       "16.5"
      ],
      "text/markdown": [
       "16.5"
      ],
      "text/plain": [
       "[1] 16.5"
      ]
     },
     "metadata": {},
     "output_type": "display_data"
    }
   ],
   "source": [
    "tauxErr(table(yHat>0.5,daTest$income))"
   ]
  },
  {
   "cell_type": "markdown",
   "metadata": {},
   "source": [
    "On retrouve le taux d'erreur précédent pour la régression logistique, c'est le même modèle, tandis que l'association des deux modèles conduit à une erreur plus faible en intégrant l'interaction du sexe avec les autres variables."
   ]
  },
  {
   "cell_type": "code",
   "execution_count": 55,
   "metadata": {
    "ExecuteTime": {
     "end_time": "2019-10-15T15:11:54.121335Z",
     "start_time": "2019-10-15T15:11:54.096Z"
    }
   },
   "outputs": [
    {
     "data": {
      "text/html": [
       "<ol class=list-inline>\n",
       "\t<li>0.284</li>\n",
       "\t<li>0.324</li>\n",
       "\t<li>0.365</li>\n",
       "</ol>\n"
      ],
      "text/latex": [
       "\\begin{enumerate*}\n",
       "\\item 0.284\n",
       "\\item 0.324\n",
       "\\item 0.365\n",
       "\\end{enumerate*}\n"
      ],
      "text/markdown": [
       "1. 0.284\n",
       "2. 0.324\n",
       "3. 0.365\n",
       "\n",
       "\n"
      ],
      "text/plain": [
       "[1] 0.284 0.324 0.365"
      ]
     },
     "metadata": {},
     "output_type": "display_data"
    },
    {
     "data": {
      "text/html": [
       "<ol class=list-inline>\n",
       "\t<li>0.212</li>\n",
       "\t<li>0.248</li>\n",
       "\t<li>0.283</li>\n",
       "</ol>\n"
      ],
      "text/latex": [
       "\\begin{enumerate*}\n",
       "\\item 0.212\n",
       "\\item 0.248\n",
       "\\item 0.283\n",
       "\\end{enumerate*}\n"
      ],
      "text/markdown": [
       "1. 0.212\n",
       "2. 0.248\n",
       "3. 0.283\n",
       "\n",
       "\n"
      ],
      "text/plain": [
       "[1] 0.212 0.248 0.283"
      ]
     },
     "metadata": {},
     "output_type": "display_data"
    }
   ],
   "source": [
    "# biais cumulés vs. biais \n",
    "round(dispImp(daTestFM[,\"sex\"],as.factor(yHatFM>0.5)),3); round(dispImp(daTest[,\"sex\"],as.factor(yHat>0.5)),3)"
   ]
  },
  {
   "cell_type": "code",
   "execution_count": 56,
   "metadata": {
    "ExecuteTime": {
     "end_time": "2019-10-15T15:11:56.649244Z",
     "start_time": "2019-10-15T15:11:56.630Z"
    }
   },
   "outputs": [
    {
     "data": {
      "text/html": [
       "<ol class=list-inline>\n",
       "\t<li>0.339</li>\n",
       "\t<li>0.379</li>\n",
       "\t<li>0.419</li>\n",
       "</ol>\n"
      ],
      "text/latex": [
       "\\begin{enumerate*}\n",
       "\\item 0.339\n",
       "\\item 0.379\n",
       "\\item 0.419\n",
       "\\end{enumerate*}\n"
      ],
      "text/markdown": [
       "1. 0.339\n",
       "2. 0.379\n",
       "3. 0.419\n",
       "\n",
       "\n"
      ],
      "text/plain": [
       "[1] 0.339 0.379 0.419"
      ]
     },
     "metadata": {},
     "output_type": "display_data"
    }
   ],
   "source": [
    "# Rappel: Biais de la base de test\n",
    "round(dispImp(daTestFM[,\"sex\"],daTestFM[,\"income\"]),3)"
   ]
  },
  {
   "cell_type": "markdown",
   "metadata": {},
   "source": [
    "Le biais est significativement plus faible pour l'association des deux modèles qui prend en compte les interactions du sexe avec les autres variables mais reste plus important que celui initial de la base.\n",
    "\n",
    "#### Régression logistique quadratique\n",
    "Exécution un peu longue de la sélection de variables pas-à-pas."
   ]
  },
  {
   "cell_type": "code",
   "execution_count": 57,
   "metadata": {},
   "outputs": [
    {
     "name": "stdout",
     "output_type": "stream",
     "text": [
      "Start:  AIC=40229.31\n",
      "income ~ 1\n",
      "\n",
      "               Df Deviance   AIC\n",
      "+ mariStat      3    32419 32427\n",
      "+ educNum       1    36005 36009\n",
      "+ occup         6    36186 36200\n",
      "+ LcapitalGain  1    37727 37731\n",
      "+ child         1    37819 37823\n",
      "+ age           1    38362 38366\n",
      "+ sex           1    38379 38383\n",
      "+ hoursWeek     1    38430 38434\n",
      "+ LcapitalLoss  1    39644 39648\n",
      "+ origEthn      1    39934 39938\n",
      "<none>               40227 40229\n",
      "\n",
      "Step:  AIC=32426.75\n",
      "income ~ mariStat\n",
      "\n",
      "               Df Deviance   AIC\n",
      "+ educNum       1    28248 28258\n",
      "+ occup         6    28993 29013\n",
      "+ LcapitalGain  1    30547 30557\n",
      "+ hoursWeek     1    31664 31674\n",
      "+ age           1    32003 32013\n",
      "+ LcapitalLoss  1    32037 32047\n",
      "+ child         1    32100 32110\n",
      "+ origEthn      1    32341 32351\n",
      "+ sex           1    32370 32380\n",
      "<none>               32419 32427\n",
      "- mariStat      3    40227 40229\n",
      "\n",
      "Step:  AIC=28257.66\n",
      "income ~ mariStat + educNum\n",
      "\n",
      "                   Df Deviance   AIC\n",
      "+ LcapitalGain      1    26791 26803\n",
      "+ occup             6    27378 27400\n",
      "+ hoursWeek         1    27750 27762\n",
      "+ age               1    27815 27827\n",
      "+ LcapitalLoss      1    28006 28018\n",
      "+ child             1    28056 28068\n",
      "+ sex               1    28178 28190\n",
      "+ educNum:mariStat  3    28180 28196\n",
      "+ origEthn          1    28202 28214\n",
      "<none>                   28248 28258\n",
      "- educNum           1    32419 32427\n",
      "- mariStat          3    36005 36009\n",
      "\n",
      "Step:  AIC=26802.61\n",
      "income ~ mariStat + educNum + LcapitalGain\n",
      "\n",
      "                        Df Deviance   AIC\n",
      "+ occup                  6    26001 26025\n",
      "+ hoursWeek              1    26342 26356\n",
      "+ LcapitalLoss           1    26424 26438\n",
      "+ age                    1    26459 26473\n",
      "+ child                  1    26623 26637\n",
      "+ mariStat:LcapitalGain  3    26687 26705\n",
      "+ sex                    1    26736 26750\n",
      "+ educNum:mariStat       3    26745 26763\n",
      "+ origEthn               1    26749 26763\n",
      "<none>                        26791 26803\n",
      "+ educNum:LcapitalGain   1    26789 26803\n",
      "- LcapitalGain           1    28248 28258\n",
      "- educNum                1    30547 30557\n",
      "- mariStat               3    34047 34053\n",
      "\n",
      "Step:  AIC=26024.68\n",
      "income ~ mariStat + educNum + LcapitalGain + occup\n",
      "\n",
      "                        Df Deviance   AIC\n",
      "+ hoursWeek              1    25628 25654\n",
      "+ LcapitalLoss           1    25668 25694\n",
      "+ age                    1    25731 25757\n",
      "+ child                  1    25853 25879\n",
      "+ mariStat:LcapitalGain  3    25910 25940\n",
      "+ sex                    1    25943 25969\n",
      "+ mariStat:occup        18    25914 25974\n",
      "+ educNum:mariStat       3    25966 25996\n",
      "+ educNum:occup          6    25960 25996\n",
      "+ origEthn               1    25978 26004\n",
      "+ educNum:LcapitalGain   1    25999 26025\n",
      "<none>                        26001 26025\n",
      "+ occup:LcapitalGain     6    25996 26032\n",
      "- occup                  6    26791 26803\n",
      "- LcapitalGain           1    27378 27400\n",
      "- educNum                1    27476 27498\n",
      "- mariStat               3    32687 32705\n",
      "\n",
      "Step:  AIC=25653.54\n",
      "income ~ mariStat + educNum + LcapitalGain + occup + hoursWeek\n",
      "\n",
      "                         Df Deviance   AIC\n",
      "+ age                     1    25297 25325\n",
      "+ LcapitalLoss            1    25303 25331\n",
      "+ child                   1    25510 25538\n",
      "+ mariStat:hoursWeek      3    25525 25557\n",
      "+ mariStat:LcapitalGain   3    25546 25578\n",
      "+ mariStat:occup         18    25541 25603\n",
      "+ educNum:occup           6    25590 25628\n",
      "+ sex                     1    25603 25631\n",
      "+ educNum:mariStat        3    25604 25636\n",
      "+ origEthn                1    25610 25638\n",
      "+ occup:hoursWeek         6    25607 25645\n",
      "<none>                         25628 25654\n",
      "+ educNum:LcapitalGain    1    25626 25654\n",
      "+ hoursWeek:LcapitalGain  1    25626 25654\n",
      "+ educNum:hoursWeek       1    25627 25655\n",
      "+ occup:LcapitalGain      6    25624 25662\n",
      "- hoursWeek               1    26001 26025\n",
      "- occup                   6    26342 26356\n",
      "- LcapitalGain            1    26968 26992\n",
      "- educNum                 1    26988 27012\n",
      "- mariStat                3    31861 31881\n",
      "\n",
      "Step:  AIC=25325.03\n",
      "income ~ mariStat + educNum + LcapitalGain + occup + hoursWeek + \n",
      "    age\n",
      "\n",
      "                         Df Deviance   AIC\n",
      "+ LcapitalLoss            1    24992 25022\n",
      "+ child                   1    25220 25250\n",
      "+ mariStat:hoursWeek      3    25218 25252\n",
      "+ mariStat:LcapitalGain   3    25218 25252\n",
      "+ age:mariStat            3    25222 25256\n",
      "+ mariStat:occup         18    25208 25272\n",
      "+ educNum:occup           6    25260 25300\n",
      "+ age:hoursWeek           1    25281 25311\n",
      "+ occup:hoursWeek         6    25273 25313\n",
      "+ origEthn                1    25284 25314\n",
      "+ sex                     1    25284 25314\n",
      "+ age:LcapitalGain        1    25287 25317\n",
      "+ educNum:mariStat        3    25286 25320\n",
      "+ age:educNum             1    25294 25324\n",
      "<none>                         25297 25325\n",
      "+ hoursWeek:LcapitalGain  1    25295 25325\n",
      "+ educNum:LcapitalGain    1    25296 25326\n",
      "+ educNum:hoursWeek       1    25297 25327\n",
      "+ age:occup               6    25288 25328\n",
      "+ occup:LcapitalGain      6    25293 25333\n",
      "- age                     1    25628 25654\n",
      "- hoursWeek               1    25731 25757\n",
      "- occup                   6    25942 25958\n",
      "- LcapitalGain            1    26542 26568\n",
      "- educNum                 1    26714 26740\n",
      "- mariStat                3    30479 30501\n",
      "\n",
      "Step:  AIC=25021.54\n",
      "income ~ mariStat + educNum + LcapitalGain + occup + hoursWeek + \n",
      "    age + LcapitalLoss\n",
      "\n",
      "                         Df Deviance   AIC\n",
      "+ mariStat:LcapitalGain   3    24912 24948\n",
      "+ mariStat:hoursWeek      3    24913 24949\n",
      "+ child                   1    24918 24950\n",
      "+ age:mariStat            3    24920 24956\n",
      "+ mariStat:occup         18    24903 24969\n",
      "+ educNum:occup           6    24957 24999\n",
      "+ occup:hoursWeek         6    24967 25009\n",
      "+ age:hoursWeek           1    24977 25009\n",
      "+ origEthn                1    24979 25011\n",
      "+ sex                     1    24980 25012\n",
      "+ age:LcapitalGain        1    24982 25014\n",
      "+ educNum:mariStat        3    24982 25018\n",
      "+ age:LcapitalLoss        1    24986 25018\n",
      "+ age:educNum             1    24988 25020\n",
      "<none>                         24992 25022\n",
      "+ educNum:LcapitalGain    1    24990 25022\n",
      "+ hoursWeek:LcapitalGain  1    24990 25022\n",
      "+ mariStat:LcapitalLoss   3    24986 25022\n",
      "+ occup:LcapitalLoss      6    24981 25023\n",
      "+ educNum:hoursWeek       1    24991 25023\n",
      "+ educNum:LcapitalLoss    1    24991 25023\n",
      "+ age:occup               6    24981 25023\n",
      "+ hoursWeek:LcapitalLoss  1    24992 25024\n",
      "+ occup:LcapitalGain      6    24987 25029\n",
      "- LcapitalLoss            1    25297 25325\n",
      "- age                     1    25303 25331\n",
      "- hoursWeek               1    25415 25443\n",
      "- occup                   6    25611 25629\n",
      "- LcapitalGain            1    26344 26372\n",
      "- educNum                 1    26347 26375\n",
      "- mariStat                3    30079 30103\n",
      "\n",
      "Step:  AIC=24948.03\n",
      "income ~ mariStat + educNum + LcapitalGain + occup + hoursWeek + \n",
      "    age + LcapitalLoss + mariStat:LcapitalGain\n",
      "\n",
      "                         Df Deviance   AIC\n",
      "+ mariStat:hoursWeek      3    24830 24872\n",
      "+ child                   1    24842 24880\n",
      "+ age:mariStat            3    24843 24885\n",
      "+ mariStat:occup         18    24821 24893\n",
      "+ educNum:occup           6    24877 24925\n",
      "+ age:hoursWeek           1    24897 24935\n",
      "+ occup:hoursWeek         6    24888 24936\n",
      "+ origEthn                1    24899 24937\n",
      "+ sex                     1    24902 24940\n",
      "+ educNum:mariStat        3    24900 24942\n",
      "+ age:LcapitalLoss        1    24906 24944\n",
      "+ age:educNum             1    24909 24947\n",
      "+ age:LcapitalGain        1    24910 24948\n",
      "+ educNum:LcapitalGain    1    24910 24948\n",
      "<none>                         24912 24948\n",
      "+ occup:LcapitalLoss      6    24900 24948\n",
      "+ educNum:LcapitalLoss    1    24911 24949\n",
      "+ hoursWeek:LcapitalGain  1    24911 24949\n",
      "+ educNum:hoursWeek       1    24912 24950\n",
      "+ age:occup               6    24902 24950\n",
      "+ hoursWeek:LcapitalLoss  1    24912 24950\n",
      "+ mariStat:LcapitalLoss   3    24909 24951\n",
      "+ occup:LcapitalGain      6    24903 24951\n",
      "- mariStat:LcapitalGain   3    24992 25022\n",
      "- LcapitalLoss            1    25218 25252\n",
      "- age                     1    25221 25255\n",
      "- hoursWeek               1    25327 25361\n",
      "- occup                   6    25523 25547\n",
      "- educNum                 1    26255 26289\n",
      "\n",
      "Step:  AIC=24871.88\n",
      "income ~ mariStat + educNum + LcapitalGain + occup + hoursWeek + \n",
      "    age + LcapitalLoss + mariStat:LcapitalGain + mariStat:hoursWeek\n",
      "\n",
      "                         Df Deviance   AIC\n",
      "+ age:mariStat            3    24763 24811\n",
      "+ child                   1    24767 24811\n",
      "+ mariStat:occup         18    24755 24833\n",
      "+ age:hoursWeek           1    24806 24850\n",
      "+ educNum:occup           6    24796 24850\n",
      "+ origEthn                1    24816 24860\n",
      "+ occup:hoursWeek         6    24809 24863\n",
      "+ sex                     1    24820 24864\n",
      "+ educNum:mariStat        3    24820 24868\n",
      "+ age:LcapitalLoss        1    24825 24869\n",
      "+ age:educNum             1    24827 24871\n",
      "+ occup:LcapitalLoss      6    24818 24872\n",
      "<none>                         24830 24872\n",
      "+ educNum:LcapitalGain    1    24828 24872\n",
      "+ age:LcapitalGain        1    24828 24872\n",
      "+ educNum:hoursWeek       1    24828 24872\n",
      "+ educNum:LcapitalLoss    1    24829 24873\n",
      "+ age:occup               6    24819 24873\n",
      "+ hoursWeek:LcapitalLoss  1    24830 24874\n",
      "+ hoursWeek:LcapitalGain  1    24830 24874\n",
      "+ mariStat:LcapitalLoss   3    24826 24874\n",
      "+ occup:LcapitalGain      6    24822 24876\n",
      "- mariStat:hoursWeek      3    24912 24948\n",
      "- mariStat:LcapitalGain   3    24913 24949\n",
      "- age                     1    25117 25157\n",
      "- LcapitalLoss            1    25136 25176\n",
      "- occup                   6    25444 25474\n",
      "- educNum                 1    26158 26198\n",
      "\n",
      "Step:  AIC=24811.29\n",
      "income ~ mariStat + educNum + LcapitalGain + occup + hoursWeek + \n",
      "    age + LcapitalLoss + mariStat:LcapitalGain + mariStat:hoursWeek + \n",
      "    mariStat:age\n",
      "\n",
      "                         Df Deviance   AIC\n",
      "+ child                   1    24718 24768\n",
      "+ mariStat:occup         18    24688 24772\n",
      "+ educNum:occup           6    24730 24790\n",
      "+ age:hoursWeek           1    24743 24793\n",
      "+ origEthn                1    24749 24799\n",
      "+ sex                     1    24752 24802\n",
      "+ occup:hoursWeek         6    24744 24804\n",
      "+ age:occup               6    24744 24804\n",
      "+ age:educNum             1    24755 24805\n",
      "+ age:LcapitalLoss        1    24758 24808\n",
      "+ age:LcapitalGain        1    24759 24809\n",
      "+ educNum:mariStat        3    24757 24811\n",
      "+ occup:LcapitalLoss      6    24751 24811\n",
      "<none>                         24763 24811\n",
      "+ educNum:LcapitalGain    1    24762 24812\n",
      "+ educNum:hoursWeek       1    24762 24812\n",
      "+ educNum:LcapitalLoss    1    24762 24812\n",
      "+ hoursWeek:LcapitalGain  1    24763 24813\n",
      "+ hoursWeek:LcapitalLoss  1    24763 24813\n",
      "+ mariStat:LcapitalLoss   3    24760 24814\n",
      "+ occup:LcapitalGain      6    24757 24817\n",
      "- mariStat:age            3    24830 24872\n",
      "- mariStat:LcapitalGain   3    24842 24884\n",
      "- mariStat:hoursWeek      3    24843 24885\n",
      "- LcapitalLoss            1    25066 25112\n",
      "- occup                   6    25384 25420\n",
      "- educNum                 1    26062 26108\n",
      "\n",
      "Step:  AIC=24767.92\n",
      "income ~ mariStat + educNum + LcapitalGain + occup + hoursWeek + \n",
      "    age + LcapitalLoss + child + mariStat:LcapitalGain + mariStat:hoursWeek + \n",
      "    mariStat:age\n",
      "\n",
      "                         Df Deviance   AIC\n",
      "+ mariStat:occup         18    24646 24732\n",
      "+ educNum:occup           6    24686 24748\n",
      "+ age:hoursWeek           1    24696 24748\n",
      "+ origEthn                1    24705 24757\n",
      "+ sex                     1    24706 24758\n",
      "+ occup:hoursWeek         6    24699 24761\n",
      "+ age:occup               6    24700 24762\n",
      "+ age:educNum             1    24711 24763\n",
      "+ age:child               1    24712 24764\n",
      "+ age:LcapitalLoss        1    24713 24765\n",
      "+ age:LcapitalGain        1    24714 24766\n",
      "+ child:LcapitalGain      1    24715 24767\n",
      "+ occup:LcapitalLoss      6    24706 24768\n",
      "<none>                         24718 24768\n",
      "+ educNum:LcapitalGain    1    24716 24768\n",
      "+ child:LcapitalLoss      1    24717 24769\n",
      "+ educNum:hoursWeek       1    24717 24769\n",
      "+ educNum:LcapitalLoss    1    24717 24769\n",
      "+ hoursWeek:child         1    24717 24769\n",
      "+ educNum:mariStat        3    24714 24770\n",
      "+ educNum:child           1    24718 24770\n",
      "+ hoursWeek:LcapitalGain  1    24718 24770\n",
      "+ hoursWeek:LcapitalLoss  1    24718 24770\n",
      "+ occup:child             6    24709 24771\n",
      "+ mariStat:LcapitalLoss   3    24715 24771\n",
      "+ occup:LcapitalGain      6    24711 24773\n",
      "+ mariStat:child          3    24718 24774\n",
      "- child                   1    24763 24811\n",
      "- mariStat:age            3    24767 24811\n",
      "- mariStat:hoursWeek      3    24792 24836\n",
      "- mariStat:LcapitalGain   3    24794 24838\n",
      "- LcapitalLoss            1    25019 25067\n",
      "- occup                   6    25331 25369\n",
      "- educNum                 1    26003 26051\n",
      "\n",
      "Step:  AIC=24731.73\n",
      "income ~ mariStat + educNum + LcapitalGain + occup + hoursWeek + \n",
      "    age + LcapitalLoss + child + mariStat:LcapitalGain + mariStat:hoursWeek + \n",
      "    mariStat:age + mariStat:occup\n",
      "\n",
      "                         Df Deviance   AIC\n",
      "+ age:hoursWeek           1    24624 24712\n",
      "+ educNum:occup           6    24615 24713\n",
      "+ origEthn                1    24633 24721\n",
      "+ occup:hoursWeek         6    24625 24723\n",
      "+ sex                     1    24636 24724\n",
      "+ age:occup               6    24626 24724\n",
      "+ age:educNum             1    24639 24727\n",
      "+ age:child               1    24640 24728\n",
      "+ age:LcapitalLoss        1    24641 24729\n",
      "+ age:LcapitalGain        1    24643 24731\n",
      "+ child:LcapitalGain      1    24643 24731\n",
      "+ occup:LcapitalLoss      6    24633 24731\n",
      "<none>                         24646 24732\n",
      "+ educNum:LcapitalGain    1    24644 24732\n",
      "+ child:LcapitalLoss      1    24644 24732\n",
      "+ educNum:hoursWeek       1    24645 24733\n",
      "+ educNum:LcapitalLoss    1    24645 24733\n",
      "+ educNum:child           1    24645 24733\n",
      "+ hoursWeek:child         1    24645 24733\n",
      "+ hoursWeek:LcapitalLoss  1    24646 24734\n",
      "+ hoursWeek:LcapitalGain  1    24646 24734\n",
      "+ occup:child             6    24636 24734\n",
      "+ mariStat:LcapitalLoss   3    24642 24734\n",
      "+ educNum:mariStat        3    24643 24735\n",
      "+ mariStat:child          3    24646 24738\n",
      "+ occup:LcapitalGain      6    24640 24738\n",
      "- mariStat:occup         18    24718 24768\n",
      "- child                   1    24688 24772\n",
      "- mariStat:age            3    24696 24776\n",
      "- mariStat:hoursWeek      3    24706 24786\n",
      "- mariStat:LcapitalGain   3    24724 24804\n",
      "- LcapitalLoss            1    24945 25029\n",
      "- educNum                 1    25924 26008\n",
      "\n",
      "Step:  AIC=24712.16\n",
      "income ~ mariStat + educNum + LcapitalGain + occup + hoursWeek + \n",
      "    age + LcapitalLoss + child + mariStat:LcapitalGain + mariStat:hoursWeek + \n",
      "    mariStat:age + mariStat:occup + hoursWeek:age\n",
      "\n",
      "                         Df Deviance   AIC\n",
      "+ educNum:occup           6    24594 24694\n",
      "+ origEthn                1    24610 24700\n",
      "+ sex                     1    24612 24702\n",
      "+ occup:hoursWeek         6    24605 24705\n",
      "+ age:occup               6    24606 24706\n",
      "+ age:educNum             1    24618 24708\n",
      "+ age:child               1    24618 24708\n",
      "+ age:LcapitalLoss        1    24619 24709\n",
      "+ child:LcapitalGain      1    24621 24711\n",
      "+ age:LcapitalGain        1    24621 24711\n",
      "+ occup:LcapitalLoss      6    24612 24712\n",
      "<none>                         24624 24712\n",
      "+ educNum:LcapitalGain    1    24623 24713\n",
      "+ child:LcapitalLoss      1    24623 24713\n",
      "+ educNum:LcapitalLoss    1    24623 24713\n",
      "+ educNum:child           1    24624 24714\n",
      "+ educNum:hoursWeek       1    24624 24714\n",
      "+ hoursWeek:LcapitalLoss  1    24624 24714\n",
      "+ hoursWeek:child         1    24624 24714\n",
      "+ hoursWeek:LcapitalGain  1    24624 24714\n",
      "+ occup:child             6    24615 24715\n",
      "+ mariStat:LcapitalLoss   3    24621 24715\n",
      "+ educNum:mariStat        3    24621 24715\n",
      "+ mariStat:child          3    24624 24718\n",
      "+ occup:LcapitalGain      6    24619 24719\n",
      "- hoursWeek:age           1    24646 24732\n",
      "- mariStat:occup         18    24696 24748\n",
      "- mariStat:age            3    24671 24753\n",
      "- child                   1    24668 24754\n",
      "- mariStat:hoursWeek      3    24688 24770\n",
      "- mariStat:LcapitalGain   3    24703 24785\n",
      "- LcapitalLoss            1    24921 25007\n",
      "- educNum                 1    25904 25990\n",
      "\n",
      "Step:  AIC=24693.76\n",
      "income ~ mariStat + educNum + LcapitalGain + occup + hoursWeek + \n",
      "    age + LcapitalLoss + child + mariStat:LcapitalGain + mariStat:hoursWeek + \n",
      "    mariStat:age + mariStat:occup + hoursWeek:age + educNum:occup\n",
      "\n",
      "                         Df Deviance   AIC\n",
      "+ origEthn                1    24580 24682\n",
      "+ sex                     1    24582 24684\n",
      "+ occup:hoursWeek         6    24575 24687\n",
      "+ age:child               1    24588 24690\n",
      "+ age:educNum             1    24588 24690\n",
      "+ age:occup               6    24578 24690\n",
      "+ age:LcapitalLoss        1    24589 24691\n",
      "+ child:LcapitalGain      1    24591 24693\n",
      "+ age:LcapitalGain        1    24591 24693\n",
      "+ occup:LcapitalLoss      6    24581 24693\n",
      "<none>                         24594 24694\n",
      "+ educNum:LcapitalGain    1    24592 24694\n",
      "+ child:LcapitalLoss      1    24593 24695\n",
      "+ educNum:child           1    24593 24695\n",
      "+ educNum:LcapitalLoss    1    24593 24695\n",
      "+ educNum:hoursWeek       1    24593 24695\n",
      "+ hoursWeek:child         1    24594 24696\n",
      "+ hoursWeek:LcapitalLoss  1    24594 24696\n",
      "+ hoursWeek:LcapitalGain  1    24594 24696\n",
      "+ mariStat:LcapitalLoss   3    24590 24696\n",
      "+ occup:child             6    24584 24696\n",
      "+ educNum:mariStat        3    24592 24698\n",
      "+ mariStat:child          3    24594 24700\n",
      "+ occup:LcapitalGain      6    24589 24701\n",
      "- educNum:occup           6    24624 24712\n",
      "- hoursWeek:age           1    24615 24713\n",
      "- mariStat:occup         18    24664 24728\n",
      "- mariStat:age            3    24640 24734\n",
      "- child                   1    24637 24735\n",
      "- mariStat:hoursWeek      3    24657 24751\n",
      "- mariStat:LcapitalGain   3    24672 24766\n",
      "- LcapitalLoss            1    24888 24986\n",
      "\n",
      "Step:  AIC=24681.61\n",
      "income ~ mariStat + educNum + LcapitalGain + occup + hoursWeek + \n",
      "    age + LcapitalLoss + child + origEthn + mariStat:LcapitalGain + \n",
      "    mariStat:hoursWeek + mariStat:age + mariStat:occup + hoursWeek:age + \n",
      "    educNum:occup\n",
      "\n",
      "                         Df Deviance   AIC\n",
      "+ sex                     1    24569 24673\n",
      "+ occup:hoursWeek         6    24560 24674\n",
      "+ age:child               1    24574 24678\n",
      "+ age:educNum             1    24574 24678\n",
      "+ age:occup               6    24564 24678\n",
      "+ age:LcapitalLoss        1    24575 24679\n",
      "+ origEthn:LcapitalGain   1    24576 24680\n",
      "+ child:LcapitalGain      1    24577 24681\n",
      "+ age:LcapitalGain        1    24577 24681\n",
      "+ occup:LcapitalLoss      6    24567 24681\n",
      "+ origEthn:hoursWeek      1    24578 24682\n",
      "<none>                         24580 24682\n",
      "+ age:origEthn            1    24578 24682\n",
      "+ educNum:LcapitalGain    1    24578 24682\n",
      "+ child:LcapitalLoss      1    24578 24682\n",
      "+ educNum:LcapitalLoss    1    24579 24683\n",
      "+ educNum:child           1    24579 24683\n",
      "+ educNum:hoursWeek       1    24579 24683\n",
      "+ origEthn:child          1    24579 24683\n",
      "+ hoursWeek:LcapitalLoss  1    24580 24684\n",
      "+ hoursWeek:child         1    24580 24684\n",
      "+ educNum:origEthn        1    24580 24684\n",
      "+ origEthn:LcapitalLoss   1    24580 24684\n",
      "+ hoursWeek:LcapitalGain  1    24580 24684\n",
      "+ mariStat:LcapitalLoss   3    24576 24684\n",
      "+ occup:child             6    24570 24684\n",
      "+ mariStat:origEthn       3    24578 24686\n",
      "+ educNum:mariStat        3    24578 24686\n",
      "+ mariStat:child          3    24580 24688\n",
      "+ occup:LcapitalGain      6    24575 24689\n",
      "+ occup:origEthn          6    24575 24689\n",
      "- origEthn                1    24594 24694\n",
      "- educNum:occup           6    24610 24700\n",
      "- hoursWeek:age           1    24602 24702\n",
      "- mariStat:occup         18    24650 24716\n",
      "- child                   1    24622 24722\n",
      "- mariStat:age            3    24627 24723\n",
      "- mariStat:hoursWeek      3    24643 24739\n",
      "- mariStat:LcapitalGain   3    24659 24755\n",
      "- LcapitalLoss            1    24874 24974\n",
      "\n",
      "Step:  AIC=24673.43\n",
      "income ~ mariStat + educNum + LcapitalGain + occup + hoursWeek + \n",
      "    age + LcapitalLoss + child + origEthn + sex + mariStat:LcapitalGain + \n",
      "    mariStat:hoursWeek + mariStat:age + mariStat:occup + hoursWeek:age + \n",
      "    educNum:occup\n",
      "\n",
      "                         Df Deviance   AIC\n",
      "+ mariStat:sex            3    24446 24556\n",
      "+ sex:hoursWeek           1    24555 24661\n",
      "+ occup:hoursWeek         6    24551 24667\n",
      "+ age:child               1    24563 24669\n",
      "+ age:educNum             1    24563 24669\n",
      "+ age:occup               6    24553 24669\n",
      "+ age:LcapitalLoss        1    24564 24670\n",
      "+ occup:sex               6    24555 24671\n",
      "+ origEthn:LcapitalGain   1    24566 24672\n",
      "+ child:LcapitalGain      1    24566 24672\n",
      "+ age:LcapitalGain        1    24567 24673\n",
      "+ occup:LcapitalLoss      6    24557 24673\n",
      "+ origEthn:hoursWeek      1    24567 24673\n",
      "<none>                         24569 24673\n",
      "+ age:sex                 1    24568 24674\n",
      "+ age:origEthn            1    24568 24674\n",
      "+ educNum:LcapitalGain    1    24568 24674\n",
      "+ child:LcapitalLoss      1    24568 24674\n",
      "+ educNum:child           1    24569 24675\n",
      "+ educNum:LcapitalLoss    1    24569 24675\n",
      "+ educNum:hoursWeek       1    24569 24675\n",
      "+ sex:LcapitalGain        1    24569 24675\n",
      "+ origEthn:child          1    24569 24675\n",
      "+ sex:child               1    24569 24675\n",
      "+ origEthn:sex            1    24569 24675\n",
      "+ hoursWeek:LcapitalLoss  1    24569 24675\n",
      "+ hoursWeek:child         1    24569 24675\n",
      "+ sex:LcapitalLoss        1    24569 24675\n",
      "+ educNum:origEthn        1    24569 24675\n",
      "+ educNum:sex             1    24569 24675\n",
      "+ origEthn:LcapitalLoss   1    24569 24675\n",
      "+ hoursWeek:LcapitalGain  1    24569 24675\n",
      "+ mariStat:LcapitalLoss   3    24566 24676\n",
      "+ occup:child             6    24560 24676\n",
      "+ mariStat:origEthn       3    24567 24677\n",
      "+ educNum:mariStat        3    24568 24678\n",
      "+ mariStat:child          3    24569 24679\n",
      "+ occup:LcapitalGain      6    24565 24681\n",
      "+ occup:origEthn          6    24565 24681\n",
      "- sex                     1    24580 24682\n",
      "- origEthn                1    24582 24684\n",
      "- educNum:occup           6    24600 24692\n",
      "- hoursWeek:age           1    24593 24695\n",
      "- mariStat:occup         18    24638 24706\n",
      "- child                   1    24611 24713\n",
      "- mariStat:age            3    24618 24716\n",
      "- mariStat:hoursWeek      3    24632 24730\n",
      "- mariStat:LcapitalGain   3    24647 24745\n",
      "- LcapitalLoss            1    24863 24965\n",
      "\n",
      "Step:  AIC=24555.91\n",
      "income ~ mariStat + educNum + LcapitalGain + occup + hoursWeek + \n",
      "    age + LcapitalLoss + child + origEthn + sex + mariStat:LcapitalGain + \n",
      "    mariStat:hoursWeek + mariStat:age + mariStat:occup + hoursWeek:age + \n",
      "    educNum:occup + mariStat:sex\n",
      "\n",
      "                         Df Deviance   AIC\n",
      "+ occup:hoursWeek         6    24426 24548\n",
      "+ age:educNum             1    24440 24552\n",
      "+ age:child               1    24440 24552\n",
      "+ age:occup               6    24431 24553\n",
      "+ educNum:sex             1    24441 24553\n",
      "+ age:LcapitalLoss        1    24441 24553\n",
      "+ origEthn:LcapitalGain   1    24443 24555\n",
      "+ occup:LcapitalLoss      6    24433 24555\n",
      "+ child:LcapitalGain      1    24443 24555\n",
      "+ age:LcapitalGain        1    24443 24555\n",
      "+ origEthn:hoursWeek      1    24444 24556\n",
      "<none>                         24446 24556\n",
      "+ age:origEthn            1    24444 24556\n",
      "+ sex:hoursWeek           1    24444 24556\n",
      "+ educNum:LcapitalGain    1    24445 24557\n",
      "+ educNum:LcapitalLoss    1    24445 24557\n",
      "+ educNum:child           1    24445 24557\n",
      "+ child:LcapitalLoss      1    24445 24557\n",
      "+ origEthn:child          1    24445 24557\n",
      "+ educNum:hoursWeek       1    24446 24558\n",
      "+ sex:LcapitalGain        1    24446 24558\n",
      "+ origEthn:sex            1    24446 24558\n",
      "+ sex:child               1    24446 24558\n",
      "+ age:sex                 1    24446 24558\n",
      "+ hoursWeek:child         1    24446 24558\n",
      "+ hoursWeek:LcapitalLoss  1    24446 24558\n",
      "+ educNum:origEthn        1    24446 24558\n",
      "+ origEthn:LcapitalLoss   1    24446 24558\n",
      "+ hoursWeek:LcapitalGain  1    24446 24558\n",
      "+ sex:LcapitalLoss        1    24446 24558\n",
      "+ mariStat:LcapitalLoss   3    24442 24558\n",
      "+ occup:child             6    24436 24558\n",
      "+ mariStat:origEthn       3    24444 24560\n",
      "+ occup:sex               6    24439 24561\n",
      "+ mariStat:child          3    24445 24561\n",
      "+ educNum:mariStat        3    24446 24562\n",
      "- mariStat:occup         18    24488 24562\n",
      "+ occup:origEthn          6    24441 24563\n",
      "+ occup:LcapitalGain      6    24442 24564\n",
      "- origEthn                1    24459 24567\n",
      "- educNum:occup           6    24476 24574\n",
      "- hoursWeek:age           1    24466 24574\n",
      "- mariStat:hoursWeek      3    24490 24594\n",
      "- mariStat:age            3    24494 24598\n",
      "- child                   1    24493 24601\n",
      "- mariStat:LcapitalGain   3    24522 24626\n",
      "- mariStat:sex            3    24569 24673\n",
      "- LcapitalLoss            1    24735 24843\n",
      "\n",
      "Step:  AIC=24548\n",
      "income ~ mariStat + educNum + LcapitalGain + occup + hoursWeek + \n",
      "    age + LcapitalLoss + child + origEthn + sex + mariStat:LcapitalGain + \n",
      "    mariStat:hoursWeek + mariStat:age + mariStat:occup + hoursWeek:age + \n",
      "    educNum:occup + mariStat:sex + occup:hoursWeek\n",
      "\n",
      "                         Df Deviance   AIC\n",
      "+ age:occup               6    24409 24543\n",
      "+ age:educNum             1    24420 24544\n",
      "+ age:child               1    24421 24545\n",
      "+ age:LcapitalLoss        1    24421 24545\n",
      "+ educNum:sex             1    24422 24546\n",
      "+ origEthn:LcapitalGain   1    24422 24546\n",
      "+ child:LcapitalGain      1    24423 24547\n",
      "+ occup:LcapitalLoss      6    24413 24547\n",
      "+ sex:hoursWeek           1    24424 24548\n",
      "+ age:LcapitalGain        1    24424 24548\n",
      "<none>                         24426 24548\n",
      "+ origEthn:hoursWeek      1    24424 24548\n",
      "+ age:origEthn            1    24424 24548\n",
      "+ educNum:LcapitalGain    1    24425 24549\n",
      "+ educNum:child           1    24425 24549\n",
      "+ child:LcapitalLoss      1    24425 24549\n",
      "+ educNum:LcapitalLoss    1    24425 24549\n",
      "+ origEthn:child          1    24426 24550\n",
      "+ origEthn:sex            1    24426 24550\n",
      "+ sex:LcapitalGain        1    24426 24550\n",
      "+ hoursWeek:child         1    24426 24550\n",
      "+ sex:child               1    24426 24550\n",
      "+ educNum:origEthn        1    24426 24550\n",
      "+ hoursWeek:LcapitalLoss  1    24426 24550\n",
      "+ age:sex                 1    24426 24550\n",
      "+ origEthn:LcapitalLoss   1    24426 24550\n",
      "+ educNum:hoursWeek       1    24426 24550\n",
      "+ hoursWeek:LcapitalGain  1    24426 24550\n",
      "+ sex:LcapitalLoss        1    24426 24550\n",
      "+ mariStat:LcapitalLoss   3    24422 24550\n",
      "+ occup:child             6    24416 24550\n",
      "+ mariStat:origEthn       3    24424 24552\n",
      "+ mariStat:child          3    24426 24554\n",
      "+ educNum:mariStat        3    24426 24554\n",
      "+ occup:sex               6    24421 24555\n",
      "+ occup:origEthn          6    24421 24555\n",
      "- mariStat:occup         18    24470 24556\n",
      "- occup:hoursWeek         6    24446 24556\n",
      "+ occup:LcapitalGain      6    24422 24556\n",
      "- origEthn                1    24441 24561\n",
      "- hoursWeek:age           1    24445 24565\n",
      "- educNum:occup           6    24455 24565\n",
      "- mariStat:hoursWeek      3    24468 24584\n",
      "- mariStat:age            3    24474 24590\n",
      "- child                   1    24472 24592\n",
      "- mariStat:LcapitalGain   3    24502 24618\n",
      "- mariStat:sex            3    24551 24667\n",
      "- LcapitalLoss            1    24716 24836\n",
      "\n",
      "Step:  AIC=24543.17\n",
      "income ~ mariStat + educNum + LcapitalGain + occup + hoursWeek + \n",
      "    age + LcapitalLoss + child + origEthn + sex + mariStat:LcapitalGain + \n",
      "    mariStat:hoursWeek + mariStat:age + mariStat:occup + hoursWeek:age + \n",
      "    educNum:occup + mariStat:sex + occup:hoursWeek + occup:age\n",
      "\n",
      "                         Df Deviance   AIC\n",
      "+ age:child               1    24404 24540\n",
      "+ age:LcapitalLoss        1    24405 24541\n",
      "+ educNum:sex             1    24405 24541\n",
      "+ origEthn:LcapitalGain   1    24406 24542\n",
      "+ child:LcapitalGain      1    24406 24542\n",
      "+ age:LcapitalGain        1    24407 24543\n",
      "+ occup:LcapitalLoss      6    24397 24543\n",
      "+ sex:hoursWeek           1    24407 24543\n",
      "+ origEthn:hoursWeek      1    24407 24543\n",
      "<none>                         24409 24543\n",
      "+ age:origEthn            1    24407 24543\n",
      "+ age:educNum             1    24407 24543\n",
      "+ educNum:LcapitalGain    1    24408 24544\n",
      "+ educNum:child           1    24408 24544\n",
      "+ educNum:LcapitalLoss    1    24408 24544\n",
      "+ child:LcapitalLoss      1    24408 24544\n",
      "+ origEthn:child          1    24409 24545\n",
      "+ origEthn:sex            1    24409 24545\n",
      "+ hoursWeek:child         1    24409 24545\n",
      "+ sex:LcapitalGain        1    24409 24545\n",
      "+ educNum:origEthn        1    24409 24545\n",
      "+ sex:child               1    24409 24545\n",
      "+ age:sex                 1    24409 24545\n",
      "+ origEthn:LcapitalLoss   1    24409 24545\n",
      "+ hoursWeek:LcapitalLoss  1    24409 24545\n",
      "+ hoursWeek:LcapitalGain  1    24409 24545\n",
      "+ educNum:hoursWeek       1    24409 24545\n",
      "+ sex:LcapitalLoss        1    24409 24545\n",
      "+ mariStat:LcapitalLoss   3    24405 24545\n",
      "+ occup:child             6    24399 24545\n",
      "+ mariStat:origEthn       3    24407 24547\n",
      "- occup:age               6    24426 24548\n",
      "+ mariStat:child          3    24408 24548\n",
      "+ educNum:mariStat        3    24409 24549\n",
      "+ occup:sex               6    24404 24550\n",
      "+ occup:origEthn          6    24405 24551\n",
      "+ occup:LcapitalGain      6    24405 24551\n",
      "- mariStat:occup         18    24455 24553\n",
      "- occup:hoursWeek         6    24431 24553\n",
      "- origEthn                1    24424 24556\n",
      "- educNum:occup           6    24436 24558\n",
      "- hoursWeek:age           1    24427 24559\n",
      "- mariStat:hoursWeek      3    24452 24580\n",
      "- child                   1    24454 24586\n",
      "- mariStat:age            3    24463 24591\n",
      "- mariStat:LcapitalGain   3    24484 24612\n",
      "- mariStat:sex            3    24533 24661\n",
      "- LcapitalLoss            1    24701 24833\n",
      "\n",
      "Step:  AIC=24540.51\n",
      "income ~ mariStat + educNum + LcapitalGain + occup + hoursWeek + \n",
      "    age + LcapitalLoss + child + origEthn + sex + mariStat:LcapitalGain + \n",
      "    mariStat:hoursWeek + mariStat:age + mariStat:occup + hoursWeek:age + \n",
      "    educNum:occup + mariStat:sex + occup:hoursWeek + occup:age + \n",
      "    age:child\n",
      "\n",
      "                         Df Deviance   AIC\n",
      "+ age:LcapitalLoss        1    24400 24538\n",
      "+ educNum:sex             1    24400 24538\n",
      "+ origEthn:LcapitalGain   1    24401 24539\n",
      "+ child:LcapitalGain      1    24402 24540\n",
      "+ age:LcapitalGain        1    24402 24540\n",
      "+ occup:LcapitalLoss      6    24392 24540\n",
      "+ sex:hoursWeek           1    24402 24540\n",
      "+ origEthn:hoursWeek      1    24402 24540\n",
      "<none>                         24404 24540\n",
      "+ age:origEthn            1    24403 24541\n",
      "+ age:educNum             1    24403 24541\n",
      "+ educNum:LcapitalGain    1    24403 24541\n",
      "+ educNum:child           1    24404 24542\n",
      "+ educNum:LcapitalLoss    1    24404 24542\n",
      "+ child:LcapitalLoss      1    24404 24542\n",
      "+ hoursWeek:child         1    24404 24542\n",
      "+ origEthn:child          1    24404 24542\n",
      "+ origEthn:sex            1    24404 24542\n",
      "+ sex:LcapitalGain        1    24404 24542\n",
      "+ educNum:origEthn        1    24404 24542\n",
      "+ sex:child               1    24404 24542\n",
      "+ age:sex                 1    24404 24542\n",
      "+ origEthn:LcapitalLoss   1    24404 24542\n",
      "+ hoursWeek:LcapitalLoss  1    24404 24542\n",
      "+ hoursWeek:LcapitalGain  1    24404 24542\n",
      "+ educNum:hoursWeek       1    24404 24542\n",
      "+ sex:LcapitalLoss        1    24404 24542\n",
      "+ mariStat:LcapitalLoss   3    24401 24543\n",
      "+ occup:child             6    24395 24543\n",
      "- age:child               1    24409 24543\n",
      "+ mariStat:origEthn       3    24403 24545\n",
      "- occup:age               6    24421 24545\n",
      "+ mariStat:child          3    24403 24545\n",
      "+ educNum:mariStat        3    24404 24546\n",
      "+ occup:sex               6    24400 24548\n",
      "+ occup:origEthn          6    24400 24548\n",
      "+ occup:LcapitalGain      6    24401 24549\n",
      "- occup:hoursWeek         6    24426 24550\n",
      "- mariStat:occup         18    24450 24550\n",
      "- origEthn                1    24420 24554\n",
      "- educNum:occup           6    24432 24556\n",
      "- hoursWeek:age           1    24423 24557\n",
      "- mariStat:hoursWeek      3    24446 24576\n",
      "- mariStat:age            3    24448 24578\n",
      "- mariStat:LcapitalGain   3    24479 24609\n",
      "- mariStat:sex            3    24528 24658\n",
      "- LcapitalLoss            1    24696 24830\n",
      "\n",
      "Step:  AIC=24538.06\n",
      "income ~ mariStat + educNum + LcapitalGain + occup + hoursWeek + \n",
      "    age + LcapitalLoss + child + origEthn + sex + mariStat:LcapitalGain + \n",
      "    mariStat:hoursWeek + mariStat:age + mariStat:occup + hoursWeek:age + \n",
      "    educNum:occup + mariStat:sex + occup:hoursWeek + occup:age + \n",
      "    age:child + age:LcapitalLoss\n",
      "\n",
      "                         Df Deviance   AIC\n",
      "+ educNum:sex             1    24396 24536\n",
      "+ origEthn:LcapitalGain   1    24396 24536\n",
      "+ age:LcapitalGain        1    24397 24537\n",
      "+ child:LcapitalGain      1    24397 24537\n",
      "+ occup:LcapitalLoss      6    24388 24538\n",
      "+ sex:hoursWeek           1    24398 24538\n",
      "+ origEthn:hoursWeek      1    24398 24538\n",
      "<none>                         24400 24538\n",
      "+ age:origEthn            1    24398 24538\n",
      "+ age:educNum             1    24398 24538\n",
      "+ educNum:LcapitalGain    1    24399 24539\n",
      "+ educNum:child           1    24399 24539\n",
      "+ educNum:LcapitalLoss    1    24400 24540\n",
      "+ hoursWeek:child         1    24400 24540\n",
      "+ origEthn:child          1    24400 24540\n",
      "+ origEthn:sex            1    24400 24540\n",
      "+ child:LcapitalLoss      1    24400 24540\n",
      "+ sex:LcapitalGain        1    24400 24540\n",
      "+ hoursWeek:LcapitalLoss  1    24400 24540\n",
      "+ educNum:origEthn        1    24400 24540\n",
      "+ sex:child               1    24400 24540\n",
      "+ age:sex                 1    24400 24540\n",
      "+ mariStat:LcapitalLoss   3    24396 24540\n",
      "+ origEthn:LcapitalLoss   1    24400 24540\n",
      "+ hoursWeek:LcapitalGain  1    24400 24540\n",
      "+ sex:LcapitalLoss        1    24400 24540\n",
      "+ educNum:hoursWeek       1    24400 24540\n",
      "+ occup:child             6    24390 24540\n",
      "- age:LcapitalLoss        1    24404 24540\n",
      "- age:child               1    24405 24541\n",
      "- occup:age               6    24416 24542\n",
      "+ mariStat:origEthn       3    24398 24542\n",
      "+ mariStat:child          3    24399 24543\n",
      "+ educNum:mariStat        3    24400 24544\n",
      "+ occup:sex               6    24395 24545\n",
      "+ occup:origEthn          6    24396 24546\n",
      "+ occup:LcapitalGain      6    24396 24546\n",
      "- occup:hoursWeek         6    24421 24547\n",
      "- mariStat:occup         18    24446 24548\n",
      "- origEthn                1    24415 24551\n",
      "- educNum:occup           6    24427 24553\n",
      "- hoursWeek:age           1    24419 24555\n",
      "- mariStat:hoursWeek      3    24442 24574\n",
      "- mariStat:age            3    24444 24576\n",
      "- mariStat:LcapitalGain   3    24475 24607\n",
      "- mariStat:sex            3    24523 24655\n",
      "\n",
      "Step:  AIC=24535.85\n",
      "income ~ mariStat + educNum + LcapitalGain + occup + hoursWeek + \n",
      "    age + LcapitalLoss + child + origEthn + sex + mariStat:LcapitalGain + \n",
      "    mariStat:hoursWeek + mariStat:age + mariStat:occup + hoursWeek:age + \n",
      "    educNum:occup + mariStat:sex + occup:hoursWeek + occup:age + \n",
      "    age:child + age:LcapitalLoss + educNum:sex\n",
      "\n",
      "                         Df Deviance   AIC\n",
      "+ origEthn:LcapitalGain   1    24392 24534\n",
      "+ age:LcapitalGain        1    24392 24534\n",
      "+ child:LcapitalGain      1    24393 24535\n",
      "+ sex:hoursWeek           1    24393 24535\n",
      "+ occup:LcapitalLoss      6    24384 24536\n",
      "+ age:origEthn            1    24394 24536\n",
      "<none>                         24396 24536\n",
      "+ origEthn:hoursWeek      1    24394 24536\n",
      "+ age:educNum             1    24394 24536\n",
      "+ educNum:LcapitalGain    1    24395 24537\n",
      "+ educNum:child           1    24395 24537\n",
      "+ educNum:LcapitalLoss    1    24395 24537\n",
      "+ hoursWeek:child         1    24395 24537\n",
      "+ origEthn:child          1    24395 24537\n",
      "+ sex:LcapitalGain        1    24395 24537\n",
      "+ child:LcapitalLoss      1    24396 24538\n",
      "+ educNum:origEthn        1    24396 24538\n",
      "+ origEthn:sex            1    24396 24538\n",
      "+ mariStat:LcapitalLoss   3    24392 24538\n",
      "+ hoursWeek:LcapitalLoss  1    24396 24538\n",
      "+ sex:child               1    24396 24538\n",
      "+ age:sex                 1    24396 24538\n",
      "+ origEthn:LcapitalLoss   1    24396 24538\n",
      "+ sex:LcapitalLoss        1    24396 24538\n",
      "+ hoursWeek:LcapitalGain  1    24396 24538\n",
      "+ educNum:hoursWeek       1    24396 24538\n",
      "- educNum:sex             1    24400 24538\n",
      "+ occup:child             6    24386 24538\n",
      "- age:child               1    24400 24538\n",
      "- age:LcapitalLoss        1    24400 24538\n",
      "- occup:age               6    24412 24540\n",
      "+ mariStat:origEthn       3    24394 24540\n",
      "+ mariStat:child          3    24394 24540\n",
      "+ educNum:mariStat        3    24396 24542\n",
      "- mariStat:occup         18    24438 24542\n",
      "+ occup:origEthn          6    24391 24543\n",
      "+ occup:sex               6    24392 24544\n",
      "+ occup:LcapitalGain      6    24392 24544\n",
      "- occup:hoursWeek         6    24416 24544\n",
      "- origEthn                1    24410 24548\n",
      "- educNum:occup           6    24421 24549\n",
      "- hoursWeek:age           1    24415 24553\n",
      "- mariStat:hoursWeek      3    24436 24570\n",
      "- mariStat:age            3    24440 24574\n",
      "- mariStat:LcapitalGain   3    24471 24605\n",
      "- mariStat:sex            3    24523 24657\n",
      "\n",
      "Step:  AIC=24534.16\n",
      "income ~ mariStat + educNum + LcapitalGain + occup + hoursWeek + \n",
      "    age + LcapitalLoss + child + origEthn + sex + mariStat:LcapitalGain + \n",
      "    mariStat:hoursWeek + mariStat:age + mariStat:occup + hoursWeek:age + \n",
      "    educNum:occup + mariStat:sex + occup:hoursWeek + occup:age + \n",
      "    age:child + age:LcapitalLoss + educNum:sex + LcapitalGain:origEthn\n",
      "\n",
      "                         Df Deviance   AIC\n",
      "+ age:LcapitalGain        1    24389 24533\n",
      "+ child:LcapitalGain      1    24389 24533\n",
      "+ sex:hoursWeek           1    24390 24534\n",
      "+ occup:LcapitalLoss      6    24380 24534\n",
      "<none>                         24392 24534\n",
      "+ age:origEthn            1    24390 24534\n",
      "+ origEthn:hoursWeek      1    24390 24534\n",
      "+ age:educNum             1    24391 24535\n",
      "+ educNum:child           1    24391 24535\n",
      "+ educNum:LcapitalGain    1    24391 24535\n",
      "+ origEthn:child          1    24392 24536\n",
      "+ educNum:LcapitalLoss    1    24392 24536\n",
      "+ hoursWeek:child         1    24392 24536\n",
      "+ child:LcapitalLoss      1    24392 24536\n",
      "+ origEthn:sex            1    24392 24536\n",
      "+ sex:LcapitalGain        1    24392 24536\n",
      "- LcapitalGain:origEthn   1    24396 24536\n",
      "+ mariStat:LcapitalLoss   3    24388 24536\n",
      "+ hoursWeek:LcapitalLoss  1    24392 24536\n",
      "+ sex:child               1    24392 24536\n",
      "+ origEthn:LcapitalLoss   1    24392 24536\n",
      "+ educNum:origEthn        1    24392 24536\n",
      "+ age:sex                 1    24392 24536\n",
      "+ sex:LcapitalLoss        1    24392 24536\n",
      "+ hoursWeek:LcapitalGain  1    24392 24536\n",
      "+ educNum:hoursWeek       1    24392 24536\n",
      "- educNum:sex             1    24396 24536\n",
      "+ occup:child             6    24383 24537\n",
      "- age:LcapitalLoss        1    24397 24537\n",
      "- age:child               1    24397 24537\n",
      "- occup:age               6    24408 24538\n",
      "+ mariStat:origEthn       3    24390 24538\n",
      "+ mariStat:child          3    24391 24539\n",
      "+ educNum:mariStat        3    24392 24540\n",
      "- mariStat:occup         18    24434 24540\n",
      "+ occup:origEthn          6    24388 24542\n",
      "+ occup:sex               6    24388 24542\n",
      "+ occup:LcapitalGain      6    24388 24542\n",
      "- occup:hoursWeek         6    24413 24543\n",
      "- educNum:occup           6    24417 24547\n",
      "- hoursWeek:age           1    24411 24551\n",
      "- mariStat:hoursWeek      3    24432 24568\n",
      "- mariStat:age            3    24436 24572\n",
      "- mariStat:LcapitalGain   3    24464 24600\n",
      "- mariStat:sex            3    24520 24656\n",
      "\n",
      "Step:  AIC=24532.77\n",
      "income ~ mariStat + educNum + LcapitalGain + occup + hoursWeek + \n",
      "    age + LcapitalLoss + child + origEthn + sex + mariStat:LcapitalGain + \n",
      "    mariStat:hoursWeek + mariStat:age + mariStat:occup + hoursWeek:age + \n",
      "    educNum:occup + mariStat:sex + occup:hoursWeek + occup:age + \n",
      "    age:child + age:LcapitalLoss + educNum:sex + LcapitalGain:origEthn + \n",
      "    LcapitalGain:age\n",
      "\n",
      "                         Df Deviance   AIC\n",
      "+ sex:hoursWeek           1    24386 24532\n",
      "+ child:LcapitalGain      1    24386 24532\n",
      "+ occup:LcapitalLoss      6    24376 24532\n",
      "<none>                         24389 24533\n",
      "+ origEthn:hoursWeek      1    24387 24533\n",
      "+ age:origEthn            1    24387 24533\n",
      "+ age:educNum             1    24387 24533\n",
      "+ educNum:LcapitalGain    1    24388 24534\n",
      "+ educNum:child           1    24388 24534\n",
      "- LcapitalGain:age        1    24392 24534\n",
      "+ origEthn:child          1    24388 24534\n",
      "+ educNum:LcapitalLoss    1    24388 24534\n",
      "+ hoursWeek:child         1    24388 24534\n",
      "- LcapitalGain:origEthn   1    24392 24534\n",
      "+ child:LcapitalLoss      1    24388 24534\n",
      "+ origEthn:sex            1    24388 24534\n",
      "+ mariStat:LcapitalLoss   3    24384 24534\n",
      "+ sex:LcapitalGain        1    24388 24534\n",
      "+ hoursWeek:LcapitalLoss  1    24389 24535\n",
      "+ sex:child               1    24389 24535\n",
      "+ educNum:origEthn        1    24389 24535\n",
      "+ origEthn:LcapitalLoss   1    24389 24535\n",
      "+ age:sex                 1    24389 24535\n",
      "+ sex:LcapitalLoss        1    24389 24535\n",
      "+ hoursWeek:LcapitalGain  1    24389 24535\n",
      "+ educNum:hoursWeek       1    24389 24535\n",
      "- educNum:sex             1    24393 24535\n",
      "+ occup:child             6    24379 24535\n",
      "- age:child               1    24394 24536\n",
      "- age:LcapitalLoss        1    24394 24536\n",
      "+ mariStat:origEthn       3    24387 24537\n",
      "- occup:age               6    24405 24537\n",
      "+ mariStat:child          3    24387 24537\n",
      "- mariStat:occup         18    24430 24538\n",
      "+ educNum:mariStat        3    24389 24539\n",
      "+ occup:origEthn          6    24384 24540\n",
      "+ occup:sex               6    24384 24540\n",
      "+ occup:LcapitalGain      6    24385 24541\n",
      "- occup:hoursWeek         6    24409 24541\n",
      "- educNum:occup           6    24414 24546\n",
      "- hoursWeek:age           1    24407 24549\n",
      "- mariStat:hoursWeek      3    24429 24567\n",
      "- mariStat:age            3    24435 24573\n",
      "- mariStat:LcapitalGain   3    24452 24590\n",
      "- mariStat:sex            3    24516 24654\n",
      "\n",
      "Step:  AIC=24532.38\n",
      "income ~ mariStat + educNum + LcapitalGain + occup + hoursWeek + \n",
      "    age + LcapitalLoss + child + origEthn + sex + mariStat:LcapitalGain + \n",
      "    mariStat:hoursWeek + mariStat:age + mariStat:occup + hoursWeek:age + \n",
      "    educNum:occup + mariStat:sex + occup:hoursWeek + occup:age + \n",
      "    age:child + age:LcapitalLoss + educNum:sex + LcapitalGain:origEthn + \n",
      "    LcapitalGain:age + hoursWeek:sex\n",
      "\n",
      "                         Df Deviance   AIC\n",
      "+ occup:LcapitalLoss      6    24374 24532\n",
      "+ child:LcapitalGain      1    24384 24532\n",
      "+ origEthn:hoursWeek      1    24384 24532\n",
      "<none>                         24386 24532\n",
      "+ age:origEthn            1    24384 24532\n",
      "+ age:educNum             1    24385 24533\n",
      "- hoursWeek:sex           1    24389 24533\n",
      "+ educNum:LcapitalGain    1    24385 24533\n",
      "+ educNum:child           1    24385 24533\n",
      "- LcapitalGain:age        1    24390 24534\n",
      "+ origEthn:child          1    24386 24534\n",
      "+ educNum:LcapitalLoss    1    24386 24534\n",
      "+ hoursWeek:child         1    24386 24534\n",
      "- LcapitalGain:origEthn   1    24390 24534\n",
      "+ child:LcapitalLoss      1    24386 24534\n",
      "+ origEthn:sex            1    24386 24534\n",
      "+ mariStat:LcapitalLoss   3    24382 24534\n",
      "+ sex:LcapitalGain        1    24386 24534\n",
      "+ hoursWeek:LcapitalLoss  1    24386 24534\n",
      "+ educNum:origEthn        1    24386 24534\n",
      "+ origEthn:LcapitalLoss   1    24386 24534\n",
      "+ sex:child               1    24386 24534\n",
      "+ age:sex                 1    24386 24534\n",
      "+ sex:LcapitalLoss        1    24386 24534\n",
      "+ hoursWeek:LcapitalGain  1    24386 24534\n",
      "+ educNum:hoursWeek       1    24386 24534\n",
      "+ occup:child             6    24377 24535\n",
      "- educNum:sex             1    24391 24535\n",
      "- age:child               1    24391 24535\n",
      "- age:LcapitalLoss        1    24392 24536\n",
      "+ mariStat:origEthn       3    24384 24536\n",
      "- occup:age               6    24403 24537\n",
      "+ mariStat:child          3    24385 24537\n",
      "+ educNum:mariStat        3    24386 24538\n",
      "- mariStat:occup         18    24428 24538\n",
      "+ occup:origEthn          6    24382 24540\n",
      "+ occup:sex               6    24382 24540\n",
      "+ occup:LcapitalGain      6    24382 24540\n",
      "- occup:hoursWeek         6    24408 24542\n",
      "- educNum:occup           6    24412 24546\n",
      "- hoursWeek:age           1    24404 24548\n",
      "- mariStat:hoursWeek      3    24429 24569\n",
      "- mariStat:age            3    24432 24572\n",
      "- mariStat:LcapitalGain   3    24450 24590\n",
      "- mariStat:sex            3    24500 24640\n",
      "\n",
      "Step:  AIC=24532\n",
      "income ~ mariStat + educNum + LcapitalGain + occup + hoursWeek + \n",
      "    age + LcapitalLoss + child + origEthn + sex + mariStat:LcapitalGain + \n",
      "    mariStat:hoursWeek + mariStat:age + mariStat:occup + hoursWeek:age + \n",
      "    educNum:occup + mariStat:sex + occup:hoursWeek + occup:age + \n",
      "    age:child + age:LcapitalLoss + educNum:sex + LcapitalGain:origEthn + \n",
      "    LcapitalGain:age + hoursWeek:sex + occup:LcapitalLoss\n",
      "\n",
      "                         Df Deviance   AIC\n",
      "+ child:LcapitalGain      1    24372 24532\n",
      "+ mariStat:LcapitalLoss   3    24368 24532\n",
      "<none>                         24374 24532\n",
      "+ origEthn:hoursWeek      1    24372 24532\n",
      "+ age:origEthn            1    24372 24532\n",
      "+ age:educNum             1    24372 24532\n",
      "- occup:LcapitalLoss      6    24386 24532\n",
      "- hoursWeek:sex           1    24376 24532\n",
      "+ educNum:LcapitalGain    1    24373 24533\n",
      "+ educNum:child           1    24373 24533\n",
      "- LcapitalGain:age        1    24377 24533\n",
      "+ origEthn:child          1    24374 24534\n",
      "+ hoursWeek:child         1    24374 24534\n",
      "+ hoursWeek:LcapitalLoss  1    24374 24534\n",
      "- LcapitalGain:origEthn   1    24378 24534\n",
      "+ origEthn:sex            1    24374 24534\n",
      "+ child:LcapitalLoss      1    24374 24534\n",
      "+ sex:LcapitalGain        1    24374 24534\n",
      "+ educNum:origEthn        1    24374 24534\n",
      "+ origEthn:LcapitalLoss   1    24374 24534\n",
      "+ educNum:LcapitalLoss    1    24374 24534\n",
      "+ sex:child               1    24374 24534\n",
      "+ age:sex                 1    24374 24534\n",
      "+ sex:LcapitalLoss        1    24374 24534\n",
      "+ hoursWeek:LcapitalGain  1    24374 24534\n",
      "+ educNum:hoursWeek       1    24374 24534\n",
      "+ occup:child             6    24364 24534\n",
      "- educNum:sex             1    24378 24534\n",
      "- age:child               1    24379 24535\n",
      "- age:LcapitalLoss        1    24379 24535\n",
      "- occup:age               6    24390 24536\n",
      "+ mariStat:origEthn       3    24372 24536\n",
      "+ mariStat:child          3    24372 24536\n",
      "- mariStat:occup         18    24416 24538\n",
      "+ educNum:mariStat        3    24374 24538\n",
      "+ occup:origEthn          6    24370 24540\n",
      "+ occup:sex               6    24370 24540\n",
      "+ occup:LcapitalGain      6    24370 24540\n",
      "- occup:hoursWeek         6    24395 24541\n",
      "- educNum:occup           6    24399 24545\n",
      "- hoursWeek:age           1    24392 24548\n",
      "- mariStat:hoursWeek      3    24416 24568\n",
      "- mariStat:age            3    24420 24572\n",
      "- mariStat:LcapitalGain   3    24438 24590\n",
      "- mariStat:sex            3    24488 24640\n",
      "\n",
      "Step:  AIC=24531.67\n",
      "income ~ mariStat + educNum + LcapitalGain + occup + hoursWeek + \n",
      "    age + LcapitalLoss + child + origEthn + sex + mariStat:LcapitalGain + \n",
      "    mariStat:hoursWeek + mariStat:age + mariStat:occup + hoursWeek:age + \n",
      "    educNum:occup + mariStat:sex + occup:hoursWeek + occup:age + \n",
      "    age:child + age:LcapitalLoss + educNum:sex + LcapitalGain:origEthn + \n",
      "    LcapitalGain:age + hoursWeek:sex + occup:LcapitalLoss + LcapitalGain:child\n",
      "\n",
      "                         Df Deviance   AIC\n",
      "+ mariStat:LcapitalLoss   3    24365 24531\n",
      "<none>                         24372 24532\n",
      "+ origEthn:hoursWeek      1    24370 24532\n",
      "+ age:origEthn            1    24370 24532\n",
      "- LcapitalGain:child      1    24374 24532\n",
      "- occup:LcapitalLoss      6    24384 24532\n",
      "+ age:educNum             1    24370 24532\n",
      "- hoursWeek:sex           1    24374 24532\n",
      "+ educNum:child           1    24370 24532\n",
      "+ educNum:LcapitalGain    1    24370 24532\n",
      "- LcapitalGain:age        1    24375 24533\n",
      "+ origEthn:child          1    24371 24533\n",
      "+ child:LcapitalLoss      1    24371 24533\n",
      "+ hoursWeek:LcapitalLoss  1    24371 24533\n",
      "- LcapitalGain:origEthn   1    24375 24533\n",
      "+ hoursWeek:child         1    24371 24533\n",
      "+ origEthn:sex            1    24371 24533\n",
      "+ sex:LcapitalGain        1    24372 24534\n",
      "+ educNum:origEthn        1    24372 24534\n",
      "+ origEthn:LcapitalLoss   1    24372 24534\n",
      "+ occup:child             6    24362 24534\n",
      "+ educNum:LcapitalLoss    1    24372 24534\n",
      "+ sex:child               1    24372 24534\n",
      "+ age:sex                 1    24372 24534\n",
      "+ sex:LcapitalLoss        1    24372 24534\n",
      "+ educNum:hoursWeek       1    24372 24534\n",
      "+ hoursWeek:LcapitalGain  1    24372 24534\n",
      "- educNum:sex             1    24376 24534\n",
      "- age:child               1    24376 24534\n",
      "- age:LcapitalLoss        1    24377 24535\n",
      "- occup:age               6    24388 24536\n",
      "+ mariStat:origEthn       3    24370 24536\n",
      "+ mariStat:child          3    24370 24536\n",
      "- mariStat:occup         18    24413 24537\n",
      "+ educNum:mariStat        3    24371 24537\n",
      "+ occup:origEthn          6    24367 24539\n",
      "+ occup:sex               6    24367 24539\n",
      "+ occup:LcapitalGain      6    24368 24540\n",
      "- occup:hoursWeek         6    24393 24541\n",
      "- educNum:occup           6    24397 24545\n",
      "- hoursWeek:age           1    24390 24548\n",
      "- mariStat:hoursWeek      3    24414 24568\n",
      "- mariStat:age            3    24418 24572\n",
      "- mariStat:LcapitalGain   3    24429 24583\n",
      "- mariStat:sex            3    24486 24640\n",
      "\n",
      "Step:  AIC=24531.41\n",
      "income ~ mariStat + educNum + LcapitalGain + occup + hoursWeek + \n",
      "    age + LcapitalLoss + child + origEthn + sex + mariStat:LcapitalGain + \n",
      "    mariStat:hoursWeek + mariStat:age + mariStat:occup + hoursWeek:age + \n",
      "    educNum:occup + mariStat:sex + occup:hoursWeek + occup:age + \n",
      "    age:child + age:LcapitalLoss + educNum:sex + LcapitalGain:origEthn + \n",
      "    LcapitalGain:age + hoursWeek:sex + occup:LcapitalLoss + LcapitalGain:child + \n",
      "    mariStat:LcapitalLoss\n",
      "\n",
      "                         Df Deviance   AIC\n",
      "<none>                         24365 24531\n",
      "+ origEthn:hoursWeek      1    24363 24531\n",
      "+ age:origEthn            1    24364 24532\n",
      "- mariStat:LcapitalLoss   3    24372 24532\n",
      "- LcapitalGain:child      1    24368 24532\n",
      "+ age:educNum             1    24364 24532\n",
      "- hoursWeek:sex           1    24368 24532\n",
      "+ educNum:child           1    24364 24532\n",
      "+ educNum:LcapitalGain    1    24364 24532\n",
      "+ child:LcapitalLoss      1    24364 24532\n",
      "- LcapitalGain:age        1    24368 24532\n",
      "+ educNum:LcapitalLoss    1    24365 24533\n",
      "+ origEthn:child          1    24365 24533\n",
      "- LcapitalGain:origEthn   1    24369 24533\n",
      "+ hoursWeek:child         1    24365 24533\n",
      "+ origEthn:sex            1    24365 24533\n",
      "+ sex:LcapitalLoss        1    24365 24533\n",
      "+ sex:LcapitalGain        1    24365 24533\n",
      "+ hoursWeek:LcapitalLoss  1    24365 24533\n",
      "+ origEthn:LcapitalLoss   1    24365 24533\n",
      "+ educNum:origEthn        1    24365 24533\n",
      "+ occup:child             6    24355 24533\n",
      "+ sex:child               1    24365 24533\n",
      "+ age:sex                 1    24365 24533\n",
      "+ educNum:hoursWeek       1    24365 24533\n",
      "+ hoursWeek:LcapitalGain  1    24365 24533\n",
      "- occup:LcapitalLoss      6    24380 24534\n",
      "- educNum:sex             1    24370 24534\n",
      "- age:child               1    24370 24534\n",
      "- age:LcapitalLoss        1    24371 24535\n",
      "- occup:age               6    24381 24535\n",
      "+ mariStat:origEthn       3    24364 24536\n",
      "+ mariStat:child          3    24364 24536\n",
      "+ educNum:mariStat        3    24365 24537\n",
      "- mariStat:occup         18    24407 24537\n",
      "+ occup:origEthn          6    24361 24539\n",
      "+ occup:sex               6    24361 24539\n",
      "+ occup:LcapitalGain      6    24361 24539\n",
      "- occup:hoursWeek         6    24386 24540\n",
      "- educNum:occup           6    24391 24545\n",
      "- hoursWeek:age           1    24383 24547\n",
      "- mariStat:hoursWeek      3    24408 24568\n",
      "- mariStat:age            3    24412 24572\n",
      "- mariStat:LcapitalGain   3    24418 24578\n",
      "- mariStat:sex            3    24480 24640\n"
     ]
    }
   ],
   "source": [
    "# régression quadratique\n",
    "reg.logQ=glm(income~1,data=datApp,family=binomial)\n",
    "# algorithme stepwise en précisant le plus grand modèle possible\n",
    "reg.logQ.step=step(reg.logQ,direction=\"both\",\n",
    "  scope=list(lower=~1,upper=~(age+educNum+mariStat+occup+origEthn+sex+hoursWeek+child+LcapitalGain+LcapitalLoss)^2), family=binomial)"
   ]
  },
  {
   "cell_type": "code",
   "execution_count": 58,
   "metadata": {},
   "outputs": [
    {
     "data": {
      "text/html": [
       "16.46"
      ],
      "text/latex": [
       "16.46"
      ],
      "text/markdown": [
       "16.46"
      ],
      "text/plain": [
       "[1] 16.46"
      ]
     },
     "metadata": {},
     "output_type": "display_data"
    }
   ],
   "source": [
    "yHatQ=predict(reg.logQ.step,newdata=daTest,type=\"response\")\n",
    "tauxErr(table(yHatQ>0.5,daTest$income))"
   ]
  },
  {
   "cell_type": "code",
   "execution_count": 59,
   "metadata": {},
   "outputs": [
    {
     "name": "stdout",
     "output_type": "stream",
     "text": [
      "Start:  AIC=8216.17\n",
      "income ~ 1\n",
      "\n",
      "               Df Deviance    AIC\n",
      "+ mariStat      3   6307.7 6315.7\n",
      "+ educNum       1   7382.5 7386.5\n",
      "+ occup         6   7419.3 7433.3\n",
      "+ LcapitalGain  1   7620.5 7624.5\n",
      "+ child         1   7835.3 7839.3\n",
      "+ hoursWeek     1   8035.1 8039.1\n",
      "+ age           1   8056.0 8060.0\n",
      "+ LcapitalLoss  1   8102.8 8106.8\n",
      "+ origEthn      1   8176.7 8180.7\n",
      "<none>              8214.2 8216.2\n",
      "\n",
      "Step:  AIC=6315.71\n",
      "income ~ mariStat\n",
      "\n",
      "               Df Deviance    AIC\n",
      "+ educNum       1   5422.8 5432.8\n",
      "+ occup         6   5592.8 5612.8\n",
      "+ LcapitalGain  1   5836.8 5846.8\n",
      "+ hoursWeek     1   6091.3 6101.3\n",
      "+ child         1   6190.5 6200.5\n",
      "+ age           1   6197.9 6207.9\n",
      "+ LcapitalLoss  1   6238.1 6248.1\n",
      "+ origEthn      1   6279.6 6289.6\n",
      "<none>              6307.7 6315.7\n",
      "- mariStat      3   8214.2 8216.2\n",
      "\n",
      "Step:  AIC=5432.84\n",
      "income ~ mariStat + educNum\n",
      "\n",
      "                   Df Deviance    AIC\n",
      "+ LcapitalGain      1   5039.0 5051.0\n",
      "+ occup             6   5247.0 5269.0\n",
      "+ hoursWeek         1   5293.9 5305.9\n",
      "+ age               1   5318.1 5330.1\n",
      "+ child             1   5360.7 5372.7\n",
      "+ LcapitalLoss      1   5388.5 5400.5\n",
      "+ educNum:mariStat  3   5387.7 5403.7\n",
      "+ origEthn          1   5411.6 5423.6\n",
      "<none>                  5422.8 5432.8\n",
      "- educNum           1   6307.7 6315.7\n",
      "- mariStat          3   7382.5 7386.5\n",
      "\n",
      "Step:  AIC=5050.96\n",
      "income ~ mariStat + educNum + LcapitalGain\n",
      "\n",
      "                        Df Deviance    AIC\n",
      "+ occup                  6   4881.0 4905.0\n",
      "+ hoursWeek              1   4931.4 4945.4\n",
      "+ age                    1   4958.7 4972.7\n",
      "+ LcapitalLoss           1   4981.5 4995.5\n",
      "+ child                  1   4983.3 4997.3\n",
      "+ educNum:mariStat       3   5013.7 5031.7\n",
      "+ mariStat:LcapitalGain  3   5017.4 5035.4\n",
      "+ origEthn               1   5029.3 5043.3\n",
      "<none>                       5039.0 5051.0\n",
      "+ educNum:LcapitalGain   1   5038.5 5052.5\n",
      "- LcapitalGain           1   5422.8 5432.8\n",
      "- educNum                1   5836.8 5846.8\n",
      "- mariStat               3   6904.2 6910.2\n",
      "\n",
      "Step:  AIC=4905\n",
      "income ~ mariStat + educNum + LcapitalGain + occup\n",
      "\n",
      "                        Df Deviance    AIC\n",
      "+ hoursWeek              1   4797.0 4823.0\n",
      "+ age                    1   4808.5 4834.5\n",
      "+ LcapitalLoss           1   4826.3 4852.3\n",
      "+ child                  1   4832.9 4858.9\n",
      "+ educNum:mariStat       3   4858.0 4888.0\n",
      "+ mariStat:occup        18   4832.2 4892.2\n",
      "+ mariStat:LcapitalGain  3   4864.0 4894.0\n",
      "+ educNum:occup          6   4860.3 4896.3\n",
      "+ origEthn               1   4874.6 4900.6\n",
      "<none>                       4881.0 4905.0\n",
      "+ educNum:LcapitalGain   1   4880.7 4906.7\n",
      "+ occup:LcapitalGain     6   4874.7 4910.7\n",
      "- occup                  6   5039.0 5051.0\n",
      "- educNum                1   5202.7 5224.7\n",
      "- LcapitalGain           1   5247.0 5269.0\n",
      "- mariStat               3   6704.6 6722.6\n",
      "\n",
      "Step:  AIC=4822.97\n",
      "income ~ mariStat + educNum + LcapitalGain + occup + hoursWeek\n",
      "\n",
      "                         Df Deviance    AIC\n",
      "+ age                     1   4718.3 4746.3\n",
      "+ LcapitalLoss            1   4741.2 4769.2\n",
      "+ mariStat:hoursWeek      3   4751.1 4783.1\n",
      "+ child                   1   4759.6 4787.6\n",
      "+ mariStat:occup         18   4751.5 4813.5\n",
      "+ educNum:mariStat        3   4781.6 4813.6\n",
      "+ mariStat:LcapitalGain   3   4781.7 4813.7\n",
      "+ origEthn                1   4789.4 4817.4\n",
      "+ educNum:occup           6   4779.5 4817.5\n",
      "<none>                        4797.0 4823.0\n",
      "+ educNum:hoursWeek       1   4795.7 4823.7\n",
      "+ occup:hoursWeek         6   4785.7 4823.7\n",
      "+ hoursWeek:LcapitalGain  1   4796.6 4824.6\n",
      "+ educNum:LcapitalGain    1   4796.9 4824.9\n",
      "+ occup:LcapitalGain      6   4790.9 4828.9\n",
      "- hoursWeek               1   4881.0 4905.0\n",
      "- occup                   6   4931.4 4945.4\n",
      "- educNum                 1   5086.2 5110.2\n",
      "- LcapitalGain            1   5145.8 5169.8\n",
      "- mariStat                3   6666.6 6686.6\n",
      "\n",
      "Step:  AIC=4746.35\n",
      "income ~ mariStat + educNum + LcapitalGain + occup + hoursWeek + \n",
      "    age\n",
      "\n",
      "                         Df Deviance    AIC\n",
      "+ LcapitalLoss            1   4666.3 4696.3\n",
      "+ mariStat:hoursWeek      3   4679.1 4713.1\n",
      "+ age:mariStat            3   4691.5 4725.5\n",
      "+ child                   1   4695.7 4725.7\n",
      "+ mariStat:occup         18   4673.1 4737.1\n",
      "+ mariStat:LcapitalGain   3   4704.5 4738.5\n",
      "+ educNum:occup           6   4699.4 4739.4\n",
      "+ origEthn                1   4712.0 4742.0\n",
      "+ educNum:mariStat        3   4710.9 4744.9\n",
      "<none>                        4718.3 4746.3\n",
      "+ educNum:hoursWeek       1   4717.1 4747.1\n",
      "+ occup:hoursWeek         6   4707.4 4747.4\n",
      "+ age:LcapitalGain        1   4717.4 4747.4\n",
      "+ hoursWeek:LcapitalGain  1   4717.9 4747.9\n",
      "+ age:educNum             1   4718.0 4748.0\n",
      "+ educNum:LcapitalGain    1   4718.3 4748.3\n",
      "+ age:hoursWeek           1   4718.3 4748.3\n",
      "+ age:occup               6   4709.2 4749.2\n",
      "+ occup:LcapitalGain      6   4713.5 4753.5\n",
      "- age                     1   4797.0 4823.0\n",
      "- hoursWeek               1   4808.5 4834.5\n",
      "- occup                   6   4844.7 4860.7\n",
      "- educNum                 1   5016.1 5042.1\n",
      "- LcapitalGain            1   5045.8 5071.8\n",
      "- mariStat                3   6546.5 6568.5\n",
      "\n",
      "Step:  AIC=4696.31\n",
      "income ~ mariStat + educNum + LcapitalGain + occup + hoursWeek + \n",
      "    age + LcapitalLoss\n",
      "\n",
      "                         Df Deviance    AIC\n",
      "+ mariStat:hoursWeek      3   4629.1 4665.1\n",
      "+ age:mariStat            3   4639.8 4675.8\n",
      "+ child                   1   4645.0 4677.0\n",
      "+ mariStat:LcapitalGain   3   4651.8 4687.8\n",
      "+ mariStat:occup         18   4622.9 4688.9\n",
      "+ educNum:occup           6   4649.7 4691.7\n",
      "+ origEthn                1   4660.5 4692.5\n",
      "+ educNum:mariStat        3   4659.5 4695.5\n",
      "+ educNum:LcapitalLoss    1   4664.3 4696.3\n",
      "<none>                        4666.3 4696.3\n",
      "+ educNum:hoursWeek       1   4665.4 4697.4\n",
      "+ age:LcapitalGain        1   4665.4 4697.4\n",
      "+ age:educNum             1   4665.7 4697.7\n",
      "+ hoursWeek:LcapitalGain  1   4665.9 4697.9\n",
      "+ educNum:LcapitalGain    1   4666.1 4698.1\n",
      "+ hoursWeek:LcapitalLoss  1   4666.2 4698.2\n",
      "+ age:hoursWeek           1   4666.3 4698.3\n",
      "+ age:LcapitalLoss        1   4666.3 4698.3\n",
      "+ mariStat:LcapitalLoss   3   4662.5 4698.5\n",
      "+ age:occup               6   4656.7 4698.7\n",
      "+ occup:hoursWeek         6   4657.0 4699.0\n",
      "+ occup:LcapitalLoss      6   4657.2 4699.2\n",
      "+ occup:LcapitalGain      6   4661.7 4703.7\n",
      "- LcapitalLoss            1   4718.3 4746.3\n",
      "- age                     1   4741.2 4769.2\n",
      "- hoursWeek               1   4757.7 4785.7\n",
      "- occup                   6   4789.0 4807.0\n",
      "- educNum                 1   4946.3 4974.3\n",
      "- LcapitalGain            1   5015.0 5043.0\n",
      "- mariStat                3   6459.3 6483.3\n",
      "\n",
      "Step:  AIC=4665.08\n",
      "income ~ mariStat + educNum + LcapitalGain + occup + hoursWeek + \n",
      "    age + LcapitalLoss + mariStat:hoursWeek\n",
      "\n",
      "                         Df Deviance    AIC\n",
      "+ age:mariStat            3   4605.1 4647.1\n",
      "+ child                   1   4611.0 4649.0\n",
      "+ mariStat:LcapitalGain   3   4613.3 4655.3\n",
      "+ educNum:occup           6   4612.5 4660.5\n",
      "+ mariStat:occup         18   4589.6 4661.6\n",
      "+ origEthn                1   4624.4 4662.4\n",
      "<none>                        4629.1 4665.1\n",
      "+ educNum:LcapitalLoss    1   4627.4 4665.4\n",
      "+ occup:hoursWeek         6   4618.3 4666.3\n",
      "+ age:LcapitalGain        1   4628.4 4666.4\n",
      "+ educNum:mariStat        3   4624.6 4666.6\n",
      "+ educNum:hoursWeek       1   4628.7 4666.7\n",
      "+ age:educNum             1   4628.8 4666.8\n",
      "+ hoursWeek:LcapitalLoss  1   4628.9 4666.9\n",
      "+ educNum:LcapitalGain    1   4628.9 4666.9\n",
      "+ age:occup               6   4619.0 4667.0\n",
      "+ age:LcapitalLoss        1   4629.0 4667.0\n",
      "+ age:hoursWeek           1   4629.1 4667.1\n",
      "+ hoursWeek:LcapitalGain  1   4629.1 4667.1\n",
      "+ mariStat:LcapitalLoss   3   4625.3 4667.3\n",
      "+ occup:LcapitalLoss      6   4619.6 4667.6\n",
      "+ occup:LcapitalGain      6   4624.9 4672.9\n",
      "- mariStat:hoursWeek      3   4666.3 4696.3\n",
      "- LcapitalLoss            1   4679.1 4713.1\n",
      "- age                     1   4698.3 4732.3\n",
      "- occup                   6   4752.8 4776.8\n",
      "- educNum                 1   4898.3 4932.3\n",
      "- LcapitalGain            1   4972.9 5006.9\n",
      "\n",
      "Step:  AIC=4647.1\n",
      "income ~ mariStat + educNum + LcapitalGain + occup + hoursWeek + \n",
      "    age + LcapitalLoss + mariStat:hoursWeek + mariStat:age\n",
      "\n",
      "                         Df Deviance    AIC\n",
      "+ child                   1   4591.3 4635.3\n",
      "+ mariStat:LcapitalGain   3   4589.6 4637.6\n",
      "+ mariStat:occup         18   4563.2 4641.2\n",
      "+ educNum:occup           6   4588.8 4642.8\n",
      "+ origEthn                1   4599.9 4643.9\n",
      "+ age:occup               6   4591.1 4645.1\n",
      "+ age:educNum             1   4603.0 4647.0\n",
      "<none>                        4605.1 4647.1\n",
      "+ educNum:LcapitalLoss    1   4603.3 4647.3\n",
      "+ occup:hoursWeek         6   4593.7 4647.7\n",
      "+ age:LcapitalGain        1   4604.2 4648.2\n",
      "+ age:hoursWeek           1   4604.8 4648.8\n",
      "+ educNum:hoursWeek       1   4604.9 4648.9\n",
      "+ hoursWeek:LcapitalLoss  1   4604.9 4648.9\n",
      "+ age:LcapitalLoss        1   4604.9 4648.9\n",
      "+ educNum:LcapitalGain    1   4605.0 4649.0\n",
      "+ educNum:mariStat        3   4601.0 4649.0\n",
      "+ hoursWeek:LcapitalGain  1   4605.1 4649.1\n",
      "+ occup:LcapitalLoss      6   4595.6 4649.6\n",
      "+ mariStat:LcapitalLoss   3   4601.9 4649.9\n",
      "+ occup:LcapitalGain      6   4601.1 4655.1\n",
      "- mariStat:age            3   4629.1 4665.1\n",
      "- mariStat:hoursWeek      3   4639.8 4675.8\n",
      "- LcapitalLoss            1   4654.6 4694.6\n",
      "- occup                   6   4729.9 4759.9\n",
      "- educNum                 1   4864.1 4904.1\n",
      "- LcapitalGain            1   4947.0 4987.0\n",
      "\n",
      "Step:  AIC=4635.25\n",
      "income ~ mariStat + educNum + LcapitalGain + occup + hoursWeek + \n",
      "    age + LcapitalLoss + child + mariStat:hoursWeek + mariStat:age\n",
      "\n",
      "                         Df Deviance    AIC\n",
      "+ mariStat:LcapitalGain   3   4576.7 4626.7\n",
      "+ mariStat:occup         18   4551.0 4631.0\n",
      "+ educNum:occup           6   4575.2 4631.2\n",
      "+ origEthn                1   4586.4 4632.4\n",
      "+ child:LcapitalGain      1   4588.1 4634.1\n",
      "+ age:occup               6   4578.2 4634.2\n",
      "+ child:LcapitalLoss      1   4588.4 4634.4\n",
      "<none>                        4591.3 4635.3\n",
      "+ educNum:LcapitalLoss    1   4589.3 4635.3\n",
      "+ age:educNum             1   4589.4 4635.4\n",
      "+ occup:hoursWeek         6   4579.8 4635.8\n",
      "+ hoursWeek:child         1   4590.2 4636.2\n",
      "+ age:LcapitalGain        1   4590.3 4636.3\n",
      "+ age:child               1   4590.5 4636.5\n",
      "+ age:hoursWeek           1   4590.9 4636.9\n",
      "+ educNum:hoursWeek       1   4591.1 4637.1\n",
      "+ age:LcapitalLoss        1   4591.1 4637.1\n",
      "+ hoursWeek:LcapitalLoss  1   4591.1 4637.1\n",
      "+ educNum:LcapitalGain    1   4591.1 4637.1\n",
      "+ hoursWeek:LcapitalGain  1   4591.2 4637.2\n",
      "+ educNum:child           1   4591.2 4637.2\n",
      "+ occup:LcapitalLoss      6   4581.4 4637.4\n",
      "+ educNum:mariStat        3   4587.9 4637.9\n",
      "+ mariStat:LcapitalLoss   3   4588.2 4638.2\n",
      "+ mariStat:child          3   4588.8 4638.8\n",
      "+ occup:child             6   4584.2 4640.2\n",
      "+ occup:LcapitalGain      6   4587.0 4643.0\n",
      "- child                   1   4605.1 4647.1\n",
      "- mariStat:age            3   4611.0 4649.0\n",
      "- mariStat:hoursWeek      3   4623.2 4661.2\n",
      "- LcapitalLoss            1   4640.0 4682.0\n",
      "- occup                   6   4713.9 4745.9\n",
      "- educNum                 1   4845.1 4887.1\n",
      "- LcapitalGain            1   4932.8 4974.8\n",
      "\n",
      "Step:  AIC=4626.72\n",
      "income ~ mariStat + educNum + LcapitalGain + occup + hoursWeek + \n",
      "    age + LcapitalLoss + child + mariStat:hoursWeek + mariStat:age + \n",
      "    mariStat:LcapitalGain\n",
      "\n",
      "                         Df Deviance    AIC\n",
      "+ educNum:occup           6   4559.9 4621.9\n",
      "+ mariStat:occup         18   4536.2 4622.2\n",
      "+ origEthn                1   4571.5 4623.5\n",
      "+ child:LcapitalLoss      1   4573.8 4625.8\n",
      "+ age:occup               6   4563.9 4625.9\n",
      "+ child:LcapitalGain      1   4574.7 4626.7\n",
      "<none>                        4576.7 4626.7\n",
      "+ age:educNum             1   4574.9 4626.9\n",
      "+ educNum:LcapitalGain    1   4575.1 4627.1\n",
      "+ educNum:LcapitalLoss    1   4575.3 4627.3\n",
      "+ hoursWeek:LcapitalGain  1   4575.4 4627.4\n",
      "+ occup:hoursWeek         6   4565.5 4627.5\n",
      "+ hoursWeek:child         1   4575.9 4627.9\n",
      "+ age:child               1   4576.1 4628.1\n",
      "+ occup:LcapitalLoss      6   4566.2 4628.2\n",
      "+ age:LcapitalGain        1   4576.3 4628.3\n",
      "+ educNum:mariStat        3   4572.3 4628.3\n",
      "+ age:hoursWeek           1   4576.4 4628.4\n",
      "+ age:LcapitalLoss        1   4576.6 4628.6\n",
      "+ educNum:hoursWeek       1   4576.6 4628.6\n",
      "+ hoursWeek:LcapitalLoss  1   4576.7 4628.7\n",
      "+ educNum:child           1   4576.7 4628.7\n",
      "+ mariStat:LcapitalLoss   3   4573.8 4629.8\n",
      "+ mariStat:child          3   4574.7 4630.7\n",
      "+ occup:child             6   4569.5 4631.5\n",
      "+ occup:LcapitalGain      6   4570.2 4632.2\n",
      "- mariStat:LcapitalGain   3   4591.3 4635.3\n",
      "- child                   1   4589.6 4637.6\n",
      "- mariStat:age            3   4596.5 4640.5\n",
      "- mariStat:hoursWeek      3   4609.8 4653.8\n",
      "- LcapitalLoss            1   4626.1 4674.1\n",
      "- occup                   6   4696.0 4734.0\n",
      "- educNum                 1   4826.0 4874.0\n",
      "\n",
      "Step:  AIC=4621.86\n",
      "income ~ mariStat + educNum + LcapitalGain + occup + hoursWeek + \n",
      "    age + LcapitalLoss + child + mariStat:hoursWeek + mariStat:age + \n",
      "    mariStat:LcapitalGain + educNum:occup\n",
      "\n",
      "                         Df Deviance    AIC\n",
      "+ origEthn                1   4555.0 4619.0\n",
      "+ age:occup               6   4546.7 4620.7\n",
      "+ child:LcapitalLoss      1   4556.9 4620.9\n",
      "+ mariStat:occup         18   4523.6 4621.6\n",
      "+ child:LcapitalGain      1   4557.8 4621.8\n",
      "<none>                        4559.9 4621.9\n",
      "+ hoursWeek:LcapitalGain  1   4558.4 4622.4\n",
      "+ educNum:LcapitalLoss    1   4558.5 4622.5\n",
      "+ age:educNum             1   4558.6 4622.6\n",
      "+ educNum:LcapitalGain    1   4558.8 4622.8\n",
      "+ hoursWeek:child         1   4559.0 4623.0\n",
      "+ age:child               1   4559.2 4623.2\n",
      "+ age:LcapitalGain        1   4559.4 4623.4\n",
      "+ educNum:hoursWeek       1   4559.6 4623.6\n",
      "+ age:hoursWeek           1   4559.6 4623.6\n",
      "+ occup:LcapitalLoss      6   4549.7 4623.7\n",
      "+ educNum:mariStat        3   4555.7 4623.7\n",
      "+ age:LcapitalLoss        1   4559.7 4623.7\n",
      "+ hoursWeek:LcapitalLoss  1   4559.7 4623.7\n",
      "+ educNum:child           1   4559.9 4623.9\n",
      "+ occup:hoursWeek         6   4550.3 4624.3\n",
      "+ mariStat:LcapitalLoss   3   4556.9 4624.9\n",
      "+ mariStat:child          3   4557.6 4625.6\n",
      "+ occup:child             6   4552.7 4626.7\n",
      "- educNum:occup           6   4576.7 4626.7\n",
      "+ occup:LcapitalGain      6   4553.7 4627.7\n",
      "- mariStat:LcapitalGain   3   4575.2 4631.2\n",
      "- child                   1   4572.4 4632.4\n",
      "- mariStat:age            3   4579.6 4635.6\n",
      "- mariStat:hoursWeek      3   4592.6 4648.6\n",
      "- LcapitalLoss            1   4606.9 4666.9\n",
      "\n",
      "Step:  AIC=4619.05\n",
      "income ~ mariStat + educNum + LcapitalGain + occup + hoursWeek + \n",
      "    age + LcapitalLoss + child + origEthn + mariStat:hoursWeek + \n",
      "    mariStat:age + mariStat:LcapitalGain + educNum:occup\n",
      "\n",
      "                         Df Deviance    AIC\n",
      "+ origEthn:hoursWeek      1   4551.9 4617.9\n",
      "+ age:occup               6   4542.0 4618.0\n",
      "+ origEthn:LcapitalLoss   1   4552.1 4618.1\n",
      "+ child:LcapitalLoss      1   4552.2 4618.2\n",
      "+ educNum:origEthn        1   4552.6 4618.6\n",
      "<none>                        4555.0 4619.0\n",
      "+ mariStat:occup         18   4519.1 4619.1\n",
      "+ child:LcapitalGain      1   4553.2 4619.2\n",
      "+ educNum:LcapitalLoss    1   4553.8 4619.8\n",
      "+ age:educNum             1   4553.8 4619.8\n",
      "+ hoursWeek:LcapitalGain  1   4553.8 4619.8\n",
      "+ educNum:LcapitalGain    1   4553.9 4619.9\n",
      "+ hoursWeek:child         1   4554.1 4620.1\n",
      "+ age:origEthn            1   4554.1 4620.1\n",
      "+ age:child               1   4554.4 4620.4\n",
      "+ age:LcapitalGain        1   4554.6 4620.6\n",
      "+ origEthn:LcapitalGain   1   4554.6 4620.6\n",
      "+ educNum:hoursWeek       1   4554.8 4620.8\n",
      "+ age:hoursWeek           1   4554.9 4620.9\n",
      "+ age:LcapitalLoss        1   4554.9 4620.9\n",
      "+ hoursWeek:LcapitalLoss  1   4554.9 4620.9\n",
      "+ origEthn:child          1   4555.0 4621.0\n",
      "+ educNum:child           1   4555.0 4621.0\n",
      "+ occup:hoursWeek         6   4545.2 4621.2\n",
      "+ occup:LcapitalLoss      6   4545.2 4621.2\n",
      "+ educNum:mariStat        3   4551.3 4621.3\n",
      "- origEthn                1   4559.9 4621.9\n",
      "+ mariStat:origEthn       3   4551.9 4621.9\n",
      "+ mariStat:LcapitalLoss   3   4552.1 4622.1\n",
      "+ mariStat:child          3   4553.0 4623.0\n",
      "- educNum:occup           6   4571.5 4623.5\n",
      "+ occup:child             6   4548.1 4624.1\n",
      "+ occup:LcapitalGain      6   4548.9 4624.9\n",
      "+ occup:origEthn          6   4550.2 4626.2\n",
      "- mariStat:LcapitalGain   3   4570.7 4628.7\n",
      "- child                   1   4567.3 4629.3\n",
      "- mariStat:age            3   4575.3 4633.3\n",
      "- mariStat:hoursWeek      3   4586.8 4644.8\n",
      "- LcapitalLoss            1   4601.7 4663.7\n",
      "\n",
      "Step:  AIC=4617.94\n",
      "income ~ mariStat + educNum + LcapitalGain + occup + hoursWeek + \n",
      "    age + LcapitalLoss + child + origEthn + mariStat:hoursWeek + \n",
      "    mariStat:age + mariStat:LcapitalGain + educNum:occup + hoursWeek:origEthn\n",
      "\n",
      "                         Df Deviance    AIC\n",
      "+ age:occup               6   4538.5 4616.5\n",
      "+ child:LcapitalLoss      1   4549.1 4617.1\n",
      "+ origEthn:LcapitalLoss   1   4549.3 4617.3\n",
      "+ educNum:origEthn        1   4549.9 4617.9\n",
      "<none>                        4551.9 4617.9\n",
      "+ mariStat:occup         18   4516.0 4618.0\n",
      "+ child:LcapitalGain      1   4550.0 4618.0\n",
      "+ hoursWeek:LcapitalGain  1   4550.5 4618.5\n",
      "+ educNum:LcapitalLoss    1   4550.6 4618.6\n",
      "+ age:educNum             1   4550.6 4618.6\n",
      "+ educNum:LcapitalGain    1   4550.8 4618.8\n",
      "- hoursWeek:origEthn      1   4555.0 4619.0\n",
      "+ age:origEthn            1   4551.1 4619.1\n",
      "+ hoursWeek:child         1   4551.1 4619.1\n",
      "+ age:child               1   4551.3 4619.3\n",
      "+ age:LcapitalGain        1   4551.5 4619.5\n",
      "+ origEthn:LcapitalGain   1   4551.6 4619.6\n",
      "+ age:LcapitalLoss        1   4551.8 4619.8\n",
      "+ age:hoursWeek           1   4551.8 4619.8\n",
      "+ hoursWeek:LcapitalLoss  1   4551.8 4619.8\n",
      "+ educNum:hoursWeek       1   4551.9 4619.9\n",
      "+ origEthn:child          1   4551.9 4619.9\n",
      "+ educNum:child           1   4551.9 4619.9\n",
      "+ educNum:mariStat        3   4548.0 4620.0\n",
      "+ occup:LcapitalLoss      6   4542.1 4620.1\n",
      "+ occup:hoursWeek         6   4542.7 4620.7\n",
      "+ mariStat:LcapitalLoss   3   4549.0 4621.0\n",
      "+ mariStat:origEthn       3   4549.6 4621.6\n",
      "+ mariStat:child          3   4550.0 4622.0\n",
      "- educNum:occup           6   4568.7 4622.7\n",
      "+ occup:child             6   4545.1 4623.1\n",
      "+ occup:LcapitalGain      6   4545.5 4623.5\n",
      "+ occup:origEthn          6   4547.0 4625.0\n",
      "- mariStat:LcapitalGain   3   4567.3 4627.3\n",
      "- child                   1   4564.4 4628.4\n",
      "- mariStat:age            3   4572.3 4632.3\n",
      "- mariStat:hoursWeek      3   4582.9 4642.9\n",
      "- LcapitalLoss            1   4599.0 4663.0\n",
      "\n",
      "Step:  AIC=4616.51\n",
      "income ~ mariStat + educNum + LcapitalGain + occup + hoursWeek + \n",
      "    age + LcapitalLoss + child + origEthn + mariStat:hoursWeek + \n",
      "    mariStat:age + mariStat:LcapitalGain + educNum:occup + hoursWeek:origEthn + \n",
      "    occup:age\n",
      "\n",
      "                         Df Deviance    AIC\n",
      "+ mariStat:occup         18   4497.9 4611.9\n",
      "+ child:LcapitalLoss      1   4535.6 4615.6\n",
      "+ origEthn:LcapitalLoss   1   4536.2 4616.2\n",
      "<none>                        4538.5 4616.5\n",
      "+ child:LcapitalGain      1   4536.6 4616.6\n",
      "+ educNum:origEthn        1   4536.8 4616.8\n",
      "+ educNum:LcapitalLoss    1   4537.3 4617.3\n",
      "+ hoursWeek:LcapitalGain  1   4537.4 4617.4\n",
      "+ age:origEthn            1   4537.6 4617.6\n",
      "+ educNum:LcapitalGain    1   4537.6 4617.6\n",
      "+ hoursWeek:child         1   4537.9 4617.9\n",
      "- occup:age               6   4551.9 4617.9\n",
      "+ age:child               1   4538.0 4618.0\n",
      "- hoursWeek:origEthn      1   4542.0 4618.0\n",
      "+ origEthn:LcapitalGain   1   4538.2 4618.2\n",
      "+ age:LcapitalGain        1   4538.2 4618.2\n",
      "+ occup:hoursWeek         6   4528.3 4618.3\n",
      "+ age:LcapitalLoss        1   4538.3 4618.3\n",
      "+ age:hoursWeek           1   4538.4 4618.4\n",
      "+ educNum:hoursWeek       1   4538.4 4618.4\n",
      "+ hoursWeek:LcapitalLoss  1   4538.4 4618.4\n",
      "+ educNum:child           1   4538.5 4618.5\n",
      "+ origEthn:child          1   4538.5 4618.5\n",
      "+ age:educNum             1   4538.5 4618.5\n",
      "+ occup:LcapitalLoss      6   4529.0 4619.0\n",
      "+ mariStat:LcapitalLoss   3   4535.1 4619.1\n",
      "+ educNum:mariStat        3   4535.2 4619.2\n",
      "+ mariStat:origEthn       3   4536.1 4620.1\n",
      "+ mariStat:child          3   4536.5 4620.5\n",
      "- educNum:occup           6   4555.6 4621.6\n",
      "+ occup:child             6   4531.9 4621.9\n",
      "+ occup:LcapitalGain      6   4532.5 4622.5\n",
      "+ occup:origEthn          6   4534.0 4624.0\n",
      "- mariStat:LcapitalGain   3   4553.5 4625.5\n",
      "- child                   1   4550.2 4626.2\n",
      "- mariStat:age            3   4562.4 4634.4\n",
      "- mariStat:hoursWeek      3   4570.1 4642.1\n",
      "- LcapitalLoss            1   4585.8 4661.8\n",
      "\n",
      "Step:  AIC=4611.92\n",
      "income ~ mariStat + educNum + LcapitalGain + occup + hoursWeek + \n",
      "    age + LcapitalLoss + child + origEthn + mariStat:hoursWeek + \n",
      "    mariStat:age + mariStat:LcapitalGain + educNum:occup + hoursWeek:origEthn + \n",
      "    occup:age + mariStat:occup\n",
      "\n",
      "                         Df Deviance    AIC\n",
      "+ child:LcapitalLoss      1   4494.3 4610.3\n",
      "- educNum:occup           6   4509.5 4611.5\n",
      "+ origEthn:LcapitalLoss   1   4495.9 4611.9\n",
      "<none>                        4497.9 4611.9\n",
      "+ child:LcapitalGain      1   4495.9 4611.9\n",
      "+ educNum:origEthn        1   4496.2 4612.2\n",
      "+ hoursWeek:LcapitalGain  1   4496.6 4612.6\n",
      "+ educNum:LcapitalLoss    1   4496.6 4612.6\n",
      "+ age:origEthn            1   4496.7 4612.7\n",
      "+ educNum:LcapitalGain    1   4497.0 4613.0\n",
      "+ hoursWeek:child         1   4497.1 4613.1\n",
      "+ age:child               1   4497.3 4613.3\n",
      "- hoursWeek:origEthn      1   4501.4 4613.4\n",
      "+ origEthn:LcapitalGain   1   4497.5 4613.5\n",
      "+ age:LcapitalGain        1   4497.7 4613.7\n",
      "+ occup:hoursWeek         6   4487.7 4613.7\n",
      "+ educNum:hoursWeek       1   4497.7 4613.7\n",
      "+ age:LcapitalLoss        1   4497.7 4613.7\n",
      "+ age:hoursWeek           1   4497.9 4613.9\n",
      "+ educNum:child           1   4497.9 4613.9\n",
      "+ hoursWeek:LcapitalLoss  1   4497.9 4613.9\n",
      "+ origEthn:child          1   4497.9 4613.9\n",
      "+ educNum:mariStat        3   4493.9 4613.9\n",
      "+ age:educNum             1   4497.9 4613.9\n",
      "+ occup:LcapitalLoss      6   4488.6 4614.6\n",
      "+ mariStat:LcapitalLoss   3   4495.1 4615.1\n",
      "+ mariStat:origEthn       3   4495.1 4615.1\n",
      "+ mariStat:child          3   4495.5 4615.5\n",
      "+ occup:LcapitalGain      6   4490.2 4616.2\n",
      "- mariStat:occup         18   4538.5 4616.5\n",
      "+ occup:child             6   4491.5 4617.5\n",
      "- occup:age               6   4516.0 4618.0\n",
      "+ occup:origEthn          6   4493.5 4619.5\n",
      "- child                   1   4508.5 4620.5\n",
      "- mariStat:LcapitalGain   3   4512.7 4620.7\n",
      "- mariStat:age            3   4524.2 4632.2\n",
      "- mariStat:hoursWeek      3   4528.0 4636.0\n",
      "- LcapitalLoss            1   4543.9 4655.9\n",
      "\n",
      "Step:  AIC=4610.29\n",
      "income ~ mariStat + educNum + LcapitalGain + occup + hoursWeek + \n",
      "    age + LcapitalLoss + child + origEthn + mariStat:hoursWeek + \n",
      "    mariStat:age + mariStat:LcapitalGain + educNum:occup + hoursWeek:origEthn + \n",
      "    occup:age + mariStat:occup + LcapitalLoss:child\n",
      "\n",
      "                         Df Deviance    AIC\n",
      "+ child:LcapitalGain      1   4491.4 4609.4\n",
      "- educNum:occup           6   4505.9 4609.9\n",
      "<none>                        4494.3 4610.3\n",
      "+ origEthn:LcapitalLoss   1   4492.5 4610.5\n",
      "+ educNum:origEthn        1   4492.6 4610.6\n",
      "+ hoursWeek:LcapitalGain  1   4492.9 4610.9\n",
      "+ age:origEthn            1   4493.1 4611.1\n",
      "+ educNum:LcapitalLoss    1   4493.2 4611.2\n",
      "+ educNum:LcapitalGain    1   4493.4 4611.4\n",
      "+ age:child               1   4493.6 4611.6\n",
      "+ hoursWeek:child         1   4493.7 4611.7\n",
      "+ age:LcapitalLoss        1   4493.7 4611.7\n",
      "- hoursWeek:origEthn      1   4497.8 4611.8\n",
      "+ origEthn:LcapitalGain   1   4493.9 4611.9\n",
      "- LcapitalLoss:child      1   4497.9 4611.9\n",
      "+ age:LcapitalGain        1   4494.0 4612.0\n",
      "+ educNum:hoursWeek       1   4494.1 4612.1\n",
      "+ occup:hoursWeek         6   4484.1 4612.1\n",
      "+ age:hoursWeek           1   4494.2 4612.2\n",
      "+ hoursWeek:LcapitalLoss  1   4494.2 4612.2\n",
      "+ educNum:child           1   4494.2 4612.2\n",
      "+ educNum:mariStat        3   4490.3 4612.3\n",
      "+ age:educNum             1   4494.3 4612.3\n",
      "+ origEthn:child          1   4494.3 4612.3\n",
      "+ occup:LcapitalLoss      6   4485.4 4613.4\n",
      "+ mariStat:origEthn       3   4491.5 4613.5\n",
      "+ mariStat:LcapitalLoss   3   4491.6 4613.6\n",
      "+ mariStat:child          3   4491.9 4613.9\n",
      "+ occup:LcapitalGain      6   4486.5 4614.5\n",
      "- mariStat:occup         18   4535.6 4615.6\n",
      "+ occup:child             6   4488.2 4616.2\n",
      "- occup:age               6   4512.4 4616.4\n",
      "+ occup:origEthn          6   4490.0 4618.0\n",
      "- mariStat:LcapitalGain   3   4509.2 4619.2\n",
      "- mariStat:age            3   4521.1 4631.1\n",
      "- mariStat:hoursWeek      3   4524.4 4634.4\n",
      "\n",
      "Step:  AIC=4609.41\n",
      "income ~ mariStat + educNum + LcapitalGain + occup + hoursWeek + \n",
      "    age + LcapitalLoss + child + origEthn + mariStat:hoursWeek + \n",
      "    mariStat:age + mariStat:LcapitalGain + educNum:occup + hoursWeek:origEthn + \n",
      "    occup:age + mariStat:occup + LcapitalLoss:child + LcapitalGain:child\n",
      "\n",
      "                         Df Deviance    AIC\n",
      "- educNum:occup           6   4503.1 4609.1\n",
      "<none>                        4491.4 4609.4\n",
      "+ origEthn:LcapitalLoss   1   4489.6 4609.6\n",
      "+ educNum:origEthn        1   4489.7 4609.7\n",
      "+ age:origEthn            1   4490.3 4610.3\n",
      "+ hoursWeek:LcapitalGain  1   4490.3 4610.3\n",
      "- LcapitalGain:child      1   4494.3 4610.3\n",
      "+ educNum:LcapitalLoss    1   4490.3 4610.3\n",
      "+ age:child               1   4490.3 4610.3\n",
      "+ educNum:LcapitalGain    1   4490.5 4610.5\n",
      "+ hoursWeek:child         1   4490.7 4610.7\n",
      "+ age:LcapitalLoss        1   4490.8 4610.8\n",
      "+ origEthn:LcapitalGain   1   4490.9 4610.9\n",
      "+ occup:hoursWeek         6   4481.1 4611.1\n",
      "- hoursWeek:origEthn      1   4495.1 4611.1\n",
      "+ educNum:hoursWeek       1   4491.2 4611.2\n",
      "+ origEthn:child          1   4491.3 4611.3\n",
      "+ educNum:child           1   4491.3 4611.3\n",
      "+ age:LcapitalGain        1   4491.3 4611.3\n",
      "+ age:hoursWeek           1   4491.3 4611.3\n",
      "+ hoursWeek:LcapitalLoss  1   4491.4 4611.4\n",
      "+ age:educNum             1   4491.4 4611.4\n",
      "+ educNum:mariStat        3   4487.4 4611.4\n",
      "- LcapitalLoss:child      1   4495.9 4611.9\n",
      "+ occup:LcapitalLoss      6   4482.5 4612.5\n",
      "+ mariStat:origEthn       3   4488.6 4612.6\n",
      "+ mariStat:LcapitalLoss   3   4488.8 4612.8\n",
      "+ mariStat:child          3   4489.2 4613.2\n",
      "+ occup:LcapitalGain      6   4484.0 4614.0\n",
      "+ occup:child             6   4484.4 4614.4\n",
      "- mariStat:occup         18   4532.8 4614.8\n",
      "- occup:age               6   4509.4 4615.4\n",
      "+ occup:origEthn          6   4487.1 4617.1\n",
      "- mariStat:LcapitalGain   3   4505.2 4617.2\n",
      "- mariStat:age            3   4518.0 4630.0\n",
      "- mariStat:hoursWeek      3   4521.4 4633.4\n",
      "\n",
      "Step:  AIC=4609.1\n",
      "income ~ mariStat + educNum + LcapitalGain + occup + hoursWeek + \n",
      "    age + LcapitalLoss + child + origEthn + mariStat:hoursWeek + \n",
      "    mariStat:age + mariStat:LcapitalGain + hoursWeek:origEthn + \n",
      "    occup:age + mariStat:occup + LcapitalLoss:child + LcapitalGain:child\n",
      "\n",
      "                         Df Deviance    AIC\n",
      "<none>                        4503.1 4609.1\n",
      "+ origEthn:LcapitalLoss   1   4501.3 4609.3\n",
      "+ educNum:occup           6   4491.4 4609.4\n",
      "+ educNum:LcapitalGain    1   4501.7 4609.7\n",
      "+ occup:hoursWeek         6   4491.7 4609.7\n",
      "- LcapitalGain:child      1   4505.9 4609.9\n",
      "+ educNum:LcapitalLoss    1   4502.0 4610.0\n",
      "+ hoursWeek:LcapitalGain  1   4502.0 4610.0\n",
      "+ educNum:origEthn        1   4502.1 4610.1\n",
      "+ age:child               1   4502.1 4610.1\n",
      "+ age:origEthn            1   4502.1 4610.1\n",
      "+ hoursWeek:child         1   4502.4 4610.4\n",
      "+ age:LcapitalLoss        1   4502.5 4610.5\n",
      "+ origEthn:LcapitalGain   1   4502.6 4610.6\n",
      "- hoursWeek:origEthn      1   4506.6 4610.6\n",
      "+ educNum:hoursWeek       1   4503.0 4611.0\n",
      "+ origEthn:child          1   4503.0 4611.0\n",
      "+ age:LcapitalGain        1   4503.0 4611.0\n",
      "+ age:hoursWeek           1   4503.0 4611.0\n",
      "+ educNum:mariStat        3   4499.1 4611.1\n",
      "+ educNum:child           1   4503.1 4611.1\n",
      "+ age:educNum             1   4503.1 4611.1\n",
      "+ hoursWeek:LcapitalLoss  1   4503.1 4611.1\n",
      "- LcapitalLoss:child      1   4507.5 4611.5\n",
      "+ occup:LcapitalLoss      6   4494.2 4612.2\n",
      "+ mariStat:origEthn       3   4500.3 4612.3\n",
      "+ mariStat:LcapitalLoss   3   4500.6 4612.6\n",
      "+ mariStat:child          3   4501.1 4613.1\n",
      "+ occup:LcapitalGain      6   4495.5 4613.5\n",
      "+ occup:child             6   4495.9 4613.9\n",
      "- occup:age               6   4522.1 4616.1\n",
      "+ occup:origEthn          6   4498.6 4616.6\n",
      "- mariStat:LcapitalGain   3   4516.6 4616.6\n",
      "- mariStat:occup         18   4550.1 4620.1\n",
      "- mariStat:age            3   4530.1 4630.1\n",
      "- mariStat:hoursWeek      3   4532.3 4632.3\n",
      "- educNum                 1   4741.5 4845.5\n"
     ]
    }
   ],
   "source": [
    "# régression avec le modèle minimum\n",
    "reg.logQF=glm(income~1,data=datAppF[,-6],family=binomial)\n",
    "# algorithme stepwise en précisant le plus grand modèle possible\n",
    "reg.logQF.step=step(reg.logQF,direction=\"both\",\n",
    "  scope=list(lower=~1,upper=~(age+educNum+mariStat+occup+origEthn+hoursWeek+child+LcapitalGain+LcapitalLoss)^2), family=binomial)"
   ]
  },
  {
   "cell_type": "code",
   "execution_count": 60,
   "metadata": {},
   "outputs": [
    {
     "data": {
      "text/plain": [
       "\n",
       "Call:\n",
       "glm(formula = income ~ mariStat + educNum + LcapitalGain + occup + \n",
       "    hoursWeek + age + LcapitalLoss + child + origEthn + mariStat:hoursWeek + \n",
       "    mariStat:age + mariStat:LcapitalGain + hoursWeek:origEthn + \n",
       "    occup:age + mariStat:occup + LcapitalLoss:child + LcapitalGain:child, \n",
       "    family = binomial, data = datAppF[, -6])\n",
       "\n",
       "Deviance Residuals: \n",
       "    Min       1Q   Median       3Q      Max  \n",
       "-2.4310  -0.3062  -0.1427  -0.0590   3.3498  \n",
       "\n",
       "Coefficients:\n",
       "                                         Estimate Std. Error z value Pr(>|z|)\n",
       "(Intercept)                             -6.368830   0.595985 -10.686  < 2e-16\n",
       "mariStatNever-Married                   -7.388806   0.622015 -11.879  < 2e-16\n",
       "mariStatNot-Married                     -4.994180   0.621426  -8.037 9.23e-16\n",
       "mariStatWidowed                         -4.378845   1.249923  -3.503 0.000460\n",
       "educNum                                  0.327435   0.022388  14.625  < 2e-16\n",
       "LcapitalGain                             0.173604   0.022794   7.616 2.61e-14\n",
       "occupBlue-Collar                        -0.534910   0.655111  -0.817 0.414204\n",
       "occupOther-occups                        0.316982   0.769096   0.412 0.680231\n",
       "occupProfessional                        1.784662   0.464713   3.840 0.000123\n",
       "occupSales                              -0.251435   0.553283  -0.454 0.649510\n",
       "occupService                             0.406422   0.588455   0.691 0.489779\n",
       "occupWhite-Collar                        0.972832   0.470780   2.066 0.038788\n",
       "hoursWeek                                0.027096   0.010284   2.635 0.008419\n",
       "age                                      0.036814   0.007949   4.632 3.63e-06\n",
       "LcapitalLoss                             0.140027   0.021443   6.530 6.57e-11\n",
       "childChildYes                           -0.975426   0.274272  -3.556 0.000376\n",
       "origEthnCaucYes                          0.992986   0.430148   2.308 0.020973\n",
       "mariStatNever-Married:hoursWeek          0.044443   0.009320   4.769 1.85e-06\n",
       "mariStatNot-Married:hoursWeek            0.027013   0.008383   3.222 0.001272\n",
       "mariStatWidowed:hoursWeek                0.042065   0.014462   2.909 0.003629\n",
       "mariStatNever-Married:age                0.041995   0.009293   4.519 6.22e-06\n",
       "mariStatNot-Married:age                 -0.003648   0.009479  -0.385 0.700309\n",
       "mariStatWidowed:age                     -0.017764   0.016344  -1.087 0.277093\n",
       "mariStatNever-Married:LcapitalGain       0.120579   0.033841   3.563 0.000366\n",
       "mariStatNot-Married:LcapitalGain         0.085924   0.032124   2.675 0.007478\n",
       "mariStatWidowed:LcapitalGain             0.049464   0.056863   0.870 0.384363\n",
       "hoursWeek:origEthnCaucYes               -0.018721   0.010008  -1.871 0.061386\n",
       "occupBlue-Collar:age                    -0.001194   0.015253  -0.078 0.937622\n",
       "occupOther-occups:age                   -0.002013   0.019113  -0.105 0.916105\n",
       "occupProfessional:age                   -0.037705   0.010788  -3.495 0.000474\n",
       "occupSales:age                          -0.006617   0.012740  -0.519 0.603477\n",
       "occupService:age                        -0.039348   0.014314  -2.749 0.005981\n",
       "occupWhite-Collar:age                   -0.015652   0.011005  -1.422 0.154949\n",
       "mariStatNever-Married:occupBlue-Collar   0.452591   0.618535   0.732 0.464343\n",
       "mariStatNot-Married:occupBlue-Collar     1.318935   0.438243   3.010 0.002616\n",
       "mariStatWidowed:occupBlue-Collar         0.146253   0.911730   0.160 0.872556\n",
       "mariStatNever-Married:occupOther-occups  1.302638   0.469504   2.774 0.005529\n",
       "mariStatNot-Married:occupOther-occups   -0.059306   0.577763  -0.103 0.918243\n",
       "mariStatWidowed:occupOther-occups        0.357626   1.011058   0.354 0.723553\n",
       "mariStatNever-Married:occupProfessional  0.638192   0.329982   1.934 0.053111\n",
       "mariStatNot-Married:occupProfessional    0.993544   0.323348   3.073 0.002121\n",
       "mariStatWidowed:occupProfessional        1.171754   0.594133   1.972 0.048586\n",
       "mariStatNever-Married:occupSales         1.280059   0.436148   2.935 0.003336\n",
       "mariStatNot-Married:occupSales           1.514267   0.399580   3.790 0.000151\n",
       "mariStatWidowed:occupSales               1.519849   0.676218   2.248 0.024603\n",
       "mariStatNever-Married:occupService       0.528876   0.571065   0.926 0.354383\n",
       "mariStatNot-Married:occupService         1.089738   0.479405   2.273 0.023020\n",
       "mariStatWidowed:occupService             2.015482   0.721442   2.794 0.005211\n",
       "mariStatNever-Married:occupWhite-Collar  0.856536   0.352517   2.430 0.015108\n",
       "mariStatNot-Married:occupWhite-Collar    1.318659   0.333436   3.955 7.66e-05\n",
       "mariStatWidowed:occupWhite-Collar        0.760372   0.621755   1.223 0.221351\n",
       "LcapitalLoss:childChildYes               0.224765   0.097888   2.296 0.021668\n",
       "LcapitalGain:childChildYes               0.101953   0.060504   1.685 0.091974\n",
       "                                           \n",
       "(Intercept)                             ***\n",
       "mariStatNever-Married                   ***\n",
       "mariStatNot-Married                     ***\n",
       "mariStatWidowed                         ***\n",
       "educNum                                 ***\n",
       "LcapitalGain                            ***\n",
       "occupBlue-Collar                           \n",
       "occupOther-occups                          \n",
       "occupProfessional                       ***\n",
       "occupSales                                 \n",
       "occupService                               \n",
       "occupWhite-Collar                       *  \n",
       "hoursWeek                               ** \n",
       "age                                     ***\n",
       "LcapitalLoss                            ***\n",
       "childChildYes                           ***\n",
       "origEthnCaucYes                         *  \n",
       "mariStatNever-Married:hoursWeek         ***\n",
       "mariStatNot-Married:hoursWeek           ** \n",
       "mariStatWidowed:hoursWeek               ** \n",
       "mariStatNever-Married:age               ***\n",
       "mariStatNot-Married:age                    \n",
       "mariStatWidowed:age                        \n",
       "mariStatNever-Married:LcapitalGain      ***\n",
       "mariStatNot-Married:LcapitalGain        ** \n",
       "mariStatWidowed:LcapitalGain               \n",
       "hoursWeek:origEthnCaucYes               .  \n",
       "occupBlue-Collar:age                       \n",
       "occupOther-occups:age                      \n",
       "occupProfessional:age                   ***\n",
       "occupSales:age                             \n",
       "occupService:age                        ** \n",
       "occupWhite-Collar:age                      \n",
       "mariStatNever-Married:occupBlue-Collar     \n",
       "mariStatNot-Married:occupBlue-Collar    ** \n",
       "mariStatWidowed:occupBlue-Collar           \n",
       "mariStatNever-Married:occupOther-occups ** \n",
       "mariStatNot-Married:occupOther-occups      \n",
       "mariStatWidowed:occupOther-occups          \n",
       "mariStatNever-Married:occupProfessional .  \n",
       "mariStatNot-Married:occupProfessional   ** \n",
       "mariStatWidowed:occupProfessional       *  \n",
       "mariStatNever-Married:occupSales        ** \n",
       "mariStatNot-Married:occupSales          ***\n",
       "mariStatWidowed:occupSales              *  \n",
       "mariStatNever-Married:occupService         \n",
       "mariStatNot-Married:occupService        *  \n",
       "mariStatWidowed:occupService            ** \n",
       "mariStatNever-Married:occupWhite-Collar *  \n",
       "mariStatNot-Married:occupWhite-Collar   ***\n",
       "mariStatWidowed:occupWhite-Collar          \n",
       "LcapitalLoss:childChildYes              *  \n",
       "LcapitalGain:childChildYes              .  \n",
       "---\n",
       "Signif. codes:  0 ‘***’ 0.001 ‘**’ 0.01 ‘*’ 0.05 ‘.’ 0.1 ‘ ’ 1\n",
       "\n",
       "(Dispersion parameter for binomial family taken to be 1)\n",
       "\n",
       "    Null deviance: 8214.2  on 11552  degrees of freedom\n",
       "Residual deviance: 4503.1  on 11500  degrees of freedom\n",
       "AIC: 4609.1\n",
       "\n",
       "Number of Fisher Scoring iterations: 8\n"
      ]
     },
     "metadata": {},
     "output_type": "display_data"
    }
   ],
   "source": [
    "summary(reg.logQF.step)"
   ]
  },
  {
   "cell_type": "code",
   "execution_count": 61,
   "metadata": {},
   "outputs": [
    {
     "name": "stdout",
     "output_type": "stream",
     "text": [
      "Start:  AIC=30166.98\n",
      "income ~ 1\n",
      "\n",
      "               Df Deviance   AIC\n",
      "+ mariStat      3    25911 25919\n",
      "+ educNum       1    26688 26692\n",
      "+ occup         6    26792 26806\n",
      "+ child         1    28370 28374\n",
      "+ LcapitalGain  1    28452 28456\n",
      "+ age           1    28527 28531\n",
      "+ hoursWeek     1    29159 29163\n",
      "+ LcapitalLoss  1    29752 29756\n",
      "+ origEthn      1    30027 30031\n",
      "<none>               30165 30167\n",
      "\n",
      "Step:  AIC=25919.12\n",
      "income ~ mariStat\n",
      "\n",
      "               Df Deviance   AIC\n",
      "+ educNum       1    22586 22596\n",
      "+ occup         6    23088 23108\n",
      "+ LcapitalGain  1    24524 24534\n",
      "+ hoursWeek     1    25374 25384\n",
      "+ age           1    25588 25598\n",
      "+ LcapitalLoss  1    25607 25617\n",
      "+ child         1    25696 25706\n",
      "+ origEthn      1    25865 25875\n",
      "<none>               25911 25919\n",
      "- mariStat      3    30165 30167\n",
      "\n",
      "Step:  AIC=22596.37\n",
      "income ~ mariStat + educNum\n",
      "\n",
      "                   Df Deviance   AIC\n",
      "+ LcapitalGain      1    21533 21545\n",
      "+ occup             6    21865 21887\n",
      "+ hoursWeek         1    22238 22250\n",
      "+ age               1    22250 22262\n",
      "+ LcapitalLoss      1    22387 22399\n",
      "+ child             1    22453 22465\n",
      "+ origEthn          1    22557 22569\n",
      "+ educNum:mariStat  3    22559 22575\n",
      "<none>                   22586 22596\n",
      "- educNum           1    25911 25919\n",
      "- mariStat          3    26688 26692\n",
      "\n",
      "Step:  AIC=21544.71\n",
      "income ~ mariStat + educNum + LcapitalGain\n",
      "\n",
      "                        Df Deviance   AIC\n",
      "+ occup                  6    20881 20905\n",
      "+ hoursWeek              1    21211 21225\n",
      "+ LcapitalLoss           1    21234 21248\n",
      "+ age                    1    21272 21286\n",
      "+ child                  1    21417 21431\n",
      "+ mariStat:LcapitalGain  3    21472 21490\n",
      "+ origEthn               1    21506 21520\n",
      "+ educNum:mariStat       3    21515 21533\n",
      "<none>                        21533 21545\n",
      "+ educNum:LcapitalGain   1    21532 21546\n",
      "- LcapitalGain           1    22586 22596\n",
      "- educNum                1    24524 24534\n",
      "- mariStat               3    25382 25388\n",
      "\n",
      "Step:  AIC=20905.43\n",
      "income ~ mariStat + educNum + LcapitalGain + occup\n",
      "\n",
      "                        Df Deviance   AIC\n",
      "+ hoursWeek              1    20611 20637\n",
      "+ LcapitalLoss           1    20612 20638\n",
      "+ age                    1    20678 20704\n",
      "+ child                  1    20780 20806\n",
      "+ mariStat:LcapitalGain  3    20826 20856\n",
      "+ origEthn               1    20867 20893\n",
      "+ educNum:occup          6    20859 20895\n",
      "+ educNum:mariStat       3    20869 20899\n",
      "<none>                        20881 20905\n",
      "+ educNum:LcapitalGain   1    20881 20907\n",
      "+ occup:LcapitalGain     6    20873 20909\n",
      "+ mariStat:occup        18    20850 20910\n",
      "- occup                  6    21533 21545\n",
      "- LcapitalGain           1    21865 21887\n",
      "- educNum                1    22000 22022\n",
      "- mariStat               3    24425 24443\n",
      "\n",
      "Step:  AIC=20636.88\n",
      "income ~ mariStat + educNum + LcapitalGain + occup + hoursWeek\n",
      "\n",
      "                         Df Deviance   AIC\n",
      "+ age                     1    20344 20372\n",
      "+ LcapitalLoss            1    20350 20378\n",
      "+ child                   1    20526 20554\n",
      "+ mariStat:LcapitalGain   3    20560 20592\n",
      "+ mariStat:hoursWeek      3    20579 20611\n",
      "+ educNum:occup           6    20588 20626\n",
      "+ occup:hoursWeek         6    20590 20628\n",
      "+ origEthn                1    20601 20629\n",
      "+ educNum:mariStat        3    20601 20633\n",
      "<none>                         20611 20637\n",
      "+ hoursWeek:LcapitalGain  1    20610 20638\n",
      "+ educNum:hoursWeek       1    20611 20639\n",
      "+ educNum:LcapitalGain    1    20611 20639\n",
      "+ occup:LcapitalGain      6    20604 20642\n",
      "+ mariStat:occup         18    20582 20644\n",
      "- hoursWeek               1    20881 20905\n",
      "- occup                   6    21211 21225\n",
      "- LcapitalGain            1    21577 21601\n",
      "- educNum                 1    21663 21687\n",
      "- mariStat                3    23936 23956\n",
      "\n",
      "Step:  AIC=20372.45\n",
      "income ~ mariStat + educNum + LcapitalGain + occup + hoursWeek + \n",
      "    age\n",
      "\n",
      "                         Df Deviance   AIC\n",
      "+ LcapitalLoss            1    20099 20129\n",
      "+ child                   1    20286 20316\n",
      "+ mariStat:LcapitalGain   3    20295 20329\n",
      "+ age:mariStat            3    20296 20330\n",
      "+ age:hoursWeek           1    20326 20356\n",
      "+ occup:hoursWeek         6    20317 20357\n",
      "+ mariStat:hoursWeek      3    20324 20358\n",
      "+ educNum:occup           6    20323 20363\n",
      "+ age:LcapitalGain        1    20336 20366\n",
      "+ origEthn                1    20337 20367\n",
      "+ age:educNum             1    20342 20372\n",
      "<none>                         20344 20372\n",
      "+ hoursWeek:LcapitalGain  1    20343 20373\n",
      "+ educNum:LcapitalGain    1    20344 20374\n",
      "+ educNum:hoursWeek       1    20344 20374\n",
      "+ educNum:mariStat        3    20341 20375\n",
      "+ occup:LcapitalGain      6    20338 20378\n",
      "+ age:occup               6    20338 20378\n",
      "+ mariStat:occup         18    20320 20384\n",
      "- age                     1    20611 20637\n",
      "- hoursWeek               1    20678 20704\n",
      "- occup                   6    20878 20894\n",
      "- LcapitalGain            1    21238 21264\n",
      "- educNum                 1    21450 21476\n",
      "- mariStat                3    22779 22801\n",
      "\n",
      "Step:  AIC=20128.83\n",
      "income ~ mariStat + educNum + LcapitalGain + occup + hoursWeek + \n",
      "    age + LcapitalLoss\n",
      "\n",
      "                         Df Deviance   AIC\n",
      "+ child                   1    20043 20075\n",
      "+ mariStat:LcapitalGain   3    20049 20085\n",
      "+ age:mariStat            3    20052 20088\n",
      "+ occup:hoursWeek         6    20070 20112\n",
      "+ age:hoursWeek           1    20081 20113\n",
      "+ mariStat:hoursWeek      3    20079 20115\n",
      "+ educNum:occup           6    20078 20120\n",
      "+ age:LcapitalGain        1    20090 20122\n",
      "+ origEthn                1    20092 20124\n",
      "+ age:LcapitalLoss        1    20093 20125\n",
      "+ age:educNum             1    20096 20128\n",
      "<none>                         20099 20129\n",
      "+ hoursWeek:LcapitalGain  1    20097 20129\n",
      "+ educNum:LcapitalLoss    1    20097 20129\n",
      "+ educNum:LcapitalGain    1    20098 20130\n",
      "+ mariStat:LcapitalLoss   3    20094 20130\n",
      "+ educNum:hoursWeek       1    20099 20131\n",
      "+ occup:LcapitalLoss      6    20089 20131\n",
      "+ hoursWeek:LcapitalLoss  1    20099 20131\n",
      "+ educNum:mariStat        3    20095 20131\n",
      "+ occup:LcapitalGain      6    20092 20134\n",
      "+ age:occup               6    20092 20134\n",
      "+ mariStat:occup         18    20073 20139\n",
      "- LcapitalLoss            1    20344 20372\n",
      "- age                     1    20350 20378\n",
      "- hoursWeek               1    20421 20449\n",
      "- occup                   6    20610 20628\n",
      "- LcapitalGain            1    21076 21104\n",
      "- educNum                 1    21160 21188\n",
      "- mariStat                3    22501 22525\n",
      "\n",
      "Step:  AIC=20075.04\n",
      "income ~ mariStat + educNum + LcapitalGain + occup + hoursWeek + \n",
      "    age + LcapitalLoss + child\n",
      "\n",
      "                         Df Deviance   AIC\n",
      "+ mariStat:LcapitalGain   3    19995 20033\n",
      "+ age:mariStat            3    20010 20048\n",
      "+ age:hoursWeek           1    20022 20056\n",
      "+ occup:hoursWeek         6    20016 20060\n",
      "+ age:child               1    20027 20061\n",
      "+ mariStat:hoursWeek      3    20026 20064\n",
      "+ educNum:occup           6    20024 20068\n",
      "+ child:LcapitalGain      1    20034 20068\n",
      "+ age:LcapitalGain        1    20035 20069\n",
      "+ origEthn                1    20036 20070\n",
      "+ age:LcapitalLoss        1    20037 20071\n",
      "+ age:educNum             1    20041 20075\n",
      "<none>                         20043 20075\n",
      "+ hoursWeek:LcapitalGain  1    20041 20075\n",
      "+ educNum:LcapitalLoss    1    20041 20075\n",
      "+ mariStat:LcapitalLoss   3    20038 20076\n",
      "+ educNum:LcapitalGain    1    20042 20076\n",
      "+ educNum:hoursWeek       1    20043 20077\n",
      "+ hoursWeek:child         1    20043 20077\n",
      "+ educNum:child           1    20043 20077\n",
      "+ child:LcapitalLoss      1    20043 20077\n",
      "+ hoursWeek:LcapitalLoss  1    20043 20077\n",
      "+ occup:LcapitalLoss      6    20033 20077\n",
      "+ educNum:mariStat        3    20041 20079\n",
      "+ occup:LcapitalGain      6    20036 20080\n",
      "+ mariStat:child          3    20042 20080\n",
      "+ age:occup               6    20037 20081\n",
      "+ occup:child             6    20038 20082\n",
      "+ mariStat:occup         18    20023 20091\n",
      "- child                   1    20099 20129\n",
      "- age                     1    20269 20299\n",
      "- LcapitalLoss            1    20286 20316\n",
      "- hoursWeek               1    20350 20380\n",
      "- occup                   6    20548 20568\n",
      "- LcapitalGain            1    21014 21044\n",
      "- educNum                 1    21086 21116\n",
      "- mariStat                3    21971 21997\n",
      "\n",
      "Step:  AIC=20033.16\n",
      "income ~ mariStat + educNum + LcapitalGain + occup + hoursWeek + \n",
      "    age + LcapitalLoss + child + mariStat:LcapitalGain\n",
      "\n",
      "                         Df Deviance   AIC\n",
      "+ age:mariStat            3    19964 20008\n",
      "+ age:hoursWeek           1    19974 20014\n",
      "+ occup:hoursWeek         6    19968 20018\n",
      "+ mariStat:hoursWeek      3    19977 20021\n",
      "+ age:child               1    19981 20021\n",
      "+ educNum:occup           6    19976 20026\n",
      "+ origEthn                1    19988 20028\n",
      "+ age:LcapitalLoss        1    19988 20028\n",
      "+ age:educNum             1    19993 20033\n",
      "+ educNum:LcapitalLoss    1    19993 20033\n",
      "<none>                         19995 20033\n",
      "+ child:LcapitalGain      1    19994 20034\n",
      "+ age:LcapitalGain        1    19994 20034\n",
      "+ hoursWeek:LcapitalGain  1    19994 20034\n",
      "+ educNum:LcapitalGain    1    19994 20034\n",
      "+ occup:LcapitalLoss      6    19985 20035\n",
      "+ educNum:hoursWeek       1    19995 20035\n",
      "+ educNum:child           1    19995 20035\n",
      "+ hoursWeek:child         1    19995 20035\n",
      "+ child:LcapitalLoss      1    19995 20035\n",
      "+ hoursWeek:LcapitalLoss  1    19995 20035\n",
      "+ educNum:mariStat        3    19992 20036\n",
      "+ mariStat:LcapitalLoss   3    19993 20037\n",
      "+ occup:LcapitalGain      6    19987 20037\n",
      "+ mariStat:child          3    19994 20038\n",
      "+ age:occup               6    19989 20039\n",
      "+ occup:child             6    19990 20040\n",
      "+ mariStat:occup         18    19973 20047\n",
      "- mariStat:LcapitalGain   3    20043 20075\n",
      "- child                   1    20049 20085\n",
      "- age                     1    20221 20257\n",
      "- LcapitalLoss            1    20239 20275\n",
      "- hoursWeek               1    20300 20336\n",
      "- occup                   6    20496 20522\n",
      "- educNum                 1    21035 21071\n",
      "\n",
      "Step:  AIC=20008.16\n",
      "income ~ mariStat + educNum + LcapitalGain + occup + hoursWeek + \n",
      "    age + LcapitalLoss + child + mariStat:LcapitalGain + mariStat:age\n",
      "\n",
      "                         Df Deviance   AIC\n",
      "+ age:hoursWeek           1    19944 19990\n",
      "+ mariStat:hoursWeek      3    19944 19994\n",
      "+ occup:hoursWeek         6    19938 19994\n",
      "+ educNum:occup           6    19945 20001\n",
      "+ age:LcapitalLoss        1    19957 20003\n",
      "+ origEthn                1    19957 20003\n",
      "+ age:child               1    19958 20004\n",
      "+ age:educNum             1    19959 20005\n",
      "+ age:LcapitalGain        1    19962 20008\n",
      "+ educNum:LcapitalLoss    1    19962 20008\n",
      "<none>                         19964 20008\n",
      "+ hoursWeek:LcapitalGain  1    19963 20009\n",
      "+ child:LcapitalGain      1    19963 20009\n",
      "+ occup:LcapitalLoss      6    19954 20010\n",
      "+ educNum:LcapitalGain    1    19964 20010\n",
      "+ educNum:child           1    19964 20010\n",
      "+ educNum:hoursWeek       1    19964 20010\n",
      "+ child:LcapitalLoss      1    19964 20010\n",
      "+ hoursWeek:LcapitalLoss  1    19964 20010\n",
      "+ hoursWeek:child         1    19964 20010\n",
      "+ age:occup               6    19955 20011\n",
      "+ mariStat:LcapitalLoss   3    19961 20011\n",
      "+ educNum:mariStat        3    19962 20012\n",
      "+ occup:LcapitalGain      6    19957 20013\n",
      "+ mariStat:child          3    19964 20014\n",
      "+ occup:child             6    19959 20015\n",
      "+ mariStat:occup         18    19941 20021\n",
      "- mariStat:age            3    19995 20033\n",
      "- child                   1    20004 20046\n",
      "- mariStat:LcapitalGain   3    20010 20048\n",
      "- LcapitalLoss            1    20207 20249\n",
      "- hoursWeek               1    20258 20300\n",
      "- occup                   6    20469 20501\n",
      "- educNum                 1    20989 21031\n",
      "\n",
      "Step:  AIC=19990.12\n",
      "income ~ mariStat + educNum + LcapitalGain + occup + hoursWeek + \n",
      "    age + LcapitalLoss + child + mariStat:LcapitalGain + mariStat:age + \n",
      "    hoursWeek:age\n",
      "\n",
      "                         Df Deviance   AIC\n",
      "+ mariStat:hoursWeek      3    19918 19970\n",
      "+ occup:hoursWeek         6    19922 19980\n",
      "+ educNum:occup           6    19925 19983\n",
      "+ origEthn                1    19936 19984\n",
      "+ age:LcapitalLoss        1    19936 19984\n",
      "+ age:child               1    19938 19986\n",
      "+ age:educNum             1    19939 19987\n",
      "+ educNum:LcapitalLoss    1    19942 19990\n",
      "+ age:LcapitalGain        1    19942 19990\n",
      "<none>                         19944 19990\n",
      "+ child:LcapitalGain      1    19943 19991\n",
      "+ hoursWeek:LcapitalGain  1    19943 19991\n",
      "+ educNum:hoursWeek       1    19944 19992\n",
      "+ educNum:LcapitalGain    1    19944 19992\n",
      "+ hoursWeek:child         1    19944 19992\n",
      "+ educNum:child           1    19944 19992\n",
      "+ occup:LcapitalLoss      6    19934 19992\n",
      "+ hoursWeek:LcapitalLoss  1    19944 19992\n",
      "+ child:LcapitalLoss      1    19944 19992\n",
      "+ educNum:mariStat        3    19941 19993\n",
      "+ mariStat:LcapitalLoss   3    19942 19994\n",
      "+ occup:LcapitalGain      6    19937 19995\n",
      "+ age:occup               6    19937 19995\n",
      "+ mariStat:child          3    19944 19996\n",
      "+ occup:child             6    19939 19997\n",
      "+ mariStat:occup         18    19921 20003\n",
      "- hoursWeek:age           1    19964 20008\n",
      "- mariStat:age            3    19974 20014\n",
      "- child                   1    19986 20030\n",
      "- mariStat:LcapitalGain   3    19991 20031\n",
      "- LcapitalLoss            1    20185 20229\n",
      "- occup                   6    20452 20486\n",
      "- educNum                 1    20968 21012\n",
      "\n",
      "Step:  AIC=19970.4\n",
      "income ~ mariStat + educNum + LcapitalGain + occup + hoursWeek + \n",
      "    age + LcapitalLoss + child + mariStat:LcapitalGain + mariStat:age + \n",
      "    hoursWeek:age + mariStat:hoursWeek\n",
      "\n",
      "                         Df Deviance   AIC\n",
      "+ occup:hoursWeek         6    19898 19962\n",
      "+ educNum:occup           6    19900 19964\n",
      "+ origEthn                1    19910 19964\n",
      "+ age:LcapitalLoss        1    19911 19965\n",
      "+ age:child               1    19913 19967\n",
      "+ age:educNum             1    19913 19967\n",
      "+ educNum:LcapitalLoss    1    19916 19970\n",
      "+ age:LcapitalGain        1    19916 19970\n",
      "<none>                         19918 19970\n",
      "+ child:LcapitalGain      1    19917 19971\n",
      "+ hoursWeek:child         1    19918 19972\n",
      "+ educNum:child           1    19918 19972\n",
      "+ educNum:LcapitalGain    1    19918 19972\n",
      "+ hoursWeek:LcapitalGain  1    19918 19972\n",
      "+ occup:LcapitalLoss      6    19908 19972\n",
      "+ hoursWeek:LcapitalLoss  1    19918 19972\n",
      "+ child:LcapitalLoss      1    19918 19972\n",
      "+ educNum:hoursWeek       1    19918 19972\n",
      "+ educNum:mariStat        3    19916 19974\n",
      "+ mariStat:LcapitalLoss   3    19916 19974\n",
      "+ age:occup               6    19911 19975\n",
      "+ occup:LcapitalGain      6    19911 19975\n",
      "+ mariStat:child          3    19918 19976\n",
      "+ occup:child             6    19914 19978\n",
      "+ mariStat:occup         18    19897 19985\n",
      "- mariStat:hoursWeek      3    19944 19990\n",
      "- mariStat:age            3    19948 19994\n",
      "- hoursWeek:age           1    19944 19994\n",
      "- child                   1    19957 20007\n",
      "- mariStat:LcapitalGain   3    19966 20012\n",
      "- LcapitalLoss            1    20159 20209\n",
      "- occup                   6    20428 20468\n",
      "- educNum                 1    20940 20990\n",
      "\n",
      "Step:  AIC=19962.52\n",
      "income ~ mariStat + educNum + LcapitalGain + occup + hoursWeek + \n",
      "    age + LcapitalLoss + child + mariStat:LcapitalGain + mariStat:age + \n",
      "    hoursWeek:age + mariStat:hoursWeek + occup:hoursWeek\n",
      "\n",
      "                         Df Deviance   AIC\n",
      "+ origEthn                1    19890 19956\n",
      "+ educNum:occup           6    19880 19956\n",
      "+ age:LcapitalLoss        1    19891 19957\n",
      "+ age:child               1    19894 19960\n",
      "+ age:educNum             1    19894 19960\n",
      "+ educNum:LcapitalLoss    1    19896 19962\n",
      "<none>                         19898 19962\n",
      "+ age:LcapitalGain        1    19896 19962\n",
      "+ child:LcapitalGain      1    19897 19963\n",
      "+ hoursWeek:child         1    19898 19964\n",
      "+ educNum:child           1    19898 19964\n",
      "+ educNum:LcapitalGain    1    19898 19964\n",
      "+ hoursWeek:LcapitalGain  1    19898 19964\n",
      "+ educNum:hoursWeek       1    19898 19964\n",
      "+ hoursWeek:LcapitalLoss  1    19898 19964\n",
      "+ child:LcapitalLoss      1    19898 19964\n",
      "+ occup:LcapitalLoss      6    19889 19965\n",
      "+ educNum:mariStat        3    19896 19966\n",
      "+ mariStat:LcapitalLoss   3    19896 19966\n",
      "+ age:occup               6    19891 19967\n",
      "+ occup:LcapitalGain      6    19892 19968\n",
      "+ mariStat:child          3    19898 19968\n",
      "+ occup:child             6    19894 19970\n",
      "- occup:hoursWeek         6    19918 19970\n",
      "+ mariStat:occup         18    19877 19977\n",
      "- mariStat:hoursWeek      3    19922 19980\n",
      "- hoursWeek:age           1    19921 19983\n",
      "- mariStat:age            3    19927 19985\n",
      "- child                   1    19936 19998\n",
      "- mariStat:LcapitalGain   3    19947 20005\n",
      "- LcapitalLoss            1    20140 20202\n",
      "- educNum                 1    20929 20991\n",
      "\n",
      "Step:  AIC=19955.63\n",
      "income ~ mariStat + educNum + LcapitalGain + occup + hoursWeek + \n",
      "    age + LcapitalLoss + child + origEthn + mariStat:LcapitalGain + \n",
      "    mariStat:age + hoursWeek:age + mariStat:hoursWeek + occup:hoursWeek\n",
      "\n",
      "                         Df Deviance   AIC\n",
      "+ educNum:occup           6    19871 19949\n",
      "+ age:LcapitalLoss        1    19882 19950\n",
      "+ age:educNum             1    19885 19953\n",
      "+ age:child               1    19885 19953\n",
      "+ origEthn:LcapitalGain   1    19887 19955\n",
      "+ educNum:LcapitalLoss    1    19887 19955\n",
      "<none>                         19890 19956\n",
      "+ age:LcapitalGain        1    19888 19956\n",
      "+ origEthn:LcapitalLoss   1    19888 19956\n",
      "+ educNum:origEthn        1    19888 19956\n",
      "+ child:LcapitalGain      1    19888 19956\n",
      "+ age:origEthn            1    19889 19957\n",
      "+ hoursWeek:child         1    19889 19957\n",
      "+ origEthn:child          1    19889 19957\n",
      "+ educNum:child           1    19889 19957\n",
      "+ educNum:LcapitalGain    1    19889 19957\n",
      "+ hoursWeek:LcapitalGain  1    19889 19957\n",
      "+ origEthn:hoursWeek      1    19889 19957\n",
      "+ educNum:hoursWeek       1    19890 19958\n",
      "+ hoursWeek:LcapitalLoss  1    19890 19958\n",
      "+ child:LcapitalLoss      1    19890 19958\n",
      "+ occup:LcapitalLoss      6    19880 19958\n",
      "+ educNum:mariStat        3    19887 19959\n",
      "+ mariStat:LcapitalLoss   3    19887 19959\n",
      "+ age:occup               6    19881 19959\n",
      "+ mariStat:origEthn       3    19888 19960\n",
      "+ occup:LcapitalGain      6    19883 19961\n",
      "+ mariStat:child          3    19889 19961\n",
      "- origEthn                1    19898 19962\n",
      "+ occup:child             6    19885 19963\n",
      "+ occup:origEthn          6    19885 19963\n",
      "- occup:hoursWeek         6    19910 19964\n",
      "+ mariStat:occup         18    19868 19970\n",
      "- mariStat:hoursWeek      3    19913 19973\n",
      "- hoursWeek:age           1    19913 19977\n",
      "- mariStat:age            3    19918 19978\n",
      "- child                   1    19927 19991\n",
      "- mariStat:LcapitalGain   3    19938 19998\n",
      "- LcapitalLoss            1    20131 20195\n",
      "- educNum                 1    20919 20983\n",
      "\n",
      "Step:  AIC=19948.96\n",
      "income ~ mariStat + educNum + LcapitalGain + occup + hoursWeek + \n",
      "    age + LcapitalLoss + child + origEthn + mariStat:LcapitalGain + \n",
      "    mariStat:age + hoursWeek:age + mariStat:hoursWeek + occup:hoursWeek + \n",
      "    educNum:occup\n",
      "\n",
      "                         Df Deviance   AIC\n",
      "+ age:LcapitalLoss        1    19864 19944\n",
      "+ age:child               1    19866 19946\n",
      "+ age:educNum             1    19867 19947\n",
      "+ origEthn:LcapitalGain   1    19868 19948\n",
      "+ educNum:LcapitalLoss    1    19868 19948\n",
      "+ age:LcapitalGain        1    19869 19949\n",
      "<none>                         19871 19949\n",
      "+ origEthn:LcapitalLoss   1    19870 19950\n",
      "+ educNum:origEthn        1    19870 19950\n",
      "+ child:LcapitalGain      1    19870 19950\n",
      "+ age:origEthn            1    19870 19950\n",
      "+ hoursWeek:child         1    19870 19950\n",
      "+ educNum:child           1    19870 19950\n",
      "+ origEthn:child          1    19870 19950\n",
      "+ educNum:LcapitalGain    1    19870 19950\n",
      "+ hoursWeek:LcapitalGain  1    19871 19951\n",
      "+ origEthn:hoursWeek      1    19871 19951\n",
      "+ educNum:hoursWeek       1    19871 19951\n",
      "+ hoursWeek:LcapitalLoss  1    19871 19951\n",
      "+ child:LcapitalLoss      1    19871 19951\n",
      "+ occup:LcapitalLoss      6    19861 19951\n",
      "+ mariStat:LcapitalLoss   3    19868 19952\n",
      "+ educNum:mariStat        3    19869 19953\n",
      "+ mariStat:origEthn       3    19870 19954\n",
      "+ age:occup               6    19864 19954\n",
      "+ mariStat:child          3    19870 19954\n",
      "+ occup:LcapitalGain      6    19865 19955\n",
      "- educNum:occup           6    19890 19956\n",
      "+ occup:child             6    19866 19956\n",
      "+ occup:origEthn          6    19866 19956\n",
      "- origEthn                1    19880 19956\n",
      "- occup:hoursWeek         6    19892 19958\n",
      "+ mariStat:occup         18    19850 19964\n",
      "- mariStat:hoursWeek      3    19894 19966\n",
      "- hoursWeek:age           1    19894 19970\n",
      "- mariStat:age            3    19899 19971\n",
      "- child                   1    19907 19983\n",
      "- mariStat:LcapitalGain   3    19920 19992\n",
      "- LcapitalLoss            1    20111 20187\n",
      "\n",
      "Step:  AIC=19944.12\n",
      "income ~ mariStat + educNum + LcapitalGain + occup + hoursWeek + \n",
      "    age + LcapitalLoss + child + origEthn + mariStat:LcapitalGain + \n",
      "    mariStat:age + hoursWeek:age + mariStat:hoursWeek + occup:hoursWeek + \n",
      "    educNum:occup + age:LcapitalLoss\n",
      "\n",
      "                         Df Deviance   AIC\n",
      "+ age:child               1    19859 19941\n",
      "+ age:educNum             1    19860 19942\n",
      "+ origEthn:LcapitalGain   1    19861 19943\n",
      "+ age:LcapitalGain        1    19861 19943\n",
      "<none>                         19864 19944\n",
      "+ educNum:LcapitalLoss    1    19862 19944\n",
      "+ origEthn:LcapitalLoss   1    19863 19945\n",
      "+ child:LcapitalGain      1    19863 19945\n",
      "+ educNum:origEthn        1    19863 19945\n",
      "+ age:origEthn            1    19863 19945\n",
      "+ hoursWeek:child         1    19863 19945\n",
      "+ educNum:child           1    19864 19946\n",
      "+ origEthn:child          1    19864 19946\n",
      "+ educNum:LcapitalGain    1    19864 19946\n",
      "+ hoursWeek:LcapitalGain  1    19864 19946\n",
      "+ hoursWeek:LcapitalLoss  1    19864 19946\n",
      "+ educNum:hoursWeek       1    19864 19946\n",
      "+ origEthn:hoursWeek      1    19864 19946\n",
      "+ child:LcapitalLoss      1    19864 19946\n",
      "+ occup:LcapitalLoss      6    19854 19946\n",
      "+ mariStat:LcapitalLoss   3    19861 19947\n",
      "+ educNum:mariStat        3    19862 19948\n",
      "+ mariStat:origEthn       3    19863 19949\n",
      "- age:LcapitalLoss        1    19871 19949\n",
      "+ age:occup               6    19857 19949\n",
      "+ mariStat:child          3    19864 19950\n",
      "+ occup:LcapitalGain      6    19858 19950\n",
      "- educNum:occup           6    19882 19950\n",
      "+ occup:child             6    19859 19951\n",
      "+ occup:origEthn          6    19859 19951\n",
      "- origEthn                1    19873 19951\n",
      "- occup:hoursWeek         6    19884 19952\n",
      "+ mariStat:occup         18    19843 19959\n",
      "- mariStat:hoursWeek      3    19887 19961\n",
      "- hoursWeek:age           1    19887 19965\n",
      "- mariStat:age            3    19893 19967\n",
      "- child                   1    19900 19978\n",
      "- mariStat:LcapitalGain   3    19914 19988\n",
      "\n",
      "Step:  AIC=19941.44\n",
      "income ~ mariStat + educNum + LcapitalGain + occup + hoursWeek + \n",
      "    age + LcapitalLoss + child + origEthn + mariStat:LcapitalGain + \n",
      "    mariStat:age + hoursWeek:age + mariStat:hoursWeek + occup:hoursWeek + \n",
      "    educNum:occup + age:LcapitalLoss + age:child\n",
      "\n",
      "                         Df Deviance   AIC\n",
      "+ age:educNum             1    19856 19940\n",
      "+ origEthn:LcapitalGain   1    19856 19940\n",
      "+ age:LcapitalGain        1    19856 19940\n",
      "<none>                         19859 19941\n",
      "+ educNum:LcapitalLoss    1    19858 19942\n",
      "+ hoursWeek:child         1    19858 19942\n",
      "+ origEthn:LcapitalLoss   1    19858 19942\n",
      "+ educNum:origEthn        1    19858 19942\n",
      "+ age:origEthn            1    19858 19942\n",
      "+ educNum:child           1    19859 19943\n",
      "+ child:LcapitalGain      1    19859 19943\n",
      "+ origEthn:child          1    19859 19943\n",
      "+ hoursWeek:LcapitalGain  1    19859 19943\n",
      "+ educNum:LcapitalGain    1    19859 19943\n",
      "+ hoursWeek:LcapitalLoss  1    19859 19943\n",
      "+ educNum:hoursWeek       1    19859 19943\n",
      "+ origEthn:hoursWeek      1    19859 19943\n",
      "+ child:LcapitalLoss      1    19859 19943\n",
      "+ occup:LcapitalLoss      6    19850 19944\n",
      "- age:child               1    19864 19944\n",
      "+ mariStat:LcapitalLoss   3    19856 19944\n",
      "+ educNum:mariStat        3    19857 19945\n",
      "+ mariStat:child          3    19857 19945\n",
      "- age:LcapitalLoss        1    19866 19946\n",
      "+ mariStat:origEthn       3    19858 19946\n",
      "+ occup:LcapitalGain      6    19853 19947\n",
      "+ age:occup               6    19853 19947\n",
      "- educNum:occup           6    19878 19948\n",
      "+ occup:child             6    19854 19948\n",
      "- origEthn                1    19869 19949\n",
      "+ occup:origEthn          6    19855 19949\n",
      "- occup:hoursWeek         6    19879 19949\n",
      "+ mariStat:occup         18    19839 19957\n",
      "- mariStat:age            3    19881 19957\n",
      "- mariStat:hoursWeek      3    19881 19957\n",
      "- hoursWeek:age           1    19882 19962\n",
      "- mariStat:LcapitalGain   3    19908 19984\n",
      "\n",
      "Step:  AIC=19939.57\n",
      "income ~ mariStat + educNum + LcapitalGain + occup + hoursWeek + \n",
      "    age + LcapitalLoss + child + origEthn + mariStat:LcapitalGain + \n",
      "    mariStat:age + hoursWeek:age + mariStat:hoursWeek + occup:hoursWeek + \n",
      "    educNum:occup + age:LcapitalLoss + age:child + educNum:age\n",
      "\n",
      "                         Df Deviance   AIC\n",
      "+ age:LcapitalGain        1    19852 19938\n",
      "+ origEthn:LcapitalGain   1    19852 19938\n",
      "<none>                         19856 19940\n",
      "+ educNum:LcapitalLoss    1    19854 19940\n",
      "+ hoursWeek:child         1    19854 19940\n",
      "+ origEthn:LcapitalLoss   1    19854 19940\n",
      "+ educNum:origEthn        1    19854 19940\n",
      "+ educNum:child           1    19854 19940\n",
      "+ age:origEthn            1    19855 19941\n",
      "+ child:LcapitalGain      1    19855 19941\n",
      "+ educNum:hoursWeek       1    19855 19941\n",
      "+ origEthn:child          1    19855 19941\n",
      "+ hoursWeek:LcapitalGain  1    19855 19941\n",
      "+ hoursWeek:LcapitalLoss  1    19855 19941\n",
      "+ educNum:LcapitalGain    1    19855 19941\n",
      "+ origEthn:hoursWeek      1    19855 19941\n",
      "- educNum:age             1    19859 19941\n",
      "+ child:LcapitalLoss      1    19855 19941\n",
      "+ occup:LcapitalLoss      6    19846 19942\n",
      "- age:child               1    19860 19942\n",
      "+ mariStat:LcapitalLoss   3    19852 19942\n",
      "+ educNum:mariStat        3    19852 19942\n",
      "+ mariStat:child          3    19854 19944\n",
      "- age:LcapitalLoss        1    19862 19944\n",
      "+ mariStat:origEthn       3    19854 19944\n",
      "+ occup:LcapitalGain      6    19849 19945\n",
      "- educNum:occup           6    19873 19945\n",
      "+ occup:child             6    19850 19946\n",
      "+ occup:origEthn          6    19851 19947\n",
      "- origEthn                1    19865 19947\n",
      "- occup:hoursWeek         6    19875 19947\n",
      "+ age:occup               6    19852 19948\n",
      "+ mariStat:occup         18    19835 19955\n",
      "- mariStat:hoursWeek      3    19878 19956\n",
      "- mariStat:age            3    19879 19957\n",
      "- hoursWeek:age           1    19878 19960\n",
      "- mariStat:LcapitalGain   3    19904 19982\n",
      "\n",
      "Step:  AIC=19938.11\n",
      "income ~ mariStat + educNum + LcapitalGain + occup + hoursWeek + \n",
      "    age + LcapitalLoss + child + origEthn + mariStat:LcapitalGain + \n",
      "    mariStat:age + hoursWeek:age + mariStat:hoursWeek + occup:hoursWeek + \n",
      "    educNum:occup + age:LcapitalLoss + age:child + educNum:age + \n",
      "    LcapitalGain:age\n",
      "\n",
      "                         Df Deviance   AIC\n",
      "+ origEthn:LcapitalGain   1    19849 19937\n",
      "<none>                         19852 19938\n",
      "+ educNum:LcapitalLoss    1    19850 19938\n",
      "+ hoursWeek:child         1    19851 19939\n",
      "+ origEthn:LcapitalLoss   1    19851 19939\n",
      "+ educNum:origEthn        1    19851 19939\n",
      "+ educNum:child           1    19851 19939\n",
      "+ age:origEthn            1    19851 19939\n",
      "+ educNum:hoursWeek       1    19851 19939\n",
      "+ child:LcapitalGain      1    19851 19939\n",
      "- LcapitalGain:age        1    19856 19940\n",
      "+ origEthn:child          1    19852 19940\n",
      "+ educNum:LcapitalGain    1    19852 19940\n",
      "+ hoursWeek:LcapitalLoss  1    19852 19940\n",
      "+ origEthn:hoursWeek      1    19852 19940\n",
      "+ child:LcapitalLoss      1    19852 19940\n",
      "+ hoursWeek:LcapitalGain  1    19852 19940\n",
      "+ occup:LcapitalLoss      6    19842 19940\n",
      "- educNum:age             1    19856 19940\n",
      "- age:child               1    19856 19940\n",
      "+ mariStat:LcapitalLoss   3    19849 19941\n",
      "+ educNum:mariStat        3    19849 19941\n",
      "+ mariStat:child          3    19850 19942\n",
      "+ mariStat:origEthn       3    19851 19943\n",
      "- age:LcapitalLoss        1    19860 19944\n",
      "+ occup:LcapitalGain      6    19846 19944\n",
      "- educNum:occup           6    19870 19944\n",
      "+ occup:child             6    19847 19945\n",
      "+ occup:origEthn          6    19847 19945\n",
      "- origEthn                1    19861 19945\n",
      "- occup:hoursWeek         6    19872 19946\n",
      "+ age:occup               6    19848 19946\n",
      "+ mariStat:occup         18    19832 19954\n",
      "- mariStat:hoursWeek      3    19874 19954\n",
      "- mariStat:age            3    19877 19957\n",
      "- hoursWeek:age           1    19874 19958\n",
      "- mariStat:LcapitalGain   3    19893 19973\n",
      "\n",
      "Step:  AIC=19937.02\n",
      "income ~ mariStat + educNum + LcapitalGain + occup + hoursWeek + \n",
      "    age + LcapitalLoss + child + origEthn + mariStat:LcapitalGain + \n",
      "    mariStat:age + hoursWeek:age + mariStat:hoursWeek + occup:hoursWeek + \n",
      "    educNum:occup + age:LcapitalLoss + age:child + educNum:age + \n",
      "    LcapitalGain:age + LcapitalGain:origEthn\n",
      "\n",
      "                         Df Deviance   AIC\n",
      "<none>                         19849 19937\n",
      "+ origEthn:LcapitalLoss   1    19847 19937\n",
      "+ educNum:LcapitalLoss    1    19847 19937\n",
      "+ hoursWeek:child         1    19848 19938\n",
      "+ educNum:child           1    19848 19938\n",
      "+ educNum:origEthn        1    19848 19938\n",
      "- LcapitalGain:origEthn   1    19852 19938\n",
      "+ age:origEthn            1    19848 19938\n",
      "+ origEthn:child          1    19848 19938\n",
      "+ educNum:hoursWeek       1    19848 19938\n",
      "+ child:LcapitalGain      1    19848 19938\n",
      "- LcapitalGain:age        1    19852 19938\n",
      "+ educNum:LcapitalGain    1    19849 19939\n",
      "+ hoursWeek:LcapitalLoss  1    19849 19939\n",
      "+ origEthn:hoursWeek      1    19849 19939\n",
      "+ hoursWeek:LcapitalGain  1    19849 19939\n",
      "+ child:LcapitalLoss      1    19849 19939\n",
      "+ occup:LcapitalLoss      6    19839 19939\n",
      "- educNum:age             1    19853 19939\n",
      "- age:child               1    19853 19939\n",
      "+ mariStat:LcapitalLoss   3    19846 19940\n",
      "+ educNum:mariStat        3    19846 19940\n",
      "+ mariStat:origEthn       3    19847 19941\n",
      "+ mariStat:child          3    19847 19941\n",
      "+ occup:LcapitalGain      6    19842 19942\n",
      "- age:LcapitalLoss        1    19856 19942\n",
      "- educNum:occup           6    19867 19943\n",
      "+ occup:child             6    19843 19943\n",
      "+ occup:origEthn          6    19844 19944\n",
      "- occup:hoursWeek         6    19869 19945\n",
      "+ age:occup               6    19845 19945\n",
      "+ mariStat:occup         18    19828 19952\n",
      "- mariStat:hoursWeek      3    19871 19953\n",
      "- mariStat:age            3    19874 19956\n",
      "- hoursWeek:age           1    19871 19957\n",
      "- mariStat:LcapitalGain   3    19888 19970\n"
     ]
    }
   ],
   "source": [
    "# régression avec le modèle minimum\n",
    "reg.logQM=glm(income~1,data=datAppM[,-6],family=binomial)\n",
    "# algorithme stepwise en précisant le plus grand modèle possible\n",
    "reg.logQM.step=step(reg.logQM,direction=\"both\",\n",
    "  scope=list(lower=~1,upper=~(age+educNum+mariStat+occup+origEthn+hoursWeek+child+LcapitalGain+LcapitalLoss)^2), family=binomial)"
   ]
  },
  {
   "cell_type": "code",
   "execution_count": 62,
   "metadata": {},
   "outputs": [
    {
     "data": {
      "text/plain": [
       "\n",
       "Call:\n",
       "glm(formula = income ~ mariStat + educNum + LcapitalGain + occup + \n",
       "    hoursWeek + age + LcapitalLoss + child + origEthn + mariStat:LcapitalGain + \n",
       "    mariStat:age + hoursWeek:age + mariStat:hoursWeek + occup:hoursWeek + \n",
       "    educNum:occup + age:LcapitalLoss + age:child + educNum:age + \n",
       "    LcapitalGain:age + LcapitalGain:origEthn, family = binomial, \n",
       "    data = datAppM[, -6])\n",
       "\n",
       "Deviance Residuals: \n",
       "    Min       1Q   Median       3Q      Max  \n",
       "-2.8741  -0.6891  -0.2186   0.6391   3.9091  \n",
       "\n",
       "Coefficients:\n",
       "                                     Estimate Std. Error z value Pr(>|z|)    \n",
       "(Intercept)                        -5.8921544  0.6846442  -8.606  < 2e-16 ***\n",
       "mariStatNever-Married              -4.4225870  0.3798271 -11.644  < 2e-16 ***\n",
       "mariStatNot-Married                -3.2491474  0.4457631  -7.289 3.12e-13 ***\n",
       "mariStatWidowed                     0.0712223  1.1317048   0.063 0.949819    \n",
       "educNum                             0.3154848  0.0456464   6.911 4.80e-12 ***\n",
       "LcapitalGain                        0.2515665  0.0325239   7.735 1.04e-14 ***\n",
       "occupBlue-Collar                    1.1423649  0.5877962   1.943 0.051959 .  \n",
       "occupOther-occups                   0.8732139  0.7455817   1.171 0.241525    \n",
       "occupProfessional                   1.5101326  0.6567843   2.299 0.021489 *  \n",
       "occupSales                          0.3097011  0.6525980   0.475 0.635096    \n",
       "occupService                       -0.9159340  0.8579318  -1.068 0.285698    \n",
       "occupWhite-Collar                   0.7248953  0.6327653   1.146 0.251961    \n",
       "hoursWeek                           0.0228708  0.0108241   2.113 0.034605 *  \n",
       "age                                 0.0115830  0.0084006   1.379 0.167944    \n",
       "LcapitalLoss                        0.2446083  0.0368302   6.642 3.10e-11 ***\n",
       "childChildYes                      -1.9135989  0.5306847  -3.606 0.000311 ***\n",
       "origEthnCaucYes                     0.2274996  0.0661692   3.438 0.000586 ***\n",
       "mariStatNever-Married:LcapitalGain  0.1131731  0.0210211   5.384 7.29e-08 ***\n",
       "mariStatNot-Married:LcapitalGain    0.0782351  0.0211080   3.706 0.000210 ***\n",
       "mariStatWidowed:LcapitalGain       -0.0196516  0.0578955  -0.339 0.734284    \n",
       "mariStatNever-Married:age           0.0293176  0.0062897   4.661 3.14e-06 ***\n",
       "mariStatNot-Married:age             0.0132800  0.0069769   1.903 0.056986 .  \n",
       "mariStatWidowed:age                -0.0170521  0.0151625  -1.125 0.260748    \n",
       "hoursWeek:age                       0.0005794  0.0001242   4.664 3.10e-06 ***\n",
       "mariStatNever-Married:hoursWeek     0.0216081  0.0061206   3.530 0.000415 ***\n",
       "mariStatNot-Married:hoursWeek       0.0199069  0.0060748   3.277 0.001049 ** \n",
       "mariStatWidowed:hoursWeek          -0.0074926  0.0140304  -0.534 0.593324    \n",
       "occupBlue-Collar:hoursWeek         -0.0306148  0.0093846  -3.262 0.001105 ** \n",
       "occupOther-occups:hoursWeek        -0.0210763  0.0109657  -1.922 0.054604 .  \n",
       "occupProfessional:hoursWeek        -0.0313069  0.0099653  -3.142 0.001680 ** \n",
       "occupSales:hoursWeek               -0.0217887  0.0099336  -2.193 0.028277 *  \n",
       "occupService:hoursWeek             -0.0188743  0.0126650  -1.490 0.136153    \n",
       "occupWhite-Collar:hoursWeek        -0.0185051  0.0098441  -1.880 0.060134 .  \n",
       "educNum:occupBlue-Collar           -0.0253827  0.0386523  -0.657 0.511378    \n",
       "educNum:occupOther-occups           0.0324940  0.0511075   0.636 0.524908    \n",
       "educNum:occupProfessional           0.0143126  0.0430915   0.332 0.739781    \n",
       "educNum:occupSales                  0.0668198  0.0431503   1.549 0.121493    \n",
       "educNum:occupService                0.0566874  0.0640494   0.885 0.376126    \n",
       "educNum:occupWhite-Collar           0.0564521  0.0408368   1.382 0.166854    \n",
       "age:LcapitalLoss                   -0.0022464  0.0008192  -2.742 0.006107 ** \n",
       "age:childChildYes                   0.0307371  0.0145924   2.106 0.035172 *  \n",
       "educNum:age                        -0.0012976  0.0006212  -2.089 0.036714 *  \n",
       "LcapitalGain:age                   -0.0010313  0.0005515  -1.870 0.061477 .  \n",
       "LcapitalGain:origEthnCaucYes       -0.0377743  0.0216392  -1.746 0.080873 .  \n",
       "---\n",
       "Signif. codes:  0 ‘***’ 0.001 ‘**’ 0.01 ‘*’ 0.05 ‘.’ 0.1 ‘ ’ 1\n",
       "\n",
       "(Dispersion parameter for binomial family taken to be 1)\n",
       "\n",
       "    Null deviance: 30165  on 24218  degrees of freedom\n",
       "Residual deviance: 19849  on 24175  degrees of freedom\n",
       "AIC: 19937\n",
       "\n",
       "Number of Fisher Scoring iterations: 7\n"
      ]
     },
     "metadata": {},
     "output_type": "display_data"
    }
   ],
   "source": [
    "summary(reg.logQM.step)"
   ]
  },
  {
   "cell_type": "code",
   "execution_count": 63,
   "metadata": {},
   "outputs": [],
   "source": [
    "# prévision des modèles\n",
    "yHatQF=predict(reg.logQF.step,newdata=daTestF,type=\"response\")\n",
    "yHatQM=predict(reg.logQM.step,newdata=daTestM,type=\"response\")\n",
    "# compilation des prévisions\n",
    "yHatQFM=c(yHatQF,yHatQM)"
   ]
  },
  {
   "cell_type": "code",
   "execution_count": 69,
   "metadata": {},
   "outputs": [
    {
     "data": {
      "text/html": [
       "16.68"
      ],
      "text/latex": [
       "16.68"
      ],
      "text/markdown": [
       "16.68"
      ],
      "text/plain": [
       "[1] 16.68"
      ]
     },
     "metadata": {},
     "output_type": "display_data"
    },
    {
     "data": {
      "text/html": [
       "16.46"
      ],
      "text/latex": [
       "16.46"
      ],
      "text/markdown": [
       "16.46"
      ],
      "text/plain": [
       "[1] 16.46"
      ]
     },
     "metadata": {},
     "output_type": "display_data"
    }
   ],
   "source": [
    "tauxErr(table(yHatQFM>0.5,daTestFM$income)); tauxErr(table(yHatQ>0.5,daTest$incom))"
   ]
  },
  {
   "cell_type": "code",
   "execution_count": 65,
   "metadata": {},
   "outputs": [
    {
     "data": {
      "text/html": [
       "<ol class=list-inline>\n",
       "\t<li>0.293</li>\n",
       "\t<li>0.335</li>\n",
       "\t<li>0.376</li>\n",
       "</ol>\n"
      ],
      "text/latex": [
       "\\begin{enumerate*}\n",
       "\\item 0.293\n",
       "\\item 0.335\n",
       "\\item 0.376\n",
       "\\end{enumerate*}\n"
      ],
      "text/markdown": [
       "1. 0.293\n",
       "2. 0.335\n",
       "3. 0.376\n",
       "\n",
       "\n"
      ],
      "text/plain": [
       "[1] 0.293 0.335 0.376"
      ]
     },
     "metadata": {},
     "output_type": "display_data"
    }
   ],
   "source": [
    "# Biais quadLogit\n",
    "round(dispImp(daTest[,\"sex\"],as.factor(yHatQ>0.5)),3)"
   ]
  },
  {
   "cell_type": "code",
   "execution_count": 66,
   "metadata": {},
   "outputs": [
    {
     "data": {
      "text/html": [
       "<ol class=list-inline>\n",
       "\t<li>0.302</li>\n",
       "\t<li>0.344</li>\n",
       "\t<li>0.385</li>\n",
       "</ol>\n"
      ],
      "text/latex": [
       "\\begin{enumerate*}\n",
       "\\item 0.302\n",
       "\\item 0.344\n",
       "\\item 0.385\n",
       "\\end{enumerate*}\n"
      ],
      "text/markdown": [
       "1. 0.302\n",
       "2. 0.344\n",
       "3. 0.385\n",
       "\n",
       "\n"
      ],
      "text/plain": [
       "[1] 0.302 0.344 0.385"
      ]
     },
     "metadata": {},
     "output_type": "display_data"
    },
    {
     "data": {
      "text/html": [
       "<ol class=list-inline>\n",
       "\t<li>0.339</li>\n",
       "\t<li>0.379</li>\n",
       "\t<li>0.419</li>\n",
       "</ol>\n"
      ],
      "text/latex": [
       "\\begin{enumerate*}\n",
       "\\item 0.339\n",
       "\\item 0.379\n",
       "\\item 0.419\n",
       "\\end{enumerate*}\n"
      ],
      "text/markdown": [
       "1. 0.339\n",
       "2. 0.379\n",
       "3. 0.419\n",
       "\n",
       "\n"
      ],
      "text/plain": [
       "[1] 0.339 0.379 0.419"
      ]
     },
     "metadata": {},
     "output_type": "display_data"
    }
   ],
   "source": [
    "# Biais cumulé vs. biais de la base\n",
    "round(dispImp(daTestFM[,\"sex\"],as.factor(yHatQFM>0.5)),3);round(dispImp(daTestFM[,\"sex\"],daTestFM[,\"income\"]),3)"
   ]
  },
  {
   "cell_type": "markdown",
   "metadata": {},
   "source": [
    "Il n'y a plus significativement de discrimination avec des modèles quadratiques par genre.\n",
    "\n",
    "#### Arbre binaire\n",
    "Calcul d'un vecteur des poids donnant 2 fois plus d'importance aux femmes;"
   ]
  },
  {
   "cell_type": "code",
   "execution_count": 25,
   "metadata": {
    "ExecuteTime": {
     "end_time": "2019-06-26T09:55:15.412535Z",
     "start_time": "2019-06-26T09:55:15.395Z"
    }
   },
   "outputs": [],
   "source": [
    "w=as.integer(datApp[,\"sex\"]==\"Female\")+1"
   ]
  },
  {
   "cell_type": "code",
   "execution_count": 26,
   "metadata": {
    "ExecuteTime": {
     "end_time": "2019-06-26T09:55:22.594293Z",
     "start_time": "2019-06-26T09:55:19.524Z"
    }
   },
   "outputs": [],
   "source": [
    "library(rpart)\n",
    "# Modèle initial\n",
    "treeInit=rpart(income~.,data=datApp,cp=0.001)\n",
    "# modèle en changeant les poids\n",
    "treeInitW=rpart(income~.,data=datApp,weights=w,cp=0.001)\n",
    "# estimation des deux modèles\n",
    "tree.F=rpart(income~.,data=datAppF[,-6],cp=0.001)\n",
    "tree.M=rpart(income~.,data=datAppM[,-6],cp=0.001)\n",
    "# comparaison des paramètres"
   ]
  },
  {
   "cell_type": "code",
   "execution_count": 27,
   "metadata": {
    "ExecuteTime": {
     "end_time": "2019-06-26T09:55:39.743436Z",
     "start_time": "2019-06-26T09:55:39.671Z"
    }
   },
   "outputs": [
    {
     "data": {
      "image/png": "[encoded data removed]",
      "text/plain": [
       "plot without title"
      ]
     },
     "metadata": {},
     "output_type": "display_data"
    }
   ],
   "source": [
    "plot(treeInitW)\n",
    "text(treeInitW)"
   ]
  },
  {
   "cell_type": "code",
   "execution_count": 28,
   "metadata": {
    "ExecuteTime": {
     "end_time": "2019-06-26T09:56:06.400460Z",
     "start_time": "2019-06-26T09:56:06.328Z"
    }
   },
   "outputs": [],
   "source": [
    "# prévision des modèles\n",
    "yHatTree=predict(treeInit,newdata=daTest,type=\"class\")\n",
    "yHatTreeW=predict(treeInitW,newdata=daTest,type=\"class\")\n",
    "yHatFtree=predict(tree.F,newdata=daTestF,type=\"class\")\n",
    "yHatMtree=predict(tree.M,newdata=daTestM,type=\"class\")\n",
    "# compilation des prévisions\n",
    "yHatFMtree=c(yHatFtree,yHatMtree)"
   ]
  },
  {
   "cell_type": "code",
   "execution_count": 63,
   "metadata": {
    "ExecuteTime": {
     "end_time": "2019-06-24T14:20:11.983183Z",
     "start_time": "2019-06-24T14:20:11.948Z"
    }
   },
   "outputs": [
    {
     "data": {
      "text/plain": [
       "          \n",
       "yHatFMtree incB incH\n",
       "         1 6209  856\n",
       "         2  471 1407"
      ]
     },
     "metadata": {},
     "output_type": "display_data"
    },
    {
     "data": {
      "text/plain": [
       "        \n",
       "yHatTree incB incH\n",
       "    incB 6340  961\n",
       "    incH  340 1302"
      ]
     },
     "metadata": {},
     "output_type": "display_data"
    }
   ],
   "source": [
    "# erreurs cumulées vs. erreur initiale de rpart\n",
    "table(yHatFMtree,daTestFM$income); table(yHatTree,daTest$income)"
   ]
  },
  {
   "cell_type": "code",
   "execution_count": 64,
   "metadata": {
    "ExecuteTime": {
     "end_time": "2019-06-24T14:20:15.447547Z",
     "start_time": "2019-06-24T14:20:15.415Z"
    }
   },
   "outputs": [
    {
     "data": {
      "text/html": [
       "14.84"
      ],
      "text/latex": [
       "14.84"
      ],
      "text/markdown": [
       "14.84"
      ],
      "text/plain": [
       "[1] 14.84"
      ]
     },
     "metadata": {},
     "output_type": "display_data"
    },
    {
     "data": {
      "text/html": [
       "14.55"
      ],
      "text/latex": [
       "14.55"
      ],
      "text/markdown": [
       "14.55"
      ],
      "text/plain": [
       "[1] 14.55"
      ]
     },
     "metadata": {},
     "output_type": "display_data"
    }
   ],
   "source": [
    "tauxErr(table(yHatFMtree,daTestFM$income)); tauxErr(table(yHatTree,daTest$income))"
   ]
  },
  {
   "cell_type": "code",
   "execution_count": 29,
   "metadata": {
    "ExecuteTime": {
     "end_time": "2019-06-26T09:56:59.121145Z",
     "start_time": "2019-06-26T09:56:59.089Z"
    }
   },
   "outputs": [
    {
     "data": {
      "text/html": [
       "14.69"
      ],
      "text/latex": [
       "14.69"
      ],
      "text/markdown": [
       "14.69"
      ],
      "text/plain": [
       "[1] 14.69"
      ]
     },
     "metadata": {},
     "output_type": "display_data"
    }
   ],
   "source": [
    "tauxErr(table(yHatTreeW,daTest$income))"
   ]
  },
  {
   "cell_type": "code",
   "execution_count": 34,
   "metadata": {
    "ExecuteTime": {
     "end_time": "2019-06-26T10:00:54.022132Z",
     "start_time": "2019-06-26T10:00:53.972Z"
    }
   },
   "outputs": [
    {
     "data": {
      "text/html": [
       "<ol class=list-inline>\n",
       "\t<li>0.331</li>\n",
       "\t<li>0.375</li>\n",
       "\t<li>0.419</li>\n",
       "</ol>\n"
      ],
      "text/latex": [
       "\\begin{enumerate*}\n",
       "\\item 0.331\n",
       "\\item 0.375\n",
       "\\item 0.419\n",
       "\\end{enumerate*}\n"
      ],
      "text/markdown": [
       "1. 0.331\n",
       "2. 0.375\n",
       "3. 0.419\n",
       "\n",
       "\n"
      ],
      "text/plain": [
       "[1] 0.331 0.375 0.419"
      ]
     },
     "metadata": {},
     "output_type": "display_data"
    },
    {
     "data": {
      "text/html": [
       "<ol class=list-inline>\n",
       "\t<li>0.262</li>\n",
       "\t<li>0.304</li>\n",
       "\t<li>0.346</li>\n",
       "</ol>\n"
      ],
      "text/latex": [
       "\\begin{enumerate*}\n",
       "\\item 0.262\n",
       "\\item 0.304\n",
       "\\item 0.346\n",
       "\\end{enumerate*}\n"
      ],
      "text/markdown": [
       "1. 0.262\n",
       "2. 0.304\n",
       "3. 0.346\n",
       "\n",
       "\n"
      ],
      "text/plain": [
       "[1] 0.262 0.304 0.346"
      ]
     },
     "metadata": {},
     "output_type": "display_data"
    },
    {
     "data": {
      "text/html": [
       "<ol class=list-inline>\n",
       "\t<li>0.339</li>\n",
       "\t<li>0.379</li>\n",
       "\t<li>0.419</li>\n",
       "</ol>\n"
      ],
      "text/latex": [
       "\\begin{enumerate*}\n",
       "\\item 0.339\n",
       "\\item 0.379\n",
       "\\item 0.419\n",
       "\\end{enumerate*}\n"
      ],
      "text/markdown": [
       "1. 0.339\n",
       "2. 0.379\n",
       "3. 0.419\n",
       "\n",
       "\n"
      ],
      "text/plain": [
       "[1] 0.339 0.379 0.419"
      ]
     },
     "metadata": {},
     "output_type": "display_data"
    },
    {
     "data": {
      "text/html": [
       "<ol class=list-inline>\n",
       "\t<li>0.269</li>\n",
       "\t<li>0.311</li>\n",
       "\t<li>0.352</li>\n",
       "</ol>\n"
      ],
      "text/latex": [
       "\\begin{enumerate*}\n",
       "\\item 0.269\n",
       "\\item 0.311\n",
       "\\item 0.352\n",
       "\\end{enumerate*}\n"
      ],
      "text/markdown": [
       "1. 0.269\n",
       "2. 0.311\n",
       "3. 0.352\n",
       "\n",
       "\n"
      ],
      "text/plain": [
       "[1] 0.269 0.311 0.352"
      ]
     },
     "metadata": {},
     "output_type": "display_data"
    }
   ],
   "source": [
    "# Biais cumulé vs. biais du modèle initial vs. biais de la base\n",
    "round(dispImp(daTestFM[,\"sex\"],as.factor(yHatFMtree)),3);round(dispImp(daTest[,\"sex\"],as.factor(yHatTree)),3);\n",
    "round(dispImp(daTestFM[,\"sex\"],daTestFM[,\"income\"]),3);round(dispImp(daTest[,\"sex\"],as.factor(yHatTreeW)),3)"
   ]
  },
  {
   "cell_type": "markdown",
   "metadata": {},
   "source": [
    "#### *Random Forest*"
   ]
  },
  {
   "cell_type": "code",
   "execution_count": 61,
   "metadata": {
    "ExecuteTime": {
     "end_time": "2019-10-15T15:15:14.677640Z",
     "start_time": "2019-10-15T15:14:27.137Z"
    }
   },
   "outputs": [],
   "source": [
    "library(randomForest)\n",
    "# Modèle initial\n",
    "RFinit=randomForest(income~.,data=datApp)\n",
    "# Modèle en changeant les poids\n",
    "RFinitW=randomForest(income~.,data=datApp,weigth=w)\n",
    "# estimation des deux modèles\n",
    "RF.F=randomForest(income~.,data=datAppF[,-6])\n",
    "RF.M=randomForest(income~.,data=datAppM[,-6])\n",
    "# comparaison des paramètres"
   ]
  },
  {
   "cell_type": "code",
   "execution_count": 62,
   "metadata": {
    "ExecuteTime": {
     "end_time": "2019-10-15T15:15:19.955578Z",
     "start_time": "2019-10-15T15:15:18.189Z"
    }
   },
   "outputs": [],
   "source": [
    "# prévision des modèles\n",
    "yHatrf=predict(RFinit,newdata=daTest,type=\"response\")\n",
    "yHatrfW=predict(RFinitW,newdata=daTest,type=\"response\")\n",
    "yHatFrf=predict(RF.F,newdata=daTestF,type=\"response\")\n",
    "yHatMrf=predict(RF.M,newdata=daTestM,type=\"response\")\n",
    "# compilation des prévisions\n",
    "yHatFMrf=c(yHatFrf,yHatMrf)"
   ]
  },
  {
   "cell_type": "code",
   "execution_count": 63,
   "metadata": {
    "ExecuteTime": {
     "end_time": "2019-10-15T15:15:22.706162Z",
     "start_time": "2019-10-15T15:15:22.687Z"
    }
   },
   "outputs": [
    {
     "data": {
      "text/plain": [
       "        \n",
       "yHatFMrf incB incH\n",
       "       1 6282  880\n",
       "       2  398 1383"
      ]
     },
     "metadata": {},
     "output_type": "display_data"
    },
    {
     "data": {
      "text/plain": [
       "      \n",
       "yHatrf incB incH\n",
       "  incB 6284  865\n",
       "  incH  396 1398"
      ]
     },
     "metadata": {},
     "output_type": "display_data"
    }
   ],
   "source": [
    "# erreurs cumulées vs. erreur initiale de RF\n",
    "table(yHatFMrf,daTestFM$income); table(yHatrf,daTest$income)"
   ]
  },
  {
   "cell_type": "code",
   "execution_count": 64,
   "metadata": {
    "ExecuteTime": {
     "end_time": "2019-10-15T15:15:27.435579Z",
     "start_time": "2019-10-15T15:15:27.407Z"
    }
   },
   "outputs": [
    {
     "data": {
      "text/html": [
       "14.29"
      ],
      "text/latex": [
       "14.29"
      ],
      "text/markdown": [
       "14.29"
      ],
      "text/plain": [
       "[1] 14.29"
      ]
     },
     "metadata": {},
     "output_type": "display_data"
    },
    {
     "data": {
      "text/html": [
       "14.1"
      ],
      "text/latex": [
       "14.1"
      ],
      "text/markdown": [
       "14.1"
      ],
      "text/plain": [
       "[1] 14.1"
      ]
     },
     "metadata": {},
     "output_type": "display_data"
    },
    {
     "data": {
      "text/html": [
       "14.16"
      ],
      "text/latex": [
       "14.16"
      ],
      "text/markdown": [
       "14.16"
      ],
      "text/plain": [
       "[1] 14.16"
      ]
     },
     "metadata": {},
     "output_type": "display_data"
    }
   ],
   "source": [
    "tauxErr(table(yHatFMrf,daTestFM$income)); tauxErr(table(yHatrf,daTest$income))\n",
    "tauxErr(table(yHatrfW,daTest$income))"
   ]
  },
  {
   "cell_type": "code",
   "execution_count": 65,
   "metadata": {
    "ExecuteTime": {
     "end_time": "2019-10-15T15:15:31.959512Z",
     "start_time": "2019-10-15T15:15:31.925Z"
    }
   },
   "outputs": [
    {
     "data": {
      "text/html": [
       "<ol class=list-inline>\n",
       "\t<li>0.349</li>\n",
       "\t<li>0.396</li>\n",
       "\t<li>0.443</li>\n",
       "</ol>\n"
      ],
      "text/latex": [
       "\\begin{enumerate*}\n",
       "\\item 0.349\n",
       "\\item 0.396\n",
       "\\item 0.443\n",
       "\\end{enumerate*}\n"
      ],
      "text/markdown": [
       "1. 0.349\n",
       "2. 0.396\n",
       "3. 0.443\n",
       "\n",
       "\n"
      ],
      "text/plain": [
       "[1] 0.349 0.396 0.443"
      ]
     },
     "metadata": {},
     "output_type": "display_data"
    },
    {
     "data": {
      "text/html": [
       "<ol class=list-inline>\n",
       "\t<li>0.332</li>\n",
       "\t<li>0.378</li>\n",
       "\t<li>0.423</li>\n",
       "</ol>\n"
      ],
      "text/latex": [
       "\\begin{enumerate*}\n",
       "\\item 0.332\n",
       "\\item 0.378\n",
       "\\item 0.423\n",
       "\\end{enumerate*}\n"
      ],
      "text/markdown": [
       "1. 0.332\n",
       "2. 0.378\n",
       "3. 0.423\n",
       "\n",
       "\n"
      ],
      "text/plain": [
       "[1] 0.332 0.378 0.423"
      ]
     },
     "metadata": {},
     "output_type": "display_data"
    },
    {
     "data": {
      "text/html": [
       "<ol class=list-inline>\n",
       "\t<li>0.328</li>\n",
       "\t<li>0.373</li>\n",
       "\t<li>0.418</li>\n",
       "</ol>\n"
      ],
      "text/latex": [
       "\\begin{enumerate*}\n",
       "\\item 0.328\n",
       "\\item 0.373\n",
       "\\item 0.418\n",
       "\\end{enumerate*}\n"
      ],
      "text/markdown": [
       "1. 0.328\n",
       "2. 0.373\n",
       "3. 0.418\n",
       "\n",
       "\n"
      ],
      "text/plain": [
       "[1] 0.328 0.373 0.418"
      ]
     },
     "metadata": {},
     "output_type": "display_data"
    },
    {
     "data": {
      "text/html": [
       "<ol class=list-inline>\n",
       "\t<li>0.339</li>\n",
       "\t<li>0.379</li>\n",
       "\t<li>0.419</li>\n",
       "</ol>\n"
      ],
      "text/latex": [
       "\\begin{enumerate*}\n",
       "\\item 0.339\n",
       "\\item 0.379\n",
       "\\item 0.419\n",
       "\\end{enumerate*}\n"
      ],
      "text/markdown": [
       "1. 0.339\n",
       "2. 0.379\n",
       "3. 0.419\n",
       "\n",
       "\n"
      ],
      "text/plain": [
       "[1] 0.339 0.379 0.419"
      ]
     },
     "metadata": {},
     "output_type": "display_data"
    }
   ],
   "source": [
    "# Biais cumulé vs. biais du modèle initial vs. biais de la base\n",
    "round(dispImp(daTestFM[,\"sex\"],as.factor(yHatFMrf)),3);round(dispImp(daTest[,\"sex\"],as.factor(yHatrf)),3);\n",
    "round(dispImp(daTest[,\"sex\"],as.factor(yHatrfW)),3);round(dispImp(daTestFM[,\"sex\"],daTestFM[,\"income\"]),3)"
   ]
  },
  {
   "cell_type": "markdown",
   "metadata": {},
   "source": [
    "#### Synthèse graphique des résultats\n",
    "Les résultats précédents: précision et intervalles de confiance ont été enregistrés dans un fichier. Il faudrait automatiser la production de ce fichier."
   ]
  },
  {
   "cell_type": "code",
   "execution_count": 66,
   "metadata": {
    "ExecuteTime": {
     "end_time": "2019-10-15T15:15:42.370049Z",
     "start_time": "2019-10-15T15:15:42.344Z"
    }
   },
   "outputs": [
    {
     "data": {
      "text/plain": [
       "            Model       Lower              DI             Upper       \n",
       " binaryTree    :1   Min.   :0.2120   Min.   :0.2480   Min.   :0.2830  \n",
       " condBinTree   :1   1st Qu.:0.2620   1st Qu.:0.3040   1st Qu.:0.3460  \n",
       " condLinLogit  :1   Median :0.2930   Median :0.3350   Median :0.3760  \n",
       " condQuadLogit :1   Mean   :0.2885   Mean   :0.3299   Mean   :0.3709  \n",
       " condRandForest:1   3rd Qu.:0.3200   3rd Qu.:0.3650   3rd Qu.:0.4090  \n",
       " dataBaseBias  :1   Max.   :0.3490   Max.   :0.3950   Max.   :0.4420  \n",
       " (Other)       :7                                                     \n",
       "    Accuracy     \n",
       " Min.   : 83.32  \n",
       " 1st Qu.: 83.54  \n",
       " Median : 85.16  \n",
       " Mean   : 85.74  \n",
       " 3rd Qu.: 85.74  \n",
       " Max.   :100.00  \n",
       "                 "
      ]
     },
     "metadata": {},
     "output_type": "display_data"
    }
   ],
   "source": [
    "diAlgos=read.table(\"diVSalgos.txt\",header=T)\n",
    "summary(diAlgos)"
   ]
  },
  {
   "cell_type": "code",
   "execution_count": 63,
   "metadata": {
    "ExecuteTime": {
     "end_time": "2019-06-26T11:45:09.822134Z",
     "start_time": "2019-06-26T11:45:09.730Z"
    }
   },
   "outputs": [
    {
     "data": {
      "image/png": "[encoded data removed]",
      "text/plain": [
       "plot without title"
      ]
     },
     "metadata": {},
     "output_type": "display_data"
    }
   ],
   "source": [
    "library(Publish)\n",
    "options(repr.plot.width=8, repr.plot.height=5)\n",
    "plotConfidence(x=diAlgos[,c(\"DI\",\"Lower\",\"Upper\")],labels=diAlgos[,c(\"Model\",\"Accuracy\")],\n",
    "               points.pch=15,points.cex=3,points.col=rainbow(13),\n",
    "              values=FALSE,xlim=c(0.1,0.5),lwd=4,cex=1.5,\n",
    "               xlab=\"Disparate Impact\",xlab.cex=1,xratio=0.3,y.title.offset=1)"
   ]
  },
  {
   "cell_type": "markdown",
   "metadata": {},
   "source": [
    "*En résumé*\n",
    "- un modèle seul de régression logistique ou logistique quadratique avec le genre comme variable sensible discrimine,\n",
    "- un modèle seul d'arbre binaire ou de forêt aléatoire avec le genre comme variable sensible discrimine mais pas de façon significative pour l'échantillon test considéré; c'est en revanche le cas ci-dessus en itérant par validation croisée *Monte Carlo*.\n",
    "- la prise en considération de deux modèles, un par genre, conduit à un modèle qui ne discirmine plus du tout avec la régression logistique quadratique ou random forest.\n",
    "- la discrimination est moindre, mais encore significativement présente, en associant deux modèles de régression logistique linéaire, en supprimant la variable sensible ou en tentant de corriger le biais par simple testing.\n",
    "- la pondération pour renforcer la présence de la classe monoritaire ne suffit pas pour réduire le biais notablement.\n",
    "\n",
    "*En conclusion*\n",
    "\n",
    "La prise en compte simultanée des hommes et des femmes dans un mème modèle ou même algorithme renforce le biais **surtout** si le modèle est linéaire. L'association des deux modèle réduit ou annule la discrimination en séparant mieux les comportements ou modes de vie / travail selon le genre.\n",
    "\n",
    "Une analyse des coefficients du modèle quadratique associés aux interactions montre que ce ne sont pas les mêmes interactions qui sont présentes dans le modèle sauf celle entre educNum et occupation qui est commune.\n",
    "\n",
    "L'augmentation de biais et donc la discrimination diminuent avec la prise en compte d'interactions ou d'effets non linéaires avec un algorithme adapté (random forest). Sinon les effets linéaires triviaux se cumulent et engendrent plus d'erreurs sources de discrimination. Elle diminue d'autant plus que les modèles sont distincts pour les hommes et pour les femmes, sinon les effets appris pour les hommes majoritaires biaisent les prévisions pour les femmes. \n",
    "\n",
    "**Finalement, une façon simple d'éviter des décisions discriminatoires consiste à opérer des modèles ou algorihtmes différents selon les modalités de la variable sensible .... à condition que celle-ci soit observée.**"
   ]
  },
  {
   "cell_type": "markdown",
   "metadata": {},
   "source": [
    "## Autres niveaux de biais \n",
    "### Biais sur les erreurs ou précisions de prévision conditionnelles\n",
    "L'effet disproportionné est une première source de biais ou de discrimination parmi bien d'autres. Une deuxième souvent évoquée concerne les erreurs de prévision ou leurs précisions; c'est l'*overall accuracy equality*.\n",
    "\n",
    "#### Régression logistique linéaire"
   ]
  },
  {
   "cell_type": "code",
   "execution_count": 57,
   "metadata": {
    "ExecuteTime": {
     "end_time": "2019-10-15T15:12:47.627910Z",
     "start_time": "2019-10-15T15:12:47.604Z"
    }
   },
   "outputs": [
    {
     "data": {
      "text/html": [
       "<dl class=dl-horizontal>\n",
       "\t<dt>Female</dt>\n",
       "\t\t<dd>91.13</dd>\n",
       "\t<dt>Male</dt>\n",
       "\t\t<dd>79.84</dd>\n",
       "</dl>\n"
      ],
      "text/latex": [
       "\\begin{description*}\n",
       "\\item[Female] 91.13\n",
       "\\item[Male] 79.84\n",
       "\\end{description*}\n"
      ],
      "text/markdown": [
       "Female\n",
       ":   91.13Male\n",
       ":   79.84\n",
       "\n"
      ],
      "text/plain": [
       "Female   Male \n",
       " 91.13  79.84 "
      ]
     },
     "metadata": {},
     "output_type": "display_data"
    }
   ],
   "source": [
    "apply(table(pred.log<0.5,daTest$income,daTest$sex),3,tauxErr)"
   ]
  },
  {
   "cell_type": "code",
   "execution_count": 58,
   "metadata": {
    "ExecuteTime": {
     "end_time": "2019-10-15T15:12:55.705851Z",
     "start_time": "2019-10-15T15:12:55.687Z"
    }
   },
   "outputs": [
    {
     "data": {
      "text/html": [
       "<dl class=dl-horizontal>\n",
       "\t<dt>CaucNo</dt>\n",
       "\t\t<dd>87.57</dd>\n",
       "\t<dt>CaucYes</dt>\n",
       "\t\t<dd>82.82</dd>\n",
       "</dl>\n"
      ],
      "text/latex": [
       "\\begin{description*}\n",
       "\\item[CaucNo] 87.57\n",
       "\\item[CaucYes] 82.82\n",
       "\\end{description*}\n"
      ],
      "text/markdown": [
       "CaucNo\n",
       ":   87.57CaucYes\n",
       ":   82.82\n",
       "\n"
      ],
      "text/plain": [
       " CaucNo CaucYes \n",
       "  87.57   82.82 "
      ]
     },
     "metadata": {},
     "output_type": "display_data"
    }
   ],
   "source": [
    "apply(table(pred.log<0.5,daTest$income,daTest$origEthn),3,tauxErr)"
   ]
  },
  {
   "cell_type": "markdown",
   "metadata": {},
   "source": [
    "#### Deux modèles de *random forest*\n",
    "\n",
    "un pour les hommes, un pour les femmes mais la précision pour les femmes *vs.* pour les hommes reste plus importantes pour les femmes."
   ]
  },
  {
   "cell_type": "code",
   "execution_count": 67,
   "metadata": {
    "ExecuteTime": {
     "end_time": "2019-10-15T15:15:55.898503Z",
     "start_time": "2019-10-15T15:15:55.870Z"
    }
   },
   "outputs": [
    {
     "data": {
      "text/html": [
       "92.61"
      ],
      "text/latex": [
       "92.61"
      ],
      "text/markdown": [
       "92.61"
      ],
      "text/plain": [
       "[1] 92.61"
      ]
     },
     "metadata": {},
     "output_type": "display_data"
    },
    {
     "data": {
      "text/html": [
       "82.4"
      ],
      "text/latex": [
       "82.4"
      ],
      "text/markdown": [
       "82.4"
      ],
      "text/plain": [
       "[1] 82.4"
      ]
     },
     "metadata": {},
     "output_type": "display_data"
    }
   ],
   "source": [
    "100-tauxErr(table(yHatFrf,daTestF$income)); 100-tauxErr(table(yHatMrf,daTestM$income))"
   ]
  },
  {
   "cell_type": "markdown",
   "metadata": {},
   "source": [
    "Selon l'origine et surtout pour le genre, les précisions de la prévision sont très différentes mais au détriment du groupe \"majoritaire\", incluant sans doute plus de disparités et donc de difficultés à être prédit.\n",
    "\n",
    "*Remarque*: Une estimation par intervalle de confiance du rapport de ces quantités serait bienvenue."
   ]
  },
  {
   "cell_type": "markdown",
   "metadata": {},
   "source": [
    "### Asymétrie de la matrice de confusion: *equality of odds*\n",
    "Une autre source de discrimination, mise en évidence par le site [Propublica](https://www.propublica.org/article/machine-bias-risk-assessments-in-criminal-sentencing) à propos du score de récidive COMPAS de la société *equivant*, concerne une inversion de l'asymétrie de la matrice de confusion selon la variable sensible. De très nombreux critères ont été proposés pour évaluer cette asymétrie et dont [Verma et Rubin (2018](http://fairware.cs.umass.edu/papers/Verma.pdf)) proposent une revue. Leurs définitions sont basées sur les différentes fréquences issues de la table de contingence et calculées par la fonction ci-dessous."
   ]
  },
  {
   "cell_type": "code",
   "execution_count": 68,
   "metadata": {
    "ExecuteTime": {
     "end_time": "2019-10-15T15:16:02.113320Z",
     "start_time": "2019-10-15T15:16:02.099Z"
    }
   },
   "outputs": [],
   "source": [
    "contRatio <- function(T){ \n",
    "    # Ratios calculés à partir de la matrice de confusion\n",
    "    TP=T[2,2] # true positive\n",
    "    FP=T[2,1] # false positive\n",
    "    FN=T[1,2] # false negative\n",
    "    TN=T[1,1]  # true negative\n",
    "    PPV=TP/(TP+FP) # P(Y=1|g(x)=1) positive predictive value\n",
    "    FDR=FP/(TP+FP) # P(Y=0|g(x)=1) false discovery rate \n",
    "    FOR=FN/(TN+FN) # P(Y=1|g(x)=0) false omission rate\n",
    "    NPV=TN/(TN+FN) # P(Y=0|g(x)=0) negative predictive value\n",
    "    TPR=TP/(TP+FN) # P(g(x)=1|Y=1) true positive rate\n",
    "    FPR=FP/(FP+TN) # P(g(x)=1|Y=0) false positive rate\n",
    "    FNR=FN/(TP+FN) # P(g(x)=0|Y=1) false negative rate\n",
    "    TNR=TN/(FP+TN) # P(g(x)=0|Y=0) true negative rate\n",
    "    return(list(\"PPV\"=PPV,\"FDR\"=FDR,\"FOR\"=FOR,\"NPV\"=NPV,\"TPR\"=TPR,\"FPR\"=FPR,\"FNR\"=FNR,\"TNR\"=TNR))\n",
    "}"
   ]
  },
  {
   "cell_type": "code",
   "execution_count": 69,
   "metadata": {
    "ExecuteTime": {
     "end_time": "2019-10-15T15:16:05.328444Z",
     "start_time": "2019-10-15T15:16:05.297Z"
    }
   },
   "outputs": [
    {
     "data": {
      "text/html": [
       "<dl>\n",
       "\t<dt>$PPV</dt>\n",
       "\t\t<dd>0.713974986405655</dd>\n",
       "\t<dt>$FDR</dt>\n",
       "\t\t<dd>0.286025013594345</dd>\n",
       "\t<dt>$FOR</dt>\n",
       "\t\t<dd>0.133727477477477</dd>\n",
       "\t<dt>$NPV</dt>\n",
       "\t\t<dd>0.866272522522523</dd>\n",
       "\t<dt>$TPR</dt>\n",
       "\t\t<dd>0.580203269995581</dd>\n",
       "\t<dt>$FPR</dt>\n",
       "\t\t<dd>0.0787425149700599</dd>\n",
       "\t<dt>$FNR</dt>\n",
       "\t\t<dd>0.419796730004419</dd>\n",
       "\t<dt>$TNR</dt>\n",
       "\t\t<dd>0.92125748502994</dd>\n",
       "</dl>\n"
      ],
      "text/latex": [
       "\\begin{description}\n",
       "\\item[\\$PPV] 0.713974986405655\n",
       "\\item[\\$FDR] 0.286025013594345\n",
       "\\item[\\$FOR] 0.133727477477477\n",
       "\\item[\\$NPV] 0.866272522522523\n",
       "\\item[\\$TPR] 0.580203269995581\n",
       "\\item[\\$FPR] 0.0787425149700599\n",
       "\\item[\\$FNR] 0.419796730004419\n",
       "\\item[\\$TNR] 0.92125748502994\n",
       "\\end{description}\n"
      ],
      "text/markdown": [
       "$PPV\n",
       ":   0.713974986405655\n",
       "$FDR\n",
       ":   0.286025013594345\n",
       "$FOR\n",
       ":   0.133727477477477\n",
       "$NPV\n",
       ":   0.866272522522523\n",
       "$TPR\n",
       ":   0.580203269995581\n",
       "$FPR\n",
       ":   0.0787425149700599\n",
       "$FNR\n",
       ":   0.419796730004419\n",
       "$TNR\n",
       ":   0.92125748502994\n",
       "\n",
       "\n"
      ],
      "text/plain": [
       "$PPV\n",
       "[1] 0.713975\n",
       "\n",
       "$FDR\n",
       "[1] 0.286025\n",
       "\n",
       "$FOR\n",
       "[1] 0.1337275\n",
       "\n",
       "$NPV\n",
       "[1] 0.8662725\n",
       "\n",
       "$TPR\n",
       "[1] 0.5802033\n",
       "\n",
       "$FPR\n",
       "[1] 0.07874251\n",
       "\n",
       "$FNR\n",
       "[1] 0.4197967\n",
       "\n",
       "$TNR\n",
       "[1] 0.9212575\n"
      ]
     },
     "metadata": {},
     "output_type": "display_data"
    }
   ],
   "source": [
    "contRatio(table(pred.log>0.5,daTest$income))"
   ]
  },
  {
   "cell_type": "markdown",
   "metadata": {},
   "source": [
    "Liste de critères de loyauté pouvant être définis à partir des fréquences précédentes conditionnellement à la variable sensible. La combinatoire des possibles est importante mais peut être réduite en remarquant que *PPV*=1-*FDR*, *FOR*=1-*NPV*, *FPR*=1-*TNR*, *FNR*=1-*TPR*... Selon les auteurs, il y a loyauté de traitement si:\n",
    "- *Predictive parity*: les deux groupes ont les mêmes *PPV*s et par conséquence les mêmes *FDR*s;\n",
    "- *False positive error rate balance* ou *predictive equality*: mêmes *FPR*s et par conséquence les mêmes *TNR*s;\n",
    "- *False negative error rate balance* ou *equal opportunity*: mêmes *FNR*s et par conséquence les mêmes *TPR*s;\n",
    "- *Conditional procedure accuracy equality* ou *disparate mistreatment* ou *equalized odds* combine les deux ci-dessus: mêmes *TPR*s **ET** mêmes *FPR*s;\n",
    "- *Overall accuracy equality*: mêmes *TPR* **ET** mêmes *TNR*;\n",
    "- *Conditionnal use accuracy equality*: mêmes *PPV*s **ET** mêmes *NPV*s;\n",
    "- *Teatment equality*: les rapports *FN/FP* sont les mêmes pour les deux groupes.\n",
    "\n",
    "Bien d'autres critères ont été proposés (cf. Verma et Rubin; 2018), il ne sont pas développés ici. Les calculs des *TPR* et *TNR* conditionnels sont privilégiés ci-dessous mais ce n'est qu'un choix parmi d'autres. Friedler et al. (2019) montrent que ceux-ci sont très corrélés. il serait raisonnable de se limiter aux seules comparaisons des *TPR* et *FPR*."
   ]
  },
  {
   "cell_type": "markdown",
   "metadata": {},
   "source": [
    "#### Par genre \n",
    "##### Régression logistique linéaire\n",
    "La matrice de confusion est obtenue conditionnellement aux groupes pour comparer les différents indicateurs de loyauté."
   ]
  },
  {
   "cell_type": "code",
   "execution_count": 70,
   "metadata": {
    "ExecuteTime": {
     "end_time": "2019-10-15T15:16:14.797221Z",
     "start_time": "2019-10-15T15:16:14.773Z"
    }
   },
   "outputs": [
    {
     "data": {
      "text/html": [
       "<table>\n",
       "<thead><tr><th></th><th scope=col>Female</th><th scope=col>Male</th></tr></thead>\n",
       "<tbody>\n",
       "\t<tr><th scope=row>PPV</th><td>0.7333333</td><td>0.7116788</td></tr>\n",
       "\t<tr><th scope=row>FDR</th><td>0.2666667</td><td>0.2883212</td></tr>\n",
       "\t<tr><th scope=row>FOR</th><td>0.07586973</td><td>0.1692413 </td></tr>\n",
       "\t<tr><th scope=row>NPV</th><td>0.9241303</td><td>0.8307587</td></tr>\n",
       "\t<tr><th scope=row>TPR</th><td>0.4109195</td><td>0.6109661</td></tr>\n",
       "\t<tr><th scope=row>FPR</th><td>0.02040016</td><td>0.1147422 </td></tr>\n",
       "\t<tr><th scope=row>FNR</th><td>0.5890805</td><td>0.3890339</td></tr>\n",
       "\t<tr><th scope=row>TNR</th><td>0.9795998</td><td>0.8852578</td></tr>\n",
       "</tbody>\n",
       "</table>\n"
      ],
      "text/latex": [
       "\\begin{tabular}{r|ll}\n",
       "  & Female & Male\\\\\n",
       "\\hline\n",
       "\tPPV & 0.7333333 & 0.7116788\\\\\n",
       "\tFDR & 0.2666667 & 0.2883212\\\\\n",
       "\tFOR & 0.07586973 & 0.1692413 \\\\\n",
       "\tNPV & 0.9241303 & 0.8307587\\\\\n",
       "\tTPR & 0.4109195 & 0.6109661\\\\\n",
       "\tFPR & 0.02040016 & 0.1147422 \\\\\n",
       "\tFNR & 0.5890805 & 0.3890339\\\\\n",
       "\tTNR & 0.9795998 & 0.8852578\\\\\n",
       "\\end{tabular}\n"
      ],
      "text/markdown": [
       "\n",
       "| <!--/--> | Female | Male |\n",
       "|---|---|---|\n",
       "| PPV | 0.7333333 | 0.7116788 |\n",
       "| FDR | 0.2666667 | 0.2883212 |\n",
       "| FOR | 0.07586973 | 0.1692413  |\n",
       "| NPV | 0.9241303 | 0.8307587 |\n",
       "| TPR | 0.4109195 | 0.6109661 |\n",
       "| FPR | 0.02040016 | 0.1147422  |\n",
       "| FNR | 0.5890805 | 0.3890339 |\n",
       "| TNR | 0.9795998 | 0.8852578 |\n",
       "\n"
      ],
      "text/plain": [
       "    Female     Male     \n",
       "PPV 0.7333333  0.7116788\n",
       "FDR 0.2666667  0.2883212\n",
       "FOR 0.07586973 0.1692413\n",
       "NPV 0.9241303  0.8307587\n",
       "TPR 0.4109195  0.6109661\n",
       "FPR 0.02040016 0.1147422\n",
       "FNR 0.5890805  0.3890339\n",
       "TNR 0.9795998  0.8852578"
      ]
     },
     "metadata": {},
     "output_type": "display_data"
    }
   ],
   "source": [
    "fairness=data.frame(\"Female\"=as.matrix(contRatio(table(pred.log>0.5,daTest$income,daTest$sex)[,,1])),\n",
    "                    \"Male\"=as.matrix(contRatio(table(pred.log>0.5,daTest$income,daTest$sex)[,,2])))\n",
    "fairness"
   ]
  },
  {
   "cell_type": "markdown",
   "metadata": {},
   "source": [
    "##### *Random forest* avec deux modèles"
   ]
  },
  {
   "cell_type": "code",
   "execution_count": 71,
   "metadata": {
    "ExecuteTime": {
     "end_time": "2019-10-15T15:16:21.557215Z",
     "start_time": "2019-10-15T15:16:21.533Z"
    },
    "scrolled": true
   },
   "outputs": [
    {
     "data": {
      "text/html": [
       "<table>\n",
       "<thead><tr><th></th><th scope=col>Female</th><th scope=col>Male</th></tr></thead>\n",
       "<tbody>\n",
       "\t<tr><th scope=row>PPV</th><td>0.7359155</td><td>0.7842351</td></tr>\n",
       "\t<tr><th scope=row>FDR</th><td>0.2640845</td><td>0.2157649</td></tr>\n",
       "\t<tr><th scope=row>FOR</th><td>0.05319556</td><td>0.1628929 </td></tr>\n",
       "\t<tr><th scope=row>NPV</th><td>0.9468044</td><td>0.8371071</td></tr>\n",
       "\t<tr><th scope=row>TPR</th><td>0.6005747</td><td>0.6130548</td></tr>\n",
       "\t<tr><th scope=row>FPR</th><td>0.0294233</td><td>0.0781893</td></tr>\n",
       "\t<tr><th scope=row>FNR</th><td>0.3994253</td><td>0.3869452</td></tr>\n",
       "\t<tr><th scope=row>TNR</th><td>0.9705767</td><td>0.9218107</td></tr>\n",
       "</tbody>\n",
       "</table>\n"
      ],
      "text/latex": [
       "\\begin{tabular}{r|ll}\n",
       "  & Female & Male\\\\\n",
       "\\hline\n",
       "\tPPV & 0.7359155 & 0.7842351\\\\\n",
       "\tFDR & 0.2640845 & 0.2157649\\\\\n",
       "\tFOR & 0.05319556 & 0.1628929 \\\\\n",
       "\tNPV & 0.9468044 & 0.8371071\\\\\n",
       "\tTPR & 0.6005747 & 0.6130548\\\\\n",
       "\tFPR & 0.0294233 & 0.0781893\\\\\n",
       "\tFNR & 0.3994253 & 0.3869452\\\\\n",
       "\tTNR & 0.9705767 & 0.9218107\\\\\n",
       "\\end{tabular}\n"
      ],
      "text/markdown": [
       "\n",
       "| <!--/--> | Female | Male |\n",
       "|---|---|---|\n",
       "| PPV | 0.7359155 | 0.7842351 |\n",
       "| FDR | 0.2640845 | 0.2157649 |\n",
       "| FOR | 0.05319556 | 0.1628929  |\n",
       "| NPV | 0.9468044 | 0.8371071 |\n",
       "| TPR | 0.6005747 | 0.6130548 |\n",
       "| FPR | 0.0294233 | 0.0781893 |\n",
       "| FNR | 0.3994253 | 0.3869452 |\n",
       "| TNR | 0.9705767 | 0.9218107 |\n",
       "\n"
      ],
      "text/plain": [
       "    Female     Male     \n",
       "PPV 0.7359155  0.7842351\n",
       "FDR 0.2640845  0.2157649\n",
       "FOR 0.05319556 0.1628929\n",
       "NPV 0.9468044  0.8371071\n",
       "TPR 0.6005747  0.6130548\n",
       "FPR 0.0294233  0.0781893\n",
       "FNR 0.3994253  0.3869452\n",
       "TNR 0.9705767  0.9218107"
      ]
     },
     "metadata": {},
     "output_type": "display_data"
    }
   ],
   "source": [
    "fairnessRF=data.frame(\"Female\"=as.matrix(contRatio(table(yHatFrf,daTestF$income))),\n",
    "                    \"Male\"=as.matrix(contRatio(table(yHatMrf,daTestM$income))))\n",
    "fairnessRF"
   ]
  },
  {
   "cell_type": "markdown",
   "metadata": {},
   "source": [
    "Il n'est pas simple de comparer toutes ces quantités. Il apparaît néanmoins, en réumé, que\n",
    "- pour la **régression logistique** la plus élémentaire (linéaire) qui provoque le plus de discrimination,\n",
    "    - les taux de faux positifs (*FPR*) sont nettement en faveur des hommes contrairement aux taux de faux négatifs; \n",
    "    - il y a certes plus d'erreurs de prévision à leur encontre mais, c'est finalement à leur avantage avec proportionnellement plus de faux positifs. \n",
    "- pour le modèle associant deux **forêts aléatoires**, une par sexe, *FPR* et *FNR* prennent, conditionnellement au genre, des valeurs plus proche avec un rapport de 0.38.\n",
    "\n",
    "*Conclusion provisoire*: \n",
    "- Il est facile dans la commande ci-dessus de modifier le seuil de décision (0.35 au lieu de 0.5) pour les femmes. Cela a pour effet dans la section précédente de réduire significativement l'effet disproportionné mais l'effet sur la comparaison des taux de faux positifs est mineur.\n",
    "- En revanche l'association de deux modèles de RF qui élimine la discrimination mesurée par le *DI* mais conserve des taux d'erreur très différents, conduit à des FPR et FNR plius proche selon le genre. A l'exception des taux d'erreur, les sources de discrimination de la décision algorithmique sont réduits voire éliminées mais sans pour autant corriger les biais de société.\n",
    "\n",
    "Ceci est confirmé statistiquement ci-dessous en estimant par intervalle de confiance les rapports des  *FPR*.\n",
    "\n",
    "La fonction  `eqOdds`  admet 4 paramètres:\n",
    "- S: variable du groupe protégé\n",
    "- Y: variable cible\n",
    "- P: prévision $\\hat{Y}$\n",
    "- alpha=0.05, valeur par défaut.\n",
    "\n",
    "Elle fournit l'estimation par intervalle de confiance du rapport des FPR conditionnels."
   ]
  },
  {
   "cell_type": "code",
   "execution_count": 72,
   "metadata": {
    "ExecuteTime": {
     "end_time": "2019-10-15T15:16:59.335285Z",
     "start_time": "2019-10-15T15:16:59.318Z"
    }
   },
   "outputs": [],
   "source": [
    "source('../Functions/eqOdds.R')"
   ]
  },
  {
   "cell_type": "code",
   "execution_count": 79,
   "metadata": {
    "ExecuteTime": {
     "end_time": "2019-10-15T15:28:56.667165Z",
     "start_time": "2019-10-15T15:28:56.636Z"
    },
    "scrolled": true
   },
   "outputs": [
    {
     "data": {
      "text/html": [
       "<table>\n",
       "<thead><tr><th scope=col>inf</th><th scope=col>est_value</th><th scope=col>sup</th></tr></thead>\n",
       "<tbody>\n",
       "\t<tr><td>0.13</td><td>0.18</td><td>0.23</td></tr>\n",
       "</tbody>\n",
       "</table>\n"
      ],
      "text/latex": [
       "\\begin{tabular}{r|lll}\n",
       " inf & est\\_value & sup\\\\\n",
       "\\hline\n",
       "\t 0.13 & 0.18 & 0.23\\\\\n",
       "\\end{tabular}\n"
      ],
      "text/markdown": [
       "\n",
       "| inf | est_value | sup |\n",
       "|---|---|---|\n",
       "| 0.13 | 0.18 | 0.23 |\n",
       "\n"
      ],
      "text/plain": [
       "  inf  est_value sup \n",
       "1 0.13 0.18      0.23"
      ]
     },
     "metadata": {},
     "output_type": "display_data"
    }
   ],
   "source": [
    "round(eqOdds(daTest$sex,daTest$income,as.factor(pred.log>0.5)),2)"
   ]
  },
  {
   "cell_type": "markdown",
   "metadata": {},
   "source": [
    "#### Par origine"
   ]
  },
  {
   "cell_type": "code",
   "execution_count": 51,
   "metadata": {},
   "outputs": [
    {
     "data": {
      "text/html": [
       "<table>\n",
       "<thead><tr><th></th><th scope=col>CaucNo</th><th scope=col>CaucYes</th></tr></thead>\n",
       "<tbody>\n",
       "\t<tr><th scope=row>PPV</th><td>0.7096774</td><td>0.7174419</td></tr>\n",
       "\t<tr><th scope=row>FDR</th><td>0.2903226</td><td>0.2825581</td></tr>\n",
       "\t<tr><th scope=row>FOR</th><td>0.07815275</td><td>0.1446509 </td></tr>\n",
       "\t<tr><th scope=row>NPV</th><td>0.9218472</td><td>0.8553491</td></tr>\n",
       "\t<tr><th scope=row>TPR</th><td>0.5      </td><td>0.5881792</td></tr>\n",
       "\t<tr><th scope=row>FPR</th><td>0.03351955</td><td>0.08686327</td></tr>\n",
       "\t<tr><th scope=row>FNR</th><td>0.5      </td><td>0.4118208</td></tr>\n",
       "\t<tr><th scope=row>TNR</th><td>0.9664804</td><td>0.9131367</td></tr>\n",
       "</tbody>\n",
       "</table>\n"
      ],
      "text/latex": [
       "\\begin{tabular}{r|ll}\n",
       "  & CaucNo & CaucYes\\\\\n",
       "\\hline\n",
       "\tPPV & 0.7096774 & 0.7174419\\\\\n",
       "\tFDR & 0.2903226 & 0.2825581\\\\\n",
       "\tFOR & 0.07815275 & 0.1446509 \\\\\n",
       "\tNPV & 0.9218472 & 0.8553491\\\\\n",
       "\tTPR & 0.5       & 0.5881792\\\\\n",
       "\tFPR & 0.03351955 & 0.08686327\\\\\n",
       "\tFNR & 0.5       & 0.4118208\\\\\n",
       "\tTNR & 0.9664804 & 0.9131367\\\\\n",
       "\\end{tabular}\n"
      ],
      "text/markdown": [
       "\n",
       "| <!--/--> | CaucNo | CaucYes |\n",
       "|---|---|---|\n",
       "| PPV | 0.7096774 | 0.7174419 |\n",
       "| FDR | 0.2903226 | 0.2825581 |\n",
       "| FOR | 0.07815275 | 0.1446509  |\n",
       "| NPV | 0.9218472 | 0.8553491 |\n",
       "| TPR | 0.5       | 0.5881792 |\n",
       "| FPR | 0.03351955 | 0.08686327 |\n",
       "| FNR | 0.5       | 0.4118208 |\n",
       "| TNR | 0.9664804 | 0.9131367 |\n",
       "\n"
      ],
      "text/plain": [
       "    CaucNo     CaucYes   \n",
       "PPV 0.7096774  0.7174419 \n",
       "FDR 0.2903226  0.2825581 \n",
       "FOR 0.07815275 0.1446509 \n",
       "NPV 0.9218472  0.8553491 \n",
       "TPR 0.5        0.5881792 \n",
       "FPR 0.03351955 0.08686327\n",
       "FNR 0.5        0.4118208 \n",
       "TNR 0.9664804  0.9131367 "
      ]
     },
     "metadata": {},
     "output_type": "display_data"
    }
   ],
   "source": [
    "fairness2=data.frame(\"CaucNo\"=as.matrix(contRatio(table(pred.log>0.5,daTest$income,daTest$origEthn)[,,1])),\n",
    "                    \"CaucYes\"=as.matrix(contRatio(table(pred.log>0.5,daTest$income,daTest$origEthn)[,,2])))\n",
    "fairness2"
   ]
  },
  {
   "cell_type": "code",
   "execution_count": 78,
   "metadata": {
    "ExecuteTime": {
     "end_time": "2019-10-15T15:28:42.059619Z",
     "start_time": "2019-10-15T15:28:42.033Z"
    }
   },
   "outputs": [
    {
     "data": {
      "text/html": [
       "<table>\n",
       "<thead><tr><th scope=col>inf</th><th scope=col>est_value</th><th scope=col>sup</th></tr></thead>\n",
       "<tbody>\n",
       "\t<tr><td>0.34</td><td>0.49</td><td>0.63</td></tr>\n",
       "</tbody>\n",
       "</table>\n"
      ],
      "text/latex": [
       "\\begin{tabular}{r|lll}\n",
       " inf & est\\_value & sup\\\\\n",
       "\\hline\n",
       "\t 0.34 & 0.49 & 0.63\\\\\n",
       "\\end{tabular}\n"
      ],
      "text/markdown": [
       "\n",
       "| inf | est_value | sup |\n",
       "|---|---|---|\n",
       "| 0.34 | 0.49 | 0.63 |\n",
       "\n"
      ],
      "text/plain": [
       "  inf  est_value sup \n",
       "1 0.34 0.49      0.63"
      ]
     },
     "metadata": {},
     "output_type": "display_data"
    }
   ],
   "source": [
    "round(eqOdds(daTest$origEthn,daTest$income,as.factor(pred.log>0.5)),2)"
   ]
  },
  {
   "cell_type": "markdown",
   "metadata": {},
   "source": [
    "Même remarque mais à un degré moindre."
   ]
  },
  {
   "cell_type": "markdown",
   "metadata": {},
   "source": [
    "## *Testing* et détection de discrimination individuelle\n",
    "###  Introduction\n",
    "La section précédente est focalisée sur une détection de la *discrimination de groupe*. Celle-ci n'est pas pratiquée en France ni même en Europe alors que plusieurs rapports dont celui de la commission Villani y font référence. Ce dernier demande la création d'un *discrimination impact assessment* pour aborder cette question mais sans apporter de précision ni faire référence à la pourtant abondante littérature du sujet.\n",
    "\n",
    "En revanche, la détection d'une *discrimination individuelle* est pratiquée de longue date (1939 pour les boîtes de nuit) en faisant appel à des expérimentations spécifiques dites de *testing*; consulter un [Historique](https://fr.wikipedia.org/wiki/Test_de_discrimination) à ce sujet. \n",
    "\n",
    "Les cours de justice acceptent le *testing* comme élément de preuve d'une discrimination à l'embauche depuis un [arrêté](https://www.juritravail.com/discrimination-physique/embauche/ph-alternative-A-1.html) de 2016 de la cours de cassation même si ce procédé peut être considéré comme déloyal.\n",
    "\n",
    "Le test de discrimination ou *testing* automatique est pratiqué en France de façon systématique pour des études sociologiques par l'[Observatoire des discriminations](http://www.observatoiredesdiscriminations.fr/testing), le laboratoire TEPP: [L'Horty et al. (2017)](http://www.tepp.eu/doc/users/268/bib/banque-et-assurance_9025.pdf), ou pilotée par la [DARES](http://dares.travail-emploi.gouv.fr/dares-etudes-et-statistiques/etudes-et-syntheses/dares-analyses-dares-indicateurs-dares-resultats/testing) du Ministère du Travail en lien avec l'association [ISM Corum](http://www.ismcorum.org/). Certains entreprises demandent d'ailleurs à ISM Corum de [tester leur mode de recrutement](http://www.ismcorum.org/le-testing-d-entreprise-%E2%80%93-temoignages-d-adecco-casino-lvmh-michael-page-M22-R22-A443.html).  L'observatoire des discriminations propose un [audit qualité](http://www.observatoiredesdiscriminations.fr/diagnostics-qualite) des procédures de recrutement et [Novethic](https://www.novethic.fr/lexique/detail/testing.html), filliale de la caisse des dépôts et consignation, donne des formations pour des entreprises \"éthiques\".\n",
    "\n",
    "L'objectif de cette section est d'expérimenté le *testing* sur la robustesse du modèle de prévision précédent. \n",
    "\n",
    "*Existe-t-il des personnes pour lesquelles le seul changement de genre ou d'origine a pour effet de changer la prévision du seuil de revenu `income` en leur défaveur?*\n",
    "\n",
    "Personnes qui seraient en droit d'entreprendre une action en justice dans le cas d'une décision impactante, crédit, emploi.... Elles apporteraient ainsi la preuve de leur discrimination.\n",
    "\n",
    "Le processus est simple, il suffit de modifier l'échantillon test en *échangeant les deux modalités de la variables sensible*. La variable cible (seuil de revenu) est ensuite reprédite en utilisant le même modèle initial. \n",
    "\n",
    "Evidemment, comme pour l'estimation du *disparate impact*, il est nécessaire de disposer de la variable sensible (genre ou origine) pour pouvoir opérer du *testing* automatique.\n",
    "\n",
    "\n",
    "### Personnes discriminées selon leur genre"
   ]
  },
  {
   "cell_type": "code",
   "execution_count": 47,
   "metadata": {
    "ExecuteTime": {
     "end_time": "2019-06-26T10:27:13.731504Z",
     "start_time": "2019-06-26T10:27:13.701Z"
    }
   },
   "outputs": [],
   "source": [
    "daTest2=daTest\n",
    "# Changement de genre\n",
    "daTest2$sex=as.factor(ifelse(daTest$sex==\"Male\",\"Female\",\"Male\"))\n",
    "# Prévision du \"nouvel\" échantillon test\n",
    "pred2.log=predict(log.lm,daTest2,type=\"response\")"
   ]
  },
  {
   "cell_type": "code",
   "execution_count": 50,
   "metadata": {
    "ExecuteTime": {
     "end_time": "2019-06-26T10:28:13.502591Z",
     "start_time": "2019-06-26T10:28:13.475Z"
    }
   },
   "outputs": [
    {
     "data": {
      "text/plain": [
       "       \n",
       "        FALSE TRUE\n",
       "  FALSE  1684  155\n",
       "  TRUE     23 7081"
      ]
     },
     "metadata": {},
     "output_type": "display_data"
    }
   ],
   "source": [
    "table(pred.log<0.5,pred2.log<0.5)"
   ]
  },
  {
   "cell_type": "markdown",
   "metadata": {},
   "source": [
    "Même chose mais répartition par genre."
   ]
  },
  {
   "cell_type": "code",
   "execution_count": 51,
   "metadata": {
    "ExecuteTime": {
     "end_time": "2019-06-26T10:28:32.567666Z",
     "start_time": "2019-06-26T10:28:32.538Z"
    }
   },
   "outputs": [
    {
     "data": {
      "text/plain": [
       ", ,  = Female\n",
       "\n",
       "       \n",
       "        FALSE TRUE\n",
       "  FALSE   195    0\n",
       "  TRUE     23 2679\n",
       "\n",
       ", ,  = Male\n",
       "\n",
       "       \n",
       "        FALSE TRUE\n",
       "  FALSE  1489  155\n",
       "  TRUE      0 4402\n"
      ]
     },
     "metadata": {},
     "output_type": "display_data"
    }
   ],
   "source": [
    "table(pred.log<0.5,pred2.log<0.5,daTest$sex)"
   ]
  },
  {
   "cell_type": "markdown",
   "metadata": {},
   "source": [
    "**N.B.** Il y a 178 personnes dont la prévision de revenu change lorsqu'elles changent de genre. Et le changement est dans le sens attendu.\n",
    "- 23 femmes passent d'une prévision de revenu faible à une prévision de revenu élevé\n",
    "- 155 hommes prennnent le chemin inverse  lorsqu'ils deviennent des femmes; ces hommes bénificient donc d'une discrimination positive."
   ]
  },
  {
   "cell_type": "markdown",
   "metadata": {},
   "source": [
    "### Personnes discriminées selon leur origine\n",
    "Mêmes calculs vis-à-vis de la variable sensible origine."
   ]
  },
  {
   "cell_type": "code",
   "execution_count": 91,
   "metadata": {},
   "outputs": [],
   "source": [
    "daTest3=daTest\n",
    "daTest3$origEthn=as.factor(ifelse(daTest$origEthn==\"CaucYes\",\"CaucNo\",\"CaucYes\"))\n",
    "# Prévision du \"nouvel\" échantillon test\n",
    "pred3.log=predict(log.lm,newdata=daTest3,type=\"response\")"
   ]
  },
  {
   "cell_type": "markdown",
   "metadata": {},
   "source": [
    "Comme pour la discrimination selon le genre, la détection de personnes discriminées selon leur origine est nette. Les prévisions de seuil de revenu de 160 personnes sont affectées par le changement d'origine.\n",
    "- 15 sont discriminées par leur origine\n",
    "- 177 bénéficient d'une discrimination positive"
   ]
  },
  {
   "cell_type": "code",
   "execution_count": 92,
   "metadata": {},
   "outputs": [
    {
     "data": {
      "text/plain": [
       "       \n",
       "        FALSE TRUE\n",
       "  FALSE  1662  177\n",
       "  TRUE     15 7089"
      ]
     },
     "metadata": {},
     "output_type": "display_data"
    }
   ],
   "source": [
    "table(pred.log<0.5,pred3.log<0.5)"
   ]
  },
  {
   "cell_type": "code",
   "execution_count": 93,
   "metadata": {},
   "outputs": [
    {
     "data": {
      "text/plain": [
       ", ,  = CaucNo\n",
       "\n",
       "       \n",
       "        FALSE TRUE\n",
       "  FALSE   147    0\n",
       "  TRUE     15 1109\n",
       "\n",
       ", ,  = CaucYes\n",
       "\n",
       "       \n",
       "        FALSE TRUE\n",
       "  FALSE  1515  177\n",
       "  TRUE      0 5980\n"
      ]
     },
     "metadata": {},
     "output_type": "display_data"
    }
   ],
   "source": [
    "table(pred.log<0.5,pred3.log<0.5,daTest$origEthn)"
   ]
  },
  {
   "cell_type": "markdown",
   "metadata": {},
   "source": [
    "### *Testing* et prévision \"déloyale\" \n",
    "Une façon simple pour une entreprise de se prémunir contre une opération de *testing* consiste à fixer comme probablité prédite le maximum des deux probablités obtenues en échangeant les modalités de la variable sensible. De façon générale, choisir la situation la plus favorable pour la personne quelque soit le genre (resp. l'origine) observé. La discrimination individuelle repérable par *testing* est neutralisée et l'influence sur le taux d'erreur quasi négligeable. \n",
    "\n",
    "#### Genre"
   ]
  },
  {
   "cell_type": "code",
   "execution_count": 94,
   "metadata": {},
   "outputs": [
    {
     "data": {
      "text/plain": [
       "       \n",
       "        incB incH\n",
       "  FALSE 6145  936\n",
       "  TRUE   535 1327"
      ]
     },
     "metadata": {},
     "output_type": "display_data"
    },
    {
     "data": {
      "text/html": [
       "16.45"
      ],
      "text/latex": [
       "16.45"
      ],
      "text/markdown": [
       "16.45"
      ],
      "text/plain": [
       "[1] 16.45"
      ]
     },
     "metadata": {},
     "output_type": "display_data"
    }
   ],
   "source": [
    "fairPredictGenre=ifelse(pred.log<pred2.log,pred2.log,pred.log)\n",
    "confMat=table(fairPredictGenre>0.5,daTest$income)\n",
    "confMat;tauxErr(confMat)"
   ]
  },
  {
   "cell_type": "code",
   "execution_count": 95,
   "metadata": {},
   "outputs": [
    {
     "data": {
      "text/html": [
       "<ol class=list-inline>\n",
       "\t<li>0.212</li>\n",
       "\t<li>0.248</li>\n",
       "\t<li>0.283</li>\n",
       "</ol>\n"
      ],
      "text/latex": [
       "\\begin{enumerate*}\n",
       "\\item 0.212\n",
       "\\item 0.248\n",
       "\\item 0.283\n",
       "\\end{enumerate*}\n"
      ],
      "text/markdown": [
       "1. 0.212\n",
       "2. 0.248\n",
       "3. 0.283\n",
       "\n",
       "\n"
      ],
      "text/plain": [
       "[1] 0.212 0.248 0.283"
      ]
     },
     "metadata": {},
     "output_type": "display_data"
    },
    {
     "data": {
      "text/html": [
       "<ol class=list-inline>\n",
       "\t<li>0.24</li>\n",
       "\t<li>0.277</li>\n",
       "\t<li>0.314</li>\n",
       "</ol>\n"
      ],
      "text/latex": [
       "\\begin{enumerate*}\n",
       "\\item 0.24\n",
       "\\item 0.277\n",
       "\\item 0.314\n",
       "\\end{enumerate*}\n"
      ],
      "text/markdown": [
       "1. 0.24\n",
       "2. 0.277\n",
       "3. 0.314\n",
       "\n",
       "\n"
      ],
      "text/plain": [
       "[1] 0.240 0.277 0.314"
      ]
     },
     "metadata": {},
     "output_type": "display_data"
    }
   ],
   "source": [
    "round(dispImp(daTest$sex,as.factor(pred.log>0.5)),3)\n",
    "round(dispImp(daTest$sex,as.factor(fairPredictGenre>0.5)),3)"
   ]
  },
  {
   "cell_type": "markdown",
   "metadata": {},
   "source": [
    "La correction par *testing* réduit un peu le biais mais de façon insuffisante pour réduire significativement la discrimination."
   ]
  },
  {
   "cell_type": "markdown",
   "metadata": {},
   "source": [
    "#### Origine\n",
    "\n",
    "Des résulats simiulaires sont obtenus."
   ]
  },
  {
   "cell_type": "code",
   "execution_count": 96,
   "metadata": {},
   "outputs": [
    {
     "data": {
      "text/plain": [
       "       \n",
       "        incB incH\n",
       "  FALSE 6144  945\n",
       "  TRUE   536 1318"
      ]
     },
     "metadata": {},
     "output_type": "display_data"
    },
    {
     "data": {
      "text/html": [
       "16.56"
      ],
      "text/latex": [
       "16.56"
      ],
      "text/markdown": [
       "16.56"
      ],
      "text/plain": [
       "[1] 16.56"
      ]
     },
     "metadata": {},
     "output_type": "display_data"
    }
   ],
   "source": [
    "fairPredictOrig=ifelse(pred.log<pred3.log,pred3.log,pred.log)\n",
    "confMat=table(fairPredictOrig>0.5,daTest$income)\n",
    "confMat;tauxErr(confMat)"
   ]
  },
  {
   "cell_type": "code",
   "execution_count": 62,
   "metadata": {},
   "outputs": [
    {
     "data": {
      "text/html": [
       "<ol class=list-inline>\n",
       "\t<li>0.367</li>\n",
       "\t<li>0.444</li>\n",
       "\t<li>0.52</li>\n",
       "</ol>\n"
      ],
      "text/latex": [
       "\\begin{enumerate*}\n",
       "\\item 0.367\n",
       "\\item 0.444\n",
       "\\item 0.52\n",
       "\\end{enumerate*}\n"
      ],
      "text/markdown": [
       "1. 0.367\n",
       "2. 0.444\n",
       "3. 0.52\n",
       "\n",
       "\n"
      ],
      "text/plain": [
       "[1] 0.367 0.444 0.520"
      ]
     },
     "metadata": {},
     "output_type": "display_data"
    },
    {
     "data": {
      "text/html": [
       "<ol class=list-inline>\n",
       "\t<li>0.378</li>\n",
       "\t<li>0.454</li>\n",
       "\t<li>0.531</li>\n",
       "</ol>\n"
      ],
      "text/latex": [
       "\\begin{enumerate*}\n",
       "\\item 0.378\n",
       "\\item 0.454\n",
       "\\item 0.531\n",
       "\\end{enumerate*}\n"
      ],
      "text/markdown": [
       "1. 0.378\n",
       "2. 0.454\n",
       "3. 0.531\n",
       "\n",
       "\n"
      ],
      "text/plain": [
       "[1] 0.378 0.454 0.531"
      ]
     },
     "metadata": {},
     "output_type": "display_data"
    }
   ],
   "source": [
    "round(dispImp(daTest$origEthn,as.factor(pred.log>0.5)),3)\n",
    "round(dispImp(daTest$origEthn,as.factor(fairPredictGenre>0.5)),3)"
   ]
  },
  {
   "cell_type": "markdown",
   "metadata": {},
   "source": [
    "La correction qui rend la décision localement loyale c'est-à-dire en supprimant toute discrimination individuelle n'a qu'un impact très marginal sur l'erreur de prévision. De plus, cette \"correction\" du biais permet d'échapper à une poursuite juridique individuelle mais ne corrige globalement pas l'effet disproportioné et donc le biais de groupe. Cette correction est *factice* et pour le moins *déloyale*. "
   ]
  },
  {
   "cell_type": "markdown",
   "metadata": {},
   "source": [
    "## Conclusions\n",
    "1. Ces données de sondage présentent des biais sociologiques attenuds vis-à-vis des groupes de genre et d'origine ethnique. Le biais, mesuré par l'effet disproportionné (*Disparate impact* ou *DI*), est nettement plus marqué conditionnellement au genre.\n",
    "2. Une prévision du seuil avec un algorithme d'apprentissage reproduit voire amplifie ce biais: le *DI* décroît. C'est même statistiquement significatif pour pour le genre avec la régression logistique linéaire (sans interaction): intervalles de confiance du *DI* disjoints; c'est plus modéré pour l'origine. *Un modèle linéaire opère une discrimination conditionnellement au genre*. \n",
    "3. *Comme la précision, l'augmentation du biais dépend de l'algorithme opéré*. Sur ces points, les forêts aléatoires sont plus performantes que la régression logistique, sur-biaisent moins mais sont opaques à une interprétation. \n",
    "4. L'itération de la séparation aléatoire des échantillons apprentissage / test par validation croisée *Monte Carlo* révèle une instabilité importante de l'estimation du *DI*, même sur une relativement grosse base de données, mais confirme l'effet discriminatoire des algorithmes.\n",
    "5. La détection d'une discrimination individuelle par *testing* montre que peu de femmes ou de non-caucasiens pourraient se déclarer discriminés par la prévision et être donc en mesure, individuellement, de porter plainte. Cette mesure individuelle de la discrimination, est finalement assez annecdotique au regard de la mesure de discrimination de groupe; autrement dit, sur cet exemple, *une mesure individuelle de la discrimination par testing minimise son importance*. \n",
    "6. Corriger la prévision pour attribuer la prévision la plus favorable quel que soit la modalité sensible, permet à une entreprise ou administration d'échapper à une investigation par *testing* mais ne fait en rien décroîte le biais (accroître le *DI*) donc la discrimination de groupe. Ce serait une *pratique tout à fait déloyale, voire condamnable*.\n",
    "7. La suppression des variables sensibles de la prévision ne change rien aux points 2 et 3 précédents. C'est une *procédure naïve et inefficace pour corriger le *DI* donc un biais de groupe*.\n",
    "8. **Résultat important** à évaluer sur d'autres sources de données: une façon simple d'éviter des décisions discriminatoires, mais sans toucher au biais de société, consiste à opérer des algorithmes  *non linéaires* (arbre, forêt), *un pour chaque modalité* de la variable sensible.\n",
    "9. Les taux d'erreurs conditionnels aux variables sensibles sont assez différents; une estimation par intervalle de confiance serait bienvenue. *L'accroissement de l'erreur est dans ce cas au détriment de la classe majoritaire* et se retrouve pour tous les algorithmes linéaires ou non.\n",
    "10. Après l'effet disproportionné (*DI*) et les taux d'erreur conditionnels, il est important de considérer les éventuelles *asymétries des matrices de confusion conditionnelles* (*equality of odds*) aux variables sensibles. Le rapport des taux de faux positifs conditionnels ainsi que celui des taux de faux négatifs conditionnels témoignent de différences de traitement marqués relativement aux groupes. Pour la régression logistique, Les taux d'erreurs sont effectivement importants pour les hommes mais c'est finalement à leur avantage car le *taux de faux positifs est significativement plus important les concernant au contraire des taux de faux négatifs plus importants pour les femmes*. En cas d'erreur celle-ci est donc en moyenne au profit des hommes; ce phénomène est moins marqué conditionnellement à l'origine ethnique. \n",
    "11. **Suite**: Comme pour le *DI*, l'*association de deux algorihtmes non linéaires* (arbre ou forêt) ne corrige pas le biais sur les taux d'erreur mais semble le réduire sur les taux de faux positifs et faux négatifs conditionnels. \n",
    "12. En France, comme en Europe, il y a une part d'hypocrisie à interdire l'enregistrement d'une variable sensible. Certes, cela protège la confidentialité des personnes mais empêche aussi de mettre simplement en évidence biais et discriminations des traitements vis-à-vis d'un groupe ou des individus. \n",
    "13. Une pratique parfois jugée déloyale et qui consiste à adapter le seuil de décision de la prévision, le baisser pour le groupe à protéger, réduit significativement le biais pour le *rendre similaire à celui de la base d'entraînement*; il n'y a plus discrimination de groupe. La procédure qui consisterait à réduire plus le seuil pour corriger le biais de société revient à introduire une discrimination positive. Il s'agit d'un choix politique et non plus statistique. Dans ce cas, l'erreur de prévision se dégrade. D'autres corrections de biais en contrôlant l'erreur de prévision sont à considérer pour conduire à de l'*apprentissage loyal* et donc à une *IA éthique*. C'est l'objet d'un autre tutoriel en python."
   ]
  },
  {
   "cell_type": "markdown",
   "metadata": {},
   "source": [
    "## Références\n",
    "Barocas S., Selbst A. (2016). Big Data's Disparate Impact, *California Law Review*, 671.\n",
    "\n",
    "Besse P. ,del Barrio E., Gordaliza P., Loubes J.-M. (2018). Confidence Intervals for testing Disparate Impact in Fair Learning, [arXiv](https://arxiv.org/abs/1807.06362).\n",
    "\n",
    "Calders T., Verwer S. (2010). Three naive Bayes approaches for discrimination-free classification, Data Mining and Knowledge Discovery, 21 (2), pp 277–292.\n",
    "\n",
    "Friedler S., Scheidegger C., Venkatasubramanian S., Choudhary S., Hamilton E., Roth D. (2019). A comparative study of fairness-enhancing interventions in machine learning, Proceedings of the Conference on Fairness, Accountability, and Transparency.\n",
    "\n",
    "Verma S., Rubin J. (2018). [Fairness Definitions Explained](http://fairware.cs.umass.edu/papers/Verma.pdf),  ACM/IEEE International Workshop on Software Fairness."
   ]
  }
 ],
 "metadata": {
  "kernelspec": {
   "display_name": "R",
   "language": "R",
   "name": "ir"
  },
  "language_info": {
   "codemirror_mode": "r",
   "file_extension": ".r",
   "mimetype": "text/x-r-source",
   "name": "R",
   "pygments_lexer": "r",
   "version": "3.5.1"
  },
  "latex_envs": {
   "LaTeX_envs_menu_present": true,
   "autoclose": false,
   "autocomplete": true,
   "bibliofile": "biblio.bib",
   "cite_by": "apalike",
   "current_citInitial": 1,
   "eqLabelWithNumbers": true,
   "eqNumInitial": 1,
   "hotkeys": {
    "equation": "Ctrl-E",
    "itemize": "Ctrl-I"
   },
   "labels_anchors": false,
   "latex_user_defs": false,
   "report_style_numbering": false,
   "user_envs_cfg": false
  },
  "toc": {
   "base_numbering": 1,
   "nav_menu": {},
   "number_sections": true,
   "sideBar": true,
   "skip_h1_title": true,
   "title_cell": "Table of Contents",
   "title_sidebar": "Contents",
   "toc_cell": false,
   "toc_position": {
    "height": "calc(100% - 180px)",
    "left": "10px",
    "top": "150px",
    "width": "231.05px"
   },
   "toc_section_display": true,
   "toc_window_display": true
  }
 },
 "nbformat": 4,
 "nbformat_minor": 2
}
