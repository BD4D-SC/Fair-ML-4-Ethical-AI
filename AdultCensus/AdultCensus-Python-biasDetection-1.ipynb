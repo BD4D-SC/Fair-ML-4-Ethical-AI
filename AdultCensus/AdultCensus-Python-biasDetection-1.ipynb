{
 "cells": [
  {
   "cell_type": "markdown",
   "metadata": {},
   "source": [
    "<a href=\"http://www.insa-toulouse.fr/\" ><img src=\"http://www.math.univ-toulouse.fr/~besse/Wikistat/Images/logo-insa.jpg\" style=\"height:100px; display: inline\"  alt=\"INSA\"/></a> \n",
    "<a href=\"https://observatoire-ia.ulaval.ca/\" ><img src=\"https://observatoire-ia.devbeet.com/app/uploads/2019/06/oia-share.png\" style=\"height:100px; display: inline\" alt=\"ObvIA\"/></a> \n",
    "<a href=\"https://aniti.univ-toulouse.fr/\" ><img src=\"https://www.actuia.com/wp-content/uploads/2019/07/logo_ANITI1-696x348.jpg\" style=\"height:100px; display: inline\" alt=\"ANITI\"/></a> "
   ]
  },
  {
   "cell_type": "markdown",
   "metadata": {},
   "source": [
    "# Tutoriel 1: Détecter, Mesurer, Expliquer, Atténuer, la Discrimination Indirecte des Algorithmes d'Apprentissage Statistique de l'IA\n",
    "\n",
    "**Résumé**\n",
    "Analyse de données extraites d'un recensement aux USA de 1994 et disponibles sur le [dépôt de l'UCI](http://archive.ics.uci.edu/ml/). Elles permettent de mettre en relation le niveau de revenu (inférieur ou supérieur à 50k$), analogue à une \"solvabilité\" ou score de crédit, avec d'autres variables dont certaines sensibles car indiquant l'appartenance à un groupe protégé par la loi: sexe, origine ethnique. Différents indicateurs de biais donc de sources de discrimination indirecte vis à vis d'un groupe, sont définis et illustrés sur ces données. Les principaux, consensuels dans la littérature, sont l'effet disproportionné ou *disparate / adverse impact* (DI) (*demographic equality*), le taux d'erreur conditionnel (*overall error equality*) et des mesures associées à l'asymétrie des matrices de confusion conditionnellement au groupe (*equalized odds*); ce premier tutoriel cible la détection de discriminaiton indirecte principale associée à l'effet diproportionné (*adverse* ou *disparate impact*). Les résultats montrent que les biais de société présents dans les données d'entraînement sont fidèlement reproduits par l'apprentissage et même renforcés. C'est typiquement un cas de discrimination notamment avec une régression logistique linéaire, pas significativement avec un algorithme non linéaire (*random forest*). La doctrine \"officielle\" des enquêtes par *testing*, adaptées à détecter une discrimination individuelle directe, sous-estiment gravement la discrimination de groupe indirecte. L'utilisation d'algorithmes non linéaires (arbre ou forêt aléatoire) spécifiques, un par classe: femmes *vs.* hommes, annule l'effet discriminatoire. Il est ensuite facile d'introduire une part de discrimination postive pour atténuer le biais de société sans pénaliser la qualité de prévision. \n",
    "\n",
    "***NB*** Tout *data scientist* dispose d'une large marge de manoeuvre sur ces sujets en fonction de ses compétences, de sa déontologie ou éthique professionnelle, et sans contrôle externe à ce jour, malgré les souhaits du rapport Villani (2018) de mise en place d'un *Discriminaiton Impact Assessment*. \n",
    "\n",
    "***Rappel*** Toutes les législations européennes, américaines, canadiennes... interdisent les discriminations, directes et indirectes; le code pénal français prévoit des peines allant jusqu'à 45k€ d'amende et trois ans de prison."
   ]
  },
  {
   "cell_type": "markdown",
   "metadata": {},
   "source": [
    "## Introduction\n",
    "### Les données\n",
    "Des données publiques disponibles sur le site [UCI repository](http://archive.ics.uci.edu/ml/) sont extraites de la base de données issue du recensement réalisé aux Etats Unis en 1994. Les deux fichiers *train* et *test* on été réunis en un seul. Ces données son largement utilisées et font référence comme outil de *benchmark* pour comparer les performances de méthodes d’apprentissage. L’objectif est de prévoir, avec plus ou moins de biais, la variable binaire \"revenu annuel\" supérieur ou inférieur à 50k$. Cette prévision n'impacte pas la personne mais comme la démarche et le contexte sont tout à fait similaires à ce que pourrait faire une banque pour évaluer un risque de crédit, c'est exemple est très illustratif. Ce jeu de données est systématiquement utilisé (bac à sable) pour évaluer les propriétés des algorithmes d'apprentissage équitable ou loyal (*fair learning*) car, contrairement à beaucoup d'autres jeux de données utilisés pour cette fin (*e.g. german credit bank*), la vraie valeur de la variable cible est connue ainsi que l'origine ethnique des personnes concernées.\n",
    "\n",
    "Dans les données initiales, 48.842 individus sont décrits par les 14 variables du tableau ci-dessous:\n",
    "\n",
    "\n",
    "|Num|Libellé|Ensemble de valeurs|\n",
    "|-|---------:|-------------------:|\n",
    "|1|`Age`|real|\n",
    "|2|`workClass`|Private, Self-emp-not-inc, Self-emp-inc, Federal-gov, Local-gov, State-gov, Without-pay, Never-worked|\n",
    "|3|`fnlwgt`|real|\n",
    "|4|`education`|Bachelors, Some-college, 11th, HS-grad, Prof-school, Assoc-acdm, Assoc-voc, 9th, 7th-8th, 12th, Masters, 1st-4th, 10th, Doctorate, 5th-6th, Preschool|\n",
    "|5|`educNum`|integer|\n",
    "|6|`mariStat`|Married-civ-spouse, Divorced, Never-married, Separated, Widowed, Married-spouse-absent, Married-AF-spouse|\n",
    "|7|`occup`|Tech-support, Craft-repair, Other-service, Sales, Exec-managerial, Prof-specialty, Handlers-cleaners, Machine-op-inspct, Adm-clerical, Farming-fishing, Transport-moving, Priv-house-serv, Protective-serv, Armed-Forces|\n",
    "|8|`relationship`|Wife, Own-child, Husband, Not-in-family, Other-relative, Unmarried\n",
    "|9|`origEthn`|White, Asian-Pac-Islander, Amer-Indian-Eskimo, Other, Black|\n",
    "|10|`sex`|Female, Male|\n",
    "|11|`capitalGain`|real| \n",
    "|12|`capitalLoss`|real|\n",
    "|13|`hoursWeek`|real|\n",
    "|14|`nativCountry`|United-States, Cambodia, England, Puerto-Rico, Canada, Germany, Outlying-US(Guam-USVI-etc), India, Japan, Greece, South, China, Cuba, Iran, Honduras, Philippines, Italy, Poland, Jamaica, Vietnam, Mexico, Portugal, Ireland, France, Dominican-Republic, Laos, Ecuador, Taiwan, Haiti, Columbia, Hungary, Guatemala, Nicaragua, Scotland, Thailand, Yugoslavia, El-Salvador, Trinadad&Tobago, Peru, Hong, Holand-Netherlands|\n",
    "|15|`income`|>50K, <=50K|\n"
   ]
  },
  {
   "cell_type": "markdown",
   "metadata": {},
   "source": [
    "### Préparation des données\n",
    "\n",
    "Le traitement commence par une préparation détaillée des données:\n",
    "- lecture et prise en charge des données en remarquant que la variable `fnlwgt` (Final sampling weight) a un [statut particulier](http://web.cs.wpi.edu/~cs4341/C00/Projects/fnlwgt) pas très clair; elle est éliminée;\n",
    "- suppression des observations présentant des données manquantes, erreurs ou incohérences,\n",
    "- regroupement des modalités très dispersées, \n",
    "- suppression des variables redondantes. \n",
    "\n",
    "Cette phase est notoirement différente de la stratégie de Friedler et al. (2019) qui, par principe, analysent toutes les données brute sans le préalable d'une analyse statistique descriptive élémentaire.\n",
    "\n",
    "### Estimation des biais\n",
    "\n",
    "Parmi tous les critères de biais existant susceptibles de mettre en évidence une discrimination indirecte (Zliobaitė, 2015)), trois ont été privilégiés (cf. Vermat et Rubin, 2018): \n",
    "1. discrimination indirecte par l'effet disproportionné: *disparate impact* ou *demographic equality*\n",
    "2. comparaison des taux d'erreur conditionnels: *overall error equality*\n",
    "3. comparaison des rapports de cote: *Conditional procedure accuracy equality* ou *disparate mistreatment* ou *equalized odds*.\n",
    "\n",
    "L'accent est mis dans ce premier tutoriel sur l'estimation de l'effet disproportionné (*disparate* ou *adverse impact*) vis-à-vis du sexe estimé par un intervalle de confiance (*delta method*, Besse et al. 2018). Les estimations sont calculées sur les données initiales de la base (biais de société) puis sur les prévisions du seuil de revenu obtenues par trois algorithmes (régression logistique, forêts aléatoires, *gradient boosting machine*) pour évaluer le risque de discrimination. Les estimations par intervalle de confiance des deux autres critères de discrimination sont également disponibles et illustrés dans un deuxième tutoriel.\n",
    "\n",
    "### Biais et discriminations\n",
    "Les résultats obtenus montrent clairement le renforcement du biais opéré par un modèle linéaire contrairement à un algorithme non linéaire. De plus, la suppression de la variable sensible du modèle de prévision n'a qu'un effet négligeable sur l'effet discriminatoire d'un algorithme; en conséquence,  le *testing* devient inefficace pour détecter une discrimination. Les résultats montrent donc l'importance de la prise en compte des interactions et qu'une correction élémentaire du biais voire l'introduction d'une discrimination positive peut être facilement obtenue sans nuire à la précision de la prévision.\n",
    "\n",
    "*Remarques*: \n",
    "- un [calepin plus détaillé](https://github.com/wikistat/Fair-ML-4-Ethical-AI/blob/master/AdultCensus/AdultCensus-R-biasDetectionLong.ipynb) mais en R propose une comparaison des impacts des autres algorithmes d'apprentissage et donc de leur effet discriminatoire fonction du biais de société (sexe et origine ethnique). Cela permet d'en mieux comprendre les origines selon le déséquilibre des classes et surtout selon l'importance des interactions entre les variables. \n",
    "- le site [aif360](https://aif360.mybluemix.net/) propose également un ensemble d'exemples et tutoriels. Il est  plus riche: autres jeux de données, autes critères et surtout plus d'algorithmes de débiaisage, mais présente soit des démonstrations triviales soit des exemples des méthodes très sophistiquées d'atténuation du biais. Ce tutoriel se veut plus pédagogique pour appréhender pas à pas les problèmes. "
   ]
  },
  {
   "cell_type": "markdown",
   "metadata": {},
   "source": [
    "## Pris en charge et exploration des données\n",
    "### Lecture \n",
    "La lecture et la transformation des données brutes du dépôt de l'UCI sont obtenues directement en exécutant les codes ci-dessous. Analyser le code afin de comprendre les choix de transformations qui ont été réalisés sur les données brutes. \n",
    "\n",
    "Charger les données et le programme dans le répertoire courant en même temps que ce tutoriel ou changer de chemin pour y accéder directement. "
   ]
  },
  {
   "cell_type": "code",
   "execution_count": 1,
   "metadata": {
    "ExecuteTime": {
     "end_time": "2020-03-13T08:10:53.739146Z",
     "start_time": "2020-03-13T08:10:53.012575Z"
    }
   },
   "outputs": [
    {
     "data": {
      "text/html": [
       "<div>\n",
       "<style scoped>\n",
       "    .dataframe tbody tr th:only-of-type {\n",
       "        vertical-align: middle;\n",
       "    }\n",
       "\n",
       "    .dataframe tbody tr th {\n",
       "        vertical-align: top;\n",
       "    }\n",
       "\n",
       "    .dataframe thead th {\n",
       "        text-align: right;\n",
       "    }\n",
       "</style>\n",
       "<table border=\"1\" class=\"dataframe\">\n",
       "  <thead>\n",
       "    <tr style=\"text-align: right;\">\n",
       "      <th></th>\n",
       "      <th>age</th>\n",
       "      <th>workClass</th>\n",
       "      <th>fnlwgt</th>\n",
       "      <th>education</th>\n",
       "      <th>educNum</th>\n",
       "      <th>mariStat</th>\n",
       "      <th>occup</th>\n",
       "      <th>relationship</th>\n",
       "      <th>origEthn</th>\n",
       "      <th>sex</th>\n",
       "      <th>capitalGain</th>\n",
       "      <th>capitalLoss</th>\n",
       "      <th>hoursWeek</th>\n",
       "      <th>nativCountry</th>\n",
       "      <th>income</th>\n",
       "    </tr>\n",
       "  </thead>\n",
       "  <tbody>\n",
       "    <tr>\n",
       "      <th>0</th>\n",
       "      <td>39</td>\n",
       "      <td>State-gov</td>\n",
       "      <td>77516</td>\n",
       "      <td>Bachelors</td>\n",
       "      <td>13</td>\n",
       "      <td>Never-married</td>\n",
       "      <td>Adm-clerical</td>\n",
       "      <td>Not-in-family</td>\n",
       "      <td>White</td>\n",
       "      <td>Male</td>\n",
       "      <td>2174</td>\n",
       "      <td>0</td>\n",
       "      <td>40</td>\n",
       "      <td>United-States</td>\n",
       "      <td>&lt;=50K</td>\n",
       "    </tr>\n",
       "    <tr>\n",
       "      <th>1</th>\n",
       "      <td>50</td>\n",
       "      <td>Self-emp-not-inc</td>\n",
       "      <td>83311</td>\n",
       "      <td>Bachelors</td>\n",
       "      <td>13</td>\n",
       "      <td>Married-civ-spouse</td>\n",
       "      <td>Exec-managerial</td>\n",
       "      <td>Husband</td>\n",
       "      <td>White</td>\n",
       "      <td>Male</td>\n",
       "      <td>0</td>\n",
       "      <td>0</td>\n",
       "      <td>13</td>\n",
       "      <td>United-States</td>\n",
       "      <td>&lt;=50K</td>\n",
       "    </tr>\n",
       "    <tr>\n",
       "      <th>2</th>\n",
       "      <td>38</td>\n",
       "      <td>Private</td>\n",
       "      <td>215646</td>\n",
       "      <td>HS-grad</td>\n",
       "      <td>9</td>\n",
       "      <td>Divorced</td>\n",
       "      <td>Handlers-cleaners</td>\n",
       "      <td>Not-in-family</td>\n",
       "      <td>White</td>\n",
       "      <td>Male</td>\n",
       "      <td>0</td>\n",
       "      <td>0</td>\n",
       "      <td>40</td>\n",
       "      <td>United-States</td>\n",
       "      <td>&lt;=50K</td>\n",
       "    </tr>\n",
       "    <tr>\n",
       "      <th>3</th>\n",
       "      <td>53</td>\n",
       "      <td>Private</td>\n",
       "      <td>234721</td>\n",
       "      <td>11th</td>\n",
       "      <td>7</td>\n",
       "      <td>Married-civ-spouse</td>\n",
       "      <td>Handlers-cleaners</td>\n",
       "      <td>Husband</td>\n",
       "      <td>Black</td>\n",
       "      <td>Male</td>\n",
       "      <td>0</td>\n",
       "      <td>0</td>\n",
       "      <td>40</td>\n",
       "      <td>United-States</td>\n",
       "      <td>&lt;=50K</td>\n",
       "    </tr>\n",
       "    <tr>\n",
       "      <th>4</th>\n",
       "      <td>28</td>\n",
       "      <td>Private</td>\n",
       "      <td>338409</td>\n",
       "      <td>Bachelors</td>\n",
       "      <td>13</td>\n",
       "      <td>Married-civ-spouse</td>\n",
       "      <td>Prof-specialty</td>\n",
       "      <td>Wife</td>\n",
       "      <td>Black</td>\n",
       "      <td>Female</td>\n",
       "      <td>0</td>\n",
       "      <td>0</td>\n",
       "      <td>40</td>\n",
       "      <td>Cuba</td>\n",
       "      <td>&lt;=50K</td>\n",
       "    </tr>\n",
       "  </tbody>\n",
       "</table>\n",
       "</div>"
      ],
      "text/plain": [
       "   age          workClass  fnlwgt   education  educNum             mariStat  \\\n",
       "0   39          State-gov   77516   Bachelors       13        Never-married   \n",
       "1   50   Self-emp-not-inc   83311   Bachelors       13   Married-civ-spouse   \n",
       "2   38            Private  215646     HS-grad        9             Divorced   \n",
       "3   53            Private  234721        11th        7   Married-civ-spouse   \n",
       "4   28            Private  338409   Bachelors       13   Married-civ-spouse   \n",
       "\n",
       "                occup    relationship origEthn      sex  capitalGain  \\\n",
       "0        Adm-clerical   Not-in-family    White     Male         2174   \n",
       "1     Exec-managerial         Husband    White     Male            0   \n",
       "2   Handlers-cleaners   Not-in-family    White     Male            0   \n",
       "3   Handlers-cleaners         Husband    Black     Male            0   \n",
       "4      Prof-specialty            Wife    Black   Female            0   \n",
       "\n",
       "   capitalLoss  hoursWeek    nativCountry  income  \n",
       "0            0         40   United-States   <=50K  \n",
       "1            0         13   United-States   <=50K  \n",
       "2            0         40   United-States   <=50K  \n",
       "3            0         40   United-States   <=50K  \n",
       "4            0         40            Cuba   <=50K  "
      ]
     },
     "execution_count": 1,
     "metadata": {},
     "output_type": "execute_result"
    }
   ],
   "source": [
    "%matplotlib inline\n",
    "# Importations \n",
    "import matplotlib.pyplot as plt\n",
    "import pandas as pd\n",
    "import numpy as np\n",
    "import scipy\n",
    "adult=pd.read_csv('adultTrainTest.csv')\n",
    "adult.head()"
   ]
  },
  {
   "cell_type": "markdown",
   "metadata": {},
   "source": [
    "### Regroupement des modalités trop peu fréquentes"
   ]
  },
  {
   "cell_type": "code",
   "execution_count": 2,
   "metadata": {
    "ExecuteTime": {
     "end_time": "2020-03-13T08:10:53.745705Z",
     "start_time": "2020-03-13T08:10:53.741494Z"
    }
   },
   "outputs": [],
   "source": [
    "def create_categorical_data(df, column_name):\n",
    "    cat_columns = pd.Categorical(df[column_name], ordered=False)\n",
    "    return cat_columns"
   ]
  },
  {
   "cell_type": "code",
   "execution_count": 3,
   "metadata": {
    "ExecuteTime": {
     "end_time": "2020-03-13T08:10:53.757357Z",
     "start_time": "2020-03-13T08:10:53.748640Z"
    }
   },
   "outputs": [
    {
     "name": "stdout",
     "output_type": "stream",
     "text": [
      "[' Divorced' ' Married-AF-spouse' ' Married-civ-spouse'\n",
      " ' Married-spouse-absent' ' Never-married' ' Separated' ' Widowed']\n"
     ]
    }
   ],
   "source": [
    "print(np.sort(adult[\"mariStat\"].unique()))"
   ]
  },
  {
   "cell_type": "code",
   "execution_count": 4,
   "metadata": {
    "ExecuteTime": {
     "end_time": "2020-03-13T08:10:53.772541Z",
     "start_time": "2020-03-13T08:10:53.760380Z"
    }
   },
   "outputs": [],
   "source": [
    "# mariStat\n",
    "cat_name_dic = {\" Never-married\": \"Never-Married\", \" Married-AF-spouse\": \"Married\",\n",
    "                \" Married-civ-spouse\": \"Married\", \" Married-spouse-absent\": \"Not-Married\",\n",
    "                \" Separated\": \"Not-Married\", \" Divorced\": \"Not-Married\", \" Widowed\": \"Widowed\"}\n",
    "adult['mariStat'] = adult.mariStat.map(cat_name_dic)"
   ]
  },
  {
   "cell_type": "code",
   "execution_count": 5,
   "metadata": {
    "ExecuteTime": {
     "end_time": "2020-03-13T08:10:53.786750Z",
     "start_time": "2020-03-13T08:10:53.774564Z"
    }
   },
   "outputs": [
    {
     "name": "stdout",
     "output_type": "stream",
     "text": [
      "[' ?' ' Cambodia' ' Canada' ' China' ' Columbia' ' Cuba'\n",
      " ' Dominican-Republic' ' Ecuador' ' El-Salvador' ' England' ' France'\n",
      " ' Germany' ' Greece' ' Guatemala' ' Haiti' ' Holand-Netherlands'\n",
      " ' Honduras' ' Hong' ' Hungary' ' India' ' Iran' ' Ireland' ' Italy'\n",
      " ' Jamaica' ' Japan' ' Laos' ' Mexico' ' Nicaragua'\n",
      " ' Outlying-US(Guam-USVI-etc)' ' Peru' ' Philippines' ' Poland'\n",
      " ' Portugal' ' Puerto-Rico' ' Scotland' ' South' ' Taiwan' ' Thailand'\n",
      " ' Trinadad&Tobago' ' United-States' ' Vietnam' ' Yugoslavia']\n"
     ]
    }
   ],
   "source": [
    "print(np.sort(adult[\"nativCountry\"].unique()))"
   ]
  },
  {
   "cell_type": "code",
   "execution_count": 6,
   "metadata": {
    "ExecuteTime": {
     "end_time": "2020-03-13T08:10:53.807819Z",
     "start_time": "2020-03-13T08:10:53.790828Z"
    }
   },
   "outputs": [],
   "source": [
    "# nativCountry\n",
    "cat_country = {\" Cambodia\": \"SE-Asia\", \" Canada\": \"British-Commonwealth\", \" China\": \"China\", \" Columbia\": \"South-America\",\n",
    "               \" Cuba\": \"Other\", \" Dominican-Republic\": \"Latin-America\", \" Ecuador\": \"South-America\",\n",
    "               \" El-Salvador\": \"South-America\", \" England\": \"British-Commonwealth\", \" France\": \"Euro_1\",\n",
    "               \" Germany\": \"Euro_1\", \" Greece\": \"Euro_2\", \" Guatemala\": \"Latin-America\", \" Haiti\": \"Latin-America\",\n",
    "               \" Holand-Netherlands\": \"Euro_1\", \" Honduras\": \"Latin-America\", \" Hong\": \"China\", \" Hungary\": \"Euro_2\",\n",
    "               \" India\": \"British-Commonwealth\", \" Iran\": \"Other\", \" Ireland\": \"British-Commonwealth\", \" Italy\": \"Euro_1\",\n",
    "               \" Jamaica\": \"Latin-America\", \" Japan\": \"Other\", \" Laos\": \"SE-Asia\", \" Mexico\": \"Latin-America\",\n",
    "               \" Nicaragua\": \"Latin-America\", \" Outlying-US(Guam-USVI-etc)\": \"Latin-America\", \" Peru\": \"South-America\",\n",
    "               \" Philippines\": \"SE-Asia\", \" Poland\": \"Euro_2\", \" Portugal\": \"Euro_2\", \" Puerto-Rico\": \"Latin-America\",\n",
    "               \" Scotland\": \"British-Commonwealth\", \" South\": \"Euro_2\", \" Taiwan\": \"China\", \" Thailand\": \"SE-Asia\",\n",
    "               \" Trinadad&Tobago\": \"Latin-America\", \" Vietnam\": \"SE-Asia\", \" United-States\": \"United-States\",\n",
    "               \" Yugoslavia\": \"Euro_2\"}\n",
    "adult[\"nativCountry\"] = adult.nativCountry.map(cat_country)"
   ]
  },
  {
   "cell_type": "code",
   "execution_count": 7,
   "metadata": {
    "ExecuteTime": {
     "end_time": "2020-03-13T08:10:53.819465Z",
     "start_time": "2020-03-13T08:10:53.809357Z"
    }
   },
   "outputs": [
    {
     "name": "stdout",
     "output_type": "stream",
     "text": [
      "[' 10th' ' 11th' ' 12th' ' 1st-4th' ' 5th-6th' ' 7th-8th' ' 9th'\n",
      " ' Assoc-acdm' ' Assoc-voc' ' Bachelors' ' Doctorate' ' HS-grad'\n",
      " ' Masters' ' Preschool' ' Prof-school' ' Some-college']\n"
     ]
    }
   ],
   "source": [
    "print(np.sort(adult[\"education\"].unique()))"
   ]
  },
  {
   "cell_type": "code",
   "execution_count": 8,
   "metadata": {
    "ExecuteTime": {
     "end_time": "2020-03-13T08:10:53.844272Z",
     "start_time": "2020-03-13T08:10:53.822916Z"
    }
   },
   "outputs": [],
   "source": [
    "# education\n",
    "cat_educ = {\" 10th\": \"Dropout\", \" 11th\": \"Dropout\", \" 12th\": \"Dropout\", \" 1st-4th\": \"Dropout\", \" 5th-6th\": \"Dropout\",\n",
    "            \" 7th-8th\": \"Dropout\", \" 9th\": \"Dropout\", \" Assoc-acdm\": \"Associates\", \" Assoc-voc\": \"Associates\",\n",
    "            \" Bachelors\": \"Bachelors\", \" Doctorate\": \"Doctorate\", \" HS-grad\": \"HS-grad\", \" Masters\": \"Masters\",\n",
    "            \" Preschool\": \"Dropout\", \" Prof-school\": \"Prof-School\", \" Some-college\": \"HS-Graduate\"}\n",
    "adult[\"education\"] = adult.education.map(cat_educ)"
   ]
  },
  {
   "cell_type": "code",
   "execution_count": 9,
   "metadata": {
    "ExecuteTime": {
     "end_time": "2020-03-13T08:10:53.855754Z",
     "start_time": "2020-03-13T08:10:53.847246Z"
    }
   },
   "outputs": [
    {
     "name": "stdout",
     "output_type": "stream",
     "text": [
      "[' ?' ' Federal-gov' ' Local-gov' ' Never-worked' ' Private'\n",
      " ' Self-emp-inc' ' Self-emp-not-inc' ' State-gov' ' Without-pay']\n"
     ]
    }
   ],
   "source": [
    "print(np.sort(adult[\"workClass\"].unique()))"
   ]
  },
  {
   "cell_type": "code",
   "execution_count": 10,
   "metadata": {
    "ExecuteTime": {
     "end_time": "2020-03-13T08:10:53.873724Z",
     "start_time": "2020-03-13T08:10:53.857346Z"
    }
   },
   "outputs": [],
   "source": [
    "# workClass\n",
    "cat_work = {\" Federal-gov\": \"Federal-Govt\", \" Local-gov\": \"Other-Govt\", \" State-gov\": \"Other-Govt\", \" Private\": \"Private\",\n",
    "            \" Self-emp-inc\": \"Self-Employed\", \" Self-emp-not-inc\": \"Self-Employed\", \" Without-pay\": \"Not-Working\",\n",
    "            \" Never-worked\": \"Not-Working\"}\n",
    "adult[\"workClass\"] = adult.workClass.map(cat_work)"
   ]
  },
  {
   "cell_type": "code",
   "execution_count": 11,
   "metadata": {
    "ExecuteTime": {
     "end_time": "2020-03-13T08:10:53.888184Z",
     "start_time": "2020-03-13T08:10:53.875511Z"
    }
   },
   "outputs": [
    {
     "name": "stdout",
     "output_type": "stream",
     "text": [
      "[' ?' ' Adm-clerical' ' Armed-Forces' ' Craft-repair' ' Exec-managerial'\n",
      " ' Farming-fishing' ' Handlers-cleaners' ' Machine-op-inspct'\n",
      " ' Other-service' ' Priv-house-serv' ' Prof-specialty' ' Protective-serv'\n",
      " ' Sales' ' Tech-support' ' Transport-moving']\n"
     ]
    }
   ],
   "source": [
    "print(np.sort(adult[\"occup\"].unique()))"
   ]
  },
  {
   "cell_type": "code",
   "execution_count": 12,
   "metadata": {
    "ExecuteTime": {
     "end_time": "2020-03-13T08:10:53.905163Z",
     "start_time": "2020-03-13T08:10:53.889995Z"
    }
   },
   "outputs": [],
   "source": [
    "# occup\n",
    "cat_occup = {\" Adm-clerical\": \"Admin\", \" Craft-repair\": \"Blue-Collar\", \" Exec-managerial\": \"White-Collar\",\n",
    "             \" Farming-fishing\": \"Blue-Collar\", \" Handlers-cleaners\": \"Blue-Collar\", \" Machine-op-inspct\": \"Blue-Collar\",\n",
    "             \" Other-service\": \"Service\", \" Priv-house-serv\": \"Service\", \" Prof-specialty\": \"Professional\",\n",
    "             \" Protective-serv\": \"Other-occups\", \" Sales\": \"Sales\", \" Tech-support\": \"Other-occups\",\n",
    "             \" Transport-moving\": \"Blue-Collar\"}\n",
    "adult[\"occup\"] = adult.occup.map(cat_occup)"
   ]
  },
  {
   "cell_type": "code",
   "execution_count": 13,
   "metadata": {
    "ExecuteTime": {
     "end_time": "2020-03-13T08:10:53.917287Z",
     "start_time": "2020-03-13T08:10:53.907024Z"
    }
   },
   "outputs": [
    {
     "name": "stdout",
     "output_type": "stream",
     "text": [
      "[' Amer-Indian-Eskimo' ' Asian-Pac-Islander' ' Black' ' Other' ' White']\n"
     ]
    }
   ],
   "source": [
    "print(np.sort(adult[\"origEthn\"].unique()))"
   ]
  },
  {
   "cell_type": "code",
   "execution_count": 14,
   "metadata": {
    "ExecuteTime": {
     "end_time": "2020-03-13T08:10:53.930560Z",
     "start_time": "2020-03-13T08:10:53.919012Z"
    }
   },
   "outputs": [],
   "source": [
    "# origEthn\n",
    "cat_orig = {\" White\": \"CaucYes\", \" Black\": \"CaucNo\", \" Amer-Indian-Eskimo\": \"CaucNo\", \" Asian-Pac-Islander\": \"CaucNo\",\n",
    "            \" Other\": \"CaucNo\"}\n",
    "adult[\"origEthn\"] = adult.origEthn.map(cat_orig)"
   ]
  },
  {
   "cell_type": "code",
   "execution_count": 15,
   "metadata": {
    "ExecuteTime": {
     "end_time": "2020-03-13T08:10:53.941792Z",
     "start_time": "2020-03-13T08:10:53.932944Z"
    }
   },
   "outputs": [
    {
     "name": "stdout",
     "output_type": "stream",
     "text": [
      "[' <=50K' ' >50K']\n"
     ]
    }
   ],
   "source": [
    "print(np.sort(adult[\"income\"].unique()))"
   ]
  },
  {
   "cell_type": "code",
   "execution_count": 16,
   "metadata": {
    "ExecuteTime": {
     "end_time": "2020-03-13T08:10:53.949917Z",
     "start_time": "2020-03-13T08:10:53.944012Z"
    }
   },
   "outputs": [],
   "source": [
    "def create_categorical_data_rename(df, column_name, cat_name_dic):\n",
    "    cat_columns = pd.Categorical(df[column_name], ordered=False)\n",
    "    new_categorie = [cat_name_dic[old_name] for old_name in cat_columns.categories]\n",
    "    return cat_columns.rename_categories(new_categorie)"
   ]
  },
  {
   "cell_type": "code",
   "execution_count": 17,
   "metadata": {
    "ExecuteTime": {
     "end_time": "2020-03-13T08:10:53.970823Z",
     "start_time": "2020-03-13T08:10:53.952579Z"
    }
   },
   "outputs": [],
   "source": [
    "adult[\"income\"] = create_categorical_data_rename(adult, \"income\", {\" <=50K\": \"incLow\", \" >50K\": \"incHigh\"})"
   ]
  },
  {
   "cell_type": "code",
   "execution_count": 18,
   "metadata": {
    "ExecuteTime": {
     "end_time": "2020-03-13T08:10:54.057708Z",
     "start_time": "2020-03-13T08:10:53.972562Z"
    }
   },
   "outputs": [],
   "source": [
    "for name in [\"workClass\", \"education\", \"mariStat\", \"occup\", \"relationship\", \"origEthn\", \"sex\", \"nativCountry\"]:\n",
    "    adult[name] = create_categorical_data(adult, name)"
   ]
  },
  {
   "cell_type": "markdown",
   "metadata": {},
   "source": [
    "### Transformations de variables quantitatives\n",
    "Les distributions sont trop disymétriques pour intégrer un modèle linéaire sensible à des valeurs extrêmes."
   ]
  },
  {
   "cell_type": "code",
   "execution_count": 19,
   "metadata": {
    "ExecuteTime": {
     "end_time": "2020-03-13T08:10:54.314356Z",
     "start_time": "2020-03-13T08:10:54.059139Z"
    }
   },
   "outputs": [
    {
     "data": {
      "image/png": "[encoded data removed]",
      "text/plain": [
       "<Figure size 432x288 with 1 Axes>"
      ]
     },
     "metadata": {
      "needs_background": "light"
     },
     "output_type": "display_data"
    }
   ],
   "source": [
    "adult[\"capitalGain\"].hist()\n",
    "plt.show()"
   ]
  },
  {
   "cell_type": "code",
   "execution_count": 20,
   "metadata": {
    "ExecuteTime": {
     "end_time": "2020-03-13T08:10:54.329956Z",
     "start_time": "2020-03-13T08:10:54.315970Z"
    }
   },
   "outputs": [],
   "source": [
    "adult[\"LcapitalGain\"] = np.log(1 + adult[\"capitalGain\"])\n",
    "adult[\"LcapitalLoss\"] = np.log(1 + adult[\"capitalLoss\"])"
   ]
  },
  {
   "cell_type": "markdown",
   "metadata": {},
   "source": [
    "### Suppressions de données manquantes ou incohérentes"
   ]
  },
  {
   "cell_type": "code",
   "execution_count": 21,
   "metadata": {
    "ExecuteTime": {
     "end_time": "2020-03-13T08:10:54.362170Z",
     "start_time": "2020-03-13T08:10:54.332469Z"
    }
   },
   "outputs": [
    {
     "data": {
      "text/html": [
       "<div>\n",
       "<style scoped>\n",
       "    .dataframe tbody tr th:only-of-type {\n",
       "        vertical-align: middle;\n",
       "    }\n",
       "\n",
       "    .dataframe tbody tr th {\n",
       "        vertical-align: top;\n",
       "    }\n",
       "\n",
       "    .dataframe thead th {\n",
       "        text-align: right;\n",
       "    }\n",
       "</style>\n",
       "<table border=\"1\" class=\"dataframe\">\n",
       "  <thead>\n",
       "    <tr style=\"text-align: right;\">\n",
       "      <th></th>\n",
       "      <th>age</th>\n",
       "      <th>workClass</th>\n",
       "      <th>fnlwgt</th>\n",
       "      <th>education</th>\n",
       "      <th>educNum</th>\n",
       "      <th>mariStat</th>\n",
       "      <th>occup</th>\n",
       "      <th>relationship</th>\n",
       "      <th>origEthn</th>\n",
       "      <th>sex</th>\n",
       "      <th>capitalGain</th>\n",
       "      <th>capitalLoss</th>\n",
       "      <th>hoursWeek</th>\n",
       "      <th>nativCountry</th>\n",
       "      <th>income</th>\n",
       "      <th>LcapitalGain</th>\n",
       "      <th>LcapitalLoss</th>\n",
       "    </tr>\n",
       "  </thead>\n",
       "  <tbody>\n",
       "    <tr>\n",
       "      <th>0</th>\n",
       "      <td>39</td>\n",
       "      <td>Other-Govt</td>\n",
       "      <td>77516</td>\n",
       "      <td>Bachelors</td>\n",
       "      <td>13</td>\n",
       "      <td>Never-Married</td>\n",
       "      <td>Admin</td>\n",
       "      <td>Not-in-family</td>\n",
       "      <td>CaucYes</td>\n",
       "      <td>Male</td>\n",
       "      <td>2174</td>\n",
       "      <td>0</td>\n",
       "      <td>40</td>\n",
       "      <td>United-States</td>\n",
       "      <td>incLow</td>\n",
       "      <td>7.684784</td>\n",
       "      <td>0.0</td>\n",
       "    </tr>\n",
       "    <tr>\n",
       "      <th>1</th>\n",
       "      <td>50</td>\n",
       "      <td>Self-Employed</td>\n",
       "      <td>83311</td>\n",
       "      <td>Bachelors</td>\n",
       "      <td>13</td>\n",
       "      <td>Married</td>\n",
       "      <td>White-Collar</td>\n",
       "      <td>Husband</td>\n",
       "      <td>CaucYes</td>\n",
       "      <td>Male</td>\n",
       "      <td>0</td>\n",
       "      <td>0</td>\n",
       "      <td>13</td>\n",
       "      <td>United-States</td>\n",
       "      <td>incLow</td>\n",
       "      <td>0.000000</td>\n",
       "      <td>0.0</td>\n",
       "    </tr>\n",
       "    <tr>\n",
       "      <th>2</th>\n",
       "      <td>38</td>\n",
       "      <td>Private</td>\n",
       "      <td>215646</td>\n",
       "      <td>HS-grad</td>\n",
       "      <td>9</td>\n",
       "      <td>Not-Married</td>\n",
       "      <td>Blue-Collar</td>\n",
       "      <td>Not-in-family</td>\n",
       "      <td>CaucYes</td>\n",
       "      <td>Male</td>\n",
       "      <td>0</td>\n",
       "      <td>0</td>\n",
       "      <td>40</td>\n",
       "      <td>United-States</td>\n",
       "      <td>incLow</td>\n",
       "      <td>0.000000</td>\n",
       "      <td>0.0</td>\n",
       "    </tr>\n",
       "    <tr>\n",
       "      <th>3</th>\n",
       "      <td>53</td>\n",
       "      <td>Private</td>\n",
       "      <td>234721</td>\n",
       "      <td>Dropout</td>\n",
       "      <td>7</td>\n",
       "      <td>Married</td>\n",
       "      <td>Blue-Collar</td>\n",
       "      <td>Husband</td>\n",
       "      <td>CaucNo</td>\n",
       "      <td>Male</td>\n",
       "      <td>0</td>\n",
       "      <td>0</td>\n",
       "      <td>40</td>\n",
       "      <td>United-States</td>\n",
       "      <td>incLow</td>\n",
       "      <td>0.000000</td>\n",
       "      <td>0.0</td>\n",
       "    </tr>\n",
       "    <tr>\n",
       "      <th>4</th>\n",
       "      <td>28</td>\n",
       "      <td>Private</td>\n",
       "      <td>338409</td>\n",
       "      <td>Bachelors</td>\n",
       "      <td>13</td>\n",
       "      <td>Married</td>\n",
       "      <td>Professional</td>\n",
       "      <td>Wife</td>\n",
       "      <td>CaucNo</td>\n",
       "      <td>Female</td>\n",
       "      <td>0</td>\n",
       "      <td>0</td>\n",
       "      <td>40</td>\n",
       "      <td>Other</td>\n",
       "      <td>incLow</td>\n",
       "      <td>0.000000</td>\n",
       "      <td>0.0</td>\n",
       "    </tr>\n",
       "  </tbody>\n",
       "</table>\n",
       "</div>"
      ],
      "text/plain": [
       "   age      workClass  fnlwgt  education  educNum       mariStat  \\\n",
       "0   39     Other-Govt   77516  Bachelors       13  Never-Married   \n",
       "1   50  Self-Employed   83311  Bachelors       13        Married   \n",
       "2   38        Private  215646    HS-grad        9    Not-Married   \n",
       "3   53        Private  234721    Dropout        7        Married   \n",
       "4   28        Private  338409  Bachelors       13        Married   \n",
       "\n",
       "          occup    relationship origEthn      sex  capitalGain  capitalLoss  \\\n",
       "0         Admin   Not-in-family  CaucYes     Male         2174            0   \n",
       "1  White-Collar         Husband  CaucYes     Male            0            0   \n",
       "2   Blue-Collar   Not-in-family  CaucYes     Male            0            0   \n",
       "3   Blue-Collar         Husband   CaucNo     Male            0            0   \n",
       "4  Professional            Wife   CaucNo   Female            0            0   \n",
       "\n",
       "   hoursWeek   nativCountry  income  LcapitalGain  LcapitalLoss  \n",
       "0         40  United-States  incLow      7.684784           0.0  \n",
       "1         13  United-States  incLow      0.000000           0.0  \n",
       "2         40  United-States  incLow      0.000000           0.0  \n",
       "3         40  United-States  incLow      0.000000           0.0  \n",
       "4         40          Other  incLow      0.000000           0.0  "
      ]
     },
     "execution_count": 21,
     "metadata": {},
     "output_type": "execute_result"
    }
   ],
   "source": [
    "adult = adult[np.logical_not(adult.isnull().any(axis=1))]\n",
    "adult.head()"
   ]
  },
  {
   "cell_type": "code",
   "execution_count": 22,
   "metadata": {
    "ExecuteTime": {
     "end_time": "2020-03-13T08:10:54.386276Z",
     "start_time": "2020-03-13T08:10:54.364370Z"
    }
   },
   "outputs": [],
   "source": [
    "adult = adult[(adult[\"sex\"] != \"Female\") | (adult[\"relationship\"] != \"Husband\")]\n",
    "adult = adult[(adult[\"sex\"] != \"Male\") | (adult[\"relationship\"] != \"Wife\")]"
   ]
  },
  {
   "cell_type": "markdown",
   "metadata": {},
   "source": [
    "### Description statistique élémentaire\n",
    "Mettre en évidence des difficultés présentes sur certaines variables ou couples de variables."
   ]
  },
  {
   "cell_type": "code",
   "execution_count": 23,
   "metadata": {
    "ExecuteTime": {
     "end_time": "2020-03-13T08:10:54.443049Z",
     "start_time": "2020-03-13T08:10:54.389436Z"
    }
   },
   "outputs": [
    {
     "data": {
      "text/html": [
       "<div>\n",
       "<style scoped>\n",
       "    .dataframe tbody tr th:only-of-type {\n",
       "        vertical-align: middle;\n",
       "    }\n",
       "\n",
       "    .dataframe tbody tr th {\n",
       "        vertical-align: top;\n",
       "    }\n",
       "\n",
       "    .dataframe thead th {\n",
       "        text-align: right;\n",
       "    }\n",
       "</style>\n",
       "<table border=\"1\" class=\"dataframe\">\n",
       "  <thead>\n",
       "    <tr style=\"text-align: right;\">\n",
       "      <th></th>\n",
       "      <th>age</th>\n",
       "      <th>fnlwgt</th>\n",
       "      <th>educNum</th>\n",
       "      <th>capitalGain</th>\n",
       "      <th>capitalLoss</th>\n",
       "      <th>hoursWeek</th>\n",
       "      <th>LcapitalGain</th>\n",
       "      <th>LcapitalLoss</th>\n",
       "    </tr>\n",
       "  </thead>\n",
       "  <tbody>\n",
       "    <tr>\n",
       "      <th>count</th>\n",
       "      <td>45208.000000</td>\n",
       "      <td>4.520800e+04</td>\n",
       "      <td>45208.000000</td>\n",
       "      <td>45208.000000</td>\n",
       "      <td>45208.000000</td>\n",
       "      <td>45208.000000</td>\n",
       "      <td>45208.000000</td>\n",
       "      <td>45208.000000</td>\n",
       "    </tr>\n",
       "    <tr>\n",
       "      <th>mean</th>\n",
       "      <td>38.550035</td>\n",
       "      <td>1.897257e+05</td>\n",
       "      <td>10.118298</td>\n",
       "      <td>1101.610003</td>\n",
       "      <td>88.581114</td>\n",
       "      <td>40.937776</td>\n",
       "      <td>0.740792</td>\n",
       "      <td>0.355432</td>\n",
       "    </tr>\n",
       "    <tr>\n",
       "      <th>std</th>\n",
       "      <td>13.218340</td>\n",
       "      <td>1.056474e+05</td>\n",
       "      <td>2.552960</td>\n",
       "      <td>7507.512510</td>\n",
       "      <td>404.927674</td>\n",
       "      <td>12.007784</td>\n",
       "      <td>2.466579</td>\n",
       "      <td>1.595791</td>\n",
       "    </tr>\n",
       "    <tr>\n",
       "      <th>min</th>\n",
       "      <td>17.000000</td>\n",
       "      <td>1.349200e+04</td>\n",
       "      <td>1.000000</td>\n",
       "      <td>0.000000</td>\n",
       "      <td>0.000000</td>\n",
       "      <td>1.000000</td>\n",
       "      <td>0.000000</td>\n",
       "      <td>0.000000</td>\n",
       "    </tr>\n",
       "    <tr>\n",
       "      <th>25%</th>\n",
       "      <td>28.000000</td>\n",
       "      <td>1.173810e+05</td>\n",
       "      <td>9.000000</td>\n",
       "      <td>0.000000</td>\n",
       "      <td>0.000000</td>\n",
       "      <td>40.000000</td>\n",
       "      <td>0.000000</td>\n",
       "      <td>0.000000</td>\n",
       "    </tr>\n",
       "    <tr>\n",
       "      <th>50%</th>\n",
       "      <td>37.000000</td>\n",
       "      <td>1.783120e+05</td>\n",
       "      <td>10.000000</td>\n",
       "      <td>0.000000</td>\n",
       "      <td>0.000000</td>\n",
       "      <td>40.000000</td>\n",
       "      <td>0.000000</td>\n",
       "      <td>0.000000</td>\n",
       "    </tr>\n",
       "    <tr>\n",
       "      <th>75%</th>\n",
       "      <td>47.000000</td>\n",
       "      <td>2.379155e+05</td>\n",
       "      <td>13.000000</td>\n",
       "      <td>0.000000</td>\n",
       "      <td>0.000000</td>\n",
       "      <td>45.000000</td>\n",
       "      <td>0.000000</td>\n",
       "      <td>0.000000</td>\n",
       "    </tr>\n",
       "    <tr>\n",
       "      <th>max</th>\n",
       "      <td>90.000000</td>\n",
       "      <td>1.490400e+06</td>\n",
       "      <td>16.000000</td>\n",
       "      <td>99999.000000</td>\n",
       "      <td>4356.000000</td>\n",
       "      <td>99.000000</td>\n",
       "      <td>11.512925</td>\n",
       "      <td>8.379539</td>\n",
       "    </tr>\n",
       "  </tbody>\n",
       "</table>\n",
       "</div>"
      ],
      "text/plain": [
       "                age        fnlwgt       educNum   capitalGain   capitalLoss  \\\n",
       "count  45208.000000  4.520800e+04  45208.000000  45208.000000  45208.000000   \n",
       "mean      38.550035  1.897257e+05     10.118298   1101.610003     88.581114   \n",
       "std       13.218340  1.056474e+05      2.552960   7507.512510    404.927674   \n",
       "min       17.000000  1.349200e+04      1.000000      0.000000      0.000000   \n",
       "25%       28.000000  1.173810e+05      9.000000      0.000000      0.000000   \n",
       "50%       37.000000  1.783120e+05     10.000000      0.000000      0.000000   \n",
       "75%       47.000000  2.379155e+05     13.000000      0.000000      0.000000   \n",
       "max       90.000000  1.490400e+06     16.000000  99999.000000   4356.000000   \n",
       "\n",
       "          hoursWeek  LcapitalGain  LcapitalLoss  \n",
       "count  45208.000000  45208.000000  45208.000000  \n",
       "mean      40.937776      0.740792      0.355432  \n",
       "std       12.007784      2.466579      1.595791  \n",
       "min        1.000000      0.000000      0.000000  \n",
       "25%       40.000000      0.000000      0.000000  \n",
       "50%       40.000000      0.000000      0.000000  \n",
       "75%       45.000000      0.000000      0.000000  \n",
       "max       99.000000     11.512925      8.379539  "
      ]
     },
     "execution_count": 23,
     "metadata": {},
     "output_type": "execute_result"
    }
   ],
   "source": [
    "adult.describe()"
   ]
  },
  {
   "cell_type": "markdown",
   "metadata": {},
   "source": [
    "**Q** Que dire de la distribution de la variable `age`, de celle `income` ?"
   ]
  },
  {
   "cell_type": "code",
   "execution_count": 24,
   "metadata": {
    "ExecuteTime": {
     "end_time": "2020-03-13T08:10:54.631613Z",
     "start_time": "2020-03-13T08:10:54.444913Z"
    }
   },
   "outputs": [
    {
     "data": {
      "image/png": "[encoded data removed]",
      "text/plain": [
       "<Figure size 432x288 with 1 Axes>"
      ]
     },
     "metadata": {
      "needs_background": "light"
     },
     "output_type": "display_data"
    }
   ],
   "source": [
    "adult[\"age\"].hist()\n",
    "plt.show()"
   ]
  },
  {
   "cell_type": "code",
   "execution_count": 25,
   "metadata": {
    "ExecuteTime": {
     "end_time": "2020-03-13T08:10:54.643009Z",
     "start_time": "2020-03-13T08:10:54.633598Z"
    }
   },
   "outputs": [
    {
     "data": {
      "text/plain": [
       "incLow     34004\n",
       "incHigh    11204\n",
       "Name: income, dtype: int64"
      ]
     },
     "execution_count": 25,
     "metadata": {},
     "output_type": "execute_result"
    }
   ],
   "source": [
    "adult[\"income\"].value_counts()"
   ]
  },
  {
   "cell_type": "code",
   "execution_count": 26,
   "metadata": {
    "ExecuteTime": {
     "end_time": "2020-03-13T08:10:54.654598Z",
     "start_time": "2020-03-13T08:10:54.645275Z"
    }
   },
   "outputs": [
    {
     "data": {
      "text/plain": [
       " Husband           18661\n",
       " Not-in-family     11697\n",
       " Own-child          6624\n",
       " Unmarried          4788\n",
       " Wife               2091\n",
       " Other-relative     1347\n",
       "Name: relationship, dtype: int64"
      ]
     },
     "execution_count": 26,
     "metadata": {},
     "output_type": "execute_result"
    }
   ],
   "source": [
    "adult[\"relationship\"].value_counts()"
   ]
  },
  {
   "cell_type": "code",
   "execution_count": 27,
   "metadata": {
    "ExecuteTime": {
     "end_time": "2020-03-13T08:10:55.208158Z",
     "start_time": "2020-03-13T08:10:54.657696Z"
    }
   },
   "outputs": [
    {
     "data": {
      "image/png": "[encoded data removed]",
      "text/plain": [
       "<Figure size 432x288 with 1 Axes>"
      ]
     },
     "metadata": {
      "needs_background": "light"
     },
     "output_type": "display_data"
    }
   ],
   "source": [
    "adult.plot(kind=\"scatter\",x=\"age\",y=\"educNum\")\n",
    "plt.show()"
   ]
  },
  {
   "cell_type": "markdown",
   "metadata": {},
   "source": [
    "**Q** Que dire des liaisons : `age x hoursWeek`, `age x income`, `sex x income` ?"
   ]
  },
  {
   "cell_type": "code",
   "execution_count": 28,
   "metadata": {
    "ExecuteTime": {
     "end_time": "2020-03-13T08:10:55.673505Z",
     "start_time": "2020-03-13T08:10:55.209688Z"
    }
   },
   "outputs": [
    {
     "data": {
      "image/png": "[encoded data removed]",
      "text/plain": [
       "<Figure size 432x288 with 1 Axes>"
      ]
     },
     "metadata": {
      "needs_background": "light"
     },
     "output_type": "display_data"
    }
   ],
   "source": [
    "adult.plot(kind=\"scatter\",x=\"hoursWeek\",y=\"age\")\n",
    "plt.show()"
   ]
  },
  {
   "cell_type": "code",
   "execution_count": 29,
   "metadata": {
    "ExecuteTime": {
     "end_time": "2020-03-13T08:10:55.880865Z",
     "start_time": "2020-03-13T08:10:55.675278Z"
    }
   },
   "outputs": [
    {
     "data": {
      "image/png": "[encoded data removed]",
      "text/plain": [
       "<Figure size 432x288 with 1 Axes>"
      ]
     },
     "metadata": {
      "needs_background": "light"
     },
     "output_type": "display_data"
    }
   ],
   "source": [
    "adult.boxplot(column=\"age\",by=\"income\")\n",
    "plt.show()"
   ]
  },
  {
   "cell_type": "markdown",
   "metadata": {},
   "source": [
    "**Q** Que dire des redondances ci-dessous?"
   ]
  },
  {
   "cell_type": "code",
   "execution_count": 30,
   "metadata": {
    "ExecuteTime": {
     "end_time": "2020-03-13T08:10:55.920763Z",
     "start_time": "2020-03-13T08:10:55.882871Z"
    }
   },
   "outputs": [
    {
     "name": "stdout",
     "output_type": "stream",
     "text": [
      "educNum      1    2    3    4    5     6     7    8      9     10    11    12  \\\n",
      "education                                                                       \n",
      "Associates    0    0    0    0    0     0     0    0      0     0  1959  1507   \n",
      "Bachelors     0    0    0    0    0     0     0    0      0     0     0     0   \n",
      "Doctorate     0    0    0    0    0     0     0    0      0     0     0     0   \n",
      "Dropout      72  222  449  823  676  1223  1619  576      0     0     0     0   \n",
      "HS-Graduate   0    0    0    0    0     0     0    0      0  9895     0     0   \n",
      "HS-grad       0    0    0    0    0     0     0    0  14778     0     0     0   \n",
      "Masters       0    0    0    0    0     0     0    0      0     0     0     0   \n",
      "Prof-School   0    0    0    0    0     0     0    0      0     0     0     0   \n",
      "\n",
      "educNum        13    14   15   16  \n",
      "education                          \n",
      "Associates      0     0    0    0  \n",
      "Bachelors    7569     0    0    0  \n",
      "Doctorate       0     0    0  544  \n",
      "Dropout         0     0    0    0  \n",
      "HS-Graduate     0     0    0    0  \n",
      "HS-grad         0     0    0    0  \n",
      "Masters         0  2512    0    0  \n",
      "Prof-School     0     0  784    0  \n"
     ]
    }
   ],
   "source": [
    "table=pd.crosstab(adult[\"education\"],adult[\"educNum\"])\n",
    "print(table) "
   ]
  },
  {
   "cell_type": "code",
   "execution_count": 31,
   "metadata": {
    "ExecuteTime": {
     "end_time": "2020-03-13T08:10:55.967540Z",
     "start_time": "2020-03-13T08:10:55.922775Z"
    }
   },
   "outputs": [
    {
     "name": "stdout",
     "output_type": "stream",
     "text": [
      "relationship    Husband   Not-in-family   Other-relative   Own-child  \\\n",
      "mariStat                                                               \n",
      "Married           18661              19              184         126   \n",
      "Never-Married         0            6686              819        5862   \n",
      "Not-Married           0            4305              285         616   \n",
      "Widowed               0             687               59          20   \n",
      "\n",
      "relationship    Unmarried   Wife  \n",
      "mariStat                          \n",
      "Married                 0   2091  \n",
      "Never-Married        1223      0  \n",
      "Not-Married          3054      0  \n",
      "Widowed               511      0  \n"
     ]
    }
   ],
   "source": [
    "table=pd.crosstab(adult[\"mariStat\"],adult[\"relationship\"])\n",
    "print(table)"
   ]
  },
  {
   "cell_type": "code",
   "execution_count": 32,
   "metadata": {
    "ExecuteTime": {
     "end_time": "2020-03-13T08:10:56.149979Z",
     "start_time": "2020-03-13T08:10:55.969885Z"
    }
   },
   "outputs": [
    {
     "data": {
      "image/png": "[encoded data removed]",
      "text/plain": [
       "<Figure size 432x288 with 3 Axes>"
      ]
     },
     "metadata": {
      "needs_background": "light"
     },
     "output_type": "display_data"
    }
   ],
   "source": [
    "# Mosaic plots\n",
    "from statsmodels.graphics.mosaicplot import mosaic\n",
    "mosaic(adult,[\"income\",\"sex\"])\n",
    "plt.show()"
   ]
  },
  {
   "cell_type": "code",
   "execution_count": 33,
   "metadata": {
    "ExecuteTime": {
     "end_time": "2020-03-13T08:10:56.338917Z",
     "start_time": "2020-03-13T08:10:56.152104Z"
    }
   },
   "outputs": [
    {
     "data": {
      "image/png": "[encoded data removed]",
      "text/plain": [
       "<Figure size 432x288 with 3 Axes>"
      ]
     },
     "metadata": {
      "needs_background": "light"
     },
     "output_type": "display_data"
    }
   ],
   "source": [
    "from statsmodels.graphics.mosaicplot import mosaic\n",
    "mosaic(adult,[\"income\",\"origEthn\"])\n",
    "plt.show()"
   ]
  },
  {
   "cell_type": "markdown",
   "metadata": {},
   "source": [
    "Quelques modifications comlémentaires sont apportées de la base. Des variables sont supprimées afin de ne garder qu'une seule présence d'une information sensible: genre et origine ethnique.\n",
    "- Suppression de la variable `fnlwgt` qui n'a guère de signification pour cette analyse.\n",
    "- Suppression de la variable `workClass` redondante acvec l'occupation.\n",
    "- Suppression de la variable `education` redondante avec le niveau de diplôme.\n",
    "- Suppression de la variable `capitalGain` et `capitalLoss` remplacée par leur transformations log.\n",
    "- Création d'une variable binaire `Child`: présence ou non d'enfants.\n",
    "- Suppression de la variable `relationship` redondante avec le genre et le statut marital.\n",
    "- Suppression de la variable `nativCountry` redondante avec l'origine ethnique."
   ]
  },
  {
   "cell_type": "code",
   "execution_count": 34,
   "metadata": {
    "ExecuteTime": {
     "end_time": "2020-03-13T08:10:56.350454Z",
     "start_time": "2020-03-13T08:10:56.340775Z"
    }
   },
   "outputs": [
    {
     "name": "stdout",
     "output_type": "stream",
     "text": [
      "[' Husband' ' Not-in-family' ' Other-relative' ' Own-child' ' Unmarried'\n",
      " ' Wife']\n"
     ]
    }
   ],
   "source": [
    "print(np.sort(adult[\"relationship\"].unique()))"
   ]
  },
  {
   "cell_type": "code",
   "execution_count": 35,
   "metadata": {
    "ExecuteTime": {
     "end_time": "2020-03-13T08:10:56.365397Z",
     "start_time": "2020-03-13T08:10:56.352468Z"
    }
   },
   "outputs": [],
   "source": [
    "cat_orig = {' Husband':\"ChildNo\",' Not-in-family':\"ChildNo\",' Other-relative':\"ChildNo\",' Own-child':\"ChildYes\",' Unmarried':\"ChildNo\",' Wife':\"ChildNo\"}\n",
    "adult[\"child\"] = adult.relationship.map(cat_orig)"
   ]
  },
  {
   "cell_type": "code",
   "execution_count": 36,
   "metadata": {
    "ExecuteTime": {
     "end_time": "2020-03-13T08:10:56.374370Z",
     "start_time": "2020-03-13T08:10:56.368116Z"
    }
   },
   "outputs": [],
   "source": [
    "adult=adult.drop([\"workClass\",\"education\",\"fnlwgt\",\"nativCountry\",\"relationship\", \n",
    "                  \"capitalGain\", \"capitalLoss\"],axis=1)"
   ]
  },
  {
   "cell_type": "code",
   "execution_count": 37,
   "metadata": {
    "ExecuteTime": {
     "end_time": "2020-03-13T08:10:56.406547Z",
     "start_time": "2020-03-13T08:10:56.376733Z"
    }
   },
   "outputs": [
    {
     "data": {
      "text/html": [
       "<div>\n",
       "<style scoped>\n",
       "    .dataframe tbody tr th:only-of-type {\n",
       "        vertical-align: middle;\n",
       "    }\n",
       "\n",
       "    .dataframe tbody tr th {\n",
       "        vertical-align: top;\n",
       "    }\n",
       "\n",
       "    .dataframe thead th {\n",
       "        text-align: right;\n",
       "    }\n",
       "</style>\n",
       "<table border=\"1\" class=\"dataframe\">\n",
       "  <thead>\n",
       "    <tr style=\"text-align: right;\">\n",
       "      <th></th>\n",
       "      <th>age</th>\n",
       "      <th>educNum</th>\n",
       "      <th>mariStat</th>\n",
       "      <th>occup</th>\n",
       "      <th>origEthn</th>\n",
       "      <th>sex</th>\n",
       "      <th>hoursWeek</th>\n",
       "      <th>income</th>\n",
       "      <th>LcapitalGain</th>\n",
       "      <th>LcapitalLoss</th>\n",
       "      <th>child</th>\n",
       "    </tr>\n",
       "  </thead>\n",
       "  <tbody>\n",
       "    <tr>\n",
       "      <th>0</th>\n",
       "      <td>39</td>\n",
       "      <td>13</td>\n",
       "      <td>Never-Married</td>\n",
       "      <td>Admin</td>\n",
       "      <td>CaucYes</td>\n",
       "      <td>Male</td>\n",
       "      <td>40</td>\n",
       "      <td>incLow</td>\n",
       "      <td>7.684784</td>\n",
       "      <td>0.0</td>\n",
       "      <td>ChildNo</td>\n",
       "    </tr>\n",
       "    <tr>\n",
       "      <th>1</th>\n",
       "      <td>50</td>\n",
       "      <td>13</td>\n",
       "      <td>Married</td>\n",
       "      <td>White-Collar</td>\n",
       "      <td>CaucYes</td>\n",
       "      <td>Male</td>\n",
       "      <td>13</td>\n",
       "      <td>incLow</td>\n",
       "      <td>0.000000</td>\n",
       "      <td>0.0</td>\n",
       "      <td>ChildNo</td>\n",
       "    </tr>\n",
       "    <tr>\n",
       "      <th>2</th>\n",
       "      <td>38</td>\n",
       "      <td>9</td>\n",
       "      <td>Not-Married</td>\n",
       "      <td>Blue-Collar</td>\n",
       "      <td>CaucYes</td>\n",
       "      <td>Male</td>\n",
       "      <td>40</td>\n",
       "      <td>incLow</td>\n",
       "      <td>0.000000</td>\n",
       "      <td>0.0</td>\n",
       "      <td>ChildNo</td>\n",
       "    </tr>\n",
       "    <tr>\n",
       "      <th>3</th>\n",
       "      <td>53</td>\n",
       "      <td>7</td>\n",
       "      <td>Married</td>\n",
       "      <td>Blue-Collar</td>\n",
       "      <td>CaucNo</td>\n",
       "      <td>Male</td>\n",
       "      <td>40</td>\n",
       "      <td>incLow</td>\n",
       "      <td>0.000000</td>\n",
       "      <td>0.0</td>\n",
       "      <td>ChildNo</td>\n",
       "    </tr>\n",
       "    <tr>\n",
       "      <th>4</th>\n",
       "      <td>28</td>\n",
       "      <td>13</td>\n",
       "      <td>Married</td>\n",
       "      <td>Professional</td>\n",
       "      <td>CaucNo</td>\n",
       "      <td>Female</td>\n",
       "      <td>40</td>\n",
       "      <td>incLow</td>\n",
       "      <td>0.000000</td>\n",
       "      <td>0.0</td>\n",
       "      <td>ChildNo</td>\n",
       "    </tr>\n",
       "  </tbody>\n",
       "</table>\n",
       "</div>"
      ],
      "text/plain": [
       "   age  educNum       mariStat         occup origEthn      sex  hoursWeek  \\\n",
       "0   39       13  Never-Married         Admin  CaucYes     Male         40   \n",
       "1   50       13        Married  White-Collar  CaucYes     Male         13   \n",
       "2   38        9    Not-Married   Blue-Collar  CaucYes     Male         40   \n",
       "3   53        7        Married   Blue-Collar   CaucNo     Male         40   \n",
       "4   28       13        Married  Professional   CaucNo   Female         40   \n",
       "\n",
       "   income  LcapitalGain  LcapitalLoss    child  \n",
       "0  incLow      7.684784           0.0  ChildNo  \n",
       "1  incLow      0.000000           0.0  ChildNo  \n",
       "2  incLow      0.000000           0.0  ChildNo  \n",
       "3  incLow      0.000000           0.0  ChildNo  \n",
       "4  incLow      0.000000           0.0  ChildNo  "
      ]
     },
     "execution_count": 37,
     "metadata": {},
     "output_type": "execute_result"
    }
   ],
   "source": [
    "adult.head()"
   ]
  },
  {
   "cell_type": "markdown",
   "metadata": {},
   "source": [
    "### Variables indicatrices\n",
    "\n",
    "**Q** Pourquoi l’introduction de *dummy variables*? "
   ]
  },
  {
   "cell_type": "code",
   "execution_count": 38,
   "metadata": {
    "ExecuteTime": {
     "end_time": "2020-03-13T08:10:56.457578Z",
     "start_time": "2020-03-13T08:10:56.409086Z"
    }
   },
   "outputs": [
    {
     "data": {
      "text/html": [
       "<div>\n",
       "<style scoped>\n",
       "    .dataframe tbody tr th:only-of-type {\n",
       "        vertical-align: middle;\n",
       "    }\n",
       "\n",
       "    .dataframe tbody tr th {\n",
       "        vertical-align: top;\n",
       "    }\n",
       "\n",
       "    .dataframe thead th {\n",
       "        text-align: right;\n",
       "    }\n",
       "</style>\n",
       "<table border=\"1\" class=\"dataframe\">\n",
       "  <thead>\n",
       "    <tr style=\"text-align: right;\">\n",
       "      <th></th>\n",
       "      <th>mariStat_Married</th>\n",
       "      <th>mariStat_Never-Married</th>\n",
       "      <th>mariStat_Not-Married</th>\n",
       "      <th>mariStat_Widowed</th>\n",
       "      <th>occup_Admin</th>\n",
       "      <th>occup_Blue-Collar</th>\n",
       "      <th>occup_Other-occups</th>\n",
       "      <th>occup_Professional</th>\n",
       "      <th>occup_Sales</th>\n",
       "      <th>occup_Service</th>\n",
       "      <th>occup_White-Collar</th>\n",
       "      <th>origEthn_CaucNo</th>\n",
       "      <th>origEthn_CaucYes</th>\n",
       "      <th>sex_ Female</th>\n",
       "      <th>sex_ Male</th>\n",
       "      <th>child_ChildNo</th>\n",
       "      <th>child_ChildYes</th>\n",
       "    </tr>\n",
       "  </thead>\n",
       "  <tbody>\n",
       "    <tr>\n",
       "      <th>0</th>\n",
       "      <td>0</td>\n",
       "      <td>1</td>\n",
       "      <td>0</td>\n",
       "      <td>0</td>\n",
       "      <td>1</td>\n",
       "      <td>0</td>\n",
       "      <td>0</td>\n",
       "      <td>0</td>\n",
       "      <td>0</td>\n",
       "      <td>0</td>\n",
       "      <td>0</td>\n",
       "      <td>0</td>\n",
       "      <td>1</td>\n",
       "      <td>0</td>\n",
       "      <td>1</td>\n",
       "      <td>1</td>\n",
       "      <td>0</td>\n",
       "    </tr>\n",
       "    <tr>\n",
       "      <th>1</th>\n",
       "      <td>1</td>\n",
       "      <td>0</td>\n",
       "      <td>0</td>\n",
       "      <td>0</td>\n",
       "      <td>0</td>\n",
       "      <td>0</td>\n",
       "      <td>0</td>\n",
       "      <td>0</td>\n",
       "      <td>0</td>\n",
       "      <td>0</td>\n",
       "      <td>1</td>\n",
       "      <td>0</td>\n",
       "      <td>1</td>\n",
       "      <td>0</td>\n",
       "      <td>1</td>\n",
       "      <td>1</td>\n",
       "      <td>0</td>\n",
       "    </tr>\n",
       "    <tr>\n",
       "      <th>2</th>\n",
       "      <td>0</td>\n",
       "      <td>0</td>\n",
       "      <td>1</td>\n",
       "      <td>0</td>\n",
       "      <td>0</td>\n",
       "      <td>1</td>\n",
       "      <td>0</td>\n",
       "      <td>0</td>\n",
       "      <td>0</td>\n",
       "      <td>0</td>\n",
       "      <td>0</td>\n",
       "      <td>0</td>\n",
       "      <td>1</td>\n",
       "      <td>0</td>\n",
       "      <td>1</td>\n",
       "      <td>1</td>\n",
       "      <td>0</td>\n",
       "    </tr>\n",
       "    <tr>\n",
       "      <th>3</th>\n",
       "      <td>1</td>\n",
       "      <td>0</td>\n",
       "      <td>0</td>\n",
       "      <td>0</td>\n",
       "      <td>0</td>\n",
       "      <td>1</td>\n",
       "      <td>0</td>\n",
       "      <td>0</td>\n",
       "      <td>0</td>\n",
       "      <td>0</td>\n",
       "      <td>0</td>\n",
       "      <td>1</td>\n",
       "      <td>0</td>\n",
       "      <td>0</td>\n",
       "      <td>1</td>\n",
       "      <td>1</td>\n",
       "      <td>0</td>\n",
       "    </tr>\n",
       "    <tr>\n",
       "      <th>4</th>\n",
       "      <td>1</td>\n",
       "      <td>0</td>\n",
       "      <td>0</td>\n",
       "      <td>0</td>\n",
       "      <td>0</td>\n",
       "      <td>0</td>\n",
       "      <td>0</td>\n",
       "      <td>1</td>\n",
       "      <td>0</td>\n",
       "      <td>0</td>\n",
       "      <td>0</td>\n",
       "      <td>1</td>\n",
       "      <td>0</td>\n",
       "      <td>1</td>\n",
       "      <td>0</td>\n",
       "      <td>1</td>\n",
       "      <td>0</td>\n",
       "    </tr>\n",
       "  </tbody>\n",
       "</table>\n",
       "</div>"
      ],
      "text/plain": [
       "   mariStat_Married  mariStat_Never-Married  mariStat_Not-Married  \\\n",
       "0                 0                       1                     0   \n",
       "1                 1                       0                     0   \n",
       "2                 0                       0                     1   \n",
       "3                 1                       0                     0   \n",
       "4                 1                       0                     0   \n",
       "\n",
       "   mariStat_Widowed  occup_Admin  occup_Blue-Collar  occup_Other-occups  \\\n",
       "0                 0            1                  0                   0   \n",
       "1                 0            0                  0                   0   \n",
       "2                 0            0                  1                   0   \n",
       "3                 0            0                  1                   0   \n",
       "4                 0            0                  0                   0   \n",
       "\n",
       "   occup_Professional  occup_Sales  occup_Service  occup_White-Collar  \\\n",
       "0                   0            0              0                   0   \n",
       "1                   0            0              0                   1   \n",
       "2                   0            0              0                   0   \n",
       "3                   0            0              0                   0   \n",
       "4                   1            0              0                   0   \n",
       "\n",
       "   origEthn_CaucNo  origEthn_CaucYes  sex_ Female  sex_ Male  child_ChildNo  \\\n",
       "0                0                 1            0          1              1   \n",
       "1                0                 1            0          1              1   \n",
       "2                0                 1            0          1              1   \n",
       "3                1                 0            0          1              1   \n",
       "4                1                 0            1          0              1   \n",
       "\n",
       "   child_ChildYes  \n",
       "0               0  \n",
       "1               0  \n",
       "2               0  \n",
       "3               0  \n",
       "4               0  "
      ]
     },
     "execution_count": 38,
     "metadata": {},
     "output_type": "execute_result"
    }
   ],
   "source": [
    "adultDum=pd.get_dummies(adult[[\"mariStat\",\"occup\",\"origEthn\",\"sex\",\"child\"]])\n",
    "adultDum.head()"
   ]
  },
  {
   "cell_type": "code",
   "execution_count": 39,
   "metadata": {
    "ExecuteTime": {
     "end_time": "2020-03-13T08:10:56.473156Z",
     "start_time": "2020-03-13T08:10:56.459212Z"
    }
   },
   "outputs": [],
   "source": [
    "adultJoin = adult[[\"age\",\"educNum\",\"hoursWeek\",\"LcapitalGain\",\"LcapitalLoss\",\"income\"]].join(adultDum)"
   ]
  },
  {
   "cell_type": "code",
   "execution_count": 40,
   "metadata": {
    "ExecuteTime": {
     "end_time": "2020-03-13T08:10:56.497245Z",
     "start_time": "2020-03-13T08:10:56.474782Z"
    }
   },
   "outputs": [
    {
     "data": {
      "text/html": [
       "<div>\n",
       "<style scoped>\n",
       "    .dataframe tbody tr th:only-of-type {\n",
       "        vertical-align: middle;\n",
       "    }\n",
       "\n",
       "    .dataframe tbody tr th {\n",
       "        vertical-align: top;\n",
       "    }\n",
       "\n",
       "    .dataframe thead th {\n",
       "        text-align: right;\n",
       "    }\n",
       "</style>\n",
       "<table border=\"1\" class=\"dataframe\">\n",
       "  <thead>\n",
       "    <tr style=\"text-align: right;\">\n",
       "      <th></th>\n",
       "      <th>age</th>\n",
       "      <th>educNum</th>\n",
       "      <th>hoursWeek</th>\n",
       "      <th>LcapitalGain</th>\n",
       "      <th>LcapitalLoss</th>\n",
       "      <th>income</th>\n",
       "      <th>mariStat_Married</th>\n",
       "      <th>mariStat_Never-Married</th>\n",
       "      <th>mariStat_Not-Married</th>\n",
       "      <th>mariStat_Widowed</th>\n",
       "      <th>...</th>\n",
       "      <th>occup_Professional</th>\n",
       "      <th>occup_Sales</th>\n",
       "      <th>occup_Service</th>\n",
       "      <th>occup_White-Collar</th>\n",
       "      <th>origEthn_CaucNo</th>\n",
       "      <th>origEthn_CaucYes</th>\n",
       "      <th>sex_ Female</th>\n",
       "      <th>sex_ Male</th>\n",
       "      <th>child_ChildNo</th>\n",
       "      <th>child_ChildYes</th>\n",
       "    </tr>\n",
       "  </thead>\n",
       "  <tbody>\n",
       "    <tr>\n",
       "      <th>0</th>\n",
       "      <td>39</td>\n",
       "      <td>13</td>\n",
       "      <td>40</td>\n",
       "      <td>7.684784</td>\n",
       "      <td>0.0</td>\n",
       "      <td>incLow</td>\n",
       "      <td>0</td>\n",
       "      <td>1</td>\n",
       "      <td>0</td>\n",
       "      <td>0</td>\n",
       "      <td>...</td>\n",
       "      <td>0</td>\n",
       "      <td>0</td>\n",
       "      <td>0</td>\n",
       "      <td>0</td>\n",
       "      <td>0</td>\n",
       "      <td>1</td>\n",
       "      <td>0</td>\n",
       "      <td>1</td>\n",
       "      <td>1</td>\n",
       "      <td>0</td>\n",
       "    </tr>\n",
       "    <tr>\n",
       "      <th>1</th>\n",
       "      <td>50</td>\n",
       "      <td>13</td>\n",
       "      <td>13</td>\n",
       "      <td>0.000000</td>\n",
       "      <td>0.0</td>\n",
       "      <td>incLow</td>\n",
       "      <td>1</td>\n",
       "      <td>0</td>\n",
       "      <td>0</td>\n",
       "      <td>0</td>\n",
       "      <td>...</td>\n",
       "      <td>0</td>\n",
       "      <td>0</td>\n",
       "      <td>0</td>\n",
       "      <td>1</td>\n",
       "      <td>0</td>\n",
       "      <td>1</td>\n",
       "      <td>0</td>\n",
       "      <td>1</td>\n",
       "      <td>1</td>\n",
       "      <td>0</td>\n",
       "    </tr>\n",
       "    <tr>\n",
       "      <th>2</th>\n",
       "      <td>38</td>\n",
       "      <td>9</td>\n",
       "      <td>40</td>\n",
       "      <td>0.000000</td>\n",
       "      <td>0.0</td>\n",
       "      <td>incLow</td>\n",
       "      <td>0</td>\n",
       "      <td>0</td>\n",
       "      <td>1</td>\n",
       "      <td>0</td>\n",
       "      <td>...</td>\n",
       "      <td>0</td>\n",
       "      <td>0</td>\n",
       "      <td>0</td>\n",
       "      <td>0</td>\n",
       "      <td>0</td>\n",
       "      <td>1</td>\n",
       "      <td>0</td>\n",
       "      <td>1</td>\n",
       "      <td>1</td>\n",
       "      <td>0</td>\n",
       "    </tr>\n",
       "    <tr>\n",
       "      <th>3</th>\n",
       "      <td>53</td>\n",
       "      <td>7</td>\n",
       "      <td>40</td>\n",
       "      <td>0.000000</td>\n",
       "      <td>0.0</td>\n",
       "      <td>incLow</td>\n",
       "      <td>1</td>\n",
       "      <td>0</td>\n",
       "      <td>0</td>\n",
       "      <td>0</td>\n",
       "      <td>...</td>\n",
       "      <td>0</td>\n",
       "      <td>0</td>\n",
       "      <td>0</td>\n",
       "      <td>0</td>\n",
       "      <td>1</td>\n",
       "      <td>0</td>\n",
       "      <td>0</td>\n",
       "      <td>1</td>\n",
       "      <td>1</td>\n",
       "      <td>0</td>\n",
       "    </tr>\n",
       "    <tr>\n",
       "      <th>4</th>\n",
       "      <td>28</td>\n",
       "      <td>13</td>\n",
       "      <td>40</td>\n",
       "      <td>0.000000</td>\n",
       "      <td>0.0</td>\n",
       "      <td>incLow</td>\n",
       "      <td>1</td>\n",
       "      <td>0</td>\n",
       "      <td>0</td>\n",
       "      <td>0</td>\n",
       "      <td>...</td>\n",
       "      <td>1</td>\n",
       "      <td>0</td>\n",
       "      <td>0</td>\n",
       "      <td>0</td>\n",
       "      <td>1</td>\n",
       "      <td>0</td>\n",
       "      <td>1</td>\n",
       "      <td>0</td>\n",
       "      <td>1</td>\n",
       "      <td>0</td>\n",
       "    </tr>\n",
       "  </tbody>\n",
       "</table>\n",
       "<p>5 rows × 23 columns</p>\n",
       "</div>"
      ],
      "text/plain": [
       "   age  educNum  hoursWeek  LcapitalGain  LcapitalLoss  income  \\\n",
       "0   39       13         40      7.684784           0.0  incLow   \n",
       "1   50       13         13      0.000000           0.0  incLow   \n",
       "2   38        9         40      0.000000           0.0  incLow   \n",
       "3   53        7         40      0.000000           0.0  incLow   \n",
       "4   28       13         40      0.000000           0.0  incLow   \n",
       "\n",
       "   mariStat_Married  mariStat_Never-Married  mariStat_Not-Married  \\\n",
       "0                 0                       1                     0   \n",
       "1                 1                       0                     0   \n",
       "2                 0                       0                     1   \n",
       "3                 1                       0                     0   \n",
       "4                 1                       0                     0   \n",
       "\n",
       "   mariStat_Widowed  ...  occup_Professional  occup_Sales  occup_Service  \\\n",
       "0                 0  ...                   0            0              0   \n",
       "1                 0  ...                   0            0              0   \n",
       "2                 0  ...                   0            0              0   \n",
       "3                 0  ...                   0            0              0   \n",
       "4                 0  ...                   1            0              0   \n",
       "\n",
       "   occup_White-Collar  origEthn_CaucNo  origEthn_CaucYes  sex_ Female  \\\n",
       "0                   0                0                 1            0   \n",
       "1                   1                0                 1            0   \n",
       "2                   0                0                 1            0   \n",
       "3                   0                1                 0            0   \n",
       "4                   0                1                 0            1   \n",
       "\n",
       "   sex_ Male  child_ChildNo  child_ChildYes  \n",
       "0          1              1               0  \n",
       "1          1              1               0  \n",
       "2          1              1               0  \n",
       "3          1              1               0  \n",
       "4          0              1               0  \n",
       "\n",
       "[5 rows x 23 columns]"
      ]
     },
     "execution_count": 40,
     "metadata": {},
     "output_type": "execute_result"
    }
   ],
   "source": [
    "adultJoin.head()"
   ]
  },
  {
   "cell_type": "code",
   "execution_count": 42,
   "metadata": {
    "ExecuteTime": {
     "end_time": "2020-03-13T08:11:00.825838Z",
     "start_time": "2020-03-13T08:11:00.815876Z"
    }
   },
   "outputs": [
    {
     "data": {
      "text/plain": [
       "(45208, 11)"
      ]
     },
     "execution_count": 42,
     "metadata": {},
     "output_type": "execute_result"
    }
   ],
   "source": [
    "adult.shape"
   ]
  },
  {
   "cell_type": "markdown",
   "metadata": {},
   "source": [
    "### Préparation des échantillons\n",
    "La base de données est réduite par tirage aléatoire puis divisée en deux échantillons d'apprentissage et de test."
   ]
  },
  {
   "cell_type": "code",
   "execution_count": 44,
   "metadata": {
    "ExecuteTime": {
     "end_time": "2020-03-13T08:16:31.836145Z",
     "start_time": "2020-03-13T08:16:31.817135Z"
    }
   },
   "outputs": [],
   "source": [
    "# possibilité de réduire la taille de l'apprentissage par échantillonnage aléatoire ou pas\n",
    "ind_ech = np.random.choice(adultJoin.index.values, 20000, replace=False)\n",
    "#adultEch=adultJoin.loc[ind_ech]\n",
    "adultEch=adultJoin\n",
    "# Variable cible\n",
    "Y=adultEch[\"income\"]\n",
    "# Variables prédictives\n",
    "X=adultEch.drop([\"income\"],axis=1)"
   ]
  },
  {
   "cell_type": "code",
   "execution_count": 45,
   "metadata": {
    "ExecuteTime": {
     "end_time": "2020-03-13T08:16:49.590324Z",
     "start_time": "2020-03-13T08:16:49.109314Z"
    }
   },
   "outputs": [],
   "source": [
    "from sklearn.model_selection import train_test_split  \n",
    "X_train,X_test,Y_train,Y_test=train_test_split(X,Y,test_size=0.2,random_state=11)"
   ]
  },
  {
   "cell_type": "markdown",
   "metadata": {},
   "source": [
    "## Prévision du seuil de revenu \n",
    "Une comparaison détaillée (cf. le [tutoriel](https://github.com/wikistat/Apprentissage/blob/master/Adult-Census/Apprent-Python-AdultCensus.ipynb)) de la plupart des modèles et algorithmes de prévision du seuil de revenu en fonction des différentes variables met en évidence des résultats de prévision un peu meilleurs obtenus par l'algorithme de *gradient boosting* (version xtrem). Néanmoins, on peut se limiter ici à un choix plus restreint de modèles et algorithmes pour comprendre l'impact sur la discrimination.\n",
    "- la régression logistique (linéaire) interprétable; \n",
    "- les forêts aléatoires (non linéaire) conduisent à une meilleure précision mais sans capacité d'interprétation.\n",
    "\n",
    "### Prévision par [régression logistique](http://wikistat.fr/pdf/st-m-app-rlogit.pdf)\n",
    "**Q** Comment est opérée la sélection de variables? \n",
    "\n",
    "**Q** Commenter  les options de la commande  `GridSearchCV`. A quoi sert `param` ?"
   ]
  },
  {
   "cell_type": "code",
   "execution_count": 46,
   "metadata": {
    "ExecuteTime": {
     "end_time": "2020-03-13T08:17:38.894313Z",
     "start_time": "2020-03-13T08:17:01.067301Z"
    }
   },
   "outputs": [
    {
     "name": "stdout",
     "output_type": "stream",
     "text": [
      "Temps logit = 37.802817, Meilleur taux = 0.162279, Meilleur paramètre = {'C': 1}\n"
     ]
    }
   ],
   "source": [
    "from sklearn.linear_model import LogisticRegression\n",
    "from sklearn.model_selection import GridSearchCV\n",
    "import time\n",
    "tps0=time.perf_counter()\n",
    "# Optimisation du paramètre de pénalisation\n",
    "# grille de valeurs\n",
    "param=[{\"C\":[0.9,1,1.1,1.2,1.3,1.4]}]\n",
    "logit = GridSearchCV(LogisticRegression(penalty=\"l1\",solver=\"liblinear\"), param,cv=10,n_jobs=-1)\n",
    "logitOpt=logit.fit(X_train, Y_train)  # GridSearchCV est lui même un estimateur\n",
    "# paramètre optimal\n",
    "logitOpt.best_params_[\"C\"]\n",
    "tps1=(time.perf_counter()-tps0)\n",
    "print(\"Temps logit = %f, Meilleur taux = %f, Meilleur paramètre = %s\" % (tps1,\n",
    "                              1.-logitOpt.best_score_,logitOpt.best_params_))"
   ]
  },
  {
   "cell_type": "code",
   "execution_count": 47,
   "metadata": {
    "ExecuteTime": {
     "end_time": "2020-03-13T08:17:48.701254Z",
     "start_time": "2020-03-13T08:17:48.692201Z"
    }
   },
   "outputs": [],
   "source": [
    "ClogOpt=logitOpt.best_params_['C'] # pour des étapes ultérieures"
   ]
  },
  {
   "cell_type": "code",
   "execution_count": 48,
   "metadata": {
    "ExecuteTime": {
     "end_time": "2020-03-13T08:17:51.764003Z",
     "start_time": "2020-03-13T08:17:51.718956Z"
    }
   },
   "outputs": [
    {
     "data": {
      "text/plain": [
       "0.16146870161468707"
      ]
     },
     "execution_count": 48,
     "metadata": {},
     "output_type": "execute_result"
    }
   ],
   "source": [
    "# erreur sur l'échantillon test\n",
    "1-logitOpt.score(X_test, Y_test)"
   ]
  },
  {
   "cell_type": "code",
   "execution_count": 49,
   "metadata": {
    "ExecuteTime": {
     "end_time": "2020-03-13T08:17:55.174774Z",
     "start_time": "2020-03-13T08:17:55.136176Z"
    }
   },
   "outputs": [
    {
     "name": "stdout",
     "output_type": "stream",
     "text": [
      "income   incLow  incHigh\n",
      "row_0                   \n",
      "incHigh     551     1309\n",
      "incLow     6273      909\n"
     ]
    }
   ],
   "source": [
    "# Prévision\n",
    "y_chap = logitOpt.predict(X_test)\n",
    "# matrice de confusion\n",
    "table=pd.crosstab(y_chap,Y_test)\n",
    "print(table)"
   ]
  },
  {
   "cell_type": "markdown",
   "metadata": {},
   "source": [
    "**Q** Quels algorithmes pourraient être exécutés en R pour la régression logistique? \n",
    "\n",
    "**Q** Que dire de l'interprétabilité des résultats par rapport à ceux de R?"
   ]
  },
  {
   "cell_type": "code",
   "execution_count": 50,
   "metadata": {
    "ExecuteTime": {
     "end_time": "2020-03-13T08:19:53.412197Z",
     "start_time": "2020-03-13T08:19:52.597010Z"
    }
   },
   "outputs": [
    {
     "data": {
      "text/plain": [
       "array([[-0.02270885, -0.28594592, -0.02651537, -0.20543669, -0.14899895,\n",
       "         0.22546112,  2.59856259,  2.33139889,  2.35926547,  0.67855692,\n",
       "         1.00670297,  0.36322853,  0.23607637,  0.53162702,  1.66487271,\n",
       "        -0.00508133,  1.99810528,  1.87184097,  1.39992143,  1.20444382,\n",
       "         0.43460403,  1.37591491]])"
      ]
     },
     "execution_count": 50,
     "metadata": {},
     "output_type": "execute_result"
    }
   ],
   "source": [
    "# Coefficients\n",
    "LogisticRegression(penalty=\"l1\",C=logitOpt.best_params_['C'],\n",
    "                   solver='liblinear').fit(X_train, Y_train).coef_"
   ]
  },
  {
   "cell_type": "markdown",
   "metadata": {},
   "source": [
    "### [Forêts aléatoires](http://wikistat.fr/pdf/st-m-app-agreg.pdf)\n",
    "En R, il peut être intéressant de construire un arbre binaire de classification. \n",
    "\n",
    "**Q** Pourquoi un arbre fourni par `scikit-learn` présente beaucoup moins d'intérêt?\n",
    "\n",
    "**Q** Commenter les choix de tous les paramètres ci-dessous."
   ]
  },
  {
   "cell_type": "code",
   "execution_count": 51,
   "metadata": {
    "ExecuteTime": {
     "end_time": "2020-03-13T08:20:36.859450Z",
     "start_time": "2020-03-13T08:20:22.992132Z"
    }
   },
   "outputs": [
    {
     "name": "stdout",
     "output_type": "stream",
     "text": [
      "0.16103522645578716\n"
     ]
    }
   ],
   "source": [
    "from sklearn.ensemble import RandomForestClassifier \n",
    "# définition des paramètres\n",
    "forest = RandomForestClassifier(n_estimators=500, \n",
    "   criterion='gini', max_depth=None,\n",
    "   min_samples_split=2, min_samples_leaf=1, \n",
    "   max_features='auto', max_leaf_nodes=None,\n",
    "   bootstrap=True, oob_score=True)\n",
    "# apprentissage\n",
    "rfFit = forest.fit(X_train,Y_train)\n",
    "print(1-rfFit.oob_score_)"
   ]
  },
  {
   "cell_type": "code",
   "execution_count": 52,
   "metadata": {
    "ExecuteTime": {
     "end_time": "2020-03-13T08:24:30.612227Z",
     "start_time": "2020-03-13T08:24:29.625642Z"
    }
   },
   "outputs": [
    {
     "data": {
      "text/plain": [
       "0.15837204158372042"
      ]
     },
     "execution_count": 52,
     "metadata": {},
     "output_type": "execute_result"
    }
   ],
   "source": [
    "# erreur de prévision sur le test\n",
    "1-rfFit.score(X_test,Y_test)"
   ]
  },
  {
   "cell_type": "code",
   "execution_count": 53,
   "metadata": {
    "ExecuteTime": {
     "end_time": "2020-03-13T08:34:15.651209Z",
     "start_time": "2020-03-13T08:25:10.999450Z"
    }
   },
   "outputs": [
    {
     "name": "stderr",
     "output_type": "stream",
     "text": [
      "/home-local/pbesse/anaconda3/lib/python3.7/site-packages/joblib/externals/loky/process_executor.py:706: UserWarning: A worker stopped while some jobs were given to the executor. This can be caused by a too short worker timeout or by a memory leak.\n",
      "  \"timeout or by a memory leak.\", UserWarning\n"
     ]
    },
    {
     "name": "stdout",
     "output_type": "stream",
     "text": [
      "Temps r forest = 544.645255, Meilleur taux = 0.159376, Meilleur paramètre = {'max_features': 7}\n"
     ]
    }
   ],
   "source": [
    "# optimisation du paramètre\n",
    "tps0=time.perf_counter()\n",
    "param=[{\"max_features\":list(range(2,10,1))}]\n",
    "rf= GridSearchCV(RandomForestClassifier(n_estimators=500),param,cv=10,n_jobs=-1)\n",
    "rfOpt=rf.fit(X_train, Y_train)\n",
    "# paramètre optimal\n",
    "tps1=(time.perf_counter()-tps0)\n",
    "print(\"Temps r forest = %f, Meilleur taux = %f, Meilleur paramètre = %s\" % (tps1,\n",
    "                                    1. - rfOpt.best_score_,rfOpt.best_params_))"
   ]
  },
  {
   "cell_type": "code",
   "execution_count": 54,
   "metadata": {
    "ExecuteTime": {
     "end_time": "2020-03-13T08:34:15.655872Z",
     "start_time": "2020-03-13T08:34:15.653264Z"
    }
   },
   "outputs": [],
   "source": [
    "CrfOpt=rfOpt.best_params_[\"max_features\"]"
   ]
  },
  {
   "cell_type": "code",
   "execution_count": 55,
   "metadata": {
    "ExecuteTime": {
     "end_time": "2020-03-13T08:34:24.816724Z",
     "start_time": "2020-03-13T08:34:23.864211Z"
    }
   },
   "outputs": [
    {
     "data": {
      "text/plain": [
       "0.15461181154611814"
      ]
     },
     "execution_count": 55,
     "metadata": {},
     "output_type": "execute_result"
    }
   ],
   "source": [
    "# erreur de prévision sur le test\n",
    "1-rfOpt.score(X_test,Y_test)"
   ]
  },
  {
   "cell_type": "code",
   "execution_count": 56,
   "metadata": {
    "ExecuteTime": {
     "end_time": "2020-03-13T08:34:31.330545Z",
     "start_time": "2020-03-13T08:34:30.326956Z"
    }
   },
   "outputs": [
    {
     "name": "stdout",
     "output_type": "stream",
     "text": [
      "income   incLow  incHigh\n",
      "row_0                   \n",
      "incHigh     609     1395\n",
      "incLow     6215      823\n"
     ]
    }
   ],
   "source": [
    "# prévision\n",
    "y_chap = rfFit.predict(X_test)\n",
    "# matrice de confusion\n",
    "table=pd.crosstab(y_chap,Y_test)\n",
    "print(table)"
   ]
  },
  {
   "cell_type": "code",
   "execution_count": 57,
   "metadata": {
    "ExecuteTime": {
     "end_time": "2020-03-13T08:34:44.801885Z",
     "start_time": "2020-03-13T08:34:41.884229Z"
    }
   },
   "outputs": [
    {
     "name": "stdout",
     "output_type": "stream",
     "text": [
      "age 0.24494470363279458\n",
      "educNum 0.14238235964820423\n",
      "LcapitalGain 0.1363084846300275\n",
      "mariStat_Married 0.13578572848400083\n",
      "hoursWeek 0.12913276243184385\n",
      "LcapitalLoss 0.04415565835412715\n",
      "mariStat_Never-Married 0.03525554221396122\n",
      "occup_Blue-Collar 0.018874555856749443\n",
      "mariStat_Not-Married 0.016951956111792902\n",
      "occup_White-Collar 0.014790313446567494\n",
      "sex_ Female 0.011768697930758958\n",
      "occup_Professional 0.011096212869884025\n",
      "occup_Service 0.009541331878629999\n",
      "sex_ Male 0.00925503586107277\n",
      "occup_Sales 0.0064338504281397264\n",
      "origEthn_CaucNo 0.006052539993165374\n",
      "origEthn_CaucYes 0.005882823034289335\n",
      "child_ChildNo 0.00550466265427591\n",
      "occup_Admin 0.005146081059305991\n",
      "occup_Other-occups 0.004884269197434987\n"
     ]
    }
   ],
   "source": [
    "rf= RandomForestClassifier(n_estimators=100,max_features=6)\n",
    "rfFit=rf.fit(X_train, Y_train)\n",
    "# Importance décroissante des variables\n",
    "importances = rfFit.feature_importances_\n",
    "indices = np.argsort(importances)[::-1]\n",
    "for f in range(20):\n",
    "    print(X_train.columns[indices[f]], importances[indices[f]])"
   ]
  },
  {
   "cell_type": "code",
   "execution_count": 58,
   "metadata": {
    "ExecuteTime": {
     "end_time": "2020-03-13T08:34:46.082410Z",
     "start_time": "2020-03-13T08:34:45.881461Z"
    }
   },
   "outputs": [
    {
     "data": {
      "image/png": "[encoded data removed]",
      "text/plain": [
       "<Figure size 432x288 with 1 Axes>"
      ]
     },
     "metadata": {
      "needs_background": "light"
     },
     "output_type": "display_data"
    }
   ],
   "source": [
    "# Graphe des importances\n",
    "plt.figure()\n",
    "plt.title(\"Importances des variables\")\n",
    "plt.bar(range(X_train.shape[1]), importances[indices])\n",
    "plt.xticks(range(X_train.shape[1]), indices)\n",
    "plt.xlim([-1, X_train.shape[1]])\n",
    "plt.show()"
   ]
  },
  {
   "cell_type": "markdown",
   "metadata": {},
   "source": [
    "**Q** Comment est obtenu le graphique ? Quelle importance ? Comment interpréter ces résultats ?"
   ]
  },
  {
   "cell_type": "markdown",
   "metadata": {},
   "source": [
    "### [Gradient boosting](http://wikistat.fr/pdf/st-m-app-agreg.pdf)\n",
    "**Q** Pourquoi pas de paramètre `njobs=-1`? \n",
    "\n",
    "**Q** En plus de celui optimisé, quels sont les 2 principaux paramètres de cet algorithme laissés par défaut ?"
   ]
  },
  {
   "cell_type": "code",
   "execution_count": 59,
   "metadata": {
    "ExecuteTime": {
     "end_time": "2020-03-13T08:38:44.000902Z",
     "start_time": "2020-03-13T08:34:54.509280Z"
    }
   },
   "outputs": [
    {
     "name": "stdout",
     "output_type": "stream",
     "text": [
      "Temps boosting = 229.486395, Meilleur taux = 0.133136, Meilleur paramètre = {'n_estimators': 400}\n"
     ]
    }
   ],
   "source": [
    "from sklearn.ensemble import GradientBoostingClassifier\n",
    "tps0=time.perf_counter()\n",
    "param=[{\"n_estimators\":[300, 350, 400]}]\n",
    "gbm= GridSearchCV(GradientBoostingClassifier(),param,cv=10)\n",
    "gbmOpt=gbm.fit(X_train, Y_train)\n",
    "# paramètre optimal\n",
    "tps1=(time.perf_counter()-tps0)\n",
    "print(\"Temps boosting = %f, Meilleur taux = %f, Meilleur paramètre = %s\" % (tps1,\n",
    "                        1. - gbmOpt.best_score_,gbmOpt.best_params_))"
   ]
  },
  {
   "cell_type": "code",
   "execution_count": 60,
   "metadata": {
    "ExecuteTime": {
     "end_time": "2020-03-13T08:39:33.178586Z",
     "start_time": "2020-03-13T08:39:33.170999Z"
    }
   },
   "outputs": [],
   "source": [
    "CgbmOpt=gbmOpt.best_params_[\"n_estimators\"]"
   ]
  },
  {
   "cell_type": "code",
   "execution_count": 61,
   "metadata": {
    "ExecuteTime": {
     "end_time": "2020-03-13T08:39:37.110646Z",
     "start_time": "2020-03-13T08:39:37.031044Z"
    }
   },
   "outputs": [
    {
     "data": {
      "text/plain": [
       "0.1333775713337757"
      ]
     },
     "execution_count": 61,
     "metadata": {},
     "output_type": "execute_result"
    }
   ],
   "source": [
    "# erreur de prévision sur le test\n",
    "1-gbmOpt.score(X_test,Y_test)"
   ]
  },
  {
   "cell_type": "code",
   "execution_count": 62,
   "metadata": {
    "ExecuteTime": {
     "end_time": "2020-03-13T08:39:43.285390Z",
     "start_time": "2020-03-13T08:39:43.204291Z"
    }
   },
   "outputs": [
    {
     "name": "stdout",
     "output_type": "stream",
     "text": [
      "income   incLow  incHigh\n",
      "row_0                   \n",
      "incHigh     427     1439\n",
      "incLow     6397      779\n"
     ]
    }
   ],
   "source": [
    "# prévision de l'échantillon test\n",
    "y_chap = gbmOpt.predict(X_test)\n",
    "# matrice de confusion\n",
    "table=pd.crosstab(y_chap,Y_test)\n",
    "print(table)"
   ]
  },
  {
   "cell_type": "markdown",
   "metadata": {},
   "source": [
    "### Comparaison des méthodes\n",
    "#### Tracé des [Courbes ROC](http://wikistat.fr/pdf/st-m-app-risque.pdf)\n",
    "\n",
    "**Q** En cohérence avec les résultats précédents, quelle est la courbe la plus au dessus des autres? Commenter ce graphique, que signifie AUC ?"
   ]
  },
  {
   "cell_type": "code",
   "execution_count": 63,
   "metadata": {
    "ExecuteTime": {
     "end_time": "2020-03-13T08:39:49.308649Z",
     "start_time": "2020-03-13T08:39:49.299143Z"
    }
   },
   "outputs": [],
   "source": [
    "from sklearn.metrics import roc_curve\n",
    "listMethod=[[\"GBM\",gbmOpt],[\"RF\",rfOpt],[\"Logit\",logitOpt]]"
   ]
  },
  {
   "cell_type": "code",
   "execution_count": 64,
   "metadata": {
    "ExecuteTime": {
     "end_time": "2020-03-13T08:53:53.046111Z",
     "start_time": "2020-03-13T08:40:01.780113Z"
    }
   },
   "outputs": [
    {
     "name": "stderr",
     "output_type": "stream",
     "text": [
      "/home-local/pbesse/anaconda3/lib/python3.7/site-packages/joblib/externals/loky/process_executor.py:706: UserWarning: A worker stopped while some jobs were given to the executor. This can be caused by a too short worker timeout or by a memory leak.\n",
      "  \"timeout or by a memory leak.\", UserWarning\n"
     ]
    },
    {
     "data": {
      "image/png": "[encoded data removed]",
      "text/plain": [
       "<Figure size 432x288 with 1 Axes>"
      ]
     },
     "metadata": {
      "needs_background": "light"
     },
     "output_type": "display_data"
    }
   ],
   "source": [
    "# Courbes ROC des précédents modèles optimaux\n",
    "for method in enumerate(listMethod):\n",
    "    probas_ = method[1][1].fit(X_train, Y_train).predict_proba(X_test)\n",
    "    fpr, tpr, thresholds = roc_curve(Y_test,probas_[:,1], pos_label=\"incLow\")\n",
    "    plt.plot(fpr, tpr, lw=1,label=\"%s\"%method[1][0]),\n",
    "plt.xlabel('Taux de faux positifs')\n",
    "plt.ylabel('Taux de vrais positifs')\n",
    "plt.legend(loc=\"best\")\n",
    "plt.show()"
   ]
  },
  {
   "cell_type": "markdown",
   "metadata": {},
   "source": [
    "#### [Validation croisée](http://wikistat.fr/pdf/st-m-app-risque.pdf) *Monte Carlo*\n",
    "**Q** Quelle différence entre la validation croisée Monte Carlo et la V-fold cross validation?\n",
    "\n",
    "**Q** Les variables sont « standardisées ». Pourquoi ? Est-ce important et pour quelles méthodes? Commenter les résultats. Quelle méthode choisir? Quel autre algorithme serait-il pertinent de tester? "
   ]
  },
  {
   "cell_type": "code",
   "execution_count": 65,
   "metadata": {
    "ExecuteTime": {
     "end_time": "2020-03-13T10:57:56.337198Z",
     "start_time": "2020-03-13T08:55:11.890981Z"
    }
   },
   "outputs": [
    {
     "name": "stderr",
     "output_type": "stream",
     "text": [
      "/home-local/pbesse/anaconda3/lib/python3.7/site-packages/joblib/externals/loky/process_executor.py:706: UserWarning: A worker stopped while some jobs were given to the executor. This can be caused by a too short worker timeout or by a memory leak.\n",
      "  \"timeout or by a memory leak.\", UserWarning\n",
      "/home-local/pbesse/anaconda3/lib/python3.7/site-packages/joblib/externals/loky/process_executor.py:706: UserWarning: A worker stopped while some jobs were given to the executor. This can be caused by a too short worker timeout or by a memory leak.\n",
      "  \"timeout or by a memory leak.\", UserWarning\n",
      "/home-local/pbesse/anaconda3/lib/python3.7/site-packages/joblib/externals/loky/process_executor.py:706: UserWarning: A worker stopped while some jobs were given to the executor. This can be caused by a too short worker timeout or by a memory leak.\n",
      "  \"timeout or by a memory leak.\", UserWarning\n",
      "/home-local/pbesse/anaconda3/lib/python3.7/site-packages/joblib/externals/loky/process_executor.py:706: UserWarning: A worker stopped while some jobs were given to the executor. This can be caused by a too short worker timeout or by a memory leak.\n",
      "  \"timeout or by a memory leak.\", UserWarning\n",
      "/home-local/pbesse/anaconda3/lib/python3.7/site-packages/joblib/externals/loky/process_executor.py:706: UserWarning: A worker stopped while some jobs were given to the executor. This can be caused by a too short worker timeout or by a memory leak.\n",
      "  \"timeout or by a memory leak.\", UserWarning\n",
      "/home-local/pbesse/anaconda3/lib/python3.7/site-packages/joblib/externals/loky/process_executor.py:706: UserWarning: A worker stopped while some jobs were given to the executor. This can be caused by a too short worker timeout or by a memory leak.\n",
      "  \"timeout or by a memory leak.\", UserWarning\n",
      "/home-local/pbesse/anaconda3/lib/python3.7/site-packages/joblib/externals/loky/process_executor.py:706: UserWarning: A worker stopped while some jobs were given to the executor. This can be caused by a too short worker timeout or by a memory leak.\n",
      "  \"timeout or by a memory leak.\", UserWarning\n"
     ]
    }
   ],
   "source": [
    "from sklearn.utils import check_random_state\n",
    "tps0=time.perf_counter()\n",
    "check_random_state(11)\n",
    "# définition des estimateurs\n",
    "logit= LogisticRegression(penalty=\"l1\",solver=\"liblinear\")\n",
    "rf   = RandomForestClassifier(n_estimators=500)\n",
    "gbm  = GradientBoostingClassifier()\n",
    "# Nombre d'itérations\n",
    "B=10 # pour utiliser le programme, mettre plutôt B=10\n",
    "# définition des grilles de paramètres\n",
    "listMethGrid=[[gbm,{\"n_estimators\":[300, 350, 400]}],\n",
    "    [rf,{\"max_features\":list(range(5,10,1))}],\n",
    "    [logit,{\"C\":[1,1.2,1.4]}]]\n",
    "# Initialisation à 0 \n",
    "arrayErreur=np.empty((B,3))\n",
    "for i in range(B):   # itérations sur B échantillons test\n",
    "    # extraction apprentissage et test\n",
    "    X_train1,X_test1,Y_train1,Y_test1=train_test_split(X,Y,test_size=1000)\n",
    "    # optimisation de chaque méthode et calcul de l'erreur sur le test\n",
    "    for j,(method, grid_list) in enumerate(listMethGrid):\n",
    "        methodGrid=GridSearchCV(method,grid_list,cv=10,n_jobs=-1).fit(X_train1, Y_train1)\n",
    "        methodOpt = methodGrid.best_estimator_\n",
    "        methFit=methodOpt.fit(X_train1, Y_train1)\n",
    "        arrayErreur[i,j]=1-methFit.score(X_test1,Y_test1)\n",
    "tps1=time.perf_counter()"
   ]
  },
  {
   "cell_type": "code",
   "execution_count": 66,
   "metadata": {
    "ExecuteTime": {
     "end_time": "2020-03-13T10:58:30.379793Z",
     "start_time": "2020-03-13T10:58:30.372292Z"
    }
   },
   "outputs": [
    {
     "name": "stdout",
     "output_type": "stream",
     "text": [
      "Temps execution : 7364.4333323850005\n"
     ]
    }
   ],
   "source": [
    "dataframeErreur=pd.DataFrame(arrayErreur,columns=[\"GBM\",\"RF\",\"Logit\"])\n",
    "print(\"Temps execution :\",(tps1 - tps0))"
   ]
  },
  {
   "cell_type": "code",
   "execution_count": 67,
   "metadata": {
    "ExecuteTime": {
     "end_time": "2020-03-13T10:58:32.598994Z",
     "start_time": "2020-03-13T10:58:32.431190Z"
    }
   },
   "outputs": [
    {
     "data": {
      "image/png": "[encoded data removed]",
      "text/plain": [
       "<Figure size 432x288 with 1 Axes>"
      ]
     },
     "metadata": {
      "needs_background": "light"
     },
     "output_type": "display_data"
    }
   ],
   "source": [
    "dataframeErreur[[\"GBM\",\"RF\",\"Logit\"]].boxplot(return_type='dict')\n",
    "plt.show()"
   ]
  },
  {
   "cell_type": "code",
   "execution_count": 68,
   "metadata": {
    "ExecuteTime": {
     "end_time": "2020-03-13T10:58:50.888647Z",
     "start_time": "2020-03-13T10:58:50.879483Z"
    }
   },
   "outputs": [
    {
     "data": {
      "text/plain": [
       "GBM      0.1296\n",
       "RF       0.1562\n",
       "Logit    0.1632\n",
       "dtype: float64"
      ]
     },
     "execution_count": 68,
     "metadata": {},
     "output_type": "execute_result"
    }
   ],
   "source": [
    "# Moyennes\n",
    "dataframeErreur.mean()"
   ]
  },
  {
   "cell_type": "markdown",
   "metadata": {
    "collapsed": true
   },
   "source": [
    "**Q** L'algoritme `GBM` n'a pas été complètement optimisé. Une optimisation fine de l'algorithme `XGBoost` permettra-t-elle une meilleure performance?\n",
    "\n",
    "**Q** Les SVM ne font pas partie de la comparaison à cause de temps rédhibitoires d’exécution. A quoi est-ce dû ? Commenter les temps d’exécution des différentes étapes. \n",
    "\n",
    "**Q** Les temps d'exécution deviennent longs pour un ordinateur de bureau standard. Comment évaluer l'impact de la taille de l'échantillon sur le temps d'exécution et la précision des prévisions? \n",
    "\n",
    "**Q** Est-il réellement nécessaire d'entraîner de type d'algorithme et pour ce type de problème sur de gros jeux de données?"
   ]
  },
  {
   "cell_type": "markdown",
   "metadata": {},
   "source": [
    "## Détection des discriminations"
   ]
  },
  {
   "cell_type": "code",
   "execution_count": 131,
   "metadata": {
    "ExecuteTime": {
     "end_time": "2020-03-12T20:57:44.075147Z",
     "start_time": "2020-03-12T20:57:44.053932Z"
    }
   },
   "outputs": [],
   "source": [
    "def Disp_Imp(var_sens, var_cible, alpha=0.05):\n",
    "    \"\"\"\n",
    "    Estimation du disparate impact par intervalle de confiance  \n",
    "                                                             \n",
    "  Cette fonction prend trois arguments en entrée :           \n",
    "    - La variable binaire considérée comme sensible          \n",
    "    - La variable cible Y ou sa prévision                    \n",
    "    - alpha par défaut 0.05                                  \n",
    "  Elle renvoie la valeur Tn du disparate impact et des bornes de l'intervalle de confiance                \n",
    "  Attention à l'ordre lexicographique des niveaux des facteurs, le premier est par convention celui jugé défavorable  \n",
    "    \"\"\"\n",
    "\n",
    "    S = var_sens.astype('int')\n",
    "    Y = var_cible.astype('int')\n",
    "    n = len(S)\n",
    "    \n",
    "    pi_1 = np.sum(S)/n #estimated P(S=1)\n",
    "    pi_0 = 1 - pi_1 #estimated P(S=0)\n",
    "    p_1 = np.sum(S * Y) / n #estimated P(g(X)=1, S=1)\n",
    "    p_0 = np.sum((1 - S) * Y) / n #estimated P(g(X)=1, S=0)\n",
    "    Tn = p_0 * pi_1 / (p_1 * pi_0) # disparate impact\n",
    "    grad_h = lambda x: np.array((x[3]/(x[1]*x[2]), -x[0]*x[3]/(x[1]**2 * x[2]), -x[0]*x[3]/(x[2]**2 * x[1]), x[0]/(x[2]*x[1])))\n",
    "    grad = grad_h([p_0, p_1, pi_0, pi_1])\n",
    "    Cov_4 = np.array([(0, -p_0*p_1, pi_1*p_0, -pi_1*p_0), (0, 0, -pi_0*p_1, pi_0*p_1), (0,0,0,-pi_0*pi_1), (0,0,0,0)]).T\n",
    "    Cov_4 = Cov_4 + Cov_4.T + np.diag((p_0*(1-p_0), p_1*(1-p_1),pi_0*pi_1,pi_0*pi_1))\n",
    "    sigma = np.sqrt((grad.dot(Cov_4)).dot(grad))\n",
    "    \n",
    "    lower_lim = Tn - (sigma * scipy.stats.norm.ppf(1-alpha/2)) / np.sqrt(n)\n",
    "    upper_lim = Tn + (sigma * scipy.stats.norm.ppf(1-alpha/2)) / np.sqrt(n)\n",
    "    \n",
    "    return np.array([lower_lim, Tn, upper_lim])"
   ]
  },
  {
   "cell_type": "code",
   "execution_count": 121,
   "metadata": {
    "ExecuteTime": {
     "end_time": "2020-03-12T20:52:08.987383Z",
     "start_time": "2020-03-12T20:52:08.977764Z"
    }
   },
   "outputs": [],
   "source": [
    "def DI(tab):\n",
    "    \"\"\"\n",
    "    Calcule le disparate impact ponctuel d'une table de contingence \n",
    "    Colonnes = Variable sensible\n",
    "    Lignes = variable cible\n",
    "    \"\"\"\n",
    "    tab_np = tab.to_numpy()\n",
    "    DI = (tab_np[0,0] / (tab_np[1,0] + tab_np[0,0])) / (tab_np[0,1] / (tab_np[1,1] + tab_np[0,1]))\n",
    "    return DI"
   ]
  },
  {
   "cell_type": "code",
   "execution_count": 122,
   "metadata": {
    "ExecuteTime": {
     "end_time": "2020-03-12T20:52:27.672960Z",
     "start_time": "2020-03-12T20:52:27.106514Z"
    }
   },
   "outputs": [],
   "source": [
    "logitFixe = LogisticRegression(penalty=\"l1\",solver=\"liblinear\", C=ClogOpt)\n",
    "logitFixe.fit(X_train, Y_train)\n",
    "y_chap_logit = logitFixe.predict(X_test)"
   ]
  },
  {
   "cell_type": "code",
   "execution_count": 123,
   "metadata": {
    "ExecuteTime": {
     "end_time": "2020-03-12T20:52:52.525236Z",
     "start_time": "2020-03-12T20:52:40.430100Z"
    }
   },
   "outputs": [],
   "source": [
    "rfFixe = RandomForestClassifier(n_estimators=500, max_features=CrfOpt)\n",
    "rfFixe.fit(X_train, Y_train)\n",
    "y_chap_rf = rfFixe.predict(X_test)"
   ]
  },
  {
   "cell_type": "code",
   "execution_count": 124,
   "metadata": {
    "ExecuteTime": {
     "end_time": "2020-03-12T20:53:15.438479Z",
     "start_time": "2020-03-12T20:53:09.338570Z"
    }
   },
   "outputs": [],
   "source": [
    "gbmFixe = GradientBoostingClassifier(n_estimators=CgbmOpt)\n",
    "gbmFixe.fit(X_train, Y_train)\n",
    "y_chap_gbm = gbmFixe.predict(X_test)"
   ]
  },
  {
   "cell_type": "code",
   "execution_count": 125,
   "metadata": {
    "ExecuteTime": {
     "end_time": "2020-03-12T20:53:26.172712Z",
     "start_time": "2020-03-12T20:53:26.109823Z"
    }
   },
   "outputs": [],
   "source": [
    "# récupération des matrices de confusion\n",
    "tableSex_logit = pd.crosstab(y_chap_logit, X_test['sex_ Male'].map({0: \"Female\", 1: \"Male\"}),\n",
    "                          rownames=['Sex'], colnames=['Inc'])\n",
    "tableSex_rf = pd.crosstab(y_chap_rf, X_test['sex_ Male'].map({0: \"Female\", 1: \"Male\"}), \n",
    "                          rownames=['Sex'], colnames=['Inc'])\n",
    "tableSex_gbm = pd.crosstab(y_chap_gbm, X_test['sex_ Male'].map({0: \"Female\", 1: \"Male\"}), \n",
    "                          rownames=['Sex'], colnames=['Inc'])"
   ]
  },
  {
   "cell_type": "code",
   "execution_count": 127,
   "metadata": {
    "ExecuteTime": {
     "end_time": "2020-03-12T20:53:38.888478Z",
     "start_time": "2020-03-12T20:53:38.881983Z"
    }
   },
   "outputs": [],
   "source": [
    "#Calcul des DI ponctuels\n",
    "diSex_logit = DI(tableSex_logit)\n",
    "diSex_rf = DI(tableSex_rf)\n",
    "diSex_gbm = DI(tableSex_gbm)"
   ]
  },
  {
   "cell_type": "code",
   "execution_count": 128,
   "metadata": {
    "ExecuteTime": {
     "end_time": "2020-03-12T20:53:42.525653Z",
     "start_time": "2020-03-12T20:53:42.515042Z"
    }
   },
   "outputs": [
    {
     "name": "stdout",
     "output_type": "stream",
     "text": [
      "0.21148308985672315\n",
      "0.3432022252151122\n",
      "0.27223837709259957\n"
     ]
    }
   ],
   "source": [
    "print(diSex_logit)\n",
    "print(diSex_rf)\n",
    "print(diSex_gbm)"
   ]
  },
  {
   "cell_type": "code",
   "execution_count": 132,
   "metadata": {
    "ExecuteTime": {
     "end_time": "2020-03-12T20:57:52.162871Z",
     "start_time": "2020-03-12T20:57:52.146992Z"
    }
   },
   "outputs": [],
   "source": [
    "dispimpSex_theorique = Disp_Imp(X_test[\"sex_ Male\"].values, Y_test.map({\"incLow\": 0, \"incHigh\": 1}))"
   ]
  },
  {
   "cell_type": "code",
   "execution_count": 133,
   "metadata": {
    "ExecuteTime": {
     "end_time": "2020-03-12T20:57:57.521463Z",
     "start_time": "2020-03-12T20:57:57.497541Z"
    }
   },
   "outputs": [],
   "source": [
    "dispimpSex_logit = Disp_Imp(X_test[\"sex_ Male\"].values, \n",
    "                            pd.Series(y_chap_logit).map({\"incLow\": 0, \"incHigh\": 1}).values)\n",
    "dispimpSex_rf = Disp_Imp(X_test[\"sex_ Male\"].values, \n",
    "                         pd.Series(y_chap_rf).map({\"incLow\": 0, \"incHigh\": 1}).values)\n",
    "dispimpSex_gbm = Disp_Imp(X_test[\"sex_ Male\"].values, \n",
    "                          pd.Series(y_chap_gbm).map({\"incLow\": 0, \"incHigh\": 1}).values)"
   ]
  },
  {
   "cell_type": "code",
   "execution_count": 134,
   "metadata": {
    "ExecuteTime": {
     "end_time": "2020-03-12T20:58:00.098990Z",
     "start_time": "2020-03-12T20:58:00.087672Z"
    }
   },
   "outputs": [
    {
     "name": "stdout",
     "output_type": "stream",
     "text": [
      "[0.28770538 0.33685226 0.38599914]\n",
      "[0.16951104 0.21148309 0.25345514]\n",
      "[0.28955137 0.34320223 0.39685308]\n",
      "[0.22356654 0.27223838 0.32091021]\n"
     ]
    }
   ],
   "source": [
    "print(dispimpSex_theorique)\n",
    "print(dispimpSex_logit)\n",
    "print(dispimpSex_rf)\n",
    "print(dispimpSex_gbm)"
   ]
  },
  {
   "cell_type": "code",
   "execution_count": 138,
   "metadata": {
    "ExecuteTime": {
     "end_time": "2020-03-12T21:04:29.707531Z",
     "start_time": "2020-03-12T21:04:29.482229Z"
    }
   },
   "outputs": [
    {
     "data": {
      "image/png": "[encoded data removed]",
      "text/plain": [
       "<Figure size 1080x1080 with 1 Axes>"
      ]
     },
     "metadata": {
      "needs_background": "light"
     },
     "output_type": "display_data"
    }
   ],
   "source": [
    "fig, ax = plt.subplots(figsize=(15, 15))\n",
    "# Create a dataframe\n",
    "IC_l = [x[0] for x in [dispimpSex_theorique, dispimpSex_logit, dispimpSex_rf, dispimpSex_gbm]]\n",
    "mean = [x[1] for x in [dispimpSex_theorique, dispimpSex_logit, dispimpSex_rf, dispimpSex_gbm]]\n",
    "IC_h = [x[2] for x in [dispimpSex_theorique, dispimpSex_logit, dispimpSex_rf, dispimpSex_gbm]]\n",
    "\n",
    "df = pd.DataFrame({'method': list(map(str, [\"données\", \"logit\", \"rf\", \"gbm\"])), \n",
    "                   'IC_l' : IC_l , 'mean' : mean, 'IC_h' : IC_h })\n",
    "\n",
    "# Reorder it following the values of the first value:\n",
    "\n",
    "my_range=range(1,len(df.index)+1)\n",
    "\n",
    "col = [ \"slateblue\",  \"cadetblue\", \"darkolivegreen\", \"y\"]\n",
    "\n",
    "\n",
    "\n",
    "plt.hlines(y=my_range, xmin=df['IC_l'], xmax=df['IC_h'], color='darkblue', alpha=0.8, linewidth=2)\n",
    "plt.scatter(df['IC_l'], my_range, color='darkblue', alpha=0.8, marker=4)\n",
    "plt.scatter(df['mean'], my_range, color=col, alpha=1, marker=\"s\", linewidths=8)\n",
    "plt.scatter(df['IC_h'], my_range, color='darkblue', alpha=0.8, marker=5)\n",
    "axes = plt.gca()\n",
    "axes.set_xlim((0.1, 0.6))\n",
    "# plt.xlim((0.1, 0.7))\n",
    "# Add title and axis names\n",
    "plt.yticks(my_range, df['method'])\n",
    "plt.title(\"Etude du disparate impact sur le sexe selon diverses méthodes de machine learning\", loc='center')\n",
    "plt.xlabel('DI')\n",
    "\n",
    "plt.show()"
   ]
  },
  {
   "cell_type": "code",
   "execution_count": 144,
   "metadata": {
    "ExecuteTime": {
     "end_time": "2020-03-12T21:25:17.709811Z",
     "start_time": "2020-03-12T21:25:17.688103Z"
    }
   },
   "outputs": [],
   "source": [
    "def graphesIC(x, confint, xmax=1):\n",
    "    tab_colors=['turquoise', 'lightcoral', 'mediumspringgreen', 'violet']\n",
    "    tab_labels=['Données', 'Régression logistique', 'Forêts aléatoires', 'Gradient Boosting Machine'] \n",
    "    plt.figure(figsize=(15,15))\n",
    "    axes = plt.gca()\n",
    "    axes.set_xlim([0,xmax])\n",
    "    axes.set_yticklabels([])\n",
    "    for i in range(np.shape(x)[0]):\n",
    "        plt.errorbar(range(i,i+1), y[i], yerr=confint[i], fmt='o', color='white',\n",
    "                         ecolor=tab_colors[i], elinewidth=6, capsize=10, capthick=5);\n",
    "        if i==0 and donnees:\n",
    "            plt.scatter(range(i,i+1), y[i], marker='o', s=400, color=tab_colors[i], label=tab_labels[i])\n",
    "        if i>0 and (i+1)%3==0:\n",
    "            plt.scatter(range(i,i+1), y[i], marker='o', s=400, color=tab_colors[i], label=tab_labels[i])\n",
    "        else:\n",
    "            plt.scatter(range(i,i+1), y[i], marker='o', s=400, color=tab_colors[i])\n",
    "    plt.legend(labelspacing=1.5, fontsize=13)\n",
    "    plt.title('Intervalles de confiance du '+title+ 'pourchaque modèle', fontsize=25)\n",
    "    plt.show()"
   ]
  },
  {
   "cell_type": "code",
   "execution_count": 145,
   "metadata": {
    "ExecuteTime": {
     "end_time": "2020-03-12T21:25:20.712023Z",
     "start_time": "2020-03-12T21:25:20.693666Z"
    }
   },
   "outputs": [
    {
     "ename": "NameError",
     "evalue": "name 'tab_intervalles' is not defined",
     "output_type": "error",
     "traceback": [
      "\u001b[0;31m---------------------------------------------------------------------------\u001b[0m",
      "\u001b[0;31mNameError\u001b[0m                                 Traceback (most recent call last)",
      "\u001b[0;32m<ipython-input-145-02169bbbc33b>\u001b[0m in \u001b[0;36m<module>\u001b[0;34m\u001b[0m\n\u001b[0;32m----> 1\u001b[0;31m \u001b[0mgraphesIC\u001b[0m\u001b[0;34m(\u001b[0m\u001b[0mtab_intervalles\u001b[0m\u001b[0;34m[\u001b[0m\u001b[0;34m:\u001b[0m\u001b[0;34m,\u001b[0m\u001b[0;36m1\u001b[0m\u001b[0;34m]\u001b[0m\u001b[0;34m,\u001b[0m \u001b[0mtab_intervalles\u001b[0m\u001b[0;34m[\u001b[0m\u001b[0;34m:\u001b[0m\u001b[0;34m,\u001b[0m\u001b[0;36m2\u001b[0m\u001b[0;34m]\u001b[0m\u001b[0;34m-\u001b[0m\u001b[0mtab_intervalles\u001b[0m\u001b[0;34m[\u001b[0m\u001b[0;34m:\u001b[0m\u001b[0;34m,\u001b[0m\u001b[0;36m1\u001b[0m\u001b[0;34m]\u001b[0m\u001b[0;34m,\u001b[0m \u001b[0;34m'DI'\u001b[0m\u001b[0;34m)\u001b[0m\u001b[0;34m\u001b[0m\u001b[0;34m\u001b[0m\u001b[0m\n\u001b[0m",
      "\u001b[0;31mNameError\u001b[0m: name 'tab_intervalles' is not defined"
     ]
    }
   ],
   "source": [
    "graphesIC(tab_intervalles[:,1], tab_intervalles[:,2]-tab_intervalles[:,1], 'DI')   "
   ]
  },
  {
   "cell_type": "code",
   "execution_count": null,
   "metadata": {},
   "outputs": [],
   "source": [
    "X_train_wS, X_test_wS, Y_train, Y_test = train_test_split(X.drop([\"sex_ Male\", \"sex_ Female\"], axis=1), Y, test_size=5000, random_state=11)"
   ]
  },
  {
   "cell_type": "code",
   "execution_count": null,
   "metadata": {},
   "outputs": [],
   "source": [
    "# Utile si on veut faire une matrice de confusion par sexe\n",
    "sex_X_train = X.loc[X_train_wS.index.values, \"sex_ Male\"]\n",
    "sex_X_test = X.loc[X_test_wS.index.values, \"sex_ Male\"]"
   ]
  },
  {
   "cell_type": "code",
   "execution_count": null,
   "metadata": {},
   "outputs": [],
   "source": []
  }
 ],
 "metadata": {
  "kernelspec": {
   "display_name": "Python 3",
   "language": "python",
   "name": "python3"
  },
  "language_info": {
   "codemirror_mode": {
    "name": "ipython",
    "version": 3
   },
   "file_extension": ".py",
   "mimetype": "text/x-python",
   "name": "python",
   "nbconvert_exporter": "python",
   "pygments_lexer": "ipython3",
   "version": "3.7.5"
  },
  "latex_envs": {
   "LaTeX_envs_menu_present": true,
   "autoclose": false,
   "autocomplete": true,
   "bibliofile": "biblio.bib",
   "cite_by": "apalike",
   "current_citInitial": 1,
   "eqLabelWithNumbers": true,
   "eqNumInitial": 1,
   "hotkeys": {
    "equation": "Ctrl-E",
    "itemize": "Ctrl-I"
   },
   "labels_anchors": false,
   "latex_user_defs": false,
   "report_style_numbering": false,
   "user_envs_cfg": false
  },
  "toc": {
   "base_numbering": 1,
   "nav_menu": {},
   "number_sections": true,
   "sideBar": true,
   "skip_h1_title": true,
   "title_cell": "Table of Contents",
   "title_sidebar": "Contents",
   "toc_cell": false,
   "toc_position": {},
   "toc_section_display": true,
   "toc_window_display": true
  }
 },
 "nbformat": 4,
 "nbformat_minor": 1
}
