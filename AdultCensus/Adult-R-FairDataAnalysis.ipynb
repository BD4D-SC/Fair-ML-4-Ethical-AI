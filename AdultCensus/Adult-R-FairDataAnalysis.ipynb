{
 "cells": [
  {
   "cell_type": "markdown",
   "metadata": {},
   "source": [
    "<center>\n",
    "<a href=\"http://www.insa-toulouse.fr/\" ><img src=\"http://www.math.univ-toulouse.fr/~besse/Wikistat/Images/logo-insa.jpg\" style=\"float:left; max-width: 120px; display: inline\" alt=\"INSA\"/></a> \n",
    "\n",
    "<a href=\"http://www.univ-tlse3.fr/\" ><img src=\"http://www.univ-tlse3.fr/medias/photo/ut3pres_logoq_1372757033342.jpg?ID_FICHE=49702\" style=\"float:right; max-width: 250px; display: inline\" alt=\"INSA\"/></a> \n",
    "</center>"
   ]
  },
  {
   "cell_type": "markdown",
   "metadata": {},
   "source": [
    "\n",
    "\n",
    "# Biais et Discrimination en Apprentissage Statistique\n",
    "## Estimation de l'*effet disproportionné* par Intervalle de Confiance et correction du biais\n",
    "\n",
    "### Résumé\n",
    "Analyse *loyale* de données extraites d'un recensement aux USA de 1994 et disponibles sur le [dépôt de l'UCI](http://archive.ics.uci.edu/ml/). Ces données permettent de mettre en relation le niveau de revenu (inférieur ou supérieur à 50k$) avec d'autres variables. L'effet disproportionné est estimé par intervalle de confiance comme indicateur de biais, source de discrimination. L'objectif est d'évaluer les aspects discriminatoires des données et leurs conséquences sur des modèles et algorithmes de prévision sur lesquelles ils sont entraînés. Un modèle de régression logistique classique estimé sur ces données montre qu'il renforce le biais donc la discrimination. Des propositions de correction de biais sont comparées afin de proposer un mode d'apprentissage loyal pour au moins éviter le renforcement du biais: correction par testing, modificaiton des seuils de décision, transport optimal. "
   ]
  },
  {
   "cell_type": "markdown",
   "metadata": {},
   "source": [
    "## 1 Introduction\n",
    "### 1.1 Les données\n",
    "Des données publiques disponibles sur le site [UCI repository](http://archive.ics.uci.edu/ml/) sont extraites de la base de données issue du recensement réalisé aux Etats Unis en 1994. Ces données son largement utilisées et font référence comme outil de *benchmark* pour comparer les performances de méthodes d’apprentissage et en étudier la loyauté (*fair learning*). L’objectif est de prévoir, avec plus ou moins de biais, la variable binaire \"revenu annuel\" supérieur ou inférieur à 50k$. Cette prévision n'impacte pas la personne mais comme la démarche et le contexte sont tout à fait similaires à ce que pourrait faire une banque pour évaluer un risque de crédit, c'est exemple est très illustratif. Il est d'ailleurs systématiquement utilisé pour comparer les propriétés des algorithmes d'apprentissage équitable (références) car contrairement à beaucoup d'autres jeux de données utlisés pour cette fin (*e.g. german credit bank*), la vraie valeur de la variable cible est connue.\n",
    "\n",
    "Dans les données initiales, 32.561 individus sont décrits par les 14 variables du tableau ci-dessous:\n",
    "\n",
    "\n",
    "|Num|Libellé|Ensemble de valeurs|\n",
    "|-|:---------|:-------------------|\n",
    "|1|`Age`|real|\n",
    "|2|`workClass`|Private, Self-emp-not-inc, Self-emp-inc, Federal-gov, Local-gov, State-gov, Without-pay, Never-worked|\n",
    "|3|`fnlwgt`|real|\n",
    "|4|`education`|Bachelors, Some-college, 11th, HS-grad, Prof-school, Assoc-acdm, Assoc-voc, 9th, 7th-8th, 12th, Masters, 1st-4th, 10th, Doctorate, 5th-6th, Preschool|\n",
    "|5|`educNum`|integer|\n",
    "|6|`mariStat`|Married-civ-spouse, Divorced, Never-married, Separated, Widowed, Married-spouse-absent, Married-AF-spouse|\n",
    "|7|`occup`|Tech-support, Craft-repair, Other-service, Sales, Exec-managerial, Prof-specialty, Handlers-cleaners, Machine-op-inspct, Adm-clerical, Farming-fishing, Transport-moving, Priv-house-serv, Protective-serv, Armed-Forces|\n",
    "|8|`relationship`|Wife, Own-child, Husband, Not-in-family, Other-relative, Unmarried\n",
    "|9|`origEthn`|White, Asian-Pac-Islander, Amer-Indian-Eskimo, Other, Black|\n",
    "|10|`sex`|Female, Male|\n",
    "|11|`capitalGain`|real| \n",
    "|12|`capitalLoss`|real|\n",
    "|13|`hoursWeek`|real|\n",
    "|14|`nativCountry`|United-States, Cambodia, England, Puerto-Rico, Canada, Germany, Outlying-US(Guam-USVI-etc), India, Japan, Greece, South, China, Cuba, Iran, Honduras, Philippines, Italy, Poland, Jamaica, Vietnam, Mexico, Portugal, Ireland, France, Dominican-Republic, Laos, Ecuador, Taiwan, Haiti, Columbia, Hungary, Guatemala, Nicaragua, Scotland, Thailand, Yugoslavia, El-Salvador, Trinadad&Tobago, Peru, Hong, Holand-Netherlands|\n",
    "|15|`income`|>50K, <=50K|\n"
   ]
  },
  {
   "cell_type": "markdown",
   "metadata": {},
   "source": [
    "### 1.2 Les traitements et analyses réalisés sur ces données\n",
    "- Lecture et prise en charge des données en remarquant que la variable `fnlwgt` (Final sampling weight) a un [statut particulier](http://web.cs.wpi.edu/~cs4341/C00/Projects/fnlwgt) pas très clair. Elle pourrait être oubliée dans les modèles.\n",
    "- Exploration élémentaire et multidimensionnelle (AFCM)\n",
    "- Prévision du revenu par régression logistique\n",
    "- Estimation du *disparate impact* par intervalle de confiance vis-à-vis de deux variables sensibles: genre et origine ethnique. Sur les données initiales et sur les prévisions du seuil de revenu.\n",
    "- Evaluation de la sensibilité de ces modèles à des actions de testing: quels sont les individus pour lesquels la prévision du seuil de revenu dépend de la seule variable sensible?\n",
    "- Corrections du biais par diffrentes stratégies.\n",
    "\n",
    "**Remarque** Tout ce qui a été fait en utilisant la régression logistique comme métode de prévision a également été opéré en utilisant l'algorithme *Random Forest*. Ceci produit les mêmes résultats, c'est à dire les mêmes qualités de prévision et les mêmes orientations des biais. Mais, comme cet algoritme soulève des complications d'interprétation  du fait de sa non linéarité, cette méthode est laissée de côté. "
   ]
  },
  {
   "cell_type": "markdown",
   "metadata": {},
   "source": [
    "## 2 Prise en Charge des données\n",
    "### 2.1 Lecture et premières transformations\n",
    "La lecture et la transformation des données brutes du dépôt de l'UCI sont obtenues directement en exécutant un code source en R. Consulter le code du programme pour comprendre les transformations qui ont été réalisées sur les données brutes. Cette étape a été largement anticipée et simplifiée par la fourniture du programe afférent. Ne pas oublier qu'elle est essentielle et occupe la plus grande partie du temps nécessaire à une analyse. Elle aurait pu être rendue plus efficace (programme plus concis et exécution plus rapide) en utilisant la librairie `dplyr` très adaptée à cet usage.\n",
    "\n",
    "Charger les données et le programme dans le répertoire courant (path=\"\") en même temps que ce tutoriel ou changer de chemin pour y accéder directement. \n",
    "\n",
    "Certaines variables qualitatives sont recodées afin de regrouper des classes, les variables quantitatives, dont l'âge, sont découpées en classes afin d'en construire des versions qualitatives."
   ]
  },
  {
   "cell_type": "code",
   "execution_count": 1,
   "metadata": {},
   "outputs": [
    {
     "data": {
      "text/plain": [
       "      age                workClass         fnlwgt              education   \n",
       " Min.   :18.00   Federal-Govt :  933   Min.   :  13769   HS-grad    :9829  \n",
       " 1st Qu.:28.00   Not-Working  :   14   1st Qu.: 117627   HS-Graduate:6674  \n",
       " Median :37.00   Other-Govt   : 3330   Median : 178487   Bachelors  :5043  \n",
       " Mean   :38.68   Private      :21988   Mean   : 189879   Dropout    :3421  \n",
       " 3rd Qu.:47.00   Self-Employed: 3560   3rd Qu.: 237671   Associates :2315  \n",
       " Max.   :90.00                         Max.   :1484705   Masters    :1626  \n",
       "                                                         (Other)    : 917  \n",
       "    educNum               mariStat              occup     \n",
       " Min.   : 1.00   Married      :14081   Admin       :3698  \n",
       " 1st Qu.: 9.00   Never-Married: 9394   Blue-Collar :9840  \n",
       " Median :10.00   Not-Married  : 5523   Other-occups:1552  \n",
       " Mean   :10.16   Widowed      :  827   Professional:4028  \n",
       " 3rd Qu.:13.00                         Sales       :3498  \n",
       " Max.   :16.00                         Service     :3218  \n",
       "                                       White-Collar:3991  \n",
       "         relationship          origEthn         sex        capitalGain   \n",
       " Husband       :12460   Amer-Indian:  282   Female: 9632   None  :27295  \n",
       " Not-in-family : 7713   Asian      :  894   Male  :20193   cgLow : 1440  \n",
       " Other-relative:  872   Black      : 2790                  cgHigh: 1090  \n",
       " Own-child     : 4168   Other      :  227                                \n",
       " Unmarried     : 3206   White      :25632                                \n",
       " Wife          : 1406                                                    \n",
       "                                                                         \n",
       " capitalLoss      hoursWeek                   nativCountry       income     \n",
       " None  :28409   Min.   : 1.00   United-States       :27182   incHigh: 7507  \n",
       " clLow :  723   1st Qu.:40.00   Latin-America       : 1041   incLow :22318  \n",
       " clHigh:  693   Median :40.00   British-Commonwealth:  324                  \n",
       "                Mean   :41.16   SE-Asia             :  304                  \n",
       "                3rd Qu.:45.00   Euro_1              :  224                  \n",
       "                Max.   :99.00   Euro_2              :  218                  \n",
       "                                (Other)             :  532                  \n",
       "  LcapitalGain      LcapitalLoss     ageQ      hoursWeekQ \n",
       " Min.   : 0.0000   Min.   :0.0000   Ag1:6081   HW1: 6416  \n",
       " 1st Qu.: 0.0000   1st Qu.:0.0000   Ag2:5659   HW2:14253  \n",
       " Median : 0.0000   Median :0.0000   Ag3:6453   HW3: 9156  \n",
       " Mean   : 0.7502   Mean   :0.3565   Ag4:5940              \n",
       " 3rd Qu.: 0.0000   3rd Qu.:0.0000   Ag5:5692              \n",
       " Max.   :11.5129   Max.   :8.3795                         \n",
       "                                                          "
      ]
     },
     "metadata": {},
     "output_type": "display_data"
    }
   ],
   "source": [
    "# Chemin pour charger au moment de l'exécution:\n",
    "# path=\"http://www.math.univ-toulouse.fr/~besse/Wikistat/programmes/\"\n",
    "path=\"\"\n",
    "source(paste(path,\"dataPrepAdultCensus.R\",sep=\"\"))\n",
    "summary(dataBase)"
   ]
  },
  {
   "cell_type": "markdown",
   "metadata": {},
   "source": [
    "### 2.2 Quelques graphiques\n",
    "Mettre en évidence des difficultés présentes sur certaines variables ou couples de variables."
   ]
  },
  {
   "cell_type": "code",
   "execution_count": 2,
   "metadata": {},
   "outputs": [
    {
     "data": {
      "image/png": "[encoded data removed]",
      "text/plain": [
       "Plot with title “”"
      ]
     },
     "metadata": {},
     "output_type": "display_data"
    }
   ],
   "source": [
    "# dimensions des graphiques\n",
    "options(repr.plot.width=4, repr.plot.height=4)\n",
    "hist(dataBase[,\"LcapitalGain\"],probability=T, main=\"\",xlab=\"log(1+CapitalGain)\")\n",
    "boxplot(dataBase[,\"LcapitalGain\"], horizontal=TRUE,boxwex=.2,  outline=TRUE,  \n",
    "        frame=F, col = \"lightgrey\", add = TRUE,at=0.2)"
   ]
  },
  {
   "cell_type": "markdown",
   "metadata": {},
   "source": [
    "Nécessité de transformer certaines variables avant de contruire des modèles linéaires puis mise en évidence de fortes redondances dans certaines variables."
   ]
  },
  {
   "cell_type": "code",
   "execution_count": 3,
   "metadata": {},
   "outputs": [
    {
     "data": {
      "text/plain": [
       "                \n",
       "                 Female  Male\n",
       "  Husband             1 12459\n",
       "  Not-in-family    3563  4150\n",
       "  Other-relative    379   493\n",
       "  Own-child        1825  2343\n",
       "  Unmarried        2459   747\n",
       "  Wife             1405     1"
      ]
     },
     "metadata": {},
     "output_type": "display_data"
    }
   ],
   "source": [
    "table(dataBase$relationship,dataBase$sex)   "
   ]
  },
  {
   "cell_type": "code",
   "execution_count": 4,
   "metadata": {},
   "outputs": [
    {
     "data": {
      "text/plain": [
       "             \n",
       "                 1    2    3    4    5    6    7    8    9   10   11   12   13\n",
       "  Associates     0    0    0    0    0    0    0    0    0    0 1307 1008    0\n",
       "  Bachelors      0    0    0    0    0    0    0    0    0    0    0    0 5043\n",
       "  Doctorate      0    0    0    0    0    0    0    0    0    0    0    0    0\n",
       "  Dropout       45  151  287  554  432  714  894  344    0    0    0    0    0\n",
       "  HS-grad        0    0    0    0    0    0    0    0 9829    0    0    0    0\n",
       "  HS-Graduate    0    0    0    0    0    0    0    0    0 6674    0    0    0\n",
       "  Masters        0    0    0    0    0    0    0    0    0    0    0    0    0\n",
       "  Prof-School    0    0    0    0    0    0    0    0    0    0    0    0    0\n",
       "             \n",
       "                14   15   16\n",
       "  Associates     0    0    0\n",
       "  Bachelors      0    0    0\n",
       "  Doctorate      0    0  375\n",
       "  Dropout        0    0    0\n",
       "  HS-grad        0    0    0\n",
       "  HS-Graduate    0    0    0\n",
       "  Masters     1626    0    0\n",
       "  Prof-School    0  542    0"
      ]
     },
     "metadata": {},
     "output_type": "display_data"
    }
   ],
   "source": [
    "table(dataBase$education,dataBase$educNum)  "
   ]
  },
  {
   "cell_type": "code",
   "execution_count": 5,
   "metadata": {},
   "outputs": [
    {
     "data": {
      "text/plain": [
       "               \n",
       "                Husband Not-in-family Other-relative Own-child Unmarried  Wife\n",
       "  Married         12460            14            118        83         0  1406\n",
       "  Never-Married       0          4435            532      3632       795     0\n",
       "  Not-Married         0          2832            182       441      2068     0\n",
       "  Widowed             0           432             40        12       343     0"
      ]
     },
     "metadata": {},
     "output_type": "display_data"
    }
   ],
   "source": [
    "table(dataBase$mariStat,dataBase$relationship)"
   ]
  },
  {
   "cell_type": "code",
   "execution_count": 6,
   "metadata": {},
   "outputs": [
    {
     "data": {
      "text/plain": [
       "             \n",
       "              British-Commonwealth China Euro_1 Euro_2 Latin-America Other\n",
       "  Amer-Indian                    0     1      1      2             9     0\n",
       "  Asian                         88   122      2     71             6    43\n",
       "  Black                          9     0      7      0           163     6\n",
       "  Other                          6     0      1      0            84     5\n",
       "  White                        221     6    213    145           779   139\n",
       "             \n",
       "              SE-Asia South-America United-States\n",
       "  Amer-Indian       1             1           267\n",
       "  Asian           290             0           272\n",
       "  Black             1             1          2603\n",
       "  Other             0            20           111\n",
       "  White            12           188         23929"
      ]
     },
     "metadata": {},
     "output_type": "display_data"
    }
   ],
   "source": [
    "table(dataBase$origEthn,dataBase$nativCountry)"
   ]
  },
  {
   "cell_type": "markdown",
   "metadata": {},
   "source": [
    "Quelques mosaicplots importants montrant le liens des variables sensibles avec la cible (seuil de revenu)."
   ]
  },
  {
   "cell_type": "code",
   "execution_count": 7,
   "metadata": {},
   "outputs": [
    {
     "data": {
      "image/png": "[encoded data removed]",
      "text/plain": [
       "Plot with title “”"
      ]
     },
     "metadata": {},
     "output_type": "display_data"
    }
   ],
   "source": [
    "mosaicplot(table(dataBase[,\"sex\"],dataBase[,\"income\"]),main=\"\")"
   ]
  },
  {
   "cell_type": "markdown",
   "metadata": {},
   "source": [
    "**Q** Commentaire sur le biais présent dans la base."
   ]
  },
  {
   "cell_type": "code",
   "execution_count": 8,
   "metadata": {},
   "outputs": [
    {
     "data": {
      "image/png": "[encoded data removed]",
      "text/plain": [
       "Plot with title “”"
      ]
     },
     "metadata": {},
     "output_type": "display_data"
    }
   ],
   "source": [
    "mosaicplot(table(dataBase[,\"origEthn\"],dataBase[,\"income\"]),main=\"\")"
   ]
  },
  {
   "cell_type": "markdown",
   "metadata": {},
   "source": [
    "Quelques modifications sont apportées de la base. Certaines variables en versions quantitatives et qualitatives comme le nombre d'heures par semaine, l'âge ou le niveau d'éducation sont conservées. Des variables sont supprimées afin de ne garder qu'une seule présence d'une information sensible: genre et origine ethnique.\n",
    "- Suppression de la variable 3 `fnlwgt` qui n'a guère de signification.\n",
    "- Création d'une variable binaire `Child`: présence ou non d'enfants\n",
    "- Suppression de la variable 8 `relationship` redondante avec le genre et le statut marital,\n",
    "- Suppression de la variable 14 `nativCountry` redondante avec l'origine ethnique.\n",
    "- La variable 9 `originEthn` est simplifiée à 2 classes: CaucYes *vs.* CaucNo"
   ]
  },
  {
   "cell_type": "code",
   "execution_count": 9,
   "metadata": {},
   "outputs": [],
   "source": [
    "dataBase[,\"Child\"]=as.factor(ifelse(dataBase$relationship=='Own-child',\"ChildYes\",\"ChildNo\"))\n",
    "dataBase[,\"origEthn\"]=as.factor(ifelse(dataBase$origEthn %in% c('Amer-Indian','Asian','Black','Other'),\"CaucNo\",\"CaucYes\"))\n",
    "\n",
    "datBas=dataBase[,-c(3,8,14)]"
   ]
  },
  {
   "cell_type": "code",
   "execution_count": 10,
   "metadata": {},
   "outputs": [
    {
     "data": {
      "image/png": "[encoded data removed]",
      "text/plain": [
       "Plot with title “”"
      ]
     },
     "metadata": {},
     "output_type": "display_data"
    }
   ],
   "source": [
    "mosaicplot(table(dataBase[,\"origEthn\"],dataBase[,\"income\"]),main=\"\")"
   ]
  },
  {
   "cell_type": "markdown",
   "metadata": {},
   "source": [
    "**Q** Commentaire sur le biais présent dans la base."
   ]
  },
  {
   "cell_type": "code",
   "execution_count": 11,
   "metadata": {},
   "outputs": [
    {
     "data": {
      "text/plain": [
       "      age                workClass           education       educNum     \n",
       " Min.   :18.00   Federal-Govt :  933   HS-grad    :9829   Min.   : 1.00  \n",
       " 1st Qu.:28.00   Not-Working  :   14   HS-Graduate:6674   1st Qu.: 9.00  \n",
       " Median :37.00   Other-Govt   : 3330   Bachelors  :5043   Median :10.00  \n",
       " Mean   :38.68   Private      :21988   Dropout    :3421   Mean   :10.16  \n",
       " 3rd Qu.:47.00   Self-Employed: 3560   Associates :2315   3rd Qu.:13.00  \n",
       " Max.   :90.00                         Masters    :1626   Max.   :16.00  \n",
       "                                       (Other)    : 917                  \n",
       "          mariStat              occup         origEthn         sex       \n",
       " Married      :14081   Admin       :3698   CaucNo : 4193   Female: 9632  \n",
       " Never-Married: 9394   Blue-Collar :9840   CaucYes:25632   Male  :20193  \n",
       " Not-Married  : 5523   Other-occups:1552                                 \n",
       " Widowed      :  827   Professional:4028                                 \n",
       "                       Sales       :3498                                 \n",
       "                       Service     :3218                                 \n",
       "                       White-Collar:3991                                 \n",
       " capitalGain    capitalLoss      hoursWeek         income     \n",
       " None  :27295   None  :28409   Min.   : 1.00   incHigh: 7507  \n",
       " cgLow : 1440   clLow :  723   1st Qu.:40.00   incLow :22318  \n",
       " cgHigh: 1090   clHigh:  693   Median :40.00                  \n",
       "                               Mean   :41.16                  \n",
       "                               3rd Qu.:45.00                  \n",
       "                               Max.   :99.00                  \n",
       "                                                              \n",
       "  LcapitalGain      LcapitalLoss     ageQ      hoursWeekQ       Child      \n",
       " Min.   : 0.0000   Min.   :0.0000   Ag1:6081   HW1: 6416   ChildNo :25657  \n",
       " 1st Qu.: 0.0000   1st Qu.:0.0000   Ag2:5659   HW2:14253   ChildYes: 4168  \n",
       " Median : 0.0000   Median :0.0000   Ag3:6453   HW3: 9156                   \n",
       " Mean   : 0.7502   Mean   :0.3565   Ag4:5940                               \n",
       " 3rd Qu.: 0.0000   3rd Qu.:0.0000   Ag5:5692                               \n",
       " Max.   :11.5129   Max.   :8.3795                                          \n",
       "                                                                           "
      ]
     },
     "metadata": {},
     "output_type": "display_data"
    }
   ],
   "source": [
    "summary(datBas)"
   ]
  },
  {
   "cell_type": "markdown",
   "metadata": {},
   "source": [
    "### 2.3  [Analyse factorielle multiple des correspondances](http://wikistat.fr/pdf/st-m-explo-afcm.pdf)\n",
    "Cette méthode permet d'avoir une vue d'ensemble de la structure des liaisons entre les variables qualitatives prises 2 à 2. "
   ]
  },
  {
   "cell_type": "code",
   "execution_count": 12,
   "metadata": {},
   "outputs": [
    {
     "data": {
      "image/png": "[encoded data removed]",
      "text/plain": [
       "plot without title"
      ]
     },
     "metadata": {},
     "output_type": "display_data"
    }
   ],
   "source": [
    "library(FactoMineR)\n",
    "dataq=datBas[,c(2,3,5:10,12,15:17)]\n",
    "afcm=MCA(dataq,graph=FALSE)\n",
    "plot(1:30,afcm$eig[1:30,1],type=\"h\")"
   ]
  },
  {
   "cell_type": "markdown",
   "metadata": {},
   "source": [
    "Il pourrait être utile de considérer 3 ou 4 axes mais seuls deux sont utilisés dans cette approche élémentaire."
   ]
  },
  {
   "cell_type": "code",
   "execution_count": 13,
   "metadata": {},
   "outputs": [
    {
     "data": {
      "image/png": "[encoded data removed]",
      "text/plain": [
       "Plot with title “MCA factor map”"
      ]
     },
     "metadata": {},
     "output_type": "display_data"
    }
   ],
   "source": [
    "options(repr.plot.width=6, repr.plot.height=6)\n",
    "plot.MCA(afcm,invisible=c(\"ind\"),habillage=\"quali\")"
   ]
  },
  {
   "cell_type": "markdown",
   "metadata": {},
   "source": [
    "Remarquer la très forte et attendue liaison entre niveau d'éducation et activité selon un axe de dispersion suivant la première bissectrice lui même en relation avec les modalités haut et bas revenus alors que le genre, en première approximation, semble orthogonal à cet axe mais en relation avec le type d'activité et le nombre d'heures de travail par semaine.\n",
    "\n",
    "Ce graphique laisse penser que le lien entre genre et niveau de revenu ne serait pas dû à une sous qualification des femmes mais à une moindre activité (travail partiel) ou à des types d'emplois moins rémunérés.\n",
    "\n",
    "Cette représentation est complétée en projetant les individus colorés selon la variable revenu. De façon triviale, les hauts revenus se concentrent du côté des niveaux d'éducation les plus élevés.\n",
    "\n",
    "*En résumé*: un lien direct entre revenu et niveau d'éducation, pas nécessairement de lien entre genre et niveau d'éducation mais un \"frein\" au revenu lié au type de travail ou d'occupation : administratif, service... et à de possibles temps partiels."
   ]
  },
  {
   "cell_type": "code",
   "execution_count": 14,
   "metadata": {},
   "outputs": [
    {
     "data": {
      "image/png": "[encoded data removed]",
      "text/plain": [
       "plot without title"
      ]
     },
     "metadata": {},
     "output_type": "display_data"
    }
   ],
   "source": [
    "plot(afcm$ind$coord,type=\"p\",pch=\".\",cex=2,col=as.integer(dataBase$income))"
   ]
  },
  {
   "cell_type": "markdown",
   "metadata": {},
   "source": [
    "## 3 Modèles de prévision du seuil de revenu\n",
    "Une comparaison détaillée de la plupart des modèles et algorithmes de prévision du seuil de revenu en fonction des différentes variables met en évidence des résultats un peu meilleurs obtenus par l'algorithme de *gradient boosting*. Néanmoins, on peut se limiter ici à un modèle de régression logisitique très compétitif et interprétable. Un arbe de décision seul donne également une précision similaire mais beaucoup trop complexe (profondeur) pour être interprétable. \n",
    "\n",
    "### 3.1 Echantillons\n",
    "Les données sont préalablement séparées en deux échantillons apprentissage et test."
   ]
  },
  {
   "cell_type": "code",
   "execution_count": 15,
   "metadata": {},
   "outputs": [],
   "source": [
    "set.seed(111) # initialisation du générateur\n",
    "# Extraction des échantillons\n",
    "test.ratio=.2   # part de l'échantillon test\n",
    "npop=nrow(datBas) # nombre de lignes dans les données\n",
    "nvar=ncol(datBas) # nombre de colonnes\n",
    "# taille de l'échantillon test\n",
    "ntest=ceiling(npop*test.ratio) \n",
    "# indices de l'échantillon test\n",
    "testi=sample(1:npop,ntest)\n",
    "# indices de l'échantillon d'apprentissage\n",
    "appri=setdiff(1:npop,testi) "
   ]
  },
  {
   "cell_type": "code",
   "execution_count": 16,
   "metadata": {},
   "outputs": [],
   "source": [
    "# construction de l'échantillon d'apprentissage\n",
    "datApp=datBas[appri,]\n",
    "# construction de l'échantillon test \n",
    "daTest=datBas[testi,]"
   ]
  },
  {
   "cell_type": "markdown",
   "metadata": {},
   "source": [
    "### 3.2 Prévision par régression logistique\n",
    "Comme la plupart des coefficients sont significatifs au sens d'un test de Fisher et par souci de simplicité, il n'est pas fait de sélection de modèle ni non plus tenté un modèle avec des interactions. "
   ]
  },
  {
   "cell_type": "code",
   "execution_count": 17,
   "metadata": {},
   "outputs": [
    {
     "data": {
      "text/html": [
       "<table>\n",
       "<thead><tr><th></th><th scope=col>Df</th><th scope=col>Deviance</th><th scope=col>Resid. Df</th><th scope=col>Resid. Dev</th><th scope=col>Pr(&gt;Chi)</th></tr></thead>\n",
       "<tbody>\n",
       "\t<tr><th scope=row>NULL</th><td>NA           </td><td>        NA   </td><td>23859        </td><td>26987.35     </td><td>           NA</td></tr>\n",
       "\t<tr><th scope=row>age</th><td> 1           </td><td>1323.40204   </td><td>23858        </td><td>25663.94     </td><td>9.282513e-290</td></tr>\n",
       "\t<tr><th scope=row>workClass</th><td> 4           </td><td> 143.06839   </td><td>23854        </td><td>25520.88     </td><td> 6.217805e-30</td></tr>\n",
       "\t<tr><th scope=row>education</th><td> 7           </td><td>2816.95193   </td><td>23847        </td><td>22703.92     </td><td> 0.000000e+00</td></tr>\n",
       "\t<tr><th scope=row>educNum</th><td> 1           </td><td>  25.85281   </td><td>23846        </td><td>22678.07     </td><td> 3.684672e-07</td></tr>\n",
       "\t<tr><th scope=row>mariStat</th><td> 3           </td><td>4102.51916   </td><td>23843        </td><td>18575.55     </td><td> 0.000000e+00</td></tr>\n",
       "\t<tr><th scope=row>occup</th><td> 6           </td><td> 559.42350   </td><td>23837        </td><td>18016.13     </td><td>1.312883e-117</td></tr>\n",
       "\t<tr><th scope=row>origEthn</th><td> 1           </td><td>  14.79769   </td><td>23836        </td><td>18001.33     </td><td> 1.196820e-04</td></tr>\n",
       "\t<tr><th scope=row>sex</th><td> 1           </td><td>  40.87427   </td><td>23835        </td><td>17960.46     </td><td> 1.623445e-10</td></tr>\n",
       "\t<tr><th scope=row>capitalGain</th><td> 2           </td><td>1478.23645   </td><td>23833        </td><td>16482.22     </td><td>1.012835e-321</td></tr>\n",
       "\t<tr><th scope=row>capitalLoss</th><td> 2           </td><td> 230.28240   </td><td>23831        </td><td>16251.94     </td><td> 9.881235e-51</td></tr>\n",
       "\t<tr><th scope=row>hoursWeek</th><td> 1           </td><td> 225.47240   </td><td>23830        </td><td>16026.47     </td><td> 5.791333e-51</td></tr>\n",
       "\t<tr><th scope=row>LcapitalGain</th><td> 1           </td><td> 254.69516   </td><td>23829        </td><td>15771.77     </td><td> 2.459741e-57</td></tr>\n",
       "\t<tr><th scope=row>LcapitalLoss</th><td> 1           </td><td>  29.99125   </td><td>23828        </td><td>15741.78     </td><td> 4.340007e-08</td></tr>\n",
       "\t<tr><th scope=row>ageQ</th><td> 4           </td><td> 313.60223   </td><td>23824        </td><td>15428.18     </td><td> 1.259654e-66</td></tr>\n",
       "\t<tr><th scope=row>hoursWeekQ</th><td> 2           </td><td>  73.29002   </td><td>23822        </td><td>15354.89     </td><td> 1.216956e-16</td></tr>\n",
       "\t<tr><th scope=row>Child</th><td> 1           </td><td>  30.18950   </td><td>23821        </td><td>15324.70     </td><td> 3.918245e-08</td></tr>\n",
       "</tbody>\n",
       "</table>\n"
      ],
      "text/latex": [
       "\\begin{tabular}{r|lllll}\n",
       "  & Df & Deviance & Resid. Df & Resid. Dev & Pr(>Chi)\\\\\n",
       "\\hline\n",
       "\tNULL & NA            &         NA    & 23859         & 26987.35      &            NA\\\\\n",
       "\tage &  1            & 1323.40204    & 23858         & 25663.94      & 9.282513e-290\\\\\n",
       "\tworkClass &  4            &  143.06839    & 23854         & 25520.88      &  6.217805e-30\\\\\n",
       "\teducation &  7            & 2816.95193    & 23847         & 22703.92      &  0.000000e+00\\\\\n",
       "\teducNum &  1            &   25.85281    & 23846         & 22678.07      &  3.684672e-07\\\\\n",
       "\tmariStat &  3            & 4102.51916    & 23843         & 18575.55      &  0.000000e+00\\\\\n",
       "\toccup &  6            &  559.42350    & 23837         & 18016.13      & 1.312883e-117\\\\\n",
       "\torigEthn &  1            &   14.79769    & 23836         & 18001.33      &  1.196820e-04\\\\\n",
       "\tsex &  1            &   40.87427    & 23835         & 17960.46      &  1.623445e-10\\\\\n",
       "\tcapitalGain &  2            & 1478.23645    & 23833         & 16482.22      & 1.012835e-321\\\\\n",
       "\tcapitalLoss &  2            &  230.28240    & 23831         & 16251.94      &  9.881235e-51\\\\\n",
       "\thoursWeek &  1            &  225.47240    & 23830         & 16026.47      &  5.791333e-51\\\\\n",
       "\tLcapitalGain &  1            &  254.69516    & 23829         & 15771.77      &  2.459741e-57\\\\\n",
       "\tLcapitalLoss &  1            &   29.99125    & 23828         & 15741.78      &  4.340007e-08\\\\\n",
       "\tageQ &  4            &  313.60223    & 23824         & 15428.18      &  1.259654e-66\\\\\n",
       "\thoursWeekQ &  2            &   73.29002    & 23822         & 15354.89      &  1.216956e-16\\\\\n",
       "\tChild &  1            &   30.18950    & 23821         & 15324.70      &  3.918245e-08\\\\\n",
       "\\end{tabular}\n"
      ],
      "text/markdown": [
       "\n",
       "| <!--/--> | Df | Deviance | Resid. Df | Resid. Dev | Pr(>Chi) | \n",
       "|---|---|---|---|---|---|---|---|---|---|---|---|---|---|---|---|---|\n",
       "| NULL | NA            |         NA    | 23859         | 26987.35      |            NA | \n",
       "| age |  1            | 1323.40204    | 23858         | 25663.94      | 9.282513e-290 | \n",
       "| workClass |  4            |  143.06839    | 23854         | 25520.88      |  6.217805e-30 | \n",
       "| education |  7            | 2816.95193    | 23847         | 22703.92      |  0.000000e+00 | \n",
       "| educNum |  1            |   25.85281    | 23846         | 22678.07      |  3.684672e-07 | \n",
       "| mariStat |  3            | 4102.51916    | 23843         | 18575.55      |  0.000000e+00 | \n",
       "| occup |  6            |  559.42350    | 23837         | 18016.13      | 1.312883e-117 | \n",
       "| origEthn |  1            |   14.79769    | 23836         | 18001.33      |  1.196820e-04 | \n",
       "| sex |  1            |   40.87427    | 23835         | 17960.46      |  1.623445e-10 | \n",
       "| capitalGain |  2            | 1478.23645    | 23833         | 16482.22      | 1.012835e-321 | \n",
       "| capitalLoss |  2            |  230.28240    | 23831         | 16251.94      |  9.881235e-51 | \n",
       "| hoursWeek |  1            |  225.47240    | 23830         | 16026.47      |  5.791333e-51 | \n",
       "| LcapitalGain |  1            |  254.69516    | 23829         | 15771.77      |  2.459741e-57 | \n",
       "| LcapitalLoss |  1            |   29.99125    | 23828         | 15741.78      |  4.340007e-08 | \n",
       "| ageQ |  4            |  313.60223    | 23824         | 15428.18      |  1.259654e-66 | \n",
       "| hoursWeekQ |  2            |   73.29002    | 23822         | 15354.89      |  1.216956e-16 | \n",
       "| Child |  1            |   30.18950    | 23821         | 15324.70      |  3.918245e-08 | \n",
       "\n",
       "\n"
      ],
      "text/plain": [
       "             Df Deviance   Resid. Df Resid. Dev Pr(>Chi)     \n",
       "NULL         NA         NA 23859     26987.35              NA\n",
       "age           1 1323.40204 23858     25663.94   9.282513e-290\n",
       "workClass     4  143.06839 23854     25520.88    6.217805e-30\n",
       "education     7 2816.95193 23847     22703.92    0.000000e+00\n",
       "educNum       1   25.85281 23846     22678.07    3.684672e-07\n",
       "mariStat      3 4102.51916 23843     18575.55    0.000000e+00\n",
       "occup         6  559.42350 23837     18016.13   1.312883e-117\n",
       "origEthn      1   14.79769 23836     18001.33    1.196820e-04\n",
       "sex           1   40.87427 23835     17960.46    1.623445e-10\n",
       "capitalGain   2 1478.23645 23833     16482.22   1.012835e-321\n",
       "capitalLoss   2  230.28240 23831     16251.94    9.881235e-51\n",
       "hoursWeek     1  225.47240 23830     16026.47    5.791333e-51\n",
       "LcapitalGain  1  254.69516 23829     15771.77    2.459741e-57\n",
       "LcapitalLoss  1   29.99125 23828     15741.78    4.340007e-08\n",
       "ageQ          4  313.60223 23824     15428.18    1.259654e-66\n",
       "hoursWeekQ    2   73.29002 23822     15354.89    1.216956e-16\n",
       "Child         1   30.18950 23821     15324.70    3.918245e-08"
      ]
     },
     "metadata": {},
     "output_type": "display_data"
    }
   ],
   "source": [
    "# estimation du modèle complet\n",
    "log.lm=glm(income~.,data=datApp,family=binomial)\n",
    "# significativité des paramètres\n",
    "anova(log.lm,test=\"Chisq\")"
   ]
  },
  {
   "cell_type": "code",
   "execution_count": 18,
   "metadata": {},
   "outputs": [
    {
     "data": {
      "text/plain": [
       "       \n",
       "        incHigh incLow\n",
       "  FALSE     551   4159\n",
       "  TRUE      921    334"
      ]
     },
     "metadata": {},
     "output_type": "display_data"
    }
   ],
   "source": [
    "# Prévision\n",
    "pred.log=predict(log.lm,newdata=daTest,type=\"response\")\n",
    "# Matrice de confusion pour la prévision du \n",
    "# dépassement de seuil\n",
    "confMat=table(pred.log<0.5,daTest$income)\n",
    "confMat"
   ]
  },
  {
   "cell_type": "code",
   "execution_count": 19,
   "metadata": {},
   "outputs": [
    {
     "data": {
      "text/html": [
       "0.148365465213747"
      ],
      "text/latex": [
       "0.148365465213747"
      ],
      "text/markdown": [
       "0.148365465213747"
      ],
      "text/plain": [
       "[1] 0.1483655"
      ]
     },
     "metadata": {},
     "output_type": "display_data"
    }
   ],
   "source": [
    "(confMat[1,1]+confMat[2,2])/sum(confMat)"
   ]
  },
  {
   "cell_type": "markdown",
   "metadata": {},
   "source": [
    "Les résultats sont très similaires à ceux obtenus par d'autres algorithmes comme les forêts aléatoires."
   ]
  },
  {
   "cell_type": "markdown",
   "metadata": {},
   "source": [
    "### 3.3 Modèle de régression sans la variable genre"
   ]
  },
  {
   "cell_type": "code",
   "execution_count": 20,
   "metadata": {},
   "outputs": [
    {
     "data": {
      "text/html": [
       "<table>\n",
       "<thead><tr><th></th><th scope=col>Df</th><th scope=col>Deviance</th><th scope=col>Resid. Df</th><th scope=col>Resid. Dev</th><th scope=col>Pr(&gt;Chi)</th></tr></thead>\n",
       "<tbody>\n",
       "\t<tr><th scope=row>NULL</th><td>NA           </td><td>        NA   </td><td>23859        </td><td>26987.35     </td><td>           NA</td></tr>\n",
       "\t<tr><th scope=row>age</th><td> 1           </td><td>1323.40204   </td><td>23858        </td><td>25663.94     </td><td>9.282513e-290</td></tr>\n",
       "\t<tr><th scope=row>workClass</th><td> 4           </td><td> 143.06839   </td><td>23854        </td><td>25520.88     </td><td> 6.217805e-30</td></tr>\n",
       "\t<tr><th scope=row>education</th><td> 7           </td><td>2816.95193   </td><td>23847        </td><td>22703.92     </td><td> 0.000000e+00</td></tr>\n",
       "\t<tr><th scope=row>educNum</th><td> 1           </td><td>  25.85281   </td><td>23846        </td><td>22678.07     </td><td> 3.684672e-07</td></tr>\n",
       "\t<tr><th scope=row>mariStat</th><td> 3           </td><td>4102.51916   </td><td>23843        </td><td>18575.55     </td><td> 0.000000e+00</td></tr>\n",
       "\t<tr><th scope=row>occup</th><td> 6           </td><td> 559.42350   </td><td>23837        </td><td>18016.13     </td><td>1.312883e-117</td></tr>\n",
       "\t<tr><th scope=row>origEthn</th><td> 1           </td><td>  14.79769   </td><td>23836        </td><td>18001.33     </td><td> 1.196820e-04</td></tr>\n",
       "\t<tr><th scope=row>capitalGain</th><td> 2           </td><td>1489.47218   </td><td>23834        </td><td>16511.86     </td><td>4.940656e-324</td></tr>\n",
       "\t<tr><th scope=row>capitalLoss</th><td> 2           </td><td> 232.37219   </td><td>23832        </td><td>16279.49     </td><td> 3.475519e-51</td></tr>\n",
       "\t<tr><th scope=row>hoursWeek</th><td> 1           </td><td> 242.57890   </td><td>23831        </td><td>16036.91     </td><td> 1.077463e-54</td></tr>\n",
       "\t<tr><th scope=row>LcapitalGain</th><td> 1           </td><td> 254.52219   </td><td>23830        </td><td>15782.39     </td><td> 2.682848e-57</td></tr>\n",
       "\t<tr><th scope=row>LcapitalLoss</th><td> 1           </td><td>  30.32142   </td><td>23829        </td><td>15752.06     </td><td> 3.660611e-08</td></tr>\n",
       "\t<tr><th scope=row>ageQ</th><td> 4           </td><td> 312.53485   </td><td>23825        </td><td>15439.53     </td><td> 2.140711e-66</td></tr>\n",
       "\t<tr><th scope=row>hoursWeekQ</th><td> 2           </td><td>  78.83186   </td><td>23823        </td><td>15360.70     </td><td> 7.618669e-18</td></tr>\n",
       "\t<tr><th scope=row>Child</th><td> 1           </td><td>  29.72461   </td><td>23822        </td><td>15330.97     </td><td> 4.979853e-08</td></tr>\n",
       "</tbody>\n",
       "</table>\n"
      ],
      "text/latex": [
       "\\begin{tabular}{r|lllll}\n",
       "  & Df & Deviance & Resid. Df & Resid. Dev & Pr(>Chi)\\\\\n",
       "\\hline\n",
       "\tNULL & NA            &         NA    & 23859         & 26987.35      &            NA\\\\\n",
       "\tage &  1            & 1323.40204    & 23858         & 25663.94      & 9.282513e-290\\\\\n",
       "\tworkClass &  4            &  143.06839    & 23854         & 25520.88      &  6.217805e-30\\\\\n",
       "\teducation &  7            & 2816.95193    & 23847         & 22703.92      &  0.000000e+00\\\\\n",
       "\teducNum &  1            &   25.85281    & 23846         & 22678.07      &  3.684672e-07\\\\\n",
       "\tmariStat &  3            & 4102.51916    & 23843         & 18575.55      &  0.000000e+00\\\\\n",
       "\toccup &  6            &  559.42350    & 23837         & 18016.13      & 1.312883e-117\\\\\n",
       "\torigEthn &  1            &   14.79769    & 23836         & 18001.33      &  1.196820e-04\\\\\n",
       "\tcapitalGain &  2            & 1489.47218    & 23834         & 16511.86      & 4.940656e-324\\\\\n",
       "\tcapitalLoss &  2            &  232.37219    & 23832         & 16279.49      &  3.475519e-51\\\\\n",
       "\thoursWeek &  1            &  242.57890    & 23831         & 16036.91      &  1.077463e-54\\\\\n",
       "\tLcapitalGain &  1            &  254.52219    & 23830         & 15782.39      &  2.682848e-57\\\\\n",
       "\tLcapitalLoss &  1            &   30.32142    & 23829         & 15752.06      &  3.660611e-08\\\\\n",
       "\tageQ &  4            &  312.53485    & 23825         & 15439.53      &  2.140711e-66\\\\\n",
       "\thoursWeekQ &  2            &   78.83186    & 23823         & 15360.70      &  7.618669e-18\\\\\n",
       "\tChild &  1            &   29.72461    & 23822         & 15330.97      &  4.979853e-08\\\\\n",
       "\\end{tabular}\n"
      ],
      "text/markdown": [
       "\n",
       "| <!--/--> | Df | Deviance | Resid. Df | Resid. Dev | Pr(>Chi) | \n",
       "|---|---|---|---|---|---|---|---|---|---|---|---|---|---|---|---|\n",
       "| NULL | NA            |         NA    | 23859         | 26987.35      |            NA | \n",
       "| age |  1            | 1323.40204    | 23858         | 25663.94      | 9.282513e-290 | \n",
       "| workClass |  4            |  143.06839    | 23854         | 25520.88      |  6.217805e-30 | \n",
       "| education |  7            | 2816.95193    | 23847         | 22703.92      |  0.000000e+00 | \n",
       "| educNum |  1            |   25.85281    | 23846         | 22678.07      |  3.684672e-07 | \n",
       "| mariStat |  3            | 4102.51916    | 23843         | 18575.55      |  0.000000e+00 | \n",
       "| occup |  6            |  559.42350    | 23837         | 18016.13      | 1.312883e-117 | \n",
       "| origEthn |  1            |   14.79769    | 23836         | 18001.33      |  1.196820e-04 | \n",
       "| capitalGain |  2            | 1489.47218    | 23834         | 16511.86      | 4.940656e-324 | \n",
       "| capitalLoss |  2            |  232.37219    | 23832         | 16279.49      |  3.475519e-51 | \n",
       "| hoursWeek |  1            |  242.57890    | 23831         | 16036.91      |  1.077463e-54 | \n",
       "| LcapitalGain |  1            |  254.52219    | 23830         | 15782.39      |  2.682848e-57 | \n",
       "| LcapitalLoss |  1            |   30.32142    | 23829         | 15752.06      |  3.660611e-08 | \n",
       "| ageQ |  4            |  312.53485    | 23825         | 15439.53      |  2.140711e-66 | \n",
       "| hoursWeekQ |  2            |   78.83186    | 23823         | 15360.70      |  7.618669e-18 | \n",
       "| Child |  1            |   29.72461    | 23822         | 15330.97      |  4.979853e-08 | \n",
       "\n",
       "\n"
      ],
      "text/plain": [
       "             Df Deviance   Resid. Df Resid. Dev Pr(>Chi)     \n",
       "NULL         NA         NA 23859     26987.35              NA\n",
       "age           1 1323.40204 23858     25663.94   9.282513e-290\n",
       "workClass     4  143.06839 23854     25520.88    6.217805e-30\n",
       "education     7 2816.95193 23847     22703.92    0.000000e+00\n",
       "educNum       1   25.85281 23846     22678.07    3.684672e-07\n",
       "mariStat      3 4102.51916 23843     18575.55    0.000000e+00\n",
       "occup         6  559.42350 23837     18016.13   1.312883e-117\n",
       "origEthn      1   14.79769 23836     18001.33    1.196820e-04\n",
       "capitalGain   2 1489.47218 23834     16511.86   4.940656e-324\n",
       "capitalLoss   2  232.37219 23832     16279.49    3.475519e-51\n",
       "hoursWeek     1  242.57890 23831     16036.91    1.077463e-54\n",
       "LcapitalGain  1  254.52219 23830     15782.39    2.682848e-57\n",
       "LcapitalLoss  1   30.32142 23829     15752.06    3.660611e-08\n",
       "ageQ          4  312.53485 23825     15439.53    2.140711e-66\n",
       "hoursWeekQ    2   78.83186 23823     15360.70    7.618669e-18\n",
       "Child         1   29.72461 23822     15330.97    4.979853e-08"
      ]
     },
     "metadata": {},
     "output_type": "display_data"
    }
   ],
   "source": [
    "# estimation du modèle complet\n",
    "log_g.lm=glm(income~.,data=datApp[,-8],family=binomial)\n",
    "# significativité des paramètres\n",
    "anova(log_g.lm,test=\"Chisq\")"
   ]
  },
  {
   "cell_type": "code",
   "execution_count": 21,
   "metadata": {},
   "outputs": [
    {
     "data": {
      "text/plain": [
       "       \n",
       "        incHigh incLow\n",
       "  FALSE     551   4163\n",
       "  TRUE      921    330"
      ]
     },
     "metadata": {},
     "output_type": "display_data"
    }
   ],
   "source": [
    "# Prévision\n",
    "pred_g.log=predict(log_g.lm,newdata=daTest[,-8],type=\"response\")\n",
    "# Matrice de confusion pour la prévision du \n",
    "# dépassement de seuil\n",
    "confMat=table(pred_g.log<0.5,daTest$income)\n",
    "confMat"
   ]
  },
  {
   "cell_type": "code",
   "execution_count": 22,
   "metadata": {},
   "outputs": [
    {
     "data": {
      "text/html": [
       "0.147694886839899"
      ],
      "text/latex": [
       "0.147694886839899"
      ],
      "text/markdown": [
       "0.147694886839899"
      ],
      "text/plain": [
       "[1] 0.1476949"
      ]
     },
     "metadata": {},
     "output_type": "display_data"
    }
   ],
   "source": [
    "(confMat[1,1]+confMat[2,2])/sum(confMat)"
   ]
  },
  {
   "cell_type": "markdown",
   "metadata": {},
   "source": [
    "La qualité de prévision est sensiblement la même.\n",
    "### 3.4 Régression logistique sans l'origine"
   ]
  },
  {
   "cell_type": "code",
   "execution_count": 23,
   "metadata": {},
   "outputs": [
    {
     "data": {
      "text/plain": [
       "       \n",
       "        incHigh incLow\n",
       "  FALSE     553   4161\n",
       "  TRUE      919    332"
      ]
     },
     "metadata": {},
     "output_type": "display_data"
    },
    {
     "data": {
      "text/html": [
       "0.148365465213747"
      ],
      "text/latex": [
       "0.148365465213747"
      ],
      "text/markdown": [
       "0.148365465213747"
      ],
      "text/plain": [
       "[1] 0.1483655"
      ]
     },
     "metadata": {},
     "output_type": "display_data"
    }
   ],
   "source": [
    "# estimation du modèle complet\n",
    "log_o.lm=glm(income~.,data=datApp[,-7],family=binomial)\n",
    "# Prévision\n",
    "pred_o.log=predict(log_o.lm,newdata=daTest[,-7],type=\"response\")\n",
    "# Matrice de confusion pour la prévision du \n",
    "# dépassement de seuil\n",
    "confMat=table(pred_o.log<0.5,daTest$income)\n",
    "confMat; (confMat[1,1]+confMat[2,2])/sum(confMat)"
   ]
  },
  {
   "cell_type": "markdown",
   "metadata": {},
   "source": [
    "Même remarque."
   ]
  },
  {
   "cell_type": "code",
   "execution_count": 24,
   "metadata": {},
   "outputs": [
    {
     "data": {
      "text/html": [
       "0.851634534786253"
      ],
      "text/latex": [
       "0.851634534786253"
      ],
      "text/markdown": [
       "0.851634534786253"
      ],
      "text/plain": [
       "[1] 0.8516345"
      ]
     },
     "metadata": {},
     "output_type": "display_data"
    }
   ],
   "source": [
    "(confMat[1,2]+confMat[2,1])/sum(confMat)"
   ]
  },
  {
   "cell_type": "markdown",
   "metadata": {},
   "source": [
    "## 4 Estimation de l'effet disproportionné\n",
    "La notion d'effet dispropostionné est apparu aux USA en 1971 pour détecter des situations discriminatoires à l'embauche. Cette quantitaté est définie par le rapport:$\\frac{P(X=1|S=0)}{P(X=1|S=1)}$ de deux probabilités. La probabilité de bénéficier d'une situation ou décision favorable (revenu élevé) pour une personne du groupe protégé (femme, origine non caucasienne) sur la même probabilité pour une personne de l'autre groupe (homme, origine caucasienne).\n",
    "### 4.1 Fonction *disparate*\n",
    "Besse P. ,del Barrio E., Gordaliza P., Loubes J.-M. (2018-a). Confidence Intervals for testing Disparate Impact in Fair Learning, [arXiv](https://arxiv.org/abs/1807.06362).\n",
    "\n",
    "La  fonction ci-dessous a trois arguments pour estimer le disparate impact par intervalle de confiance.\n",
    "- une matrice $X$ de valeurs binaires $(0,1)$ dont la dernière colonne contient la décision ou cible à analyser;\n",
    "- l'indice $S$ de la variable de $X$ considérée comme sensible; \n",
    "- le risque de l'intervalle de confiance, par défaut 5%\n",
    "Elle renvoie un intervalle de confiance estimant la valeur $T_n$ du *disparate impact*."
   ]
  },
  {
   "cell_type": "code",
   "execution_count": 25,
   "metadata": {},
   "outputs": [
    {
     "data": {
      "text/html": [
       "<pre class=language-r><code>function (X, S, alpha = 0.05) \n",
       "{\n",
       "<span style=white-space:pre-wrap>    if (S &gt; ncol(X)) </span>\n",
       "<span style=white-space:pre-wrap>        stop(paste(\"L'argument S doit être compris entre 1 et \", </span>\n",
       "<span style=white-space:pre-wrap>            ncol(X) - 1))</span>\n",
       "<span style=white-space:pre-wrap>    n &lt;- nrow(X)</span>\n",
       "<span style=white-space:pre-wrap>    pi_1 &lt;- sum(X[, S])/n</span>\n",
       "<span style=white-space:pre-wrap>    pi_0 &lt;- 1 - pi_1</span>\n",
       "<span style=white-space:pre-wrap>    p_1 &lt;- sum(X[, S] * X[, ncol(X)])/n</span>\n",
       "<span style=white-space:pre-wrap>    p_0 &lt;- sum((1 - X[, S]) * X[, ncol(X)])/n</span>\n",
       "<span style=white-space:pre-wrap>    Tn &lt;- p_0 * pi_1/(p_1 * pi_0)</span>\n",
       "<span style=white-space:pre-wrap>    grad &lt;- grad_h(c(p_0, p_1, pi_0, pi_1))</span>\n",
       "<span style=white-space:pre-wrap>    Cov_4 &lt;- diag(rep(0, 4)) + cbind(c(0, -p_0 * p_1, pi_1 * </span>\n",
       "<span style=white-space:pre-wrap>        p_0, -pi_1 * p_0), c(0, 0, -pi_0 * p_1, pi_0 * p_1), </span>\n",
       "<span style=white-space:pre-wrap>        c(0, 0, 0, -pi_0 * pi_1), c(0, 0, 0, 0))</span>\n",
       "<span style=white-space:pre-wrap>    Cov_4 &lt;- Cov_4 + t(Cov_4) + diag(c(p_0 * (1 - p_0), p_1 * </span>\n",
       "<span style=white-space:pre-wrap>        (1 - p_1), pi_0 * pi_1, pi_0 * pi_1))</span>\n",
       "<span style=white-space:pre-wrap>    sigma &lt;- sqrt((grad %*% Cov_4) %*% t(t(grad)))</span>\n",
       "<span style=white-space:pre-wrap>    lower_lim &lt;- Tn - (sigma * qnorm(1 - alpha/2, mean = 0, sd = 1))/sqrt(n)</span>\n",
       "<span style=white-space:pre-wrap>    upper_lim &lt;- Tn + (sigma * qnorm(1 - alpha/2, mean = 0, sd = 1))/sqrt(n)</span>\n",
       "<span style=white-space:pre-wrap>    return(c(lower_lim, Tn, upper_lim))</span>\n",
       "}</code></pre>"
      ],
      "text/latex": [
       "\\begin{minted}{r}\n",
       "function (X, S, alpha = 0.05) \n",
       "\\{\n",
       "    if (S > ncol(X)) \n",
       "        stop(paste(\"L'argument S doit être compris entre 1 et \", \n",
       "            ncol(X) - 1))\n",
       "    n <- nrow(X)\n",
       "    pi\\_1 <- sum(X{[}, S{]})/n\n",
       "    pi\\_0 <- 1 - pi\\_1\n",
       "    p\\_1 <- sum(X{[}, S{]} * X{[}, ncol(X){]})/n\n",
       "    p\\_0 <- sum((1 - X{[}, S{]}) * X{[}, ncol(X){]})/n\n",
       "    Tn <- p\\_0 * pi\\_1/(p\\_1 * pi\\_0)\n",
       "    grad <- grad\\_h(c(p\\_0, p\\_1, pi\\_0, pi\\_1))\n",
       "    Cov\\_4 <- diag(rep(0, 4)) + cbind(c(0, -p\\_0 * p\\_1, pi\\_1 * \n",
       "        p\\_0, -pi\\_1 * p\\_0), c(0, 0, -pi\\_0 * p\\_1, pi\\_0 * p\\_1), \n",
       "        c(0, 0, 0, -pi\\_0 * pi\\_1), c(0, 0, 0, 0))\n",
       "    Cov\\_4 <- Cov\\_4 + t(Cov\\_4) + diag(c(p\\_0 * (1 - p\\_0), p\\_1 * \n",
       "        (1 - p\\_1), pi\\_0 * pi\\_1, pi\\_0 * pi\\_1))\n",
       "    sigma <- sqrt((grad \\%*\\% Cov\\_4) \\%*\\% t(t(grad)))\n",
       "    lower\\_lim <- Tn - (sigma * qnorm(1 - alpha/2, mean = 0, sd = 1))/sqrt(n)\n",
       "    upper\\_lim <- Tn + (sigma * qnorm(1 - alpha/2, mean = 0, sd = 1))/sqrt(n)\n",
       "    return(c(lower\\_lim, Tn, upper\\_lim))\n",
       "\\}\n",
       "\\end{minted}"
      ],
      "text/markdown": [
       "```r\n",
       "function (X, S, alpha = 0.05) \n",
       "{\n",
       "    if (S > ncol(X)) \n",
       "        stop(paste(\"L'argument S doit être compris entre 1 et \", \n",
       "            ncol(X) - 1))\n",
       "    n <- nrow(X)\n",
       "    pi_1 <- sum(X[, S])/n\n",
       "    pi_0 <- 1 - pi_1\n",
       "    p_1 <- sum(X[, S] * X[, ncol(X)])/n\n",
       "    p_0 <- sum((1 - X[, S]) * X[, ncol(X)])/n\n",
       "    Tn <- p_0 * pi_1/(p_1 * pi_0)\n",
       "    grad <- grad_h(c(p_0, p_1, pi_0, pi_1))\n",
       "    Cov_4 <- diag(rep(0, 4)) + cbind(c(0, -p_0 * p_1, pi_1 * \n",
       "        p_0, -pi_1 * p_0), c(0, 0, -pi_0 * p_1, pi_0 * p_1), \n",
       "        c(0, 0, 0, -pi_0 * pi_1), c(0, 0, 0, 0))\n",
       "    Cov_4 <- Cov_4 + t(Cov_4) + diag(c(p_0 * (1 - p_0), p_1 * \n",
       "        (1 - p_1), pi_0 * pi_1, pi_0 * pi_1))\n",
       "    sigma <- sqrt((grad %*% Cov_4) %*% t(t(grad)))\n",
       "    lower_lim <- Tn - (sigma * qnorm(1 - alpha/2, mean = 0, sd = 1))/sqrt(n)\n",
       "    upper_lim <- Tn + (sigma * qnorm(1 - alpha/2, mean = 0, sd = 1))/sqrt(n)\n",
       "    return(c(lower_lim, Tn, upper_lim))\n",
       "}\n",
       "```"
      ],
      "text/plain": [
       "function (X, S, alpha = 0.05) \n",
       "{\n",
       "    if (S > ncol(X)) \n",
       "        stop(paste(\"L'argument S doit être compris entre 1 et \", \n",
       "            ncol(X) - 1))\n",
       "    n <- nrow(X)\n",
       "    pi_1 <- sum(X[, S])/n\n",
       "    pi_0 <- 1 - pi_1\n",
       "    p_1 <- sum(X[, S] * X[, ncol(X)])/n\n",
       "    p_0 <- sum((1 - X[, S]) * X[, ncol(X)])/n\n",
       "    Tn <- p_0 * pi_1/(p_1 * pi_0)\n",
       "    grad <- grad_h(c(p_0, p_1, pi_0, pi_1))\n",
       "    Cov_4 <- diag(rep(0, 4)) + cbind(c(0, -p_0 * p_1, pi_1 * \n",
       "        p_0, -pi_1 * p_0), c(0, 0, -pi_0 * p_1, pi_0 * p_1), \n",
       "        c(0, 0, 0, -pi_0 * pi_1), c(0, 0, 0, 0))\n",
       "    Cov_4 <- Cov_4 + t(Cov_4) + diag(c(p_0 * (1 - p_0), p_1 * \n",
       "        (1 - p_1), pi_0 * pi_1, pi_0 * pi_1))\n",
       "    sigma <- sqrt((grad %*% Cov_4) %*% t(t(grad)))\n",
       "    lower_lim <- Tn - (sigma * qnorm(1 - alpha/2, mean = 0, sd = 1))/sqrt(n)\n",
       "    upper_lim <- Tn + (sigma * qnorm(1 - alpha/2, mean = 0, sd = 1))/sqrt(n)\n",
       "    return(c(lower_lim, Tn, upper_lim))\n",
       "}"
      ]
     },
     "metadata": {},
     "output_type": "display_data"
    }
   ],
   "source": [
    "source(\"disparate.R\")\n",
    "disparate"
   ]
  },
  {
   "cell_type": "markdown",
   "metadata": {},
   "source": [
    "### 4.2 *Disparate impact* de la base d'apprentissage\n",
    "Calculé sur les données initiales, le *disparate impact* met en évidence un biais social fort. Les variables sensibles sont le genre puis l'origine ethnique"
   ]
  },
  {
   "cell_type": "code",
   "execution_count": 30,
   "metadata": {},
   "outputs": [],
   "source": [
    "# Variable genre rendue entière: 0, 1\n",
    "s1= as.integer(datBas[,8])-1\n",
    "# variable origine ethnique rendue entière 0, 1\n",
    "s2= as.integer(datBas[,7])-1\n",
    "# Variable cible ou décision (seuil de revenu) également entière: 0, 1\n",
    "Y=as.numeric(datBas$income)\n",
    "Y[Y==2]=0\n",
    "coded_data=data.frame(s1,s2,Y)"
   ]
  },
  {
   "cell_type": "markdown",
   "metadata": {},
   "source": [
    "#### Ségrégation vis à vis du genre\n",
    "\n",
    "Le $DI$ est simplement estimé à partir de la table de contingence par le rapport:\n",
    "$\\frac{n_{21}}{(n_{11}+n_{21})}/\\frac{n_{22}}{(n_{12}+n_{22})}$ tandis que le risque de cette estimation est contrôlé par un intervalle de confiance à 95%."
   ]
  },
  {
   "cell_type": "code",
   "execution_count": 27,
   "metadata": {},
   "outputs": [
    {
     "data": {
      "text/html": [
       "<ol class=list-inline>\n",
       "\t<li>0.343080653572316</li>\n",
       "\t<li>0.364542871169596</li>\n",
       "\t<li>0.386005088766876</li>\n",
       "</ol>\n"
      ],
      "text/latex": [
       "\\begin{enumerate*}\n",
       "\\item 0.343080653572316\n",
       "\\item 0.364542871169596\n",
       "\\item 0.386005088766876\n",
       "\\end{enumerate*}\n"
      ],
      "text/markdown": [
       "1. 0.343080653572316\n",
       "2. 0.364542871169596\n",
       "3. 0.386005088766876\n",
       "\n",
       "\n"
      ],
      "text/plain": [
       "[1] 0.3430807 0.3645429 0.3860051"
      ]
     },
     "metadata": {},
     "output_type": "display_data"
    }
   ],
   "source": [
    "disparate(coded_data,1)"
   ]
  },
  {
   "cell_type": "markdown",
   "metadata": {},
   "source": [
    "#### Ségrégation vis à vis de l'origine: caucasienne *vs.* autre. "
   ]
  },
  {
   "cell_type": "code",
   "execution_count": 28,
   "metadata": {},
   "outputs": [
    {
     "data": {
      "text/html": [
       "<ol class=list-inline>\n",
       "\t<li>0.554789282508662</li>\n",
       "\t<li>0.598073628891786</li>\n",
       "\t<li>0.641357975274911</li>\n",
       "</ol>\n"
      ],
      "text/latex": [
       "\\begin{enumerate*}\n",
       "\\item 0.554789282508662\n",
       "\\item 0.598073628891786\n",
       "\\item 0.641357975274911\n",
       "\\end{enumerate*}\n"
      ],
      "text/markdown": [
       "1. 0.554789282508662\n",
       "2. 0.598073628891786\n",
       "3. 0.641357975274911\n",
       "\n",
       "\n"
      ],
      "text/plain": [
       "[1] 0.5547893 0.5980736 0.6413580"
      ]
     },
     "metadata": {},
     "output_type": "display_data"
    }
   ],
   "source": [
    "disparate(coded_data,2)"
   ]
  },
  {
   "cell_type": "markdown",
   "metadata": {},
   "source": [
    "Discrimination nettement plus importante selon le genre que selon l'origine ethnique."
   ]
  },
  {
   "cell_type": "markdown",
   "metadata": {},
   "source": [
    "### 4.3 *Disparate impact* des prévisions par régression logistique\n",
    "La valeur seuil de la probabilité de dépassement du seuil de revenu est fixée à 0.5."
   ]
  },
  {
   "cell_type": "code",
   "execution_count": 29,
   "metadata": {},
   "outputs": [],
   "source": [
    "Y=as.numeric(pred.log<0.5)\n",
    "Y[Y==2]=0\n",
    "coded_data=data.frame(s1[testi],s2[testi],Y)"
   ]
  },
  {
   "cell_type": "markdown",
   "metadata": {},
   "source": [
    "#### Avec régression logistique et par genre\n",
    "La prévision reproduit et même renforce statistiquement le biais social pour le genre."
   ]
  },
  {
   "cell_type": "code",
   "execution_count": 30,
   "metadata": {},
   "outputs": [
    {
     "data": {
      "text/html": [
       "<ol class=list-inline>\n",
       "\t<li>0.212363066750233</li>\n",
       "\t<li>0.255012942506107</li>\n",
       "\t<li>0.297662818261981</li>\n",
       "</ol>\n"
      ],
      "text/latex": [
       "\\begin{enumerate*}\n",
       "\\item 0.212363066750233\n",
       "\\item 0.255012942506107\n",
       "\\item 0.297662818261981\n",
       "\\end{enumerate*}\n"
      ],
      "text/markdown": [
       "1. 0.212363066750233\n",
       "2. 0.255012942506107\n",
       "3. 0.297662818261981\n",
       "\n",
       "\n"
      ],
      "text/plain": [
       "[1] 0.2123631 0.2550129 0.2976628"
      ]
     },
     "metadata": {},
     "output_type": "display_data"
    }
   ],
   "source": [
    "disparate(coded_data,1)"
   ]
  },
  {
   "cell_type": "markdown",
   "metadata": {},
   "source": [
    "#### Avec régression logistique et par origine\n",
    "Le renforcement du biais selon l'origine n'est pas statistiquement significatif."
   ]
  },
  {
   "cell_type": "code",
   "execution_count": 31,
   "metadata": {},
   "outputs": [
    {
     "data": {
      "text/html": [
       "<ol class=list-inline>\n",
       "\t<li>0.415646179253302</li>\n",
       "\t<li>0.511162947287418</li>\n",
       "\t<li>0.606679715321534</li>\n",
       "</ol>\n"
      ],
      "text/latex": [
       "\\begin{enumerate*}\n",
       "\\item 0.415646179253302\n",
       "\\item 0.511162947287418\n",
       "\\item 0.606679715321534\n",
       "\\end{enumerate*}\n"
      ],
      "text/markdown": [
       "1. 0.415646179253302\n",
       "2. 0.511162947287418\n",
       "3. 0.606679715321534\n",
       "\n",
       "\n"
      ],
      "text/plain": [
       "[1] 0.4156462 0.5111629 0.6066797"
      ]
     },
     "metadata": {},
     "output_type": "display_data"
    }
   ],
   "source": [
    "disparate(coded_data,2)"
   ]
  },
  {
   "cell_type": "markdown",
   "metadata": {},
   "source": [
    "### 4.4 *Disparate impact* des prévisions sans la variable sensible\n",
    "Le genre ou l'origine ethnique impacte le type d'activité et en conséquence le revenu. Aussi, supprimer la variable sensible du modèle ne suffit évidemment pas à réduire le biais discirminatoire.\n",
    "#### Avec la régression et par genre"
   ]
  },
  {
   "cell_type": "code",
   "execution_count": 32,
   "metadata": {},
   "outputs": [
    {
     "data": {
      "text/html": [
       "<ol class=list-inline>\n",
       "\t<li>0.226243551738708</li>\n",
       "\t<li>0.270431523948392</li>\n",
       "\t<li>0.314619496158075</li>\n",
       "</ol>\n"
      ],
      "text/latex": [
       "\\begin{enumerate*}\n",
       "\\item 0.226243551738708\n",
       "\\item 0.270431523948392\n",
       "\\item 0.314619496158075\n",
       "\\end{enumerate*}\n"
      ],
      "text/markdown": [
       "1. 0.226243551738708\n",
       "2. 0.270431523948392\n",
       "3. 0.314619496158075\n",
       "\n",
       "\n"
      ],
      "text/plain": [
       "[1] 0.2262436 0.2704315 0.3146195"
      ]
     },
     "metadata": {},
     "output_type": "display_data"
    }
   ],
   "source": [
    "Y=as.numeric(pred_g.log<0.5)\n",
    "Y[Y==2]=0\n",
    "coded_data=data.frame(s1[testi],s2[testi],Y)\n",
    "disparate(coded_data,1)"
   ]
  },
  {
   "cell_type": "markdown",
   "metadata": {},
   "source": [
    "#### Avec la régression et par origine"
   ]
  },
  {
   "cell_type": "code",
   "execution_count": 33,
   "metadata": {},
   "outputs": [
    {
     "data": {
      "text/html": [
       "<ol class=list-inline>\n",
       "\t<li>0.460804587214366</li>\n",
       "\t<li>0.561322296682</li>\n",
       "\t<li>0.661840006149633</li>\n",
       "</ol>\n"
      ],
      "text/latex": [
       "\\begin{enumerate*}\n",
       "\\item 0.460804587214366\n",
       "\\item 0.561322296682\n",
       "\\item 0.661840006149633\n",
       "\\end{enumerate*}\n"
      ],
      "text/markdown": [
       "1. 0.460804587214366\n",
       "2. 0.561322296682\n",
       "3. 0.661840006149633\n",
       "\n",
       "\n"
      ],
      "text/plain": [
       "[1] 0.4608046 0.5613223 0.6618400"
      ]
     },
     "metadata": {},
     "output_type": "display_data"
    }
   ],
   "source": [
    "Y=as.numeric(pred_o.log<0.5)\n",
    "Y[Y==2]=0\n",
    "coded_data=data.frame(s1[testi],s2[testi],Y)\n",
    "disparate(coded_data,2)"
   ]
  },
  {
   "cell_type": "markdown",
   "metadata": {},
   "source": [
    "La réduction du *disparate impact* obtenue en supprimant la variable sensible n'est pas statistiquement significative de même que les erreurs de prévisions restent stables. Le déterminisme social est plus fort que la présence de la variable sensible: *une femme ou une personne non caucasienne travaille moins ou de façon moins qualifiée quelque soit son niveau d'éducation*. "
   ]
  },
  {
   "cell_type": "markdown",
   "metadata": {},
   "source": [
    "### 4.5 Faux positifs et négatifs selon la variable sensible (cf. Propublica)\n",
    "Une autre source de discrimination, mise en évidence par le site [Propublica](https://www.propublica.org/article/machine-bias-risk-assessments-in-criminal-sentencing) à propos du score de récidive,  concerne une inversion du déséquilibre de la matrice de confusion selon la variable sensible; comparer les nombre de faux positifs ou faux négatifs selon le genre ou l'origine.\n",
    "#### Par genre"
   ]
  },
  {
   "cell_type": "code",
   "execution_count": 34,
   "metadata": {},
   "outputs": [
    {
     "data": {
      "text/plain": [
       ", ,  = Female\n",
       "\n",
       "       \n",
       "        incHigh incLow\n",
       "  FALSE     120   1708\n",
       "  TRUE      112     28\n",
       "\n",
       ", ,  = Male\n",
       "\n",
       "       \n",
       "        incHigh incLow\n",
       "  FALSE     431   2451\n",
       "  TRUE      809    306\n"
      ]
     },
     "metadata": {},
     "output_type": "display_data"
    }
   ],
   "source": [
    "table(pred.log<0.5,daTest$income,daTest$sex)"
   ]
  },
  {
   "cell_type": "markdown",
   "metadata": {},
   "source": [
    "Alors que, pour les hommes, le taux de faux positifs est assez similaire au taux de faux négatifs, pour les femmes, il est sensiblement plus fréquent de se tromper en prévoyant un revenu bas alors qu'il est élevé.\n",
    "#### Par origine"
   ]
  },
  {
   "cell_type": "code",
   "execution_count": 35,
   "metadata": {},
   "outputs": [
    {
     "data": {
      "text/plain": [
       ", ,  = CaucNo\n",
       "\n",
       "       \n",
       "        incHigh incLow\n",
       "  FALSE      83     31\n",
       "  TRUE       62    728\n",
       "\n",
       ", ,  = CaucYes\n",
       "\n",
       "       \n",
       "        incHigh incLow\n",
       "  FALSE     836    301\n",
       "  TRUE      491   3433\n"
      ]
     },
     "metadata": {},
     "output_type": "display_data"
    }
   ],
   "source": [
    "table(pred_o.log>0.5,daTest$income,daTest$origEthn)"
   ]
  },
  {
   "cell_type": "markdown",
   "metadata": {},
   "source": [
    "Pas facile à interpréter..."
   ]
  },
  {
   "cell_type": "markdown",
   "metadata": {},
   "source": [
    "## 5 Sensibilité au *testing* et correction\n",
    "### 5.1 Introduction\n",
    "\n",
    "#### [Historique](https://fr.wikipedia.org/wiki/Test_de_discrimination)\n",
    "depuis 1939 en France pour les boîtes de nuit.\n",
    "\n",
    "#### [Validité juridique](https://www.juritravail.com/discrimination-physique/embauche/ph-alternative-A-1.html) \n",
    "du *testing* accepté comme preuve de discrimiantion depuis 2016.\n",
    "\n",
    "#### Approches sociologiques \n",
    "Le test de discrimination ou *testing* automatique est pratiquée en France de façon systématique pour des études sociologiques par l'[Observatoire des discriminations](http://www.observatoiredesdiscriminations.fr/testing), le laboratoire TEPP: [L'Horty et al. (2017)](http://www.tepp.eu/doc/users/268/bib/banque-et-assurance_9025.pdf), ou pilotée par la [DARES](http://dares.travail-emploi.gouv.fr/dares-etudes-et-statistiques/etudes-et-syntheses/dares-analyses-dares-indicateurs-dares-resultats/testing) du ministère du travail en lien avec l'association [ISM Corum](http://www.ismcorum.org/).... Certains entreprises demandent d'ailleurs à ISM Corum de [tester leur mode de recrutement](http://www.ismcorum.org/le-testing-d-entreprise-%E2%80%93-temoignages-d-adecco-casino-lvmh-michael-page-M22-R22-A443.html). Il serait sans doute intéressant de disposer des données brutes sur l'enquête citée mais seules les [tableaux agrégés](http://dares.travail-emploi.gouv.fr/IMG/xls/donnees_a_telecharger-_dares_analyses_no076.xls) sont accessibles. \n",
    "\n",
    "*Remarques*: des groupes à contacter?\n",
    "- l'observatoire des discriminations propose un [audit qualité](http://www.observatoiredesdiscriminations.fr/diagnostics-qualite) des procédures de recrutement. \n",
    "- [Novethic](https://www.novethic.fr/lexique/detail/testing.html), filliale de la caisse des dépôts et consignation, donnent des formations pour des entreprises \"éthiques\".\n",
    "\n",
    "#### *Testing* et estimation du biais\n",
    "Dans un autre ordre d'idée, [Galhotra et al. (2017)](https://arxiv.org/abs/1709.03221) définissent le biais d'une décision en incluant une notion de causalité. Le logiciel afférent ([Themis](https://github.com/LASER-UMASS/Themis)) opère un *testing* de logiciels ou décisions automatiques dans le but d'évaluer les proportions d'individus virtuels discriminés permettant d'estimer ce critère de biais. Les individus virtuels sont générés par permutation aléatoire des valeurs prises pour les modalités des variables explicatives nécessairement qualitatives ou découpées en classe.\n",
    "\n",
    "#### *Testing* rudimentaire\n",
    "Analysons la robustesse des deux modèles à une opération de *testing* rudimentaire: un nouvel échantillon test est construit en *échangeant les deux modalités de la variables sensible*. La variable cible (seuil de revenu) est ensuite reprédite par le modèle initial donné. \n",
    "\n",
    "*Question*: Des prévisions sont elles modifiés et pour quels individus?\n",
    "\n",
    "Existe-t-il des personnes pour lesquelles le seul changement de genre ou d'origine a pour effet de changer la prévision du seuil de revenu `income`? \n",
    "\n",
    "C'est en effet parmi ces personnes de l'échantillon test que se trouvent celles discriminées par la décision apprise et donc susceptibles d'une action en justice lorsque la décision algorihtmique (*e.g.* accès au crédit, à l'assurance, à l'amploi...) impacte cette personne. Cette discrimination individuelle peut en effet peut en effet être mise en évidence contrairement à la discrimination vis à vis d'un groupe dont il n'existe pas de définition ou de caractérisation. \n",
    "\n",
    "Evidemment, comme pour l'estimation du *disparate impact*, il est nécessaire de disposer de la variable sensible (genre ou origine) pour pouvoir opérer du *testing*.\n",
    "\n",
    "\n",
    "### 5.2 Personnes discriminées selon leur genre\n",
    "\n",
    "Le comportement des deux prédicteurs est différent mais assez logiquement. Le prédicteur linéaire (logistique) est monotone vis à vis du changement de genre ou d'origine tandis que le modèle non linéaire (rf) produit des résultats assez erratiques.\n",
    "\n",
    "#### Modification de l'échantillon et prévisions."
   ]
  },
  {
   "cell_type": "code",
   "execution_count": 37,
   "metadata": {},
   "outputs": [],
   "source": [
    "daTest2=daTest\n",
    "daTest2$sex=as.factor(ifelse(daTest$sex==\"Male\",\"Female\",\"Male\"))\n",
    "# Prévision du \"nouvel\" échantillon test\n",
    "pred2.log=predict(log.lm,daTest2,type=\"response\")"
   ]
  },
  {
   "cell_type": "markdown",
   "metadata": {},
   "source": [
    "#### Dans le cas de la régression logistique\n",
    "La situation est tranchée."
   ]
  },
  {
   "cell_type": "code",
   "execution_count": 38,
   "metadata": {},
   "outputs": [
    {
     "data": {
      "text/plain": [
       "       \n",
       "        FALSE TRUE\n",
       "  FALSE  4700   10\n",
       "  TRUE     84 1171"
      ]
     },
     "metadata": {},
     "output_type": "display_data"
    }
   ],
   "source": [
    "table(pred.log<0.5,pred2.log<0.5)"
   ]
  },
  {
   "cell_type": "markdown",
   "metadata": {},
   "source": [
    "Même chose mais répartition par genre."
   ]
  },
  {
   "cell_type": "code",
   "execution_count": 39,
   "metadata": {},
   "outputs": [
    {
     "data": {
      "text/plain": [
       ", ,  = Female\n",
       "\n",
       "       \n",
       "        FALSE TRUE\n",
       "  FALSE  1818   10\n",
       "  TRUE      0  140\n",
       "\n",
       ", ,  = Male\n",
       "\n",
       "       \n",
       "        FALSE TRUE\n",
       "  FALSE  2882    0\n",
       "  TRUE     84 1031\n"
      ]
     },
     "metadata": {},
     "output_type": "display_data"
    }
   ],
   "source": [
    "table(pred.log<0.5,pred2.log<0.5,daTest$sex)"
   ]
  },
  {
   "cell_type": "markdown",
   "metadata": {},
   "source": [
    "**N.B.** Il n'y a cette fois plus que 94 personnes dont la prévision de revenu change lorsqu'elles changent de genre. Et le changement est dans le sens attendu.\n",
    "- 10 femmes qui passent d'une prévision de revenu faible à une prévision de revenu élevé\n",
    "- 84 hommes qui prennnent le chemin inverse (discrimination initiale positive) lorsqu'ils deviennent des femmes."
   ]
  },
  {
   "cell_type": "code",
   "execution_count": 40,
   "metadata": {},
   "outputs": [
    {
     "data": {
      "text/html": [
       "<dl class=dl-horizontal>\n",
       "\t<dt>15290</dt>\n",
       "\t\t<dd>1033</dd>\n",
       "\t<dt>4391</dt>\n",
       "\t\t<dd>1164</dd>\n",
       "\t<dt>14980</dt>\n",
       "\t\t<dd>1803</dd>\n",
       "\t<dt>19070</dt>\n",
       "\t\t<dd>1808</dd>\n",
       "\t<dt>17733</dt>\n",
       "\t\t<dd>1961</dd>\n",
       "\t<dt>27856</dt>\n",
       "\t\t<dd>2054</dd>\n",
       "\t<dt>2842</dt>\n",
       "\t\t<dd>2892</dd>\n",
       "\t<dt>32471</dt>\n",
       "\t\t<dd>3794</dd>\n",
       "\t<dt>27049</dt>\n",
       "\t\t<dd>5099</dd>\n",
       "\t<dt>15949</dt>\n",
       "\t\t<dd>5261</dd>\n",
       "</dl>\n"
      ],
      "text/latex": [
       "\\begin{description*}\n",
       "\\item[15290] 1033\n",
       "\\item[4391] 1164\n",
       "\\item[14980] 1803\n",
       "\\item[19070] 1808\n",
       "\\item[17733] 1961\n",
       "\\item[27856] 2054\n",
       "\\item[2842] 2892\n",
       "\\item[32471] 3794\n",
       "\\item[27049] 5099\n",
       "\\item[15949] 5261\n",
       "\\end{description*}\n"
      ],
      "text/markdown": [
       "15290\n",
       ":   10334391\n",
       ":   116414980\n",
       ":   180319070\n",
       ":   180817733\n",
       ":   196127856\n",
       ":   20542842\n",
       ":   289232471\n",
       ":   379427049\n",
       ":   509915949\n",
       ":   5261\n",
       "\n"
      ],
      "text/plain": [
       "15290  4391 14980 19070 17733 27856  2842 32471 27049 15949 \n",
       " 1033  1164  1803  1808  1961  2054  2892  3794  5099  5261 "
      ]
     },
     "metadata": {},
     "output_type": "display_data"
    }
   ],
   "source": [
    "which(pred.log>0.5&pred2.log<0.5&daTest$sex==\"Female\")  # 10 femmes dans ce cas"
   ]
  },
  {
   "cell_type": "code",
   "execution_count": 41,
   "metadata": {},
   "outputs": [
    {
     "data": {
      "text/html": [],
      "text/latex": [],
      "text/markdown": [],
      "text/plain": [
       "named integer(0)"
      ]
     },
     "metadata": {},
     "output_type": "display_data"
    }
   ],
   "source": [
    "which(pred.log>0.5&pred2.log<0.5&daTest$sex==\"Male\") # 0 homme dans ce cas"
   ]
  },
  {
   "cell_type": "markdown",
   "metadata": {},
   "source": [
    "### 5.3 Personnes discriminées selon leur origine\n",
    "Mêmes calculs vis-à-vis de la variable sensible origine.\n",
    "#### Modification de l'échantillon et prévisions"
   ]
  },
  {
   "cell_type": "code",
   "execution_count": 45,
   "metadata": {},
   "outputs": [],
   "source": [
    "daTest3=daTest\n",
    "daTest3$origEthn=as.factor(ifelse(daTest$origEthn==\"CaucYes\",\"CaucNo\",\"CaucYes\"))\n",
    "# Prévision du \"nouvel\" échantillon test\n",
    "pred3.log=predict(log.lm,newdata=daTest3,type=\"response\")"
   ]
  },
  {
   "cell_type": "markdown",
   "metadata": {},
   "source": [
    "#### Dans le cas de la régression logisitique\n",
    "Comme pour la discrimination selon le genre, la détection de personnes discriminées selon leur origine est nette. Les prévisions de seuil de revenu de 160 personnes sont affectées par le changement d'origine.\n",
    "- 12 sont discriminées par leur origine\n",
    "- 148 bénéficient d'une discrimination positive"
   ]
  },
  {
   "cell_type": "code",
   "execution_count": 46,
   "metadata": {},
   "outputs": [
    {
     "data": {
      "text/plain": [
       "       \n",
       "        FALSE TRUE\n",
       "  FALSE  4698   12\n",
       "  TRUE    148 1107"
      ]
     },
     "metadata": {},
     "output_type": "display_data"
    }
   ],
   "source": [
    "table(pred.log<0.5,pred3.log<0.5)"
   ]
  },
  {
   "cell_type": "code",
   "execution_count": 47,
   "metadata": {},
   "outputs": [
    {
     "data": {
      "text/plain": [
       ", ,  = CaucNo\n",
       "\n",
       "       \n",
       "        FALSE TRUE\n",
       "  FALSE   787   12\n",
       "  TRUE      0  105\n",
       "\n",
       ", ,  = CaucYes\n",
       "\n",
       "       \n",
       "        FALSE TRUE\n",
       "  FALSE  3911    0\n",
       "  TRUE    148 1002\n"
      ]
     },
     "metadata": {},
     "output_type": "display_data"
    }
   ],
   "source": [
    "table(pred.log<0.5,pred3.log<0.5,daTest$origEthn)"
   ]
  },
  {
   "cell_type": "markdown",
   "metadata": {},
   "source": []
  },
  {
   "cell_type": "code",
   "execution_count": 48,
   "metadata": {},
   "outputs": [
    {
     "data": {
      "text/plain": [
       ", ,  = Female,  = incHigh\n",
       "\n",
       "       \n",
       "        FALSE TRUE\n",
       "  FALSE   115    5\n",
       "  TRUE      0  112\n",
       "\n",
       ", ,  = Male,  = incHigh\n",
       "\n",
       "       \n",
       "        FALSE TRUE\n",
       "  FALSE   431    0\n",
       "  TRUE     43  766\n",
       "\n",
       ", ,  = Female,  = incLow\n",
       "\n",
       "       \n",
       "        FALSE TRUE\n",
       "  FALSE  1703    5\n",
       "  TRUE      0   28\n",
       "\n",
       ", ,  = Male,  = incLow\n",
       "\n",
       "       \n",
       "        FALSE TRUE\n",
       "  FALSE  2451    0\n",
       "  TRUE     41  265\n"
      ]
     },
     "metadata": {},
     "output_type": "display_data"
    }
   ],
   "source": [
    "table(pred.log<0.5,pred2.log<0.5,daTest$sex,daTest$income)"
   ]
  },
  {
   "cell_type": "markdown",
   "metadata": {},
   "source": [
    "Réponse: de façon homogène. M"
   ]
  },
  {
   "cell_type": "markdown",
   "metadata": {},
   "source": [
    "#### Variable sensible origine"
   ]
  },
  {
   "cell_type": "code",
   "execution_count": 50,
   "metadata": {},
   "outputs": [
    {
     "data": {
      "text/plain": [
       ", ,  = CaucNo,  = incHigh\n",
       "\n",
       "       \n",
       "        FALSE TRUE\n",
       "  FALSE    66    0\n",
       "  TRUE      3   76\n",
       "\n",
       ", ,  = CaucYes,  = incHigh\n",
       "\n",
       "       \n",
       "        FALSE TRUE\n",
       "  FALSE   480    5\n",
       "  TRUE     40  802\n",
       "\n",
       ", ,  = CaucNo,  = incLow\n",
       "\n",
       "       \n",
       "        FALSE TRUE\n",
       "  FALSE   732    1\n",
       "  TRUE      1   25\n",
       "\n",
       ", ,  = CaucYes,  = incLow\n",
       "\n",
       "       \n",
       "        FALSE TRUE\n",
       "  FALSE  3422    4\n",
       "  TRUE     40  268\n"
      ]
     },
     "metadata": {},
     "output_type": "display_data"
    }
   ],
   "source": [
    "table(pred.log<0.5,pred2.log<0.5,daTest$origEthn,daTest$income)"
   ]
  },
  {
   "cell_type": "markdown",
   "metadata": {},
   "source": [
    "#### *Local fair prediction error* \n",
    "Pour la régession logistique, fixer comme probablité prédite le minimium des deux probablités obtenues en échangeant les modalités de la variable sensible. De façon générale, quelques soit le prédicteur, choisir la situaiton plus favorable pour la personne, quelque soit le genre (resp. l'origine) observé. La discimination individuelle repérable par *testing* est neutralisée et l'influence sur le taux d'erreur quasi négligeable; n'induire éventuellement que de la *discrimination positive* pour le groupe sensible si cela améliore le taux d'erreur global.\n",
    "\n",
    "*Régression logistique et genre*"
   ]
  },
  {
   "cell_type": "code",
   "execution_count": 51,
   "metadata": {},
   "outputs": [
    {
     "data": {
      "text/plain": [
       "       \n",
       "        incHigh incLow\n",
       "  FALSE     546   4154\n",
       "  TRUE      926    339"
      ]
     },
     "metadata": {},
     "output_type": "display_data"
    },
    {
     "data": {
      "text/html": [
       "0.148365465213747"
      ],
      "text/latex": [
       "0.148365465213747"
      ],
      "text/markdown": [
       "0.148365465213747"
      ],
      "text/plain": [
       "[1] 0.1483655"
      ]
     },
     "metadata": {},
     "output_type": "display_data"
    }
   ],
   "source": [
    "predict.fairRegLog=ifelse(pred.log<pred2.log,pred.log,pred2.log)\n",
    "confMat=table(predict.fairRegLog<0.5,daTest$income)\n",
    "confMat;(confMat[1,1]+confMat[2,2])/sum(confMat)"
   ]
  },
  {
   "cell_type": "markdown",
   "metadata": {},
   "source": [
    "*Régression logistique et origine*"
   ]
  },
  {
   "cell_type": "code",
   "execution_count": 52,
   "metadata": {},
   "outputs": [
    {
     "data": {
      "text/plain": [
       "       \n",
       "        incHigh incLow\n",
       "  FALSE     545   4153\n",
       "  TRUE      927    340"
      ]
     },
     "metadata": {},
     "output_type": "display_data"
    },
    {
     "data": {
      "text/html": [
       "0.148365465213747"
      ],
      "text/latex": [
       "0.148365465213747"
      ],
      "text/markdown": [
       "0.148365465213747"
      ],
      "text/plain": [
       "[1] 0.1483655"
      ]
     },
     "metadata": {},
     "output_type": "display_data"
    }
   ],
   "source": [
    "predict.fairRegLog=ifelse(pred.log<pred3.log,pred.log,pred3.log)\n",
    "confMat=table(predict.fairRegLog<0.5,daTest$income)\n",
    "confMat;(confMat[1,1]+confMat[2,2])/sum(confMat)"
   ]
  },
  {
   "cell_type": "markdown",
   "metadata": {},
   "source": [
    "Pour la régresison logistique, la correction qui rend la décision localement loyale c'est-à-dire en supprimant tout discrimination individuelle n'a qu'un impact très marginal sur l'erreur de prévision. \n",
    "\n",
    "Qu'en est-il de la correction de l'effet disproportionné?"
   ]
  },
  {
   "cell_type": "markdown",
   "metadata": {},
   "source": [
    "## 6 Correction du biais par modification des seuils de décision\n",
    "L'idée consiste à simplement abaisser le seuil (0.5 par défaut) de décision de la régression logistique pour rendre celle-ci plus favorable au groupe sensible et donc d'introduire une forme de discrimination positive afin de corriger le biais.\n",
    "\n",
    "**Questions**:\n",
    "Quelle valeur apporter pour réduire significativement le biais afin que \n",
    "1. la régression logistique ne fasse que reproduire celui des données.\n",
    "2. la borne supérieur de l'IC du DI soit plus grande que 0/8\n",
    "\n",
    "Tracer deux courbes motrant l'évolution du DI (de son intervalle de confiance) et celle de l'erreur de prévision en fonction de la valeur de ce seuil."
   ]
  },
  {
   "cell_type": "markdown",
   "metadata": {},
   "source": [
    "## 7 Correction par transport optimal\n",
    "del Barrio E., Gamboa F., Gordaliza P., Loubes J.-M. (2018). Obtaining fairness using optimal transport theory, soumis, [arXiv](https://arxiv.org/abs/1711.00399)."
   ]
  }
 ],
 "metadata": {
  "kernelspec": {
   "display_name": "R",
   "language": "R",
   "name": "ir"
  },
  "language_info": {
   "codemirror_mode": "r",
   "file_extension": ".r",
   "mimetype": "text/x-r-source",
   "name": "R",
   "pygments_lexer": "r",
   "version": "3.5.1"
  }
 },
 "nbformat": 4,
 "nbformat_minor": 2
}
