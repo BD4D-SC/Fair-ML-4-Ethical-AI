{
 "cells": [
  {
   "cell_type": "markdown",
   "metadata": {},
   "source": [
    "<a href=\"https://aniti.univ-toulouse.fr/\" ><img src=\"https://www.actuia.com/wp-content/uploads/2019/07/logo_ANITI1-696x348.jpg\" style=\"float:left; max-width:210px; display: inline\" alt=\"ANITI\"/></a>  \n",
    "\n",
    "<a href=\"http://www.insa-toulouse.fr/\" ><img src=\"http://www.math.univ-toulouse.fr/~besse/Wikistat/Images/logo-insa.jpg\" style=\"float:right\" height=\"75\" alt=\"INSA\"/></a> "
   ]
  },
  {
   "cell_type": "markdown",
   "metadata": {},
   "source": [
    "\n",
    "\n",
    "# Détection de Biais et Discriminations en IA\n",
    "\n",
    "**Données `Adult Income`**\n",
    "\n",
    "**Résumé**\n",
    "Analyse de données extraites d'un recensement aux USA de 1994 et disponibles sur le [dépôt de l'UCI](http://archive.ics.uci.edu/ml/). Ces données permettent de mettre en relation le niveau de revenu (inférieur ou supérieur à 50k$) avec d'autres variables dont certaines sensibles car indiquant l'appartenance à un groupe en principe protégé par la loi: genre, origine ethnique. Différents indicateurs de biais donc de sources de discrimination vis à vis d'un groupe sont définis et illustrés sur ces données. Les principaux relativement consensuels dans la littérature sont l'effet disproportionné ou *disparate impact* (DI), le taux d'erreur conditionnel et des mesures associées à l'asymétrie des matrices de confusion conditionnellement au groupe. Les résultats montrent que les biais de société présents dans les données d'apprentissage sont fidèlement reproduits par l'apprentissage et même renforcés. C'est typiquement un cas de discrimination notamment avec une régression logistique linéaire, moins nettement avec des modèles non linéaires. La correction de cas individuels détectés par le *testing* est inefficace pour une correction au niveau du groupe. En revanche l'utilisation d'algorithmes non linéaires (arbre ou forêt aléatoire) spécifiques: un par classe femmes et hommes annule l'effet discriminatoire, ne réduit pas les écarts des taux d'erreur conditionnels mais rend semblables les taux de faux et vrais positifs."
   ]
  },
  {
   "cell_type": "markdown",
   "metadata": {},
   "source": [
    "## Introduction\n",
    "### Les données\n",
    "Des données publiques disponibles sur le site [UCI repository](http://archive.ics.uci.edu/ml/) sont extraites de la base de données issue du recensement réalisé aux Etats Unis en 1994. Les deux fichiers *train* et *test* on été réunis en un seul. Ces données son largement utilisées et font référence comme outil de *benchmark* pour comparer les performances de méthodes d’apprentissage. L’objectif est de prévoir, avec plus ou moins de biais, la variable binaire \"revenu annuel\" supérieur ou inférieur à 50k$. Cette prévision n'impacte pas la personne mais comme la démarche et le contexte sont tout à fait similaires à ce que pourrait faire une banque pour évaluer un risque de crédit, c'est exemple est très illustratif. Il est d'ailleurs systématiquement utilisé pour comparer les propriétés des algorithmes d'apprentissage équitables (*fair learning*) car contrairement à beaucoup d'autres jeux de données utlisés pour cette fin (*e.g. german credit bank*), la vraie valeur de la variable cible est connue ainsi que l'origine ethnique des personnes concernées.\n",
    "\n",
    "Dans les données initiales, 48.842 individus sont décrits par les 14 variables du tableau ci-dessous:\n",
    "\n",
    "\n",
    "|Num|Libellé|Ensemble de valeurs|\n",
    "|-|---------:|-------------------:|\n",
    "|1|`Age`|real|\n",
    "|2|`workClass`|Private, Self-emp-not-inc, Self-emp-inc, Federal-gov, Local-gov, State-gov, Without-pay, Never-worked|\n",
    "|3|`fnlwgt`|real|\n",
    "|4|`education`|Bachelors, Some-college, 11th, HS-grad, Prof-school, Assoc-acdm, Assoc-voc, 9th, 7th-8th, 12th, Masters, 1st-4th, 10th, Doctorate, 5th-6th, Preschool|\n",
    "|5|`educNum`|integer|\n",
    "|6|`mariStat`|Married-civ-spouse, Divorced, Never-married, Separated, Widowed, Married-spouse-absent, Married-AF-spouse|\n",
    "|7|`occup`|Tech-support, Craft-repair, Other-service, Sales, Exec-managerial, Prof-specialty, Handlers-cleaners, Machine-op-inspct, Adm-clerical, Farming-fishing, Transport-moving, Priv-house-serv, Protective-serv, Armed-Forces|\n",
    "|8|`relationship`|Wife, Own-child, Husband, Not-in-family, Other-relative, Unmarried\n",
    "|9|`origEthn`|White, Asian-Pac-Islander, Amer-Indian-Eskimo, Other, Black|\n",
    "|10|`sex`|Female, Male|\n",
    "|11|`capitalGain`|real| \n",
    "|12|`capitalLoss`|real|\n",
    "|13|`hoursWeek`|real|\n",
    "|14|`nativCountry`|United-States, Cambodia, England, Puerto-Rico, Canada, Germany, Outlying-US(Guam-USVI-etc), India, Japan, Greece, South, China, Cuba, Iran, Honduras, Philippines, Italy, Poland, Jamaica, Vietnam, Mexico, Portugal, Ireland, France, Dominican-Republic, Laos, Ecuador, Taiwan, Haiti, Columbia, Hungary, Guatemala, Nicaragua, Scotland, Thailand, Yugoslavia, El-Salvador, Trinadad&Tobago, Peru, Hong, Holand-Netherlands|\n",
    "|15|`income`|>50K, <=50K|\n"
   ]
  },
  {
   "cell_type": "markdown",
   "metadata": {},
   "source": [
    "### Préparation des données\n",
    "\n",
    "Le traitement commence par une préparation détaillée des données:\n",
    "- lecture et prise en charge des données en remarquant que la variable `fnlwgt` (Final sampling weight) a un [statut particulier](http://web.cs.wpi.edu/~cs4341/C00/Projects/fnlwgt) pas très clair; elle est éliminée;\n",
    "- exploration élémentaire et multidimensionnelle (AFCM) afin de représenter les sources des biais présents.\n",
    "\n",
    "Celle-ci conduit à nettoyer les données notamment en supprimant celles manquantes, des erreurs ou incohérences et à regrouper certaines modalités très dispersée, supprimer des variables redondantes. Cette phase est notoirement différente de la stratégie de Friedler et al. (2019) qui, par principe, analysent des données brutes.\n",
    "\n",
    "### Estimation des biais\n",
    "\n",
    "Parmi tous les critères de biais existant susceptibles de mettre en évidence une discrimination, trois ont été privilégiés: \n",
    "- l'effet disproportionné (*disparate impact*), \n",
    "- la comparaison des taux d'erreur conditionnels \n",
    "- une mesure d'asymétrie de la matrice de confusion conditionnelle: *Conditional procedure accuracy equality* ou *disparate mistreatment* ou *equalized odds* cf. Vermat et Rubin (2018).\n",
    "\n",
    "L'accent est mis sur l'estimation de l'effet disproportionné  vis-à-vis de deux variables sensibles: genre et origine ethnique. L'approximation de l'intervalle de confiance (*delta method*) est comparée avec une estimation Bootstrap conduisant aux mêmes résutlats. es estimations sont calculées sur les données initiales de la base (biais de société) puis sur les prévisions du seuil de revenu obtenues par différents modèles et algorithmes (risque de discrimination).\n",
    "\n",
    "Sont également évaluées (estimation ponctuelle) les précisions et les asymétries des rapports de cote conditionnelles aux modalités de la variable sensible. \n",
    "\n",
    "### Biais et discriminations\n",
    "\n",
    "Les algorithmes privilégiés sont la régression logistique, linéaire et quadratique (avec interactions), les arbres binaires de décision et les forêts aléatoires. Bien d'autres algorithmes pourraient être testés mais le fond reste le même: en matière de discrimination deux points semblent importants, voire à considérer en priorité: \n",
    "- le possible déséquilibre ou sous-représentation d'une classes de la variable sensible, \n",
    "- la capacité de l'algorithme à prendre en compte des interactions et donc des composantes non linéaires impliquant la variable sensible.\n",
    "\n",
    "Ces deux facteurs semblent avoir un impact déterminant sur le renforcement significatif des biais d'un algorithme et donc sur la discrimination,condamnable par la loi, envers un groupe. Ils sont clairement mis en évidence en comparant les effets discriminatoires de différents algorithmes \n",
    "- linéaires ou non linéaires (avec un certains niveau d'interactions), \n",
    "- en introduisant une pondération pour compenser le déséquilibre,\n",
    "- en considérant deux modèles, un par classe de la variable sensible.\n",
    "\n",
    "D'autres points sont également traités: \n",
    "- effet négligeable de la suppression de la variable sensible du modèle de prévision sur l'effet discriminatoire d'un algorithme,\n",
    "- détection d'une discrimination individuelle par *testing* et effet négligeable de sa correction sur la dicrimination de groupe;\n",
    "- correction élémentaire de biais par ajustement du seuil de la décision."
   ]
  },
  {
   "cell_type": "markdown",
   "metadata": {},
   "source": [
    "## Exploration des données\n",
    "### Lecture et premières transformations\n",
    "La lecture et la transformation des données brutes du dépôt de l'UCI sont obtenues directement en exécutant un code source en R. Consulter le code du programme pour comprendre les transformations qui ont été réalisées sur les données brutes. Cette étape peut être rendue plus efficace (programme plus concis et exécution plus rapide) en utilisant la librairie `dplyr` très adaptée à cet usage.\n",
    "\n",
    "Charger les données et le programme dans le répertoire courant en même temps que ce tutoriel ou changer de chemin pour y accéder directement. \n",
    "\n",
    "Certaines variables qualitatives sont recodées afin de regrouper des classes à trop faibles effectifs, les variables quantitatives, dont l'âge, sont découpées en classes afin d'en construire des versions qualitatives en vue d'une AFCM."
   ]
  },
  {
   "cell_type": "code",
   "execution_count": 1,
   "metadata": {
    "ExecuteTime": {
     "end_time": "2020-03-14T10:30:18.661755Z",
     "start_time": "2020-03-14T10:30:17.100Z"
    }
   },
   "outputs": [
    {
     "data": {
      "text/plain": [
       "      age                workClass         fnlwgt              education    \n",
       " Min.   :18.00   Federal-Govt : 1390   Min.   :  13492   HS-grad    :14766  \n",
       " 1st Qu.:28.00   Not-Working  :   21   1st Qu.: 117404   HS-Graduate: 9892  \n",
       " Median :37.00   Other-Govt   : 5023   Median : 178390   Bachelors  : 7569  \n",
       " Mean   :38.79   Private      :32856   Mean   : 189858   Dropout    : 5182  \n",
       " 3rd Qu.:47.00   Self-Employed: 5425   3rd Qu.: 237998   Associates : 3466  \n",
       " Max.   :90.00                         Max.   :1490400   Masters    : 2512  \n",
       "                                                         (Other)    : 1328  \n",
       "    educNum               mariStat              occup      \n",
       " Min.   : 1.00   Married      :21079   Admin       : 5501  \n",
       " 1st Qu.: 9.00   Never-Married:14100   Blue-Collar :14732  \n",
       " Median :10.00   Not-Married  : 8259   Other-occups: 2391  \n",
       " Mean   :10.16   Widowed      : 1277   Professional: 5992  \n",
       " 3rd Qu.:13.00                         Sales       : 5272  \n",
       " Max.   :16.00                         Service     : 4846  \n",
       "                                       White-Collar: 5981  \n",
       "         relationship          origEthn         sex        capitalGain   \n",
       " Husband       :18660   Amer-Indian:  428   Female:14450   None  :40939  \n",
       " Not-in-family :11678   Asian      : 1302   Male  :30265   cgLow : 2167  \n",
       " Other-relative: 1320   Black      : 4194                  cgHigh: 1609  \n",
       " Own-child     : 6184   Other      :  348                                \n",
       " Unmarried     : 4782   White      :38443                                \n",
       " Wife          : 2091                                                    \n",
       "                                                                         \n",
       " capitalLoss      hoursWeek                   nativCountry       income     \n",
       " None  :42587   Min.   : 1.00   United-States       :40807   incHigh:11204  \n",
       " clLow : 1071   1st Qu.:40.00   Latin-America       : 1537   incLow :33511  \n",
       " clHigh: 1057   Median :40.00   British-Commonwealth:  481                  \n",
       "                Mean   :41.17   SE-Asia             :  441                  \n",
       "                3rd Qu.:45.00   Euro_2              :  333                  \n",
       "                Max.   :99.00   Euro_1              :  330                  \n",
       "                                (Other)             :  786                  \n",
       "  LcapitalGain     LcapitalLoss     ageQ      hoursWeekQ \n",
       " Min.   : 0.000   Min.   :0.0000   Ag1:9034   HW1: 9638  \n",
       " 1st Qu.: 0.000   1st Qu.:0.0000   Ag2:8473   HW2:21367  \n",
       " Median : 0.000   Median :0.0000   Ag3:9714   HW3:13710  \n",
       " Mean   : 0.747   Mean   :0.3575   Ag4:9649              \n",
       " 3rd Qu.: 0.000   3rd Qu.:0.0000   Ag5:7845              \n",
       " Max.   :11.513   Max.   :8.3795                         \n",
       "                                                         "
      ]
     },
     "metadata": {},
     "output_type": "display_data"
    }
   ],
   "source": [
    "source(\"dataPrepAdultCensus.R\")\n",
    "summary(dataBase)"
   ]
  },
  {
   "cell_type": "markdown",
   "metadata": {},
   "source": [
    "### Description statistique élémentaire\n",
    "Mettre en évidence des difficultés présentes sur certaines variables ou couples de variables."
   ]
  },
  {
   "cell_type": "code",
   "execution_count": 2,
   "metadata": {
    "ExecuteTime": {
     "end_time": "2020-03-14T10:30:18.897772Z",
     "start_time": "2020-03-14T10:30:17.218Z"
    }
   },
   "outputs": [
    {
     "data": {
      "image/png": "[encoded data removed]",
      "text/plain": [
       "Plot with title “”"
      ]
     },
     "metadata": {},
     "output_type": "display_data"
    }
   ],
   "source": [
    "options(repr.plot.width=4, repr.plot.height=4)\n",
    "hist(dataBase[,\"LcapitalGain\"],probability=T, main=\"\",xlab=\"log(1+CapitalGain)\")\n",
    "boxplot(dataBase[,\"LcapitalGain\"], horizontal=TRUE,boxwex=.2,  outline=TRUE,  \n",
    "        frame=F, col = \"lightgrey\", add = TRUE,at=0.2)"
   ]
  },
  {
   "cell_type": "markdown",
   "metadata": {},
   "source": [
    "Nécessité de transformer certaines variables avant de contruire des modèles linéaires puis mise en évidence d'incohérences et de fortes redondances entre certaines variables."
   ]
  },
  {
   "cell_type": "code",
   "execution_count": 3,
   "metadata": {
    "ExecuteTime": {
     "end_time": "2020-03-14T10:30:18.921206Z",
     "start_time": "2020-03-14T10:30:17.336Z"
    }
   },
   "outputs": [
    {
     "data": {
      "text/plain": [
       "                \n",
       "                 Female  Male\n",
       "  Husband             1 18659\n",
       "  Not-in-family    5404  6274\n",
       "  Other-relative    599   721\n",
       "  Own-child        2707  3477\n",
       "  Unmarried        3649  1133\n",
       "  Wife             2090     1"
      ]
     },
     "metadata": {},
     "output_type": "display_data"
    }
   ],
   "source": [
    "table(dataBase$relationship,dataBase$sex)   "
   ]
  },
  {
   "cell_type": "code",
   "execution_count": 4,
   "metadata": {
    "ExecuteTime": {
     "end_time": "2020-03-14T10:30:18.944915Z",
     "start_time": "2020-03-14T10:30:17.341Z"
    }
   },
   "outputs": [
    {
     "data": {
      "text/plain": [
       "             \n",
       "                  1     2     3     4     5     6     7     8     9    10    11\n",
       "  Associates      0     0     0     0     0     0     0     0     0     0  1959\n",
       "  Bachelors       0     0     0     0     0     0     0     0     0     0     0\n",
       "  Doctorate       0     0     0     0     0     0     0     0     0     0     0\n",
       "  Dropout        72   222   446   819   644  1073  1387   519     0     0     0\n",
       "  HS-grad         0     0     0     0     0     0     0     0 14766     0     0\n",
       "  HS-Graduate     0     0     0     0     0     0     0     0     0  9892     0\n",
       "  Masters         0     0     0     0     0     0     0     0     0     0     0\n",
       "  Prof-School     0     0     0     0     0     0     0     0     0     0     0\n",
       "             \n",
       "                 12    13    14    15    16\n",
       "  Associates   1507     0     0     0     0\n",
       "  Bachelors       0  7569     0     0     0\n",
       "  Doctorate       0     0     0     0   544\n",
       "  Dropout         0     0     0     0     0\n",
       "  HS-grad         0     0     0     0     0\n",
       "  HS-Graduate     0     0     0     0     0\n",
       "  Masters         0     0  2512     0     0\n",
       "  Prof-School     0     0     0   784     0"
      ]
     },
     "metadata": {},
     "output_type": "display_data"
    }
   ],
   "source": [
    "table(dataBase$education,dataBase$educNum)  "
   ]
  },
  {
   "cell_type": "code",
   "execution_count": 5,
   "metadata": {
    "ExecuteTime": {
     "end_time": "2020-03-14T10:30:18.966699Z",
     "start_time": "2020-03-14T10:30:17.349Z"
    }
   },
   "outputs": [
    {
     "data": {
      "text/plain": [
       "               \n",
       "                Husband Not-in-family Other-relative Own-child Unmarried  Wife\n",
       "  Married         18660            19            184       125         0  2091\n",
       "  Never-Married       0          6667            793      5423      1217     0\n",
       "  Not-Married         0          4305            284       616      3054     0\n",
       "  Widowed             0           687             59        20       511     0"
      ]
     },
     "metadata": {},
     "output_type": "display_data"
    }
   ],
   "source": [
    "table(dataBase$mariStat,dataBase$relationship)"
   ]
  },
  {
   "cell_type": "code",
   "execution_count": 6,
   "metadata": {
    "ExecuteTime": {
     "end_time": "2020-03-14T10:30:18.984820Z",
     "start_time": "2020-03-14T10:30:17.355Z"
    }
   },
   "outputs": [
    {
     "data": {
      "text/plain": [
       "             \n",
       "              British-Commonwealth China Euro_1 Euro_2 Latin-America Other\n",
       "  Amer-Indian                    0     1      1      2            12     0\n",
       "  Asian                        125   185      4    101            13    61\n",
       "  Black                         11     0     10      0           230     8\n",
       "  Other                         12     0      2      1           125    11\n",
       "  White                        333    10    313    229          1157   198\n",
       "             \n",
       "              SE-Asia South-America United-States\n",
       "  Amer-Indian       1             1           410\n",
       "  Asian           416             0           397\n",
       "  Black             4             2          3929\n",
       "  Other             0            31           166\n",
       "  White            20           278         35905"
      ]
     },
     "metadata": {},
     "output_type": "display_data"
    }
   ],
   "source": [
    "table(dataBase$origEthn,dataBase$nativCountry)"
   ]
  },
  {
   "cell_type": "code",
   "execution_count": 7,
   "metadata": {
    "ExecuteTime": {
     "end_time": "2020-03-14T10:30:19.042427Z",
     "start_time": "2020-03-14T10:30:17.361Z"
    }
   },
   "outputs": [
    {
     "data": {
      "image/png": "[encoded data removed]",
      "text/plain": [
       "Plot with title “”"
      ]
     },
     "metadata": {},
     "output_type": "display_data"
    }
   ],
   "source": [
    "mosaicplot(table(dataBase[,\"origEthn\"],dataBase[,\"income\"]),main=\"\")"
   ]
  },
  {
   "cell_type": "markdown",
   "metadata": {},
   "source": [
    "Quelques modifications sont apportées de la base. Certaines variables en versions quantitatives et qualitatives comme le nombre d'heures par semaine, l'âge ou le niveau d'éducation sont conservées. Des variables sont supprimées afin de ne garder qu'une seule présence d'une information sensible: genre et origine ethnique.\n",
    "- Suppression de la variable 3 `fnlwgt` qui n'a guère de signification pour cette analyse.\n",
    "- Création d'une variable binaire `Child`: présence ou non d'enfants.\n",
    "- Suppression de la variable 8 `relationship` redondante avec le genre et le statut marital,\n",
    "- Suppression de la variable 14 `nativCountry` redondante avec l'origine ethnique.\n",
    "- La variable 9 `originEthn` est simplifiée à 2 classes: CaucYes *vs.* CaucNo\n",
    "\n",
    "**Attention** Pour la suite, il est important que les niveaux des facteurs soient ordonnés de façon cohérente pour la bonne interprétation des tables de contingence et de leurs effectifs. Par convention, les modalités pré-jugées socialement \"dévavorables\": revenu faible, femme, non caucasien, précèdent les autres (codées 0): revenu élevé, homme, caucasien (codées 1). Il faut donc soit réordonner les niveaux de la variable `income` ou renommer les modalités pour faire correspondre l'ordre alphabétique. Ce deuxième choix est exécuté."
   ]
  },
  {
   "cell_type": "code",
   "execution_count": 8,
   "metadata": {
    "ExecuteTime": {
     "end_time": "2020-03-14T10:30:19.134559Z",
     "start_time": "2020-03-14T10:30:17.458Z"
    }
   },
   "outputs": [
    {
     "data": {
      "text/plain": [
       "      age                workClass           education        educNum     \n",
       " Min.   :18.00   Federal-Govt : 1390   HS-grad    :14766   Min.   : 1.00  \n",
       " 1st Qu.:28.00   Not-Working  :   21   HS-Graduate: 9892   1st Qu.: 9.00  \n",
       " Median :37.00   Other-Govt   : 5023   Bachelors  : 7569   Median :10.00  \n",
       " Mean   :38.79   Private      :32856   Dropout    : 5182   Mean   :10.16  \n",
       " 3rd Qu.:47.00   Self-Employed: 5425   Associates : 3466   3rd Qu.:13.00  \n",
       " Max.   :90.00                         Masters    : 2512   Max.   :16.00  \n",
       "                                       (Other)    : 1328                  \n",
       "          mariStat              occup          origEthn         sex       \n",
       " Married      :21079   Admin       : 5501   CaucNo : 6272   Female:14450  \n",
       " Never-Married:14100   Blue-Collar :14732   CaucYes:38443   Male  :30265  \n",
       " Not-Married  : 8259   Other-occups: 2391                                 \n",
       " Widowed      : 1277   Professional: 5992                                 \n",
       "                       Sales       : 5272                                 \n",
       "                       Service     : 4846                                 \n",
       "                       White-Collar: 5981                                 \n",
       " capitalGain    capitalLoss      hoursWeek      income       LcapitalGain   \n",
       " None  :40939   None  :42587   Min.   : 1.00   incB:33511   Min.   : 0.000  \n",
       " cgLow : 2167   clLow : 1071   1st Qu.:40.00   incH:11204   1st Qu.: 0.000  \n",
       " cgHigh: 1609   clHigh: 1057   Median :40.00                Median : 0.000  \n",
       "                               Mean   :41.17                Mean   : 0.747  \n",
       "                               3rd Qu.:45.00                3rd Qu.: 0.000  \n",
       "                               Max.   :99.00                Max.   :11.513  \n",
       "                                                                            \n",
       "  LcapitalLoss     ageQ      hoursWeekQ       child      \n",
       " Min.   :0.0000   Ag1:9034   HW1: 9638   ChildNo :38531  \n",
       " 1st Qu.:0.0000   Ag2:8473   HW2:21367   ChildYes: 6184  \n",
       " Median :0.0000   Ag3:9714   HW3:13710                   \n",
       " Mean   :0.3575   Ag4:9649                               \n",
       " 3rd Qu.:0.0000   Ag5:7845                               \n",
       " Max.   :8.3795                                          \n",
       "                                                         "
      ]
     },
     "metadata": {},
     "output_type": "display_data"
    }
   ],
   "source": [
    "dataBase[,\"child\"]=as.factor(ifelse(dataBase$relationship=='Own-child',\"ChildYes\",\"ChildNo\"))\n",
    "dataBase[,\"origEthn\"]=as.factor(ifelse(dataBase$origEthn %in% c('Amer-Indian','Asian','Black','Other'),\"CaucNo\",\"CaucYes\"))\n",
    "dataBase[,\"income\"]=as.factor(ifelse(dataBase$income=='incLow',\"incB\",\"incH\"))\n",
    "datBas=dataBase[,-c(3,8,14)]\n",
    "summary(datBas)"
   ]
  },
  {
   "cell_type": "markdown",
   "metadata": {},
   "source": [
    "Quelques mosaicplots importants montrant le liens des variables sensibles avec la cible (seuil de revenu)."
   ]
  },
  {
   "cell_type": "code",
   "execution_count": 9,
   "metadata": {
    "ExecuteTime": {
     "end_time": "2020-03-14T10:30:19.186817Z",
     "start_time": "2020-03-14T10:30:17.559Z"
    }
   },
   "outputs": [
    {
     "data": {
      "image/png": "[encoded data removed]",
      "text/plain": [
       "Plot with title “”"
      ]
     },
     "metadata": {},
     "output_type": "display_data"
    }
   ],
   "source": [
    "mosaicplot(table(datBas[,\"sex\"],datBas[,\"income\"]),main=\"\", col=\"lightblue\",cex=1.3)"
   ]
  },
  {
   "cell_type": "code",
   "execution_count": 10,
   "metadata": {
    "ExecuteTime": {
     "end_time": "2020-03-14T10:30:48.796959Z",
     "start_time": "2020-03-14T10:30:48.773Z"
    }
   },
   "outputs": [
    {
     "data": {
      "text/plain": [
       "        \n",
       "          incB  incH\n",
       "  Female 12781  1669\n",
       "  Male   20730  9535"
      ]
     },
     "metadata": {},
     "output_type": "display_data"
    }
   ],
   "source": [
    "table(datBas[,\"sex\"],datBas[,\"income\"])"
   ]
  },
  {
   "cell_type": "code",
   "execution_count": 13,
   "metadata": {
    "ExecuteTime": {
     "end_time": "2020-03-14T10:34:54.988883Z",
     "start_time": "2020-03-14T10:34:54.969Z"
    }
   },
   "outputs": [
    {
     "data": {
      "text/html": [
       "0.366613514587488"
      ],
      "text/latex": [
       "0.366613514587488"
      ],
      "text/markdown": [
       "0.366613514587488"
      ],
      "text/plain": [
       "[1] 0.3666135"
      ]
     },
     "metadata": {},
     "output_type": "display_data"
    }
   ],
   "source": [
    "1669/(12781+1669)/(9535/(9535+20730))"
   ]
  },
  {
   "cell_type": "code",
   "execution_count": 10,
   "metadata": {
    "ExecuteTime": {
     "end_time": "2020-03-13T11:04:06.534704Z",
     "start_time": "2020-03-13T11:04:04.820Z"
    }
   },
   "outputs": [
    {
     "data": {
      "image/png": "[encoded data removed]",
      "text/plain": [
       "Plot with title “”"
      ]
     },
     "metadata": {},
     "output_type": "display_data"
    }
   ],
   "source": [
    "mosaicplot(table(datBas[,\"origEthn\"],datBas[,\"income\"]),main=\"\",col=\"lightblue\",cex=1.3)"
   ]
  },
  {
   "cell_type": "markdown",
   "metadata": {},
   "source": [
    "**Q** Commentaires sur le biais présent dans la base, les déséquilibres des classes."
   ]
  },
  {
   "cell_type": "markdown",
   "metadata": {},
   "source": [
    "### [Analyse factorielle multiple des correspondances](http://wikistat.fr/pdf/st-m-explo-afcm.pdf)\n",
    "Cette méthode permet d'avoir une vue d'ensemble de la structure des liaisons entre les variables qualitatives prises 2 à 2. "
   ]
  },
  {
   "cell_type": "code",
   "execution_count": 11,
   "metadata": {
    "ExecuteTime": {
     "end_time": "2020-03-13T11:04:08.280216Z",
     "start_time": "2020-03-13T11:04:05.009Z"
    }
   },
   "outputs": [
    {
     "data": {
      "image/png": "[encoded data removed]",
      "text/plain": [
       "plot without title"
      ]
     },
     "metadata": {},
     "output_type": "display_data"
    }
   ],
   "source": [
    "library(FactoMineR)\n",
    "dataq=datBas[,c(2,3,5:10,12,15:17)]\n",
    "afcm=MCA(dataq,graph=FALSE)\n",
    "plot(1:30,afcm$eig[1:30,1],type=\"h\")"
   ]
  },
  {
   "cell_type": "markdown",
   "metadata": {},
   "source": [
    "Il pourrait être utile de considérer 3 ou 4 axes mais seuls deux sont utilisés dans cette approche élémentaire. \n",
    "\n",
    "**Remarque** Cette étape permettrait d'anonymiser les données pour des traitements ultérieurs \"confidentiels\". Les variables qualitatives suceptibles de ré-identifier les données sont remplacées par les composantes principales de l'ACP des vecteurs profils lignes du tableau disjontif complet. Les liens entre individus sont conservés sans possibilité de les identifier."
   ]
  },
  {
   "cell_type": "code",
   "execution_count": 12,
   "metadata": {
    "ExecuteTime": {
     "end_time": "2020-03-13T11:04:08.656105Z",
     "start_time": "2020-03-13T11:04:05.113Z"
    }
   },
   "outputs": [
    {
     "data": {
      "image/png": "[encoded data removed]",
      "text/plain": [
       "Plot with title “MCA factor map”"
      ]
     },
     "metadata": {},
     "output_type": "display_data"
    }
   ],
   "source": [
    "options(repr.plot.width=6, repr.plot.height=6)\n",
    "plot.MCA(afcm,invisible=c(\"ind\"),habillage=\"quali\")"
   ]
  },
  {
   "cell_type": "markdown",
   "metadata": {},
   "source": [
    "Remarquer la très forte et attendue liaison entre niveau d'éducation et activité selon un axe de dispersion suivant la première bissectrice, lui même en relation avec les modalités haut et bas revenus alors que le genre, en première approximation, semble orthogonal à cet axe mais en relation avec le type d'activité et le nombre d'heures de travail par semaine.\n",
    "\n",
    "Ce graphique laisse penser que le lien entre genre et niveau de revenu ne serait pas dû à une sous qualification des femmes mais à une moindre activité (travail partiel) ou à des types d'emplois moins rémunérés.\n",
    "\n",
    "Cette représentation est complétée en projetant les individus colorés selon la variable revenu. De façon triviale, les hauts revenus se concentrent du côté des niveaux d'éducation les plus élevés.\n",
    "\n",
    "*En résumé*: un lien direct entre revenu et niveau d'éducation, pas nécessairement de lien entre genre et niveau d'éducation mais un \"frein\" au revenu lié au type de travail ou d'occupation : administratif, service... et à de possibles temps partiels."
   ]
  },
  {
   "cell_type": "code",
   "execution_count": 13,
   "metadata": {
    "ExecuteTime": {
     "end_time": "2020-03-13T11:04:08.821951Z",
     "start_time": "2020-03-13T11:04:05.205Z"
    }
   },
   "outputs": [
    {
     "data": {
      "image/png": "[encoded data removed]",
      "text/plain": [
       "plot without title"
      ]
     },
     "metadata": {},
     "output_type": "display_data"
    }
   ],
   "source": [
    "plot(afcm$ind$coord,type=\"p\",pch=\".\",cex=2,col=as.integer(dataBase$income))"
   ]
  },
  {
   "cell_type": "markdown",
   "metadata": {},
   "source": [
    "## Premiers modèles de prévision du seuil de revenu\n",
    "Une comparaison détaillée (cf. le [tutoriel](https://github.com/wikistat/Apprentissage/blob/master/Adult-Census/Apprent-Python-AdultCensus.ipynb)) de la plupart des modèles et algorithmes de prévision du seuil de revenu en fonction des différentes variables met en évidence des résultats de prévision un peu meilleurs obtenus par l'algorithme de *gradient boosting* (version xtrem). Néanmoins, on peut se limiter ici à un choix plus restreint de modèles et algorithmes: \n",
    "- la régression logistique (linéaire et quadratique), rapide, compétitive et interprétable; \n",
    "- un arbre de décision seul ocnduit à une meilleure précision mais s'avère trop complexe (profondeur) pour être interprétable; \n",
    "- les forêts aléatoires conduisent à une meilleure précision.\n",
    "\n",
    "### Echantillons\n",
    "La base de données est divisée en deux échantillons d'apprentissage et de test."
   ]
  },
  {
   "cell_type": "code",
   "execution_count": 14,
   "metadata": {
    "ExecuteTime": {
     "end_time": "2020-03-13T11:04:08.879515Z",
     "start_time": "2020-03-13T11:04:05.303Z"
    }
   },
   "outputs": [
    {
     "data": {
      "text/plain": [
       "      age                workClass           education        educNum     \n",
       " Min.   :18.00   Federal-Govt : 1390   HS-grad    :14766   Min.   : 1.00  \n",
       " 1st Qu.:28.00   Not-Working  :   21   HS-Graduate: 9892   1st Qu.: 9.00  \n",
       " Median :37.00   Other-Govt   : 5023   Bachelors  : 7569   Median :10.00  \n",
       " Mean   :38.79   Private      :32856   Dropout    : 5182   Mean   :10.16  \n",
       " 3rd Qu.:47.00   Self-Employed: 5425   Associates : 3466   3rd Qu.:13.00  \n",
       " Max.   :90.00                         Masters    : 2512   Max.   :16.00  \n",
       "                                       (Other)    : 1328                  \n",
       "          mariStat              occup          origEthn         sex       \n",
       " Married      :21079   Admin       : 5501   CaucNo : 6272   Female:14450  \n",
       " Never-Married:14100   Blue-Collar :14732   CaucYes:38443   Male  :30265  \n",
       " Not-Married  : 8259   Other-occups: 2391                                 \n",
       " Widowed      : 1277   Professional: 5992                                 \n",
       "                       Sales       : 5272                                 \n",
       "                       Service     : 4846                                 \n",
       "                       White-Collar: 5981                                 \n",
       " capitalGain    capitalLoss      hoursWeek      income       LcapitalGain   \n",
       " None  :40939   None  :42587   Min.   : 1.00   incB:33511   Min.   : 0.000  \n",
       " cgLow : 2167   clLow : 1071   1st Qu.:40.00   incH:11204   1st Qu.: 0.000  \n",
       " cgHigh: 1609   clHigh: 1057   Median :40.00                Median : 0.000  \n",
       "                               Mean   :41.17                Mean   : 0.747  \n",
       "                               3rd Qu.:45.00                3rd Qu.: 0.000  \n",
       "                               Max.   :99.00                Max.   :11.513  \n",
       "                                                                            \n",
       "  LcapitalLoss     ageQ      hoursWeekQ       child      \n",
       " Min.   :0.0000   Ag1:9034   HW1: 9638   ChildNo :38531  \n",
       " 1st Qu.:0.0000   Ag2:8473   HW2:21367   ChildYes: 6184  \n",
       " Median :0.0000   Ag3:9714   HW3:13710                   \n",
       " Mean   :0.3575   Ag4:9649                               \n",
       " 3rd Qu.:0.0000   Ag5:7845                               \n",
       " Max.   :8.3795                                          \n",
       "                                                         "
      ]
     },
     "metadata": {},
     "output_type": "display_data"
    }
   ],
   "source": [
    "summary(datBas)"
   ]
  },
  {
   "cell_type": "code",
   "execution_count": 15,
   "metadata": {
    "ExecuteTime": {
     "end_time": "2020-03-13T11:04:09.126689Z",
     "start_time": "2020-03-13T11:04:05.309Z"
    }
   },
   "outputs": [
    {
     "data": {
      "text/plain": [
       "      age           educNum               mariStat              occup      \n",
       " Min.   :18.00   Min.   : 1.00   Married      :21079   Admin       : 5501  \n",
       " 1st Qu.:28.00   1st Qu.: 9.00   Never-Married:14100   Blue-Collar :14732  \n",
       " Median :37.00   Median :10.00   Not-Married  : 8259   Other-occups: 2391  \n",
       " Mean   :38.79   Mean   :10.16   Widowed      : 1277   Professional: 5992  \n",
       " 3rd Qu.:47.00   3rd Qu.:13.00                         Sales       : 5272  \n",
       " Max.   :90.00   Max.   :16.00                         Service     : 4846  \n",
       "                                                       White-Collar: 5981  \n",
       "    origEthn         sex          hoursWeek      income       LcapitalGain   \n",
       " CaucNo : 6272   Female:14450   Min.   : 1.00   incB:33511   Min.   : 0.000  \n",
       " CaucYes:38443   Male  :30265   1st Qu.:40.00   incH:11204   1st Qu.: 0.000  \n",
       "                                Median :40.00                Median : 0.000  \n",
       "                                Mean   :41.17                Mean   : 0.747  \n",
       "                                3rd Qu.:45.00                3rd Qu.: 0.000  \n",
       "                                Max.   :99.00                Max.   :11.513  \n",
       "                                                                             \n",
       "  LcapitalLoss         child      \n",
       " Min.   :0.0000   ChildNo :38531  \n",
       " 1st Qu.:0.0000   ChildYes: 6184  \n",
       " Median :0.0000                   \n",
       " Mean   :0.3575                   \n",
       " 3rd Qu.:0.0000                   \n",
       " Max.   :8.3795                   \n",
       "                                  "
      ]
     },
     "metadata": {},
     "output_type": "display_data"
    }
   ],
   "source": [
    "datBas=datBas[,c(\"age\",\"educNum\",\"mariStat\",\"occup\",\"origEthn\",\n",
    "                 \"sex\",\"hoursWeek\",\"income\",\"LcapitalGain\",\"LcapitalLoss\",\"child\")]\n",
    "summary(datBas)\n",
    "write.csv(datBas,file=\"adultBase-R.csv\",row.names = FALSE)"
   ]
  },
  {
   "cell_type": "code",
   "execution_count": 16,
   "metadata": {
    "ExecuteTime": {
     "end_time": "2020-03-13T11:04:09.166078Z",
     "start_time": "2020-03-13T11:04:05.315Z"
    }
   },
   "outputs": [],
   "source": [
    "set.seed(11) # initialisation du générateur\n",
    "# Extraction des échantillons\n",
    "test.ratio=.2   # part de l'échantillon test\n",
    "npop=nrow(datBas) # nombre de lignes dans les données\n",
    "nvar=ncol(datBas) # nombre de colonnes\n",
    "# taille de l'échantillon test\n",
    "ntest=ceiling(npop*test.ratio) \n",
    "# indices de l'échantillon test\n",
    "testi=sample(1:npop,ntest)\n",
    "# indices de l'échantillon d'apprentissage\n",
    "appri=setdiff(1:npop,testi) "
   ]
  },
  {
   "cell_type": "code",
   "execution_count": 17,
   "metadata": {
    "ExecuteTime": {
     "end_time": "2020-03-13T11:04:09.186789Z",
     "start_time": "2020-03-13T11:04:05.322Z"
    }
   },
   "outputs": [],
   "source": [
    "# construction de l'échantillon d'apprentissage\n",
    "datApp=datBas[appri,]\n",
    "# construction de l'échantillon test \n",
    "daTest=datBas[testi,]"
   ]
  },
  {
   "cell_type": "markdown",
   "metadata": {},
   "source": [
    "### Prévision par régression logistique\n",
    "Remarquer que la présence des versions qualitatives (découpage en classe) des variables quantitatives introduit une part de non linéarité dans le modèle par la présence des indicatrices des classes.\n",
    "\n",
    "La fonction ci-dessous calcule le taux d'erreur usuel de la matrice de confusion. Avec l'ordonnencement des modalités, les bien classés sont les termes diagonaux de la matrice de confusion."
   ]
  },
  {
   "cell_type": "code",
   "execution_count": 18,
   "metadata": {
    "ExecuteTime": {
     "end_time": "2020-03-13T11:04:09.199419Z",
     "start_time": "2020-03-13T11:04:05.420Z"
    }
   },
   "outputs": [],
   "source": [
    "tauxErr=function(table){round((table[1,2]+table[2,1])/sum(table)*100,2)}"
   ]
  },
  {
   "cell_type": "code",
   "execution_count": 19,
   "metadata": {
    "ExecuteTime": {
     "end_time": "2020-03-13T11:04:10.875500Z",
     "start_time": "2020-03-13T11:04:05.428Z"
    }
   },
   "outputs": [
    {
     "data": {
      "text/html": [
       "<table>\n",
       "<thead><tr><th></th><th scope=col>Df</th><th scope=col>Deviance</th><th scope=col>Resid. Df</th><th scope=col>Resid. Dev</th><th scope=col>Pr(&gt;Chi)</th></tr></thead>\n",
       "<tbody>\n",
       "\t<tr><th scope=row>NULL</th><td>NA           </td><td>        NA   </td><td>35771        </td><td>40227.31     </td><td>           NA</td></tr>\n",
       "\t<tr><th scope=row>age</th><td> 1           </td><td>1865.39750   </td><td>35770        </td><td>38361.91     </td><td> 0.000000e+00</td></tr>\n",
       "\t<tr><th scope=row>educNum</th><td> 1           </td><td>4247.88595   </td><td>35769        </td><td>34114.03     </td><td> 0.000000e+00</td></tr>\n",
       "\t<tr><th scope=row>mariStat</th><td> 3           </td><td>6299.40893   </td><td>35766        </td><td>27814.62     </td><td> 0.000000e+00</td></tr>\n",
       "\t<tr><th scope=row>occup</th><td> 6           </td><td> 792.03697   </td><td>35760        </td><td>27022.58     </td><td>8.090064e-168</td></tr>\n",
       "\t<tr><th scope=row>origEthn</th><td> 1           </td><td>  19.96324   </td><td>35759        </td><td>27002.62     </td><td> 7.894531e-06</td></tr>\n",
       "\t<tr><th scope=row>sex</th><td> 1           </td><td>  51.34567   </td><td>35758        </td><td>26951.27     </td><td> 7.745273e-13</td></tr>\n",
       "\t<tr><th scope=row>hoursWeek</th><td> 1           </td><td> 439.60497   </td><td>35757        </td><td>26511.67     </td><td> 1.319533e-97</td></tr>\n",
       "\t<tr><th scope=row>LcapitalGain</th><td> 1           </td><td>1239.63939   </td><td>35756        </td><td>25272.03     </td><td>1.481393e-271</td></tr>\n",
       "\t<tr><th scope=row>LcapitalLoss</th><td> 1           </td><td> 304.08396   </td><td>35755        </td><td>24967.94     </td><td> 4.246522e-68</td></tr>\n",
       "\t<tr><th scope=row>child</th><td> 1           </td><td>  73.47646   </td><td>35754        </td><td>24894.47     </td><td> 1.018438e-17</td></tr>\n",
       "</tbody>\n",
       "</table>\n"
      ],
      "text/latex": [
       "\\begin{tabular}{r|lllll}\n",
       "  & Df & Deviance & Resid. Df & Resid. Dev & Pr(>Chi)\\\\\n",
       "\\hline\n",
       "\tNULL & NA            &         NA    & 35771         & 40227.31      &            NA\\\\\n",
       "\tage &  1            & 1865.39750    & 35770         & 38361.91      &  0.000000e+00\\\\\n",
       "\teducNum &  1            & 4247.88595    & 35769         & 34114.03      &  0.000000e+00\\\\\n",
       "\tmariStat &  3            & 6299.40893    & 35766         & 27814.62      &  0.000000e+00\\\\\n",
       "\toccup &  6            &  792.03697    & 35760         & 27022.58      & 8.090064e-168\\\\\n",
       "\torigEthn &  1            &   19.96324    & 35759         & 27002.62      &  7.894531e-06\\\\\n",
       "\tsex &  1            &   51.34567    & 35758         & 26951.27      &  7.745273e-13\\\\\n",
       "\thoursWeek &  1            &  439.60497    & 35757         & 26511.67      &  1.319533e-97\\\\\n",
       "\tLcapitalGain &  1            & 1239.63939    & 35756         & 25272.03      & 1.481393e-271\\\\\n",
       "\tLcapitalLoss &  1            &  304.08396    & 35755         & 24967.94      &  4.246522e-68\\\\\n",
       "\tchild &  1            &   73.47646    & 35754         & 24894.47      &  1.018438e-17\\\\\n",
       "\\end{tabular}\n"
      ],
      "text/markdown": [
       "\n",
       "| <!--/--> | Df | Deviance | Resid. Df | Resid. Dev | Pr(>Chi) |\n",
       "|---|---|---|---|---|---|\n",
       "| NULL | NA            |         NA    | 35771         | 40227.31      |            NA |\n",
       "| age |  1            | 1865.39750    | 35770         | 38361.91      |  0.000000e+00 |\n",
       "| educNum |  1            | 4247.88595    | 35769         | 34114.03      |  0.000000e+00 |\n",
       "| mariStat |  3            | 6299.40893    | 35766         | 27814.62      |  0.000000e+00 |\n",
       "| occup |  6            |  792.03697    | 35760         | 27022.58      | 8.090064e-168 |\n",
       "| origEthn |  1            |   19.96324    | 35759         | 27002.62      |  7.894531e-06 |\n",
       "| sex |  1            |   51.34567    | 35758         | 26951.27      |  7.745273e-13 |\n",
       "| hoursWeek |  1            |  439.60497    | 35757         | 26511.67      |  1.319533e-97 |\n",
       "| LcapitalGain |  1            | 1239.63939    | 35756         | 25272.03      | 1.481393e-271 |\n",
       "| LcapitalLoss |  1            |  304.08396    | 35755         | 24967.94      |  4.246522e-68 |\n",
       "| child |  1            |   73.47646    | 35754         | 24894.47      |  1.018438e-17 |\n",
       "\n"
      ],
      "text/plain": [
       "             Df Deviance   Resid. Df Resid. Dev Pr(>Chi)     \n",
       "NULL         NA         NA 35771     40227.31              NA\n",
       "age           1 1865.39750 35770     38361.91    0.000000e+00\n",
       "educNum       1 4247.88595 35769     34114.03    0.000000e+00\n",
       "mariStat      3 6299.40893 35766     27814.62    0.000000e+00\n",
       "occup         6  792.03697 35760     27022.58   8.090064e-168\n",
       "origEthn      1   19.96324 35759     27002.62    7.894531e-06\n",
       "sex           1   51.34567 35758     26951.27    7.745273e-13\n",
       "hoursWeek     1  439.60497 35757     26511.67    1.319533e-97\n",
       "LcapitalGain  1 1239.63939 35756     25272.03   1.481393e-271\n",
       "LcapitalLoss  1  304.08396 35755     24967.94    4.246522e-68\n",
       "child         1   73.47646 35754     24894.47    1.018438e-17"
      ]
     },
     "metadata": {},
     "output_type": "display_data"
    }
   ],
   "source": [
    "# estimation du modèle complet\n",
    "log.lm=glm(income~.,data=datApp,family=binomial)\n",
    "# significativité des paramètres\n",
    "anova(log.lm,test=\"Chisq\")"
   ]
  },
  {
   "cell_type": "code",
   "execution_count": 20,
   "metadata": {
    "ExecuteTime": {
     "end_time": "2020-03-13T11:04:10.914488Z",
     "start_time": "2020-03-13T11:04:05.433Z"
    }
   },
   "outputs": [
    {
     "data": {
      "text/plain": [
       "\n",
       "Call:\n",
       "glm(formula = income ~ ., family = binomial, data = datApp)\n",
       "\n",
       "Deviance Residuals: \n",
       "    Min       1Q   Median       3Q      Max  \n",
       "-2.8361  -0.5640  -0.2250  -0.0251   3.5922  \n",
       "\n",
       "Coefficients:\n",
       "                       Estimate Std. Error z value Pr(>|z|)    \n",
       "(Intercept)           -5.945211   0.144327 -41.193  < 2e-16 ***\n",
       "age                    0.023179   0.001442  16.071  < 2e-16 ***\n",
       "educNum                0.285120   0.008336  34.205  < 2e-16 ***\n",
       "mariStatNever-Married -2.432828   0.057391 -42.390  < 2e-16 ***\n",
       "mariStatNot-Married   -2.115795   0.055039 -38.442  < 2e-16 ***\n",
       "mariStatWidowed       -2.163944   0.130148 -16.627  < 2e-16 ***\n",
       "occupBlue-Collar      -0.341925   0.063323  -5.400 6.67e-08 ***\n",
       "occupOther-occups      0.382624   0.081347   4.704 2.56e-06 ***\n",
       "occupProfessional      0.406026   0.068205   5.953 2.63e-09 ***\n",
       "occupSales             0.126279   0.070264   1.797 0.072301 .  \n",
       "occupService          -0.991774   0.102333  -9.692  < 2e-16 ***\n",
       "occupWhite-Collar      0.655764   0.065707   9.980  < 2e-16 ***\n",
       "origEthnCaucYes        0.174274   0.052916   3.293 0.000990 ***\n",
       "sexMale                0.159121   0.046909   3.392 0.000693 ***\n",
       "hoursWeek              0.027185   0.001437  18.919  < 2e-16 ***\n",
       "LcapitalGain           0.207850   0.005977  34.773  < 2e-16 ***\n",
       "LcapitalLoss           0.149187   0.008657  17.234  < 2e-16 ***\n",
       "childChildYes         -0.935815   0.120346  -7.776 7.48e-15 ***\n",
       "---\n",
       "Signif. codes:  0 ‘***’ 0.001 ‘**’ 0.01 ‘*’ 0.05 ‘.’ 0.1 ‘ ’ 1\n",
       "\n",
       "(Dispersion parameter for binomial family taken to be 1)\n",
       "\n",
       "    Null deviance: 40227  on 35771  degrees of freedom\n",
       "Residual deviance: 24894  on 35754  degrees of freedom\n",
       "AIC: 24930\n",
       "\n",
       "Number of Fisher Scoring iterations: 7\n"
      ]
     },
     "metadata": {},
     "output_type": "display_data"
    }
   ],
   "source": [
    "summary(log.lm)"
   ]
  },
  {
   "cell_type": "markdown",
   "metadata": {},
   "source": [
    "**Q** Commentaire sur la significativité des paramètres."
   ]
  },
  {
   "cell_type": "code",
   "execution_count": 21,
   "metadata": {
    "ExecuteTime": {
     "end_time": "2020-03-13T11:04:10.956529Z",
     "start_time": "2020-03-13T11:04:05.540Z"
    }
   },
   "outputs": [
    {
     "data": {
      "text/plain": [
       "       \n",
       "        incB incH\n",
       "  FALSE 6154  950\n",
       "  TRUE   526 1313"
      ]
     },
     "metadata": {},
     "output_type": "display_data"
    }
   ],
   "source": [
    "# Prévision\n",
    "pred.log=predict(log.lm,newdata=daTest,type=\"response\")\n",
    "# Matrice de confusion pour la prévision du \n",
    "# dépassement de seuil\n",
    "confMat=table(pred.log>0.5,daTest$income)\n",
    "confMat"
   ]
  },
  {
   "cell_type": "code",
   "execution_count": 22,
   "metadata": {
    "ExecuteTime": {
     "end_time": "2020-03-13T11:04:10.977232Z",
     "start_time": "2020-03-13T11:04:05.546Z"
    }
   },
   "outputs": [
    {
     "data": {
      "text/html": [
       "16.5"
      ],
      "text/latex": [
       "16.5"
      ],
      "text/markdown": [
       "16.5"
      ],
      "text/plain": [
       "[1] 16.5"
      ]
     },
     "metadata": {},
     "output_type": "display_data"
    }
   ],
   "source": [
    "tauxErr(confMat)"
   ]
  },
  {
   "cell_type": "markdown",
   "metadata": {},
   "source": [
    "A titre de comparaison, l'algorithme des forêts aléatoires est exécuté avec les options par défaut.\n",
    "\n",
    "**Q** Quelles sont ces options par défaut?"
   ]
  },
  {
   "cell_type": "code",
   "execution_count": 23,
   "metadata": {
    "ExecuteTime": {
     "end_time": "2020-03-13T11:04:29.951675Z",
     "start_time": "2020-03-13T11:04:05.660Z"
    }
   },
   "outputs": [
    {
     "name": "stderr",
     "output_type": "stream",
     "text": [
      "randomForest 4.6-14\n",
      "Type rfNews() to see new features/changes/bug fixes.\n"
     ]
    },
    {
     "data": {
      "text/plain": [
       "       \n",
       "pred.rf incB incH\n",
       "   incB 6292  870\n",
       "   incH  388 1393"
      ]
     },
     "metadata": {},
     "output_type": "display_data"
    },
    {
     "data": {
      "text/html": [
       "14.07"
      ],
      "text/latex": [
       "14.07"
      ],
      "text/markdown": [
       "14.07"
      ],
      "text/plain": [
       "[1] 14.07"
      ]
     },
     "metadata": {},
     "output_type": "display_data"
    }
   ],
   "source": [
    "library(randomForest)\n",
    "rf.mod=randomForest(income~.,data=datApp)\n",
    "pred.rf=predict(rf.mod,newdata=daTest,type=\"response\")\n",
    "confMat=table(pred.rf,daTest$income)\n",
    "confMat\n",
    "tauxErr(confMat)"
   ]
  },
  {
   "cell_type": "markdown",
   "metadata": {},
   "source": [
    "Un modèle de régression logistique avec interactions, donc quadratique, nécessite une sélection de variables ici pas-à-pas (*stepwise* ou `both`). Le temps d'exécution est relativement long."
   ]
  },
  {
   "cell_type": "code",
   "execution_count": 23,
   "metadata": {
    "ExecuteTime": {
     "end_time": "2020-03-12T05:05:01.935931Z",
     "start_time": "2020-03-12T04:43:28.486Z"
    }
   },
   "outputs": [
    {
     "name": "stdout",
     "output_type": "stream",
     "text": [
      "Start:  AIC=40229.31\n",
      "income ~ 1\n",
      "\n",
      "               Df Deviance   AIC\n",
      "+ mariStat      3    32419 32427\n",
      "+ educNum       1    36005 36009\n",
      "+ occup         6    36186 36200\n",
      "+ LcapitalGain  1    37727 37731\n",
      "+ child         1    37819 37823\n",
      "+ age           1    38362 38366\n",
      "+ sex           1    38379 38383\n",
      "+ hoursWeek     1    38430 38434\n",
      "+ LcapitalLoss  1    39644 39648\n",
      "+ origEthn      1    39934 39938\n",
      "<none>               40227 40229\n",
      "\n",
      "Step:  AIC=32426.75\n",
      "income ~ mariStat\n",
      "\n",
      "               Df Deviance   AIC\n",
      "+ educNum       1    28248 28258\n",
      "+ occup         6    28993 29013\n",
      "+ LcapitalGain  1    30547 30557\n",
      "+ hoursWeek     1    31664 31674\n",
      "+ age           1    32003 32013\n",
      "+ LcapitalLoss  1    32037 32047\n",
      "+ child         1    32100 32110\n",
      "+ origEthn      1    32341 32351\n",
      "+ sex           1    32370 32380\n",
      "<none>               32419 32427\n",
      "- mariStat      3    40227 40229\n",
      "\n",
      "Step:  AIC=28257.66\n",
      "income ~ mariStat + educNum\n",
      "\n",
      "                   Df Deviance   AIC\n",
      "+ LcapitalGain      1    26791 26803\n",
      "+ occup             6    27378 27400\n",
      "+ hoursWeek         1    27750 27762\n",
      "+ age               1    27815 27827\n",
      "+ LcapitalLoss      1    28006 28018\n",
      "+ child             1    28056 28068\n",
      "+ sex               1    28178 28190\n",
      "+ educNum:mariStat  3    28180 28196\n",
      "+ origEthn          1    28202 28214\n",
      "<none>                   28248 28258\n",
      "- educNum           1    32419 32427\n",
      "- mariStat          3    36005 36009\n",
      "\n",
      "Step:  AIC=26802.61\n",
      "income ~ mariStat + educNum + LcapitalGain\n",
      "\n",
      "                        Df Deviance   AIC\n",
      "+ occup                  6    26001 26025\n",
      "+ hoursWeek              1    26342 26356\n",
      "+ LcapitalLoss           1    26424 26438\n",
      "+ age                    1    26459 26473\n",
      "+ child                  1    26623 26637\n",
      "+ mariStat:LcapitalGain  3    26687 26705\n",
      "+ sex                    1    26736 26750\n",
      "+ educNum:mariStat       3    26745 26763\n",
      "+ origEthn               1    26749 26763\n",
      "<none>                        26791 26803\n",
      "+ educNum:LcapitalGain   1    26789 26803\n",
      "- LcapitalGain           1    28248 28258\n",
      "- educNum                1    30547 30557\n",
      "- mariStat               3    34047 34053\n",
      "\n",
      "Step:  AIC=26024.68\n",
      "income ~ mariStat + educNum + LcapitalGain + occup\n",
      "\n",
      "                        Df Deviance   AIC\n",
      "+ hoursWeek              1    25628 25654\n",
      "+ LcapitalLoss           1    25668 25694\n",
      "+ age                    1    25731 25757\n",
      "+ child                  1    25853 25879\n",
      "+ mariStat:LcapitalGain  3    25910 25940\n",
      "+ sex                    1    25943 25969\n",
      "+ mariStat:occup        18    25914 25974\n",
      "+ educNum:mariStat       3    25966 25996\n",
      "+ educNum:occup          6    25960 25996\n",
      "+ origEthn               1    25978 26004\n",
      "+ educNum:LcapitalGain   1    25999 26025\n",
      "<none>                        26001 26025\n",
      "+ occup:LcapitalGain     6    25996 26032\n",
      "- occup                  6    26791 26803\n",
      "- LcapitalGain           1    27378 27400\n",
      "- educNum                1    27476 27498\n",
      "- mariStat               3    32687 32705\n",
      "\n",
      "Step:  AIC=25653.54\n",
      "income ~ mariStat + educNum + LcapitalGain + occup + hoursWeek\n",
      "\n",
      "                         Df Deviance   AIC\n",
      "+ age                     1    25297 25325\n",
      "+ LcapitalLoss            1    25303 25331\n",
      "+ child                   1    25510 25538\n",
      "+ mariStat:hoursWeek      3    25525 25557\n",
      "+ mariStat:LcapitalGain   3    25546 25578\n",
      "+ mariStat:occup         18    25541 25603\n",
      "+ educNum:occup           6    25590 25628\n",
      "+ sex                     1    25603 25631\n",
      "+ educNum:mariStat        3    25604 25636\n",
      "+ origEthn                1    25610 25638\n",
      "+ occup:hoursWeek         6    25607 25645\n",
      "<none>                         25628 25654\n",
      "+ educNum:LcapitalGain    1    25626 25654\n",
      "+ hoursWeek:LcapitalGain  1    25626 25654\n",
      "+ educNum:hoursWeek       1    25627 25655\n",
      "+ occup:LcapitalGain      6    25624 25662\n",
      "- hoursWeek               1    26001 26025\n",
      "- occup                   6    26342 26356\n",
      "- LcapitalGain            1    26968 26992\n",
      "- educNum                 1    26988 27012\n",
      "- mariStat                3    31861 31881\n",
      "\n",
      "Step:  AIC=25325.03\n",
      "income ~ mariStat + educNum + LcapitalGain + occup + hoursWeek + \n",
      "    age\n",
      "\n",
      "                         Df Deviance   AIC\n",
      "+ LcapitalLoss            1    24992 25022\n",
      "+ child                   1    25220 25250\n",
      "+ mariStat:hoursWeek      3    25218 25252\n",
      "+ mariStat:LcapitalGain   3    25218 25252\n",
      "+ age:mariStat            3    25222 25256\n",
      "+ mariStat:occup         18    25208 25272\n",
      "+ educNum:occup           6    25260 25300\n",
      "+ age:hoursWeek           1    25281 25311\n",
      "+ occup:hoursWeek         6    25273 25313\n",
      "+ origEthn                1    25284 25314\n",
      "+ sex                     1    25284 25314\n",
      "+ age:LcapitalGain        1    25287 25317\n",
      "+ educNum:mariStat        3    25286 25320\n",
      "+ age:educNum             1    25294 25324\n",
      "<none>                         25297 25325\n",
      "+ hoursWeek:LcapitalGain  1    25295 25325\n",
      "+ educNum:LcapitalGain    1    25296 25326\n",
      "+ educNum:hoursWeek       1    25297 25327\n",
      "+ age:occup               6    25288 25328\n",
      "+ occup:LcapitalGain      6    25293 25333\n",
      "- age                     1    25628 25654\n",
      "- hoursWeek               1    25731 25757\n",
      "- occup                   6    25942 25958\n",
      "- LcapitalGain            1    26542 26568\n",
      "- educNum                 1    26714 26740\n",
      "- mariStat                3    30479 30501\n",
      "\n",
      "Step:  AIC=25021.54\n",
      "income ~ mariStat + educNum + LcapitalGain + occup + hoursWeek + \n",
      "    age + LcapitalLoss\n",
      "\n",
      "                         Df Deviance   AIC\n",
      "+ mariStat:LcapitalGain   3    24912 24948\n",
      "+ mariStat:hoursWeek      3    24913 24949\n",
      "+ child                   1    24918 24950\n",
      "+ age:mariStat            3    24920 24956\n",
      "+ mariStat:occup         18    24903 24969\n",
      "+ educNum:occup           6    24957 24999\n",
      "+ occup:hoursWeek         6    24967 25009\n",
      "+ age:hoursWeek           1    24977 25009\n",
      "+ origEthn                1    24979 25011\n",
      "+ sex                     1    24980 25012\n",
      "+ age:LcapitalGain        1    24982 25014\n",
      "+ educNum:mariStat        3    24982 25018\n",
      "+ age:LcapitalLoss        1    24986 25018\n",
      "+ age:educNum             1    24988 25020\n",
      "<none>                         24992 25022\n",
      "+ educNum:LcapitalGain    1    24990 25022\n",
      "+ hoursWeek:LcapitalGain  1    24990 25022\n",
      "+ mariStat:LcapitalLoss   3    24986 25022\n",
      "+ occup:LcapitalLoss      6    24981 25023\n",
      "+ educNum:hoursWeek       1    24991 25023\n",
      "+ educNum:LcapitalLoss    1    24991 25023\n",
      "+ age:occup               6    24981 25023\n",
      "+ hoursWeek:LcapitalLoss  1    24992 25024\n",
      "+ occup:LcapitalGain      6    24987 25029\n",
      "- LcapitalLoss            1    25297 25325\n",
      "- age                     1    25303 25331\n",
      "- hoursWeek               1    25415 25443\n",
      "- occup                   6    25611 25629\n",
      "- LcapitalGain            1    26344 26372\n",
      "- educNum                 1    26347 26375\n",
      "- mariStat                3    30079 30103\n",
      "\n",
      "Step:  AIC=24948.03\n",
      "income ~ mariStat + educNum + LcapitalGain + occup + hoursWeek + \n",
      "    age + LcapitalLoss + mariStat:LcapitalGain\n",
      "\n",
      "                         Df Deviance   AIC\n",
      "+ mariStat:hoursWeek      3    24830 24872\n",
      "+ child                   1    24842 24880\n",
      "+ age:mariStat            3    24843 24885\n",
      "+ mariStat:occup         18    24821 24893\n",
      "+ educNum:occup           6    24877 24925\n",
      "+ age:hoursWeek           1    24897 24935\n",
      "+ occup:hoursWeek         6    24888 24936\n",
      "+ origEthn                1    24899 24937\n",
      "+ sex                     1    24902 24940\n",
      "+ educNum:mariStat        3    24900 24942\n",
      "+ age:LcapitalLoss        1    24906 24944\n",
      "+ age:educNum             1    24909 24947\n",
      "+ age:LcapitalGain        1    24910 24948\n",
      "+ educNum:LcapitalGain    1    24910 24948\n",
      "<none>                         24912 24948\n",
      "+ occup:LcapitalLoss      6    24900 24948\n",
      "+ educNum:LcapitalLoss    1    24911 24949\n",
      "+ hoursWeek:LcapitalGain  1    24911 24949\n",
      "+ educNum:hoursWeek       1    24912 24950\n",
      "+ age:occup               6    24902 24950\n",
      "+ hoursWeek:LcapitalLoss  1    24912 24950\n",
      "+ mariStat:LcapitalLoss   3    24909 24951\n",
      "+ occup:LcapitalGain      6    24903 24951\n",
      "- mariStat:LcapitalGain   3    24992 25022\n",
      "- LcapitalLoss            1    25218 25252\n",
      "- age                     1    25221 25255\n",
      "- hoursWeek               1    25327 25361\n",
      "- occup                   6    25523 25547\n",
      "- educNum                 1    26255 26289\n",
      "\n",
      "Step:  AIC=24871.88\n",
      "income ~ mariStat + educNum + LcapitalGain + occup + hoursWeek + \n",
      "    age + LcapitalLoss + mariStat:LcapitalGain + mariStat:hoursWeek\n",
      "\n",
      "                         Df Deviance   AIC\n",
      "+ age:mariStat            3    24763 24811\n",
      "+ child                   1    24767 24811\n",
      "+ mariStat:occup         18    24755 24833\n",
      "+ age:hoursWeek           1    24806 24850\n",
      "+ educNum:occup           6    24796 24850\n",
      "+ origEthn                1    24816 24860\n",
      "+ occup:hoursWeek         6    24809 24863\n",
      "+ sex                     1    24820 24864\n",
      "+ educNum:mariStat        3    24820 24868\n",
      "+ age:LcapitalLoss        1    24825 24869\n",
      "+ age:educNum             1    24827 24871\n",
      "+ occup:LcapitalLoss      6    24818 24872\n",
      "<none>                         24830 24872\n",
      "+ educNum:LcapitalGain    1    24828 24872\n",
      "+ age:LcapitalGain        1    24828 24872\n",
      "+ educNum:hoursWeek       1    24828 24872\n",
      "+ educNum:LcapitalLoss    1    24829 24873\n",
      "+ age:occup               6    24819 24873\n",
      "+ hoursWeek:LcapitalLoss  1    24830 24874\n",
      "+ hoursWeek:LcapitalGain  1    24830 24874\n",
      "+ mariStat:LcapitalLoss   3    24826 24874\n",
      "+ occup:LcapitalGain      6    24822 24876\n",
      "- mariStat:hoursWeek      3    24912 24948\n",
      "- mariStat:LcapitalGain   3    24913 24949\n",
      "- age                     1    25117 25157\n",
      "- LcapitalLoss            1    25136 25176\n",
      "- occup                   6    25444 25474\n",
      "- educNum                 1    26158 26198\n",
      "\n",
      "Step:  AIC=24811.29\n",
      "income ~ mariStat + educNum + LcapitalGain + occup + hoursWeek + \n",
      "    age + LcapitalLoss + mariStat:LcapitalGain + mariStat:hoursWeek + \n",
      "    mariStat:age\n",
      "\n",
      "                         Df Deviance   AIC\n",
      "+ child                   1    24718 24768\n",
      "+ mariStat:occup         18    24688 24772\n",
      "+ educNum:occup           6    24730 24790\n",
      "+ age:hoursWeek           1    24743 24793\n",
      "+ origEthn                1    24749 24799\n",
      "+ sex                     1    24752 24802\n",
      "+ occup:hoursWeek         6    24744 24804\n",
      "+ age:occup               6    24744 24804\n",
      "+ age:educNum             1    24755 24805\n",
      "+ age:LcapitalLoss        1    24758 24808\n",
      "+ age:LcapitalGain        1    24759 24809\n",
      "+ educNum:mariStat        3    24757 24811\n",
      "+ occup:LcapitalLoss      6    24751 24811\n",
      "<none>                         24763 24811\n",
      "+ educNum:LcapitalGain    1    24762 24812\n",
      "+ educNum:hoursWeek       1    24762 24812\n",
      "+ educNum:LcapitalLoss    1    24762 24812\n",
      "+ hoursWeek:LcapitalGain  1    24763 24813\n",
      "+ hoursWeek:LcapitalLoss  1    24763 24813\n",
      "+ mariStat:LcapitalLoss   3    24760 24814\n",
      "+ occup:LcapitalGain      6    24757 24817\n",
      "- mariStat:age            3    24830 24872\n",
      "- mariStat:LcapitalGain   3    24842 24884\n",
      "- mariStat:hoursWeek      3    24843 24885\n",
      "- LcapitalLoss            1    25066 25112\n",
      "- occup                   6    25384 25420\n",
      "- educNum                 1    26062 26108\n",
      "\n",
      "Step:  AIC=24767.92\n",
      "income ~ mariStat + educNum + LcapitalGain + occup + hoursWeek + \n",
      "    age + LcapitalLoss + child + mariStat:LcapitalGain + mariStat:hoursWeek + \n",
      "    mariStat:age\n",
      "\n",
      "                         Df Deviance   AIC\n",
      "+ mariStat:occup         18    24646 24732\n",
      "+ educNum:occup           6    24686 24748\n",
      "+ age:hoursWeek           1    24696 24748\n",
      "+ origEthn                1    24705 24757\n",
      "+ sex                     1    24706 24758\n",
      "+ occup:hoursWeek         6    24699 24761\n",
      "+ age:occup               6    24700 24762\n",
      "+ age:educNum             1    24711 24763\n",
      "+ age:child               1    24712 24764\n",
      "+ age:LcapitalLoss        1    24713 24765\n",
      "+ age:LcapitalGain        1    24714 24766\n",
      "+ LcapitalGain:child      1    24715 24767\n",
      "+ occup:LcapitalLoss      6    24706 24768\n",
      "<none>                         24718 24768\n",
      "+ educNum:LcapitalGain    1    24716 24768\n",
      "+ LcapitalLoss:child      1    24717 24769\n",
      "+ educNum:hoursWeek       1    24717 24769\n",
      "+ educNum:LcapitalLoss    1    24717 24769\n",
      "+ hoursWeek:child         1    24717 24769\n",
      "+ educNum:mariStat        3    24714 24770\n",
      "+ educNum:child           1    24718 24770\n",
      "+ hoursWeek:LcapitalGain  1    24718 24770\n",
      "+ hoursWeek:LcapitalLoss  1    24718 24770\n",
      "+ occup:child             6    24709 24771\n",
      "+ mariStat:LcapitalLoss   3    24715 24771\n",
      "+ occup:LcapitalGain      6    24711 24773\n",
      "+ mariStat:child          3    24718 24774\n",
      "- child                   1    24763 24811\n",
      "- mariStat:age            3    24767 24811\n",
      "- mariStat:hoursWeek      3    24792 24836\n",
      "- mariStat:LcapitalGain   3    24794 24838\n",
      "- LcapitalLoss            1    25019 25067\n",
      "- occup                   6    25331 25369\n",
      "- educNum                 1    26003 26051\n",
      "\n",
      "Step:  AIC=24731.73\n",
      "income ~ mariStat + educNum + LcapitalGain + occup + hoursWeek + \n",
      "    age + LcapitalLoss + child + mariStat:LcapitalGain + mariStat:hoursWeek + \n",
      "    mariStat:age + mariStat:occup\n",
      "\n",
      "                         Df Deviance   AIC\n",
      "+ age:hoursWeek           1    24624 24712\n",
      "+ educNum:occup           6    24615 24713\n",
      "+ origEthn                1    24633 24721\n",
      "+ occup:hoursWeek         6    24625 24723\n",
      "+ sex                     1    24636 24724\n",
      "+ age:occup               6    24626 24724\n",
      "+ age:educNum             1    24639 24727\n",
      "+ age:child               1    24640 24728\n",
      "+ age:LcapitalLoss        1    24641 24729\n",
      "+ age:LcapitalGain        1    24643 24731\n",
      "+ LcapitalGain:child      1    24643 24731\n",
      "+ occup:LcapitalLoss      6    24633 24731\n",
      "<none>                         24646 24732\n",
      "+ educNum:LcapitalGain    1    24644 24732\n",
      "+ LcapitalLoss:child      1    24644 24732\n",
      "+ educNum:hoursWeek       1    24645 24733\n",
      "+ educNum:LcapitalLoss    1    24645 24733\n",
      "+ educNum:child           1    24645 24733\n",
      "+ hoursWeek:child         1    24645 24733\n",
      "+ hoursWeek:LcapitalLoss  1    24646 24734\n",
      "+ hoursWeek:LcapitalGain  1    24646 24734\n",
      "+ occup:child             6    24636 24734\n",
      "+ mariStat:LcapitalLoss   3    24642 24734\n",
      "+ educNum:mariStat        3    24643 24735\n",
      "+ mariStat:child          3    24646 24738\n",
      "+ occup:LcapitalGain      6    24640 24738\n",
      "- mariStat:occup         18    24718 24768\n",
      "- child                   1    24688 24772\n",
      "- mariStat:age            3    24696 24776\n",
      "- mariStat:hoursWeek      3    24706 24786\n",
      "- mariStat:LcapitalGain   3    24724 24804\n",
      "- LcapitalLoss            1    24945 25029\n",
      "- educNum                 1    25924 26008\n",
      "\n",
      "Step:  AIC=24712.16\n",
      "income ~ mariStat + educNum + LcapitalGain + occup + hoursWeek + \n",
      "    age + LcapitalLoss + child + mariStat:LcapitalGain + mariStat:hoursWeek + \n",
      "    mariStat:age + mariStat:occup + hoursWeek:age\n",
      "\n",
      "                         Df Deviance   AIC\n",
      "+ educNum:occup           6    24594 24694\n",
      "+ origEthn                1    24610 24700\n",
      "+ sex                     1    24612 24702\n",
      "+ occup:hoursWeek         6    24605 24705\n",
      "+ age:occup               6    24606 24706\n",
      "+ age:educNum             1    24618 24708\n",
      "+ age:child               1    24618 24708\n",
      "+ age:LcapitalLoss        1    24619 24709\n",
      "+ LcapitalGain:child      1    24621 24711\n",
      "+ age:LcapitalGain        1    24621 24711\n",
      "+ occup:LcapitalLoss      6    24612 24712\n",
      "<none>                         24624 24712\n",
      "+ educNum:LcapitalGain    1    24623 24713\n",
      "+ LcapitalLoss:child      1    24623 24713\n",
      "+ educNum:LcapitalLoss    1    24623 24713\n",
      "+ educNum:child           1    24624 24714\n",
      "+ educNum:hoursWeek       1    24624 24714\n",
      "+ hoursWeek:LcapitalLoss  1    24624 24714\n",
      "+ hoursWeek:child         1    24624 24714\n",
      "+ hoursWeek:LcapitalGain  1    24624 24714\n",
      "+ occup:child             6    24615 24715\n",
      "+ mariStat:LcapitalLoss   3    24621 24715\n",
      "+ educNum:mariStat        3    24621 24715\n",
      "+ mariStat:child          3    24624 24718\n",
      "+ occup:LcapitalGain      6    24619 24719\n",
      "- hoursWeek:age           1    24646 24732\n",
      "- mariStat:occup         18    24696 24748\n",
      "- mariStat:age            3    24671 24753\n",
      "- child                   1    24668 24754\n",
      "- mariStat:hoursWeek      3    24688 24770\n",
      "- mariStat:LcapitalGain   3    24703 24785\n",
      "- LcapitalLoss            1    24921 25007\n",
      "- educNum                 1    25904 25990\n",
      "\n",
      "Step:  AIC=24693.76\n",
      "income ~ mariStat + educNum + LcapitalGain + occup + hoursWeek + \n",
      "    age + LcapitalLoss + child + mariStat:LcapitalGain + mariStat:hoursWeek + \n",
      "    mariStat:age + mariStat:occup + hoursWeek:age + educNum:occup\n",
      "\n",
      "                         Df Deviance   AIC\n",
      "+ origEthn                1    24580 24682\n",
      "+ sex                     1    24582 24684\n",
      "+ occup:hoursWeek         6    24575 24687\n",
      "+ age:child               1    24588 24690\n",
      "+ age:educNum             1    24588 24690\n",
      "+ age:occup               6    24578 24690\n",
      "+ age:LcapitalLoss        1    24589 24691\n",
      "+ LcapitalGain:child      1    24591 24693\n",
      "+ age:LcapitalGain        1    24591 24693\n",
      "+ occup:LcapitalLoss      6    24581 24693\n",
      "<none>                         24594 24694\n",
      "+ educNum:LcapitalGain    1    24592 24694\n",
      "+ LcapitalLoss:child      1    24593 24695\n",
      "+ educNum:child           1    24593 24695\n",
      "+ educNum:LcapitalLoss    1    24593 24695\n",
      "+ educNum:hoursWeek       1    24593 24695\n",
      "+ hoursWeek:child         1    24594 24696\n",
      "+ hoursWeek:LcapitalLoss  1    24594 24696\n",
      "+ hoursWeek:LcapitalGain  1    24594 24696\n",
      "+ mariStat:LcapitalLoss   3    24590 24696\n",
      "+ occup:child             6    24584 24696\n",
      "+ educNum:mariStat        3    24592 24698\n",
      "+ mariStat:child          3    24594 24700\n",
      "+ occup:LcapitalGain      6    24589 24701\n",
      "- educNum:occup           6    24624 24712\n",
      "- hoursWeek:age           1    24615 24713\n",
      "- mariStat:occup         18    24664 24728\n",
      "- mariStat:age            3    24640 24734\n",
      "- child                   1    24637 24735\n",
      "- mariStat:hoursWeek      3    24657 24751\n",
      "- mariStat:LcapitalGain   3    24672 24766\n",
      "- LcapitalLoss            1    24888 24986\n",
      "\n",
      "Step:  AIC=24681.61\n",
      "income ~ mariStat + educNum + LcapitalGain + occup + hoursWeek + \n",
      "    age + LcapitalLoss + child + origEthn + mariStat:LcapitalGain + \n",
      "    mariStat:hoursWeek + mariStat:age + mariStat:occup + hoursWeek:age + \n",
      "    educNum:occup\n",
      "\n",
      "                         Df Deviance   AIC\n",
      "+ sex                     1    24569 24673\n",
      "+ occup:hoursWeek         6    24560 24674\n",
      "+ age:child               1    24574 24678\n",
      "+ age:educNum             1    24574 24678\n",
      "+ age:occup               6    24564 24678\n",
      "+ age:LcapitalLoss        1    24575 24679\n",
      "+ origEthn:LcapitalGain   1    24576 24680\n",
      "+ LcapitalGain:child      1    24577 24681\n",
      "+ age:LcapitalGain        1    24577 24681\n",
      "+ occup:LcapitalLoss      6    24567 24681\n",
      "+ origEthn:hoursWeek      1    24578 24682\n",
      "<none>                         24580 24682\n",
      "+ age:origEthn            1    24578 24682\n",
      "+ educNum:LcapitalGain    1    24578 24682\n",
      "+ LcapitalLoss:child      1    24578 24682\n",
      "+ educNum:LcapitalLoss    1    24579 24683\n",
      "+ educNum:child           1    24579 24683\n",
      "+ educNum:hoursWeek       1    24579 24683\n",
      "+ origEthn:child          1    24579 24683\n",
      "+ hoursWeek:LcapitalLoss  1    24580 24684\n",
      "+ hoursWeek:child         1    24580 24684\n",
      "+ educNum:origEthn        1    24580 24684\n",
      "+ origEthn:LcapitalLoss   1    24580 24684\n",
      "+ hoursWeek:LcapitalGain  1    24580 24684\n",
      "+ mariStat:LcapitalLoss   3    24576 24684\n",
      "+ occup:child             6    24570 24684\n",
      "+ mariStat:origEthn       3    24578 24686\n",
      "+ educNum:mariStat        3    24578 24686\n",
      "+ mariStat:child          3    24580 24688\n",
      "+ occup:LcapitalGain      6    24575 24689\n",
      "+ occup:origEthn          6    24575 24689\n",
      "- origEthn                1    24594 24694\n",
      "- educNum:occup           6    24610 24700\n",
      "- hoursWeek:age           1    24602 24702\n",
      "- mariStat:occup         18    24650 24716\n",
      "- child                   1    24622 24722\n",
      "- mariStat:age            3    24627 24723\n",
      "- mariStat:hoursWeek      3    24643 24739\n",
      "- mariStat:LcapitalGain   3    24659 24755\n",
      "- LcapitalLoss            1    24874 24974\n",
      "\n",
      "Step:  AIC=24673.43\n",
      "income ~ mariStat + educNum + LcapitalGain + occup + hoursWeek + \n",
      "    age + LcapitalLoss + child + origEthn + sex + mariStat:LcapitalGain + \n",
      "    mariStat:hoursWeek + mariStat:age + mariStat:occup + hoursWeek:age + \n",
      "    educNum:occup\n",
      "\n",
      "                         Df Deviance   AIC\n",
      "+ mariStat:sex            3    24446 24556\n",
      "+ sex:hoursWeek           1    24555 24661\n",
      "+ occup:hoursWeek         6    24551 24667\n",
      "+ age:child               1    24563 24669\n",
      "+ age:educNum             1    24563 24669\n",
      "+ age:occup               6    24553 24669\n",
      "+ age:LcapitalLoss        1    24564 24670\n",
      "+ occup:sex               6    24555 24671\n",
      "+ origEthn:LcapitalGain   1    24566 24672\n",
      "+ LcapitalGain:child      1    24566 24672\n",
      "+ age:LcapitalGain        1    24567 24673\n",
      "+ occup:LcapitalLoss      6    24557 24673\n",
      "+ origEthn:hoursWeek      1    24567 24673\n",
      "<none>                         24569 24673\n",
      "+ age:sex                 1    24568 24674\n",
      "+ age:origEthn            1    24568 24674\n",
      "+ educNum:LcapitalGain    1    24568 24674\n",
      "+ LcapitalLoss:child      1    24568 24674\n",
      "+ educNum:child           1    24569 24675\n",
      "+ educNum:LcapitalLoss    1    24569 24675\n",
      "+ educNum:hoursWeek       1    24569 24675\n",
      "+ sex:LcapitalGain        1    24569 24675\n",
      "+ origEthn:child          1    24569 24675\n",
      "+ sex:child               1    24569 24675\n",
      "+ origEthn:sex            1    24569 24675\n",
      "+ hoursWeek:LcapitalLoss  1    24569 24675\n",
      "+ hoursWeek:child         1    24569 24675\n",
      "+ sex:LcapitalLoss        1    24569 24675\n",
      "+ educNum:origEthn        1    24569 24675\n",
      "+ educNum:sex             1    24569 24675\n",
      "+ origEthn:LcapitalLoss   1    24569 24675\n",
      "+ hoursWeek:LcapitalGain  1    24569 24675\n",
      "+ mariStat:LcapitalLoss   3    24566 24676\n",
      "+ occup:child             6    24560 24676\n",
      "+ mariStat:origEthn       3    24567 24677\n",
      "+ educNum:mariStat        3    24568 24678\n",
      "+ mariStat:child          3    24569 24679\n",
      "+ occup:LcapitalGain      6    24565 24681\n",
      "+ occup:origEthn          6    24565 24681\n",
      "- sex                     1    24580 24682\n",
      "- origEthn                1    24582 24684\n",
      "- educNum:occup           6    24600 24692\n",
      "- hoursWeek:age           1    24593 24695\n",
      "- mariStat:occup         18    24638 24706\n",
      "- child                   1    24611 24713\n",
      "- mariStat:age            3    24618 24716\n",
      "- mariStat:hoursWeek      3    24632 24730\n",
      "- mariStat:LcapitalGain   3    24647 24745\n",
      "- LcapitalLoss            1    24863 24965\n",
      "\n",
      "Step:  AIC=24555.91\n",
      "income ~ mariStat + educNum + LcapitalGain + occup + hoursWeek + \n",
      "    age + LcapitalLoss + child + origEthn + sex + mariStat:LcapitalGain + \n",
      "    mariStat:hoursWeek + mariStat:age + mariStat:occup + hoursWeek:age + \n",
      "    educNum:occup + mariStat:sex\n",
      "\n",
      "                         Df Deviance   AIC\n",
      "+ occup:hoursWeek         6    24426 24548\n",
      "+ age:educNum             1    24440 24552\n",
      "+ age:child               1    24440 24552\n",
      "+ age:occup               6    24431 24553\n",
      "+ educNum:sex             1    24441 24553\n",
      "+ age:LcapitalLoss        1    24441 24553\n",
      "+ origEthn:LcapitalGain   1    24443 24555\n",
      "+ occup:LcapitalLoss      6    24433 24555\n",
      "+ LcapitalGain:child      1    24443 24555\n",
      "+ age:LcapitalGain        1    24443 24555\n",
      "+ origEthn:hoursWeek      1    24444 24556\n",
      "<none>                         24446 24556\n",
      "+ age:origEthn            1    24444 24556\n",
      "+ sex:hoursWeek           1    24444 24556\n",
      "+ educNum:LcapitalGain    1    24445 24557\n",
      "+ educNum:LcapitalLoss    1    24445 24557\n",
      "+ educNum:child           1    24445 24557\n",
      "+ LcapitalLoss:child      1    24445 24557\n",
      "+ origEthn:child          1    24445 24557\n",
      "+ educNum:hoursWeek       1    24446 24558\n",
      "+ sex:LcapitalGain        1    24446 24558\n",
      "+ origEthn:sex            1    24446 24558\n",
      "+ sex:child               1    24446 24558\n",
      "+ age:sex                 1    24446 24558\n",
      "+ hoursWeek:child         1    24446 24558\n",
      "+ hoursWeek:LcapitalLoss  1    24446 24558\n",
      "+ educNum:origEthn        1    24446 24558\n",
      "+ origEthn:LcapitalLoss   1    24446 24558\n",
      "+ hoursWeek:LcapitalGain  1    24446 24558\n",
      "+ sex:LcapitalLoss        1    24446 24558\n",
      "+ mariStat:LcapitalLoss   3    24442 24558\n",
      "+ occup:child             6    24436 24558\n",
      "+ mariStat:origEthn       3    24444 24560\n",
      "+ occup:sex               6    24439 24561\n",
      "+ mariStat:child          3    24445 24561\n",
      "+ educNum:mariStat        3    24446 24562\n",
      "- mariStat:occup         18    24488 24562\n",
      "+ occup:origEthn          6    24441 24563\n",
      "+ occup:LcapitalGain      6    24442 24564\n",
      "- origEthn                1    24459 24567\n",
      "- educNum:occup           6    24476 24574\n",
      "- hoursWeek:age           1    24466 24574\n",
      "- mariStat:hoursWeek      3    24490 24594\n",
      "- mariStat:age            3    24494 24598\n",
      "- child                   1    24493 24601\n",
      "- mariStat:LcapitalGain   3    24522 24626\n",
      "- mariStat:sex            3    24569 24673\n",
      "- LcapitalLoss            1    24735 24843\n",
      "\n",
      "Step:  AIC=24548\n",
      "income ~ mariStat + educNum + LcapitalGain + occup + hoursWeek + \n",
      "    age + LcapitalLoss + child + origEthn + sex + mariStat:LcapitalGain + \n",
      "    mariStat:hoursWeek + mariStat:age + mariStat:occup + hoursWeek:age + \n",
      "    educNum:occup + mariStat:sex + occup:hoursWeek\n",
      "\n",
      "                         Df Deviance   AIC\n",
      "+ age:occup               6    24409 24543\n",
      "+ age:educNum             1    24420 24544\n",
      "+ age:child               1    24421 24545\n",
      "+ age:LcapitalLoss        1    24421 24545\n",
      "+ educNum:sex             1    24422 24546\n",
      "+ origEthn:LcapitalGain   1    24422 24546\n",
      "+ LcapitalGain:child      1    24423 24547\n",
      "+ occup:LcapitalLoss      6    24413 24547\n",
      "+ sex:hoursWeek           1    24424 24548\n",
      "+ age:LcapitalGain        1    24424 24548\n",
      "<none>                         24426 24548\n",
      "+ origEthn:hoursWeek      1    24424 24548\n",
      "+ age:origEthn            1    24424 24548\n",
      "+ educNum:LcapitalGain    1    24425 24549\n",
      "+ educNum:child           1    24425 24549\n",
      "+ LcapitalLoss:child      1    24425 24549\n",
      "+ educNum:LcapitalLoss    1    24425 24549\n",
      "+ origEthn:child          1    24426 24550\n",
      "+ origEthn:sex            1    24426 24550\n",
      "+ sex:LcapitalGain        1    24426 24550\n",
      "+ hoursWeek:child         1    24426 24550\n",
      "+ sex:child               1    24426 24550\n",
      "+ educNum:origEthn        1    24426 24550\n",
      "+ hoursWeek:LcapitalLoss  1    24426 24550\n",
      "+ age:sex                 1    24426 24550\n",
      "+ origEthn:LcapitalLoss   1    24426 24550\n",
      "+ educNum:hoursWeek       1    24426 24550\n",
      "+ hoursWeek:LcapitalGain  1    24426 24550\n",
      "+ sex:LcapitalLoss        1    24426 24550\n",
      "+ mariStat:LcapitalLoss   3    24422 24550\n",
      "+ occup:child             6    24416 24550\n",
      "+ mariStat:origEthn       3    24424 24552\n",
      "+ mariStat:child          3    24426 24554\n",
      "+ educNum:mariStat        3    24426 24554\n",
      "+ occup:sex               6    24421 24555\n",
      "+ occup:origEthn          6    24421 24555\n",
      "- mariStat:occup         18    24470 24556\n",
      "- occup:hoursWeek         6    24446 24556\n",
      "+ occup:LcapitalGain      6    24422 24556\n",
      "- origEthn                1    24441 24561\n",
      "- hoursWeek:age           1    24445 24565\n",
      "- educNum:occup           6    24455 24565\n",
      "- mariStat:hoursWeek      3    24468 24584\n",
      "- mariStat:age            3    24474 24590\n",
      "- child                   1    24472 24592\n",
      "- mariStat:LcapitalGain   3    24502 24618\n",
      "- mariStat:sex            3    24551 24667\n",
      "- LcapitalLoss            1    24716 24836\n",
      "\n",
      "Step:  AIC=24543.17\n",
      "income ~ mariStat + educNum + LcapitalGain + occup + hoursWeek + \n",
      "    age + LcapitalLoss + child + origEthn + sex + mariStat:LcapitalGain + \n",
      "    mariStat:hoursWeek + mariStat:age + mariStat:occup + hoursWeek:age + \n",
      "    educNum:occup + mariStat:sex + occup:hoursWeek + occup:age\n",
      "\n",
      "                         Df Deviance   AIC\n",
      "+ age:child               1    24404 24540\n",
      "+ age:LcapitalLoss        1    24405 24541\n",
      "+ educNum:sex             1    24405 24541\n",
      "+ origEthn:LcapitalGain   1    24406 24542\n",
      "+ LcapitalGain:child      1    24406 24542\n",
      "+ age:LcapitalGain        1    24407 24543\n",
      "+ occup:LcapitalLoss      6    24397 24543\n",
      "+ sex:hoursWeek           1    24407 24543\n",
      "+ origEthn:hoursWeek      1    24407 24543\n",
      "<none>                         24409 24543\n",
      "+ age:origEthn            1    24407 24543\n",
      "+ age:educNum             1    24407 24543\n",
      "+ educNum:LcapitalGain    1    24408 24544\n",
      "+ educNum:child           1    24408 24544\n",
      "+ educNum:LcapitalLoss    1    24408 24544\n",
      "+ LcapitalLoss:child      1    24408 24544\n",
      "+ origEthn:child          1    24409 24545\n",
      "+ origEthn:sex            1    24409 24545\n",
      "+ hoursWeek:child         1    24409 24545\n",
      "+ sex:LcapitalGain        1    24409 24545\n",
      "+ educNum:origEthn        1    24409 24545\n",
      "+ sex:child               1    24409 24545\n",
      "+ age:sex                 1    24409 24545\n",
      "+ origEthn:LcapitalLoss   1    24409 24545\n",
      "+ hoursWeek:LcapitalLoss  1    24409 24545\n",
      "+ hoursWeek:LcapitalGain  1    24409 24545\n",
      "+ educNum:hoursWeek       1    24409 24545\n",
      "+ sex:LcapitalLoss        1    24409 24545\n",
      "+ mariStat:LcapitalLoss   3    24405 24545\n",
      "+ occup:child             6    24399 24545\n",
      "+ mariStat:origEthn       3    24407 24547\n",
      "- occup:age               6    24426 24548\n",
      "+ mariStat:child          3    24408 24548\n",
      "+ educNum:mariStat        3    24409 24549\n",
      "+ occup:sex               6    24404 24550\n",
      "+ occup:origEthn          6    24405 24551\n",
      "+ occup:LcapitalGain      6    24405 24551\n",
      "- mariStat:occup         18    24455 24553\n",
      "- occup:hoursWeek         6    24431 24553\n",
      "- origEthn                1    24424 24556\n",
      "- educNum:occup           6    24436 24558\n",
      "- hoursWeek:age           1    24427 24559\n",
      "- mariStat:hoursWeek      3    24452 24580\n",
      "- child                   1    24454 24586\n",
      "- mariStat:age            3    24463 24591\n",
      "- mariStat:LcapitalGain   3    24484 24612\n",
      "- mariStat:sex            3    24533 24661\n",
      "- LcapitalLoss            1    24701 24833\n",
      "\n",
      "Step:  AIC=24540.51\n",
      "income ~ mariStat + educNum + LcapitalGain + occup + hoursWeek + \n",
      "    age + LcapitalLoss + child + origEthn + sex + mariStat:LcapitalGain + \n",
      "    mariStat:hoursWeek + mariStat:age + mariStat:occup + hoursWeek:age + \n",
      "    educNum:occup + mariStat:sex + occup:hoursWeek + occup:age + \n",
      "    age:child\n",
      "\n",
      "                         Df Deviance   AIC\n",
      "+ age:LcapitalLoss        1    24400 24538\n",
      "+ educNum:sex             1    24400 24538\n",
      "+ origEthn:LcapitalGain   1    24401 24539\n",
      "+ LcapitalGain:child      1    24402 24540\n",
      "+ age:LcapitalGain        1    24402 24540\n",
      "+ occup:LcapitalLoss      6    24392 24540\n",
      "+ sex:hoursWeek           1    24402 24540\n",
      "+ origEthn:hoursWeek      1    24402 24540\n",
      "<none>                         24404 24540\n",
      "+ age:origEthn            1    24403 24541\n",
      "+ age:educNum             1    24403 24541\n",
      "+ educNum:LcapitalGain    1    24403 24541\n",
      "+ educNum:child           1    24404 24542\n",
      "+ educNum:LcapitalLoss    1    24404 24542\n",
      "+ LcapitalLoss:child      1    24404 24542\n",
      "+ hoursWeek:child         1    24404 24542\n",
      "+ origEthn:child          1    24404 24542\n",
      "+ origEthn:sex            1    24404 24542\n",
      "+ sex:LcapitalGain        1    24404 24542\n",
      "+ educNum:origEthn        1    24404 24542\n",
      "+ sex:child               1    24404 24542\n",
      "+ age:sex                 1    24404 24542\n",
      "+ origEthn:LcapitalLoss   1    24404 24542\n",
      "+ hoursWeek:LcapitalLoss  1    24404 24542\n",
      "+ hoursWeek:LcapitalGain  1    24404 24542\n",
      "+ educNum:hoursWeek       1    24404 24542\n",
      "+ sex:LcapitalLoss        1    24404 24542\n",
      "+ mariStat:LcapitalLoss   3    24401 24543\n",
      "+ occup:child             6    24395 24543\n",
      "- age:child               1    24409 24543\n",
      "+ mariStat:origEthn       3    24403 24545\n",
      "- occup:age               6    24421 24545\n",
      "+ mariStat:child          3    24403 24545\n",
      "+ educNum:mariStat        3    24404 24546\n",
      "+ occup:sex               6    24400 24548\n",
      "+ occup:origEthn          6    24400 24548\n",
      "+ occup:LcapitalGain      6    24401 24549\n",
      "- occup:hoursWeek         6    24426 24550\n",
      "- mariStat:occup         18    24450 24550\n",
      "- origEthn                1    24420 24554\n",
      "- educNum:occup           6    24432 24556\n",
      "- hoursWeek:age           1    24423 24557\n",
      "- mariStat:hoursWeek      3    24446 24576\n",
      "- mariStat:age            3    24448 24578\n",
      "- mariStat:LcapitalGain   3    24479 24609\n",
      "- mariStat:sex            3    24528 24658\n",
      "- LcapitalLoss            1    24696 24830\n",
      "\n",
      "Step:  AIC=24538.06\n",
      "income ~ mariStat + educNum + LcapitalGain + occup + hoursWeek + \n",
      "    age + LcapitalLoss + child + origEthn + sex + mariStat:LcapitalGain + \n",
      "    mariStat:hoursWeek + mariStat:age + mariStat:occup + hoursWeek:age + \n",
      "    educNum:occup + mariStat:sex + occup:hoursWeek + occup:age + \n",
      "    age:child + age:LcapitalLoss\n",
      "\n",
      "                         Df Deviance   AIC\n",
      "+ educNum:sex             1    24396 24536\n",
      "+ origEthn:LcapitalGain   1    24396 24536\n",
      "+ age:LcapitalGain        1    24397 24537\n",
      "+ LcapitalGain:child      1    24397 24537\n",
      "+ occup:LcapitalLoss      6    24388 24538\n",
      "+ sex:hoursWeek           1    24398 24538\n",
      "+ origEthn:hoursWeek      1    24398 24538\n",
      "<none>                         24400 24538\n",
      "+ age:origEthn            1    24398 24538\n",
      "+ age:educNum             1    24398 24538\n",
      "+ educNum:LcapitalGain    1    24399 24539\n",
      "+ educNum:child           1    24399 24539\n",
      "+ educNum:LcapitalLoss    1    24400 24540\n",
      "+ hoursWeek:child         1    24400 24540\n",
      "+ origEthn:child          1    24400 24540\n",
      "+ origEthn:sex            1    24400 24540\n",
      "+ LcapitalLoss:child      1    24400 24540\n",
      "+ sex:LcapitalGain        1    24400 24540\n",
      "+ hoursWeek:LcapitalLoss  1    24400 24540\n",
      "+ educNum:origEthn        1    24400 24540\n",
      "+ sex:child               1    24400 24540\n",
      "+ age:sex                 1    24400 24540\n",
      "+ mariStat:LcapitalLoss   3    24396 24540\n",
      "+ origEthn:LcapitalLoss   1    24400 24540\n",
      "+ hoursWeek:LcapitalGain  1    24400 24540\n",
      "+ sex:LcapitalLoss        1    24400 24540\n",
      "+ educNum:hoursWeek       1    24400 24540\n",
      "+ occup:child             6    24390 24540\n",
      "- age:LcapitalLoss        1    24404 24540\n",
      "- age:child               1    24405 24541\n",
      "- occup:age               6    24416 24542\n",
      "+ mariStat:origEthn       3    24398 24542\n",
      "+ mariStat:child          3    24399 24543\n",
      "+ educNum:mariStat        3    24400 24544\n",
      "+ occup:sex               6    24395 24545\n",
      "+ occup:origEthn          6    24396 24546\n",
      "+ occup:LcapitalGain      6    24396 24546\n",
      "- occup:hoursWeek         6    24421 24547\n",
      "- mariStat:occup         18    24446 24548\n",
      "- origEthn                1    24415 24551\n",
      "- educNum:occup           6    24427 24553\n",
      "- hoursWeek:age           1    24419 24555\n",
      "- mariStat:hoursWeek      3    24442 24574\n",
      "- mariStat:age            3    24444 24576\n",
      "- mariStat:LcapitalGain   3    24475 24607\n",
      "- mariStat:sex            3    24523 24655\n",
      "\n",
      "Step:  AIC=24535.85\n",
      "income ~ mariStat + educNum + LcapitalGain + occup + hoursWeek + \n",
      "    age + LcapitalLoss + child + origEthn + sex + mariStat:LcapitalGain + \n",
      "    mariStat:hoursWeek + mariStat:age + mariStat:occup + hoursWeek:age + \n",
      "    educNum:occup + mariStat:sex + occup:hoursWeek + occup:age + \n",
      "    age:child + age:LcapitalLoss + educNum:sex\n",
      "\n",
      "                         Df Deviance   AIC\n",
      "+ origEthn:LcapitalGain   1    24392 24534\n",
      "+ age:LcapitalGain        1    24392 24534\n",
      "+ LcapitalGain:child      1    24393 24535\n",
      "+ sex:hoursWeek           1    24393 24535\n",
      "+ occup:LcapitalLoss      6    24384 24536\n",
      "+ age:origEthn            1    24394 24536\n",
      "<none>                         24396 24536\n",
      "+ origEthn:hoursWeek      1    24394 24536\n",
      "+ age:educNum             1    24394 24536\n",
      "+ educNum:LcapitalGain    1    24395 24537\n",
      "+ educNum:child           1    24395 24537\n",
      "+ educNum:LcapitalLoss    1    24395 24537\n",
      "+ hoursWeek:child         1    24395 24537\n",
      "+ origEthn:child          1    24395 24537\n",
      "+ sex:LcapitalGain        1    24395 24537\n",
      "+ LcapitalLoss:child      1    24396 24538\n",
      "+ educNum:origEthn        1    24396 24538\n",
      "+ origEthn:sex            1    24396 24538\n",
      "+ mariStat:LcapitalLoss   3    24392 24538\n",
      "+ hoursWeek:LcapitalLoss  1    24396 24538\n",
      "+ sex:child               1    24396 24538\n",
      "+ age:sex                 1    24396 24538\n",
      "+ origEthn:LcapitalLoss   1    24396 24538\n",
      "+ sex:LcapitalLoss        1    24396 24538\n",
      "+ hoursWeek:LcapitalGain  1    24396 24538\n",
      "+ educNum:hoursWeek       1    24396 24538\n",
      "- educNum:sex             1    24400 24538\n",
      "+ occup:child             6    24386 24538\n",
      "- age:child               1    24400 24538\n",
      "- age:LcapitalLoss        1    24400 24538\n",
      "- occup:age               6    24412 24540\n",
      "+ mariStat:origEthn       3    24394 24540\n",
      "+ mariStat:child          3    24394 24540\n",
      "+ educNum:mariStat        3    24396 24542\n",
      "- mariStat:occup         18    24438 24542\n",
      "+ occup:origEthn          6    24391 24543\n",
      "+ occup:sex               6    24392 24544\n",
      "+ occup:LcapitalGain      6    24392 24544\n",
      "- occup:hoursWeek         6    24416 24544\n",
      "- origEthn                1    24410 24548\n",
      "- educNum:occup           6    24421 24549\n",
      "- hoursWeek:age           1    24415 24553\n",
      "- mariStat:hoursWeek      3    24436 24570\n",
      "- mariStat:age            3    24440 24574\n",
      "- mariStat:LcapitalGain   3    24471 24605\n",
      "- mariStat:sex            3    24523 24657\n",
      "\n",
      "Step:  AIC=24534.16\n",
      "income ~ mariStat + educNum + LcapitalGain + occup + hoursWeek + \n",
      "    age + LcapitalLoss + child + origEthn + sex + mariStat:LcapitalGain + \n",
      "    mariStat:hoursWeek + mariStat:age + mariStat:occup + hoursWeek:age + \n",
      "    educNum:occup + mariStat:sex + occup:hoursWeek + occup:age + \n",
      "    age:child + age:LcapitalLoss + educNum:sex + LcapitalGain:origEthn\n",
      "\n",
      "                         Df Deviance   AIC\n",
      "+ age:LcapitalGain        1    24389 24533\n",
      "+ LcapitalGain:child      1    24389 24533\n",
      "+ sex:hoursWeek           1    24390 24534\n",
      "+ occup:LcapitalLoss      6    24380 24534\n",
      "<none>                         24392 24534\n",
      "+ age:origEthn            1    24390 24534\n",
      "+ origEthn:hoursWeek      1    24390 24534\n",
      "+ age:educNum             1    24391 24535\n",
      "+ educNum:child           1    24391 24535\n",
      "+ educNum:LcapitalGain    1    24391 24535\n",
      "+ origEthn:child          1    24392 24536\n",
      "+ educNum:LcapitalLoss    1    24392 24536\n",
      "+ hoursWeek:child         1    24392 24536\n",
      "+ LcapitalLoss:child      1    24392 24536\n",
      "+ origEthn:sex            1    24392 24536\n",
      "+ sex:LcapitalGain        1    24392 24536\n",
      "- LcapitalGain:origEthn   1    24396 24536\n",
      "+ mariStat:LcapitalLoss   3    24388 24536\n",
      "+ hoursWeek:LcapitalLoss  1    24392 24536\n",
      "+ sex:child               1    24392 24536\n",
      "+ origEthn:LcapitalLoss   1    24392 24536\n",
      "+ educNum:origEthn        1    24392 24536\n",
      "+ age:sex                 1    24392 24536\n",
      "+ sex:LcapitalLoss        1    24392 24536\n",
      "+ hoursWeek:LcapitalGain  1    24392 24536\n",
      "+ educNum:hoursWeek       1    24392 24536\n",
      "- educNum:sex             1    24396 24536\n",
      "+ occup:child             6    24383 24537\n",
      "- age:LcapitalLoss        1    24397 24537\n",
      "- age:child               1    24397 24537\n",
      "- occup:age               6    24408 24538\n",
      "+ mariStat:origEthn       3    24390 24538\n",
      "+ mariStat:child          3    24391 24539\n",
      "+ educNum:mariStat        3    24392 24540\n",
      "- mariStat:occup         18    24434 24540\n",
      "+ occup:origEthn          6    24388 24542\n",
      "+ occup:sex               6    24388 24542\n",
      "+ occup:LcapitalGain      6    24388 24542\n",
      "- occup:hoursWeek         6    24413 24543\n",
      "- educNum:occup           6    24417 24547\n",
      "- hoursWeek:age           1    24411 24551\n",
      "- mariStat:hoursWeek      3    24432 24568\n",
      "- mariStat:age            3    24436 24572\n",
      "- mariStat:LcapitalGain   3    24464 24600\n",
      "- mariStat:sex            3    24520 24656\n",
      "\n",
      "Step:  AIC=24532.77\n",
      "income ~ mariStat + educNum + LcapitalGain + occup + hoursWeek + \n",
      "    age + LcapitalLoss + child + origEthn + sex + mariStat:LcapitalGain + \n",
      "    mariStat:hoursWeek + mariStat:age + mariStat:occup + hoursWeek:age + \n",
      "    educNum:occup + mariStat:sex + occup:hoursWeek + occup:age + \n",
      "    age:child + age:LcapitalLoss + educNum:sex + LcapitalGain:origEthn + \n",
      "    LcapitalGain:age\n",
      "\n",
      "                         Df Deviance   AIC\n",
      "+ sex:hoursWeek           1    24386 24532\n",
      "+ LcapitalGain:child      1    24386 24532\n",
      "+ occup:LcapitalLoss      6    24376 24532\n",
      "<none>                         24389 24533\n",
      "+ origEthn:hoursWeek      1    24387 24533\n",
      "+ age:origEthn            1    24387 24533\n",
      "+ age:educNum             1    24387 24533\n",
      "+ educNum:LcapitalGain    1    24388 24534\n",
      "+ educNum:child           1    24388 24534\n",
      "- LcapitalGain:age        1    24392 24534\n",
      "+ origEthn:child          1    24388 24534\n",
      "+ educNum:LcapitalLoss    1    24388 24534\n",
      "+ hoursWeek:child         1    24388 24534\n",
      "- LcapitalGain:origEthn   1    24392 24534\n",
      "+ LcapitalLoss:child      1    24388 24534\n",
      "+ origEthn:sex            1    24388 24534\n",
      "+ mariStat:LcapitalLoss   3    24384 24534\n",
      "+ sex:LcapitalGain        1    24388 24534\n",
      "+ hoursWeek:LcapitalLoss  1    24389 24535\n",
      "+ sex:child               1    24389 24535\n",
      "+ educNum:origEthn        1    24389 24535\n",
      "+ origEthn:LcapitalLoss   1    24389 24535\n",
      "+ age:sex                 1    24389 24535\n",
      "+ sex:LcapitalLoss        1    24389 24535\n",
      "+ hoursWeek:LcapitalGain  1    24389 24535\n",
      "+ educNum:hoursWeek       1    24389 24535\n",
      "- educNum:sex             1    24393 24535\n",
      "+ occup:child             6    24379 24535\n",
      "- age:child               1    24394 24536\n",
      "- age:LcapitalLoss        1    24394 24536\n",
      "+ mariStat:origEthn       3    24387 24537\n",
      "- occup:age               6    24405 24537\n",
      "+ mariStat:child          3    24387 24537\n",
      "- mariStat:occup         18    24430 24538\n",
      "+ educNum:mariStat        3    24389 24539\n",
      "+ occup:origEthn          6    24384 24540\n",
      "+ occup:sex               6    24384 24540\n",
      "+ occup:LcapitalGain      6    24385 24541\n",
      "- occup:hoursWeek         6    24409 24541\n",
      "- educNum:occup           6    24414 24546\n",
      "- hoursWeek:age           1    24407 24549\n",
      "- mariStat:hoursWeek      3    24429 24567\n",
      "- mariStat:age            3    24435 24573\n",
      "- mariStat:LcapitalGain   3    24452 24590\n",
      "- mariStat:sex            3    24516 24654\n",
      "\n",
      "Step:  AIC=24532.38\n",
      "income ~ mariStat + educNum + LcapitalGain + occup + hoursWeek + \n",
      "    age + LcapitalLoss + child + origEthn + sex + mariStat:LcapitalGain + \n",
      "    mariStat:hoursWeek + mariStat:age + mariStat:occup + hoursWeek:age + \n",
      "    educNum:occup + mariStat:sex + occup:hoursWeek + occup:age + \n",
      "    age:child + age:LcapitalLoss + educNum:sex + LcapitalGain:origEthn + \n",
      "    LcapitalGain:age + hoursWeek:sex\n",
      "\n",
      "                         Df Deviance   AIC\n",
      "+ occup:LcapitalLoss      6    24374 24532\n",
      "+ LcapitalGain:child      1    24384 24532\n",
      "+ origEthn:hoursWeek      1    24384 24532\n",
      "<none>                         24386 24532\n",
      "+ age:origEthn            1    24384 24532\n",
      "+ age:educNum             1    24385 24533\n",
      "- hoursWeek:sex           1    24389 24533\n",
      "+ educNum:LcapitalGain    1    24385 24533\n",
      "+ educNum:child           1    24385 24533\n",
      "- LcapitalGain:age        1    24390 24534\n",
      "+ origEthn:child          1    24386 24534\n",
      "+ educNum:LcapitalLoss    1    24386 24534\n",
      "+ hoursWeek:child         1    24386 24534\n",
      "- LcapitalGain:origEthn   1    24390 24534\n",
      "+ LcapitalLoss:child      1    24386 24534\n",
      "+ origEthn:sex            1    24386 24534\n",
      "+ mariStat:LcapitalLoss   3    24382 24534\n",
      "+ sex:LcapitalGain        1    24386 24534\n",
      "+ hoursWeek:LcapitalLoss  1    24386 24534\n",
      "+ educNum:origEthn        1    24386 24534\n",
      "+ origEthn:LcapitalLoss   1    24386 24534\n",
      "+ sex:child               1    24386 24534\n",
      "+ age:sex                 1    24386 24534\n",
      "+ sex:LcapitalLoss        1    24386 24534\n",
      "+ hoursWeek:LcapitalGain  1    24386 24534\n",
      "+ educNum:hoursWeek       1    24386 24534\n",
      "+ occup:child             6    24377 24535\n",
      "- educNum:sex             1    24391 24535\n",
      "- age:child               1    24391 24535\n",
      "- age:LcapitalLoss        1    24392 24536\n",
      "+ mariStat:origEthn       3    24384 24536\n",
      "- occup:age               6    24403 24537\n",
      "+ mariStat:child          3    24385 24537\n",
      "+ educNum:mariStat        3    24386 24538\n",
      "- mariStat:occup         18    24428 24538\n",
      "+ occup:origEthn          6    24382 24540\n",
      "+ occup:sex               6    24382 24540\n",
      "+ occup:LcapitalGain      6    24382 24540\n",
      "- occup:hoursWeek         6    24408 24542\n",
      "- educNum:occup           6    24412 24546\n",
      "- hoursWeek:age           1    24404 24548\n",
      "- mariStat:hoursWeek      3    24429 24569\n",
      "- mariStat:age            3    24432 24572\n",
      "- mariStat:LcapitalGain   3    24450 24590\n",
      "- mariStat:sex            3    24500 24640\n",
      "\n",
      "Step:  AIC=24532\n",
      "income ~ mariStat + educNum + LcapitalGain + occup + hoursWeek + \n",
      "    age + LcapitalLoss + child + origEthn + sex + mariStat:LcapitalGain + \n",
      "    mariStat:hoursWeek + mariStat:age + mariStat:occup + hoursWeek:age + \n",
      "    educNum:occup + mariStat:sex + occup:hoursWeek + occup:age + \n",
      "    age:child + age:LcapitalLoss + educNum:sex + LcapitalGain:origEthn + \n",
      "    LcapitalGain:age + hoursWeek:sex + occup:LcapitalLoss\n",
      "\n",
      "                         Df Deviance   AIC\n",
      "+ LcapitalGain:child      1    24372 24532\n",
      "+ mariStat:LcapitalLoss   3    24368 24532\n",
      "<none>                         24374 24532\n",
      "+ origEthn:hoursWeek      1    24372 24532\n",
      "+ age:origEthn            1    24372 24532\n",
      "+ age:educNum             1    24372 24532\n",
      "- occup:LcapitalLoss      6    24386 24532\n",
      "- hoursWeek:sex           1    24376 24532\n",
      "+ educNum:LcapitalGain    1    24373 24533\n",
      "+ educNum:child           1    24373 24533\n",
      "- LcapitalGain:age        1    24377 24533\n",
      "+ origEthn:child          1    24374 24534\n",
      "+ hoursWeek:child         1    24374 24534\n",
      "+ hoursWeek:LcapitalLoss  1    24374 24534\n",
      "- LcapitalGain:origEthn   1    24378 24534\n",
      "+ origEthn:sex            1    24374 24534\n",
      "+ LcapitalLoss:child      1    24374 24534\n",
      "+ sex:LcapitalGain        1    24374 24534\n",
      "+ educNum:origEthn        1    24374 24534\n",
      "+ origEthn:LcapitalLoss   1    24374 24534\n",
      "+ educNum:LcapitalLoss    1    24374 24534\n",
      "+ sex:child               1    24374 24534\n",
      "+ age:sex                 1    24374 24534\n",
      "+ sex:LcapitalLoss        1    24374 24534\n",
      "+ hoursWeek:LcapitalGain  1    24374 24534\n",
      "+ educNum:hoursWeek       1    24374 24534\n",
      "+ occup:child             6    24364 24534\n",
      "- educNum:sex             1    24378 24534\n",
      "- age:child               1    24379 24535\n",
      "- age:LcapitalLoss        1    24379 24535\n",
      "- occup:age               6    24390 24536\n",
      "+ mariStat:origEthn       3    24372 24536\n",
      "+ mariStat:child          3    24372 24536\n",
      "- mariStat:occup         18    24416 24538\n",
      "+ educNum:mariStat        3    24374 24538\n",
      "+ occup:origEthn          6    24370 24540\n",
      "+ occup:sex               6    24370 24540\n",
      "+ occup:LcapitalGain      6    24370 24540\n",
      "- occup:hoursWeek         6    24395 24541\n",
      "- educNum:occup           6    24399 24545\n",
      "- hoursWeek:age           1    24392 24548\n",
      "- mariStat:hoursWeek      3    24416 24568\n",
      "- mariStat:age            3    24420 24572\n",
      "- mariStat:LcapitalGain   3    24438 24590\n",
      "- mariStat:sex            3    24488 24640\n",
      "\n",
      "Step:  AIC=24531.67\n",
      "income ~ mariStat + educNum + LcapitalGain + occup + hoursWeek + \n",
      "    age + LcapitalLoss + child + origEthn + sex + mariStat:LcapitalGain + \n",
      "    mariStat:hoursWeek + mariStat:age + mariStat:occup + hoursWeek:age + \n",
      "    educNum:occup + mariStat:sex + occup:hoursWeek + occup:age + \n",
      "    age:child + age:LcapitalLoss + educNum:sex + LcapitalGain:origEthn + \n",
      "    LcapitalGain:age + hoursWeek:sex + occup:LcapitalLoss + LcapitalGain:child\n",
      "\n",
      "                         Df Deviance   AIC\n",
      "+ mariStat:LcapitalLoss   3    24365 24531\n",
      "<none>                         24372 24532\n",
      "+ origEthn:hoursWeek      1    24370 24532\n",
      "+ age:origEthn            1    24370 24532\n",
      "- LcapitalGain:child      1    24374 24532\n",
      "- occup:LcapitalLoss      6    24384 24532\n",
      "+ age:educNum             1    24370 24532\n",
      "- hoursWeek:sex           1    24374 24532\n",
      "+ educNum:child           1    24370 24532\n",
      "+ educNum:LcapitalGain    1    24370 24532\n",
      "- LcapitalGain:age        1    24375 24533\n",
      "+ origEthn:child          1    24371 24533\n",
      "+ LcapitalLoss:child      1    24371 24533\n",
      "+ hoursWeek:LcapitalLoss  1    24371 24533\n",
      "- LcapitalGain:origEthn   1    24375 24533\n",
      "+ hoursWeek:child         1    24371 24533\n",
      "+ origEthn:sex            1    24371 24533\n",
      "+ sex:LcapitalGain        1    24372 24534\n",
      "+ educNum:origEthn        1    24372 24534\n",
      "+ origEthn:LcapitalLoss   1    24372 24534\n",
      "+ occup:child             6    24362 24534\n",
      "+ educNum:LcapitalLoss    1    24372 24534\n",
      "+ sex:child               1    24372 24534\n",
      "+ age:sex                 1    24372 24534\n",
      "+ sex:LcapitalLoss        1    24372 24534\n",
      "+ educNum:hoursWeek       1    24372 24534\n",
      "+ hoursWeek:LcapitalGain  1    24372 24534\n",
      "- educNum:sex             1    24376 24534\n",
      "- age:child               1    24376 24534\n",
      "- age:LcapitalLoss        1    24377 24535\n",
      "- occup:age               6    24388 24536\n",
      "+ mariStat:origEthn       3    24370 24536\n",
      "+ mariStat:child          3    24370 24536\n",
      "- mariStat:occup         18    24413 24537\n",
      "+ educNum:mariStat        3    24371 24537\n",
      "+ occup:origEthn          6    24367 24539\n",
      "+ occup:sex               6    24367 24539\n",
      "+ occup:LcapitalGain      6    24368 24540\n",
      "- occup:hoursWeek         6    24393 24541\n",
      "- educNum:occup           6    24397 24545\n",
      "- hoursWeek:age           1    24390 24548\n",
      "- mariStat:hoursWeek      3    24414 24568\n",
      "- mariStat:age            3    24418 24572\n",
      "- mariStat:LcapitalGain   3    24429 24583\n",
      "- mariStat:sex            3    24486 24640\n",
      "\n",
      "Step:  AIC=24531.41\n",
      "income ~ mariStat + educNum + LcapitalGain + occup + hoursWeek + \n",
      "    age + LcapitalLoss + child + origEthn + sex + mariStat:LcapitalGain + \n",
      "    mariStat:hoursWeek + mariStat:age + mariStat:occup + hoursWeek:age + \n",
      "    educNum:occup + mariStat:sex + occup:hoursWeek + occup:age + \n",
      "    age:child + age:LcapitalLoss + educNum:sex + LcapitalGain:origEthn + \n",
      "    LcapitalGain:age + hoursWeek:sex + occup:LcapitalLoss + LcapitalGain:child + \n",
      "    mariStat:LcapitalLoss\n",
      "\n",
      "                         Df Deviance   AIC\n",
      "<none>                         24365 24531\n",
      "+ origEthn:hoursWeek      1    24363 24531\n",
      "+ age:origEthn            1    24364 24532\n",
      "- mariStat:LcapitalLoss   3    24372 24532\n",
      "- LcapitalGain:child      1    24368 24532\n",
      "+ age:educNum             1    24364 24532\n",
      "- hoursWeek:sex           1    24368 24532\n",
      "+ educNum:child           1    24364 24532\n",
      "+ educNum:LcapitalGain    1    24364 24532\n",
      "+ LcapitalLoss:child      1    24364 24532\n",
      "- LcapitalGain:age        1    24368 24532\n",
      "+ educNum:LcapitalLoss    1    24365 24533\n",
      "+ origEthn:child          1    24365 24533\n",
      "- LcapitalGain:origEthn   1    24369 24533\n",
      "+ hoursWeek:child         1    24365 24533\n",
      "+ origEthn:sex            1    24365 24533\n",
      "+ sex:LcapitalLoss        1    24365 24533\n",
      "+ sex:LcapitalGain        1    24365 24533\n",
      "+ hoursWeek:LcapitalLoss  1    24365 24533\n",
      "+ origEthn:LcapitalLoss   1    24365 24533\n",
      "+ educNum:origEthn        1    24365 24533\n",
      "+ occup:child             6    24355 24533\n",
      "+ sex:child               1    24365 24533\n",
      "+ age:sex                 1    24365 24533\n",
      "+ educNum:hoursWeek       1    24365 24533\n",
      "+ hoursWeek:LcapitalGain  1    24365 24533\n",
      "- occup:LcapitalLoss      6    24380 24534\n",
      "- educNum:sex             1    24370 24534\n",
      "- age:child               1    24370 24534\n",
      "- age:LcapitalLoss        1    24371 24535\n",
      "- occup:age               6    24381 24535\n",
      "+ mariStat:origEthn       3    24364 24536\n",
      "+ mariStat:child          3    24364 24536\n",
      "+ educNum:mariStat        3    24365 24537\n",
      "- mariStat:occup         18    24407 24537\n",
      "+ occup:origEthn          6    24361 24539\n",
      "+ occup:sex               6    24361 24539\n",
      "+ occup:LcapitalGain      6    24361 24539\n",
      "- occup:hoursWeek         6    24386 24540\n",
      "- educNum:occup           6    24391 24545\n",
      "- hoursWeek:age           1    24383 24547\n",
      "- mariStat:hoursWeek      3    24408 24568\n",
      "- mariStat:age            3    24412 24572\n",
      "- mariStat:LcapitalGain   3    24418 24578\n",
      "- mariStat:sex            3    24480 24640\n"
     ]
    }
   ],
   "source": [
    "#################\n",
    "# Ne pas exécuter\n",
    "################\n",
    "\n",
    "# régression avec le modèle minimum\n",
    "log.qm=glm(income~1,data=datApp,family=binomial)\n",
    "# algorithme stepwise en précisant le plus grand \n",
    "# modèle possible\n",
    "log.qm.stepb=step(log.qm,direction=\"both\",\n",
    "  scope=list(lower=~1,upper=~(age+educNum+mariStat+occup+origEthn+sex+hoursWeek+\n",
    "  LcapitalGain+LcapitalLoss+child)^2), family=binomial)"
   ]
  },
  {
   "cell_type": "code",
   "execution_count": 24,
   "metadata": {
    "ExecuteTime": {
     "end_time": "2020-03-12T05:05:27.735619Z",
     "start_time": "2020-03-12T04:43:28.492Z"
    }
   },
   "outputs": [
    {
     "data": {
      "text/html": [
       "<table>\n",
       "<thead><tr><th></th><th scope=col>Df</th><th scope=col>Deviance</th><th scope=col>Resid. Df</th><th scope=col>Resid. Dev</th><th scope=col>Pr(&gt;Chi)</th></tr></thead>\n",
       "<tbody>\n",
       "\t<tr><th scope=row>NULL</th><td>NA           </td><td>         NA  </td><td>35771        </td><td>40227.31     </td><td>           NA</td></tr>\n",
       "\t<tr><th scope=row>mariStat</th><td> 3           </td><td>7808.557678  </td><td>35768        </td><td>32418.75     </td><td> 0.000000e+00</td></tr>\n",
       "\t<tr><th scope=row>educNum</th><td> 1           </td><td>4171.097168  </td><td>35767        </td><td>28247.66     </td><td> 0.000000e+00</td></tr>\n",
       "\t<tr><th scope=row>LcapitalGain</th><td> 1           </td><td>1457.042089  </td><td>35766        </td><td>26790.61     </td><td>8.457416e-319</td></tr>\n",
       "\t<tr><th scope=row>occup</th><td> 6           </td><td> 789.934651  </td><td>35760        </td><td>26000.68     </td><td>2.302298e-167</td></tr>\n",
       "\t<tr><th scope=row>hoursWeek</th><td> 1           </td><td> 373.141489  </td><td>35759        </td><td>25627.54     </td><td> 3.874381e-83</td></tr>\n",
       "\t<tr><th scope=row>age</th><td> 1           </td><td> 330.507837  </td><td>35758        </td><td>25297.03     </td><td> 7.450409e-74</td></tr>\n",
       "\t<tr><th scope=row>LcapitalLoss</th><td> 1           </td><td> 305.486937  </td><td>35757        </td><td>24991.54     </td><td> 2.100816e-68</td></tr>\n",
       "\t<tr><th scope=row>child</th><td> 1           </td><td>  73.511263  </td><td>35756        </td><td>24918.03     </td><td> 1.000636e-17</td></tr>\n",
       "\t<tr><th scope=row>origEthn</th><td> 1           </td><td>  12.042778  </td><td>35755        </td><td>24905.99     </td><td> 5.199343e-04</td></tr>\n",
       "\t<tr><th scope=row>sex</th><td> 1           </td><td>  11.521136  </td><td>35754        </td><td>24894.47     </td><td> 6.880932e-04</td></tr>\n",
       "\t<tr><th scope=row>mariStat:LcapitalGain</th><td> 3           </td><td>  75.048322  </td><td>35751        </td><td>24819.42     </td><td> 3.537935e-16</td></tr>\n",
       "\t<tr><th scope=row>mariStat:hoursWeek</th><td> 3           </td><td>  73.629703  </td><td>35748        </td><td>24745.79     </td><td> 7.124630e-16</td></tr>\n",
       "\t<tr><th scope=row>mariStat:age</th><td> 3           </td><td>  51.885188  </td><td>35745        </td><td>24693.90     </td><td> 3.168671e-11</td></tr>\n",
       "\t<tr><th scope=row>mariStat:occup</th><td>18           </td><td>  70.306087  </td><td>35727        </td><td>24623.60     </td><td> 4.010997e-08</td></tr>\n",
       "\t<tr><th scope=row>hoursWeek:age</th><td> 1           </td><td>  24.018946  </td><td>35726        </td><td>24599.58     </td><td> 9.539241e-07</td></tr>\n",
       "\t<tr><th scope=row>educNum:occup</th><td> 6           </td><td>  30.151620  </td><td>35720        </td><td>24569.43     </td><td> 3.678340e-05</td></tr>\n",
       "\t<tr><th scope=row>mariStat:sex</th><td> 3           </td><td> 123.520563  </td><td>35717        </td><td>24445.91     </td><td> 1.346277e-26</td></tr>\n",
       "\t<tr><th scope=row>occup:hoursWeek</th><td> 6           </td><td>  19.905724  </td><td>35711        </td><td>24426.00     </td><td> 2.878442e-03</td></tr>\n",
       "\t<tr><th scope=row>occup:age</th><td> 6           </td><td>  16.826970  </td><td>35705        </td><td>24409.17     </td><td> 9.940638e-03</td></tr>\n",
       "\t<tr><th scope=row>age:child</th><td> 1           </td><td>   4.664812  </td><td>35704        </td><td>24404.51     </td><td> 3.078680e-02</td></tr>\n",
       "\t<tr><th scope=row>age:LcapitalLoss</th><td> 1           </td><td>   4.450056  </td><td>35703        </td><td>24400.06     </td><td> 3.490010e-02</td></tr>\n",
       "\t<tr><th scope=row>educNum:sex</th><td> 1           </td><td>   4.209868  </td><td>35702        </td><td>24395.85     </td><td> 4.018946e-02</td></tr>\n",
       "\t<tr><th scope=row>LcapitalGain:origEthn</th><td> 1           </td><td>   3.686622  </td><td>35701        </td><td>24392.16     </td><td> 5.485059e-02</td></tr>\n",
       "\t<tr><th scope=row>LcapitalGain:age</th><td> 1           </td><td>   3.389088  </td><td>35700        </td><td>24388.77     </td><td> 6.562926e-02</td></tr>\n",
       "\t<tr><th scope=row>hoursWeek:sex</th><td> 1           </td><td>   2.394409  </td><td>35699        </td><td>24386.38     </td><td> 1.217697e-01</td></tr>\n",
       "\t<tr><th scope=row>occup:LcapitalLoss</th><td> 6           </td><td>  12.380220  </td><td>35693        </td><td>24374.00     </td><td> 5.400461e-02</td></tr>\n",
       "\t<tr><th scope=row>LcapitalGain:child</th><td> 1           </td><td>   2.329711  </td><td>35692        </td><td>24371.67     </td><td> 1.269254e-01</td></tr>\n",
       "\t<tr><th scope=row>mariStat:LcapitalLoss</th><td> 3           </td><td>   6.259734  </td><td>35689        </td><td>24365.41     </td><td> 9.963513e-02</td></tr>\n",
       "</tbody>\n",
       "</table>\n"
      ],
      "text/latex": [
       "\\begin{tabular}{r|lllll}\n",
       "  & Df & Deviance & Resid. Df & Resid. Dev & Pr(>Chi)\\\\\n",
       "\\hline\n",
       "\tNULL & NA            &          NA   & 35771         & 40227.31      &            NA\\\\\n",
       "\tmariStat &  3            & 7808.557678   & 35768         & 32418.75      &  0.000000e+00\\\\\n",
       "\teducNum &  1            & 4171.097168   & 35767         & 28247.66      &  0.000000e+00\\\\\n",
       "\tLcapitalGain &  1            & 1457.042089   & 35766         & 26790.61      & 8.457416e-319\\\\\n",
       "\toccup &  6            &  789.934651   & 35760         & 26000.68      & 2.302298e-167\\\\\n",
       "\thoursWeek &  1            &  373.141489   & 35759         & 25627.54      &  3.874381e-83\\\\\n",
       "\tage &  1            &  330.507837   & 35758         & 25297.03      &  7.450409e-74\\\\\n",
       "\tLcapitalLoss &  1            &  305.486937   & 35757         & 24991.54      &  2.100816e-68\\\\\n",
       "\tchild &  1            &   73.511263   & 35756         & 24918.03      &  1.000636e-17\\\\\n",
       "\torigEthn &  1            &   12.042778   & 35755         & 24905.99      &  5.199343e-04\\\\\n",
       "\tsex &  1            &   11.521136   & 35754         & 24894.47      &  6.880932e-04\\\\\n",
       "\tmariStat:LcapitalGain &  3            &   75.048322   & 35751         & 24819.42      &  3.537935e-16\\\\\n",
       "\tmariStat:hoursWeek &  3            &   73.629703   & 35748         & 24745.79      &  7.124630e-16\\\\\n",
       "\tmariStat:age &  3            &   51.885188   & 35745         & 24693.90      &  3.168671e-11\\\\\n",
       "\tmariStat:occup & 18            &   70.306087   & 35727         & 24623.60      &  4.010997e-08\\\\\n",
       "\thoursWeek:age &  1            &   24.018946   & 35726         & 24599.58      &  9.539241e-07\\\\\n",
       "\teducNum:occup &  6            &   30.151620   & 35720         & 24569.43      &  3.678340e-05\\\\\n",
       "\tmariStat:sex &  3            &  123.520563   & 35717         & 24445.91      &  1.346277e-26\\\\\n",
       "\toccup:hoursWeek &  6            &   19.905724   & 35711         & 24426.00      &  2.878442e-03\\\\\n",
       "\toccup:age &  6            &   16.826970   & 35705         & 24409.17      &  9.940638e-03\\\\\n",
       "\tage:child &  1            &    4.664812   & 35704         & 24404.51      &  3.078680e-02\\\\\n",
       "\tage:LcapitalLoss &  1            &    4.450056   & 35703         & 24400.06      &  3.490010e-02\\\\\n",
       "\teducNum:sex &  1            &    4.209868   & 35702         & 24395.85      &  4.018946e-02\\\\\n",
       "\tLcapitalGain:origEthn &  1            &    3.686622   & 35701         & 24392.16      &  5.485059e-02\\\\\n",
       "\tLcapitalGain:age &  1            &    3.389088   & 35700         & 24388.77      &  6.562926e-02\\\\\n",
       "\thoursWeek:sex &  1            &    2.394409   & 35699         & 24386.38      &  1.217697e-01\\\\\n",
       "\toccup:LcapitalLoss &  6            &   12.380220   & 35693         & 24374.00      &  5.400461e-02\\\\\n",
       "\tLcapitalGain:child &  1            &    2.329711   & 35692         & 24371.67      &  1.269254e-01\\\\\n",
       "\tmariStat:LcapitalLoss &  3            &    6.259734   & 35689         & 24365.41      &  9.963513e-02\\\\\n",
       "\\end{tabular}\n"
      ],
      "text/markdown": [
       "\n",
       "| <!--/--> | Df | Deviance | Resid. Df | Resid. Dev | Pr(>Chi) |\n",
       "|---|---|---|---|---|---|\n",
       "| NULL | NA            |          NA   | 35771         | 40227.31      |            NA |\n",
       "| mariStat |  3            | 7808.557678   | 35768         | 32418.75      |  0.000000e+00 |\n",
       "| educNum |  1            | 4171.097168   | 35767         | 28247.66      |  0.000000e+00 |\n",
       "| LcapitalGain |  1            | 1457.042089   | 35766         | 26790.61      | 8.457416e-319 |\n",
       "| occup |  6            |  789.934651   | 35760         | 26000.68      | 2.302298e-167 |\n",
       "| hoursWeek |  1            |  373.141489   | 35759         | 25627.54      |  3.874381e-83 |\n",
       "| age |  1            |  330.507837   | 35758         | 25297.03      |  7.450409e-74 |\n",
       "| LcapitalLoss |  1            |  305.486937   | 35757         | 24991.54      |  2.100816e-68 |\n",
       "| child |  1            |   73.511263   | 35756         | 24918.03      |  1.000636e-17 |\n",
       "| origEthn |  1            |   12.042778   | 35755         | 24905.99      |  5.199343e-04 |\n",
       "| sex |  1            |   11.521136   | 35754         | 24894.47      |  6.880932e-04 |\n",
       "| mariStat:LcapitalGain |  3            |   75.048322   | 35751         | 24819.42      |  3.537935e-16 |\n",
       "| mariStat:hoursWeek |  3            |   73.629703   | 35748         | 24745.79      |  7.124630e-16 |\n",
       "| mariStat:age |  3            |   51.885188   | 35745         | 24693.90      |  3.168671e-11 |\n",
       "| mariStat:occup | 18            |   70.306087   | 35727         | 24623.60      |  4.010997e-08 |\n",
       "| hoursWeek:age |  1            |   24.018946   | 35726         | 24599.58      |  9.539241e-07 |\n",
       "| educNum:occup |  6            |   30.151620   | 35720         | 24569.43      |  3.678340e-05 |\n",
       "| mariStat:sex |  3            |  123.520563   | 35717         | 24445.91      |  1.346277e-26 |\n",
       "| occup:hoursWeek |  6            |   19.905724   | 35711         | 24426.00      |  2.878442e-03 |\n",
       "| occup:age |  6            |   16.826970   | 35705         | 24409.17      |  9.940638e-03 |\n",
       "| age:child |  1            |    4.664812   | 35704         | 24404.51      |  3.078680e-02 |\n",
       "| age:LcapitalLoss |  1            |    4.450056   | 35703         | 24400.06      |  3.490010e-02 |\n",
       "| educNum:sex |  1            |    4.209868   | 35702         | 24395.85      |  4.018946e-02 |\n",
       "| LcapitalGain:origEthn |  1            |    3.686622   | 35701         | 24392.16      |  5.485059e-02 |\n",
       "| LcapitalGain:age |  1            |    3.389088   | 35700         | 24388.77      |  6.562926e-02 |\n",
       "| hoursWeek:sex |  1            |    2.394409   | 35699         | 24386.38      |  1.217697e-01 |\n",
       "| occup:LcapitalLoss |  6            |   12.380220   | 35693         | 24374.00      |  5.400461e-02 |\n",
       "| LcapitalGain:child |  1            |    2.329711   | 35692         | 24371.67      |  1.269254e-01 |\n",
       "| mariStat:LcapitalLoss |  3            |    6.259734   | 35689         | 24365.41      |  9.963513e-02 |\n",
       "\n"
      ],
      "text/plain": [
       "                      Df Deviance    Resid. Df Resid. Dev Pr(>Chi)     \n",
       "NULL                  NA          NA 35771     40227.31              NA\n",
       "mariStat               3 7808.557678 35768     32418.75    0.000000e+00\n",
       "educNum                1 4171.097168 35767     28247.66    0.000000e+00\n",
       "LcapitalGain           1 1457.042089 35766     26790.61   8.457416e-319\n",
       "occup                  6  789.934651 35760     26000.68   2.302298e-167\n",
       "hoursWeek              1  373.141489 35759     25627.54    3.874381e-83\n",
       "age                    1  330.507837 35758     25297.03    7.450409e-74\n",
       "LcapitalLoss           1  305.486937 35757     24991.54    2.100816e-68\n",
       "child                  1   73.511263 35756     24918.03    1.000636e-17\n",
       "origEthn               1   12.042778 35755     24905.99    5.199343e-04\n",
       "sex                    1   11.521136 35754     24894.47    6.880932e-04\n",
       "mariStat:LcapitalGain  3   75.048322 35751     24819.42    3.537935e-16\n",
       "mariStat:hoursWeek     3   73.629703 35748     24745.79    7.124630e-16\n",
       "mariStat:age           3   51.885188 35745     24693.90    3.168671e-11\n",
       "mariStat:occup        18   70.306087 35727     24623.60    4.010997e-08\n",
       "hoursWeek:age          1   24.018946 35726     24599.58    9.539241e-07\n",
       "educNum:occup          6   30.151620 35720     24569.43    3.678340e-05\n",
       "mariStat:sex           3  123.520563 35717     24445.91    1.346277e-26\n",
       "occup:hoursWeek        6   19.905724 35711     24426.00    2.878442e-03\n",
       "occup:age              6   16.826970 35705     24409.17    9.940638e-03\n",
       "age:child              1    4.664812 35704     24404.51    3.078680e-02\n",
       "age:LcapitalLoss       1    4.450056 35703     24400.06    3.490010e-02\n",
       "educNum:sex            1    4.209868 35702     24395.85    4.018946e-02\n",
       "LcapitalGain:origEthn  1    3.686622 35701     24392.16    5.485059e-02\n",
       "LcapitalGain:age       1    3.389088 35700     24388.77    6.562926e-02\n",
       "hoursWeek:sex          1    2.394409 35699     24386.38    1.217697e-01\n",
       "occup:LcapitalLoss     6   12.380220 35693     24374.00    5.400461e-02\n",
       "LcapitalGain:child     1    2.329711 35692     24371.67    1.269254e-01\n",
       "mariStat:LcapitalLoss  3    6.259734 35689     24365.41    9.963513e-02"
      ]
     },
     "metadata": {},
     "output_type": "display_data"
    }
   ],
   "source": [
    "anova(log.qm.stepb,test=\"Chisq\")"
   ]
  },
  {
   "cell_type": "code",
   "execution_count": 27,
   "metadata": {
    "ExecuteTime": {
     "end_time": "2020-03-12T05:06:15.294788Z",
     "start_time": "2020-03-12T05:06:15.253Z"
    }
   },
   "outputs": [
    {
     "data": {
      "text/plain": [
       "\n",
       "Call:\n",
       "glm(formula = income ~ mariStat + educNum + LcapitalGain + occup + \n",
       "    hoursWeek + age + LcapitalLoss + child + origEthn + sex + \n",
       "    mariStat:LcapitalGain + mariStat:hoursWeek + mariStat:age + \n",
       "    mariStat:occup + hoursWeek:age + educNum:occup + mariStat:sex + \n",
       "    occup:hoursWeek + occup:age + age:child + age:LcapitalLoss + \n",
       "    educNum:sex + LcapitalGain:origEthn + LcapitalGain:age + \n",
       "    hoursWeek:sex + occup:LcapitalLoss + LcapitalGain:child + \n",
       "    mariStat:LcapitalLoss, family = binomial, data = datApp)\n",
       "\n",
       "Deviance Residuals: \n",
       "    Min       1Q   Median       3Q      Max  \n",
       "-2.7978  -0.5780  -0.1730  -0.0133   3.8296  \n",
       "\n",
       "Coefficients:\n",
       "                                          Estimate Std. Error z value Pr(>|z|)\n",
       "(Intercept)                             -5.1312994  0.5452066  -9.412  < 2e-16\n",
       "mariStatNever-Married                   -6.1607819  0.3608256 -17.074  < 2e-16\n",
       "mariStatNot-Married                     -4.8743141  0.3869987 -12.595  < 2e-16\n",
       "mariStatWidowed                         -3.0501894  0.8838681  -3.451 0.000559\n",
       "educNum                                  0.3016336  0.0333935   9.033  < 2e-16\n",
       "LcapitalGain                             0.2422513  0.0286339   8.460  < 2e-16\n",
       "occupBlue-Collar                         0.7382724  0.5394433   1.369 0.171130\n",
       "occupOther-occups                        0.3981116  0.7594571   0.524 0.600136\n",
       "occupProfessional                        1.8432240  0.5842241   3.155 0.001605\n",
       "occupSales                              -0.3765190  0.6132096  -0.614 0.539206\n",
       "occupService                            -0.4280882  0.7796279  -0.549 0.582942\n",
       "occupWhite-Collar                        0.4044723  0.5896958   0.686 0.492776\n",
       "hoursWeek                                0.0085677  0.0084114   1.019 0.308402\n",
       "age                                      0.0111792  0.0064821   1.725 0.084593\n",
       "LcapitalLoss                             0.1790961  0.0474893   3.771 0.000162\n",
       "childChildYes                           -1.7333346  0.4203329  -4.124 3.73e-05\n",
       "origEthnCaucYes                          0.2419164  0.0579167   4.177 2.95e-05\n",
       "sexMale                                 -0.0748349  0.2853405  -0.262 0.793117\n",
       "mariStatNever-Married:LcapitalGain       0.1128601  0.0178413   6.326 2.52e-10\n",
       "mariStatNot-Married:LcapitalGain         0.0778460  0.0166342   4.680 2.87e-06\n",
       "mariStatWidowed:LcapitalGain             0.0331733  0.0418734   0.792 0.428227\n",
       "mariStatNever-Married:hoursWeek          0.0290953  0.0050817   5.726 1.03e-08\n",
       "mariStatNot-Married:hoursWeek            0.0193201  0.0048621   3.974 7.08e-05\n",
       "mariStatWidowed:hoursWeek                0.0134103  0.0106086   1.264 0.206196\n",
       "mariStatNever-Married:age                0.0337757  0.0051134   6.605 3.96e-11\n",
       "mariStatNot-Married:age                  0.0064960  0.0053649   1.211 0.225963\n",
       "mariStatWidowed:age                     -0.0171341  0.0111440  -1.538 0.124166\n",
       "mariStatNever-Married:occupBlue-Collar   0.2008576  0.2532779   0.793 0.427759\n",
       "mariStatNot-Married:occupBlue-Collar     0.8262167  0.2369430   3.487 0.000488\n",
       "mariStatWidowed:occupBlue-Collar         0.0679711  0.5792311   0.117 0.906585\n",
       "mariStatNever-Married:occupOther-occups  0.4922174  0.2812612   1.750 0.080112\n",
       "mariStatNot-Married:occupOther-occups    0.3583439  0.2967219   1.208 0.227172\n",
       "mariStatWidowed:occupOther-occups        0.8177657  0.6680402   1.224 0.220905\n",
       "mariStatNever-Married:occupProfessional  0.6098865  0.2181892   2.795 0.005186\n",
       "mariStatNot-Married:occupProfessional    0.8820889  0.2279042   3.870 0.000109\n",
       "mariStatWidowed:occupProfessional        1.0450544  0.4963082   2.106 0.035234\n",
       "mariStatNever-Married:occupSales         0.6546601  0.2524587   2.593 0.009510\n",
       "mariStatNot-Married:occupSales           0.9156746  0.2502779   3.659 0.000254\n",
       "mariStatWidowed:occupSales               1.1097385  0.5318874   2.086 0.036941\n",
       "mariStatNever-Married:occupService       0.4572303  0.3583205   1.276 0.201942\n",
       "mariStatNot-Married:occupService         0.8037863  0.3568156   2.253 0.024280\n",
       "mariStatWidowed:occupService             1.2759409  0.6472264   1.971 0.048678\n",
       "mariStatNever-Married:occupWhite-Collar  0.3928463  0.2299464   1.708 0.087557\n",
       "mariStatNot-Married:occupWhite-Collar    0.8271040  0.2288903   3.614 0.000302\n",
       "mariStatWidowed:occupWhite-Collar        0.5144846  0.5022932   1.024 0.305707\n",
       "hoursWeek:age                            0.0004684  0.0001125   4.164 3.12e-05\n",
       "educNum:occupBlue-Collar                -0.0291339  0.0339661  -0.858 0.391039\n",
       "educNum:occupOther-occups                0.0337443  0.0469490   0.719 0.472299\n",
       "educNum:occupProfessional                0.0076096  0.0368697   0.206 0.836486\n",
       "educNum:occupSales                       0.0771295  0.0382190   2.018 0.043582\n",
       "educNum:occupService                     0.0532494  0.0533501   0.998 0.318224\n",
       "educNum:occupWhite-Collar                0.0645829  0.0355169   1.818 0.069008\n",
       "mariStatNever-Married:sexMale            0.8156913  0.1351781   6.034 1.60e-09\n",
       "mariStatNot-Married:sexMale              1.2151468  0.1301357   9.338  < 2e-16\n",
       "mariStatWidowed:sexMale                  1.5417966  0.3075504   5.013 5.35e-07\n",
       "occupBlue-Collar:hoursWeek              -0.0176082  0.0068917  -2.555 0.010619\n",
       "occupOther-occups:hoursWeek             -0.0058082  0.0086533  -0.671 0.502085\n",
       "occupProfessional:hoursWeek             -0.0212546  0.0070738  -3.005 0.002658\n",
       "occupSales:hoursWeek                    -0.0056460  0.0073614  -0.767 0.443097\n",
       "occupService:hoursWeek                  -0.0126278  0.0087948  -1.436 0.151049\n",
       "occupWhite-Collar:hoursWeek             -0.0080710  0.0072153  -1.119 0.263315\n",
       "occupBlue-Collar:age                    -0.0053413  0.0054223  -0.985 0.324592\n",
       "occupOther-occups:age                   -0.0072317  0.0075506  -0.958 0.338183\n",
       "occupProfessional:age                   -0.0195559  0.0060276  -3.244 0.001177\n",
       "occupSales:age                          -0.0077728  0.0061627  -1.261 0.207213\n",
       "occupService:age                        -0.0191427  0.0084101  -2.276 0.022836\n",
       "occupWhite-Collar:age                   -0.0079347  0.0059480  -1.334 0.182197\n",
       "age:childChildYes                        0.0243633  0.0112176   2.172 0.029865\n",
       "age:LcapitalLoss                        -0.0019403  0.0008029  -2.417 0.015660\n",
       "educNum:sexMale                         -0.0448126  0.0214465  -2.090 0.036662\n",
       "LcapitalGain:origEthnCaucYes            -0.0347259  0.0183651  -1.891 0.058643\n",
       "LcapitalGain:age                        -0.0008791  0.0005026  -1.749 0.080304\n",
       "hoursWeek:sexMale                        0.0067126  0.0042557   1.577 0.114720\n",
       "occupBlue-Collar:LcapitalLoss            0.0370356  0.0369744   1.002 0.316511\n",
       "occupOther-occups:LcapitalLoss           0.1430312  0.0511060   2.799 0.005131\n",
       "occupProfessional:LcapitalLoss           0.0587573  0.0398416   1.475 0.140274\n",
       "occupSales:LcapitalLoss                  0.0968281  0.0414529   2.336 0.019499\n",
       "occupService:LcapitalLoss                0.0931551  0.0587185   1.586 0.112633\n",
       "occupWhite-Collar:LcapitalLoss           0.0888976  0.0400144   2.222 0.026307\n",
       "LcapitalGain:childChildYes               0.0557244  0.0361068   1.543 0.122753\n",
       "mariStatNever-Married:LcapitalLoss      -0.0427046  0.0291794  -1.464 0.143325\n",
       "mariStatNot-Married:LcapitalLoss        -0.0612808  0.0287472  -2.132 0.033030\n",
       "mariStatWidowed:LcapitalLoss             0.0249647  0.0707064   0.353 0.724031\n",
       "                                           \n",
       "(Intercept)                             ***\n",
       "mariStatNever-Married                   ***\n",
       "mariStatNot-Married                     ***\n",
       "mariStatWidowed                         ***\n",
       "educNum                                 ***\n",
       "LcapitalGain                            ***\n",
       "occupBlue-Collar                           \n",
       "occupOther-occups                          \n",
       "occupProfessional                       ** \n",
       "occupSales                                 \n",
       "occupService                               \n",
       "occupWhite-Collar                          \n",
       "hoursWeek                                  \n",
       "age                                     .  \n",
       "LcapitalLoss                            ***\n",
       "childChildYes                           ***\n",
       "origEthnCaucYes                         ***\n",
       "sexMale                                    \n",
       "mariStatNever-Married:LcapitalGain      ***\n",
       "mariStatNot-Married:LcapitalGain        ***\n",
       "mariStatWidowed:LcapitalGain               \n",
       "mariStatNever-Married:hoursWeek         ***\n",
       "mariStatNot-Married:hoursWeek           ***\n",
       "mariStatWidowed:hoursWeek                  \n",
       "mariStatNever-Married:age               ***\n",
       "mariStatNot-Married:age                    \n",
       "mariStatWidowed:age                        \n",
       "mariStatNever-Married:occupBlue-Collar     \n",
       "mariStatNot-Married:occupBlue-Collar    ***\n",
       "mariStatWidowed:occupBlue-Collar           \n",
       "mariStatNever-Married:occupOther-occups .  \n",
       "mariStatNot-Married:occupOther-occups      \n",
       "mariStatWidowed:occupOther-occups          \n",
       "mariStatNever-Married:occupProfessional ** \n",
       "mariStatNot-Married:occupProfessional   ***\n",
       "mariStatWidowed:occupProfessional       *  \n",
       "mariStatNever-Married:occupSales        ** \n",
       "mariStatNot-Married:occupSales          ***\n",
       "mariStatWidowed:occupSales              *  \n",
       "mariStatNever-Married:occupService         \n",
       "mariStatNot-Married:occupService        *  \n",
       "mariStatWidowed:occupService            *  \n",
       "mariStatNever-Married:occupWhite-Collar .  \n",
       "mariStatNot-Married:occupWhite-Collar   ***\n",
       "mariStatWidowed:occupWhite-Collar          \n",
       "hoursWeek:age                           ***\n",
       "educNum:occupBlue-Collar                   \n",
       "educNum:occupOther-occups                  \n",
       "educNum:occupProfessional                  \n",
       "educNum:occupSales                      *  \n",
       "educNum:occupService                       \n",
       "educNum:occupWhite-Collar               .  \n",
       "mariStatNever-Married:sexMale           ***\n",
       "mariStatNot-Married:sexMale             ***\n",
       "mariStatWidowed:sexMale                 ***\n",
       "occupBlue-Collar:hoursWeek              *  \n",
       "occupOther-occups:hoursWeek                \n",
       "occupProfessional:hoursWeek             ** \n",
       "occupSales:hoursWeek                       \n",
       "occupService:hoursWeek                     \n",
       "occupWhite-Collar:hoursWeek                \n",
       "occupBlue-Collar:age                       \n",
       "occupOther-occups:age                      \n",
       "occupProfessional:age                   ** \n",
       "occupSales:age                             \n",
       "occupService:age                        *  \n",
       "occupWhite-Collar:age                      \n",
       "age:childChildYes                       *  \n",
       "age:LcapitalLoss                        *  \n",
       "educNum:sexMale                         *  \n",
       "LcapitalGain:origEthnCaucYes            .  \n",
       "LcapitalGain:age                        .  \n",
       "hoursWeek:sexMale                          \n",
       "occupBlue-Collar:LcapitalLoss              \n",
       "occupOther-occups:LcapitalLoss          ** \n",
       "occupProfessional:LcapitalLoss             \n",
       "occupSales:LcapitalLoss                 *  \n",
       "occupService:LcapitalLoss                  \n",
       "occupWhite-Collar:LcapitalLoss          *  \n",
       "LcapitalGain:childChildYes                 \n",
       "mariStatNever-Married:LcapitalLoss         \n",
       "mariStatNot-Married:LcapitalLoss        *  \n",
       "mariStatWidowed:LcapitalLoss               \n",
       "---\n",
       "Signif. codes:  0 ‘***’ 0.001 ‘**’ 0.01 ‘*’ 0.05 ‘.’ 0.1 ‘ ’ 1\n",
       "\n",
       "(Dispersion parameter for binomial family taken to be 1)\n",
       "\n",
       "    Null deviance: 40227  on 35771  degrees of freedom\n",
       "Residual deviance: 24365  on 35689  degrees of freedom\n",
       "AIC: 24531\n",
       "\n",
       "Number of Fisher Scoring iterations: 7\n"
      ]
     },
     "metadata": {},
     "output_type": "display_data"
    }
   ],
   "source": [
    "summary(log.qm.stepb)"
   ]
  },
  {
   "cell_type": "code",
   "execution_count": 25,
   "metadata": {
    "ExecuteTime": {
     "end_time": "2020-03-12T05:05:27.783412Z",
     "start_time": "2020-03-12T04:43:28.498Z"
    }
   },
   "outputs": [
    {
     "data": {
      "text/html": [
       "16.46"
      ],
      "text/latex": [
       "16.46"
      ],
      "text/markdown": [
       "16.46"
      ],
      "text/plain": [
       "[1] 16.46"
      ]
     },
     "metadata": {},
     "output_type": "display_data"
    },
    {
     "data": {
      "text/plain": [
       "       \n",
       "        incB incH\n",
       "  FALSE 6153  945\n",
       "  TRUE   527 1318"
      ]
     },
     "metadata": {},
     "output_type": "display_data"
    }
   ],
   "source": [
    "# Prévision\n",
    "pred.logqm=predict(log.qm.stepb,newdata=daTest,type=\"response\")\n",
    "# Matrice de confusion pour la prévision du \n",
    "# dépassement de seuil\n",
    "confmat=table(pred.logqm>0.5,daTest[,\"income\"])\n",
    "tauxErr(confmat)\n",
    "confmat"
   ]
  },
  {
   "cell_type": "markdown",
   "metadata": {},
   "source": [
    "La prise en compte d'un modèe avec interactions n'améliore pas sensiblement la précision de la régression logisitique sur ces données. Il suffit donc par la suite de se limiter au modèle linéaire sans interactionpour étudier les questions de biais et discrimination. En revanche, un algorithme non linéaire (forêts aléatoires) permet de réduire significativement cette erreur; 16.5% pour la régression logistique incluant toutes les variables et ci-dessus 14.7% pour les forêts aléatoires. Le boosting ou même la version XGboost permet d'améliorer encore un peu ce score mais au prix d'optimisaitons complexes des hyperparamètres. L'objectif n'est pas ici d'obtenir la meilleure prévision comme dans le [calepin](https://github.com/wikistat/Apprentissage/tree/master/Adult-Census) concerné qui les compare systématiquement. Pour viser l'objectif de détection de biais, un modèle simplifié suffit car les mêmes questions de discrimination sont soulevées et avec des temps de calcul plus satisfaisants; arbre de décision et forêt aléatoire seront utilisés pour le sdernières comparaisons."
   ]
  },
  {
   "cell_type": "markdown",
   "metadata": {},
   "source": [
    "### Modèle de régression sans la variable genre\n",
    "Une approche naïve pour construire un apprentissage \"loyal\" consiste à supprimer la variable sensible. Le modèle de régression logistique est donc estimé sans cette variable afin d'évaluer l'impact sur le biais."
   ]
  },
  {
   "cell_type": "code",
   "execution_count": 24,
   "metadata": {
    "ExecuteTime": {
     "end_time": "2020-03-13T11:04:45.375382Z",
     "start_time": "2020-03-13T11:04:45.010Z"
    }
   },
   "outputs": [],
   "source": [
    "# estimation du modèle sans la variable genre\n",
    "log_g.lm=glm(income~.,data=datApp[,-6],family=binomial)"
   ]
  },
  {
   "cell_type": "code",
   "execution_count": 25,
   "metadata": {
    "ExecuteTime": {
     "end_time": "2020-03-13T11:04:48.972192Z",
     "start_time": "2020-03-13T11:04:48.940Z"
    }
   },
   "outputs": [
    {
     "data": {
      "text/plain": [
       "       \n",
       "        incB incH\n",
       "  FALSE 6157  953\n",
       "  TRUE   523 1310"
      ]
     },
     "metadata": {},
     "output_type": "display_data"
    }
   ],
   "source": [
    "# Prévision\n",
    "pred_g.log=predict(log_g.lm,newdata=daTest[,-8],type=\"response\")\n",
    "# Matrice de confusion pour la prévision du \n",
    "# dépassement de seuil\n",
    "confMat=table(pred_g.log>0.5,daTest$income)\n",
    "confMat"
   ]
  },
  {
   "cell_type": "code",
   "execution_count": 26,
   "metadata": {
    "ExecuteTime": {
     "end_time": "2020-03-13T11:04:52.463701Z",
     "start_time": "2020-03-13T11:04:52.440Z"
    }
   },
   "outputs": [
    {
     "data": {
      "text/html": [
       "16.5"
      ],
      "text/latex": [
       "16.5"
      ],
      "text/markdown": [
       "16.5"
      ],
      "text/plain": [
       "[1] 16.5"
      ]
     },
     "metadata": {},
     "output_type": "display_data"
    }
   ],
   "source": [
    "tauxErr(confMat)"
   ]
  },
  {
   "cell_type": "markdown",
   "metadata": {},
   "source": [
    "La qualité de prévision n'est pas affectée.\n",
    "\n",
    "### Régression logistique sans l'origine\n",
    "Même chose mais sans cette fois sans la variable origine ethnique."
   ]
  },
  {
   "cell_type": "code",
   "execution_count": 27,
   "metadata": {
    "ExecuteTime": {
     "end_time": "2020-03-13T11:05:01.854438Z",
     "start_time": "2020-03-13T11:05:01.563Z"
    }
   },
   "outputs": [
    {
     "data": {
      "text/plain": [
       "       \n",
       "        incB incH\n",
       "  FALSE 6157  954\n",
       "  TRUE   523 1309"
      ]
     },
     "metadata": {},
     "output_type": "display_data"
    },
    {
     "data": {
      "text/html": [
       "16.52"
      ],
      "text/latex": [
       "16.52"
      ],
      "text/markdown": [
       "16.52"
      ],
      "text/plain": [
       "[1] 16.52"
      ]
     },
     "metadata": {},
     "output_type": "display_data"
    }
   ],
   "source": [
    "log_o.lm=glm(income~.,data=datApp[,-5],family=binomial)\n",
    "# Prévision\n",
    "pred_o.log=predict(log_o.lm,newdata=daTest[,-5],type=\"response\")\n",
    "# Matrice de confusion  et erreur\n",
    "confMat=table(pred_o.log>0.5,daTest$income)\n",
    "confMat; tauxErr(confMat)"
   ]
  },
  {
   "cell_type": "markdown",
   "metadata": {},
   "source": [
    "Même remarque."
   ]
  },
  {
   "cell_type": "markdown",
   "metadata": {},
   "source": [
    "## Estimation de l'effet disproportionné\n",
    "### Définition\n",
    "Les mesures de discrimination indirecte ou de groupe sont basées sur un critère d'effet disproportionné ou *disparate impact* (*DI*) apparu aux USA en 1971 pour détecter des situations discriminatoires à l'embauche (Barocas et Selbst; 2016). Ce critère est défini par le rapport de deux probabilités. La probabilité de bénéficier d'une situation ou décision favorable (revenu élevé, crédit, emploi, logement...) pour une personne du groupe protégé par la loi: femme ou origine non caucasienne, sur la même probabilité pour une personne de l'autre groupe: homme ou origine caucasienne.\n",
    "\n",
    "*Notations*: \n",
    "\n",
    "- $Y$ est la variable cible ou à expliquer, ici le revenu, $Y=1$ revenu élevé *vs* $Y=0$; \n",
    "- $g(X)=\\hat{Y}$ le score élevé ou faible ou prévision du revenu, $g(X)=\\hat{Y}=0$: prévision d'un revenu faible;\n",
    "- $S$ est la variable sensible qui désigne le groupe en principe protégé par la loi contre une possible discrimination. Il s'agit ici du genre ou de l'origine ethnique réduite à 2 modalités: caucasien ($S=1$) ou non caucasien ($S=0$). \n",
    "\n",
    "L'effet disproportionné mesure une situation de biais de société déjà présent dans la base de données. \n",
    "$$DI=\\frac{P(Y=1|S=0)}{P(Y=1|S=1)}.$$\n",
    "Il est estimé à partir des valeurs de la table de contingence croisant les variables $Y$ et $S$ par le rapport:\n",
    "$$\\frac{n_{21}}{(n_{11}+n_{21})}/\\frac{n_{22}}{(n_{12}+n_{22})}.$$\n",
    "\n",
    "Appliqué à la prévision $g(X)=\\hat{Y}$ de la variable cible $Y$, il mesure le biais de cette prévision et donc le risque de discrimination opéré par la prévision.\n",
    "\n",
    "### Fonction `dispImp`\n",
    "Une fonction R calcule le $DI$ et fournit de plus une estimation par intervalle de confiance (Besse et al. 2018) décomposant la fonction de densité de la statistique de test par la *delta method*. Cette fonction a trois arguments:   \n",
    "- la variable $S$ considérée comme sensible: un facteur à deux niveaux ordonnés \"défavorable\" puis \"favorable\";\n",
    "- la variable cible $Y$ ou sa prévision $g(X)=\\hat{Y}$: également un facteur à deux niveaux défavorable pyuis favorable;\n",
    "- le risque de l'intervalle de confiance, par défaut 5%.\n",
    "\n",
    "Cette fonction renvoie les trois estimations $DI$ et $IC_g$, $IC_d$ bornes de l'intervalle de confiance."
   ]
  },
  {
   "cell_type": "code",
   "execution_count": 28,
   "metadata": {
    "ExecuteTime": {
     "end_time": "2020-03-13T11:05:06.869688Z",
     "start_time": "2020-03-13T11:05:06.849Z"
    }
   },
   "outputs": [],
   "source": [
    "source(\"../Functions/dispImp.R\")"
   ]
  },
  {
   "cell_type": "markdown",
   "metadata": {},
   "source": [
    "### Effet disproportionné de la base d'apprentissage\n",
    "Calculé sur les données initiales, le *disparate impact* ou effet disproportionné met en évidence un biais social fort. Les variables sensibles sont le genre puis l'origine ethnique. La fonction `dispImp` nécessite que les niveaux des facteurs soient dans l'ordre lexicographique: niveaux \"défavorable\" puis \"favorable\"."
   ]
  },
  {
   "cell_type": "markdown",
   "metadata": {},
   "source": [
    "#### Ségrégation vis à vis du genre\n",
    "Table de contingence croisant $Y$ (revenu) avec $S$ (genre)."
   ]
  },
  {
   "cell_type": "code",
   "execution_count": 29,
   "metadata": {
    "ExecuteTime": {
     "end_time": "2020-03-13T11:05:12.517475Z",
     "start_time": "2020-03-13T11:05:12.489Z"
    }
   },
   "outputs": [
    {
     "data": {
      "text/plain": [
       "      \n",
       "       Female  Male\n",
       "  incB  12781 20730\n",
       "  incH   1669  9535"
      ]
     },
     "metadata": {},
     "output_type": "display_data"
    }
   ],
   "source": [
    "tableDI=table(datBas$income,datBas$sex)\n",
    "tableDI"
   ]
  },
  {
   "cell_type": "markdown",
   "metadata": {},
   "source": [
    "*Estimation ponctuelle* de $DI=\\frac{n_{21}}{(n_{11}+n_{21})}/\\frac{n_{22}}{(n_{12}+n_{22})}.$"
   ]
  },
  {
   "cell_type": "code",
   "execution_count": 30,
   "metadata": {
    "ExecuteTime": {
     "end_time": "2020-03-13T11:05:15.189457Z",
     "start_time": "2020-03-13T11:05:15.173Z"
    }
   },
   "outputs": [
    {
     "data": {
      "text/html": [
       "0.367"
      ],
      "text/latex": [
       "0.367"
      ],
      "text/markdown": [
       "0.367"
      ],
      "text/plain": [
       "[1] 0.367"
      ]
     },
     "metadata": {},
     "output_type": "display_data"
    }
   ],
   "source": [
    "round((tableDI[2,1]/(tableDI[1,1]+tableDI[2,1]))/(tableDI[2,2]/(tableDI[1,2]+tableDI[2,2])),3)"
   ]
  },
  {
   "cell_type": "markdown",
   "metadata": {},
   "source": [
    "*Estimation par intervalle de confiance* approché par *delta method*. "
   ]
  },
  {
   "cell_type": "code",
   "execution_count": 31,
   "metadata": {
    "ExecuteTime": {
     "end_time": "2020-03-13T11:05:17.655613Z",
     "start_time": "2020-03-13T11:05:17.591Z"
    }
   },
   "outputs": [
    {
     "data": {
      "text/html": [
       "<ol class=list-inline>\n",
       "\t<li>0.349</li>\n",
       "\t<li>0.367</li>\n",
       "\t<li>0.384</li>\n",
       "</ol>\n"
      ],
      "text/latex": [
       "\\begin{enumerate*}\n",
       "\\item 0.349\n",
       "\\item 0.367\n",
       "\\item 0.384\n",
       "\\end{enumerate*}\n"
      ],
      "text/markdown": [
       "1. 0.349\n",
       "2. 0.367\n",
       "3. 0.384\n",
       "\n",
       "\n"
      ],
      "text/plain": [
       "[1] 0.349 0.367 0.384"
      ]
     },
     "metadata": {},
     "output_type": "display_data"
    }
   ],
   "source": [
    "round(dispImp(datBas[,\"sex\"],datBas[,\"income\"]),3)"
   ]
  },
  {
   "cell_type": "markdown",
   "metadata": {},
   "source": [
    "*Estimation bootstrap de l'intervalle de confiance*\n",
    "\n",
    "L'estimation approchée par la *delta method* est comparée à une estimation bootstrap de l'intervalle de confiance. En effet, l'estimation du *DI* est instable mais les estimations sur des échantillons bootstrap restent bien dans la zone de risque contrôlée par l'intervalle de confiance. "
   ]
  },
  {
   "cell_type": "code",
   "execution_count": 37,
   "metadata": {
    "ExecuteTime": {
     "end_time": "2020-03-12T05:13:34.978752Z",
     "start_time": "2020-03-12T05:13:33.793Z"
    }
   },
   "outputs": [],
   "source": [
    "# ne pas exécuter\n",
    "B=1000 \n",
    "set.seed(11)\n",
    "n=nrow(datBas)\n",
    "res=matrix(0,B,3)\n",
    "for (i in 1:B)\n",
    "    {\n",
    "    boot=sample(n,n,replace=T)\n",
    "    res[i,]=dispImp(datBas[boot,\"sex\"],datBas[boot,\"income\"])\n",
    "    }"
   ]
  },
  {
   "cell_type": "code",
   "execution_count": 38,
   "metadata": {
    "ExecuteTime": {
     "end_time": "2020-03-12T05:13:36.582179Z",
     "start_time": "2020-03-12T05:13:36.489Z"
    }
   },
   "outputs": [
    {
     "data": {
      "image/png": "[encoded data removed]",
      "text/plain": [
       "plot without title"
      ]
     },
     "metadata": {},
     "output_type": "display_data"
    }
   ],
   "source": [
    "options(repr.plot.width=5, repr.plot.height=4)\n",
    "plot(res[,2],ylim=c(0.3,0.45),pch='.')\n",
    "lines(res[,2],col=3,pch='.')\n",
    "abline(h=0.343,col=2)\n",
    "abline(h=0.386,col=2)"
   ]
  },
  {
   "cell_type": "markdown",
   "metadata": {},
   "source": [
    "Une fonction de la librairie `boot` fournit une estimation bootstrap de l'intervalle de confiance."
   ]
  },
  {
   "cell_type": "code",
   "execution_count": 39,
   "metadata": {
    "ExecuteTime": {
     "end_time": "2020-03-12T05:14:20.688219Z",
     "start_time": "2020-03-12T05:13:39.941Z"
    }
   },
   "outputs": [
    {
     "data": {
      "text/plain": [
       "\n",
       "ORDINARY NONPARAMETRIC BOOTSTRAP\n",
       "\n",
       "\n",
       "Call:\n",
       "boot(data = datBas, statistic = fc, R = 1000)\n",
       "\n",
       "\n",
       "Bootstrap Statistics :\n",
       "     original        bias    std. error\n",
       "t1* 0.3666135 -0.0001896611 0.009193644"
      ]
     },
     "metadata": {},
     "output_type": "display_data"
    }
   ],
   "source": [
    "library(boot)\n",
    "fc <- function(d, i){ \n",
    "    d2 <- d[i,]\n",
    "    return(statistic=dispImp(d2$sex,d2$income)[2])\n",
    "}\n",
    "set.seed(11)\n",
    "bootDI <- boot(datBas,fc, R=1000)\n",
    "bootDI"
   ]
  },
  {
   "cell_type": "code",
   "execution_count": 40,
   "metadata": {
    "ExecuteTime": {
     "end_time": "2020-03-12T05:14:20.712675Z",
     "start_time": "2020-03-12T05:14:16.811Z"
    }
   },
   "outputs": [
    {
     "data": {
      "text/plain": [
       "BOOTSTRAP CONFIDENCE INTERVAL CALCULATIONS\n",
       "Based on 1000 bootstrap replicates\n",
       "\n",
       "CALL : \n",
       "boot.ci(boot.out = bootDI, type = \"perc\")\n",
       "\n",
       "Intervals : \n",
       "Level     Percentile     \n",
       "95%   ( 0.3487,  0.3848 )  \n",
       "Calculations and Intervals on Original Scale"
      ]
     },
     "metadata": {},
     "output_type": "display_data"
    }
   ],
   "source": [
    "boot.ci(boot.out = bootDI, type = \"perc\")"
   ]
  },
  {
   "cell_type": "markdown",
   "metadata": {},
   "source": [
    "Comme attendu, l'intervalle de confiance issu de l'approximation par *delta method*: $[0.349, 0.384]$ se confond avec  celui obtenu par estimation bootstrap: $[0.349, 0.385]$.\n",
    "\n",
    "***NB*** Compte tenu des temps de calcul, l'estimation approchée de l'IC par *delta method* est à privilégier!"
   ]
  },
  {
   "cell_type": "markdown",
   "metadata": {},
   "source": [
    "#### Biais vis à vis de l'origine"
   ]
  },
  {
   "cell_type": "code",
   "execution_count": 32,
   "metadata": {
    "ExecuteTime": {
     "end_time": "2020-03-13T11:05:32.977769Z",
     "start_time": "2020-03-13T11:05:32.962Z"
    }
   },
   "outputs": [
    {
     "data": {
      "text/html": [
       "<ol class=list-inline>\n",
       "\t<li>0.566</li>\n",
       "\t<li>0.601</li>\n",
       "\t<li>0.637</li>\n",
       "</ol>\n"
      ],
      "text/latex": [
       "\\begin{enumerate*}\n",
       "\\item 0.566\n",
       "\\item 0.601\n",
       "\\item 0.637\n",
       "\\end{enumerate*}\n"
      ],
      "text/markdown": [
       "1. 0.566\n",
       "2. 0.601\n",
       "3. 0.637\n",
       "\n",
       "\n"
      ],
      "text/plain": [
       "[1] 0.566 0.601 0.637"
      ]
     },
     "metadata": {},
     "output_type": "display_data"
    }
   ],
   "source": [
    "round(dispImp(datBas$origEthn,datBas$income),3)"
   ]
  },
  {
   "cell_type": "markdown",
   "metadata": {},
   "source": [
    "Biais nettement plus important selon le genre que selon l'origine ethnique."
   ]
  },
  {
   "cell_type": "markdown",
   "metadata": {},
   "source": [
    "### Effet disproportionné des prévisions par régression logistique\n",
    "Le même ratio ou impact disproportionné calculé sur les prévisions $g(X)$ de $Y$ plutôt que sur $Y$ mesure explicitement l'effet de la prévision. Il revient à évaluer l'égalité des taux de prévision favorable. \n",
    "\n",
    "La valeur seuil de la probabilité pour prédire le niveau de revenu est fixée par défaut à 0.5."
   ]
  },
  {
   "cell_type": "code",
   "execution_count": 33,
   "metadata": {
    "ExecuteTime": {
     "end_time": "2020-03-13T11:05:40.207799Z",
     "start_time": "2020-03-13T11:05:40.184Z"
    }
   },
   "outputs": [],
   "source": [
    "Yhat=as.factor(pred.log>0.5)"
   ]
  },
  {
   "cell_type": "code",
   "execution_count": 43,
   "metadata": {
    "ExecuteTime": {
     "end_time": "2020-03-12T05:14:50.940029Z",
     "start_time": "2020-03-12T05:14:50.923Z"
    }
   },
   "outputs": [],
   "source": [
    "# Ne pas exécuter\n",
    "Yhatq=as.factor(pred.logqm>0.5)"
   ]
  },
  {
   "cell_type": "markdown",
   "metadata": {},
   "source": [
    "#### Avec régression logistique et par genre\n",
    "La prévision reproduit et même renforce significativement le biais social pour le genre avec la régression logistique linéaire car les intervalles de confiance sont disjoints. En revanche, la discriminaiton n'est pas significative avec la régression logistique quadratique. Résultat assez surprenant mais conforme à ceux obtenus en exécutant les codes en python avec la librairie `Scikit-learn`n qui estime une verson plus flexible (plus de paramètres) de la régression logistique.\n",
    "\n",
    "***NB*** le *DI* est très sensible à l'algorithme d'apprentissage utilisé et ceci indépendamment de la précision de la prévision."
   ]
  },
  {
   "cell_type": "code",
   "execution_count": 34,
   "metadata": {
    "ExecuteTime": {
     "end_time": "2020-03-13T11:05:49.717473Z",
     "start_time": "2020-03-13T11:05:49.695Z"
    }
   },
   "outputs": [
    {
     "data": {
      "text/html": [
       "<ol class=list-inline>\n",
       "\t<li>0.212</li>\n",
       "\t<li>0.248</li>\n",
       "\t<li>0.283</li>\n",
       "</ol>\n"
      ],
      "text/latex": [
       "\\begin{enumerate*}\n",
       "\\item 0.212\n",
       "\\item 0.248\n",
       "\\item 0.283\n",
       "\\end{enumerate*}\n"
      ],
      "text/markdown": [
       "1. 0.212\n",
       "2. 0.248\n",
       "3. 0.283\n",
       "\n",
       "\n"
      ],
      "text/plain": [
       "[1] 0.212 0.248 0.283"
      ]
     },
     "metadata": {},
     "output_type": "display_data"
    }
   ],
   "source": [
    "round(dispImp(daTest[,\"sex\"],Yhat),3)"
   ]
  },
  {
   "cell_type": "code",
   "execution_count": 45,
   "metadata": {
    "ExecuteTime": {
     "end_time": "2020-03-12T05:15:07.351545Z",
     "start_time": "2020-03-12T05:15:07.331Z"
    }
   },
   "outputs": [
    {
     "data": {
      "text/html": [
       "<ol class=list-inline>\n",
       "\t<li>0.293</li>\n",
       "\t<li>0.335</li>\n",
       "\t<li>0.376</li>\n",
       "</ol>\n"
      ],
      "text/latex": [
       "\\begin{enumerate*}\n",
       "\\item 0.293\n",
       "\\item 0.335\n",
       "\\item 0.376\n",
       "\\end{enumerate*}\n"
      ],
      "text/markdown": [
       "1. 0.293\n",
       "2. 0.335\n",
       "3. 0.376\n",
       "\n",
       "\n"
      ],
      "text/plain": [
       "[1] 0.293 0.335 0.376"
      ]
     },
     "metadata": {},
     "output_type": "display_data"
    }
   ],
   "source": [
    "# ne pas exécuter\n",
    "round(dispImp(daTest[,\"sex\"],Yhatq),3)"
   ]
  },
  {
   "cell_type": "markdown",
   "metadata": {},
   "source": [
    "A titre de comparaison, le DI obtenu par *random Forest* qui, pour cet échantillon test, ne discrimine pas."
   ]
  },
  {
   "cell_type": "code",
   "execution_count": 35,
   "metadata": {
    "ExecuteTime": {
     "end_time": "2020-03-13T11:05:55.001821Z",
     "start_time": "2020-03-13T11:05:54.985Z"
    }
   },
   "outputs": [
    {
     "data": {
      "text/html": [
       "<ol class=list-inline>\n",
       "\t<li>0.329</li>\n",
       "\t<li>0.375</li>\n",
       "\t<li>0.42</li>\n",
       "</ol>\n"
      ],
      "text/latex": [
       "\\begin{enumerate*}\n",
       "\\item 0.329\n",
       "\\item 0.375\n",
       "\\item 0.42\n",
       "\\end{enumerate*}\n"
      ],
      "text/markdown": [
       "1. 0.329\n",
       "2. 0.375\n",
       "3. 0.42\n",
       "\n",
       "\n"
      ],
      "text/plain": [
       "[1] 0.329 0.375 0.420"
      ]
     },
     "metadata": {},
     "output_type": "display_data"
    }
   ],
   "source": [
    "round(dispImp(daTest[,\"sex\"],pred.rf),3)"
   ]
  },
  {
   "cell_type": "markdown",
   "metadata": {},
   "source": [
    "#### Avec régression logistique et par origine\n",
    "Le renforcement du biais selon l'origine n'est pas, sur ces données, statistiquement significatif."
   ]
  },
  {
   "cell_type": "code",
   "execution_count": 36,
   "metadata": {
    "ExecuteTime": {
     "end_time": "2020-03-13T11:06:10.621369Z",
     "start_time": "2020-03-13T11:06:10.601Z"
    }
   },
   "outputs": [
    {
     "data": {
      "text/html": [
       "<ol class=list-inline>\n",
       "\t<li>0.442</li>\n",
       "\t<li>0.524</li>\n",
       "\t<li>0.607</li>\n",
       "</ol>\n"
      ],
      "text/latex": [
       "\\begin{enumerate*}\n",
       "\\item 0.442\n",
       "\\item 0.524\n",
       "\\item 0.607\n",
       "\\end{enumerate*}\n"
      ],
      "text/markdown": [
       "1. 0.442\n",
       "2. 0.524\n",
       "3. 0.607\n",
       "\n",
       "\n"
      ],
      "text/plain": [
       "[1] 0.442 0.524 0.607"
      ]
     },
     "metadata": {},
     "output_type": "display_data"
    }
   ],
   "source": [
    "round(dispImp(daTest[,\"origEthn\"],Yhat),3)"
   ]
  },
  {
   "cell_type": "code",
   "execution_count": 37,
   "metadata": {
    "ExecuteTime": {
     "end_time": "2020-03-13T11:06:12.911513Z",
     "start_time": "2020-03-13T11:06:12.894Z"
    }
   },
   "outputs": [
    {
     "ename": "ERROR",
     "evalue": "Error in dispImp(daTest[, \"origEthn\"], Yhatq): objet 'Yhatq' introuvable\n",
     "output_type": "error",
     "traceback": [
      "Error in dispImp(daTest[, \"origEthn\"], Yhatq): objet 'Yhatq' introuvable\nTraceback:\n",
      "1. dispImp(daTest[, \"origEthn\"], Yhatq)"
     ]
    }
   ],
   "source": [
    "round(dispImp(daTest[,\"origEthn\"],Yhatq),3)"
   ]
  },
  {
   "cell_type": "markdown",
   "metadata": {},
   "source": [
    "### Effet disproportionné des prévisions sans la variable sensible\n",
    "L'approche très naïve qui consiste à supprimer la variable sensible du modèle n'a finalement pas d'effet sur le biais et donc le caractère discriminatoire de l'algorithme.\n",
    "#### En supprimant la variable genre"
   ]
  },
  {
   "cell_type": "code",
   "execution_count": 38,
   "metadata": {
    "ExecuteTime": {
     "end_time": "2020-03-13T11:06:18.911951Z",
     "start_time": "2020-03-13T11:06:18.889Z"
    }
   },
   "outputs": [
    {
     "data": {
      "text/html": [
       "<ol class=list-inline>\n",
       "\t<li>0.232</li>\n",
       "\t<li>0.269</li>\n",
       "\t<li>0.305</li>\n",
       "</ol>\n"
      ],
      "text/latex": [
       "\\begin{enumerate*}\n",
       "\\item 0.232\n",
       "\\item 0.269\n",
       "\\item 0.305\n",
       "\\end{enumerate*}\n"
      ],
      "text/markdown": [
       "1. 0.232\n",
       "2. 0.269\n",
       "3. 0.305\n",
       "\n",
       "\n"
      ],
      "text/plain": [
       "[1] 0.232 0.269 0.305"
      ]
     },
     "metadata": {},
     "output_type": "display_data"
    }
   ],
   "source": [
    "Yhat_g=as.factor(pred_g.log>0.5)\n",
    "round(dispImp(daTest[,\"sex\"],Yhat_g),3)"
   ]
  },
  {
   "cell_type": "markdown",
   "metadata": {},
   "source": [
    "#### En supprimant la variable origine"
   ]
  },
  {
   "cell_type": "code",
   "execution_count": 39,
   "metadata": {
    "ExecuteTime": {
     "end_time": "2020-03-13T11:06:21.734810Z",
     "start_time": "2020-03-13T11:06:21.706Z"
    }
   },
   "outputs": [
    {
     "data": {
      "text/html": [
       "<ol class=list-inline>\n",
       "\t<li>0.498</li>\n",
       "\t<li>0.586</li>\n",
       "\t<li>0.673</li>\n",
       "</ol>\n"
      ],
      "text/latex": [
       "\\begin{enumerate*}\n",
       "\\item 0.498\n",
       "\\item 0.586\n",
       "\\item 0.673\n",
       "\\end{enumerate*}\n"
      ],
      "text/markdown": [
       "1. 0.498\n",
       "2. 0.586\n",
       "3. 0.673\n",
       "\n",
       "\n"
      ],
      "text/plain": [
       "[1] 0.498 0.586 0.673"
      ]
     },
     "metadata": {},
     "output_type": "display_data"
    }
   ],
   "source": [
    "Yhat_o=as.factor(pred_o.log>0.5)\n",
    "round(dispImp(daTest[,\"origEthn\"],Yhat_o),3)"
   ]
  },
  {
   "cell_type": "markdown",
   "metadata": {},
   "source": [
    "De même que les erreurs de prévisions restent stables, l'effet disproportionné n'est pas statistiquement affecté par la suppression de la variable sensible du modèle. Le déterminisme social est plus fort que la présence de la variable sensible: *une femme ou une personne non caucasienne travaille de toute façon moins ou de façon moins qualifiée quelque soit son niveau d'éducation*. La suppression de la variable sensible n'impacte donc pas la modélisation. "
   ]
  },
  {
   "cell_type": "markdown",
   "metadata": {},
   "source": [
    "### Impact de l'algorithme\n",
    "Comme vu précédemment, la régression logistique renforce de façon importante voire statistiquement significative le bais déjà présent dans les données. Ce n'est pas le cas de *random forest* sur cet échantillon test.  Plus précisément, Friedler et al. (2019) mettent en oeuvre une comparaison exhaustive de plusieurs algorithmes de débiaisage sur 5 jeux de données publics dont celles issues du recensement `adultCensus`. Les résultats sont comparés avec ceux \"*base line*\" d'algorithmes d'apprentissage classique (SVM, logistique, arbre de décision, bayésien naïf). Les résultats affichés mettent en évidence une forte disparité des *DI* calculés pour ces différents algorithmes ainsi que pour différentes extractions d'échantillons tests.\n",
    "\n",
    " Le code ci-dessous permet de vérifier ces points en considérant (validation croisée *Monte Carlo*) 20 réplications de la séparation des échantillons d'apprentissage et de test sur lesquels sont entraînés trois algorithmes: logistique linéaire, arbre de décision, *random forest*, avant d'évaluer le DI observé sur la prévision de l'échantillon test. Les SVM ainsi que les classifieurs bayésiens naïfs considérés par Friedler et al. (2019) ne sont pas repris car ils engendrent des problèmes sans doute à cause de la présence des variables qualitatives qui doivent être tranformées en indicatrices. Ceci pourra être complété dans un deuxième temps mais ce n'est indispensable pour mettre en évidence l'influence d'un algorithme sur l'effet disproportionné.\n",
    "\n",
    "La librairie `caret` est utilisée pour simplifier le code et réduire les temps de calcul en parallélisant. Le fichier d'entraînement est de taille importante et impose des temps de calcul rédhibitoires lors de l'optimisation des hyperparamètres qui est simplifiée car l'objectif n'est pas de rechercher la meilleure précision.\n",
    "\n",
    "**Attention** l'exécution de la cellule ci-dessous est longue. Elle peut être sautée car les principaux résultats (précision et DI) ont été enregistrés dans deux fichiers afin de faciliter les comparaisons entre les algorithmes et avec ceux de Friedler et al. (2019)."
   ]
  },
  {
   "cell_type": "code",
   "execution_count": 76,
   "metadata": {},
   "outputs": [
    {
     "name": "stdout",
     "output_type": "stream",
     "text": [
      "[1] \"i=1  DI initial:  0.338  0.378  0.418\"\n",
      "[1] \"Précision de logit: 0.838 arbre: 0.844 rf: 0.863\"\n",
      "[1] \"DI de        logit: 0.218 arbre: 0.272 rf: 0.32\"\n",
      "[1] \"i=2  DI initial:  0.312  0.35  0.389\"\n",
      "[1] \"Précision de logit: 0.838 arbre: 0.848 rf: 0.864\"\n",
      "[1] \"DI de        logit: 0.22 arbre: 0.287 rf: 0.318\"\n",
      "[1] \"i=3  DI initial:  0.302  0.339  0.377\"\n",
      "[1] \"Précision de logit: 0.835 arbre: 0.846 rf: 0.861\"\n",
      "[1] \"DI de        logit: 0.207 arbre: 0.258 rf: 0.306\"\n",
      "[1] \"i=4  DI initial:  0.327  0.367  0.406\"\n",
      "[1] \"Précision de logit: 0.829 arbre: 0.843 rf: 0.857\"\n",
      "[1] \"DI de        logit: 0.23 arbre: 0.289 rf: 0.347\"\n",
      "[1] \"i=5  DI initial:  0.329  0.368  0.407\"\n",
      "[1] \"Précision de logit: 0.84 arbre: 0.846 rf: 0.864\"\n",
      "[1] \"DI de        logit: 0.211 arbre: 0.293 rf: 0.301\"\n",
      "[1] \"i=6  DI initial:  0.315  0.354  0.392\"\n",
      "[1] \"Précision de logit: 0.833 arbre: 0.844 rf: 0.858\"\n",
      "[1] \"DI de        logit: 0.217 arbre: 0.277 rf: 0.313\"\n",
      "[1] \"i=7  DI initial:  0.333  0.373  0.414\"\n",
      "[1] \"Précision de logit: 0.84 arbre: 0.848 rf: 0.86\"\n",
      "[1] \"DI de        logit: 0.236 arbre: 0.303 rf: 0.363\"\n",
      "[1] \"i=8  DI initial:  0.332  0.372  0.411\"\n",
      "[1] \"Précision de logit: 0.841 arbre: 0.85 rf: 0.866\"\n",
      "[1] \"DI de        logit: 0.235 arbre: 0.327 rf: 0.354\"\n",
      "[1] \"i=9  DI initial:  0.361  0.403  0.446\"\n",
      "[1] \"Précision de logit: 0.831 arbre: 0.847 rf: 0.858\"\n",
      "[1] \"DI de        logit: 0.225 arbre: 0.301 rf: 0.322\"\n",
      "[1] \"i=10  DI initial:  0.306  0.343  0.381\"\n",
      "[1] \"Précision de logit: 0.837 arbre: 0.849 rf: 0.864\"\n",
      "[1] \"DI de        logit: 0.227 arbre: 0.294 rf: 0.326\"\n",
      "[1] \"i=11  DI initial:  0.333  0.373  0.412\"\n",
      "[1] \"Précision de logit: 0.838 arbre: 0.847 rf: 0.864\"\n",
      "[1] \"DI de        logit: 0.196 arbre: 0.274 rf: 0.318\"\n",
      "[1] \"i=12  DI initial:  0.287  0.323  0.359\"\n",
      "[1] \"Précision de logit: 0.829 arbre: 0.844 rf: 0.857\"\n",
      "[1] \"DI de        logit: 0.184 arbre: 0.265 rf: 0.298\"\n",
      "[1] \"i=13  DI initial:  0.329  0.369  0.408\"\n",
      "[1] \"Précision de logit: 0.835 arbre: 0.847 rf: 0.862\"\n",
      "[1] \"DI de        logit: 0.221 arbre: 0.298 rf: 0.309\"\n",
      "[1] \"i=14  DI initial:  0.313  0.352  0.39\"\n",
      "[1] \"Précision de logit: 0.839 arbre: 0.846 rf: 0.861\"\n",
      "[1] \"DI de        logit: 0.226 arbre: 0.293 rf: 0.309\"\n",
      "[1] \"i=15  DI initial:  0.327  0.366  0.405\"\n",
      "[1] \"Précision de logit: 0.835 arbre: 0.845 rf: 0.858\"\n",
      "[1] \"DI de        logit: 0.232 arbre: 0.296 rf: 0.341\"\n",
      "[1] \"i=16  DI initial:  0.354  0.395  0.436\"\n",
      "[1] \"Précision de logit: 0.834 arbre: 0.848 rf: 0.859\"\n",
      "[1] \"DI de        logit: 0.193 arbre: 0.282 rf: 0.299\"\n",
      "[1] \"i=17  DI initial:  0.32  0.359  0.398\"\n",
      "[1] \"Précision de logit: 0.838 arbre: 0.846 rf: 0.861\"\n",
      "[1] \"DI de        logit: 0.216 arbre: 0.312 rf: 0.344\"\n",
      "[1] \"i=18  DI initial:  0.328  0.369  0.409\"\n",
      "[1] \"Précision de logit: 0.837 arbre: 0.847 rf: 0.863\"\n",
      "[1] \"DI de        logit: 0.225 arbre: 0.274 rf: 0.319\"\n",
      "[1] \"i=19  DI initial:  0.315  0.354  0.393\"\n",
      "[1] \"Précision de logit: 0.832 arbre: 0.841 rf: 0.861\"\n",
      "[1] \"DI de        logit: 0.21 arbre: 0.288 rf: 0.311\"\n",
      "[1] \"i=20  DI initial:  0.369  0.411  0.454\"\n",
      "[1] \"Précision de logit: 0.832 arbre: 0.84 rf: 0.856\"\n",
      "[1] \"DI de        logit: 0.241 arbre: 0.315 rf: 0.345\"\n"
     ]
    }
   ],
   "source": [
    "##############################\n",
    "# Ne pas exécuter  c'est long#\n",
    "##############################\n",
    "# parallélisation\n",
    "library(doParallel)\n",
    "cl <- makeCluster(4)\n",
    "registerDoParallel(cl) \n",
    "\n",
    "library(caret)\n",
    "# extraction des données en se limitant à l'échantillon  train initial\n",
    "# Variable cible\n",
    "# Y=datBas[1:29000,\"income\"]\n",
    "Y=datBas[,\"income\"]\n",
    "# Variables explicatives\n",
    "#X=datBas[1:29000,-8]\n",
    "X=datBas[,-8]\n",
    "# Transformation des facteurs en indicatrices pour utiliser SVM\n",
    "#library(FactoMineR)\n",
    "# X=data.frame(tab.disjonctif(X[,c(3,5,6,10)]),X[,-c(3,5,6,10)])\n",
    "\n",
    "xx=11 # initialisation du générateur de nombres pseudo aléatoires\n",
    "set.seed(11)\n",
    "for (i in 1:20) {\n",
    "inTrain = createDataPartition(X[,1],p = 0.8, list = FALSE)\n",
    "# Extraction des échantillons\n",
    "trainDescr=X[inTrain,]\n",
    "testDescr=X[-inTrain,]\n",
    "testY=Y[-inTrain]\n",
    "trainY=Y[inTrain]\n",
    "\n",
    "xTrans=trainDescr\n",
    "# normalisation pas utile\n",
    "# Normalisation calculée sur les paramètres de l'échantillon d'apprentissage\n",
    "# xTrans=preProcess(trainDescr)\n",
    "#trainDescr=predict(xTrans,trainDescr)\n",
    "# Puis appliquée également à l'échantillon test\n",
    "#testDescr=predict(xTrans,testDescr)\n",
    "# Choix de la validation croisée\n",
    "cvControl=trainControl(method=\"cv\",number=10)\n",
    "# Attention, la variable sex est remplacée par deux indicatrices\n",
    "# Il faut transformée l'indicatrice de \"Male\" en un facteur\n",
    "DI=round(dispImp(testDescr$sex,testY),3)\n",
    "print(paste0(\"i=\",i,\"  DI initial:  \",DI[1],\"  \",DI[2],\"  \",DI[3]))\n",
    "# Régression logistique\n",
    "set.seed(2)\n",
    "rlogFit = train(trainDescr, trainY, method = \"glmStepAIC\", trControl = cvControl, trace=FALSE)\n",
    "# Arbre de décision\n",
    "rpartFit = train(trainDescr, trainY, method = \"rpart\", tuneLength = 6, trControl = cvControl)\n",
    "# random forest\n",
    "rfFit = train(trainDescr, trainY,method = \"rf\", tuneGrid = data.frame(mtry = 3), trControl=trainControl(method = \"none\"), ntrees=500, trace=FALSE)\n",
    "# bayésien naïf\n",
    "# bnFit = train(trainDescr, trainY,method = \"nb\", tuneLength = 4, trControl = cvControl)\n",
    "# SVM noyau radial\n",
    "# svmFit = train(trainDescr, trainY,method = \"svmRadial\", tuneLength = 4, trControl = cvControl)\n",
    "# \n",
    "models=list(logit=rlogFit,arbre=rpartFit,rf=rfFit)\n",
    "testPred=predict(models, newdata = testDescr)\n",
    "# taux de bien classés\n",
    "prec=lapply(testPred,function(x)round(mean(x==testY),3))\n",
    "print(paste0(\"Précision de logit: \",prec$logit,\" arbre: \",prec$arbre,\" rf: \",prec$rf))\n",
    "#DI\n",
    "DI=lapply(testPred,function(x)round(dispImp(testDescr$sex,x)[2],3))\n",
    "print(paste0(\"DI de        logit: \",DI$logit,\" arbre: \",DI$arbre,\" rf: \",DI$rf))\n",
    "}"
   ]
  },
  {
   "cell_type": "code",
   "execution_count": 51,
   "metadata": {
    "ExecuteTime": {
     "end_time": "2020-03-12T05:15:53.216218Z",
     "start_time": "2020-03-12T05:15:53.194Z"
    }
   },
   "outputs": [],
   "source": [
    "di=read.table(\"di.txt\",header=T)\n",
    "pr=read.table(\"prec.txt\",header=T)\n",
    "dipr=data.frame(di,pr)"
   ]
  },
  {
   "cell_type": "code",
   "execution_count": 52,
   "metadata": {
    "ExecuteTime": {
     "end_time": "2020-03-12T05:15:55.224204Z",
     "start_time": "2020-03-12T05:15:55.144Z"
    }
   },
   "outputs": [
    {
     "data": {
      "image/png": "[encoded data removed]",
      "text/plain": [
       "Plot with title “Effet disproportionné”"
      ]
     },
     "metadata": {},
     "output_type": "display_data"
    }
   ],
   "source": [
    "par(mfrow=c(1,2))\n",
    "options(repr.plot.width=9, repr.plot.height=4)\n",
    "boxplot(pr,main=\"Précision\",col='lightblue');boxplot(di,main=\"Effet disproportionné\",col='lightblue')"
   ]
  },
  {
   "cell_type": "markdown",
   "metadata": {},
   "source": [
    "Comme attendu, la précision dépend fortement de l'algorithme choisie mais aussi, c'est important et moins attendu, l'estimation du *DI*. De façon relativement contre-intuitive, meilleure est la précision et moins le biais est renforcé par rapport à celui `DIbase` des données d'entraînement. Mais, pour un algorithme donné, le *DI* n'est pas corrélé à la précision sur un échantillon d'apprentissage."
   ]
  },
  {
   "cell_type": "code",
   "execution_count": null,
   "metadata": {
    "ExecuteTime": {
     "end_time": "2020-03-12T05:16:12.385393Z",
     "start_time": "2020-03-12T05:16:12.223Z"
    }
   },
   "outputs": [],
   "source": [
    "# ne pas exécuter\n",
    "par(mfrow=c(1,3))\n",
    "options(repr.plot.width=9, repr.plot.height=3)\n",
    "plot(pr$Plogit,di$DIlogit);plot(pr$Parbre,di$DIarbre);plot(pr$Prf,di$DIrf)"
   ]
  },
  {
   "cell_type": "markdown",
   "metadata": {},
   "source": [
    "**En résumé** les forêts aléatoire apportent deux avantages par rapport à la régression logistique: meilleure prévision et moindre discrimination mais au prix évidemment de l'interprétabilité.\n",
    "\n",
    "**Attention** comme le rappelle Friedler et al. (2019) les résultats et conclusions peuvent changer d'un jeu de données à un autre. C'est déjà bien connu en ce qui concerne la précision de la prévision, il est nécessaire de l'intégrer dans la gestion du biais."
   ]
  },
  {
   "cell_type": "markdown",
   "metadata": {},
   "source": [
    "### Réduction du biais par correction du seuil\n",
    "La suppression de la variable sensible ne corrige pas le biais. Une façon très élémentaire de le faire, même si elle peut être jugée déloyale, consiste à intervenir sur les seuils de décisions. Par défaut, ce seuil est fixé à 0.5 pour affecter la prévision à la classe. Il suffit de le modifier conditionnellement aux niveaux de la variable sensible pour intervenir directement sur le biais. \n",
    "\n",
    "Ainsi, un seuil plus favorable de 0.4 pour les femmes permet de retrouver une valeur de $DI$ analogue à celle des données de la base sans pour autant que le taux d'erreur en soit affecté."
   ]
  },
  {
   "cell_type": "code",
   "execution_count": 40,
   "metadata": {
    "ExecuteTime": {
     "end_time": "2020-03-13T11:06:39.616566Z",
     "start_time": "2020-03-13T11:06:39.584Z"
    }
   },
   "outputs": [
    {
     "data": {
      "text/html": [
       "<ol class=list-inline>\n",
       "\t<li>0.293</li>\n",
       "\t<li>0.334</li>\n",
       "\t<li>0.375</li>\n",
       "</ol>\n"
      ],
      "text/latex": [
       "\\begin{enumerate*}\n",
       "\\item 0.293\n",
       "\\item 0.334\n",
       "\\item 0.375\n",
       "\\end{enumerate*}\n"
      ],
      "text/markdown": [
       "1. 0.293\n",
       "2. 0.334\n",
       "3. 0.375\n",
       "\n",
       "\n"
      ],
      "text/plain": [
       "[1] 0.293 0.334 0.375"
      ]
     },
     "metadata": {},
     "output_type": "display_data"
    },
    {
     "data": {
      "text/html": [
       "16.55"
      ],
      "text/latex": [
       "16.55"
      ],
      "text/markdown": [
       "16.55"
      ],
      "text/plain": [
       "[1] 16.55"
      ]
     },
     "metadata": {},
     "output_type": "display_data"
    }
   ],
   "source": [
    "Yhat_cs=as.factor(ifelse(daTest$sex==\"Female\",pred.log>0.4,pred.log>0.5))\n",
    "round(dispImp(daTest[,\"sex\"],Yhat_cs),3)\n",
    "tauxErr(table(Yhat_cs,daTest$income))"
   ]
  },
  {
   "cell_type": "markdown",
   "metadata": {},
   "source": [
    "Une réduction plus marquée du seuil permet de restreindre significativement le biais de façon à ce que $0.8\\in IC$; il n'y a alors plus d'effet disproportionné juridiquement significatif. Le prix à payer est la dégradation du taux d'erreur de prévision."
   ]
  },
  {
   "cell_type": "code",
   "execution_count": 41,
   "metadata": {
    "ExecuteTime": {
     "end_time": "2020-03-13T11:06:48.001013Z",
     "start_time": "2020-03-13T11:06:47.968Z"
    }
   },
   "outputs": [
    {
     "data": {
      "text/html": [
       "<ol class=list-inline>\n",
       "\t<li>0.796</li>\n",
       "\t<li>0.863</li>\n",
       "\t<li>0.93</li>\n",
       "</ol>\n"
      ],
      "text/latex": [
       "\\begin{enumerate*}\n",
       "\\item 0.796\n",
       "\\item 0.863\n",
       "\\item 0.93\n",
       "\\end{enumerate*}\n"
      ],
      "text/markdown": [
       "1. 0.796\n",
       "2. 0.863\n",
       "3. 0.93\n",
       "\n",
       "\n"
      ],
      "text/plain": [
       "[1] 0.796 0.863 0.930"
      ]
     },
     "metadata": {},
     "output_type": "display_data"
    },
    {
     "data": {
      "text/html": [
       "18.57"
      ],
      "text/latex": [
       "18.57"
      ],
      "text/markdown": [
       "18.57"
      ],
      "text/plain": [
       "[1] 18.57"
      ]
     },
     "metadata": {},
     "output_type": "display_data"
    }
   ],
   "source": [
    "Yhat_cs=as.factor(ifelse(daTest$sex==\"Female\",pred.log>0.15,pred.log>0.5))\n",
    "round(dispImp(daTest[,\"sex\"],Yhat_cs),3)\n",
    "tauxErr(table(Yhat_cs,daTest$income))"
   ]
  },
  {
   "cell_type": "markdown",
   "metadata": {},
   "source": [
    "Même chose pour l'origine ethnique avec une correction plus légère du seuil."
   ]
  },
  {
   "cell_type": "code",
   "execution_count": 42,
   "metadata": {
    "ExecuteTime": {
     "end_time": "2020-03-13T11:06:55.719189Z",
     "start_time": "2020-03-13T11:06:55.690Z"
    }
   },
   "outputs": [
    {
     "data": {
      "text/html": [
       "<ol class=list-inline>\n",
       "\t<li>0.498</li>\n",
       "\t<li>0.585</li>\n",
       "\t<li>0.672</li>\n",
       "</ol>\n"
      ],
      "text/latex": [
       "\\begin{enumerate*}\n",
       "\\item 0.498\n",
       "\\item 0.585\n",
       "\\item 0.672\n",
       "\\end{enumerate*}\n"
      ],
      "text/markdown": [
       "1. 0.498\n",
       "2. 0.585\n",
       "3. 0.672\n",
       "\n",
       "\n"
      ],
      "text/plain": [
       "[1] 0.498 0.585 0.672"
      ]
     },
     "metadata": {},
     "output_type": "display_data"
    },
    {
     "data": {
      "text/html": [
       "16.56"
      ],
      "text/latex": [
       "16.56"
      ],
      "text/markdown": [
       "16.56"
      ],
      "text/plain": [
       "[1] 16.56"
      ]
     },
     "metadata": {},
     "output_type": "display_data"
    }
   ],
   "source": [
    "Yhat_co=as.factor(ifelse(daTest$origEthn==\"CaucNo\",pred.log>0.45,pred.log>0.5))\n",
    "round(dispImp(daTest[,\"origEthn\"],Yhat_co),3)\n",
    "tauxErr(table(Yhat_co,daTest$income))"
   ]
  },
  {
   "cell_type": "markdown",
   "metadata": {},
   "source": [
    "*Attention*, comme vu précédemment l'aléa intervenant par le tirage des échantillons a un effet important sur le *DI* qui est de ce fait relativement instable. L'obtention d'une \"bonne\" valeur de seuil pour réduire le biais de la prévision doit être conduite avec soin, notamment par validation croisée afin d'éviter de sur-ajuster ce paramètre à un échantillon test fixé. De façon plus élémentaire, que se passe-t-il avec un simple échantillon de validation en coupant en deux l'échantillon test."
   ]
  },
  {
   "cell_type": "code",
   "execution_count": 43,
   "metadata": {
    "ExecuteTime": {
     "end_time": "2020-03-13T11:07:07.534875Z",
     "start_time": "2020-03-13T11:07:07.502Z"
    }
   },
   "outputs": [],
   "source": [
    "set.seed(11) # initialisation du générateur\n",
    "# Extraction des échantillons\n",
    "test.ratio=.5   # part de l'échantillon test\n",
    "npop=nrow(daTest) # nombre de lignes dans les données\n",
    "# taille de l'échantillon test\n",
    "ntest=ceiling(npop*test.ratio) \n",
    "# indices de l'échantillon test\n",
    "testi=sample(1:npop,ntest)\n",
    "# indices de l'échantillon de validation\n",
    "vali=setdiff(1:npop,testi) "
   ]
  },
  {
   "cell_type": "code",
   "execution_count": 44,
   "metadata": {
    "ExecuteTime": {
     "end_time": "2020-03-13T11:07:10.144317Z",
     "start_time": "2020-03-13T11:07:10.121Z"
    }
   },
   "outputs": [],
   "source": [
    "daTest2=daTest[testi,]\n",
    "datVal=daTest[vali,]"
   ]
  },
  {
   "cell_type": "markdown",
   "metadata": {},
   "source": [
    "Prévisions de ces deux échantillons"
   ]
  },
  {
   "cell_type": "code",
   "execution_count": 45,
   "metadata": {
    "ExecuteTime": {
     "end_time": "2020-03-13T11:07:13.737799Z",
     "start_time": "2020-03-13T11:07:13.712Z"
    }
   },
   "outputs": [],
   "source": [
    "pred.log.val=predict(log.lm,newdata=datVal,type=\"response\")\n",
    "pred.log.test2=predict(log.lm,newdata=daTest2,type=\"response\")"
   ]
  },
  {
   "cell_type": "markdown",
   "metadata": {},
   "source": [
    "$DI$ de la base d'apprentissage à retrouver après correction."
   ]
  },
  {
   "cell_type": "code",
   "execution_count": 46,
   "metadata": {
    "ExecuteTime": {
     "end_time": "2020-03-13T11:07:18.431234Z",
     "start_time": "2020-03-13T11:07:18.412Z"
    }
   },
   "outputs": [
    {
     "data": {
      "text/html": [
       "<ol class=list-inline>\n",
       "\t<li>0.344</li>\n",
       "\t<li>0.363</li>\n",
       "\t<li>0.383</li>\n",
       "</ol>\n"
      ],
      "text/latex": [
       "\\begin{enumerate*}\n",
       "\\item 0.344\n",
       "\\item 0.363\n",
       "\\item 0.383\n",
       "\\end{enumerate*}\n"
      ],
      "text/markdown": [
       "1. 0.344\n",
       "2. 0.363\n",
       "3. 0.383\n",
       "\n",
       "\n"
      ],
      "text/plain": [
       "[1] 0.344 0.363 0.383"
      ]
     },
     "metadata": {},
     "output_type": "display_data"
    }
   ],
   "source": [
    "round(dispImp(datApp[,\"sex\"],datApp[,\"income\"]),3)"
   ]
  },
  {
   "cell_type": "markdown",
   "metadata": {},
   "source": [
    "La modification du seuil est \"choisie\" sur l'échantillon `datVal`"
   ]
  },
  {
   "cell_type": "code",
   "execution_count": 47,
   "metadata": {
    "ExecuteTime": {
     "end_time": "2020-03-13T11:07:23.405742Z",
     "start_time": "2020-03-13T11:07:23.381Z"
    }
   },
   "outputs": [
    {
     "data": {
      "text/html": [
       "<ol class=list-inline>\n",
       "\t<li>0.299</li>\n",
       "\t<li>0.36</li>\n",
       "\t<li>0.421</li>\n",
       "</ol>\n"
      ],
      "text/latex": [
       "\\begin{enumerate*}\n",
       "\\item 0.299\n",
       "\\item 0.36\n",
       "\\item 0.421\n",
       "\\end{enumerate*}\n"
      ],
      "text/markdown": [
       "1. 0.299\n",
       "2. 0.36\n",
       "3. 0.421\n",
       "\n",
       "\n"
      ],
      "text/plain": [
       "[1] 0.299 0.360 0.421"
      ]
     },
     "metadata": {},
     "output_type": "display_data"
    },
    {
     "data": {
      "text/html": [
       "15.92"
      ],
      "text/latex": [
       "15.92"
      ],
      "text/markdown": [
       "15.92"
      ],
      "text/plain": [
       "[1] 15.92"
      ]
     },
     "metadata": {},
     "output_type": "display_data"
    }
   ],
   "source": [
    "Yhat_cs=as.factor(ifelse(datVal$sex==\"Female\",pred.log.val>0.37,pred.log.val>0.5))\n",
    "round(dispImp(datVal[,\"sex\"],Yhat_cs),3)\n",
    "tauxErr(table(Yhat_cs,datVal$income))"
   ]
  },
  {
   "cell_type": "markdown",
   "metadata": {},
   "source": [
    "Puis appliquée à l'échantillon test."
   ]
  },
  {
   "cell_type": "code",
   "execution_count": 48,
   "metadata": {
    "ExecuteTime": {
     "end_time": "2020-03-13T11:07:27.583021Z",
     "start_time": "2020-03-13T11:07:27.557Z"
    }
   },
   "outputs": [
    {
     "data": {
      "text/html": [
       "<ol class=list-inline>\n",
       "\t<li>0.309</li>\n",
       "\t<li>0.369</li>\n",
       "\t<li>0.429</li>\n",
       "</ol>\n"
      ],
      "text/latex": [
       "\\begin{enumerate*}\n",
       "\\item 0.309\n",
       "\\item 0.369\n",
       "\\item 0.429\n",
       "\\end{enumerate*}\n"
      ],
      "text/markdown": [
       "1. 0.309\n",
       "2. 0.369\n",
       "3. 0.429\n",
       "\n",
       "\n"
      ],
      "text/plain": [
       "[1] 0.309 0.369 0.429"
      ]
     },
     "metadata": {},
     "output_type": "display_data"
    },
    {
     "data": {
      "text/html": [
       "17.26"
      ],
      "text/latex": [
       "17.26"
      ],
      "text/markdown": [
       "17.26"
      ],
      "text/plain": [
       "[1] 17.26"
      ]
     },
     "metadata": {},
     "output_type": "display_data"
    }
   ],
   "source": [
    "Yhat_cs=as.factor(ifelse(daTest2$sex==\"Female\",pred.log.test2>0.37,pred.log.test2>0.5))\n",
    "round(dispImp(daTest2[,\"sex\"],Yhat_cs),3)\n",
    "tauxErr(table(Yhat_cs,daTest2$income))"
   ]
  },
  {
   "cell_type": "markdown",
   "metadata": {},
   "source": [
    "**Remarques**: \n",
    "- L'intervalle de confiance calculé sur l'autre échantillon test reste stable. En revanche, l'estimation du taux d'erreur est affecté d'une variance plus importante. Compte tenu de la taille de l'intervalle de confiance, cette approche très rudimentaire pourrait tout à fait être \"industrialisée\".\n",
    "- Cette approche utilisée par exemple dans les universités américaines, en situation de concours, pour mieux \"équilibrer\" les admissions des étudiants selon leur origine soulève des problèmes. Elle est attaquée en justice notamment pas les candidats d'origine asiatique qui se considèrent lésés. Pour certains auteurs et dans le cas d'un concours, il s'agit d'une approche *unfair by design*.  "
   ]
  },
  {
   "cell_type": "markdown",
   "metadata": {},
   "source": [
    "### Expliquer / éliminer la discrimination ?\n",
    "De façon notable, le modèle de régression logistique reproduit le biais social et le renforce en introduisant donc de la discrimination; c'est moins net pour l'algorithme des forêts aléatoires,  Est-il possible d'expliquer ce comportement ou plus précisément d'utiliser le bon modèle ou bon algorithme qui l'évite?\n",
    "\n",
    "Pour ce faire différents modèles vont être estimés selon le genre dans les quatre cas:\n",
    "- régression logistique, \n",
    "- régression logistique quadratique, \n",
    "- arbre binaire, \n",
    "- forêts aléatoires, \n",
    "\n",
    "afin d'évaluer comment évolue la discrimination. Deux modèles (arbre binaire et forêt aléatoire) sont également évalués en tenant compte de la sous-représentation des femmes, qui sont deux fois moins nombreuses dans la base de données,  par modification des pondérations des entrées de l'algorithme.\n",
    "\n",
    "#### Séparation des deux échantillons\n",
    "Les échantillons sont séparés en deux parties."
   ]
  },
  {
   "cell_type": "code",
   "execution_count": 49,
   "metadata": {
    "ExecuteTime": {
     "end_time": "2020-03-13T11:08:33.036368Z",
     "start_time": "2020-03-13T11:08:32.985Z"
    }
   },
   "outputs": [
    {
     "data": {
      "text/plain": [
       "      age           educNum               mariStat              occup      \n",
       " Min.   :18.00   Min.   : 1.00   Married      :15053   Admin       : 1448  \n",
       " 1st Qu.:30.00   1st Qu.: 9.00   Never-Married: 6286   Blue-Collar :10508  \n",
       " Median :38.00   Median :10.00   Not-Married  : 2684   Other-occups: 1366  \n",
       " Mean   :39.49   Mean   :10.16   Widowed      :  196   Professional: 3038  \n",
       " 3rd Qu.:48.00   3rd Qu.:13.00                         Sales       : 2768  \n",
       " Max.   :90.00   Max.   :16.00                         Service     : 1657  \n",
       "                                                       White-Collar: 3434  \n",
       "    origEthn         sex          hoursWeek      income       LcapitalGain    \n",
       " CaucNo : 2767   Female:    0   Min.   : 1.00   incB:16599   Min.   : 0.0000  \n",
       " CaucYes:21452   Male  :24219   1st Qu.:40.00   incH: 7620   1st Qu.: 0.0000  \n",
       "                                Median :40.00                Median : 0.0000  \n",
       "                                Mean   :43.06                Mean   : 0.8756  \n",
       "                                3rd Qu.:50.00                3rd Qu.: 0.0000  \n",
       "                                Max.   :99.00                Max.   :11.5129  \n",
       "                                                                              \n",
       "  LcapitalLoss         child      \n",
       " Min.   :0.0000   ChildNo :21431  \n",
       " 1st Qu.:0.0000   ChildYes: 2788  \n",
       " Median :0.0000                   \n",
       " Mean   :0.4026                   \n",
       " 3rd Qu.:0.0000                   \n",
       " Max.   :8.2351                   \n",
       "                                  "
      ]
     },
     "metadata": {},
     "output_type": "display_data"
    }
   ],
   "source": [
    "datAppF=datApp[datApp[,\"sex\"]=='Female',]\n",
    "datAppM=datApp[datApp[,\"sex\"]=='Male',]\n",
    "daTestF=daTest[daTest[,\"sex\"]=='Female',]\n",
    "daTestM=daTest[daTest[,\"sex\"]=='Male',,]\n",
    "summary(datAppM)"
   ]
  },
  {
   "cell_type": "markdown",
   "metadata": {},
   "source": [
    "#### Régression logistique"
   ]
  },
  {
   "cell_type": "code",
   "execution_count": 50,
   "metadata": {
    "ExecuteTime": {
     "end_time": "2020-03-13T11:08:37.577057Z",
     "start_time": "2020-03-13T11:08:37.009Z"
    }
   },
   "outputs": [
    {
     "data": {
      "text/plain": [
       "\n",
       "Call:\n",
       "glm(formula = income ~ ., family = binomial, data = datAppF[, \n",
       "    -6])\n",
       "\n",
       "Deviance Residuals: \n",
       "    Min       1Q   Median       3Q      Max  \n",
       "-2.7599  -0.3155  -0.1702  -0.0857   3.2486  \n",
       "\n",
       "Coefficients:\n",
       "                       Estimate Std. Error z value Pr(>|z|)    \n",
       "(Intercept)           -6.630302   0.329682 -20.111  < 2e-16 ***\n",
       "age                    0.028243   0.003632   7.776 7.51e-15 ***\n",
       "educNum                0.344333   0.022115  15.570  < 2e-16 ***\n",
       "mariStatNever-Married -3.234358   0.109992 -29.405  < 2e-16 ***\n",
       "mariStatNot-Married   -3.184526   0.104019 -30.615  < 2e-16 ***\n",
       "mariStatWidowed       -3.084459   0.186985 -16.496  < 2e-16 ***\n",
       "occupBlue-Collar      -0.271436   0.170624  -1.591   0.1116    \n",
       "occupOther-occups      0.460846   0.179814   2.563   0.0104 *  \n",
       "occupProfessional      0.506472   0.123034   4.117 3.85e-05 ***\n",
       "occupSales             0.046678   0.150410   0.310   0.7563    \n",
       "occupService          -0.837763   0.168564  -4.970 6.70e-07 ***\n",
       "occupWhite-Collar      0.782616   0.121641   6.434 1.24e-10 ***\n",
       "origEthnCaucYes        0.253472   0.109607   2.313   0.0207 *  \n",
       "hoursWeek              0.031452   0.003454   9.107  < 2e-16 ***\n",
       "LcapitalGain           0.246956   0.013255  18.631  < 2e-16 ***\n",
       "LcapitalLoss           0.150255   0.020517   7.323 2.42e-13 ***\n",
       "childChildYes         -0.866000   0.204983  -4.225 2.39e-05 ***\n",
       "---\n",
       "Signif. codes:  0 ‘***’ 0.001 ‘**’ 0.01 ‘*’ 0.05 ‘.’ 0.1 ‘ ’ 1\n",
       "\n",
       "(Dispersion parameter for binomial family taken to be 1)\n",
       "\n",
       "    Null deviance: 8214.2  on 11552  degrees of freedom\n",
       "Residual deviance: 4639.5  on 11536  degrees of freedom\n",
       "AIC: 4673.5\n",
       "\n",
       "Number of Fisher Scoring iterations: 7\n"
      ]
     },
     "metadata": {},
     "output_type": "display_data"
    },
    {
     "data": {
      "text/plain": [
       "\n",
       "Call:\n",
       "glm(formula = income ~ ., family = binomial, data = datAppM[, \n",
       "    -6])\n",
       "\n",
       "Deviance Residuals: \n",
       "    Min       1Q   Median       3Q      Max  \n",
       "-2.7789  -0.6783  -0.2519   0.6406   3.5811  \n",
       "\n",
       "Coefficients:\n",
       "                       Estimate Std. Error z value Pr(>|z|)    \n",
       "(Intercept)           -5.687860   0.168043 -33.848  < 2e-16 ***\n",
       "age                    0.023581   0.001582  14.902  < 2e-16 ***\n",
       "educNum                0.274213   0.008997  30.480  < 2e-16 ***\n",
       "mariStatNever-Married -2.206630   0.068750 -32.097  < 2e-16 ***\n",
       "mariStatNot-Married   -1.618886   0.065785 -24.609  < 2e-16 ***\n",
       "mariStatWidowed       -1.405521   0.213035  -6.598 4.18e-11 ***\n",
       "occupBlue-Collar      -0.374446   0.078316  -4.781 1.74e-06 ***\n",
       "occupOther-occups      0.346870   0.097294   3.565 0.000364 ***\n",
       "occupProfessional      0.345929   0.087351   3.960 7.49e-05 ***\n",
       "occupSales             0.124214   0.086388   1.438 0.150472    \n",
       "occupService          -1.123745   0.132553  -8.478  < 2e-16 ***\n",
       "occupWhite-Collar      0.604677   0.083371   7.253 4.08e-13 ***\n",
       "origEthnCaucYes        0.158315   0.061333   2.581 0.009845 ** \n",
       "hoursWeek              0.027332   0.001588  17.215  < 2e-16 ***\n",
       "LcapitalGain           0.195010   0.006660  29.279  < 2e-16 ***\n",
       "LcapitalLoss           0.146997   0.009583  15.339  < 2e-16 ***\n",
       "childChildYes         -1.014060   0.151342  -6.700 2.08e-11 ***\n",
       "---\n",
       "Signif. codes:  0 ‘***’ 0.001 ‘**’ 0.01 ‘*’ 0.05 ‘.’ 0.1 ‘ ’ 1\n",
       "\n",
       "(Dispersion parameter for binomial family taken to be 1)\n",
       "\n",
       "    Null deviance: 30165  on 24218  degrees of freedom\n",
       "Residual deviance: 20036  on 24202  degrees of freedom\n",
       "AIC: 20070\n",
       "\n",
       "Number of Fisher Scoring iterations: 6\n"
      ]
     },
     "metadata": {},
     "output_type": "display_data"
    }
   ],
   "source": [
    "# Modèle linéaire\n",
    "reg.log=glm(income~.,data=datApp,family=binomial)\n",
    "# estimation des deux modèles\n",
    "reg.logF=glm(income~.,data=datAppF[,-6],family=binomial)\n",
    "reg.logM=glm(income~.,data=datAppM[,-6],family=binomial)\n",
    "# comparaison des paramètres\n",
    "summary(reg.logF);summary(reg.logM)"
   ]
  },
  {
   "cell_type": "code",
   "execution_count": 51,
   "metadata": {
    "ExecuteTime": {
     "end_time": "2020-03-13T11:08:43.001798Z",
     "start_time": "2020-03-13T11:08:42.954Z"
    }
   },
   "outputs": [
    {
     "data": {
      "text/plain": [
       "\n",
       "Call:\n",
       "glm(formula = income ~ ., family = binomial, data = datApp)\n",
       "\n",
       "Deviance Residuals: \n",
       "    Min       1Q   Median       3Q      Max  \n",
       "-2.8361  -0.5640  -0.2250  -0.0251   3.5922  \n",
       "\n",
       "Coefficients:\n",
       "                       Estimate Std. Error z value Pr(>|z|)    \n",
       "(Intercept)           -5.945211   0.144327 -41.193  < 2e-16 ***\n",
       "age                    0.023179   0.001442  16.071  < 2e-16 ***\n",
       "educNum                0.285120   0.008336  34.205  < 2e-16 ***\n",
       "mariStatNever-Married -2.432828   0.057391 -42.390  < 2e-16 ***\n",
       "mariStatNot-Married   -2.115795   0.055039 -38.442  < 2e-16 ***\n",
       "mariStatWidowed       -2.163944   0.130148 -16.627  < 2e-16 ***\n",
       "occupBlue-Collar      -0.341925   0.063323  -5.400 6.67e-08 ***\n",
       "occupOther-occups      0.382624   0.081347   4.704 2.56e-06 ***\n",
       "occupProfessional      0.406026   0.068205   5.953 2.63e-09 ***\n",
       "occupSales             0.126279   0.070264   1.797 0.072301 .  \n",
       "occupService          -0.991774   0.102333  -9.692  < 2e-16 ***\n",
       "occupWhite-Collar      0.655764   0.065707   9.980  < 2e-16 ***\n",
       "origEthnCaucYes        0.174274   0.052916   3.293 0.000990 ***\n",
       "sexMale                0.159121   0.046909   3.392 0.000693 ***\n",
       "hoursWeek              0.027185   0.001437  18.919  < 2e-16 ***\n",
       "LcapitalGain           0.207850   0.005977  34.773  < 2e-16 ***\n",
       "LcapitalLoss           0.149187   0.008657  17.234  < 2e-16 ***\n",
       "childChildYes         -0.935815   0.120346  -7.776 7.48e-15 ***\n",
       "---\n",
       "Signif. codes:  0 ‘***’ 0.001 ‘**’ 0.01 ‘*’ 0.05 ‘.’ 0.1 ‘ ’ 1\n",
       "\n",
       "(Dispersion parameter for binomial family taken to be 1)\n",
       "\n",
       "    Null deviance: 40227  on 35771  degrees of freedom\n",
       "Residual deviance: 24894  on 35754  degrees of freedom\n",
       "AIC: 24930\n",
       "\n",
       "Number of Fisher Scoring iterations: 7\n"
      ]
     },
     "metadata": {},
     "output_type": "display_data"
    }
   ],
   "source": [
    "summary(reg.log)"
   ]
  },
  {
   "cell_type": "code",
   "execution_count": 52,
   "metadata": {
    "ExecuteTime": {
     "end_time": "2020-03-13T11:08:47.296232Z",
     "start_time": "2020-03-13T11:08:47.247Z"
    }
   },
   "outputs": [],
   "source": [
    "# prévision des modèles\n",
    "yHat=predict(reg.log,newdata=daTest,type=\"response\")\n",
    "yHatF=predict(reg.logF,newdata=daTestF,type=\"response\")\n",
    "yHatM=predict(reg.logM,newdata=daTestM,type=\"response\")\n",
    "# compilation des prévisions\n",
    "yHatFM=c(yHatF,yHatM)"
   ]
  },
  {
   "cell_type": "code",
   "execution_count": 53,
   "metadata": {
    "ExecuteTime": {
     "end_time": "2020-03-13T11:08:50.810063Z",
     "start_time": "2020-03-13T11:08:50.779Z"
    }
   },
   "outputs": [
    {
     "data": {
      "text/html": [
       "<ol class=list-inline>\n",
       "\t<li>8943</li>\n",
       "\t<li>11</li>\n",
       "</ol>\n"
      ],
      "text/latex": [
       "\\begin{enumerate*}\n",
       "\\item 8943\n",
       "\\item 11\n",
       "\\end{enumerate*}\n"
      ],
      "text/markdown": [
       "1. 8943\n",
       "2. 11\n",
       "\n",
       "\n"
      ],
      "text/plain": [
       "[1] 8943   11"
      ]
     },
     "metadata": {},
     "output_type": "display_data"
    }
   ],
   "source": [
    "daTestFM=rbind(daTestF,daTestM)\n",
    "dim(daTestFM)"
   ]
  },
  {
   "cell_type": "code",
   "execution_count": 54,
   "metadata": {
    "ExecuteTime": {
     "end_time": "2020-03-13T11:08:54.753760Z",
     "start_time": "2020-03-13T11:08:54.731Z"
    }
   },
   "outputs": [
    {
     "data": {
      "text/plain": [
       "       \n",
       "        incB incH\n",
       "  FALSE 6150  935\n",
       "  TRUE   530 1328"
      ]
     },
     "metadata": {},
     "output_type": "display_data"
    }
   ],
   "source": [
    "# erreurs cumulées\n",
    "table(yHatFM>0.5,daTestFM$income)"
   ]
  },
  {
   "cell_type": "code",
   "execution_count": 55,
   "metadata": {
    "ExecuteTime": {
     "end_time": "2020-03-13T11:08:56.843436Z",
     "start_time": "2020-03-13T11:08:56.815Z"
    }
   },
   "outputs": [
    {
     "data": {
      "text/plain": [
       "       \n",
       "        incB incH\n",
       "  FALSE 6154  950\n",
       "  TRUE   526 1313"
      ]
     },
     "metadata": {},
     "output_type": "display_data"
    }
   ],
   "source": [
    "table(yHat>0.5,daTest$income)"
   ]
  },
  {
   "cell_type": "code",
   "execution_count": 56,
   "metadata": {
    "ExecuteTime": {
     "end_time": "2020-03-13T11:09:02.527693Z",
     "start_time": "2020-03-13T11:09:02.505Z"
    }
   },
   "outputs": [
    {
     "data": {
      "text/html": [
       "16.38"
      ],
      "text/latex": [
       "16.38"
      ],
      "text/markdown": [
       "16.38"
      ],
      "text/plain": [
       "[1] 16.38"
      ]
     },
     "metadata": {},
     "output_type": "display_data"
    }
   ],
   "source": [
    "tauxErr(table(yHatFM>0.5,daTestFM$income))"
   ]
  },
  {
   "cell_type": "code",
   "execution_count": 57,
   "metadata": {
    "ExecuteTime": {
     "end_time": "2020-03-13T11:09:04.494482Z",
     "start_time": "2020-03-13T11:09:04.474Z"
    }
   },
   "outputs": [
    {
     "data": {
      "text/html": [
       "16.5"
      ],
      "text/latex": [
       "16.5"
      ],
      "text/markdown": [
       "16.5"
      ],
      "text/plain": [
       "[1] 16.5"
      ]
     },
     "metadata": {},
     "output_type": "display_data"
    }
   ],
   "source": [
    "tauxErr(table(yHat>0.5,daTest$income))"
   ]
  },
  {
   "cell_type": "markdown",
   "metadata": {},
   "source": [
    "On retrouve le taux d'erreur précédent pour la régression logistique, c'est le même modèle, tandis que l'association des deux modèles conduit à une erreur plus faible en intégrant l'interaction du sexe avec les autres variables."
   ]
  },
  {
   "cell_type": "code",
   "execution_count": 58,
   "metadata": {
    "ExecuteTime": {
     "end_time": "2020-03-13T11:09:13.307173Z",
     "start_time": "2020-03-13T11:09:13.266Z"
    }
   },
   "outputs": [
    {
     "data": {
      "text/html": [
       "<ol class=list-inline>\n",
       "\t<li>0.284</li>\n",
       "\t<li>0.324</li>\n",
       "\t<li>0.365</li>\n",
       "</ol>\n"
      ],
      "text/latex": [
       "\\begin{enumerate*}\n",
       "\\item 0.284\n",
       "\\item 0.324\n",
       "\\item 0.365\n",
       "\\end{enumerate*}\n"
      ],
      "text/markdown": [
       "1. 0.284\n",
       "2. 0.324\n",
       "3. 0.365\n",
       "\n",
       "\n"
      ],
      "text/plain": [
       "[1] 0.284 0.324 0.365"
      ]
     },
     "metadata": {},
     "output_type": "display_data"
    },
    {
     "data": {
      "text/html": [
       "<ol class=list-inline>\n",
       "\t<li>0.212</li>\n",
       "\t<li>0.248</li>\n",
       "\t<li>0.283</li>\n",
       "</ol>\n"
      ],
      "text/latex": [
       "\\begin{enumerate*}\n",
       "\\item 0.212\n",
       "\\item 0.248\n",
       "\\item 0.283\n",
       "\\end{enumerate*}\n"
      ],
      "text/markdown": [
       "1. 0.212\n",
       "2. 0.248\n",
       "3. 0.283\n",
       "\n",
       "\n"
      ],
      "text/plain": [
       "[1] 0.212 0.248 0.283"
      ]
     },
     "metadata": {},
     "output_type": "display_data"
    }
   ],
   "source": [
    "# biais cumulés vs. biais \n",
    "round(dispImp(daTestFM[,\"sex\"],as.factor(yHatFM>0.5)),3); round(dispImp(daTest[,\"sex\"],as.factor(yHat>0.5)),3)"
   ]
  },
  {
   "cell_type": "code",
   "execution_count": 59,
   "metadata": {
    "ExecuteTime": {
     "end_time": "2020-03-13T11:09:16.537400Z",
     "start_time": "2020-03-13T11:09:16.514Z"
    }
   },
   "outputs": [
    {
     "data": {
      "text/html": [
       "<ol class=list-inline>\n",
       "\t<li>0.339</li>\n",
       "\t<li>0.379</li>\n",
       "\t<li>0.419</li>\n",
       "</ol>\n"
      ],
      "text/latex": [
       "\\begin{enumerate*}\n",
       "\\item 0.339\n",
       "\\item 0.379\n",
       "\\item 0.419\n",
       "\\end{enumerate*}\n"
      ],
      "text/markdown": [
       "1. 0.339\n",
       "2. 0.379\n",
       "3. 0.419\n",
       "\n",
       "\n"
      ],
      "text/plain": [
       "[1] 0.339 0.379 0.419"
      ]
     },
     "metadata": {},
     "output_type": "display_data"
    }
   ],
   "source": [
    "# Rappel: Biais de la base de test\n",
    "round(dispImp(daTestFM[,\"sex\"],daTestFM[,\"income\"]),3)"
   ]
  },
  {
   "cell_type": "markdown",
   "metadata": {},
   "source": [
    "Le biais est significativement plus faible pour l'association des deux modèles qui prend en compte les interactions du sexe avec les autres variables mais reste plus important que celui initial de la base.\n",
    "\n",
    "#### Régression logistique quadratique\n",
    "Exécution un peu longue de la sélection de variables pas-à-pas."
   ]
  },
  {
   "cell_type": "code",
   "execution_count": null,
   "metadata": {
    "ExecuteTime": {
     "end_time": "2019-10-23T13:06:01.543142Z",
     "start_time": "2019-10-23T12:45:44.911Z"
    }
   },
   "outputs": [],
   "source": [
    "# un peu long\n",
    "# régression quadratique\n",
    "reg.logQ=glm(income~1,data=datApp,family=binomial)\n",
    "# algorithme stepwise en précisant le plus grand modèle possible\n",
    "reg.logQ.step=step(reg.logQ,direction=\"both\",\n",
    "  scope=list(lower=~1,upper=~(age+educNum+mariStat+occup+origEthn+sex+hoursWeek+child+LcapitalGain+LcapitalLoss)^2), family=binomial)"
   ]
  },
  {
   "cell_type": "code",
   "execution_count": null,
   "metadata": {
    "ExecuteTime": {
     "end_time": "2019-10-23T13:07:18.479223Z",
     "start_time": "2019-10-23T13:07:18.444Z"
    }
   },
   "outputs": [],
   "source": [
    "yHatQ=predict(reg.logQ.step,newdata=daTest,type=\"response\")\n",
    "tauxErr(table(yHatQ>0.5,daTest$income))"
   ]
  },
  {
   "cell_type": "code",
   "execution_count": 65,
   "metadata": {
    "ExecuteTime": {
     "end_time": "2019-10-23T13:09:11.160648Z",
     "start_time": "2019-10-23T13:07:23.143Z"
    }
   },
   "outputs": [],
   "source": [
    "# régression avec le modèle minimum\n",
    "reg.logQF=glm(income~1,data=datAppF[,-6],family=binomial)\n",
    "# algorithme stepwise en précisant le plus grand modèle possible\n",
    "reg.logQF.step=step(reg.logQF,direction=\"both\",\n",
    "  scope=list(lower=~1,upper=~(age+educNum+mariStat+occup+origEthn+hoursWeek+child+LcapitalGain+LcapitalLoss)^2), trace=0, family=binomial)"
   ]
  },
  {
   "cell_type": "code",
   "execution_count": null,
   "metadata": {
    "ExecuteTime": {
     "end_time": "2019-10-23T13:10:38.839089Z",
     "start_time": "2019-10-23T13:10:38.816Z"
    }
   },
   "outputs": [],
   "source": [
    "summary(reg.logQF.step)"
   ]
  },
  {
   "cell_type": "code",
   "execution_count": 67,
   "metadata": {
    "ExecuteTime": {
     "end_time": "2019-10-23T13:13:56.561498Z",
     "start_time": "2019-10-23T13:10:46.657Z"
    }
   },
   "outputs": [],
   "source": [
    "# régression avec le modèle minimum\n",
    "reg.logQM=glm(income~1,data=datAppM[,-6],family=binomial)\n",
    "# algorithme stepwise en précisant le plus grand modèle possible\n",
    "reg.logQM.step=step(reg.logQM,direction=\"both\",\n",
    "  scope=list(lower=~1,upper=~(age+educNum+mariStat+occup+origEthn+hoursWeek+child+LcapitalGain+LcapitalLoss)^2),trace=0, family=binomial)"
   ]
  },
  {
   "cell_type": "code",
   "execution_count": null,
   "metadata": {
    "ExecuteTime": {
     "end_time": "2019-10-23T13:16:40.410140Z",
     "start_time": "2019-10-23T13:16:40.378Z"
    }
   },
   "outputs": [],
   "source": [
    "summary(reg.logQM.step)"
   ]
  },
  {
   "cell_type": "code",
   "execution_count": 69,
   "metadata": {
    "ExecuteTime": {
     "end_time": "2019-10-23T13:16:46.240041Z",
     "start_time": "2019-10-23T13:16:46.205Z"
    }
   },
   "outputs": [],
   "source": [
    "# prévision des modèles\n",
    "yHatQF=predict(reg.logQF.step,newdata=daTestF,type=\"response\")\n",
    "yHatQM=predict(reg.logQM.step,newdata=daTestM,type=\"response\")\n",
    "# compilation des prévisions\n",
    "yHatQFM=c(yHatQF,yHatQM)"
   ]
  },
  {
   "cell_type": "code",
   "execution_count": 70,
   "metadata": {
    "ExecuteTime": {
     "end_time": "2019-10-23T13:16:47.599818Z",
     "start_time": "2019-10-23T13:16:47.569Z"
    }
   },
   "outputs": [
    {
     "data": {
      "text/html": [
       "16.68"
      ],
      "text/latex": [
       "16.68"
      ],
      "text/markdown": [
       "16.68"
      ],
      "text/plain": [
       "[1] 16.68"
      ]
     },
     "metadata": {},
     "output_type": "display_data"
    },
    {
     "data": {
      "text/html": [
       "16.46"
      ],
      "text/latex": [
       "16.46"
      ],
      "text/markdown": [
       "16.46"
      ],
      "text/plain": [
       "[1] 16.46"
      ]
     },
     "metadata": {},
     "output_type": "display_data"
    }
   ],
   "source": [
    "tauxErr(table(yHatQFM>0.5,daTestFM$income)); tauxErr(table(yHatQ>0.5,daTest$incom))"
   ]
  },
  {
   "cell_type": "code",
   "execution_count": 71,
   "metadata": {
    "ExecuteTime": {
     "end_time": "2019-10-23T13:16:49.300332Z",
     "start_time": "2019-10-23T13:16:49.268Z"
    }
   },
   "outputs": [
    {
     "data": {
      "text/html": [
       "<ol class=list-inline>\n",
       "\t<li>0.293</li>\n",
       "\t<li>0.335</li>\n",
       "\t<li>0.376</li>\n",
       "</ol>\n"
      ],
      "text/latex": [
       "\\begin{enumerate*}\n",
       "\\item 0.293\n",
       "\\item 0.335\n",
       "\\item 0.376\n",
       "\\end{enumerate*}\n"
      ],
      "text/markdown": [
       "1. 0.293\n",
       "2. 0.335\n",
       "3. 0.376\n",
       "\n",
       "\n"
      ],
      "text/plain": [
       "[1] 0.293 0.335 0.376"
      ]
     },
     "metadata": {},
     "output_type": "display_data"
    }
   ],
   "source": [
    "# Biais quadLogit\n",
    "round(dispImp(daTest[,\"sex\"],as.factor(yHatQ>0.5)),3)"
   ]
  },
  {
   "cell_type": "code",
   "execution_count": 72,
   "metadata": {
    "ExecuteTime": {
     "end_time": "2019-10-23T13:16:50.673697Z",
     "start_time": "2019-10-23T13:16:50.643Z"
    }
   },
   "outputs": [
    {
     "data": {
      "text/html": [
       "<ol class=list-inline>\n",
       "\t<li>0.302</li>\n",
       "\t<li>0.344</li>\n",
       "\t<li>0.385</li>\n",
       "</ol>\n"
      ],
      "text/latex": [
       "\\begin{enumerate*}\n",
       "\\item 0.302\n",
       "\\item 0.344\n",
       "\\item 0.385\n",
       "\\end{enumerate*}\n"
      ],
      "text/markdown": [
       "1. 0.302\n",
       "2. 0.344\n",
       "3. 0.385\n",
       "\n",
       "\n"
      ],
      "text/plain": [
       "[1] 0.302 0.344 0.385"
      ]
     },
     "metadata": {},
     "output_type": "display_data"
    },
    {
     "data": {
      "text/html": [
       "<ol class=list-inline>\n",
       "\t<li>0.339</li>\n",
       "\t<li>0.379</li>\n",
       "\t<li>0.419</li>\n",
       "</ol>\n"
      ],
      "text/latex": [
       "\\begin{enumerate*}\n",
       "\\item 0.339\n",
       "\\item 0.379\n",
       "\\item 0.419\n",
       "\\end{enumerate*}\n"
      ],
      "text/markdown": [
       "1. 0.339\n",
       "2. 0.379\n",
       "3. 0.419\n",
       "\n",
       "\n"
      ],
      "text/plain": [
       "[1] 0.339 0.379 0.419"
      ]
     },
     "metadata": {},
     "output_type": "display_data"
    }
   ],
   "source": [
    "# Biais cumulé vs. biais de la base\n",
    "round(dispImp(daTestFM[,\"sex\"],as.factor(yHatQFM>0.5)),3);round(dispImp(daTestFM[,\"sex\"],daTestFM[,\"income\"]),3)"
   ]
  },
  {
   "cell_type": "markdown",
   "metadata": {},
   "source": [
    "Il n'y a plus significativement de discrimination avec des modèles quadratiques par genre.\n",
    "\n",
    "#### Arbre binaire\n",
    "Calcul d'un vecteur des poids donnant 2 fois plus d'importance aux femmes;"
   ]
  },
  {
   "cell_type": "code",
   "execution_count": 60,
   "metadata": {
    "ExecuteTime": {
     "end_time": "2020-03-13T11:09:51.705729Z",
     "start_time": "2020-03-13T11:09:51.690Z"
    }
   },
   "outputs": [],
   "source": [
    "w=as.integer(datApp[,\"sex\"]==\"Female\")+1"
   ]
  },
  {
   "cell_type": "code",
   "execution_count": 61,
   "metadata": {
    "ExecuteTime": {
     "end_time": "2020-03-13T11:09:56.124768Z",
     "start_time": "2020-03-13T11:09:52.790Z"
    }
   },
   "outputs": [],
   "source": [
    "library(rpart)\n",
    "# Modèle initial\n",
    "treeInit=rpart(income~.,data=datApp,cp=0.001)\n",
    "# modèle en changeant les poids\n",
    "treeInitW=rpart(income~.,data=datApp,weights=w,cp=0.001)\n",
    "# estimation des deux modèles\n",
    "tree.F=rpart(income~.,data=datAppF[,-6],cp=0.001)\n",
    "tree.M=rpart(income~.,data=datAppM[,-6],cp=0.001)\n",
    "# comparaison des paramètres"
   ]
  },
  {
   "cell_type": "code",
   "execution_count": 62,
   "metadata": {
    "ExecuteTime": {
     "end_time": "2020-03-13T11:09:59.886078Z",
     "start_time": "2020-03-13T11:09:59.808Z"
    }
   },
   "outputs": [
    {
     "data": {
      "image/png": "[encoded data removed]",
      "text/plain": [
       "plot without title"
      ]
     },
     "metadata": {},
     "output_type": "display_data"
    }
   ],
   "source": [
    "plot(treeInitW)\n",
    "text(treeInitW)"
   ]
  },
  {
   "cell_type": "code",
   "execution_count": 63,
   "metadata": {
    "ExecuteTime": {
     "end_time": "2020-03-13T11:10:04.209985Z",
     "start_time": "2020-03-13T11:10:04.151Z"
    }
   },
   "outputs": [],
   "source": [
    "# prévision des modèles\n",
    "yHatTree=predict(treeInit,newdata=daTest,type=\"class\")\n",
    "yHatTreeW=predict(treeInitW,newdata=daTest,type=\"class\")\n",
    "yHatFtree=predict(tree.F,newdata=daTestF,type=\"class\")\n",
    "yHatMtree=predict(tree.M,newdata=daTestM,type=\"class\")\n",
    "# compilation des prévisions\n",
    "yHatFMtree=c(yHatFtree,yHatMtree)"
   ]
  },
  {
   "cell_type": "code",
   "execution_count": 64,
   "metadata": {
    "ExecuteTime": {
     "end_time": "2020-03-13T11:10:06.620704Z",
     "start_time": "2020-03-13T11:10:06.591Z"
    }
   },
   "outputs": [
    {
     "data": {
      "text/plain": [
       "          \n",
       "yHatFMtree incB incH\n",
       "         1 6209  856\n",
       "         2  471 1407"
      ]
     },
     "metadata": {},
     "output_type": "display_data"
    },
    {
     "data": {
      "text/plain": [
       "        \n",
       "yHatTree incB incH\n",
       "    incB 6340  961\n",
       "    incH  340 1302"
      ]
     },
     "metadata": {},
     "output_type": "display_data"
    }
   ],
   "source": [
    "# erreurs cumulées vs. erreur initiale de rpart\n",
    "table(yHatFMtree,daTestFM$income); table(yHatTree,daTest$income)"
   ]
  },
  {
   "cell_type": "code",
   "execution_count": 65,
   "metadata": {
    "ExecuteTime": {
     "end_time": "2020-03-13T11:10:09.171310Z",
     "start_time": "2020-03-13T11:10:09.147Z"
    }
   },
   "outputs": [
    {
     "data": {
      "text/html": [
       "14.84"
      ],
      "text/latex": [
       "14.84"
      ],
      "text/markdown": [
       "14.84"
      ],
      "text/plain": [
       "[1] 14.84"
      ]
     },
     "metadata": {},
     "output_type": "display_data"
    },
    {
     "data": {
      "text/html": [
       "14.55"
      ],
      "text/latex": [
       "14.55"
      ],
      "text/markdown": [
       "14.55"
      ],
      "text/plain": [
       "[1] 14.55"
      ]
     },
     "metadata": {},
     "output_type": "display_data"
    }
   ],
   "source": [
    "tauxErr(table(yHatFMtree,daTestFM$income)); tauxErr(table(yHatTree,daTest$income))"
   ]
  },
  {
   "cell_type": "code",
   "execution_count": 66,
   "metadata": {
    "ExecuteTime": {
     "end_time": "2020-03-13T11:10:13.081081Z",
     "start_time": "2020-03-13T11:10:13.065Z"
    }
   },
   "outputs": [
    {
     "data": {
      "text/html": [
       "14.69"
      ],
      "text/latex": [
       "14.69"
      ],
      "text/markdown": [
       "14.69"
      ],
      "text/plain": [
       "[1] 14.69"
      ]
     },
     "metadata": {},
     "output_type": "display_data"
    }
   ],
   "source": [
    "tauxErr(table(yHatTreeW,daTest$income))"
   ]
  },
  {
   "cell_type": "code",
   "execution_count": 67,
   "metadata": {
    "ExecuteTime": {
     "end_time": "2020-03-13T11:10:14.877098Z",
     "start_time": "2020-03-13T11:10:14.847Z"
    }
   },
   "outputs": [
    {
     "data": {
      "text/html": [
       "<ol class=list-inline>\n",
       "\t<li>0.331</li>\n",
       "\t<li>0.375</li>\n",
       "\t<li>0.419</li>\n",
       "</ol>\n"
      ],
      "text/latex": [
       "\\begin{enumerate*}\n",
       "\\item 0.331\n",
       "\\item 0.375\n",
       "\\item 0.419\n",
       "\\end{enumerate*}\n"
      ],
      "text/markdown": [
       "1. 0.331\n",
       "2. 0.375\n",
       "3. 0.419\n",
       "\n",
       "\n"
      ],
      "text/plain": [
       "[1] 0.331 0.375 0.419"
      ]
     },
     "metadata": {},
     "output_type": "display_data"
    },
    {
     "data": {
      "text/html": [
       "<ol class=list-inline>\n",
       "\t<li>0.262</li>\n",
       "\t<li>0.304</li>\n",
       "\t<li>0.346</li>\n",
       "</ol>\n"
      ],
      "text/latex": [
       "\\begin{enumerate*}\n",
       "\\item 0.262\n",
       "\\item 0.304\n",
       "\\item 0.346\n",
       "\\end{enumerate*}\n"
      ],
      "text/markdown": [
       "1. 0.262\n",
       "2. 0.304\n",
       "3. 0.346\n",
       "\n",
       "\n"
      ],
      "text/plain": [
       "[1] 0.262 0.304 0.346"
      ]
     },
     "metadata": {},
     "output_type": "display_data"
    },
    {
     "data": {
      "text/html": [
       "<ol class=list-inline>\n",
       "\t<li>0.339</li>\n",
       "\t<li>0.379</li>\n",
       "\t<li>0.419</li>\n",
       "</ol>\n"
      ],
      "text/latex": [
       "\\begin{enumerate*}\n",
       "\\item 0.339\n",
       "\\item 0.379\n",
       "\\item 0.419\n",
       "\\end{enumerate*}\n"
      ],
      "text/markdown": [
       "1. 0.339\n",
       "2. 0.379\n",
       "3. 0.419\n",
       "\n",
       "\n"
      ],
      "text/plain": [
       "[1] 0.339 0.379 0.419"
      ]
     },
     "metadata": {},
     "output_type": "display_data"
    },
    {
     "data": {
      "text/html": [
       "<ol class=list-inline>\n",
       "\t<li>0.269</li>\n",
       "\t<li>0.311</li>\n",
       "\t<li>0.352</li>\n",
       "</ol>\n"
      ],
      "text/latex": [
       "\\begin{enumerate*}\n",
       "\\item 0.269\n",
       "\\item 0.311\n",
       "\\item 0.352\n",
       "\\end{enumerate*}\n"
      ],
      "text/markdown": [
       "1. 0.269\n",
       "2. 0.311\n",
       "3. 0.352\n",
       "\n",
       "\n"
      ],
      "text/plain": [
       "[1] 0.269 0.311 0.352"
      ]
     },
     "metadata": {},
     "output_type": "display_data"
    }
   ],
   "source": [
    "# Biais cumulé vs. biais du modèle initial vs. biais de la base\n",
    "round(dispImp(daTestFM[,\"sex\"],as.factor(yHatFMtree)),3);round(dispImp(daTest[,\"sex\"],as.factor(yHatTree)),3);\n",
    "round(dispImp(daTestFM[,\"sex\"],daTestFM[,\"income\"]),3);round(dispImp(daTest[,\"sex\"],as.factor(yHatTreeW)),3)"
   ]
  },
  {
   "cell_type": "markdown",
   "metadata": {},
   "source": [
    "#### *Random Forest*"
   ]
  },
  {
   "cell_type": "code",
   "execution_count": 68,
   "metadata": {
    "ExecuteTime": {
     "end_time": "2020-03-13T11:11:11.989062Z",
     "start_time": "2020-03-13T11:10:19.195Z"
    }
   },
   "outputs": [],
   "source": [
    "library(randomForest)\n",
    "# Modèle initial\n",
    "RFinit=randomForest(income~.,data=datApp)\n",
    "# Modèle en changeant les poids\n",
    "RFinitW=randomForest(income~.,data=datApp,weigth=w)\n",
    "# estimation des deux modèles\n",
    "RF.F=randomForest(income~.,data=datAppF[,-6])\n",
    "RF.M=randomForest(income~.,data=datAppM[,-6])\n",
    "# comparaison des paramètres"
   ]
  },
  {
   "cell_type": "code",
   "execution_count": 69,
   "metadata": {
    "ExecuteTime": {
     "end_time": "2020-03-13T11:11:13.901200Z",
     "start_time": "2020-03-13T11:10:20.934Z"
    }
   },
   "outputs": [],
   "source": [
    "# prévision des modèles\n",
    "yHatrf=predict(RFinit,newdata=daTest,type=\"response\")\n",
    "yHatrfW=predict(RFinitW,newdata=daTest,type=\"response\")\n",
    "yHatFrf=predict(RF.F,newdata=daTestF,type=\"response\")\n",
    "yHatMrf=predict(RF.M,newdata=daTestM,type=\"response\")\n",
    "# compilation des prévisions\n",
    "yHatFMrf=c(yHatFrf,yHatMrf)"
   ]
  },
  {
   "cell_type": "code",
   "execution_count": 70,
   "metadata": {
    "ExecuteTime": {
     "end_time": "2020-03-13T11:11:19.492549Z",
     "start_time": "2020-03-13T11:11:19.469Z"
    }
   },
   "outputs": [
    {
     "data": {
      "text/plain": [
       "        \n",
       "yHatFMrf incB incH\n",
       "       1 6278  870\n",
       "       2  402 1393"
      ]
     },
     "metadata": {},
     "output_type": "display_data"
    },
    {
     "data": {
      "text/plain": [
       "      \n",
       "yHatrf incB incH\n",
       "  incB 6287  871\n",
       "  incH  393 1392"
      ]
     },
     "metadata": {},
     "output_type": "display_data"
    }
   ],
   "source": [
    "# erreurs cumulées vs. erreur initiale de RF\n",
    "table(yHatFMrf,daTestFM$income); table(yHatrf,daTest$income)"
   ]
  },
  {
   "cell_type": "code",
   "execution_count": 71,
   "metadata": {
    "ExecuteTime": {
     "end_time": "2020-03-13T11:11:21.651722Z",
     "start_time": "2020-03-13T11:11:21.616Z"
    }
   },
   "outputs": [
    {
     "data": {
      "text/html": [
       "14.22"
      ],
      "text/latex": [
       "14.22"
      ],
      "text/markdown": [
       "14.22"
      ],
      "text/plain": [
       "[1] 14.22"
      ]
     },
     "metadata": {},
     "output_type": "display_data"
    },
    {
     "data": {
      "text/html": [
       "14.13"
      ],
      "text/latex": [
       "14.13"
      ],
      "text/markdown": [
       "14.13"
      ],
      "text/plain": [
       "[1] 14.13"
      ]
     },
     "metadata": {},
     "output_type": "display_data"
    },
    {
     "data": {
      "text/html": [
       "14.06"
      ],
      "text/latex": [
       "14.06"
      ],
      "text/markdown": [
       "14.06"
      ],
      "text/plain": [
       "[1] 14.06"
      ]
     },
     "metadata": {},
     "output_type": "display_data"
    }
   ],
   "source": [
    "tauxErr(table(yHatFMrf,daTestFM$income)); tauxErr(table(yHatrf,daTest$income))\n",
    "tauxErr(table(yHatrfW,daTest$income))"
   ]
  },
  {
   "cell_type": "code",
   "execution_count": 72,
   "metadata": {
    "ExecuteTime": {
     "end_time": "2020-03-13T11:11:24.207782Z",
     "start_time": "2020-03-13T11:11:24.168Z"
    }
   },
   "outputs": [
    {
     "data": {
      "text/html": [
       "<ol class=list-inline>\n",
       "\t<li>0.35</li>\n",
       "\t<li>0.397</li>\n",
       "\t<li>0.444</li>\n",
       "</ol>\n"
      ],
      "text/latex": [
       "\\begin{enumerate*}\n",
       "\\item 0.35\n",
       "\\item 0.397\n",
       "\\item 0.444\n",
       "\\end{enumerate*}\n"
      ],
      "text/markdown": [
       "1. 0.35\n",
       "2. 0.397\n",
       "3. 0.444\n",
       "\n",
       "\n"
      ],
      "text/plain": [
       "[1] 0.350 0.397 0.444"
      ]
     },
     "metadata": {},
     "output_type": "display_data"
    },
    {
     "data": {
      "text/html": [
       "<ol class=list-inline>\n",
       "\t<li>0.322</li>\n",
       "\t<li>0.367</li>\n",
       "\t<li>0.412</li>\n",
       "</ol>\n"
      ],
      "text/latex": [
       "\\begin{enumerate*}\n",
       "\\item 0.322\n",
       "\\item 0.367\n",
       "\\item 0.412\n",
       "\\end{enumerate*}\n"
      ],
      "text/markdown": [
       "1. 0.322\n",
       "2. 0.367\n",
       "3. 0.412\n",
       "\n",
       "\n"
      ],
      "text/plain": [
       "[1] 0.322 0.367 0.412"
      ]
     },
     "metadata": {},
     "output_type": "display_data"
    },
    {
     "data": {
      "text/html": [
       "<ol class=list-inline>\n",
       "\t<li>0.325</li>\n",
       "\t<li>0.37</li>\n",
       "\t<li>0.415</li>\n",
       "</ol>\n"
      ],
      "text/latex": [
       "\\begin{enumerate*}\n",
       "\\item 0.325\n",
       "\\item 0.37\n",
       "\\item 0.415\n",
       "\\end{enumerate*}\n"
      ],
      "text/markdown": [
       "1. 0.325\n",
       "2. 0.37\n",
       "3. 0.415\n",
       "\n",
       "\n"
      ],
      "text/plain": [
       "[1] 0.325 0.370 0.415"
      ]
     },
     "metadata": {},
     "output_type": "display_data"
    },
    {
     "data": {
      "text/html": [
       "<ol class=list-inline>\n",
       "\t<li>0.339</li>\n",
       "\t<li>0.379</li>\n",
       "\t<li>0.419</li>\n",
       "</ol>\n"
      ],
      "text/latex": [
       "\\begin{enumerate*}\n",
       "\\item 0.339\n",
       "\\item 0.379\n",
       "\\item 0.419\n",
       "\\end{enumerate*}\n"
      ],
      "text/markdown": [
       "1. 0.339\n",
       "2. 0.379\n",
       "3. 0.419\n",
       "\n",
       "\n"
      ],
      "text/plain": [
       "[1] 0.339 0.379 0.419"
      ]
     },
     "metadata": {},
     "output_type": "display_data"
    }
   ],
   "source": [
    "# Biais cumulé vs. biais du modèle initial vs. biais de la base\n",
    "round(dispImp(daTestFM[,\"sex\"],as.factor(yHatFMrf)),3);round(dispImp(daTest[,\"sex\"],as.factor(yHatrf)),3);\n",
    "round(dispImp(daTest[,\"sex\"],as.factor(yHatrfW)),3);round(dispImp(daTestFM[,\"sex\"],daTestFM[,\"income\"]),3)"
   ]
  },
  {
   "cell_type": "markdown",
   "metadata": {},
   "source": [
    "Introduction d'une discrimination positive en réduisant le seuil de décision pour les femmes."
   ]
  },
  {
   "cell_type": "code",
   "execution_count": 73,
   "metadata": {
    "ExecuteTime": {
     "end_time": "2020-03-13T11:11:32.388292Z",
     "start_time": "2020-03-13T11:11:31.782Z"
    }
   },
   "outputs": [],
   "source": [
    "# prévision des modèles\n",
    "yHatFrfDP=predict(RF.F,newdata=daTestF,type=\"prob\")[,1]<0.7\n",
    "yHatMrfDP=predict(RF.M,newdata=daTestM,type=\"prob\")[,1]<0.5\n",
    "# compilation des prévisions\n",
    "yHatFMrfDP=c(yHatFrfDP,yHatMrfDP)"
   ]
  },
  {
   "cell_type": "code",
   "execution_count": 74,
   "metadata": {
    "ExecuteTime": {
     "end_time": "2020-03-13T11:11:33.840539Z",
     "start_time": "2020-03-13T11:11:33.822Z"
    }
   },
   "outputs": [
    {
     "data": {
      "text/plain": [
       "          \n",
       "yHatFMrfDP incB incH\n",
       "     FALSE 6195  835\n",
       "     TRUE   485 1428"
      ]
     },
     "metadata": {},
     "output_type": "display_data"
    }
   ],
   "source": [
    "table(yHatFMrfDP,daTestFM$income)"
   ]
  },
  {
   "cell_type": "code",
   "execution_count": 75,
   "metadata": {
    "ExecuteTime": {
     "end_time": "2020-03-13T11:11:36.251287Z",
     "start_time": "2020-03-13T11:11:36.213Z"
    }
   },
   "outputs": [
    {
     "data": {
      "text/html": [
       "14.76"
      ],
      "text/latex": [
       "14.76"
      ],
      "text/markdown": [
       "14.76"
      ],
      "text/plain": [
       "[1] 14.76"
      ]
     },
     "metadata": {},
     "output_type": "display_data"
    }
   ],
   "source": [
    "tauxErr(table(yHatFMrfDP,daTestFM$income))"
   ]
  },
  {
   "cell_type": "code",
   "execution_count": 76,
   "metadata": {
    "ExecuteTime": {
     "end_time": "2020-03-13T11:11:39.656737Z",
     "start_time": "2020-03-13T11:11:39.629Z"
    }
   },
   "outputs": [
    {
     "data": {
      "text/html": [
       "<ol class=list-inline>\n",
       "\t<li>0.506</li>\n",
       "\t<li>0.562</li>\n",
       "\t<li>0.619</li>\n",
       "</ol>\n"
      ],
      "text/latex": [
       "\\begin{enumerate*}\n",
       "\\item 0.506\n",
       "\\item 0.562\n",
       "\\item 0.619\n",
       "\\end{enumerate*}\n"
      ],
      "text/markdown": [
       "1. 0.506\n",
       "2. 0.562\n",
       "3. 0.619\n",
       "\n",
       "\n"
      ],
      "text/plain": [
       "[1] 0.506 0.562 0.619"
      ]
     },
     "metadata": {},
     "output_type": "display_data"
    }
   ],
   "source": [
    "round(dispImp(daTestFM[,\"sex\"],as.factor(yHatFMrfDP)),3)"
   ]
  },
  {
   "cell_type": "markdown",
   "metadata": {},
   "source": [
    "#### Synthèse graphique des résultats\n",
    "Les résultats précédents: précision et intervalles de confiance ont été enregistrés dans un fichier. Il faudrait automatiser la production de ce fichier."
   ]
  },
  {
   "cell_type": "code",
   "execution_count": 77,
   "metadata": {
    "ExecuteTime": {
     "end_time": "2020-03-13T11:11:43.952021Z",
     "start_time": "2020-03-13T11:11:43.930Z"
    }
   },
   "outputs": [
    {
     "data": {
      "text/plain": [
       "            Model       Lower              DI             Upper       \n",
       " binaryTree    :1   Min.   :0.2120   Min.   :0.2480   Min.   :0.2830  \n",
       " condBinTree   :1   1st Qu.:0.2637   1st Qu.:0.3058   1st Qu.:0.3475  \n",
       " condLinLogit  :1   Median :0.2975   Median :0.3395   Median :0.3805  \n",
       " condQuadLogit :1   Mean   :0.3041   Mean   :0.3465   Mean   :0.3886  \n",
       " condRandForest:1   3rd Qu.:0.3282   3rd Qu.:0.3725   3rd Qu.:0.4165  \n",
       " condRFdiscrPos:1   Max.   :0.5060   Max.   :0.5620   Max.   :0.6190  \n",
       " (Other)       :8                                                     \n",
       "    Accuracy     \n",
       " Min.   : 83.32  \n",
       " 1st Qu.: 83.54  \n",
       " Median : 85.20  \n",
       " Mean   : 85.70  \n",
       " 3rd Qu.: 85.67  \n",
       " Max.   :100.00  \n",
       "                 "
      ]
     },
     "metadata": {},
     "output_type": "display_data"
    }
   ],
   "source": [
    "diAlgos=read.table(\"diVSalgos.txt\",header=T)\n",
    "summary(diAlgos)"
   ]
  },
  {
   "cell_type": "code",
   "execution_count": 78,
   "metadata": {
    "ExecuteTime": {
     "end_time": "2020-03-13T11:11:47.164824Z",
     "start_time": "2020-03-13T11:11:46.102Z"
    }
   },
   "outputs": [
    {
     "name": "stderr",
     "output_type": "stream",
     "text": [
      "Loading required package: prodlim\n"
     ]
    },
    {
     "data": {
      "image/png": "[encoded data removed]",
      "text/plain": [
       "plot without title"
      ]
     },
     "metadata": {},
     "output_type": "display_data"
    }
   ],
   "source": [
    "library(Publish)\n",
    "options(repr.plot.width=8, repr.plot.height=5)\n",
    "plotConfidence(x=diAlgos[,c(\"DI\",\"Lower\",\"Upper\")],labels=diAlgos[,c(\"Model\",\"Accuracy\")],\n",
    "               points.pch=15,points.cex=3,points.col=rainbow(13),\n",
    "              values=FALSE,xlim=c(0.1,0.65),lwd=4,cex=1.5,\n",
    "               xlab=\"Disparate Impact\",xlab.cex=1,xratio=0.3,y.title.offset=1)"
   ]
  },
  {
   "cell_type": "code",
   "execution_count": 79,
   "metadata": {
    "ExecuteTime": {
     "end_time": "2020-03-13T11:11:53.825588Z",
     "start_time": "2020-03-13T11:11:53.688Z"
    }
   },
   "outputs": [
    {
     "data": {
      "text/plain": [
       "          Model       Lower              DI             Upper       \n",
       " dataBaseBias:1   Min.   :0.2120   Min.   :0.2480   Min.   :0.2830  \n",
       " linLogit    :1   1st Qu.:0.2535   1st Qu.:0.2925   1st Qu.:0.3305  \n",
       " linLogit_w_S:1   Median :0.3285   Median :0.3710   Median :0.4130  \n",
       " randomForest:1   Mean   :0.4095   Mean   :0.4535   Mean   :0.4988  \n",
       " RFdiscrPos  :1   3rd Qu.:0.4642   3rd Qu.:0.5162   3rd Qu.:0.5690  \n",
       " testingLogit:1   Max.   :0.8500   Max.   :0.9000   Max.   :0.9600  \n",
       "    Accuracy     \n",
       " Min.   : 83.50  \n",
       " 1st Qu.: 83.50  \n",
       " Median : 84.37  \n",
       " Mean   : 86.95  \n",
       " 3rd Qu.: 85.80  \n",
       " Max.   :100.00  "
      ]
     },
     "metadata": {},
     "output_type": "display_data"
    }
   ],
   "source": [
    "diAlgos=read.table(\"diVSalgos-red.txt\",header=T)\n",
    "summary(diAlgos)"
   ]
  },
  {
   "cell_type": "code",
   "execution_count": 80,
   "metadata": {
    "ExecuteTime": {
     "end_time": "2020-03-13T11:11:56.838727Z",
     "start_time": "2020-03-13T11:11:56.729Z"
    }
   },
   "outputs": [
    {
     "data": {
      "image/png": "[encoded data removed]",
      "text/plain": [
       "plot without title"
      ]
     },
     "metadata": {},
     "output_type": "display_data"
    }
   ],
   "source": [
    "library(Publish)\n",
    "options(repr.plot.width=8, repr.plot.height=5)\n",
    "plotConfidence(x=diAlgos[,c(\"DI\",\"Lower\",\"Upper\")],labels=diAlgos[,c(\"Model\",\"Accuracy\")],\n",
    "               points.pch=15,points.cex=3,points.col=rainbow(13),\n",
    "              values=FALSE,xlim=c(0.1,0.65),lwd=4,cex=1.5,\n",
    "               xlab=\"Disparate Impact\",xlab.cex=1,xratio=0.3,y.title.offset=1)"
   ]
  },
  {
   "cell_type": "markdown",
   "metadata": {},
   "source": [
    "*En résumé*\n",
    "- un modèle seul de régression logistique ou logistique quadratique avec le genre comme variable sensible discrimine,\n",
    "- un modèle seul d'arbre binaire ou de forêt aléatoire avec le genre comme variable sensible discrimine mais pas de façon significative pour l'échantillon test considéré; c'est en revanche le cas ci-dessus en itérant par validation croisée *Monte Carlo*.\n",
    "- la prise en considération de deux modèles, un par genre, conduit à un modèle qui ne discirmine plus du tout avec la régression logistique quadratique ou random forest.\n",
    "- la discrimination est moindre, mais encore significativement présente, en associant deux modèles de régression logistique linéaire, en supprimant la variable sensible ou en tentant de corriger le biais par simple testing.\n",
    "- la pondération pour renforcer la présence de la classe monoritaire ne suffit pas pour réduire le biais notablement.\n",
    "\n",
    "*En conclusion*\n",
    "\n",
    "La prise en compte simultanée des hommes et des femmes dans un mème modèle ou même algorithme renforce le biais **surtout** si le modèle est linéaire. L'association des deux modèle réduit ou annule la discrimination en séparant mieux les comportements ou modes de vie / travail selon le genre.\n",
    "\n",
    "Une analyse des coefficients du modèle quadratique associés aux interactions montre que ce ne sont pas les mêmes interactions qui sont présentes dans le modèle sauf celle entre educNum et occupation qui est commune.\n",
    "\n",
    "L'augmentation de biais et donc la discrimination diminuent avec la prise en compte d'interactions ou d'effets non linéaires avec un algorithme adapté (random forest). Sinon les effets linéaires triviaux se cumulent et engendrent plus d'erreurs sources de discrimination. Elle diminue d'autant plus que les modèles sont distincts pour les hommes et pour les femmes, sinon les effets appris pour les hommes majoritaires biaisent les prévisions pour les femmes. \n",
    "\n",
    "**Finalement, une façon simple d'éviter des décisions discriminatoires consiste à opérer des modèles ou algorihtmes différents selon les modalités de la variable sensible .... à condition que celle-ci soit observée.**"
   ]
  },
  {
   "cell_type": "markdown",
   "metadata": {},
   "source": [
    "## Autresindicateurs de biais / discrimination\n",
    "### Biais sur les erreurs ou précisions de prévision conditionnelles\n",
    "L'effet disproportionné est une première source de biais ou de discrimination parmi bien d'autres. Une deuxième souvent évoquée concerne les erreurs de prévision ou leurs précisions; c'est  l'*overall error equality* ou de façon équivalente l'*overall accuracy equality*.\n",
    "\n",
    "On ne s'intéresse qu'à la discrimination par rapport au genre.\n",
    "\n",
    "#### Régression logistique linéaire\n",
    "*Overall error equality*"
   ]
  },
  {
   "cell_type": "code",
   "execution_count": 81,
   "metadata": {
    "ExecuteTime": {
     "end_time": "2020-03-13T11:12:20.529733Z",
     "start_time": "2020-03-13T11:12:20.501Z"
    }
   },
   "outputs": [
    {
     "data": {
      "text/plain": [
       ", ,  = Female\n",
       "\n",
       "       \n",
       "        incB incH\n",
       "  FALSE 2497  205\n",
       "  TRUE    52  143\n",
       "\n",
       ", ,  = Male\n",
       "\n",
       "       \n",
       "        incB incH\n",
       "  FALSE 3657  745\n",
       "  TRUE   474 1170\n"
      ]
     },
     "metadata": {},
     "output_type": "display_data"
    }
   ],
   "source": [
    "table(pred.log>0.5,daTest$income,daTest$sex)"
   ]
  },
  {
   "cell_type": "code",
   "execution_count": 82,
   "metadata": {
    "ExecuteTime": {
     "end_time": "2020-03-13T11:12:25.697453Z",
     "start_time": "2020-03-13T11:12:25.676Z"
    }
   },
   "outputs": [
    {
     "data": {
      "text/html": [
       "<dl class=dl-horizontal>\n",
       "\t<dt>Female</dt>\n",
       "\t\t<dd>8.87</dd>\n",
       "\t<dt>Male</dt>\n",
       "\t\t<dd>20.16</dd>\n",
       "</dl>\n"
      ],
      "text/latex": [
       "\\begin{description*}\n",
       "\\item[Female] 8.87\n",
       "\\item[Male] 20.16\n",
       "\\end{description*}\n"
      ],
      "text/markdown": [
       "Female\n",
       ":   8.87Male\n",
       ":   20.16\n",
       "\n"
      ],
      "text/plain": [
       "Female   Male \n",
       "  8.87  20.16 "
      ]
     },
     "metadata": {},
     "output_type": "display_data"
    }
   ],
   "source": [
    "apply(table(pred.log>0.5,daTest$income,daTest$sex),3,tauxErr)"
   ]
  },
  {
   "cell_type": "code",
   "execution_count": 83,
   "metadata": {
    "ExecuteTime": {
     "end_time": "2020-03-13T11:12:29.405263Z",
     "start_time": "2020-03-13T11:12:29.383Z"
    }
   },
   "outputs": [],
   "source": [
    "source('../Functions/overErrEqual.R')"
   ]
  },
  {
   "cell_type": "code",
   "execution_count": 84,
   "metadata": {
    "ExecuteTime": {
     "end_time": "2020-03-13T11:12:30.490614Z",
     "start_time": "2020-03-13T11:12:30.409Z"
    }
   },
   "outputs": [
    {
     "data": {
      "text/html": [
       "<table>\n",
       "<thead><tr><th></th><th scope=col>inf</th><th scope=col>est_value</th><th scope=col>sup</th></tr></thead>\n",
       "<tbody>\n",
       "\t<tr><th scope=row>OEE</th><td>0.3841025</td><td>0.4399963</td><td>0.4958902</td></tr>\n",
       "</tbody>\n",
       "</table>\n"
      ],
      "text/latex": [
       "\\begin{tabular}{r|lll}\n",
       "  & inf & est\\_value & sup\\\\\n",
       "\\hline\n",
       "\tOEE & 0.3841025 & 0.4399963 & 0.4958902\\\\\n",
       "\\end{tabular}\n"
      ],
      "text/markdown": [
       "\n",
       "| <!--/--> | inf | est_value | sup |\n",
       "|---|---|---|---|\n",
       "| OEE | 0.3841025 | 0.4399963 | 0.4958902 |\n",
       "\n"
      ],
      "text/plain": [
       "    inf       est_value sup      \n",
       "OEE 0.3841025 0.4399963 0.4958902"
      ]
     },
     "metadata": {},
     "output_type": "display_data"
    }
   ],
   "source": [
    "overErrEqual(daTest$sex,daTest$income,as.factor(pred.log>0.5))"
   ]
  },
  {
   "cell_type": "markdown",
   "metadata": {},
   "source": [
    "#### Random forest"
   ]
  },
  {
   "cell_type": "code",
   "execution_count": 111,
   "metadata": {
    "ExecuteTime": {
     "end_time": "2020-03-13T11:58:30.888021Z",
     "start_time": "2020-03-13T11:58:30.860Z"
    }
   },
   "outputs": [
    {
     "data": {
      "text/html": [
       "<dl class=dl-horizontal>\n",
       "\t<dt>Female</dt>\n",
       "\t\t<dd>7.08</dd>\n",
       "\t<dt>Male</dt>\n",
       "\t\t<dd>17.52</dd>\n",
       "</dl>\n"
      ],
      "text/latex": [
       "\\begin{description*}\n",
       "\\item[Female] 7.08\n",
       "\\item[Male] 17.52\n",
       "\\end{description*}\n"
      ],
      "text/markdown": [
       "Female\n",
       ":   7.08Male\n",
       ":   17.52\n",
       "\n"
      ],
      "text/plain": [
       "Female   Male \n",
       "  7.08  17.52 "
      ]
     },
     "metadata": {},
     "output_type": "display_data"
    }
   ],
   "source": [
    "apply(table(yHatrf,daTest$income,daTest$sex),3,tauxErr)"
   ]
  },
  {
   "cell_type": "code",
   "execution_count": 114,
   "metadata": {
    "ExecuteTime": {
     "end_time": "2020-03-13T12:01:50.075451Z",
     "start_time": "2020-03-13T12:01:50.044Z"
    }
   },
   "outputs": [
    {
     "data": {
      "text/html": [
       "<table>\n",
       "<thead><tr><th></th><th scope=col>inf</th><th scope=col>est_value</th><th scope=col>sup</th></tr></thead>\n",
       "<tbody>\n",
       "\t<tr><th scope=row>OEE</th><td>0.3462873</td><td>0.4039964</td><td>0.4617056</td></tr>\n",
       "</tbody>\n",
       "</table>\n"
      ],
      "text/latex": [
       "\\begin{tabular}{r|lll}\n",
       "  & inf & est\\_value & sup\\\\\n",
       "\\hline\n",
       "\tOEE & 0.3462873 & 0.4039964 & 0.4617056\\\\\n",
       "\\end{tabular}\n"
      ],
      "text/markdown": [
       "\n",
       "| <!--/--> | inf | est_value | sup |\n",
       "|---|---|---|---|\n",
       "| OEE | 0.3462873 | 0.4039964 | 0.4617056 |\n",
       "\n"
      ],
      "text/plain": [
       "    inf       est_value sup      \n",
       "OEE 0.3462873 0.4039964 0.4617056"
      ]
     },
     "metadata": {},
     "output_type": "display_data"
    }
   ],
   "source": [
    "overErrEqual(daTest$sex,daTest$income,yHatrf)"
   ]
  },
  {
   "cell_type": "markdown",
   "metadata": {},
   "source": [
    "#### Deux modèles de *random forest*\n",
    "\n",
    "un pour les hommes, un pour les femmes mais la précision pour les femmes *vs.* pour les hommes reste plus importantes pour les femmes."
   ]
  },
  {
   "cell_type": "code",
   "execution_count": 105,
   "metadata": {
    "ExecuteTime": {
     "end_time": "2020-03-13T11:50:15.800738Z",
     "start_time": "2020-03-13T11:50:15.770Z"
    }
   },
   "outputs": [
    {
     "data": {
      "text/html": [
       "7.28"
      ],
      "text/latex": [
       "7.28"
      ],
      "text/markdown": [
       "7.28"
      ],
      "text/plain": [
       "[1] 7.28"
      ]
     },
     "metadata": {},
     "output_type": "display_data"
    },
    {
     "data": {
      "text/html": [
       "17.55"
      ],
      "text/latex": [
       "17.55"
      ],
      "text/markdown": [
       "17.55"
      ],
      "text/plain": [
       "[1] 17.55"
      ]
     },
     "metadata": {},
     "output_type": "display_data"
    }
   ],
   "source": [
    "tauxErr(table(yHatFrf,daTestF$income)); tauxErr(table(yHatMrf,daTestM$income))"
   ]
  },
  {
   "cell_type": "markdown",
   "metadata": {},
   "source": [
    "Moins de disparité pour l'association de deux forêts, une par sexe."
   ]
  },
  {
   "cell_type": "code",
   "execution_count": 88,
   "metadata": {
    "ExecuteTime": {
     "end_time": "2020-03-13T11:13:10.777051Z",
     "start_time": "2020-03-13T11:13:10.749Z"
    },
    "scrolled": true
   },
   "outputs": [
    {
     "data": {
      "text/html": [
       "<table>\n",
       "<thead><tr><th></th><th scope=col>inf</th><th scope=col>est_value</th><th scope=col>sup</th></tr></thead>\n",
       "<tbody>\n",
       "\t<tr><th scope=row>OEE</th><td>0.35654  </td><td>0.4150369</td><td>0.4735338</td></tr>\n",
       "</tbody>\n",
       "</table>\n"
      ],
      "text/latex": [
       "\\begin{tabular}{r|lll}\n",
       "  & inf & est\\_value & sup\\\\\n",
       "\\hline\n",
       "\tOEE & 0.35654   & 0.4150369 & 0.4735338\\\\\n",
       "\\end{tabular}\n"
      ],
      "text/markdown": [
       "\n",
       "| <!--/--> | inf | est_value | sup |\n",
       "|---|---|---|---|\n",
       "| OEE | 0.35654   | 0.4150369 | 0.4735338 |\n",
       "\n"
      ],
      "text/plain": [
       "    inf     est_value sup      \n",
       "OEE 0.35654 0.4150369 0.4735338"
      ]
     },
     "metadata": {},
     "output_type": "display_data"
    }
   ],
   "source": [
    "overErrEqual(daTestFM[,\"sex\"],daTestFM$income,as.factor(yHatFMrf))"
   ]
  },
  {
   "cell_type": "markdown",
   "metadata": {},
   "source": [
    "#### RF discrimination positive"
   ]
  },
  {
   "cell_type": "code",
   "execution_count": 99,
   "metadata": {
    "ExecuteTime": {
     "end_time": "2020-03-13T11:28:30.750386Z",
     "start_time": "2020-03-13T11:28:30.721Z"
    }
   },
   "outputs": [
    {
     "data": {
      "text/html": [
       "8.91"
      ],
      "text/latex": [
       "8.91"
      ],
      "text/markdown": [
       "8.91"
      ],
      "text/plain": [
       "[1] 8.91"
      ]
     },
     "metadata": {},
     "output_type": "display_data"
    },
    {
     "data": {
      "text/html": [
       "17.57"
      ],
      "text/latex": [
       "17.57"
      ],
      "text/markdown": [
       "17.57"
      ],
      "text/plain": [
       "[1] 17.57"
      ]
     },
     "metadata": {},
     "output_type": "display_data"
    }
   ],
   "source": [
    "tauxErr(table(yHatFrfDP,daTestF$income)); tauxErr(table(yHatMrfDP,daTestM$income))"
   ]
  },
  {
   "cell_type": "markdown",
   "metadata": {},
   "source": [
    "Selon l'origine et surtout pour le genre, les précisions de la prévision sont très différentes mais au détriment du groupe \"majoritaire\", incluant sans doute plus de disparités et donc de difficultés à être prédit."
   ]
  },
  {
   "cell_type": "code",
   "execution_count": 89,
   "metadata": {
    "ExecuteTime": {
     "end_time": "2020-03-13T11:13:13.642645Z",
     "start_time": "2020-03-13T11:13:13.621Z"
    }
   },
   "outputs": [
    {
     "data": {
      "text/html": [
       "<table>\n",
       "<thead><tr><th></th><th scope=col>inf</th><th scope=col>est_value</th><th scope=col>sup</th></tr></thead>\n",
       "<tbody>\n",
       "\t<tr><th scope=row>OEE</th><td>0.4417926</td><td>0.507008 </td><td>0.5722235</td></tr>\n",
       "</tbody>\n",
       "</table>\n"
      ],
      "text/latex": [
       "\\begin{tabular}{r|lll}\n",
       "  & inf & est\\_value & sup\\\\\n",
       "\\hline\n",
       "\tOEE & 0.4417926 & 0.507008  & 0.5722235\\\\\n",
       "\\end{tabular}\n"
      ],
      "text/markdown": [
       "\n",
       "| <!--/--> | inf | est_value | sup |\n",
       "|---|---|---|---|\n",
       "| OEE | 0.4417926 | 0.507008  | 0.5722235 |\n",
       "\n"
      ],
      "text/plain": [
       "    inf       est_value sup      \n",
       "OEE 0.4417926 0.507008  0.5722235"
      ]
     },
     "metadata": {},
     "output_type": "display_data"
    }
   ],
   "source": [
    "overErrEqual(daTestFM[,\"sex\"],daTestFM$income,as.factor(yHatFMrfDP))"
   ]
  },
  {
   "cell_type": "markdown",
   "metadata": {},
   "source": [
    "### Asymétrie de la matrice de confusion: *equality of odds* par genre\n",
    "Une autre source de discrimination, mise en évidence par le site [Propublica](https://www.propublica.org/article/machine-bias-risk-assessments-in-criminal-sentencing) à propos du score de récidive COMPAS de la société *equivant*, concerne une inversion de l'asymétrie de la matrice de confusion selon la variable sensible. De très nombreux critères ont été proposés pour évaluer cette asymétrie et dont [Verma et Rubin (2018](http://fairware.cs.umass.edu/papers/Verma.pdf)) proposent une revue. Leurs définitions sont basées sur les différentes fréquences issues de la table de contingence et calculées par la fonction ci-dessous."
   ]
  },
  {
   "cell_type": "code",
   "execution_count": 91,
   "metadata": {
    "ExecuteTime": {
     "end_time": "2020-03-13T11:13:25.325249Z",
     "start_time": "2020-03-13T11:13:25.310Z"
    }
   },
   "outputs": [],
   "source": [
    "contRatio <- function(T){ \n",
    "    # Ratios calculés à partir de la matrice de confusion\n",
    "    TP=T[2,2] # true positive\n",
    "    FP=T[2,1] # false positive\n",
    "    FN=T[1,2] # false negative\n",
    "    TN=T[1,1]  # true negative\n",
    "    PPV=TP/(TP+FP) # P(Y=1|g(x)=1) positive predictive value\n",
    "    FDR=FP/(TP+FP) # P(Y=0|g(x)=1) false discovery rate \n",
    "    FOR=FN/(TN+FN) # P(Y=1|g(x)=0) false omission rate\n",
    "    NPV=TN/(TN+FN) # P(Y=0|g(x)=0) negative predictive value\n",
    "    TPR=TP/(TP+FN) # P(g(x)=1|Y=1) true positive rate\n",
    "    FPR=FP/(FP+TN) # P(g(x)=1|Y=0) false positive rate\n",
    "    FNR=FN/(TP+FN) # P(g(x)=0|Y=1) false negative rate\n",
    "    TNR=TN/(FP+TN) # P(g(x)=0|Y=0) true negative rate\n",
    "    return(list(\"PPV\"=PPV,\"FDR\"=FDR,\"FOR\"=FOR,\"NPV\"=NPV,\"TPR\"=TPR,\"FPR\"=FPR,\"FNR\"=FNR,\"TNR\"=TNR))\n",
    "}"
   ]
  },
  {
   "cell_type": "code",
   "execution_count": 92,
   "metadata": {
    "ExecuteTime": {
     "end_time": "2020-03-13T11:13:27.381073Z",
     "start_time": "2020-03-13T11:13:27.345Z"
    }
   },
   "outputs": [
    {
     "data": {
      "text/html": [
       "<dl>\n",
       "\t<dt>$PPV</dt>\n",
       "\t\t<dd>0.713974986405655</dd>\n",
       "\t<dt>$FDR</dt>\n",
       "\t\t<dd>0.286025013594345</dd>\n",
       "\t<dt>$FOR</dt>\n",
       "\t\t<dd>0.133727477477477</dd>\n",
       "\t<dt>$NPV</dt>\n",
       "\t\t<dd>0.866272522522523</dd>\n",
       "\t<dt>$TPR</dt>\n",
       "\t\t<dd>0.580203269995581</dd>\n",
       "\t<dt>$FPR</dt>\n",
       "\t\t<dd>0.0787425149700599</dd>\n",
       "\t<dt>$FNR</dt>\n",
       "\t\t<dd>0.419796730004419</dd>\n",
       "\t<dt>$TNR</dt>\n",
       "\t\t<dd>0.92125748502994</dd>\n",
       "</dl>\n"
      ],
      "text/latex": [
       "\\begin{description}\n",
       "\\item[\\$PPV] 0.713974986405655\n",
       "\\item[\\$FDR] 0.286025013594345\n",
       "\\item[\\$FOR] 0.133727477477477\n",
       "\\item[\\$NPV] 0.866272522522523\n",
       "\\item[\\$TPR] 0.580203269995581\n",
       "\\item[\\$FPR] 0.0787425149700599\n",
       "\\item[\\$FNR] 0.419796730004419\n",
       "\\item[\\$TNR] 0.92125748502994\n",
       "\\end{description}\n"
      ],
      "text/markdown": [
       "$PPV\n",
       ":   0.713974986405655\n",
       "$FDR\n",
       ":   0.286025013594345\n",
       "$FOR\n",
       ":   0.133727477477477\n",
       "$NPV\n",
       ":   0.866272522522523\n",
       "$TPR\n",
       ":   0.580203269995581\n",
       "$FPR\n",
       ":   0.0787425149700599\n",
       "$FNR\n",
       ":   0.419796730004419\n",
       "$TNR\n",
       ":   0.92125748502994\n",
       "\n",
       "\n"
      ],
      "text/plain": [
       "$PPV\n",
       "[1] 0.713975\n",
       "\n",
       "$FDR\n",
       "[1] 0.286025\n",
       "\n",
       "$FOR\n",
       "[1] 0.1337275\n",
       "\n",
       "$NPV\n",
       "[1] 0.8662725\n",
       "\n",
       "$TPR\n",
       "[1] 0.5802033\n",
       "\n",
       "$FPR\n",
       "[1] 0.07874251\n",
       "\n",
       "$FNR\n",
       "[1] 0.4197967\n",
       "\n",
       "$TNR\n",
       "[1] 0.9212575\n"
      ]
     },
     "metadata": {},
     "output_type": "display_data"
    }
   ],
   "source": [
    "contRatio(table(pred.log>0.5,daTest$income))"
   ]
  },
  {
   "cell_type": "markdown",
   "metadata": {},
   "source": [
    "Liste de critères de loyauté pouvant être définis à partir des fréquences précédentes conditionnellement à la variable sensible. La combinatoire des possibles est importante mais peut être réduite en remarquant que *PPV*=1-*FDR*, *FOR*=1-*NPV*, *FPR*=1-*TNR*, *FNR*=1-*TPR*... Selon les auteurs, il y a loyauté de traitement si:\n",
    "- *Predictive parity*: les deux groupes ont les mêmes *PPV*s et par conséquence les mêmes *FDR*s;\n",
    "- *False positive error rate balance* ou *predictive equality*: mêmes *FPR*s et par conséquence les mêmes *TNR*s;\n",
    "- *False negative error rate balance* ou *equal opportunity*: mêmes *FNR*s et par conséquence les mêmes *TPR*s;\n",
    "- *Conditional procedure accuracy equality* ou *disparate mistreatment* ou *equalized odds* combine les deux ci-dessus: mêmes *TPR*s **ET** mêmes *FPR*s;\n",
    "- *Overall accuracy equality*: mêmes *TPR* **ET** mêmes *TNR*;\n",
    "- *Conditionnal use accuracy equality*: mêmes *PPV*s **ET** mêmes *NPV*s;\n",
    "- *Teatment equality*: les rapports *FN/FP* sont les mêmes pour les deux groupes.\n",
    "\n",
    "Bien d'autres critères ont été proposés (cf. Verma et Rubin; 2018), il ne sont pas développés ici. Les calculs des *TPR* et *TNR* conditionnels sont privilégiés ci-dessous mais ce n'est qu'un choix parmi d'autres. Friedler et al. (2019) montrent que ceux-ci sont très corrélés. il serait raisonnable de se limiter aux seules comparaisons des *TPR* et *FPR*."
   ]
  },
  {
   "cell_type": "markdown",
   "metadata": {},
   "source": [
    "#### Régression logistique linéaire\n",
    "La matrice de confusion est obtenue conditionnellement aux groupes pour comparer les différents indicateurs de loyauté."
   ]
  },
  {
   "cell_type": "code",
   "execution_count": 93,
   "metadata": {
    "ExecuteTime": {
     "end_time": "2020-03-13T11:13:39.258187Z",
     "start_time": "2020-03-13T11:13:39.222Z"
    }
   },
   "outputs": [
    {
     "data": {
      "text/html": [
       "<table>\n",
       "<thead><tr><th></th><th scope=col>Female</th><th scope=col>Male</th></tr></thead>\n",
       "<tbody>\n",
       "\t<tr><th scope=row>PPV</th><td>0.7333333</td><td>0.7116788</td></tr>\n",
       "\t<tr><th scope=row>FDR</th><td>0.2666667</td><td>0.2883212</td></tr>\n",
       "\t<tr><th scope=row>FOR</th><td>0.07586973</td><td>0.1692413 </td></tr>\n",
       "\t<tr><th scope=row>NPV</th><td>0.9241303</td><td>0.8307587</td></tr>\n",
       "\t<tr><th scope=row>TPR</th><td>0.4109195</td><td>0.6109661</td></tr>\n",
       "\t<tr><th scope=row>FPR</th><td>0.02040016</td><td>0.1147422 </td></tr>\n",
       "\t<tr><th scope=row>FNR</th><td>0.5890805</td><td>0.3890339</td></tr>\n",
       "\t<tr><th scope=row>TNR</th><td>0.9795998</td><td>0.8852578</td></tr>\n",
       "</tbody>\n",
       "</table>\n"
      ],
      "text/latex": [
       "\\begin{tabular}{r|ll}\n",
       "  & Female & Male\\\\\n",
       "\\hline\n",
       "\tPPV & 0.7333333 & 0.7116788\\\\\n",
       "\tFDR & 0.2666667 & 0.2883212\\\\\n",
       "\tFOR & 0.07586973 & 0.1692413 \\\\\n",
       "\tNPV & 0.9241303 & 0.8307587\\\\\n",
       "\tTPR & 0.4109195 & 0.6109661\\\\\n",
       "\tFPR & 0.02040016 & 0.1147422 \\\\\n",
       "\tFNR & 0.5890805 & 0.3890339\\\\\n",
       "\tTNR & 0.9795998 & 0.8852578\\\\\n",
       "\\end{tabular}\n"
      ],
      "text/markdown": [
       "\n",
       "| <!--/--> | Female | Male |\n",
       "|---|---|---|\n",
       "| PPV | 0.7333333 | 0.7116788 |\n",
       "| FDR | 0.2666667 | 0.2883212 |\n",
       "| FOR | 0.07586973 | 0.1692413  |\n",
       "| NPV | 0.9241303 | 0.8307587 |\n",
       "| TPR | 0.4109195 | 0.6109661 |\n",
       "| FPR | 0.02040016 | 0.1147422  |\n",
       "| FNR | 0.5890805 | 0.3890339 |\n",
       "| TNR | 0.9795998 | 0.8852578 |\n",
       "\n"
      ],
      "text/plain": [
       "    Female     Male     \n",
       "PPV 0.7333333  0.7116788\n",
       "FDR 0.2666667  0.2883212\n",
       "FOR 0.07586973 0.1692413\n",
       "NPV 0.9241303  0.8307587\n",
       "TPR 0.4109195  0.6109661\n",
       "FPR 0.02040016 0.1147422\n",
       "FNR 0.5890805  0.3890339\n",
       "TNR 0.9795998  0.8852578"
      ]
     },
     "metadata": {},
     "output_type": "display_data"
    }
   ],
   "source": [
    "fairness=data.frame(\"Female\"=as.matrix(contRatio(table(pred.log>0.5,daTest$income,daTest$sex)[,,1])),\n",
    "                    \"Male\"=as.matrix(contRatio(table(pred.log>0.5,daTest$income,daTest$sex)[,,2])))\n",
    "fairness"
   ]
  },
  {
   "cell_type": "markdown",
   "metadata": {},
   "source": [
    "Il serait fastidieux de construire toutes les comparaisons d'autant que beaucoup de ces indicateurs sont redondants (riedler et al. 2019). On s'arrête à celui: ***Equality of Odds***: La fonction  `oddsEqual`  admet 4 paramètres:\n",
    "- S: variable du groupe protégé\n",
    "- Y: variable cible\n",
    "- P: prévision $\\hat{Y}$\n",
    "- alpha=0.05, valeur par défaut.\n",
    "\n",
    "Elle fournit l'estimation par intervalle de confiance des rapports des *FPR* et *TPR* conditionnels et permet donc de tester l'égalité ou non des cotes selon la variable sensible."
   ]
  },
  {
   "cell_type": "code",
   "execution_count": 94,
   "metadata": {
    "ExecuteTime": {
     "end_time": "2020-03-13T11:13:43.254884Z",
     "start_time": "2020-03-13T11:13:43.233Z"
    }
   },
   "outputs": [],
   "source": [
    "source('../Functions/oddsEqual.R')"
   ]
  },
  {
   "cell_type": "code",
   "execution_count": 95,
   "metadata": {
    "ExecuteTime": {
     "end_time": "2020-03-13T11:13:44.559631Z",
     "start_time": "2020-03-13T11:13:44.476Z"
    },
    "scrolled": true
   },
   "outputs": [
    {
     "data": {
      "text/html": [
       "<table>\n",
       "<thead><tr><th></th><th scope=col>inf</th><th scope=col>est_value</th><th scope=col>sup</th></tr></thead>\n",
       "<tbody>\n",
       "\t<tr><th scope=row>FPR</th><td>0.13</td><td>0.18</td><td>0.23</td></tr>\n",
       "\t<tr><th scope=row>TPR</th><td>0.58</td><td>0.67</td><td>0.76</td></tr>\n",
       "</tbody>\n",
       "</table>\n"
      ],
      "text/latex": [
       "\\begin{tabular}{r|lll}\n",
       "  & inf & est\\_value & sup\\\\\n",
       "\\hline\n",
       "\tFPR & 0.13 & 0.18 & 0.23\\\\\n",
       "\tTPR & 0.58 & 0.67 & 0.76\\\\\n",
       "\\end{tabular}\n"
      ],
      "text/markdown": [
       "\n",
       "| <!--/--> | inf | est_value | sup |\n",
       "|---|---|---|---|\n",
       "| FPR | 0.13 | 0.18 | 0.23 |\n",
       "| TPR | 0.58 | 0.67 | 0.76 |\n",
       "\n"
      ],
      "text/plain": [
       "    inf  est_value sup \n",
       "FPR 0.13 0.18      0.23\n",
       "TPR 0.58 0.67      0.76"
      ]
     },
     "metadata": {},
     "output_type": "display_data"
    }
   ],
   "source": [
    "round(oddsEqual(daTest$sex,daTest$income,as.factor(pred.log>0.5)),2)"
   ]
  },
  {
   "cell_type": "markdown",
   "metadata": {},
   "source": [
    "#### *Random forest* "
   ]
  },
  {
   "cell_type": "code",
   "execution_count": 116,
   "metadata": {
    "ExecuteTime": {
     "end_time": "2020-03-13T12:09:30.137831Z",
     "start_time": "2020-03-13T12:09:30.109Z"
    }
   },
   "outputs": [
    {
     "data": {
      "text/html": [
       "<table>\n",
       "<thead><tr><th></th><th scope=col>Female</th><th scope=col>Male</th></tr></thead>\n",
       "<tbody>\n",
       "\t<tr><th scope=row>PPV</th><td>0.7677903</td><td>0.7819499</td></tr>\n",
       "\t<tr><th scope=row>FDR</th><td>0.2322097</td><td>0.2180501</td></tr>\n",
       "\t<tr><th scope=row>FOR</th><td>0.05437262</td><td>0.1607774 </td></tr>\n",
       "\t<tr><th scope=row>NPV</th><td>0.9456274</td><td>0.8392226</td></tr>\n",
       "\t<tr><th scope=row>TPR</th><td>0.5890805</td><td>0.6198433</td></tr>\n",
       "\t<tr><th scope=row>FPR</th><td>0.02432326</td><td>0.08012588</td></tr>\n",
       "\t<tr><th scope=row>FNR</th><td>0.4109195</td><td>0.3801567</td></tr>\n",
       "\t<tr><th scope=row>TNR</th><td>0.9756767</td><td>0.9198741</td></tr>\n",
       "</tbody>\n",
       "</table>\n"
      ],
      "text/latex": [
       "\\begin{tabular}{r|ll}\n",
       "  & Female & Male\\\\\n",
       "\\hline\n",
       "\tPPV & 0.7677903 & 0.7819499\\\\\n",
       "\tFDR & 0.2322097 & 0.2180501\\\\\n",
       "\tFOR & 0.05437262 & 0.1607774 \\\\\n",
       "\tNPV & 0.9456274 & 0.8392226\\\\\n",
       "\tTPR & 0.5890805 & 0.6198433\\\\\n",
       "\tFPR & 0.02432326 & 0.08012588\\\\\n",
       "\tFNR & 0.4109195 & 0.3801567\\\\\n",
       "\tTNR & 0.9756767 & 0.9198741\\\\\n",
       "\\end{tabular}\n"
      ],
      "text/markdown": [
       "\n",
       "| <!--/--> | Female | Male |\n",
       "|---|---|---|\n",
       "| PPV | 0.7677903 | 0.7819499 |\n",
       "| FDR | 0.2322097 | 0.2180501 |\n",
       "| FOR | 0.05437262 | 0.1607774  |\n",
       "| NPV | 0.9456274 | 0.8392226 |\n",
       "| TPR | 0.5890805 | 0.6198433 |\n",
       "| FPR | 0.02432326 | 0.08012588 |\n",
       "| FNR | 0.4109195 | 0.3801567 |\n",
       "| TNR | 0.9756767 | 0.9198741 |\n",
       "\n"
      ],
      "text/plain": [
       "    Female     Male      \n",
       "PPV 0.7677903  0.7819499 \n",
       "FDR 0.2322097  0.2180501 \n",
       "FOR 0.05437262 0.1607774 \n",
       "NPV 0.9456274  0.8392226 \n",
       "TPR 0.5890805  0.6198433 \n",
       "FPR 0.02432326 0.08012588\n",
       "FNR 0.4109195  0.3801567 \n",
       "TNR 0.9756767  0.9198741 "
      ]
     },
     "metadata": {},
     "output_type": "display_data"
    }
   ],
   "source": [
    "fairnessRF=data.frame(\"Female\"=as.matrix(contRatio(table(yHatrf,daTest$income,daTest$sex)[,,1])),\n",
    "                    \"Male\"=as.matrix(contRatio(table(yHatrf,daTest$income,daTest$sex)[,,2])))\n",
    "fairnessRF"
   ]
  },
  {
   "cell_type": "code",
   "execution_count": 122,
   "metadata": {
    "ExecuteTime": {
     "end_time": "2020-03-13T12:10:43.139951Z",
     "start_time": "2020-03-13T12:10:43.112Z"
    }
   },
   "outputs": [
    {
     "data": {
      "text/html": [
       "<table>\n",
       "<thead><tr><th></th><th scope=col>inf</th><th scope=col>est_value</th><th scope=col>sup</th></tr></thead>\n",
       "<tbody>\n",
       "\t<tr><th scope=row>FPR</th><td>0.22</td><td>0.30</td><td>0.38</td></tr>\n",
       "\t<tr><th scope=row>TPR</th><td>0.86</td><td>0.95</td><td>1.04</td></tr>\n",
       "</tbody>\n",
       "</table>\n"
      ],
      "text/latex": [
       "\\begin{tabular}{r|lll}\n",
       "  & inf & est\\_value & sup\\\\\n",
       "\\hline\n",
       "\tFPR & 0.22 & 0.30 & 0.38\\\\\n",
       "\tTPR & 0.86 & 0.95 & 1.04\\\\\n",
       "\\end{tabular}\n"
      ],
      "text/markdown": [
       "\n",
       "| <!--/--> | inf | est_value | sup |\n",
       "|---|---|---|---|\n",
       "| FPR | 0.22 | 0.30 | 0.38 |\n",
       "| TPR | 0.86 | 0.95 | 1.04 |\n",
       "\n"
      ],
      "text/plain": [
       "    inf  est_value sup \n",
       "FPR 0.22 0.30      0.38\n",
       "TPR 0.86 0.95      1.04"
      ]
     },
     "metadata": {},
     "output_type": "display_data"
    }
   ],
   "source": [
    "round(oddsEqual(daTest$sex,daTest$income,yHatrf),2)"
   ]
  },
  {
   "cell_type": "markdown",
   "metadata": {},
   "source": [
    "#### *Random forest* avec deux modèles"
   ]
  },
  {
   "cell_type": "code",
   "execution_count": 117,
   "metadata": {
    "ExecuteTime": {
     "end_time": "2020-03-13T12:09:40.813800Z",
     "start_time": "2020-03-13T12:09:40.776Z"
    },
    "scrolled": false
   },
   "outputs": [
    {
     "data": {
      "text/html": [
       "<table>\n",
       "<thead><tr><th></th><th scope=col>Female</th><th scope=col>Male</th></tr></thead>\n",
       "<tbody>\n",
       "\t<tr><th scope=row>PPV</th><td>0.738676 </td><td>0.7831565</td></tr>\n",
       "\t<tr><th scope=row>FDR</th><td>0.261324 </td><td>0.2168435</td></tr>\n",
       "\t<tr><th scope=row>FOR</th><td>0.05210728</td><td>0.1617453 </td></tr>\n",
       "\t<tr><th scope=row>NPV</th><td>0.9478927</td><td>0.8382547</td></tr>\n",
       "\t<tr><th scope=row>TPR</th><td>0.6091954</td><td>0.6167102</td></tr>\n",
       "\t<tr><th scope=row>FPR</th><td>0.0294233 </td><td>0.07915759</td></tr>\n",
       "\t<tr><th scope=row>FNR</th><td>0.3908046</td><td>0.3832898</td></tr>\n",
       "\t<tr><th scope=row>TNR</th><td>0.9705767</td><td>0.9208424</td></tr>\n",
       "</tbody>\n",
       "</table>\n"
      ],
      "text/latex": [
       "\\begin{tabular}{r|ll}\n",
       "  & Female & Male\\\\\n",
       "\\hline\n",
       "\tPPV & 0.738676  & 0.7831565\\\\\n",
       "\tFDR & 0.261324  & 0.2168435\\\\\n",
       "\tFOR & 0.05210728 & 0.1617453 \\\\\n",
       "\tNPV & 0.9478927 & 0.8382547\\\\\n",
       "\tTPR & 0.6091954 & 0.6167102\\\\\n",
       "\tFPR & 0.0294233  & 0.07915759\\\\\n",
       "\tFNR & 0.3908046 & 0.3832898\\\\\n",
       "\tTNR & 0.9705767 & 0.9208424\\\\\n",
       "\\end{tabular}\n"
      ],
      "text/markdown": [
       "\n",
       "| <!--/--> | Female | Male |\n",
       "|---|---|---|\n",
       "| PPV | 0.738676  | 0.7831565 |\n",
       "| FDR | 0.261324  | 0.2168435 |\n",
       "| FOR | 0.05210728 | 0.1617453  |\n",
       "| NPV | 0.9478927 | 0.8382547 |\n",
       "| TPR | 0.6091954 | 0.6167102 |\n",
       "| FPR | 0.0294233  | 0.07915759 |\n",
       "| FNR | 0.3908046 | 0.3832898 |\n",
       "| TNR | 0.9705767 | 0.9208424 |\n",
       "\n"
      ],
      "text/plain": [
       "    Female     Male      \n",
       "PPV 0.738676   0.7831565 \n",
       "FDR 0.261324   0.2168435 \n",
       "FOR 0.05210728 0.1617453 \n",
       "NPV 0.9478927  0.8382547 \n",
       "TPR 0.6091954  0.6167102 \n",
       "FPR 0.0294233  0.07915759\n",
       "FNR 0.3908046  0.3832898 \n",
       "TNR 0.9705767  0.9208424 "
      ]
     },
     "metadata": {},
     "output_type": "display_data"
    }
   ],
   "source": [
    "fairnessRF2=data.frame(\"Female\"=as.matrix(contRatio(table(yHatFrf,daTestF$income))),\n",
    "                    \"Male\"=as.matrix(contRatio(table(yHatMrf,daTestM$income))))\n",
    "fairnessRF2"
   ]
  },
  {
   "cell_type": "code",
   "execution_count": 118,
   "metadata": {
    "ExecuteTime": {
     "end_time": "2020-03-13T12:09:45.696759Z",
     "start_time": "2020-03-13T12:09:45.663Z"
    }
   },
   "outputs": [
    {
     "data": {
      "text/html": [
       "<table>\n",
       "<thead><tr><th></th><th scope=col>inf</th><th scope=col>est_value</th><th scope=col>sup</th></tr></thead>\n",
       "<tbody>\n",
       "\t<tr><th scope=row>FPR</th><td>0.28</td><td>0.37</td><td>0.46</td></tr>\n",
       "\t<tr><th scope=row>TPR</th><td>0.90</td><td>0.99</td><td>1.08</td></tr>\n",
       "</tbody>\n",
       "</table>\n"
      ],
      "text/latex": [
       "\\begin{tabular}{r|lll}\n",
       "  & inf & est\\_value & sup\\\\\n",
       "\\hline\n",
       "\tFPR & 0.28 & 0.37 & 0.46\\\\\n",
       "\tTPR & 0.90 & 0.99 & 1.08\\\\\n",
       "\\end{tabular}\n"
      ],
      "text/markdown": [
       "\n",
       "| <!--/--> | inf | est_value | sup |\n",
       "|---|---|---|---|\n",
       "| FPR | 0.28 | 0.37 | 0.46 |\n",
       "| TPR | 0.90 | 0.99 | 1.08 |\n",
       "\n"
      ],
      "text/plain": [
       "    inf  est_value sup \n",
       "FPR 0.28 0.37      0.46\n",
       "TPR 0.90 0.99      1.08"
      ]
     },
     "metadata": {},
     "output_type": "display_data"
    }
   ],
   "source": [
    "round(oddsEqual(daTestFM[,\"sex\"],daTestFM$income,as.factor(yHatFMrf)),2)"
   ]
  },
  {
   "cell_type": "markdown",
   "metadata": {},
   "source": [
    "#### Random forest avec discrimination positive"
   ]
  },
  {
   "cell_type": "code",
   "execution_count": 119,
   "metadata": {
    "ExecuteTime": {
     "end_time": "2020-03-13T12:09:55.581527Z",
     "start_time": "2020-03-13T12:09:55.539Z"
    }
   },
   "outputs": [
    {
     "data": {
      "text/html": [
       "<table>\n",
       "<thead><tr><th></th><th scope=col>Female</th><th scope=col>Male</th></tr></thead>\n",
       "<tbody>\n",
       "\t<tr><th scope=row>PPV</th><td>0.6108374</td><td>0.7830126</td></tr>\n",
       "\t<tr><th scope=row>FDR</th><td>0.3891626</td><td>0.2169874</td></tr>\n",
       "\t<tr><th scope=row>FOR</th><td>0.04014452</td><td>0.1619299 </td></tr>\n",
       "\t<tr><th scope=row>NPV</th><td>0.9598555</td><td>0.8380701</td></tr>\n",
       "\t<tr><th scope=row>TPR</th><td>0.7126437</td><td>0.616188 </td></tr>\n",
       "\t<tr><th scope=row>FPR</th><td>0.06198509</td><td>0.07915759</td></tr>\n",
       "\t<tr><th scope=row>FNR</th><td>0.2873563</td><td>0.383812 </td></tr>\n",
       "\t<tr><th scope=row>TNR</th><td>0.9380149</td><td>0.9208424</td></tr>\n",
       "</tbody>\n",
       "</table>\n"
      ],
      "text/latex": [
       "\\begin{tabular}{r|ll}\n",
       "  & Female & Male\\\\\n",
       "\\hline\n",
       "\tPPV & 0.6108374 & 0.7830126\\\\\n",
       "\tFDR & 0.3891626 & 0.2169874\\\\\n",
       "\tFOR & 0.04014452 & 0.1619299 \\\\\n",
       "\tNPV & 0.9598555 & 0.8380701\\\\\n",
       "\tTPR & 0.7126437 & 0.616188 \\\\\n",
       "\tFPR & 0.06198509 & 0.07915759\\\\\n",
       "\tFNR & 0.2873563 & 0.383812 \\\\\n",
       "\tTNR & 0.9380149 & 0.9208424\\\\\n",
       "\\end{tabular}\n"
      ],
      "text/markdown": [
       "\n",
       "| <!--/--> | Female | Male |\n",
       "|---|---|---|\n",
       "| PPV | 0.6108374 | 0.7830126 |\n",
       "| FDR | 0.3891626 | 0.2169874 |\n",
       "| FOR | 0.04014452 | 0.1619299  |\n",
       "| NPV | 0.9598555 | 0.8380701 |\n",
       "| TPR | 0.7126437 | 0.616188  |\n",
       "| FPR | 0.06198509 | 0.07915759 |\n",
       "| FNR | 0.2873563 | 0.383812  |\n",
       "| TNR | 0.9380149 | 0.9208424 |\n",
       "\n"
      ],
      "text/plain": [
       "    Female     Male      \n",
       "PPV 0.6108374  0.7830126 \n",
       "FDR 0.3891626  0.2169874 \n",
       "FOR 0.04014452 0.1619299 \n",
       "NPV 0.9598555  0.8380701 \n",
       "TPR 0.7126437  0.616188  \n",
       "FPR 0.06198509 0.07915759\n",
       "FNR 0.2873563  0.383812  \n",
       "TNR 0.9380149  0.9208424 "
      ]
     },
     "metadata": {},
     "output_type": "display_data"
    }
   ],
   "source": [
    "fairnessRFDP=data.frame(\"Female\"=as.matrix(contRatio(table(yHatFrfDP,daTestF$income))),\n",
    "                    \"Male\"=as.matrix(contRatio(table(yHatMrfDP,daTestM$income))))\n",
    "fairnessRFDP"
   ]
  },
  {
   "cell_type": "code",
   "execution_count": 120,
   "metadata": {
    "ExecuteTime": {
     "end_time": "2020-03-13T12:09:58.133132Z",
     "start_time": "2020-03-13T12:09:58.104Z"
    }
   },
   "outputs": [
    {
     "data": {
      "text/html": [
       "<table>\n",
       "<thead><tr><th></th><th scope=col>inf</th><th scope=col>est_value</th><th scope=col>sup</th></tr></thead>\n",
       "<tbody>\n",
       "\t<tr><th scope=row>FPR</th><td>0.64</td><td>0.78</td><td>0.93</td></tr>\n",
       "\t<tr><th scope=row>TPR</th><td>1.07</td><td>1.16</td><td>1.24</td></tr>\n",
       "</tbody>\n",
       "</table>\n"
      ],
      "text/latex": [
       "\\begin{tabular}{r|lll}\n",
       "  & inf & est\\_value & sup\\\\\n",
       "\\hline\n",
       "\tFPR & 0.64 & 0.78 & 0.93\\\\\n",
       "\tTPR & 1.07 & 1.16 & 1.24\\\\\n",
       "\\end{tabular}\n"
      ],
      "text/markdown": [
       "\n",
       "| <!--/--> | inf | est_value | sup |\n",
       "|---|---|---|---|\n",
       "| FPR | 0.64 | 0.78 | 0.93 |\n",
       "| TPR | 1.07 | 1.16 | 1.24 |\n",
       "\n"
      ],
      "text/plain": [
       "    inf  est_value sup \n",
       "FPR 0.64 0.78      0.93\n",
       "TPR 1.07 1.16      1.24"
      ]
     },
     "metadata": {},
     "output_type": "display_data"
    }
   ],
   "source": [
    "round(oddsEqual(daTestFM[,\"sex\"],daTestFM$income,as.factor(yHatFMrfDP)),2)"
   ]
  },
  {
   "cell_type": "markdown",
   "metadata": {},
   "source": [
    "Il n'est pas simple de comparer toutes ces quantités. Il apparaît néanmoins, en réumé, que\n",
    "- pour la **régression logistique** la plus élémentaire (linéaire) qui provoque le plus de discrimination,\n",
    "    - les taux de faux positifs (*FPR*) sont nettement en faveur des hommes contrairement aux taux de faux négatifs; \n",
    "    - il y a certes plus d'erreurs de prévision à leur encontre mais, c'est finalement à leur avantage avec proportionnellement plus de faux positifs. \n",
    "- pour le modèle associant deux **forêts aléatoires**, une par sexe, *FPR* et *TPR* prennent, conditionnellement au genre, des valeurs plus proches. Les *TPR* sont identiques et les *FPR* plus proches avec un rapport de 0.38 au lieu de 0.18.\n",
    "\n",
    "*Conclusion provisoire*: \n",
    "- Il est facile dans la commande ci-dessus de modifier le seuil de décision (0.35 au lieu de 0.5) pour les femmes. Cela a pour effet dans la section précédente de réduire significativement l'effet disproportionné mais l'effet sur la comparaison des taux de faux positifs est mineur.\n",
    "- En revanche l'association de deux modèles de RF qui élimine la discrimination mesurée par le *DI* mais conserve des taux d'erreur très différents, conduit à des FPR identiques selon le genre. A l'exception des taux d'erreur, les sources de discrimination de la décision algorithmique sont réduits voire éliminées mais sans pour autant corriger les biais de société."
   ]
  },
  {
   "cell_type": "markdown",
   "metadata": {},
   "source": [
    "## *Testing* et détection de discrimination individuelle\n",
    "###  Introduction\n",
    "La section précédente est focalisée sur une détection de la *discrimination de groupe*. Celle-ci n'est pas pratiquée en France ni même en Europe alors que plusieurs rapports dont celui de la commission Villani y font référence. Ce dernier demande la création d'un *discrimination impact assessment* pour aborder cette question mais sans apporter de précision ni faire référence à la pourtant abondante littérature du sujet.\n",
    "\n",
    "En revanche, la détection d'une *discrimination individuelle* est pratiquée de longue date (1939 pour les boîtes de nuit) en faisant appel à des expérimentations spécifiques dites de *testing*; consulter un [Historique](https://fr.wikipedia.org/wiki/Test_de_discrimination) à ce sujet. \n",
    "\n",
    "Les cours de justice acceptent le *testing* comme élément de preuve d'une discrimination à l'embauche depuis un [arrêté](https://www.juritravail.com/discrimination-physique/embauche/ph-alternative-A-1.html) de 2016 de la cours de cassation même si ce procédé peut être considéré comme déloyal.\n",
    "\n",
    "Le test de discrimination ou *testing* automatique est pratiqué en France de façon systématique pour des études sociologiques par l'[Observatoire des discriminations](http://www.observatoiredesdiscriminations.fr/testing), le laboratoire TEPP: [L'Horty et al. (2017)](http://www.tepp.eu/doc/users/268/bib/banque-et-assurance_9025.pdf), ou pilotée par la [DARES](http://dares.travail-emploi.gouv.fr/dares-etudes-et-statistiques/etudes-et-syntheses/dares-analyses-dares-indicateurs-dares-resultats/testing) du Ministère du Travail en lien avec l'association [ISM Corum](http://www.ismcorum.org/). Certains entreprises demandent d'ailleurs à ISM Corum de [tester leur mode de recrutement](http://www.ismcorum.org/le-testing-d-entreprise-%E2%80%93-temoignages-d-adecco-casino-lvmh-michael-page-M22-R22-A443.html).  L'observatoire des discriminations propose un [audit qualité](http://www.observatoiredesdiscriminations.fr/diagnostics-qualite) des procédures de recrutement et [Novethic](https://www.novethic.fr/lexique/detail/testing.html), filliale de la caisse des dépôts et consignation, donne des formations pour des entreprises \"éthiques\".\n",
    "\n",
    "L'objectif de cette section est d'expérimenté le *testing* sur la robustesse du modèle de prévision précédent. \n",
    "\n",
    "*Existe-t-il des personnes pour lesquelles le seul changement de genre ou d'origine a pour effet de changer la prévision du seuil de revenu `income` en leur défaveur?*\n",
    "\n",
    "Personnes qui seraient en droit d'entreprendre une action en justice dans le cas d'une décision impactante, crédit, emploi.... Elles apporteraient ainsi la preuve de leur discrimination.\n",
    "\n",
    "Le processus est simple, il suffit de modifier l'échantillon test en *échangeant les deux modalités de la variables sensible*. La variable cible (seuil de revenu) est ensuite reprédite en utilisant le même modèle initial. \n",
    "\n",
    "Evidemment, comme pour l'estimation du *disparate impact*, il est nécessaire de disposer de la variable sensible (genre ou origine) pour pouvoir opérer du *testing* automatique.\n",
    "\n",
    "\n",
    "### Personnes discriminées selon leur genre"
   ]
  },
  {
   "cell_type": "code",
   "execution_count": 47,
   "metadata": {
    "ExecuteTime": {
     "end_time": "2019-06-26T10:27:13.731504Z",
     "start_time": "2019-06-26T10:27:13.701Z"
    }
   },
   "outputs": [],
   "source": [
    "daTest2=daTest\n",
    "# Changement de genre\n",
    "daTest2$sex=as.factor(ifelse(daTest$sex==\"Male\",\"Female\",\"Male\"))\n",
    "# Prévision du \"nouvel\" échantillon test\n",
    "pred2.log=predict(log.lm,daTest2,type=\"response\")"
   ]
  },
  {
   "cell_type": "code",
   "execution_count": 50,
   "metadata": {
    "ExecuteTime": {
     "end_time": "2019-06-26T10:28:13.502591Z",
     "start_time": "2019-06-26T10:28:13.475Z"
    }
   },
   "outputs": [
    {
     "data": {
      "text/plain": [
       "       \n",
       "        FALSE TRUE\n",
       "  FALSE  1684  155\n",
       "  TRUE     23 7081"
      ]
     },
     "metadata": {},
     "output_type": "display_data"
    }
   ],
   "source": [
    "table(pred.log<0.5,pred2.log<0.5)"
   ]
  },
  {
   "cell_type": "markdown",
   "metadata": {},
   "source": [
    "Même chose mais répartition par genre."
   ]
  },
  {
   "cell_type": "code",
   "execution_count": 51,
   "metadata": {
    "ExecuteTime": {
     "end_time": "2019-06-26T10:28:32.567666Z",
     "start_time": "2019-06-26T10:28:32.538Z"
    }
   },
   "outputs": [
    {
     "data": {
      "text/plain": [
       ", ,  = Female\n",
       "\n",
       "       \n",
       "        FALSE TRUE\n",
       "  FALSE   195    0\n",
       "  TRUE     23 2679\n",
       "\n",
       ", ,  = Male\n",
       "\n",
       "       \n",
       "        FALSE TRUE\n",
       "  FALSE  1489  155\n",
       "  TRUE      0 4402\n"
      ]
     },
     "metadata": {},
     "output_type": "display_data"
    }
   ],
   "source": [
    "table(pred.log<0.5,pred2.log<0.5,daTest$sex)"
   ]
  },
  {
   "cell_type": "markdown",
   "metadata": {},
   "source": [
    "**N.B.** Il y a 178 personnes dont la prévision de revenu change lorsqu'elles changent de genre. Et le changement est dans le sens attendu.\n",
    "- 23 femmes passent d'une prévision de revenu faible à une prévision de revenu élevé\n",
    "- 155 hommes prennnent le chemin inverse  lorsqu'ils deviennent des femmes; ces hommes bénificient donc d'une discrimination positive."
   ]
  },
  {
   "cell_type": "markdown",
   "metadata": {},
   "source": [
    "### Personnes discriminées selon leur origine\n",
    "Mêmes calculs vis-à-vis de la variable sensible origine."
   ]
  },
  {
   "cell_type": "code",
   "execution_count": 91,
   "metadata": {},
   "outputs": [],
   "source": [
    "daTest3=daTest\n",
    "daTest3$origEthn=as.factor(ifelse(daTest$origEthn==\"CaucYes\",\"CaucNo\",\"CaucYes\"))\n",
    "# Prévision du \"nouvel\" échantillon test\n",
    "pred3.log=predict(log.lm,newdata=daTest3,type=\"response\")"
   ]
  },
  {
   "cell_type": "markdown",
   "metadata": {},
   "source": [
    "Comme pour la discrimination selon le genre, la détection de personnes discriminées selon leur origine est nette. Les prévisions de seuil de revenu de 160 personnes sont affectées par le changement d'origine.\n",
    "- 15 sont discriminées par leur origine\n",
    "- 177 bénéficient d'une discrimination positive"
   ]
  },
  {
   "cell_type": "code",
   "execution_count": 92,
   "metadata": {},
   "outputs": [
    {
     "data": {
      "text/plain": [
       "       \n",
       "        FALSE TRUE\n",
       "  FALSE  1662  177\n",
       "  TRUE     15 7089"
      ]
     },
     "metadata": {},
     "output_type": "display_data"
    }
   ],
   "source": [
    "table(pred.log<0.5,pred3.log<0.5)"
   ]
  },
  {
   "cell_type": "code",
   "execution_count": 93,
   "metadata": {},
   "outputs": [
    {
     "data": {
      "text/plain": [
       ", ,  = CaucNo\n",
       "\n",
       "       \n",
       "        FALSE TRUE\n",
       "  FALSE   147    0\n",
       "  TRUE     15 1109\n",
       "\n",
       ", ,  = CaucYes\n",
       "\n",
       "       \n",
       "        FALSE TRUE\n",
       "  FALSE  1515  177\n",
       "  TRUE      0 5980\n"
      ]
     },
     "metadata": {},
     "output_type": "display_data"
    }
   ],
   "source": [
    "table(pred.log<0.5,pred3.log<0.5,daTest$origEthn)"
   ]
  },
  {
   "cell_type": "markdown",
   "metadata": {},
   "source": [
    "### *Testing* et prévision \"déloyale\" \n",
    "Une façon simple pour une entreprise de se prémunir contre une opération de *testing* consiste à fixer comme probablité prédite le maximum des deux probablités obtenues en échangeant les modalités de la variable sensible. De façon générale, choisir la situation la plus favorable pour la personne quelque soit le genre (resp. l'origine) observé. La discrimination individuelle repérable par *testing* est neutralisée et l'influence sur le taux d'erreur quasi négligeable. \n",
    "\n",
    "#### Genre"
   ]
  },
  {
   "cell_type": "code",
   "execution_count": 94,
   "metadata": {},
   "outputs": [
    {
     "data": {
      "text/plain": [
       "       \n",
       "        incB incH\n",
       "  FALSE 6145  936\n",
       "  TRUE   535 1327"
      ]
     },
     "metadata": {},
     "output_type": "display_data"
    },
    {
     "data": {
      "text/html": [
       "16.45"
      ],
      "text/latex": [
       "16.45"
      ],
      "text/markdown": [
       "16.45"
      ],
      "text/plain": [
       "[1] 16.45"
      ]
     },
     "metadata": {},
     "output_type": "display_data"
    }
   ],
   "source": [
    "fairPredictGenre=ifelse(pred.log<pred2.log,pred2.log,pred.log)\n",
    "confMat=table(fairPredictGenre>0.5,daTest$income)\n",
    "confMat;tauxErr(confMat)"
   ]
  },
  {
   "cell_type": "code",
   "execution_count": 95,
   "metadata": {},
   "outputs": [
    {
     "data": {
      "text/html": [
       "<ol class=list-inline>\n",
       "\t<li>0.212</li>\n",
       "\t<li>0.248</li>\n",
       "\t<li>0.283</li>\n",
       "</ol>\n"
      ],
      "text/latex": [
       "\\begin{enumerate*}\n",
       "\\item 0.212\n",
       "\\item 0.248\n",
       "\\item 0.283\n",
       "\\end{enumerate*}\n"
      ],
      "text/markdown": [
       "1. 0.212\n",
       "2. 0.248\n",
       "3. 0.283\n",
       "\n",
       "\n"
      ],
      "text/plain": [
       "[1] 0.212 0.248 0.283"
      ]
     },
     "metadata": {},
     "output_type": "display_data"
    },
    {
     "data": {
      "text/html": [
       "<ol class=list-inline>\n",
       "\t<li>0.24</li>\n",
       "\t<li>0.277</li>\n",
       "\t<li>0.314</li>\n",
       "</ol>\n"
      ],
      "text/latex": [
       "\\begin{enumerate*}\n",
       "\\item 0.24\n",
       "\\item 0.277\n",
       "\\item 0.314\n",
       "\\end{enumerate*}\n"
      ],
      "text/markdown": [
       "1. 0.24\n",
       "2. 0.277\n",
       "3. 0.314\n",
       "\n",
       "\n"
      ],
      "text/plain": [
       "[1] 0.240 0.277 0.314"
      ]
     },
     "metadata": {},
     "output_type": "display_data"
    }
   ],
   "source": [
    "round(dispImp(daTest$sex,as.factor(pred.log>0.5)),3)\n",
    "round(dispImp(daTest$sex,as.factor(fairPredictGenre>0.5)),3)"
   ]
  },
  {
   "cell_type": "markdown",
   "metadata": {},
   "source": [
    "La correction par *testing* réduit un peu le biais mais de façon insuffisante pour réduire significativement la discrimination."
   ]
  },
  {
   "cell_type": "markdown",
   "metadata": {},
   "source": [
    "#### Origine\n",
    "\n",
    "Des résulats simiulaires sont obtenus."
   ]
  },
  {
   "cell_type": "code",
   "execution_count": 96,
   "metadata": {},
   "outputs": [
    {
     "data": {
      "text/plain": [
       "       \n",
       "        incB incH\n",
       "  FALSE 6144  945\n",
       "  TRUE   536 1318"
      ]
     },
     "metadata": {},
     "output_type": "display_data"
    },
    {
     "data": {
      "text/html": [
       "16.56"
      ],
      "text/latex": [
       "16.56"
      ],
      "text/markdown": [
       "16.56"
      ],
      "text/plain": [
       "[1] 16.56"
      ]
     },
     "metadata": {},
     "output_type": "display_data"
    }
   ],
   "source": [
    "fairPredictOrig=ifelse(pred.log<pred3.log,pred3.log,pred.log)\n",
    "confMat=table(fairPredictOrig>0.5,daTest$income)\n",
    "confMat;tauxErr(confMat)"
   ]
  },
  {
   "cell_type": "code",
   "execution_count": 62,
   "metadata": {},
   "outputs": [
    {
     "data": {
      "text/html": [
       "<ol class=list-inline>\n",
       "\t<li>0.367</li>\n",
       "\t<li>0.444</li>\n",
       "\t<li>0.52</li>\n",
       "</ol>\n"
      ],
      "text/latex": [
       "\\begin{enumerate*}\n",
       "\\item 0.367\n",
       "\\item 0.444\n",
       "\\item 0.52\n",
       "\\end{enumerate*}\n"
      ],
      "text/markdown": [
       "1. 0.367\n",
       "2. 0.444\n",
       "3. 0.52\n",
       "\n",
       "\n"
      ],
      "text/plain": [
       "[1] 0.367 0.444 0.520"
      ]
     },
     "metadata": {},
     "output_type": "display_data"
    },
    {
     "data": {
      "text/html": [
       "<ol class=list-inline>\n",
       "\t<li>0.378</li>\n",
       "\t<li>0.454</li>\n",
       "\t<li>0.531</li>\n",
       "</ol>\n"
      ],
      "text/latex": [
       "\\begin{enumerate*}\n",
       "\\item 0.378\n",
       "\\item 0.454\n",
       "\\item 0.531\n",
       "\\end{enumerate*}\n"
      ],
      "text/markdown": [
       "1. 0.378\n",
       "2. 0.454\n",
       "3. 0.531\n",
       "\n",
       "\n"
      ],
      "text/plain": [
       "[1] 0.378 0.454 0.531"
      ]
     },
     "metadata": {},
     "output_type": "display_data"
    }
   ],
   "source": [
    "round(dispImp(daTest$origEthn,as.factor(pred.log>0.5)),3)\n",
    "round(dispImp(daTest$origEthn,as.factor(fairPredictGenre>0.5)),3)"
   ]
  },
  {
   "cell_type": "markdown",
   "metadata": {},
   "source": [
    "La correction qui rend la décision localement loyale c'est-à-dire en supprimant toute discrimination individuelle n'a qu'un impact très marginal sur l'erreur de prévision. De plus, cette \"correction\" du biais permet d'échapper à une poursuite juridique individuelle mais ne corrige globalement pas l'effet disproportioné et donc le biais de groupe. Cette correction est *factice* et pour le moins *déloyale*. "
   ]
  },
  {
   "cell_type": "markdown",
   "metadata": {},
   "source": [
    "## Conclusions\n",
    "1. Ces données de sondage présentent des biais sociologiques attenuds vis-à-vis des groupes de genre et d'origine ethnique. Le biais, mesuré par l'effet disproportionné (*Disparate impact* ou *DI*), est nettement plus marqué conditionnellement au genre.\n",
    "2. Une prévision du seuil avec un algorithme d'apprentissage reproduit voire amplifie ce biais: le *DI* décroît. C'est même statistiquement significatif pour pour le genre avec la régression logistique linéaire (sans interaction): intervalles de confiance du *DI* disjoints; c'est plus modéré pour l'origine. *Un modèle linéaire opère une discrimination conditionnellement au genre*. \n",
    "3. *Comme la précision, l'augmentation du biais dépend de l'algorithme opéré*. Sur ces points, les forêts aléatoires sont plus performantes que la régression logistique, sur-biaisent moins mais sont opaques à une interprétation. \n",
    "4. L'itération de la séparation aléatoire des échantillons apprentissage / test par validation croisée *Monte Carlo* révèle une instabilité importante de l'estimation du *DI*, même sur une relativement grosse base de données, mais confirme l'effet discriminatoire des algorithmes.\n",
    "5. La détection d'une discrimination individuelle par *testing* montre que peu de femmes ou de non-caucasiens pourraient se déclarer discriminés par la prévision et être donc en mesure, individuellement, de porter plainte. Cette mesure individuelle de la discrimination, est finalement assez annecdotique au regard de la mesure de discrimination de groupe; autrement dit, sur cet exemple, *une mesure individuelle de la discrimination par testing minimise son importance*. \n",
    "6. Corriger la prévision pour attribuer la prévision la plus favorable quel que soit la modalité sensible, permet à une entreprise ou administration d'échapper à une investigation par *testing* mais ne fait en rien décroîte le biais (accroître le *DI*) donc la discrimination de groupe. Ce serait une *pratique tout à fait déloyale, voire condamnable*.\n",
    "7. La suppression des variables sensibles de la prévision ne change rien aux points 2 et 3 précédents. C'est une *procédure naïve et inefficace pour corriger le *DI* donc un biais de groupe*.\n",
    "8. **Résultat important** à évaluer sur d'autres sources de données: une façon simple d'éviter des décisions discriminatoires, mais sans toucher au biais de société, consiste à opérer des algorithmes  *non linéaires* (arbre, forêt), *un pour chaque modalité* de la variable sensible.\n",
    "9. Les taux d'erreurs conditionnels aux variables sensibles sont assez différents; une estimation par intervalle de confiance serait bienvenue. *L'accroissement de l'erreur est dans ce cas au détriment de la classe majoritaire* et se retrouve pour tous les algorithmes linéaires ou non.\n",
    "10. Après l'effet disproportionné (*DI*) et les taux d'erreur conditionnels, il est important de considérer les éventuelles *asymétries des matrices de confusion conditionnelles* (*equality of odds*) aux variables sensibles. Le rapport des taux de faux positifs conditionnels ainsi que celui des taux de faux négatifs conditionnels témoignent de différences de traitement marqués relativement aux groupes. Pour la régression logistique, Les taux d'erreurs sont effectivement importants pour les hommes mais c'est finalement à leur avantage car le *taux de faux positifs est significativement plus important les concernant au contraire des taux de faux négatifs plus importants pour les femmes*. En cas d'erreur celle-ci est donc en moyenne au profit des hommes; ce phénomène est moins marqué conditionnellement à l'origine ethnique. \n",
    "11. **Suite**: Comme pour le *DI*, l'*association de deux algorihtmes non linéaires* (arbre ou forêt) ne corrige pas le biais sur les taux d'erreur mais semble le réduire sur les taux de faux positifs et faux négatifs conditionnels. \n",
    "12. En France, comme en Europe, il y a une part d'hypocrisie à interdire l'enregistrement d'une variable sensible. Certes, cela protège la confidentialité des personnes mais empêche aussi de mettre simplement en évidence biais et discriminations des traitements vis-à-vis d'un groupe ou des individus. \n",
    "13. Une pratique parfois jugée déloyale et qui consiste à adapter le seuil de décision de la prévision, le baisser pour le groupe à protéger, réduit significativement le biais pour le *rendre similaire à celui de la base d'entraînement*; il n'y a plus discrimination de groupe. La procédure qui consisterait à réduire plus le seuil pour corriger le biais de société revient à introduire une discrimination positive. Il s'agit d'un choix politique et non plus statistique. Dans ce cas, l'erreur de prévision se dégrade. D'autres corrections de biais en contrôlant l'erreur de prévision sont à considérer pour conduire à de l'*apprentissage loyal* et donc à une *IA éthique*. C'est l'objet d'un autre tutoriel en python."
   ]
  },
  {
   "cell_type": "markdown",
   "metadata": {},
   "source": [
    "## Références\n",
    "Barocas S., Selbst A. (2016). Big Data's Disparate Impact, *California Law Review*, 671.\n",
    "\n",
    "Besse P. ,del Barrio E., Gordaliza P., Loubes J.-M. (2018). Confidence Intervals for testing Disparate Impact in Fair Learning, [arXiv](https://arxiv.org/abs/1807.06362).\n",
    "\n",
    "Calders T., Verwer S. (2010). Three naive Bayes approaches for discrimination-free classification, Data Mining and Knowledge Discovery, 21 (2), pp 277–292.\n",
    "\n",
    "Friedler S., Scheidegger C., Venkatasubramanian S., Choudhary S., Hamilton E., Roth D. (2019). A comparative study of fairness-enhancing interventions in machine learning, Proceedings of the Conference on Fairness, Accountability, and Transparency.\n",
    "\n",
    "Verma S., Rubin J. (2018). [Fairness Definitions Explained](http://fairware.cs.umass.edu/papers/Verma.pdf),  ACM/IEEE International Workshop on Software Fairness."
   ]
  }
 ],
 "metadata": {
  "kernelspec": {
   "display_name": "R",
   "language": "R",
   "name": "ir"
  },
  "language_info": {
   "codemirror_mode": "r",
   "file_extension": ".r",
   "mimetype": "text/x-r-source",
   "name": "R",
   "pygments_lexer": "r",
   "version": "3.5.1"
  },
  "latex_envs": {
   "LaTeX_envs_menu_present": true,
   "autoclose": false,
   "autocomplete": true,
   "bibliofile": "biblio.bib",
   "cite_by": "apalike",
   "current_citInitial": 1,
   "eqLabelWithNumbers": true,
   "eqNumInitial": 1,
   "hotkeys": {
    "equation": "Ctrl-E",
    "itemize": "Ctrl-I"
   },
   "labels_anchors": false,
   "latex_user_defs": false,
   "report_style_numbering": false,
   "user_envs_cfg": false
  },
  "toc": {
   "base_numbering": 1,
   "nav_menu": {},
   "number_sections": true,
   "sideBar": true,
   "skip_h1_title": true,
   "title_cell": "Table of Contents",
   "title_sidebar": "Contents",
   "toc_cell": false,
   "toc_position": {
    "height": "calc(100% - 180px)",
    "left": "10px",
    "top": "150px",
    "width": "231.05px"
   },
   "toc_section_display": true,
   "toc_window_display": false
  }
 },
 "nbformat": 4,
 "nbformat_minor": 2
}
